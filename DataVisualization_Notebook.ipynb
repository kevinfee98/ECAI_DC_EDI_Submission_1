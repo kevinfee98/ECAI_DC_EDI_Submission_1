{
 "cells": [
  {
   "cell_type": "markdown",
   "id": "d908ba84",
   "metadata": {},
   "source": [
    "# Data Visualization Notebook\n"
   ]
  },
  {
   "cell_type": "markdown",
   "id": "675f316d",
   "metadata": {},
   "source": [
    "Version with all the topics"
   ]
  },
  {
   "cell_type": "code",
   "execution_count": null,
   "id": "ce274136",
   "metadata": {},
   "outputs": [],
   "source": [
    "%pip install pandas plotly kaleido imageio"
   ]
  },
  {
   "cell_type": "code",
   "execution_count": 33,
   "id": "479ab00c",
   "metadata": {},
   "outputs": [
    {
     "data": {
      "application/vnd.plotly.v1+json": {
       "config": {
        "plotlyServerURL": "https://plot.ly"
       },
       "data": [
        {
         "base": [
          "1994-01-01T00:00:00.000000000",
          "1995-01-01T00:00:00.000000000",
          "1997-01-01T00:00:00.000000000",
          "2001-01-01T00:00:00.000000000",
          "2007-01-01T00:00:00.000000000",
          "2008-01-01T00:00:00.000000000",
          "2010-01-01T00:00:00.000000000",
          "2012-01-01T00:00:00.000000000",
          "2014-01-01T00:00:00.000000000",
          "2016-01-01T00:00:00.000000000",
          "2017-01-01T00:00:00.000000000",
          "2024-01-01T00:00:00.000000000"
         ],
         "hovertemplate": "topic=Logic, Reasoning, and Knowledge<br>start=%{base}<br>finish=%{x}<br>count=%{y}<extra></extra>",
         "legendgroup": "Logic, Reasoning, and Knowledge",
         "marker": {
          "color": "#636EFA",
          "pattern": {
           "shape": ""
          }
         },
         "name": "Logic, Reasoning, and Knowledge",
         "orientation": "h",
         "showlegend": true,
         "textposition": "auto",
         "type": "bar",
         "x": [
          31536000000,
          31536000000,
          31536000000,
          31536000000,
          31536000000,
          31622400000,
          31536000000,
          31622400000,
          31536000000,
          31622400000,
          31536000000,
          31622400000
         ],
         "xaxis": "x",
         "y": {
          "bdata": "EhUFBgwPEDBKHgIC",
          "dtype": "i1"
         },
         "yaxis": "y"
        },
        {
         "base": [
          "1994-01-01T00:00:00.000000000",
          "2008-01-01T00:00:00.000000000",
          "2010-01-01T00:00:00.000000000",
          "2012-01-01T00:00:00.000000000",
          "2014-01-01T00:00:00.000000000",
          "2016-01-01T00:00:00.000000000",
          "2024-01-01T00:00:00.000000000"
         ],
         "hovertemplate": "topic=Machine Learning and Algorithms<br>start=%{base}<br>finish=%{x}<br>count=%{y}<extra></extra>",
         "legendgroup": "Machine Learning and Algorithms",
         "marker": {
          "color": "#EF553B",
          "pattern": {
           "shape": ""
          }
         },
         "name": "Machine Learning and Algorithms",
         "orientation": "h",
         "showlegend": true,
         "textposition": "auto",
         "type": "bar",
         "x": [
          31536000000,
          31622400000,
          31536000000,
          31622400000,
          31536000000,
          31622400000,
          31622400000
         ],
         "xaxis": "x",
         "y": {
          "bdata": "AgMEAwoDAg==",
          "dtype": "i1"
         },
         "yaxis": "y"
        },
        {
         "base": [
          "1994-01-01T00:00:00.000000000",
          "1995-01-01T00:00:00.000000000",
          "1997-01-01T00:00:00.000000000",
          "2001-01-01T00:00:00.000000000",
          "2007-01-01T00:00:00.000000000",
          "2008-01-01T00:00:00.000000000",
          "2009-01-01T00:00:00.000000000",
          "2010-01-01T00:00:00.000000000",
          "2011-01-01T00:00:00.000000000",
          "2012-01-01T00:00:00.000000000",
          "2014-01-01T00:00:00.000000000",
          "2016-01-01T00:00:00.000000000"
         ],
         "hovertemplate": "topic=Semantic Web and Ontologies<br>start=%{base}<br>finish=%{x}<br>count=%{y}<extra></extra>",
         "legendgroup": "Semantic Web and Ontologies",
         "marker": {
          "color": "#00CC96",
          "pattern": {
           "shape": ""
          }
         },
         "name": "Semantic Web and Ontologies",
         "orientation": "h",
         "showlegend": true,
         "textposition": "auto",
         "type": "bar",
         "x": [
          31536000000,
          31536000000,
          31536000000,
          31536000000,
          31536000000,
          31622400000,
          31536000000,
          31536000000,
          31536000000,
          31622400000,
          31536000000,
          31622400000
         ],
         "xaxis": "x",
         "y": {
          "bdata": "CwkCAgULBwkHIzET",
          "dtype": "i1"
         },
         "yaxis": "y"
        },
        {
         "base": [
          "1994-01-01T00:00:00.000000000",
          "1997-01-01T00:00:00.000000000",
          "2008-01-01T00:00:00.000000000",
          "2010-01-01T00:00:00.000000000",
          "2012-01-01T00:00:00.000000000",
          "2014-01-01T00:00:00.000000000",
          "2016-01-01T00:00:00.000000000",
          "2024-01-01T00:00:00.000000000"
         ],
         "hovertemplate": "topic=Natural Language Processing Techniques<br>start=%{base}<br>finish=%{x}<br>count=%{y}<extra></extra>",
         "legendgroup": "Natural Language Processing Techniques",
         "marker": {
          "color": "#AB63FA",
          "pattern": {
           "shape": ""
          }
         },
         "name": "Natural Language Processing Techniques",
         "orientation": "h",
         "showlegend": true,
         "textposition": "auto",
         "type": "bar",
         "x": [
          31536000000,
          31536000000,
          31622400000,
          31536000000,
          31622400000,
          31536000000,
          31622400000,
          31622400000
         ],
         "xaxis": "x",
         "y": {
          "bdata": "AgsEBA4IAwM=",
          "dtype": "i1"
         },
         "yaxis": "y"
        },
        {
         "base": [
          "1994-01-01T00:00:00.000000000",
          "2008-01-01T00:00:00.000000000",
          "2010-01-01T00:00:00.000000000",
          "2012-01-01T00:00:00.000000000",
          "2014-01-01T00:00:00.000000000"
         ],
         "hovertemplate": "topic=Advanced Algebra and Logic<br>start=%{base}<br>finish=%{x}<br>count=%{y}<extra></extra>",
         "legendgroup": "Advanced Algebra and Logic",
         "marker": {
          "color": "#FFA15A",
          "pattern": {
           "shape": ""
          }
         },
         "name": "Advanced Algebra and Logic",
         "orientation": "h",
         "showlegend": true,
         "textposition": "auto",
         "type": "bar",
         "x": [
          31536000000,
          31622400000,
          31536000000,
          31622400000,
          31536000000
         ],
         "xaxis": "x",
         "y": {
          "bdata": "AwICAwI=",
          "dtype": "i1"
         },
         "yaxis": "y"
        },
        {
         "base": [
          "1994-01-01T00:00:00.000000000",
          "2001-01-01T00:00:00.000000000",
          "2008-01-01T00:00:00.000000000",
          "2010-01-01T00:00:00.000000000",
          "2012-01-01T00:00:00.000000000",
          "2014-01-01T00:00:00.000000000",
          "2016-01-01T00:00:00.000000000"
         ],
         "hovertemplate": "topic=Distributed Constraint Optimization Problems and Algorithms<br>start=%{base}<br>finish=%{x}<br>count=%{y}<extra></extra>",
         "legendgroup": "Distributed Constraint Optimization Problems and Algorithms",
         "marker": {
          "color": "#19D3F3",
          "pattern": {
           "shape": ""
          }
         },
         "name": "Distributed Constraint Optimization Problems and Algorithms",
         "orientation": "h",
         "showlegend": true,
         "textposition": "auto",
         "type": "bar",
         "x": [
          31536000000,
          31536000000,
          31622400000,
          31536000000,
          31622400000,
          31536000000,
          31622400000
         ],
         "xaxis": "x",
         "y": {
          "bdata": "AwYGCSAdBw==",
          "dtype": "i1"
         },
         "yaxis": "y"
        },
        {
         "base": [
          "1994-01-01T00:00:00.000000000",
          "2008-01-01T00:00:00.000000000",
          "2010-01-01T00:00:00.000000000",
          "2012-01-01T00:00:00.000000000",
          "2014-01-01T00:00:00.000000000",
          "2016-01-01T00:00:00.000000000"
         ],
         "hovertemplate": "topic=Logic, programming, and type systems<br>start=%{base}<br>finish=%{x}<br>count=%{y}<extra></extra>",
         "legendgroup": "Logic, programming, and type systems",
         "marker": {
          "color": "#FF6692",
          "pattern": {
           "shape": ""
          }
         },
         "name": "Logic, programming, and type systems",
         "orientation": "h",
         "showlegend": true,
         "textposition": "auto",
         "type": "bar",
         "x": [
          31536000000,
          31622400000,
          31536000000,
          31622400000,
          31536000000,
          31622400000
         ],
         "xaxis": "x",
         "y": {
          "bdata": "BAIFBg0G",
          "dtype": "i1"
         },
         "yaxis": "y"
        },
        {
         "base": [
          "1994-01-01T00:00:00.000000000",
          "2008-01-01T00:00:00.000000000",
          "2010-01-01T00:00:00.000000000",
          "2012-01-01T00:00:00.000000000",
          "2014-01-01T00:00:00.000000000",
          "2016-01-01T00:00:00.000000000",
          "2024-01-01T00:00:00.000000000"
         ],
         "hovertemplate": "topic=Bayesian Modeling and Causal Inference<br>start=%{base}<br>finish=%{x}<br>count=%{y}<extra></extra>",
         "legendgroup": "Bayesian Modeling and Causal Inference",
         "marker": {
          "color": "#B6E880",
          "pattern": {
           "shape": ""
          }
         },
         "name": "Bayesian Modeling and Causal Inference",
         "orientation": "h",
         "showlegend": true,
         "textposition": "auto",
         "type": "bar",
         "x": [
          31536000000,
          31622400000,
          31536000000,
          31622400000,
          31536000000,
          31622400000,
          31622400000
         ],
         "xaxis": "x",
         "y": {
          "bdata": "AwMFCBkFBQ==",
          "dtype": "i1"
         },
         "yaxis": "y"
        },
        {
         "base": [
          "1994-01-01T00:00:00.000000000",
          "2008-01-01T00:00:00.000000000",
          "2010-01-01T00:00:00.000000000",
          "2012-01-01T00:00:00.000000000",
          "2014-01-01T00:00:00.000000000",
          "2016-01-01T00:00:00.000000000"
         ],
         "hovertemplate": "topic=Data Management and Algorithms<br>start=%{base}<br>finish=%{x}<br>count=%{y}<extra></extra>",
         "legendgroup": "Data Management and Algorithms",
         "marker": {
          "color": "#FF97FF",
          "pattern": {
           "shape": ""
          }
         },
         "name": "Data Management and Algorithms",
         "orientation": "h",
         "showlegend": true,
         "textposition": "auto",
         "type": "bar",
         "x": [
          31536000000,
          31622400000,
          31536000000,
          31622400000,
          31536000000,
          31622400000
         ],
         "xaxis": "x",
         "y": {
          "bdata": "AgMHDhsG",
          "dtype": "i1"
         },
         "yaxis": "y"
        },
        {
         "base": [
          "1994-01-01T00:00:00.000000000",
          "1995-01-01T00:00:00.000000000",
          "1997-01-01T00:00:00.000000000",
          "2001-01-01T00:00:00.000000000",
          "2008-01-01T00:00:00.000000000",
          "2012-01-01T00:00:00.000000000",
          "2014-01-01T00:00:00.000000000",
          "2016-01-01T00:00:00.000000000",
          "2024-01-01T00:00:00.000000000"
         ],
         "hovertemplate": "topic=AI-based Problem Solving and Planning<br>start=%{base}<br>finish=%{x}<br>count=%{y}<extra></extra>",
         "legendgroup": "AI-based Problem Solving and Planning",
         "marker": {
          "color": "#FECB52",
          "pattern": {
           "shape": ""
          }
         },
         "name": "AI-based Problem Solving and Planning",
         "orientation": "h",
         "showlegend": true,
         "textposition": "auto",
         "type": "bar",
         "x": [
          31536000000,
          31536000000,
          31536000000,
          31536000000,
          31622400000,
          31622400000,
          31536000000,
          31622400000,
          31622400000
         ],
         "xaxis": "x",
         "y": {
          "bdata": "BQgCCgsbIRIF",
          "dtype": "i1"
         },
         "yaxis": "y"
        },
        {
         "base": [
          "1994-01-01T00:00:00.000000000",
          "1995-01-01T00:00:00.000000000",
          "1997-01-01T00:00:00.000000000",
          "2001-01-01T00:00:00.000000000",
          "2007-01-01T00:00:00.000000000",
          "2008-01-01T00:00:00.000000000",
          "2010-01-01T00:00:00.000000000",
          "2012-01-01T00:00:00.000000000",
          "2014-01-01T00:00:00.000000000",
          "2016-01-01T00:00:00.000000000",
          "2017-01-01T00:00:00.000000000"
         ],
         "hovertemplate": "topic=Multi-Agent Systems and Negotiation<br>start=%{base}<br>finish=%{x}<br>count=%{y}<extra></extra>",
         "legendgroup": "Multi-Agent Systems and Negotiation",
         "marker": {
          "color": "#636EFA",
          "pattern": {
           "shape": ""
          }
         },
         "name": "Multi-Agent Systems and Negotiation",
         "orientation": "h",
         "showlegend": true,
         "textposition": "auto",
         "type": "bar",
         "x": [
          31536000000,
          31536000000,
          31536000000,
          31536000000,
          31536000000,
          31622400000,
          31536000000,
          31622400000,
          31536000000,
          31622400000,
          31536000000
         ],
         "xaxis": "x",
         "y": {
          "bdata": "AxUNBhQIBxUtFAM=",
          "dtype": "i1"
         },
         "yaxis": "y"
        },
        {
         "base": [
          "1995-01-01T00:00:00.000000000"
         ],
         "hovertemplate": "topic=Mobile Agent-Based Network Management<br>start=%{base}<br>finish=%{x}<br>count=%{y}<extra></extra>",
         "legendgroup": "Mobile Agent-Based Network Management",
         "marker": {
          "color": "#EF553B",
          "pattern": {
           "shape": ""
          }
         },
         "name": "Mobile Agent-Based Network Management",
         "orientation": "h",
         "showlegend": true,
         "textposition": "auto",
         "type": "bar",
         "x": [
          31536000000
         ],
         "xaxis": "x",
         "y": {
          "bdata": "Ag==",
          "dtype": "i1"
         },
         "yaxis": "y"
        },
        {
         "base": [
          "1995-01-01T00:00:00.000000000",
          "1997-01-01T00:00:00.000000000",
          "2001-01-01T00:00:00.000000000",
          "2008-01-01T00:00:00.000000000",
          "2010-01-01T00:00:00.000000000",
          "2012-01-01T00:00:00.000000000",
          "2014-01-01T00:00:00.000000000",
          "2016-01-01T00:00:00.000000000"
         ],
         "hovertemplate": "topic=Robotic Path Planning Algorithms<br>start=%{base}<br>finish=%{x}<br>count=%{y}<extra></extra>",
         "legendgroup": "Robotic Path Planning Algorithms",
         "marker": {
          "color": "#00CC96",
          "pattern": {
           "shape": ""
          }
         },
         "name": "Robotic Path Planning Algorithms",
         "orientation": "h",
         "showlegend": true,
         "textposition": "auto",
         "type": "bar",
         "x": [
          31536000000,
          31536000000,
          31536000000,
          31622400000,
          31536000000,
          31622400000,
          31536000000,
          31622400000
         ],
         "xaxis": "x",
         "y": {
          "bdata": "AgMFAgICAwY=",
          "dtype": "i1"
         },
         "yaxis": "y"
        },
        {
         "base": [
          "1997-01-01T00:00:00.000000000"
         ],
         "hovertemplate": "topic=Language and cultural evolution<br>start=%{base}<br>finish=%{x}<br>count=%{y}<extra></extra>",
         "legendgroup": "Language and cultural evolution",
         "marker": {
          "color": "#AB63FA",
          "pattern": {
           "shape": ""
          }
         },
         "name": "Language and cultural evolution",
         "orientation": "h",
         "showlegend": true,
         "textposition": "auto",
         "type": "bar",
         "x": [
          31536000000
         ],
         "xaxis": "x",
         "y": {
          "bdata": "Ag==",
          "dtype": "i1"
         },
         "yaxis": "y"
        },
        {
         "base": [
          "1997-01-01T00:00:00.000000000",
          "2014-01-01T00:00:00.000000000",
          "2016-01-01T00:00:00.000000000"
         ],
         "hovertemplate": "topic=Evolutionary Game Theory and Cooperation<br>start=%{base}<br>finish=%{x}<br>count=%{y}<extra></extra>",
         "legendgroup": "Evolutionary Game Theory and Cooperation",
         "marker": {
          "color": "#FFA15A",
          "pattern": {
           "shape": ""
          }
         },
         "name": "Evolutionary Game Theory and Cooperation",
         "orientation": "h",
         "showlegend": true,
         "textposition": "auto",
         "type": "bar",
         "x": [
          31536000000,
          31536000000,
          31622400000
         ],
         "xaxis": "x",
         "y": {
          "bdata": "AgQD",
          "dtype": "i1"
         },
         "yaxis": "y"
        },
        {
         "base": [
          "1997-01-01T00:00:00.000000000",
          "2008-01-01T00:00:00.000000000",
          "2012-01-01T00:00:00.000000000",
          "2014-01-01T00:00:00.000000000",
          "2016-01-01T00:00:00.000000000"
         ],
         "hovertemplate": "topic=Advanced Database Systems and Queries<br>start=%{base}<br>finish=%{x}<br>count=%{y}<extra></extra>",
         "legendgroup": "Advanced Database Systems and Queries",
         "marker": {
          "color": "#19D3F3",
          "pattern": {
           "shape": ""
          }
         },
         "name": "Advanced Database Systems and Queries",
         "orientation": "h",
         "showlegend": true,
         "textposition": "auto",
         "type": "bar",
         "x": [
          31536000000,
          31622400000,
          31622400000,
          31536000000,
          31622400000
         ],
         "xaxis": "x",
         "y": {
          "bdata": "AgIJDQg=",
          "dtype": "i1"
         },
         "yaxis": "y"
        },
        {
         "base": [
          "1997-01-01T00:00:00.000000000",
          "2008-01-01T00:00:00.000000000",
          "2010-01-01T00:00:00.000000000",
          "2012-01-01T00:00:00.000000000",
          "2014-01-01T00:00:00.000000000",
          "2016-01-01T00:00:00.000000000",
          "2024-01-01T00:00:00.000000000"
         ],
         "hovertemplate": "topic=Topic Modeling<br>start=%{base}<br>finish=%{x}<br>count=%{y}<extra></extra>",
         "legendgroup": "Topic Modeling",
         "marker": {
          "color": "#FF6692",
          "pattern": {
           "shape": ""
          }
         },
         "name": "Topic Modeling",
         "orientation": "h",
         "showlegend": true,
         "textposition": "auto",
         "type": "bar",
         "x": [
          31536000000,
          31622400000,
          31536000000,
          31622400000,
          31536000000,
          31622400000,
          31622400000
         ],
         "xaxis": "x",
         "y": {
          "bdata": "BwQDCgkICQ==",
          "dtype": "i1"
         },
         "yaxis": "y"
        },
        {
         "base": [
          "1997-01-01T00:00:00.000000000",
          "2007-01-01T00:00:00.000000000",
          "2008-01-01T00:00:00.000000000",
          "2010-01-01T00:00:00.000000000",
          "2012-01-01T00:00:00.000000000",
          "2014-01-01T00:00:00.000000000",
          "2016-01-01T00:00:00.000000000"
         ],
         "hovertemplate": "topic=Auction Theory and Applications<br>start=%{base}<br>finish=%{x}<br>count=%{y}<extra></extra>",
         "legendgroup": "Auction Theory and Applications",
         "marker": {
          "color": "#B6E880",
          "pattern": {
           "shape": ""
          }
         },
         "name": "Auction Theory and Applications",
         "orientation": "h",
         "showlegend": true,
         "textposition": "auto",
         "type": "bar",
         "x": [
          31536000000,
          31536000000,
          31622400000,
          31536000000,
          31622400000,
          31536000000,
          31622400000
         ],
         "xaxis": "x",
         "y": {
          "bdata": "AgQEChUUDw==",
          "dtype": "i1"
         },
         "yaxis": "y"
        },
        {
         "base": [
          "1997-01-01T00:00:00.000000000",
          "2001-01-01T00:00:00.000000000"
         ],
         "hovertemplate": "topic=Distributed Multi-Agent Coordination and Control<br>start=%{base}<br>finish=%{x}<br>count=%{y}<extra></extra>",
         "legendgroup": "Distributed Multi-Agent Coordination and Control",
         "marker": {
          "color": "#FF97FF",
          "pattern": {
           "shape": ""
          }
         },
         "name": "Distributed Multi-Agent Coordination and Control",
         "orientation": "h",
         "showlegend": true,
         "textposition": "auto",
         "type": "bar",
         "x": [
          31536000000,
          31536000000
         ],
         "xaxis": "x",
         "y": {
          "bdata": "AgI=",
          "dtype": "i1"
         },
         "yaxis": "y"
        },
        {
         "base": [
          "1997-01-01T00:00:00.000000000",
          "2001-01-01T00:00:00.000000000",
          "2012-01-01T00:00:00.000000000",
          "2014-01-01T00:00:00.000000000",
          "2016-01-01T00:00:00.000000000"
         ],
         "hovertemplate": "topic=Evolutionary Algorithms and Applications<br>start=%{base}<br>finish=%{x}<br>count=%{y}<extra></extra>",
         "legendgroup": "Evolutionary Algorithms and Applications",
         "marker": {
          "color": "#FECB52",
          "pattern": {
           "shape": ""
          }
         },
         "name": "Evolutionary Algorithms and Applications",
         "orientation": "h",
         "showlegend": true,
         "textposition": "auto",
         "type": "bar",
         "x": [
          31536000000,
          31536000000,
          31622400000,
          31536000000,
          31622400000
         ],
         "xaxis": "x",
         "y": {
          "bdata": "AwIEAwM=",
          "dtype": "i1"
         },
         "yaxis": "y"
        },
        {
         "base": [
          "1997-01-01T00:00:00.000000000"
         ],
         "hovertemplate": "topic=Language, Discourse, Communication Strategies<br>start=%{base}<br>finish=%{x}<br>count=%{y}<extra></extra>",
         "legendgroup": "Language, Discourse, Communication Strategies",
         "marker": {
          "color": "#636EFA",
          "pattern": {
           "shape": ""
          }
         },
         "name": "Language, Discourse, Communication Strategies",
         "orientation": "h",
         "showlegend": true,
         "textposition": "auto",
         "type": "bar",
         "x": [
          31536000000
         ],
         "xaxis": "x",
         "y": {
          "bdata": "Ag==",
          "dtype": "i1"
         },
         "yaxis": "y"
        },
        {
         "base": [
          "1997-01-01T00:00:00.000000000",
          "2012-01-01T00:00:00.000000000",
          "2014-01-01T00:00:00.000000000"
         ],
         "hovertemplate": "topic=Speech and dialogue systems<br>start=%{base}<br>finish=%{x}<br>count=%{y}<extra></extra>",
         "legendgroup": "Speech and dialogue systems",
         "marker": {
          "color": "#EF553B",
          "pattern": {
           "shape": ""
          }
         },
         "name": "Speech and dialogue systems",
         "orientation": "h",
         "showlegend": true,
         "textposition": "auto",
         "type": "bar",
         "x": [
          31536000000,
          31622400000,
          31536000000
         ],
         "xaxis": "x",
         "y": {
          "bdata": "EQUF",
          "dtype": "i1"
         },
         "yaxis": "y"
        },
        {
         "base": [
          "1997-01-01T00:00:00.000000000"
         ],
         "hovertemplate": "topic=Syntax, Semantics, Linguistic Variation<br>start=%{base}<br>finish=%{x}<br>count=%{y}<extra></extra>",
         "legendgroup": "Syntax, Semantics, Linguistic Variation",
         "marker": {
          "color": "#00CC96",
          "pattern": {
           "shape": ""
          }
         },
         "name": "Syntax, Semantics, Linguistic Variation",
         "orientation": "h",
         "showlegend": true,
         "textposition": "auto",
         "type": "bar",
         "x": [
          31536000000
         ],
         "xaxis": "x",
         "y": {
          "bdata": "Ag==",
          "dtype": "i1"
         },
         "yaxis": "y"
        },
        {
         "base": [
          "1997-01-01T00:00:00.000000000",
          "2012-01-01T00:00:00.000000000",
          "2014-01-01T00:00:00.000000000",
          "2016-01-01T00:00:00.000000000"
         ],
         "hovertemplate": "topic=Artificial Intelligence in Games<br>start=%{base}<br>finish=%{x}<br>count=%{y}<extra></extra>",
         "legendgroup": "Artificial Intelligence in Games",
         "marker": {
          "color": "#AB63FA",
          "pattern": {
           "shape": ""
          }
         },
         "name": "Artificial Intelligence in Games",
         "orientation": "h",
         "showlegend": true,
         "textposition": "auto",
         "type": "bar",
         "x": [
          31536000000,
          31622400000,
          31536000000,
          31622400000
         ],
         "xaxis": "x",
         "y": {
          "bdata": "Ag0IBA==",
          "dtype": "i1"
         },
         "yaxis": "y"
        },
        {
         "base": [
          "1997-01-01T00:00:00.000000000",
          "2001-01-01T00:00:00.000000000",
          "2012-01-01T00:00:00.000000000",
          "2014-01-01T00:00:00.000000000",
          "2016-01-01T00:00:00.000000000",
          "2024-01-01T00:00:00.000000000"
         ],
         "hovertemplate": "topic=Reinforcement Learning in Robotics<br>start=%{base}<br>finish=%{x}<br>count=%{y}<extra></extra>",
         "legendgroup": "Reinforcement Learning in Robotics",
         "marker": {
          "color": "#FFA15A",
          "pattern": {
           "shape": ""
          }
         },
         "name": "Reinforcement Learning in Robotics",
         "orientation": "h",
         "showlegend": true,
         "textposition": "auto",
         "type": "bar",
         "x": [
          31536000000,
          31536000000,
          31622400000,
          31536000000,
          31622400000,
          31622400000
         ],
         "xaxis": "x",
         "y": {
          "bdata": "BAYMCwYC",
          "dtype": "i1"
         },
         "yaxis": "y"
        },
        {
         "base": [
          "2001-01-01T00:00:00.000000000",
          "2012-01-01T00:00:00.000000000",
          "2014-01-01T00:00:00.000000000"
         ],
         "hovertemplate": "topic=Vehicle Routing Optimization Methods<br>start=%{base}<br>finish=%{x}<br>count=%{y}<extra></extra>",
         "legendgroup": "Vehicle Routing Optimization Methods",
         "marker": {
          "color": "#19D3F3",
          "pattern": {
           "shape": ""
          }
         },
         "name": "Vehicle Routing Optimization Methods",
         "orientation": "h",
         "showlegend": true,
         "textposition": "auto",
         "type": "bar",
         "x": [
          31536000000,
          31622400000,
          31536000000
         ],
         "xaxis": "x",
         "y": {
          "bdata": "BAIC",
          "dtype": "i1"
         },
         "yaxis": "y"
        },
        {
         "base": [
          "2001-01-01T00:00:00.000000000",
          "2008-01-01T00:00:00.000000000",
          "2012-01-01T00:00:00.000000000",
          "2014-01-01T00:00:00.000000000",
          "2016-01-01T00:00:00.000000000"
         ],
         "hovertemplate": "topic=Optimization and Search Problems<br>start=%{base}<br>finish=%{x}<br>count=%{y}<extra></extra>",
         "legendgroup": "Optimization and Search Problems",
         "marker": {
          "color": "#FF6692",
          "pattern": {
           "shape": ""
          }
         },
         "name": "Optimization and Search Problems",
         "orientation": "h",
         "showlegend": true,
         "textposition": "auto",
         "type": "bar",
         "x": [
          31536000000,
          31622400000,
          31622400000,
          31536000000,
          31622400000
         ],
         "xaxis": "x",
         "y": {
          "bdata": "AgIGBAU=",
          "dtype": "i1"
         },
         "yaxis": "y"
        },
        {
         "base": [
          "2001-01-01T00:00:00.000000000",
          "2010-01-01T00:00:00.000000000",
          "2012-01-01T00:00:00.000000000",
          "2014-01-01T00:00:00.000000000",
          "2016-01-01T00:00:00.000000000"
         ],
         "hovertemplate": "topic=Model-Driven Software Engineering Techniques<br>start=%{base}<br>finish=%{x}<br>count=%{y}<extra></extra>",
         "legendgroup": "Model-Driven Software Engineering Techniques",
         "marker": {
          "color": "#B6E880",
          "pattern": {
           "shape": ""
          }
         },
         "name": "Model-Driven Software Engineering Techniques",
         "orientation": "h",
         "showlegend": true,
         "textposition": "auto",
         "type": "bar",
         "x": [
          31536000000,
          31536000000,
          31622400000,
          31536000000,
          31622400000
         ],
         "xaxis": "x",
         "y": {
          "bdata": "AgIFAwM=",
          "dtype": "i1"
         },
         "yaxis": "y"
        },
        {
         "base": [
          "2007-01-01T00:00:00.000000000",
          "2010-01-01T00:00:00.000000000",
          "2012-01-01T00:00:00.000000000",
          "2014-01-01T00:00:00.000000000",
          "2016-01-01T00:00:00.000000000"
         ],
         "hovertemplate": "topic=Game Theory and Applications<br>start=%{base}<br>finish=%{x}<br>count=%{y}<extra></extra>",
         "legendgroup": "Game Theory and Applications",
         "marker": {
          "color": "#FF97FF",
          "pattern": {
           "shape": ""
          }
         },
         "name": "Game Theory and Applications",
         "orientation": "h",
         "showlegend": true,
         "textposition": "auto",
         "type": "bar",
         "x": [
          31536000000,
          31536000000,
          31622400000,
          31536000000,
          31622400000
         ],
         "xaxis": "x",
         "y": {
          "bdata": "AgYKDgs=",
          "dtype": "i1"
         },
         "yaxis": "y"
        },
        {
         "base": [
          "2007-01-01T00:00:00.000000000",
          "2009-01-01T00:00:00.000000000",
          "2011-01-01T00:00:00.000000000",
          "2012-01-01T00:00:00.000000000",
          "2014-01-01T00:00:00.000000000",
          "2016-01-01T00:00:00.000000000"
         ],
         "hovertemplate": "topic=Business Process Modeling and Analysis<br>start=%{base}<br>finish=%{x}<br>count=%{y}<extra></extra>",
         "legendgroup": "Business Process Modeling and Analysis",
         "marker": {
          "color": "#FECB52",
          "pattern": {
           "shape": ""
          }
         },
         "name": "Business Process Modeling and Analysis",
         "orientation": "h",
         "showlegend": true,
         "textposition": "auto",
         "type": "bar",
         "x": [
          31536000000,
          31536000000,
          31536000000,
          31622400000,
          31536000000,
          31622400000
         ],
         "xaxis": "x",
         "y": {
          "bdata": "BQICBQUE",
          "dtype": "i1"
         },
         "yaxis": "y"
        },
        {
         "base": [
          "2007-01-01T00:00:00.000000000",
          "2008-01-01T00:00:00.000000000",
          "2010-01-01T00:00:00.000000000",
          "2014-01-01T00:00:00.000000000"
         ],
         "hovertemplate": "topic=Access Control and Trust<br>start=%{base}<br>finish=%{x}<br>count=%{y}<extra></extra>",
         "legendgroup": "Access Control and Trust",
         "marker": {
          "color": "#636EFA",
          "pattern": {
           "shape": ""
          }
         },
         "name": "Access Control and Trust",
         "orientation": "h",
         "showlegend": true,
         "textposition": "auto",
         "type": "bar",
         "x": [
          31536000000,
          31622400000,
          31536000000,
          31536000000
         ],
         "xaxis": "x",
         "y": {
          "bdata": "AwIDBQ==",
          "dtype": "i1"
         },
         "yaxis": "y"
        },
        {
         "base": [
          "2007-01-01T00:00:00.000000000",
          "2014-01-01T00:00:00.000000000"
         ],
         "hovertemplate": "topic=Peer-to-Peer Network Technologies<br>start=%{base}<br>finish=%{x}<br>count=%{y}<extra></extra>",
         "legendgroup": "Peer-to-Peer Network Technologies",
         "marker": {
          "color": "#EF553B",
          "pattern": {
           "shape": ""
          }
         },
         "name": "Peer-to-Peer Network Technologies",
         "orientation": "h",
         "showlegend": true,
         "textposition": "auto",
         "type": "bar",
         "x": [
          31536000000,
          31536000000
         ],
         "xaxis": "x",
         "y": {
          "bdata": "AgI=",
          "dtype": "i1"
         },
         "yaxis": "y"
        },
        {
         "base": [
          "2007-01-01T00:00:00.000000000",
          "2017-01-01T00:00:00.000000000"
         ],
         "hovertemplate": "topic=Complex Systems and Decision Making<br>start=%{base}<br>finish=%{x}<br>count=%{y}<extra></extra>",
         "legendgroup": "Complex Systems and Decision Making",
         "marker": {
          "color": "#00CC96",
          "pattern": {
           "shape": ""
          }
         },
         "name": "Complex Systems and Decision Making",
         "orientation": "h",
         "showlegend": true,
         "textposition": "auto",
         "type": "bar",
         "x": [
          31536000000,
          31536000000
         ],
         "xaxis": "x",
         "y": {
          "bdata": "AwI=",
          "dtype": "i1"
         },
         "yaxis": "y"
        },
        {
         "base": [
          "2008-01-01T00:00:00.000000000",
          "2012-01-01T00:00:00.000000000"
         ],
         "hovertemplate": "topic=Metaheuristic Optimization Algorithms Research<br>start=%{base}<br>finish=%{x}<br>count=%{y}<extra></extra>",
         "legendgroup": "Metaheuristic Optimization Algorithms Research",
         "marker": {
          "color": "#AB63FA",
          "pattern": {
           "shape": ""
          }
         },
         "name": "Metaheuristic Optimization Algorithms Research",
         "orientation": "h",
         "showlegend": true,
         "textposition": "auto",
         "type": "bar",
         "x": [
          31622400000,
          31622400000
         ],
         "xaxis": "x",
         "y": {
          "bdata": "AgM=",
          "dtype": "i1"
         },
         "yaxis": "y"
        },
        {
         "base": [
          "2008-01-01T00:00:00.000000000"
         ],
         "hovertemplate": "topic=Petri Nets in System Modeling<br>start=%{base}<br>finish=%{x}<br>count=%{y}<extra></extra>",
         "legendgroup": "Petri Nets in System Modeling",
         "marker": {
          "color": "#FFA15A",
          "pattern": {
           "shape": ""
          }
         },
         "name": "Petri Nets in System Modeling",
         "orientation": "h",
         "showlegend": true,
         "textposition": "auto",
         "type": "bar",
         "x": [
          31622400000
         ],
         "xaxis": "x",
         "y": {
          "bdata": "Ag==",
          "dtype": "i1"
         },
         "yaxis": "y"
        },
        {
         "base": [
          "2008-01-01T00:00:00.000000000",
          "2010-01-01T00:00:00.000000000",
          "2012-01-01T00:00:00.000000000",
          "2014-01-01T00:00:00.000000000",
          "2016-01-01T00:00:00.000000000"
         ],
         "hovertemplate": "topic=Game Theory and Voting Systems<br>start=%{base}<br>finish=%{x}<br>count=%{y}<extra></extra>",
         "legendgroup": "Game Theory and Voting Systems",
         "marker": {
          "color": "#19D3F3",
          "pattern": {
           "shape": ""
          }
         },
         "name": "Game Theory and Voting Systems",
         "orientation": "h",
         "showlegend": true,
         "textposition": "auto",
         "type": "bar",
         "x": [
          31622400000,
          31536000000,
          31622400000,
          31536000000,
          31622400000
         ],
         "xaxis": "x",
         "y": {
          "bdata": "AwYNEAg=",
          "dtype": "i1"
         },
         "yaxis": "y"
        },
        {
         "base": [
          "2008-01-01T00:00:00.000000000",
          "2012-01-01T00:00:00.000000000",
          "2014-01-01T00:00:00.000000000",
          "2016-01-01T00:00:00.000000000",
          "2024-01-01T00:00:00.000000000"
         ],
         "hovertemplate": "topic=Anomaly Detection Techniques and Applications<br>start=%{base}<br>finish=%{x}<br>count=%{y}<extra></extra>",
         "legendgroup": "Anomaly Detection Techniques and Applications",
         "marker": {
          "color": "#FF6692",
          "pattern": {
           "shape": ""
          }
         },
         "name": "Anomaly Detection Techniques and Applications",
         "orientation": "h",
         "showlegend": true,
         "textposition": "auto",
         "type": "bar",
         "x": [
          31622400000,
          31622400000,
          31536000000,
          31622400000,
          31622400000
         ],
         "xaxis": "x",
         "y": {
          "bdata": "AwMFBAM=",
          "dtype": "i1"
         },
         "yaxis": "y"
        },
        {
         "base": [
          "2008-01-01T00:00:00.000000000",
          "2012-01-01T00:00:00.000000000",
          "2014-01-01T00:00:00.000000000",
          "2016-01-01T00:00:00.000000000",
          "2024-01-01T00:00:00.000000000"
         ],
         "hovertemplate": "topic=Data Mining Algorithms and Applications<br>start=%{base}<br>finish=%{x}<br>count=%{y}<extra></extra>",
         "legendgroup": "Data Mining Algorithms and Applications",
         "marker": {
          "color": "#B6E880",
          "pattern": {
           "shape": ""
          }
         },
         "name": "Data Mining Algorithms and Applications",
         "orientation": "h",
         "showlegend": true,
         "textposition": "auto",
         "type": "bar",
         "x": [
          31622400000,
          31622400000,
          31536000000,
          31622400000,
          31622400000
         ],
         "xaxis": "x",
         "y": {
          "bdata": "AgMGAwI=",
          "dtype": "i1"
         },
         "yaxis": "y"
        },
        {
         "base": [
          "2008-01-01T00:00:00.000000000",
          "2010-01-01T00:00:00.000000000",
          "2012-01-01T00:00:00.000000000",
          "2014-01-01T00:00:00.000000000",
          "2016-01-01T00:00:00.000000000"
         ],
         "hovertemplate": "topic=Formal Methods in Verification<br>start=%{base}<br>finish=%{x}<br>count=%{y}<extra></extra>",
         "legendgroup": "Formal Methods in Verification",
         "marker": {
          "color": "#FF97FF",
          "pattern": {
           "shape": ""
          }
         },
         "name": "Formal Methods in Verification",
         "orientation": "h",
         "showlegend": true,
         "textposition": "auto",
         "type": "bar",
         "x": [
          31622400000,
          31536000000,
          31622400000,
          31536000000,
          31622400000
         ],
         "xaxis": "x",
         "y": {
          "bdata": "BQQOCwk=",
          "dtype": "i1"
         },
         "yaxis": "y"
        },
        {
         "base": [
          "2008-01-01T00:00:00.000000000",
          "2012-01-01T00:00:00.000000000",
          "2014-01-01T00:00:00.000000000",
          "2016-01-01T00:00:00.000000000"
         ],
         "hovertemplate": "topic=Rough Sets and Fuzzy Logic<br>start=%{base}<br>finish=%{x}<br>count=%{y}<extra></extra>",
         "legendgroup": "Rough Sets and Fuzzy Logic",
         "marker": {
          "color": "#FECB52",
          "pattern": {
           "shape": ""
          }
         },
         "name": "Rough Sets and Fuzzy Logic",
         "orientation": "h",
         "showlegend": true,
         "textposition": "auto",
         "type": "bar",
         "x": [
          31622400000,
          31622400000,
          31536000000,
          31622400000
         ],
         "xaxis": "x",
         "y": {
          "bdata": "AgYIAg==",
          "dtype": "i1"
         },
         "yaxis": "y"
        },
        {
         "base": [
          "2008-01-01T00:00:00.000000000",
          "2010-01-01T00:00:00.000000000",
          "2012-01-01T00:00:00.000000000",
          "2014-01-01T00:00:00.000000000",
          "2016-01-01T00:00:00.000000000",
          "2024-01-01T00:00:00.000000000"
         ],
         "hovertemplate": "topic=Machine Learning and Data Classification<br>start=%{base}<br>finish=%{x}<br>count=%{y}<extra></extra>",
         "legendgroup": "Machine Learning and Data Classification",
         "marker": {
          "color": "#636EFA",
          "pattern": {
           "shape": ""
          }
         },
         "name": "Machine Learning and Data Classification",
         "orientation": "h",
         "showlegend": true,
         "textposition": "auto",
         "type": "bar",
         "x": [
          31622400000,
          31536000000,
          31622400000,
          31536000000,
          31622400000,
          31622400000
         ],
         "xaxis": "x",
         "y": {
          "bdata": "BAMDBgMG",
          "dtype": "i1"
         },
         "yaxis": "y"
        },
        {
         "base": [
          "2009-01-01T00:00:00.000000000",
          "2011-01-01T00:00:00.000000000"
         ],
         "hovertemplate": "topic=Electronic Health Records Systems<br>start=%{base}<br>finish=%{x}<br>count=%{y}<extra></extra>",
         "legendgroup": "Electronic Health Records Systems",
         "marker": {
          "color": "#EF553B",
          "pattern": {
           "shape": ""
          }
         },
         "name": "Electronic Health Records Systems",
         "orientation": "h",
         "showlegend": true,
         "textposition": "auto",
         "type": "bar",
         "x": [
          31536000000,
          31536000000
         ],
         "xaxis": "x",
         "y": {
          "bdata": "BQM=",
          "dtype": "i1"
         },
         "yaxis": "y"
        },
        {
         "base": [
          "2009-01-01T00:00:00.000000000",
          "2010-01-01T00:00:00.000000000",
          "2011-01-01T00:00:00.000000000",
          "2012-01-01T00:00:00.000000000",
          "2014-01-01T00:00:00.000000000"
         ],
         "hovertemplate": "topic=Biomedical Text Mining and Ontologies<br>start=%{base}<br>finish=%{x}<br>count=%{y}<extra></extra>",
         "legendgroup": "Biomedical Text Mining and Ontologies",
         "marker": {
          "color": "#00CC96",
          "pattern": {
           "shape": ""
          }
         },
         "name": "Biomedical Text Mining and Ontologies",
         "orientation": "h",
         "showlegend": true,
         "textposition": "auto",
         "type": "bar",
         "x": [
          31536000000,
          31536000000,
          31536000000,
          31622400000,
          31536000000
         ],
         "xaxis": "x",
         "y": {
          "bdata": "BgIJBAM=",
          "dtype": "i1"
         },
         "yaxis": "y"
        },
        {
         "base": [
          "2009-01-01T00:00:00.000000000",
          "2011-01-01T00:00:00.000000000"
         ],
         "hovertemplate": "topic=Clinical practice guidelines implementation<br>start=%{base}<br>finish=%{x}<br>count=%{y}<extra></extra>",
         "legendgroup": "Clinical practice guidelines implementation",
         "marker": {
          "color": "#AB63FA",
          "pattern": {
           "shape": ""
          }
         },
         "name": "Clinical practice guidelines implementation",
         "orientation": "h",
         "showlegend": true,
         "textposition": "auto",
         "type": "bar",
         "x": [
          31536000000,
          31536000000
         ],
         "xaxis": "x",
         "y": {
          "bdata": "BAI=",
          "dtype": "i1"
         },
         "yaxis": "y"
        },
        {
         "base": [
          "2010-01-01T00:00:00.000000000",
          "2014-01-01T00:00:00.000000000"
         ],
         "hovertemplate": "topic=Gaussian Processes and Bayesian Inference<br>start=%{base}<br>finish=%{x}<br>count=%{y}<extra></extra>",
         "legendgroup": "Gaussian Processes and Bayesian Inference",
         "marker": {
          "color": "#FFA15A",
          "pattern": {
           "shape": ""
          }
         },
         "name": "Gaussian Processes and Bayesian Inference",
         "orientation": "h",
         "showlegend": true,
         "textposition": "auto",
         "type": "bar",
         "x": [
          31536000000,
          31536000000
         ],
         "xaxis": "x",
         "y": {
          "bdata": "AgI=",
          "dtype": "i1"
         },
         "yaxis": "y"
        },
        {
         "base": [
          "2010-01-01T00:00:00.000000000",
          "2012-01-01T00:00:00.000000000"
         ],
         "hovertemplate": "topic=Geographic Information Systems Studies<br>start=%{base}<br>finish=%{x}<br>count=%{y}<extra></extra>",
         "legendgroup": "Geographic Information Systems Studies",
         "marker": {
          "color": "#19D3F3",
          "pattern": {
           "shape": ""
          }
         },
         "name": "Geographic Information Systems Studies",
         "orientation": "h",
         "showlegend": true,
         "textposition": "auto",
         "type": "bar",
         "x": [
          31536000000,
          31622400000
         ],
         "xaxis": "x",
         "y": {
          "bdata": "AgM=",
          "dtype": "i1"
         },
         "yaxis": "y"
        },
        {
         "base": [
          "2010-01-01T00:00:00.000000000",
          "2014-01-01T00:00:00.000000000",
          "2016-01-01T00:00:00.000000000",
          "2024-01-01T00:00:00.000000000"
         ],
         "hovertemplate": "topic=Adaptation to Concept Drift in Data Streams<br>start=%{base}<br>finish=%{x}<br>count=%{y}<extra></extra>",
         "legendgroup": "Adaptation to Concept Drift in Data Streams",
         "marker": {
          "color": "#FF6692",
          "pattern": {
           "shape": ""
          }
         },
         "name": "Adaptation to Concept Drift in Data Streams",
         "orientation": "h",
         "showlegend": true,
         "textposition": "auto",
         "type": "bar",
         "x": [
          31536000000,
          31536000000,
          31622400000,
          31622400000
         ],
         "xaxis": "x",
         "y": {
          "bdata": "AgUFAw==",
          "dtype": "i1"
         },
         "yaxis": "y"
        },
        {
         "base": [
          "2010-01-01T00:00:00.000000000",
          "2014-01-01T00:00:00.000000000",
          "2016-01-01T00:00:00.000000000"
         ],
         "hovertemplate": "topic=Advanced Text Analysis Techniques<br>start=%{base}<br>finish=%{x}<br>count=%{y}<extra></extra>",
         "legendgroup": "Advanced Text Analysis Techniques",
         "marker": {
          "color": "#B6E880",
          "pattern": {
           "shape": ""
          }
         },
         "name": "Advanced Text Analysis Techniques",
         "orientation": "h",
         "showlegend": true,
         "textposition": "auto",
         "type": "bar",
         "x": [
          31536000000,
          31536000000,
          31622400000
         ],
         "xaxis": "x",
         "y": {
          "bdata": "AwMF",
          "dtype": "i1"
         },
         "yaxis": "y"
        },
        {
         "base": [
          "2010-01-01T00:00:00.000000000",
          "2016-01-01T00:00:00.000000000"
         ],
         "hovertemplate": "topic=Neural Networks and Applications<br>start=%{base}<br>finish=%{x}<br>count=%{y}<extra></extra>",
         "legendgroup": "Neural Networks and Applications",
         "marker": {
          "color": "#FF97FF",
          "pattern": {
           "shape": ""
          }
         },
         "name": "Neural Networks and Applications",
         "orientation": "h",
         "showlegend": true,
         "textposition": "auto",
         "type": "bar",
         "x": [
          31536000000,
          31622400000
         ],
         "xaxis": "x",
         "y": {
          "bdata": "BAU=",
          "dtype": "i1"
         },
         "yaxis": "y"
        },
        {
         "base": [
          "2010-01-01T00:00:00.000000000",
          "2012-01-01T00:00:00.000000000",
          "2014-01-01T00:00:00.000000000",
          "2016-01-01T00:00:00.000000000"
         ],
         "hovertemplate": "topic=QoS-Aware Web Services Composition and Semantic Matching<br>start=%{base}<br>finish=%{x}<br>count=%{y}<extra></extra>",
         "legendgroup": "QoS-Aware Web Services Composition and Semantic Matching",
         "marker": {
          "color": "#FECB52",
          "pattern": {
           "shape": ""
          }
         },
         "name": "QoS-Aware Web Services Composition and Semantic Matching",
         "orientation": "h",
         "showlegend": true,
         "textposition": "auto",
         "type": "bar",
         "x": [
          31536000000,
          31622400000,
          31536000000,
          31622400000
         ],
         "xaxis": "x",
         "y": {
          "bdata": "AgQJAw==",
          "dtype": "i1"
         },
         "yaxis": "y"
        },
        {
         "base": [
          "2010-01-01T00:00:00.000000000"
         ],
         "hovertemplate": "topic=Software System Performance and Reliability<br>start=%{base}<br>finish=%{x}<br>count=%{y}<extra></extra>",
         "legendgroup": "Software System Performance and Reliability",
         "marker": {
          "color": "#636EFA",
          "pattern": {
           "shape": ""
          }
         },
         "name": "Software System Performance and Reliability",
         "orientation": "h",
         "showlegend": true,
         "textposition": "auto",
         "type": "bar",
         "x": [
          31536000000
         ],
         "xaxis": "x",
         "y": {
          "bdata": "Ag==",
          "dtype": "i1"
         },
         "yaxis": "y"
        },
        {
         "base": [
          "2010-01-01T00:00:00.000000000",
          "2014-01-01T00:00:00.000000000",
          "2024-01-01T00:00:00.000000000"
         ],
         "hovertemplate": "topic=Time Series Analysis and Forecasting<br>start=%{base}<br>finish=%{x}<br>count=%{y}<extra></extra>",
         "legendgroup": "Time Series Analysis and Forecasting",
         "marker": {
          "color": "#EF553B",
          "pattern": {
           "shape": ""
          }
         },
         "name": "Time Series Analysis and Forecasting",
         "orientation": "h",
         "showlegend": true,
         "textposition": "auto",
         "type": "bar",
         "x": [
          31536000000,
          31536000000,
          31622400000
         ],
         "xaxis": "x",
         "y": {
          "bdata": "AgcD",
          "dtype": "i1"
         },
         "yaxis": "y"
        },
        {
         "base": [
          "2010-01-01T00:00:00.000000000",
          "2012-01-01T00:00:00.000000000"
         ],
         "hovertemplate": "topic=Human-Automation Interaction and Safety<br>start=%{base}<br>finish=%{x}<br>count=%{y}<extra></extra>",
         "legendgroup": "Human-Automation Interaction and Safety",
         "marker": {
          "color": "#00CC96",
          "pattern": {
           "shape": ""
          }
         },
         "name": "Human-Automation Interaction and Safety",
         "orientation": "h",
         "showlegend": true,
         "textposition": "auto",
         "type": "bar",
         "x": [
          31536000000,
          31622400000
         ],
         "xaxis": "x",
         "y": {
          "bdata": "AgI=",
          "dtype": "i1"
         },
         "yaxis": "y"
        },
        {
         "base": [
          "2010-01-01T00:00:00.000000000",
          "2014-01-01T00:00:00.000000000",
          "2016-01-01T00:00:00.000000000"
         ],
         "hovertemplate": "topic=Complex Network Analysis Techniques<br>start=%{base}<br>finish=%{x}<br>count=%{y}<extra></extra>",
         "legendgroup": "Complex Network Analysis Techniques",
         "marker": {
          "color": "#AB63FA",
          "pattern": {
           "shape": ""
          }
         },
         "name": "Complex Network Analysis Techniques",
         "orientation": "h",
         "showlegend": true,
         "textposition": "auto",
         "type": "bar",
         "x": [
          31536000000,
          31536000000,
          31622400000
         ],
         "xaxis": "x",
         "y": {
          "bdata": "AgcG",
          "dtype": "i1"
         },
         "yaxis": "y"
        },
        {
         "base": [
          "2010-01-01T00:00:00.000000000"
         ],
         "hovertemplate": "topic=Supply Chain and Inventory Management<br>start=%{base}<br>finish=%{x}<br>count=%{y}<extra></extra>",
         "legendgroup": "Supply Chain and Inventory Management",
         "marker": {
          "color": "#FFA15A",
          "pattern": {
           "shape": ""
          }
         },
         "name": "Supply Chain and Inventory Management",
         "orientation": "h",
         "showlegend": true,
         "textposition": "auto",
         "type": "bar",
         "x": [
          31536000000
         ],
         "xaxis": "x",
         "y": {
          "bdata": "Ag==",
          "dtype": "i1"
         },
         "yaxis": "y"
        },
        {
         "base": [
          "2010-01-01T00:00:00.000000000"
         ],
         "hovertemplate": "topic=Caching and Content Delivery<br>start=%{base}<br>finish=%{x}<br>count=%{y}<extra></extra>",
         "legendgroup": "Caching and Content Delivery",
         "marker": {
          "color": "#19D3F3",
          "pattern": {
           "shape": ""
          }
         },
         "name": "Caching and Content Delivery",
         "orientation": "h",
         "showlegend": true,
         "textposition": "auto",
         "type": "bar",
         "x": [
          31536000000
         ],
         "xaxis": "x",
         "y": {
          "bdata": "Ag==",
          "dtype": "i1"
         },
         "yaxis": "y"
        },
        {
         "base": [
          "2011-01-01T00:00:00.000000000",
          "2014-01-01T00:00:00.000000000",
          "2016-01-01T00:00:00.000000000"
         ],
         "hovertemplate": "topic=Data Quality and Management<br>start=%{base}<br>finish=%{x}<br>count=%{y}<extra></extra>",
         "legendgroup": "Data Quality and Management",
         "marker": {
          "color": "#FF6692",
          "pattern": {
           "shape": ""
          }
         },
         "name": "Data Quality and Management",
         "orientation": "h",
         "showlegend": true,
         "textposition": "auto",
         "type": "bar",
         "x": [
          31536000000,
          31536000000,
          31622400000
         ],
         "xaxis": "x",
         "y": {
          "bdata": "AgQC",
          "dtype": "i1"
         },
         "yaxis": "y"
        },
        {
         "base": [
          "2012-01-01T00:00:00.000000000",
          "2014-01-01T00:00:00.000000000"
         ],
         "hovertemplate": "topic=Sports Analytics and Performance<br>start=%{base}<br>finish=%{x}<br>count=%{y}<extra></extra>",
         "legendgroup": "Sports Analytics and Performance",
         "marker": {
          "color": "#B6E880",
          "pattern": {
           "shape": ""
          }
         },
         "name": "Sports Analytics and Performance",
         "orientation": "h",
         "showlegend": true,
         "textposition": "auto",
         "type": "bar",
         "x": [
          31622400000,
          31536000000
         ],
         "xaxis": "x",
         "y": {
          "bdata": "AgM=",
          "dtype": "i1"
         },
         "yaxis": "y"
        },
        {
         "base": [
          "2012-01-01T00:00:00.000000000"
         ],
         "hovertemplate": "topic=Infrastructure Resilience and Vulnerability Analysis<br>start=%{base}<br>finish=%{x}<br>count=%{y}<extra></extra>",
         "legendgroup": "Infrastructure Resilience and Vulnerability Analysis",
         "marker": {
          "color": "#FF97FF",
          "pattern": {
           "shape": ""
          }
         },
         "name": "Infrastructure Resilience and Vulnerability Analysis",
         "orientation": "h",
         "showlegend": true,
         "textposition": "auto",
         "type": "bar",
         "x": [
          31622400000
         ],
         "xaxis": "x",
         "y": {
          "bdata": "Ag==",
          "dtype": "i1"
         },
         "yaxis": "y"
        },
        {
         "base": [
          "2012-01-01T00:00:00.000000000",
          "2016-01-01T00:00:00.000000000"
         ],
         "hovertemplate": "topic=Video Analysis and Summarization<br>start=%{base}<br>finish=%{x}<br>count=%{y}<extra></extra>",
         "legendgroup": "Video Analysis and Summarization",
         "marker": {
          "color": "#FECB52",
          "pattern": {
           "shape": ""
          }
         },
         "name": "Video Analysis and Summarization",
         "orientation": "h",
         "showlegend": true,
         "textposition": "auto",
         "type": "bar",
         "x": [
          31622400000,
          31622400000
         ],
         "xaxis": "x",
         "y": {
          "bdata": "AgM=",
          "dtype": "i1"
         },
         "yaxis": "y"
        },
        {
         "base": [
          "2012-01-01T00:00:00.000000000",
          "2024-01-01T00:00:00.000000000"
         ],
         "hovertemplate": "topic=Energy Load and Power Forecasting<br>start=%{base}<br>finish=%{x}<br>count=%{y}<extra></extra>",
         "legendgroup": "Energy Load and Power Forecasting",
         "marker": {
          "color": "#636EFA",
          "pattern": {
           "shape": ""
          }
         },
         "name": "Energy Load and Power Forecasting",
         "orientation": "h",
         "showlegend": true,
         "textposition": "auto",
         "type": "bar",
         "x": [
          31622400000,
          31622400000
         ],
         "xaxis": "x",
         "y": {
          "bdata": "AgI=",
          "dtype": "i1"
         },
         "yaxis": "y"
        },
        {
         "base": [
          "2012-01-01T00:00:00.000000000",
          "2014-01-01T00:00:00.000000000",
          "2016-01-01T00:00:00.000000000"
         ],
         "hovertemplate": "topic=Web Data Mining and Analysis<br>start=%{base}<br>finish=%{x}<br>count=%{y}<extra></extra>",
         "legendgroup": "Web Data Mining and Analysis",
         "marker": {
          "color": "#EF553B",
          "pattern": {
           "shape": ""
          }
         },
         "name": "Web Data Mining and Analysis",
         "orientation": "h",
         "showlegend": true,
         "textposition": "auto",
         "type": "bar",
         "x": [
          31622400000,
          31536000000,
          31622400000
         ],
         "xaxis": "x",
         "y": {
          "bdata": "AgID",
          "dtype": "i1"
         },
         "yaxis": "y"
        },
        {
         "base": [
          "2012-01-01T00:00:00.000000000"
         ],
         "hovertemplate": "topic=Advanced Graph Theory Research<br>start=%{base}<br>finish=%{x}<br>count=%{y}<extra></extra>",
         "legendgroup": "Advanced Graph Theory Research",
         "marker": {
          "color": "#00CC96",
          "pattern": {
           "shape": ""
          }
         },
         "name": "Advanced Graph Theory Research",
         "orientation": "h",
         "showlegend": true,
         "textposition": "auto",
         "type": "bar",
         "x": [
          31622400000
         ],
         "xaxis": "x",
         "y": {
          "bdata": "Ag==",
          "dtype": "i1"
         },
         "yaxis": "y"
        },
        {
         "base": [
          "2012-01-01T00:00:00.000000000",
          "2014-01-01T00:00:00.000000000",
          "2016-01-01T00:00:00.000000000"
         ],
         "hovertemplate": "topic=Internet Traffic Analysis and Secure E-voting<br>start=%{base}<br>finish=%{x}<br>count=%{y}<extra></extra>",
         "legendgroup": "Internet Traffic Analysis and Secure E-voting",
         "marker": {
          "color": "#AB63FA",
          "pattern": {
           "shape": ""
          }
         },
         "name": "Internet Traffic Analysis and Secure E-voting",
         "orientation": "h",
         "showlegend": true,
         "textposition": "auto",
         "type": "bar",
         "x": [
          31622400000,
          31536000000,
          31622400000
         ],
         "xaxis": "x",
         "y": {
          "bdata": "AgIC",
          "dtype": "i1"
         },
         "yaxis": "y"
        },
        {
         "base": [
          "2012-01-01T00:00:00.000000000"
         ],
         "hovertemplate": "topic=Scheduling and Optimization Algorithms<br>start=%{base}<br>finish=%{x}<br>count=%{y}<extra></extra>",
         "legendgroup": "Scheduling and Optimization Algorithms",
         "marker": {
          "color": "#FFA15A",
          "pattern": {
           "shape": ""
          }
         },
         "name": "Scheduling and Optimization Algorithms",
         "orientation": "h",
         "showlegend": true,
         "textposition": "auto",
         "type": "bar",
         "x": [
          31622400000
         ],
         "xaxis": "x",
         "y": {
          "bdata": "Aw==",
          "dtype": "i1"
         },
         "yaxis": "y"
        },
        {
         "base": [
          "2012-01-01T00:00:00.000000000",
          "2014-01-01T00:00:00.000000000"
         ],
         "hovertemplate": "topic=Algorithms and Data Compression<br>start=%{base}<br>finish=%{x}<br>count=%{y}<extra></extra>",
         "legendgroup": "Algorithms and Data Compression",
         "marker": {
          "color": "#19D3F3",
          "pattern": {
           "shape": ""
          }
         },
         "name": "Algorithms and Data Compression",
         "orientation": "h",
         "showlegend": true,
         "textposition": "auto",
         "type": "bar",
         "x": [
          31622400000,
          31536000000
         ],
         "xaxis": "x",
         "y": {
          "bdata": "AwM=",
          "dtype": "i1"
         },
         "yaxis": "y"
        },
        {
         "base": [
          "2012-01-01T00:00:00.000000000",
          "2014-01-01T00:00:00.000000000",
          "2016-01-01T00:00:00.000000000"
         ],
         "hovertemplate": "topic=Advanced Bandit Algorithms Research<br>start=%{base}<br>finish=%{x}<br>count=%{y}<extra></extra>",
         "legendgroup": "Advanced Bandit Algorithms Research",
         "marker": {
          "color": "#FF6692",
          "pattern": {
           "shape": ""
          }
         },
         "name": "Advanced Bandit Algorithms Research",
         "orientation": "h",
         "showlegend": true,
         "textposition": "auto",
         "type": "bar",
         "x": [
          31622400000,
          31536000000,
          31622400000
         ],
         "xaxis": "x",
         "y": {
          "bdata": "BAUE",
          "dtype": "i1"
         },
         "yaxis": "y"
        },
        {
         "base": [
          "2012-01-01T00:00:00.000000000",
          "2016-01-01T00:00:00.000000000"
         ],
         "hovertemplate": "topic=Text and Document Classification Technologies<br>start=%{base}<br>finish=%{x}<br>count=%{y}<extra></extra>",
         "legendgroup": "Text and Document Classification Technologies",
         "marker": {
          "color": "#B6E880",
          "pattern": {
           "shape": ""
          }
         },
         "name": "Text and Document Classification Technologies",
         "orientation": "h",
         "showlegend": true,
         "textposition": "auto",
         "type": "bar",
         "x": [
          31622400000,
          31622400000
         ],
         "xaxis": "x",
         "y": {
          "bdata": "AgM=",
          "dtype": "i1"
         },
         "yaxis": "y"
        },
        {
         "base": [
          "2012-01-01T00:00:00.000000000",
          "2016-01-01T00:00:00.000000000"
         ],
         "hovertemplate": "topic=Gait Recognition and Analysis<br>start=%{base}<br>finish=%{x}<br>count=%{y}<extra></extra>",
         "legendgroup": "Gait Recognition and Analysis",
         "marker": {
          "color": "#FF97FF",
          "pattern": {
           "shape": ""
          }
         },
         "name": "Gait Recognition and Analysis",
         "orientation": "h",
         "showlegend": true,
         "textposition": "auto",
         "type": "bar",
         "x": [
          31622400000,
          31622400000
         ],
         "xaxis": "x",
         "y": {
          "bdata": "AgI=",
          "dtype": "i1"
         },
         "yaxis": "y"
        },
        {
         "base": [
          "2012-01-01T00:00:00.000000000",
          "2014-01-01T00:00:00.000000000"
         ],
         "hovertemplate": "topic=Software Reliability and Analysis Research<br>start=%{base}<br>finish=%{x}<br>count=%{y}<extra></extra>",
         "legendgroup": "Software Reliability and Analysis Research",
         "marker": {
          "color": "#FECB52",
          "pattern": {
           "shape": ""
          }
         },
         "name": "Software Reliability and Analysis Research",
         "orientation": "h",
         "showlegend": true,
         "textposition": "auto",
         "type": "bar",
         "x": [
          31622400000,
          31536000000
         ],
         "xaxis": "x",
         "y": {
          "bdata": "AwM=",
          "dtype": "i1"
         },
         "yaxis": "y"
        },
        {
         "base": [
          "2012-01-01T00:00:00.000000000"
         ],
         "hovertemplate": "topic=Electric Power System Optimization<br>start=%{base}<br>finish=%{x}<br>count=%{y}<extra></extra>",
         "legendgroup": "Electric Power System Optimization",
         "marker": {
          "color": "#636EFA",
          "pattern": {
           "shape": ""
          }
         },
         "name": "Electric Power System Optimization",
         "orientation": "h",
         "showlegend": true,
         "textposition": "auto",
         "type": "bar",
         "x": [
          31622400000
         ],
         "xaxis": "x",
         "y": {
          "bdata": "Ag==",
          "dtype": "i1"
         },
         "yaxis": "y"
        },
        {
         "base": [
          "2012-01-01T00:00:00.000000000"
         ],
         "hovertemplate": "topic=Combinatorial Optimization and Complexity Theory<br>start=%{base}<br>finish=%{x}<br>count=%{y}<extra></extra>",
         "legendgroup": "Combinatorial Optimization and Complexity Theory",
         "marker": {
          "color": "#EF553B",
          "pattern": {
           "shape": ""
          }
         },
         "name": "Combinatorial Optimization and Complexity Theory",
         "orientation": "h",
         "showlegend": true,
         "textposition": "auto",
         "type": "bar",
         "x": [
          31622400000
         ],
         "xaxis": "x",
         "y": {
          "bdata": "Aw==",
          "dtype": "i1"
         },
         "yaxis": "y"
        },
        {
         "base": [
          "2012-01-01T00:00:00.000000000",
          "2014-01-01T00:00:00.000000000",
          "2024-01-01T00:00:00.000000000"
         ],
         "hovertemplate": "topic=Software Engineering Research<br>start=%{base}<br>finish=%{x}<br>count=%{y}<extra></extra>",
         "legendgroup": "Software Engineering Research",
         "marker": {
          "color": "#00CC96",
          "pattern": {
           "shape": ""
          }
         },
         "name": "Software Engineering Research",
         "orientation": "h",
         "showlegend": true,
         "textposition": "auto",
         "type": "bar",
         "x": [
          31622400000,
          31536000000,
          31622400000
         ],
         "xaxis": "x",
         "y": {
          "bdata": "AgMF",
          "dtype": "i1"
         },
         "yaxis": "y"
        },
        {
         "base": [
          "2012-01-01T00:00:00.000000000"
         ],
         "hovertemplate": "topic=Cognitive Science and Mapping<br>start=%{base}<br>finish=%{x}<br>count=%{y}<extra></extra>",
         "legendgroup": "Cognitive Science and Mapping",
         "marker": {
          "color": "#AB63FA",
          "pattern": {
           "shape": ""
          }
         },
         "name": "Cognitive Science and Mapping",
         "orientation": "h",
         "showlegend": true,
         "textposition": "auto",
         "type": "bar",
         "x": [
          31622400000
         ],
         "xaxis": "x",
         "y": {
          "bdata": "Ag==",
          "dtype": "i1"
         },
         "yaxis": "y"
        },
        {
         "base": [
          "2012-01-01T00:00:00.000000000",
          "2014-01-01T00:00:00.000000000"
         ],
         "hovertemplate": "topic=Digital Games and Media<br>start=%{base}<br>finish=%{x}<br>count=%{y}<extra></extra>",
         "legendgroup": "Digital Games and Media",
         "marker": {
          "color": "#FFA15A",
          "pattern": {
           "shape": ""
          }
         },
         "name": "Digital Games and Media",
         "orientation": "h",
         "showlegend": true,
         "textposition": "auto",
         "type": "bar",
         "x": [
          31622400000,
          31536000000
         ],
         "xaxis": "x",
         "y": {
          "bdata": "BAI=",
          "dtype": "i1"
         },
         "yaxis": "y"
        },
        {
         "base": [
          "2012-01-01T00:00:00.000000000",
          "2014-01-01T00:00:00.000000000"
         ],
         "hovertemplate": "topic=Multi-Criteria Decision Making<br>start=%{base}<br>finish=%{x}<br>count=%{y}<extra></extra>",
         "legendgroup": "Multi-Criteria Decision Making",
         "marker": {
          "color": "#19D3F3",
          "pattern": {
           "shape": ""
          }
         },
         "name": "Multi-Criteria Decision Making",
         "orientation": "h",
         "showlegend": true,
         "textposition": "auto",
         "type": "bar",
         "x": [
          31622400000,
          31536000000
         ],
         "xaxis": "x",
         "y": {
          "bdata": "BAI=",
          "dtype": "i1"
         },
         "yaxis": "y"
        },
        {
         "base": [
          "2012-01-01T00:00:00.000000000",
          "2014-01-01T00:00:00.000000000"
         ],
         "hovertemplate": "topic=Advanced Software Engineering Methodologies<br>start=%{base}<br>finish=%{x}<br>count=%{y}<extra></extra>",
         "legendgroup": "Advanced Software Engineering Methodologies",
         "marker": {
          "color": "#FF6692",
          "pattern": {
           "shape": ""
          }
         },
         "name": "Advanced Software Engineering Methodologies",
         "orientation": "h",
         "showlegend": true,
         "textposition": "auto",
         "type": "bar",
         "x": [
          31622400000,
          31536000000
         ],
         "xaxis": "x",
         "y": {
          "bdata": "BAQ=",
          "dtype": "i1"
         },
         "yaxis": "y"
        },
        {
         "base": [
          "2012-01-01T00:00:00.000000000",
          "2016-01-01T00:00:00.000000000"
         ],
         "hovertemplate": "topic=Human Pose and Action Recognition<br>start=%{base}<br>finish=%{x}<br>count=%{y}<extra></extra>",
         "legendgroup": "Human Pose and Action Recognition",
         "marker": {
          "color": "#B6E880",
          "pattern": {
           "shape": ""
          }
         },
         "name": "Human Pose and Action Recognition",
         "orientation": "h",
         "showlegend": true,
         "textposition": "auto",
         "type": "bar",
         "x": [
          31622400000,
          31622400000
         ],
         "xaxis": "x",
         "y": {
          "bdata": "AgM=",
          "dtype": "i1"
         },
         "yaxis": "y"
        },
        {
         "base": [
          "2012-01-01T00:00:00.000000000",
          "2024-01-01T00:00:00.000000000"
         ],
         "hovertemplate": "topic=Software Testing and Debugging Techniques<br>start=%{base}<br>finish=%{x}<br>count=%{y}<extra></extra>",
         "legendgroup": "Software Testing and Debugging Techniques",
         "marker": {
          "color": "#FF97FF",
          "pattern": {
           "shape": ""
          }
         },
         "name": "Software Testing and Debugging Techniques",
         "orientation": "h",
         "showlegend": true,
         "textposition": "auto",
         "type": "bar",
         "x": [
          31622400000,
          31622400000
         ],
         "xaxis": "x",
         "y": {
          "bdata": "BAM=",
          "dtype": "i1"
         },
         "yaxis": "y"
        },
        {
         "base": [
          "2012-01-01T00:00:00.000000000",
          "2024-01-01T00:00:00.000000000"
         ],
         "hovertemplate": "topic=Adversarial Robustness in Machine Learning<br>start=%{base}<br>finish=%{x}<br>count=%{y}<extra></extra>",
         "legendgroup": "Adversarial Robustness in Machine Learning",
         "marker": {
          "color": "#FECB52",
          "pattern": {
           "shape": ""
          }
         },
         "name": "Adversarial Robustness in Machine Learning",
         "orientation": "h",
         "showlegend": true,
         "textposition": "auto",
         "type": "bar",
         "x": [
          31622400000,
          31622400000
         ],
         "xaxis": "x",
         "y": {
          "bdata": "AgM=",
          "dtype": "i1"
         },
         "yaxis": "y"
        },
        {
         "base": [
          "2014-01-01T00:00:00.000000000",
          "2016-01-01T00:00:00.000000000"
         ],
         "hovertemplate": "topic=Face and Expression Recognition<br>start=%{base}<br>finish=%{x}<br>count=%{y}<extra></extra>",
         "legendgroup": "Face and Expression Recognition",
         "marker": {
          "color": "#636EFA",
          "pattern": {
           "shape": ""
          }
         },
         "name": "Face and Expression Recognition",
         "orientation": "h",
         "showlegend": true,
         "textposition": "auto",
         "type": "bar",
         "x": [
          31536000000,
          31622400000
         ],
         "xaxis": "x",
         "y": {
          "bdata": "AgY=",
          "dtype": "i1"
         },
         "yaxis": "y"
        },
        {
         "base": [
          "2014-01-01T00:00:00.000000000",
          "2016-01-01T00:00:00.000000000"
         ],
         "hovertemplate": "topic=Video Surveillance and Tracking Methods<br>start=%{base}<br>finish=%{x}<br>count=%{y}<extra></extra>",
         "legendgroup": "Video Surveillance and Tracking Methods",
         "marker": {
          "color": "#EF553B",
          "pattern": {
           "shape": ""
          }
         },
         "name": "Video Surveillance and Tracking Methods",
         "orientation": "h",
         "showlegend": true,
         "textposition": "auto",
         "type": "bar",
         "x": [
          31536000000,
          31622400000
         ],
         "xaxis": "x",
         "y": {
          "bdata": "AgI=",
          "dtype": "i1"
         },
         "yaxis": "y"
        },
        {
         "base": [
          "2014-01-01T00:00:00.000000000"
         ],
         "hovertemplate": "topic=Advanced Multi-Objective Optimization Algorithms<br>start=%{base}<br>finish=%{x}<br>count=%{y}<extra></extra>",
         "legendgroup": "Advanced Multi-Objective Optimization Algorithms",
         "marker": {
          "color": "#00CC96",
          "pattern": {
           "shape": ""
          }
         },
         "name": "Advanced Multi-Objective Optimization Algorithms",
         "orientation": "h",
         "showlegend": true,
         "textposition": "auto",
         "type": "bar",
         "x": [
          31536000000
         ],
         "xaxis": "x",
         "y": {
          "bdata": "Ag==",
          "dtype": "i1"
         },
         "yaxis": "y"
        },
        {
         "base": [
          "2014-01-01T00:00:00.000000000"
         ],
         "hovertemplate": "topic=Modeling, Simulation, and Optimization<br>start=%{base}<br>finish=%{x}<br>count=%{y}<extra></extra>",
         "legendgroup": "Modeling, Simulation, and Optimization",
         "marker": {
          "color": "#AB63FA",
          "pattern": {
           "shape": ""
          }
         },
         "name": "Modeling, Simulation, and Optimization",
         "orientation": "h",
         "showlegend": true,
         "textposition": "auto",
         "type": "bar",
         "x": [
          31536000000
         ],
         "xaxis": "x",
         "y": {
          "bdata": "Ag==",
          "dtype": "i1"
         },
         "yaxis": "y"
        },
        {
         "base": [
          "2014-01-01T00:00:00.000000000",
          "2016-01-01T00:00:00.000000000"
         ],
         "hovertemplate": "topic=Computability, Logic, AI Algorithms<br>start=%{base}<br>finish=%{x}<br>count=%{y}<extra></extra>",
         "legendgroup": "Computability, Logic, AI Algorithms",
         "marker": {
          "color": "#FFA15A",
          "pattern": {
           "shape": ""
          }
         },
         "name": "Computability, Logic, AI Algorithms",
         "orientation": "h",
         "showlegend": true,
         "textposition": "auto",
         "type": "bar",
         "x": [
          31536000000,
          31622400000
         ],
         "xaxis": "x",
         "y": {
          "bdata": "AgM=",
          "dtype": "i1"
         },
         "yaxis": "y"
        },
        {
         "base": [
          "2014-01-01T00:00:00.000000000"
         ],
         "hovertemplate": "topic=Evolution and Genetic Dynamics<br>start=%{base}<br>finish=%{x}<br>count=%{y}<extra></extra>",
         "legendgroup": "Evolution and Genetic Dynamics",
         "marker": {
          "color": "#19D3F3",
          "pattern": {
           "shape": ""
          }
         },
         "name": "Evolution and Genetic Dynamics",
         "orientation": "h",
         "showlegend": true,
         "textposition": "auto",
         "type": "bar",
         "x": [
          31536000000
         ],
         "xaxis": "x",
         "y": {
          "bdata": "Ag==",
          "dtype": "i1"
         },
         "yaxis": "y"
        },
        {
         "base": [
          "2014-01-01T00:00:00.000000000",
          "2016-01-01T00:00:00.000000000"
         ],
         "hovertemplate": "topic=Opinion Dynamics and Social Influence<br>start=%{base}<br>finish=%{x}<br>count=%{y}<extra></extra>",
         "legendgroup": "Opinion Dynamics and Social Influence",
         "marker": {
          "color": "#FF6692",
          "pattern": {
           "shape": ""
          }
         },
         "name": "Opinion Dynamics and Social Influence",
         "orientation": "h",
         "showlegend": true,
         "textposition": "auto",
         "type": "bar",
         "x": [
          31536000000,
          31622400000
         ],
         "xaxis": "x",
         "y": {
          "bdata": "CAU=",
          "dtype": "i1"
         },
         "yaxis": "y"
        },
        {
         "base": [
          "2014-01-01T00:00:00.000000000"
         ],
         "hovertemplate": "topic=Urban Transport and Accessibility<br>start=%{base}<br>finish=%{x}<br>count=%{y}<extra></extra>",
         "legendgroup": "Urban Transport and Accessibility",
         "marker": {
          "color": "#B6E880",
          "pattern": {
           "shape": ""
          }
         },
         "name": "Urban Transport and Accessibility",
         "orientation": "h",
         "showlegend": true,
         "textposition": "auto",
         "type": "bar",
         "x": [
          31536000000
         ],
         "xaxis": "x",
         "y": {
          "bdata": "Ag==",
          "dtype": "i1"
         },
         "yaxis": "y"
        },
        {
         "base": [
          "2014-01-01T00:00:00.000000000"
         ],
         "hovertemplate": "topic=Evacuation and Crowd Dynamics<br>start=%{base}<br>finish=%{x}<br>count=%{y}<extra></extra>",
         "legendgroup": "Evacuation and Crowd Dynamics",
         "marker": {
          "color": "#FF97FF",
          "pattern": {
           "shape": ""
          }
         },
         "name": "Evacuation and Crowd Dynamics",
         "orientation": "h",
         "showlegend": true,
         "textposition": "auto",
         "type": "bar",
         "x": [
          31536000000
         ],
         "xaxis": "x",
         "y": {
          "bdata": "Ag==",
          "dtype": "i1"
         },
         "yaxis": "y"
        },
        {
         "base": [
          "2014-01-01T00:00:00.000000000"
         ],
         "hovertemplate": "topic=Traffic control and management<br>start=%{base}<br>finish=%{x}<br>count=%{y}<extra></extra>",
         "legendgroup": "Traffic control and management",
         "marker": {
          "color": "#FECB52",
          "pattern": {
           "shape": ""
          }
         },
         "name": "Traffic control and management",
         "orientation": "h",
         "showlegend": true,
         "textposition": "auto",
         "type": "bar",
         "x": [
          31536000000
         ],
         "xaxis": "x",
         "y": {
          "bdata": "Ag==",
          "dtype": "i1"
         },
         "yaxis": "y"
        },
        {
         "base": [
          "2014-01-01T00:00:00.000000000"
         ],
         "hovertemplate": "topic=Economic theories and models<br>start=%{base}<br>finish=%{x}<br>count=%{y}<extra></extra>",
         "legendgroup": "Economic theories and models",
         "marker": {
          "color": "#636EFA",
          "pattern": {
           "shape": ""
          }
         },
         "name": "Economic theories and models",
         "orientation": "h",
         "showlegend": true,
         "textposition": "auto",
         "type": "bar",
         "x": [
          31536000000
         ],
         "xaxis": "x",
         "y": {
          "bdata": "Aw==",
          "dtype": "i1"
         },
         "yaxis": "y"
        },
        {
         "base": [
          "2014-01-01T00:00:00.000000000",
          "2016-01-01T00:00:00.000000000"
         ],
         "hovertemplate": "topic=Image Retrieval and Classification Techniques<br>start=%{base}<br>finish=%{x}<br>count=%{y}<extra></extra>",
         "legendgroup": "Image Retrieval and Classification Techniques",
         "marker": {
          "color": "#EF553B",
          "pattern": {
           "shape": ""
          }
         },
         "name": "Image Retrieval and Classification Techniques",
         "orientation": "h",
         "showlegend": true,
         "textposition": "auto",
         "type": "bar",
         "x": [
          31536000000,
          31622400000
         ],
         "xaxis": "x",
         "y": {
          "bdata": "AgM=",
          "dtype": "i1"
         },
         "yaxis": "y"
        },
        {
         "base": [
          "2014-01-01T00:00:00.000000000"
         ],
         "hovertemplate": "topic=Network Security and Intrusion Detection<br>start=%{base}<br>finish=%{x}<br>count=%{y}<extra></extra>",
         "legendgroup": "Network Security and Intrusion Detection",
         "marker": {
          "color": "#00CC96",
          "pattern": {
           "shape": ""
          }
         },
         "name": "Network Security and Intrusion Detection",
         "orientation": "h",
         "showlegend": true,
         "textposition": "auto",
         "type": "bar",
         "x": [
          31536000000
         ],
         "xaxis": "x",
         "y": {
          "bdata": "Aw==",
          "dtype": "i1"
         },
         "yaxis": "y"
        },
        {
         "base": [
          "2014-01-01T00:00:00.000000000",
          "2024-01-01T00:00:00.000000000"
         ],
         "hovertemplate": "topic=Transportation Planning and Optimization<br>start=%{base}<br>finish=%{x}<br>count=%{y}<extra></extra>",
         "legendgroup": "Transportation Planning and Optimization",
         "marker": {
          "color": "#AB63FA",
          "pattern": {
           "shape": ""
          }
         },
         "name": "Transportation Planning and Optimization",
         "orientation": "h",
         "showlegend": true,
         "textposition": "auto",
         "type": "bar",
         "x": [
          31536000000,
          31622400000
         ],
         "xaxis": "x",
         "y": {
          "bdata": "BwM=",
          "dtype": "i1"
         },
         "yaxis": "y"
        },
        {
         "base": [
          "2014-01-01T00:00:00.000000000",
          "2016-01-01T00:00:00.000000000"
         ],
         "hovertemplate": "topic=Experimental Behavioral Economics Studies<br>start=%{base}<br>finish=%{x}<br>count=%{y}<extra></extra>",
         "legendgroup": "Experimental Behavioral Economics Studies",
         "marker": {
          "color": "#FFA15A",
          "pattern": {
           "shape": ""
          }
         },
         "name": "Experimental Behavioral Economics Studies",
         "orientation": "h",
         "showlegend": true,
         "textposition": "auto",
         "type": "bar",
         "x": [
          31536000000,
          31622400000
         ],
         "xaxis": "x",
         "y": {
          "bdata": "BQI=",
          "dtype": "i1"
         },
         "yaxis": "y"
        },
        {
         "base": [
          "2014-01-01T00:00:00.000000000"
         ],
         "hovertemplate": "topic=Music and Audio Processing<br>start=%{base}<br>finish=%{x}<br>count=%{y}<extra></extra>",
         "legendgroup": "Music and Audio Processing",
         "marker": {
          "color": "#19D3F3",
          "pattern": {
           "shape": ""
          }
         },
         "name": "Music and Audio Processing",
         "orientation": "h",
         "showlegend": true,
         "textposition": "auto",
         "type": "bar",
         "x": [
          31536000000
         ],
         "xaxis": "x",
         "y": {
          "bdata": "Ag==",
          "dtype": "i1"
         },
         "yaxis": "y"
        },
        {
         "base": [
          "2014-01-01T00:00:00.000000000"
         ],
         "hovertemplate": "topic=Data Visualization and Analytics<br>start=%{base}<br>finish=%{x}<br>count=%{y}<extra></extra>",
         "legendgroup": "Data Visualization and Analytics",
         "marker": {
          "color": "#FF6692",
          "pattern": {
           "shape": ""
          }
         },
         "name": "Data Visualization and Analytics",
         "orientation": "h",
         "showlegend": true,
         "textposition": "auto",
         "type": "bar",
         "x": [
          31536000000
         ],
         "xaxis": "x",
         "y": {
          "bdata": "BA==",
          "dtype": "i1"
         },
         "yaxis": "y"
        },
        {
         "base": [
          "2014-01-01T00:00:00.000000000",
          "2016-01-01T00:00:00.000000000"
         ],
         "hovertemplate": "topic=Recommender Systems and Techniques<br>start=%{base}<br>finish=%{x}<br>count=%{y}<extra></extra>",
         "legendgroup": "Recommender Systems and Techniques",
         "marker": {
          "color": "#B6E880",
          "pattern": {
           "shape": ""
          }
         },
         "name": "Recommender Systems and Techniques",
         "orientation": "h",
         "showlegend": true,
         "textposition": "auto",
         "type": "bar",
         "x": [
          31536000000,
          31622400000
         ],
         "xaxis": "x",
         "y": {
          "bdata": "AwI=",
          "dtype": "i1"
         },
         "yaxis": "y"
        },
        {
         "base": [
          "2014-01-01T00:00:00.000000000"
         ],
         "hovertemplate": "topic=Music Technology and Sound Studies<br>start=%{base}<br>finish=%{x}<br>count=%{y}<extra></extra>",
         "legendgroup": "Music Technology and Sound Studies",
         "marker": {
          "color": "#FF97FF",
          "pattern": {
           "shape": ""
          }
         },
         "name": "Music Technology and Sound Studies",
         "orientation": "h",
         "showlegend": true,
         "textposition": "auto",
         "type": "bar",
         "x": [
          31536000000
         ],
         "xaxis": "x",
         "y": {
          "bdata": "Ag==",
          "dtype": "i1"
         },
         "yaxis": "y"
        },
        {
         "base": [
          "2014-01-01T00:00:00.000000000",
          "2016-01-01T00:00:00.000000000"
         ],
         "hovertemplate": "topic=Advanced Image and Video Retrieval Techniques<br>start=%{base}<br>finish=%{x}<br>count=%{y}<extra></extra>",
         "legendgroup": "Advanced Image and Video Retrieval Techniques",
         "marker": {
          "color": "#FECB52",
          "pattern": {
           "shape": ""
          }
         },
         "name": "Advanced Image and Video Retrieval Techniques",
         "orientation": "h",
         "showlegend": true,
         "textposition": "auto",
         "type": "bar",
         "x": [
          31536000000,
          31622400000
         ],
         "xaxis": "x",
         "y": {
          "bdata": "AwU=",
          "dtype": "i1"
         },
         "yaxis": "y"
        },
        {
         "base": [
          "2014-01-01T00:00:00.000000000",
          "2016-01-01T00:00:00.000000000"
         ],
         "hovertemplate": "topic=Imbalanced Data Classification Techniques<br>start=%{base}<br>finish=%{x}<br>count=%{y}<extra></extra>",
         "legendgroup": "Imbalanced Data Classification Techniques",
         "marker": {
          "color": "#636EFA",
          "pattern": {
           "shape": ""
          }
         },
         "name": "Imbalanced Data Classification Techniques",
         "orientation": "h",
         "showlegend": true,
         "textposition": "auto",
         "type": "bar",
         "x": [
          31536000000,
          31622400000
         ],
         "xaxis": "x",
         "y": {
          "bdata": "AgI=",
          "dtype": "i1"
         },
         "yaxis": "y"
        },
        {
         "base": [
          "2014-01-01T00:00:00.000000000"
         ],
         "hovertemplate": "topic=Complex Systems and Time Series Analysis<br>start=%{base}<br>finish=%{x}<br>count=%{y}<extra></extra>",
         "legendgroup": "Complex Systems and Time Series Analysis",
         "marker": {
          "color": "#EF553B",
          "pattern": {
           "shape": ""
          }
         },
         "name": "Complex Systems and Time Series Analysis",
         "orientation": "h",
         "showlegend": true,
         "textposition": "auto",
         "type": "bar",
         "x": [
          31536000000
         ],
         "xaxis": "x",
         "y": {
          "bdata": "Ag==",
          "dtype": "i1"
         },
         "yaxis": "y"
        },
        {
         "base": [
          "2014-01-01T00:00:00.000000000"
         ],
         "hovertemplate": "topic=Distributed systems and fault tolerance<br>start=%{base}<br>finish=%{x}<br>count=%{y}<extra></extra>",
         "legendgroup": "Distributed systems and fault tolerance",
         "marker": {
          "color": "#00CC96",
          "pattern": {
           "shape": ""
          }
         },
         "name": "Distributed systems and fault tolerance",
         "orientation": "h",
         "showlegend": true,
         "textposition": "auto",
         "type": "bar",
         "x": [
          31536000000
         ],
         "xaxis": "x",
         "y": {
          "bdata": "Aw==",
          "dtype": "i1"
         },
         "yaxis": "y"
        },
        {
         "base": [
          "2014-01-01T00:00:00.000000000"
         ],
         "hovertemplate": "topic=Target Tracking and Data Fusion in Sensor Networks<br>start=%{base}<br>finish=%{x}<br>count=%{y}<extra></extra>",
         "legendgroup": "Target Tracking and Data Fusion in Sensor Networks",
         "marker": {
          "color": "#AB63FA",
          "pattern": {
           "shape": ""
          }
         },
         "name": "Target Tracking and Data Fusion in Sensor Networks",
         "orientation": "h",
         "showlegend": true,
         "textposition": "auto",
         "type": "bar",
         "x": [
          31536000000
         ],
         "xaxis": "x",
         "y": {
          "bdata": "Ag==",
          "dtype": "i1"
         },
         "yaxis": "y"
        },
        {
         "base": [
          "2014-01-01T00:00:00.000000000",
          "2024-01-01T00:00:00.000000000"
         ],
         "hovertemplate": "topic=Scientific Computing and Data Management<br>start=%{base}<br>finish=%{x}<br>count=%{y}<extra></extra>",
         "legendgroup": "Scientific Computing and Data Management",
         "marker": {
          "color": "#FFA15A",
          "pattern": {
           "shape": ""
          }
         },
         "name": "Scientific Computing and Data Management",
         "orientation": "h",
         "showlegend": true,
         "textposition": "auto",
         "type": "bar",
         "x": [
          31536000000,
          31622400000
         ],
         "xaxis": "x",
         "y": {
          "bdata": "AgI=",
          "dtype": "i1"
         },
         "yaxis": "y"
        },
        {
         "base": [
          "2014-01-01T00:00:00.000000000"
         ],
         "hovertemplate": "topic=Spreadsheets and End-User Computing<br>start=%{base}<br>finish=%{x}<br>count=%{y}<extra></extra>",
         "legendgroup": "Spreadsheets and End-User Computing",
         "marker": {
          "color": "#19D3F3",
          "pattern": {
           "shape": ""
          }
         },
         "name": "Spreadsheets and End-User Computing",
         "orientation": "h",
         "showlegend": true,
         "textposition": "auto",
         "type": "bar",
         "x": [
          31536000000
         ],
         "xaxis": "x",
         "y": {
          "bdata": "Aw==",
          "dtype": "i1"
         },
         "yaxis": "y"
        },
        {
         "base": [
          "2014-01-01T00:00:00.000000000",
          "2016-01-01T00:00:00.000000000"
         ],
         "hovertemplate": "topic=Consumer Market Behavior and Pricing<br>start=%{base}<br>finish=%{x}<br>count=%{y}<extra></extra>",
         "legendgroup": "Consumer Market Behavior and Pricing",
         "marker": {
          "color": "#FF6692",
          "pattern": {
           "shape": ""
          }
         },
         "name": "Consumer Market Behavior and Pricing",
         "orientation": "h",
         "showlegend": true,
         "textposition": "auto",
         "type": "bar",
         "x": [
          31536000000,
          31622400000
         ],
         "xaxis": "x",
         "y": {
          "bdata": "AgQ=",
          "dtype": "i1"
         },
         "yaxis": "y"
        },
        {
         "base": [
          "2014-01-01T00:00:00.000000000"
         ],
         "hovertemplate": "topic=Human Mobility and Location-Based Analysis<br>start=%{base}<br>finish=%{x}<br>count=%{y}<extra></extra>",
         "legendgroup": "Human Mobility and Location-Based Analysis",
         "marker": {
          "color": "#B6E880",
          "pattern": {
           "shape": ""
          }
         },
         "name": "Human Mobility and Location-Based Analysis",
         "orientation": "h",
         "showlegend": true,
         "textposition": "auto",
         "type": "bar",
         "x": [
          31536000000
         ],
         "xaxis": "x",
         "y": {
          "bdata": "Ag==",
          "dtype": "i1"
         },
         "yaxis": "y"
        },
        {
         "base": [
          "2014-01-01T00:00:00.000000000"
         ],
         "hovertemplate": "topic=Risk and Portfolio Optimization<br>start=%{base}<br>finish=%{x}<br>count=%{y}<extra></extra>",
         "legendgroup": "Risk and Portfolio Optimization",
         "marker": {
          "color": "#FF97FF",
          "pattern": {
           "shape": ""
          }
         },
         "name": "Risk and Portfolio Optimization",
         "orientation": "h",
         "showlegend": true,
         "textposition": "auto",
         "type": "bar",
         "x": [
          31536000000
         ],
         "xaxis": "x",
         "y": {
          "bdata": "Ag==",
          "dtype": "i1"
         },
         "yaxis": "y"
        },
        {
         "base": [
          "2014-01-01T00:00:00.000000000",
          "2016-01-01T00:00:00.000000000",
          "2024-01-01T00:00:00.000000000"
         ],
         "hovertemplate": "topic=Transportation and Mobility Innovations<br>start=%{base}<br>finish=%{x}<br>count=%{y}<extra></extra>",
         "legendgroup": "Transportation and Mobility Innovations",
         "marker": {
          "color": "#FECB52",
          "pattern": {
           "shape": ""
          }
         },
         "name": "Transportation and Mobility Innovations",
         "orientation": "h",
         "showlegend": true,
         "textposition": "auto",
         "type": "bar",
         "x": [
          31536000000,
          31622400000,
          31622400000
         ],
         "xaxis": "x",
         "y": {
          "bdata": "BAQC",
          "dtype": "i1"
         },
         "yaxis": "y"
        },
        {
         "base": [
          "2014-01-01T00:00:00.000000000",
          "2016-01-01T00:00:00.000000000"
         ],
         "hovertemplate": "topic=Fault Detection and Control Systems<br>start=%{base}<br>finish=%{x}<br>count=%{y}<extra></extra>",
         "legendgroup": "Fault Detection and Control Systems",
         "marker": {
          "color": "#636EFA",
          "pattern": {
           "shape": ""
          }
         },
         "name": "Fault Detection and Control Systems",
         "orientation": "h",
         "showlegend": true,
         "textposition": "auto",
         "type": "bar",
         "x": [
          31536000000,
          31622400000
         ],
         "xaxis": "x",
         "y": {
          "bdata": "AgY=",
          "dtype": "i1"
         },
         "yaxis": "y"
        },
        {
         "base": [
          "2014-01-01T00:00:00.000000000"
         ],
         "hovertemplate": "topic=Mathematical and Theoretical Epidemiology and Ecology Models<br>start=%{base}<br>finish=%{x}<br>count=%{y}<extra></extra>",
         "legendgroup": "Mathematical and Theoretical Epidemiology and Ecology Models",
         "marker": {
          "color": "#EF553B",
          "pattern": {
           "shape": ""
          }
         },
         "name": "Mathematical and Theoretical Epidemiology and Ecology Models",
         "orientation": "h",
         "showlegend": true,
         "textposition": "auto",
         "type": "bar",
         "x": [
          31536000000
         ],
         "xaxis": "x",
         "y": {
          "bdata": "Aw==",
          "dtype": "i1"
         },
         "yaxis": "y"
        },
        {
         "base": [
          "2014-01-01T00:00:00.000000000",
          "2016-01-01T00:00:00.000000000"
         ],
         "hovertemplate": "topic=Sentiment Analysis and Opinion Mining<br>start=%{base}<br>finish=%{x}<br>count=%{y}<extra></extra>",
         "legendgroup": "Sentiment Analysis and Opinion Mining",
         "marker": {
          "color": "#00CC96",
          "pattern": {
           "shape": ""
          }
         },
         "name": "Sentiment Analysis and Opinion Mining",
         "orientation": "h",
         "showlegend": true,
         "textposition": "auto",
         "type": "bar",
         "x": [
          31536000000,
          31622400000
         ],
         "xaxis": "x",
         "y": {
          "bdata": "AgQ=",
          "dtype": "i1"
         },
         "yaxis": "y"
        },
        {
         "base": [
          "2016-01-01T00:00:00.000000000"
         ],
         "hovertemplate": "topic=Mobile Crowdsensing and Crowdsourcing<br>start=%{base}<br>finish=%{x}<br>count=%{y}<extra></extra>",
         "legendgroup": "Mobile Crowdsensing and Crowdsourcing",
         "marker": {
          "color": "#AB63FA",
          "pattern": {
           "shape": ""
          }
         },
         "name": "Mobile Crowdsensing and Crowdsourcing",
         "orientation": "h",
         "showlegend": true,
         "textposition": "auto",
         "type": "bar",
         "x": [
          31622400000
         ],
         "xaxis": "x",
         "y": {
          "bdata": "Ag==",
          "dtype": "i1"
         },
         "yaxis": "y"
        },
        {
         "base": [
          "2016-01-01T00:00:00.000000000"
         ],
         "hovertemplate": "topic=Multimodal Machine Learning Applications<br>start=%{base}<br>finish=%{x}<br>count=%{y}<extra></extra>",
         "legendgroup": "Multimodal Machine Learning Applications",
         "marker": {
          "color": "#FFA15A",
          "pattern": {
           "shape": ""
          }
         },
         "name": "Multimodal Machine Learning Applications",
         "orientation": "h",
         "showlegend": true,
         "textposition": "auto",
         "type": "bar",
         "x": [
          31622400000
         ],
         "xaxis": "x",
         "y": {
          "bdata": "Aw==",
          "dtype": "i1"
         },
         "yaxis": "y"
        },
        {
         "base": [
          "2016-01-01T00:00:00.000000000"
         ],
         "hovertemplate": "topic=Advanced Computational Techniques and Applications<br>start=%{base}<br>finish=%{x}<br>count=%{y}<extra></extra>",
         "legendgroup": "Advanced Computational Techniques and Applications",
         "marker": {
          "color": "#19D3F3",
          "pattern": {
           "shape": ""
          }
         },
         "name": "Advanced Computational Techniques and Applications",
         "orientation": "h",
         "showlegend": true,
         "textposition": "auto",
         "type": "bar",
         "x": [
          31622400000
         ],
         "xaxis": "x",
         "y": {
          "bdata": "Ag==",
          "dtype": "i1"
         },
         "yaxis": "y"
        },
        {
         "base": [
          "2016-01-01T00:00:00.000000000",
          "2024-01-01T00:00:00.000000000"
         ],
         "hovertemplate": "topic=Electric Vehicles and Infrastructure<br>start=%{base}<br>finish=%{x}<br>count=%{y}<extra></extra>",
         "legendgroup": "Electric Vehicles and Infrastructure",
         "marker": {
          "color": "#FF6692",
          "pattern": {
           "shape": ""
          }
         },
         "name": "Electric Vehicles and Infrastructure",
         "orientation": "h",
         "showlegend": true,
         "textposition": "auto",
         "type": "bar",
         "x": [
          31622400000,
          31622400000
         ],
         "xaxis": "x",
         "y": {
          "bdata": "AgI=",
          "dtype": "i1"
         },
         "yaxis": "y"
        },
        {
         "base": [
          "2016-01-01T00:00:00.000000000"
         ],
         "hovertemplate": "topic=Robotics and Sensor-Based Localization<br>start=%{base}<br>finish=%{x}<br>count=%{y}<extra></extra>",
         "legendgroup": "Robotics and Sensor-Based Localization",
         "marker": {
          "color": "#B6E880",
          "pattern": {
           "shape": ""
          }
         },
         "name": "Robotics and Sensor-Based Localization",
         "orientation": "h",
         "showlegend": true,
         "textposition": "auto",
         "type": "bar",
         "x": [
          31622400000
         ],
         "xaxis": "x",
         "y": {
          "bdata": "Ag==",
          "dtype": "i1"
         },
         "yaxis": "y"
        },
        {
         "base": [
          "2016-01-01T00:00:00.000000000"
         ],
         "hovertemplate": "topic=Military Defense Systems Analysis<br>start=%{base}<br>finish=%{x}<br>count=%{y}<extra></extra>",
         "legendgroup": "Military Defense Systems Analysis",
         "marker": {
          "color": "#FF97FF",
          "pattern": {
           "shape": ""
          }
         },
         "name": "Military Defense Systems Analysis",
         "orientation": "h",
         "showlegend": true,
         "textposition": "auto",
         "type": "bar",
         "x": [
          31622400000
         ],
         "xaxis": "x",
         "y": {
          "bdata": "Ag==",
          "dtype": "i1"
         },
         "yaxis": "y"
        },
        {
         "base": [
          "2016-01-01T00:00:00.000000000"
         ],
         "hovertemplate": "topic=Advanced Clustering Algorithms Research<br>start=%{base}<br>finish=%{x}<br>count=%{y}<extra></extra>",
         "legendgroup": "Advanced Clustering Algorithms Research",
         "marker": {
          "color": "#FECB52",
          "pattern": {
           "shape": ""
          }
         },
         "name": "Advanced Clustering Algorithms Research",
         "orientation": "h",
         "showlegend": true,
         "textposition": "auto",
         "type": "bar",
         "x": [
          31622400000
         ],
         "xaxis": "x",
         "y": {
          "bdata": "Ag==",
          "dtype": "i1"
         },
         "yaxis": "y"
        },
        {
         "base": [
          "2016-01-01T00:00:00.000000000"
         ],
         "hovertemplate": "topic=Social Media and Politics<br>start=%{base}<br>finish=%{x}<br>count=%{y}<extra></extra>",
         "legendgroup": "Social Media and Politics",
         "marker": {
          "color": "#636EFA",
          "pattern": {
           "shape": ""
          }
         },
         "name": "Social Media and Politics",
         "orientation": "h",
         "showlegend": true,
         "textposition": "auto",
         "type": "bar",
         "x": [
          31622400000
         ],
         "xaxis": "x",
         "y": {
          "bdata": "Ag==",
          "dtype": "i1"
         },
         "yaxis": "y"
        },
        {
         "base": [
          "2016-01-01T00:00:00.000000000"
         ],
         "hovertemplate": "topic=Manufacturing Process and Optimization<br>start=%{base}<br>finish=%{x}<br>count=%{y}<extra></extra>",
         "legendgroup": "Manufacturing Process and Optimization",
         "marker": {
          "color": "#EF553B",
          "pattern": {
           "shape": ""
          }
         },
         "name": "Manufacturing Process and Optimization",
         "orientation": "h",
         "showlegend": true,
         "textposition": "auto",
         "type": "bar",
         "x": [
          31622400000
         ],
         "xaxis": "x",
         "y": {
          "bdata": "Aw==",
          "dtype": "i1"
         },
         "yaxis": "y"
        },
        {
         "base": [
          "2016-01-01T00:00:00.000000000"
         ],
         "hovertemplate": "topic=Digital Platforms and Economics<br>start=%{base}<br>finish=%{x}<br>count=%{y}<extra></extra>",
         "legendgroup": "Digital Platforms and Economics",
         "marker": {
          "color": "#00CC96",
          "pattern": {
           "shape": ""
          }
         },
         "name": "Digital Platforms and Economics",
         "orientation": "h",
         "showlegend": true,
         "textposition": "auto",
         "type": "bar",
         "x": [
          31622400000
         ],
         "xaxis": "x",
         "y": {
          "bdata": "Ag==",
          "dtype": "i1"
         },
         "yaxis": "y"
        },
        {
         "base": [
          "2016-01-01T00:00:00.000000000",
          "2024-01-01T00:00:00.000000000"
         ],
         "hovertemplate": "topic=Smart Grid Energy Management<br>start=%{base}<br>finish=%{x}<br>count=%{y}<extra></extra>",
         "legendgroup": "Smart Grid Energy Management",
         "marker": {
          "color": "#AB63FA",
          "pattern": {
           "shape": ""
          }
         },
         "name": "Smart Grid Energy Management",
         "orientation": "h",
         "showlegend": true,
         "textposition": "auto",
         "type": "bar",
         "x": [
          31622400000,
          31622400000
         ],
         "xaxis": "x",
         "y": {
          "bdata": "Agc=",
          "dtype": "i1"
         },
         "yaxis": "y"
        },
        {
         "base": [
          "2016-01-01T00:00:00.000000000"
         ],
         "hovertemplate": "topic=Domain Adaptation and Few-Shot Learning<br>start=%{base}<br>finish=%{x}<br>count=%{y}<extra></extra>",
         "legendgroup": "Domain Adaptation and Few-Shot Learning",
         "marker": {
          "color": "#FFA15A",
          "pattern": {
           "shape": ""
          }
         },
         "name": "Domain Adaptation and Few-Shot Learning",
         "orientation": "h",
         "showlegend": true,
         "textposition": "auto",
         "type": "bar",
         "x": [
          31622400000
         ],
         "xaxis": "x",
         "y": {
          "bdata": "Aw==",
          "dtype": "i1"
         },
         "yaxis": "y"
        },
        {
         "base": [
          "2016-01-01T00:00:00.000000000"
         ],
         "hovertemplate": "topic=Guidance and Control Systems<br>start=%{base}<br>finish=%{x}<br>count=%{y}<extra></extra>",
         "legendgroup": "Guidance and Control Systems",
         "marker": {
          "color": "#19D3F3",
          "pattern": {
           "shape": ""
          }
         },
         "name": "Guidance and Control Systems",
         "orientation": "h",
         "showlegend": true,
         "textposition": "auto",
         "type": "bar",
         "x": [
          31622400000
         ],
         "xaxis": "x",
         "y": {
          "bdata": "Ag==",
          "dtype": "i1"
         },
         "yaxis": "y"
        },
        {
         "base": [
          "2016-01-01T00:00:00.000000000"
         ],
         "hovertemplate": "topic=Context-Aware Activity Recognition Systems<br>start=%{base}<br>finish=%{x}<br>count=%{y}<extra></extra>",
         "legendgroup": "Context-Aware Activity Recognition Systems",
         "marker": {
          "color": "#FF6692",
          "pattern": {
           "shape": ""
          }
         },
         "name": "Context-Aware Activity Recognition Systems",
         "orientation": "h",
         "showlegend": true,
         "textposition": "auto",
         "type": "bar",
         "x": [
          31622400000
         ],
         "xaxis": "x",
         "y": {
          "bdata": "Ag==",
          "dtype": "i1"
         },
         "yaxis": "y"
        },
        {
         "base": [
          "2016-01-01T00:00:00.000000000"
         ],
         "hovertemplate": "topic=Economic Analysis of Law and Legal Systems<br>start=%{base}<br>finish=%{x}<br>count=%{y}<extra></extra>",
         "legendgroup": "Economic Analysis of Law and Legal Systems",
         "marker": {
          "color": "#B6E880",
          "pattern": {
           "shape": ""
          }
         },
         "name": "Economic Analysis of Law and Legal Systems",
         "orientation": "h",
         "showlegend": true,
         "textposition": "auto",
         "type": "bar",
         "x": [
          31622400000
         ],
         "xaxis": "x",
         "y": {
          "bdata": "Ag==",
          "dtype": "i1"
         },
         "yaxis": "y"
        },
        {
         "base": [
          "2024-01-01T00:00:00.000000000"
         ],
         "hovertemplate": "topic=Forecasting Techniques and Applications<br>start=%{base}<br>finish=%{x}<br>count=%{y}<extra></extra>",
         "legendgroup": "Forecasting Techniques and Applications",
         "marker": {
          "color": "#FF97FF",
          "pattern": {
           "shape": ""
          }
         },
         "name": "Forecasting Techniques and Applications",
         "orientation": "h",
         "showlegend": true,
         "textposition": "auto",
         "type": "bar",
         "x": [
          31622400000
         ],
         "xaxis": "x",
         "y": {
          "bdata": "Ag==",
          "dtype": "i1"
         },
         "yaxis": "y"
        },
        {
         "base": [
          "2024-01-01T00:00:00.000000000"
         ],
         "hovertemplate": "topic=Stock Market Forecasting Methods<br>start=%{base}<br>finish=%{x}<br>count=%{y}<extra></extra>",
         "legendgroup": "Stock Market Forecasting Methods",
         "marker": {
          "color": "#FECB52",
          "pattern": {
           "shape": ""
          }
         },
         "name": "Stock Market Forecasting Methods",
         "orientation": "h",
         "showlegend": true,
         "textposition": "auto",
         "type": "bar",
         "x": [
          31622400000
         ],
         "xaxis": "x",
         "y": {
          "bdata": "Ag==",
          "dtype": "i1"
         },
         "yaxis": "y"
        },
        {
         "base": [
          "2024-01-01T00:00:00.000000000"
         ],
         "hovertemplate": "topic=Explainable Artificial Intelligence (XAI)<br>start=%{base}<br>finish=%{x}<br>count=%{y}<extra></extra>",
         "legendgroup": "Explainable Artificial Intelligence (XAI)",
         "marker": {
          "color": "#636EFA",
          "pattern": {
           "shape": ""
          }
         },
         "name": "Explainable Artificial Intelligence (XAI)",
         "orientation": "h",
         "showlegend": true,
         "textposition": "auto",
         "type": "bar",
         "x": [
          31622400000
         ],
         "xaxis": "x",
         "y": {
          "bdata": "Fg==",
          "dtype": "i1"
         },
         "yaxis": "y"
        },
        {
         "base": [
          "2024-01-01T00:00:00.000000000"
         ],
         "hovertemplate": "topic=Artificial Intelligence in Healthcare and Education<br>start=%{base}<br>finish=%{x}<br>count=%{y}<extra></extra>",
         "legendgroup": "Artificial Intelligence in Healthcare and Education",
         "marker": {
          "color": "#EF553B",
          "pattern": {
           "shape": ""
          }
         },
         "name": "Artificial Intelligence in Healthcare and Education",
         "orientation": "h",
         "showlegend": true,
         "textposition": "auto",
         "type": "bar",
         "x": [
          31622400000
         ],
         "xaxis": "x",
         "y": {
          "bdata": "BQ==",
          "dtype": "i1"
         },
         "yaxis": "y"
        },
        {
         "base": [
          "2024-01-01T00:00:00.000000000"
         ],
         "hovertemplate": "topic=Machine Learning in Healthcare<br>start=%{base}<br>finish=%{x}<br>count=%{y}<extra></extra>",
         "legendgroup": "Machine Learning in Healthcare",
         "marker": {
          "color": "#00CC96",
          "pattern": {
           "shape": ""
          }
         },
         "name": "Machine Learning in Healthcare",
         "orientation": "h",
         "showlegend": true,
         "textposition": "auto",
         "type": "bar",
         "x": [
          31622400000
         ],
         "xaxis": "x",
         "y": {
          "bdata": "Bg==",
          "dtype": "i1"
         },
         "yaxis": "y"
        },
        {
         "base": [
          "2024-01-01T00:00:00.000000000"
         ],
         "hovertemplate": "topic=Flexible and Reconfigurable Manufacturing Systems<br>start=%{base}<br>finish=%{x}<br>count=%{y}<extra></extra>",
         "legendgroup": "Flexible and Reconfigurable Manufacturing Systems",
         "marker": {
          "color": "#AB63FA",
          "pattern": {
           "shape": ""
          }
         },
         "name": "Flexible and Reconfigurable Manufacturing Systems",
         "orientation": "h",
         "showlegend": true,
         "textposition": "auto",
         "type": "bar",
         "x": [
          31622400000
         ],
         "xaxis": "x",
         "y": {
          "bdata": "Ag==",
          "dtype": "i1"
         },
         "yaxis": "y"
        },
        {
         "base": [
          "2024-01-01T00:00:00.000000000"
         ],
         "hovertemplate": "topic=Privacy, Security, and Data Protection<br>start=%{base}<br>finish=%{x}<br>count=%{y}<extra></extra>",
         "legendgroup": "Privacy, Security, and Data Protection",
         "marker": {
          "color": "#FFA15A",
          "pattern": {
           "shape": ""
          }
         },
         "name": "Privacy, Security, and Data Protection",
         "orientation": "h",
         "showlegend": true,
         "textposition": "auto",
         "type": "bar",
         "x": [
          31622400000
         ],
         "xaxis": "x",
         "y": {
          "bdata": "Ag==",
          "dtype": "i1"
         },
         "yaxis": "y"
        },
        {
         "base": [
          "2024-01-01T00:00:00.000000000"
         ],
         "hovertemplate": "topic=Ethics and Social Impacts of AI<br>start=%{base}<br>finish=%{x}<br>count=%{y}<extra></extra>",
         "legendgroup": "Ethics and Social Impacts of AI",
         "marker": {
          "color": "#19D3F3",
          "pattern": {
           "shape": ""
          }
         },
         "name": "Ethics and Social Impacts of AI",
         "orientation": "h",
         "showlegend": true,
         "textposition": "auto",
         "type": "bar",
         "x": [
          31622400000
         ],
         "xaxis": "x",
         "y": {
          "bdata": "Bg==",
          "dtype": "i1"
         },
         "yaxis": "y"
        }
       ],
       "layout": {
        "bargap": 0.2,
        "barmode": "overlay",
        "legend": {
         "title": {
          "text": "topic"
         },
         "tracegroupgap": 0
        },
        "template": {
         "data": {
          "bar": [
           {
            "error_x": {
             "color": "#2a3f5f"
            },
            "error_y": {
             "color": "#2a3f5f"
            },
            "marker": {
             "line": {
              "color": "#E5ECF6",
              "width": 0.5
             },
             "pattern": {
              "fillmode": "overlay",
              "size": 10,
              "solidity": 0.2
             }
            },
            "type": "bar"
           }
          ],
          "barpolar": [
           {
            "marker": {
             "line": {
              "color": "#E5ECF6",
              "width": 0.5
             },
             "pattern": {
              "fillmode": "overlay",
              "size": 10,
              "solidity": 0.2
             }
            },
            "type": "barpolar"
           }
          ],
          "carpet": [
           {
            "aaxis": {
             "endlinecolor": "#2a3f5f",
             "gridcolor": "white",
             "linecolor": "white",
             "minorgridcolor": "white",
             "startlinecolor": "#2a3f5f"
            },
            "baxis": {
             "endlinecolor": "#2a3f5f",
             "gridcolor": "white",
             "linecolor": "white",
             "minorgridcolor": "white",
             "startlinecolor": "#2a3f5f"
            },
            "type": "carpet"
           }
          ],
          "choropleth": [
           {
            "colorbar": {
             "outlinewidth": 0,
             "ticks": ""
            },
            "type": "choropleth"
           }
          ],
          "contour": [
           {
            "colorbar": {
             "outlinewidth": 0,
             "ticks": ""
            },
            "colorscale": [
             [
              0,
              "#0d0887"
             ],
             [
              0.1111111111111111,
              "#46039f"
             ],
             [
              0.2222222222222222,
              "#7201a8"
             ],
             [
              0.3333333333333333,
              "#9c179e"
             ],
             [
              0.4444444444444444,
              "#bd3786"
             ],
             [
              0.5555555555555556,
              "#d8576b"
             ],
             [
              0.6666666666666666,
              "#ed7953"
             ],
             [
              0.7777777777777778,
              "#fb9f3a"
             ],
             [
              0.8888888888888888,
              "#fdca26"
             ],
             [
              1,
              "#f0f921"
             ]
            ],
            "type": "contour"
           }
          ],
          "contourcarpet": [
           {
            "colorbar": {
             "outlinewidth": 0,
             "ticks": ""
            },
            "type": "contourcarpet"
           }
          ],
          "heatmap": [
           {
            "colorbar": {
             "outlinewidth": 0,
             "ticks": ""
            },
            "colorscale": [
             [
              0,
              "#0d0887"
             ],
             [
              0.1111111111111111,
              "#46039f"
             ],
             [
              0.2222222222222222,
              "#7201a8"
             ],
             [
              0.3333333333333333,
              "#9c179e"
             ],
             [
              0.4444444444444444,
              "#bd3786"
             ],
             [
              0.5555555555555556,
              "#d8576b"
             ],
             [
              0.6666666666666666,
              "#ed7953"
             ],
             [
              0.7777777777777778,
              "#fb9f3a"
             ],
             [
              0.8888888888888888,
              "#fdca26"
             ],
             [
              1,
              "#f0f921"
             ]
            ],
            "type": "heatmap"
           }
          ],
          "histogram": [
           {
            "marker": {
             "pattern": {
              "fillmode": "overlay",
              "size": 10,
              "solidity": 0.2
             }
            },
            "type": "histogram"
           }
          ],
          "histogram2d": [
           {
            "colorbar": {
             "outlinewidth": 0,
             "ticks": ""
            },
            "colorscale": [
             [
              0,
              "#0d0887"
             ],
             [
              0.1111111111111111,
              "#46039f"
             ],
             [
              0.2222222222222222,
              "#7201a8"
             ],
             [
              0.3333333333333333,
              "#9c179e"
             ],
             [
              0.4444444444444444,
              "#bd3786"
             ],
             [
              0.5555555555555556,
              "#d8576b"
             ],
             [
              0.6666666666666666,
              "#ed7953"
             ],
             [
              0.7777777777777778,
              "#fb9f3a"
             ],
             [
              0.8888888888888888,
              "#fdca26"
             ],
             [
              1,
              "#f0f921"
             ]
            ],
            "type": "histogram2d"
           }
          ],
          "histogram2dcontour": [
           {
            "colorbar": {
             "outlinewidth": 0,
             "ticks": ""
            },
            "colorscale": [
             [
              0,
              "#0d0887"
             ],
             [
              0.1111111111111111,
              "#46039f"
             ],
             [
              0.2222222222222222,
              "#7201a8"
             ],
             [
              0.3333333333333333,
              "#9c179e"
             ],
             [
              0.4444444444444444,
              "#bd3786"
             ],
             [
              0.5555555555555556,
              "#d8576b"
             ],
             [
              0.6666666666666666,
              "#ed7953"
             ],
             [
              0.7777777777777778,
              "#fb9f3a"
             ],
             [
              0.8888888888888888,
              "#fdca26"
             ],
             [
              1,
              "#f0f921"
             ]
            ],
            "type": "histogram2dcontour"
           }
          ],
          "mesh3d": [
           {
            "colorbar": {
             "outlinewidth": 0,
             "ticks": ""
            },
            "type": "mesh3d"
           }
          ],
          "parcoords": [
           {
            "line": {
             "colorbar": {
              "outlinewidth": 0,
              "ticks": ""
             }
            },
            "type": "parcoords"
           }
          ],
          "pie": [
           {
            "automargin": true,
            "type": "pie"
           }
          ],
          "scatter": [
           {
            "fillpattern": {
             "fillmode": "overlay",
             "size": 10,
             "solidity": 0.2
            },
            "type": "scatter"
           }
          ],
          "scatter3d": [
           {
            "line": {
             "colorbar": {
              "outlinewidth": 0,
              "ticks": ""
             }
            },
            "marker": {
             "colorbar": {
              "outlinewidth": 0,
              "ticks": ""
             }
            },
            "type": "scatter3d"
           }
          ],
          "scattercarpet": [
           {
            "marker": {
             "colorbar": {
              "outlinewidth": 0,
              "ticks": ""
             }
            },
            "type": "scattercarpet"
           }
          ],
          "scattergeo": [
           {
            "marker": {
             "colorbar": {
              "outlinewidth": 0,
              "ticks": ""
             }
            },
            "type": "scattergeo"
           }
          ],
          "scattergl": [
           {
            "marker": {
             "colorbar": {
              "outlinewidth": 0,
              "ticks": ""
             }
            },
            "type": "scattergl"
           }
          ],
          "scattermap": [
           {
            "marker": {
             "colorbar": {
              "outlinewidth": 0,
              "ticks": ""
             }
            },
            "type": "scattermap"
           }
          ],
          "scattermapbox": [
           {
            "marker": {
             "colorbar": {
              "outlinewidth": 0,
              "ticks": ""
             }
            },
            "type": "scattermapbox"
           }
          ],
          "scatterpolar": [
           {
            "marker": {
             "colorbar": {
              "outlinewidth": 0,
              "ticks": ""
             }
            },
            "type": "scatterpolar"
           }
          ],
          "scatterpolargl": [
           {
            "marker": {
             "colorbar": {
              "outlinewidth": 0,
              "ticks": ""
             }
            },
            "type": "scatterpolargl"
           }
          ],
          "scatterternary": [
           {
            "marker": {
             "colorbar": {
              "outlinewidth": 0,
              "ticks": ""
             }
            },
            "type": "scatterternary"
           }
          ],
          "surface": [
           {
            "colorbar": {
             "outlinewidth": 0,
             "ticks": ""
            },
            "colorscale": [
             [
              0,
              "#0d0887"
             ],
             [
              0.1111111111111111,
              "#46039f"
             ],
             [
              0.2222222222222222,
              "#7201a8"
             ],
             [
              0.3333333333333333,
              "#9c179e"
             ],
             [
              0.4444444444444444,
              "#bd3786"
             ],
             [
              0.5555555555555556,
              "#d8576b"
             ],
             [
              0.6666666666666666,
              "#ed7953"
             ],
             [
              0.7777777777777778,
              "#fb9f3a"
             ],
             [
              0.8888888888888888,
              "#fdca26"
             ],
             [
              1,
              "#f0f921"
             ]
            ],
            "type": "surface"
           }
          ],
          "table": [
           {
            "cells": {
             "fill": {
              "color": "#EBF0F8"
             },
             "line": {
              "color": "white"
             }
            },
            "header": {
             "fill": {
              "color": "#C8D4E3"
             },
             "line": {
              "color": "white"
             }
            },
            "type": "table"
           }
          ]
         },
         "layout": {
          "annotationdefaults": {
           "arrowcolor": "#2a3f5f",
           "arrowhead": 0,
           "arrowwidth": 1
          },
          "autotypenumbers": "strict",
          "coloraxis": {
           "colorbar": {
            "outlinewidth": 0,
            "ticks": ""
           }
          },
          "colorscale": {
           "diverging": [
            [
             0,
             "#8e0152"
            ],
            [
             0.1,
             "#c51b7d"
            ],
            [
             0.2,
             "#de77ae"
            ],
            [
             0.3,
             "#f1b6da"
            ],
            [
             0.4,
             "#fde0ef"
            ],
            [
             0.5,
             "#f7f7f7"
            ],
            [
             0.6,
             "#e6f5d0"
            ],
            [
             0.7,
             "#b8e186"
            ],
            [
             0.8,
             "#7fbc41"
            ],
            [
             0.9,
             "#4d9221"
            ],
            [
             1,
             "#276419"
            ]
           ],
           "sequential": [
            [
             0,
             "#0d0887"
            ],
            [
             0.1111111111111111,
             "#46039f"
            ],
            [
             0.2222222222222222,
             "#7201a8"
            ],
            [
             0.3333333333333333,
             "#9c179e"
            ],
            [
             0.4444444444444444,
             "#bd3786"
            ],
            [
             0.5555555555555556,
             "#d8576b"
            ],
            [
             0.6666666666666666,
             "#ed7953"
            ],
            [
             0.7777777777777778,
             "#fb9f3a"
            ],
            [
             0.8888888888888888,
             "#fdca26"
            ],
            [
             1,
             "#f0f921"
            ]
           ],
           "sequentialminus": [
            [
             0,
             "#0d0887"
            ],
            [
             0.1111111111111111,
             "#46039f"
            ],
            [
             0.2222222222222222,
             "#7201a8"
            ],
            [
             0.3333333333333333,
             "#9c179e"
            ],
            [
             0.4444444444444444,
             "#bd3786"
            ],
            [
             0.5555555555555556,
             "#d8576b"
            ],
            [
             0.6666666666666666,
             "#ed7953"
            ],
            [
             0.7777777777777778,
             "#fb9f3a"
            ],
            [
             0.8888888888888888,
             "#fdca26"
            ],
            [
             1,
             "#f0f921"
            ]
           ]
          },
          "colorway": [
           "#636efa",
           "#EF553B",
           "#00cc96",
           "#ab63fa",
           "#FFA15A",
           "#19d3f3",
           "#FF6692",
           "#B6E880",
           "#FF97FF",
           "#FECB52"
          ],
          "font": {
           "color": "#2a3f5f"
          },
          "geo": {
           "bgcolor": "white",
           "lakecolor": "white",
           "landcolor": "#E5ECF6",
           "showlakes": true,
           "showland": true,
           "subunitcolor": "white"
          },
          "hoverlabel": {
           "align": "left"
          },
          "hovermode": "closest",
          "mapbox": {
           "style": "light"
          },
          "paper_bgcolor": "white",
          "plot_bgcolor": "#E5ECF6",
          "polar": {
           "angularaxis": {
            "gridcolor": "white",
            "linecolor": "white",
            "ticks": ""
           },
           "bgcolor": "#E5ECF6",
           "radialaxis": {
            "gridcolor": "white",
            "linecolor": "white",
            "ticks": ""
           }
          },
          "scene": {
           "xaxis": {
            "backgroundcolor": "#E5ECF6",
            "gridcolor": "white",
            "gridwidth": 2,
            "linecolor": "white",
            "showbackground": true,
            "ticks": "",
            "zerolinecolor": "white"
           },
           "yaxis": {
            "backgroundcolor": "#E5ECF6",
            "gridcolor": "white",
            "gridwidth": 2,
            "linecolor": "white",
            "showbackground": true,
            "ticks": "",
            "zerolinecolor": "white"
           },
           "zaxis": {
            "backgroundcolor": "#E5ECF6",
            "gridcolor": "white",
            "gridwidth": 2,
            "linecolor": "white",
            "showbackground": true,
            "ticks": "",
            "zerolinecolor": "white"
           }
          },
          "shapedefaults": {
           "line": {
            "color": "#2a3f5f"
           }
          },
          "ternary": {
           "aaxis": {
            "gridcolor": "white",
            "linecolor": "white",
            "ticks": ""
           },
           "baxis": {
            "gridcolor": "white",
            "linecolor": "white",
            "ticks": ""
           },
           "bgcolor": "#E5ECF6",
           "caxis": {
            "gridcolor": "white",
            "linecolor": "white",
            "ticks": ""
           }
          },
          "title": {
           "x": 0.05
          },
          "xaxis": {
           "automargin": true,
           "gridcolor": "white",
           "linecolor": "white",
           "ticks": "",
           "title": {
            "standoff": 15
           },
           "zerolinecolor": "white",
           "zerolinewidth": 2
          },
          "yaxis": {
           "automargin": true,
           "gridcolor": "white",
           "linecolor": "white",
           "ticks": "",
           "title": {
            "standoff": 15
           },
           "zerolinecolor": "white",
           "zerolinewidth": 2
          }
         }
        },
        "title": {
         "text": "ECAI Topic Count Evolution by Year"
        },
        "xaxis": {
         "anchor": "y",
         "domain": [
          0,
          1
         ],
         "title": {
          "text": "Year"
         },
         "type": "date"
        },
        "yaxis": {
         "anchor": "x",
         "domain": [
          0,
          1
         ],
         "title": {
          "text": "N. of Occurrences by Topic"
         }
        }
       }
      }
     },
     "metadata": {},
     "output_type": "display_data"
    }
   ],
   "source": [
    "import json\n",
    "from pathlib import Path\n",
    "import pandas as pd\n",
    "import plotly.express as px\n",
    "\n",
    "base_dir = Path(\"/app/repos/ECAI_DC_EDI_Submission_1\").resolve() # TODO remove the hardcoded path\n",
    "topic_year_count_path = base_dir / \"Data/topic_year_counts.json\"\n",
    "with open(topic_year_count_path, 'r', encoding='utf-8') as f:\n",
    "    topic_counts = json.load(f)\n",
    "\n",
    "rows = []\n",
    "for year, topics in topic_counts.items():\n",
    "    year_int = int(year)\n",
    "    for topic, count in topics.items():\n",
    "        count_int = int(count)\n",
    "        if count_int > 1:\n",
    "            rows.append({\n",
    "                \"topic\": topic,\n",
    "                \"start\": pd.Timestamp(year_int, 1, 1),\n",
    "                \"finish\": pd.Timestamp(year_int + 1, 1, 1),\n",
    "                \"count\": count_int,\n",
    "            })\n",
    "\n",
    "df = pd.DataFrame(rows) #.sort_values(['topic', 'start'])\n",
    "\n",
    "topic_code_to_name = json.load(open(base_dir / \"Data/topic_label.json\", 'r', encoding='utf-8'))\n",
    "df['topic'] = df['topic'].map(topic_code_to_name)\n",
    "\n",
    "fig = px.timeline(\n",
    "    df,\n",
    "    x_start='start',\n",
    "    x_end='finish',\n",
    "    y='count',\n",
    "    color='topic',\n",
    "    color_discrete_sequence=px.colors.qualitative.Plotly,\n",
    "    title='ECAI Topic Count Evolution by Year'\n",
    ")\n",
    "fig.update_layout(xaxis_title='Year', yaxis_title='N. of Occurrences by Topic', bargap=0.2)\n",
    "fig.show()"
   ]
  },
  {
   "cell_type": "markdown",
   "id": "944f091c",
   "metadata": {},
   "source": [
    "There are some gaps, due to data avalability."
   ]
  },
  {
   "cell_type": "markdown",
   "id": "8edb3b8c",
   "metadata": {},
   "source": [
    "# Gif evolution"
   ]
  },
  {
   "cell_type": "code",
   "execution_count": 6,
   "id": "af340120",
   "metadata": {},
   "outputs": [
    {
     "data": {
      "application/vnd.plotly.v1+json": {
       "config": {
        "plotlyServerURL": "https://plot.ly"
       },
       "data": [
        {
         "hovertemplate": "topic=%{y}<br>year=1994<br>count=%{x}<extra></extra>",
         "legendgroup": "Logic, Reasoning, and Knowledge",
         "marker": {
          "color": "#636efa",
          "pattern": {
           "shape": ""
          }
         },
         "name": "Logic, Reasoning, and Knowledge",
         "orientation": "h",
         "showlegend": true,
         "textposition": "auto",
         "type": "bar",
         "x": {
          "bdata": "Eg==",
          "dtype": "i1"
         },
         "xaxis": "x",
         "y": [
          "Logic, Reasoning, and Knowledge"
         ],
         "yaxis": "y"
        },
        {
         "hovertemplate": "topic=%{y}<br>year=1994<br>count=%{x}<extra></extra>",
         "legendgroup": "Semantic Web and Ontologies",
         "marker": {
          "color": "#EF553B",
          "pattern": {
           "shape": ""
          }
         },
         "name": "Semantic Web and Ontologies",
         "orientation": "h",
         "showlegend": true,
         "textposition": "auto",
         "type": "bar",
         "x": {
          "bdata": "Cw==",
          "dtype": "i1"
         },
         "xaxis": "x",
         "y": [
          "Semantic Web and Ontologies"
         ],
         "yaxis": "y"
        },
        {
         "hovertemplate": "topic=%{y}<br>year=1994<br>count=%{x}<extra></extra>",
         "legendgroup": "AI-based Problem Solving and Planning",
         "marker": {
          "color": "#00cc96",
          "pattern": {
           "shape": ""
          }
         },
         "name": "AI-based Problem Solving and Planning",
         "orientation": "h",
         "showlegend": true,
         "textposition": "auto",
         "type": "bar",
         "x": {
          "bdata": "BQ==",
          "dtype": "i1"
         },
         "xaxis": "x",
         "y": [
          "AI-based Problem Solving and Planning"
         ],
         "yaxis": "y"
        },
        {
         "hovertemplate": "topic=%{y}<br>year=1994<br>count=%{x}<extra></extra>",
         "legendgroup": "Logic, programming, and type systems",
         "marker": {
          "color": "#ab63fa",
          "pattern": {
           "shape": ""
          }
         },
         "name": "Logic, programming, and type systems",
         "orientation": "h",
         "showlegend": true,
         "textposition": "auto",
         "type": "bar",
         "x": {
          "bdata": "BA==",
          "dtype": "i1"
         },
         "xaxis": "x",
         "y": [
          "Logic, programming, and type systems"
         ],
         "yaxis": "y"
        },
        {
         "hovertemplate": "topic=%{y}<br>year=1994<br>count=%{x}<extra></extra>",
         "legendgroup": "Advanced Algebra and Logic",
         "marker": {
          "color": "#FFA15A",
          "pattern": {
           "shape": ""
          }
         },
         "name": "Advanced Algebra and Logic",
         "orientation": "h",
         "showlegend": true,
         "textposition": "auto",
         "type": "bar",
         "x": {
          "bdata": "Aw==",
          "dtype": "i1"
         },
         "xaxis": "x",
         "y": [
          "Advanced Algebra and Logic"
         ],
         "yaxis": "y"
        },
        {
         "hovertemplate": "topic=%{y}<br>year=1994<br>count=%{x}<extra></extra>",
         "legendgroup": "Distributed Constraint Optimization Problems and Algorithms",
         "marker": {
          "color": "#19d3f3",
          "pattern": {
           "shape": ""
          }
         },
         "name": "Distributed Constraint Optimization Problems and Algorithms",
         "orientation": "h",
         "showlegend": true,
         "textposition": "auto",
         "type": "bar",
         "x": {
          "bdata": "Aw==",
          "dtype": "i1"
         },
         "xaxis": "x",
         "y": [
          "Distributed Constraint Optimization Problems and Algorithms"
         ],
         "yaxis": "y"
        },
        {
         "hovertemplate": "topic=%{y}<br>year=1994<br>count=%{x}<extra></extra>",
         "legendgroup": "Bayesian Modeling and Causal Inference",
         "marker": {
          "color": "#FF6692",
          "pattern": {
           "shape": ""
          }
         },
         "name": "Bayesian Modeling and Causal Inference",
         "orientation": "h",
         "showlegend": true,
         "textposition": "auto",
         "type": "bar",
         "x": {
          "bdata": "Aw==",
          "dtype": "i1"
         },
         "xaxis": "x",
         "y": [
          "Bayesian Modeling and Causal Inference"
         ],
         "yaxis": "y"
        },
        {
         "hovertemplate": "topic=%{y}<br>year=1994<br>count=%{x}<extra></extra>",
         "legendgroup": "Multi-Agent Systems and Negotiation",
         "marker": {
          "color": "#B6E880",
          "pattern": {
           "shape": ""
          }
         },
         "name": "Multi-Agent Systems and Negotiation",
         "orientation": "h",
         "showlegend": true,
         "textposition": "auto",
         "type": "bar",
         "x": {
          "bdata": "Aw==",
          "dtype": "i1"
         },
         "xaxis": "x",
         "y": [
          "Multi-Agent Systems and Negotiation"
         ],
         "yaxis": "y"
        },
        {
         "hovertemplate": "topic=%{y}<br>year=1994<br>count=%{x}<extra></extra>",
         "legendgroup": "Machine Learning and Algorithms",
         "marker": {
          "color": "#FF97FF",
          "pattern": {
           "shape": ""
          }
         },
         "name": "Machine Learning and Algorithms",
         "orientation": "h",
         "showlegend": true,
         "textposition": "auto",
         "type": "bar",
         "x": {
          "bdata": "Ag==",
          "dtype": "i1"
         },
         "xaxis": "x",
         "y": [
          "Machine Learning and Algorithms"
         ],
         "yaxis": "y"
        },
        {
         "hovertemplate": "topic=%{y}<br>year=1994<br>count=%{x}<extra></extra>",
         "legendgroup": "Natural Language Processing Techniques",
         "marker": {
          "color": "#FECB52",
          "pattern": {
           "shape": ""
          }
         },
         "name": "Natural Language Processing Techniques",
         "orientation": "h",
         "showlegend": true,
         "textposition": "auto",
         "type": "bar",
         "x": {
          "bdata": "Ag==",
          "dtype": "i1"
         },
         "xaxis": "x",
         "y": [
          "Natural Language Processing Techniques"
         ],
         "yaxis": "y"
        }
       ],
       "frames": [
        {
         "data": [
          {
           "hovertemplate": "topic=%{y}<br>year=1994<br>count=%{x}<extra></extra>",
           "legendgroup": "Logic, Reasoning, and Knowledge",
           "marker": {
            "color": "#636efa",
            "pattern": {
             "shape": ""
            }
           },
           "name": "Logic, Reasoning, and Knowledge",
           "orientation": "h",
           "showlegend": true,
           "textposition": "auto",
           "type": "bar",
           "x": {
            "bdata": "Eg==",
            "dtype": "i1"
           },
           "xaxis": "x",
           "y": [
            "Logic, Reasoning, and Knowledge"
           ],
           "yaxis": "y"
          },
          {
           "hovertemplate": "topic=%{y}<br>year=1994<br>count=%{x}<extra></extra>",
           "legendgroup": "Semantic Web and Ontologies",
           "marker": {
            "color": "#EF553B",
            "pattern": {
             "shape": ""
            }
           },
           "name": "Semantic Web and Ontologies",
           "orientation": "h",
           "showlegend": true,
           "textposition": "auto",
           "type": "bar",
           "x": {
            "bdata": "Cw==",
            "dtype": "i1"
           },
           "xaxis": "x",
           "y": [
            "Semantic Web and Ontologies"
           ],
           "yaxis": "y"
          },
          {
           "hovertemplate": "topic=%{y}<br>year=1994<br>count=%{x}<extra></extra>",
           "legendgroup": "AI-based Problem Solving and Planning",
           "marker": {
            "color": "#00cc96",
            "pattern": {
             "shape": ""
            }
           },
           "name": "AI-based Problem Solving and Planning",
           "orientation": "h",
           "showlegend": true,
           "textposition": "auto",
           "type": "bar",
           "x": {
            "bdata": "BQ==",
            "dtype": "i1"
           },
           "xaxis": "x",
           "y": [
            "AI-based Problem Solving and Planning"
           ],
           "yaxis": "y"
          },
          {
           "hovertemplate": "topic=%{y}<br>year=1994<br>count=%{x}<extra></extra>",
           "legendgroup": "Logic, programming, and type systems",
           "marker": {
            "color": "#ab63fa",
            "pattern": {
             "shape": ""
            }
           },
           "name": "Logic, programming, and type systems",
           "orientation": "h",
           "showlegend": true,
           "textposition": "auto",
           "type": "bar",
           "x": {
            "bdata": "BA==",
            "dtype": "i1"
           },
           "xaxis": "x",
           "y": [
            "Logic, programming, and type systems"
           ],
           "yaxis": "y"
          },
          {
           "hovertemplate": "topic=%{y}<br>year=1994<br>count=%{x}<extra></extra>",
           "legendgroup": "Advanced Algebra and Logic",
           "marker": {
            "color": "#FFA15A",
            "pattern": {
             "shape": ""
            }
           },
           "name": "Advanced Algebra and Logic",
           "orientation": "h",
           "showlegend": true,
           "textposition": "auto",
           "type": "bar",
           "x": {
            "bdata": "Aw==",
            "dtype": "i1"
           },
           "xaxis": "x",
           "y": [
            "Advanced Algebra and Logic"
           ],
           "yaxis": "y"
          },
          {
           "hovertemplate": "topic=%{y}<br>year=1994<br>count=%{x}<extra></extra>",
           "legendgroup": "Distributed Constraint Optimization Problems and Algorithms",
           "marker": {
            "color": "#19d3f3",
            "pattern": {
             "shape": ""
            }
           },
           "name": "Distributed Constraint Optimization Problems and Algorithms",
           "orientation": "h",
           "showlegend": true,
           "textposition": "auto",
           "type": "bar",
           "x": {
            "bdata": "Aw==",
            "dtype": "i1"
           },
           "xaxis": "x",
           "y": [
            "Distributed Constraint Optimization Problems and Algorithms"
           ],
           "yaxis": "y"
          },
          {
           "hovertemplate": "topic=%{y}<br>year=1994<br>count=%{x}<extra></extra>",
           "legendgroup": "Bayesian Modeling and Causal Inference",
           "marker": {
            "color": "#FF6692",
            "pattern": {
             "shape": ""
            }
           },
           "name": "Bayesian Modeling and Causal Inference",
           "orientation": "h",
           "showlegend": true,
           "textposition": "auto",
           "type": "bar",
           "x": {
            "bdata": "Aw==",
            "dtype": "i1"
           },
           "xaxis": "x",
           "y": [
            "Bayesian Modeling and Causal Inference"
           ],
           "yaxis": "y"
          },
          {
           "hovertemplate": "topic=%{y}<br>year=1994<br>count=%{x}<extra></extra>",
           "legendgroup": "Multi-Agent Systems and Negotiation",
           "marker": {
            "color": "#B6E880",
            "pattern": {
             "shape": ""
            }
           },
           "name": "Multi-Agent Systems and Negotiation",
           "orientation": "h",
           "showlegend": true,
           "textposition": "auto",
           "type": "bar",
           "x": {
            "bdata": "Aw==",
            "dtype": "i1"
           },
           "xaxis": "x",
           "y": [
            "Multi-Agent Systems and Negotiation"
           ],
           "yaxis": "y"
          },
          {
           "hovertemplate": "topic=%{y}<br>year=1994<br>count=%{x}<extra></extra>",
           "legendgroup": "Machine Learning and Algorithms",
           "marker": {
            "color": "#FF97FF",
            "pattern": {
             "shape": ""
            }
           },
           "name": "Machine Learning and Algorithms",
           "orientation": "h",
           "showlegend": true,
           "textposition": "auto",
           "type": "bar",
           "x": {
            "bdata": "Ag==",
            "dtype": "i1"
           },
           "xaxis": "x",
           "y": [
            "Machine Learning and Algorithms"
           ],
           "yaxis": "y"
          },
          {
           "hovertemplate": "topic=%{y}<br>year=1994<br>count=%{x}<extra></extra>",
           "legendgroup": "Natural Language Processing Techniques",
           "marker": {
            "color": "#FECB52",
            "pattern": {
             "shape": ""
            }
           },
           "name": "Natural Language Processing Techniques",
           "orientation": "h",
           "showlegend": true,
           "textposition": "auto",
           "type": "bar",
           "x": {
            "bdata": "Ag==",
            "dtype": "i1"
           },
           "xaxis": "x",
           "y": [
            "Natural Language Processing Techniques"
           ],
           "yaxis": "y"
          }
         ],
         "name": "1994"
        },
        {
         "data": [
          {
           "hovertemplate": "topic=%{y}<br>year=1995<br>count=%{x}<extra></extra>",
           "legendgroup": "Logic, Reasoning, and Knowledge",
           "marker": {
            "color": "#636efa",
            "pattern": {
             "shape": ""
            }
           },
           "name": "Logic, Reasoning, and Knowledge",
           "orientation": "h",
           "showlegend": true,
           "textposition": "auto",
           "type": "bar",
           "x": {
            "bdata": "FQ==",
            "dtype": "i1"
           },
           "xaxis": "x",
           "y": [
            "Logic, Reasoning, and Knowledge"
           ],
           "yaxis": "y"
          },
          {
           "hovertemplate": "topic=%{y}<br>year=1995<br>count=%{x}<extra></extra>",
           "legendgroup": "Semantic Web and Ontologies",
           "marker": {
            "color": "#EF553B",
            "pattern": {
             "shape": ""
            }
           },
           "name": "Semantic Web and Ontologies",
           "orientation": "h",
           "showlegend": true,
           "textposition": "auto",
           "type": "bar",
           "x": {
            "bdata": "CQ==",
            "dtype": "i1"
           },
           "xaxis": "x",
           "y": [
            "Semantic Web and Ontologies"
           ],
           "yaxis": "y"
          },
          {
           "hovertemplate": "topic=%{y}<br>year=1995<br>count=%{x}<extra></extra>",
           "legendgroup": "AI-based Problem Solving and Planning",
           "marker": {
            "color": "#00cc96",
            "pattern": {
             "shape": ""
            }
           },
           "name": "AI-based Problem Solving and Planning",
           "orientation": "h",
           "showlegend": true,
           "textposition": "auto",
           "type": "bar",
           "x": {
            "bdata": "CA==",
            "dtype": "i1"
           },
           "xaxis": "x",
           "y": [
            "AI-based Problem Solving and Planning"
           ],
           "yaxis": "y"
          },
          {
           "hovertemplate": "topic=%{y}<br>year=1995<br>count=%{x}<extra></extra>",
           "legendgroup": "Multi-Agent Systems and Negotiation",
           "marker": {
            "color": "#B6E880",
            "pattern": {
             "shape": ""
            }
           },
           "name": "Multi-Agent Systems and Negotiation",
           "orientation": "h",
           "showlegend": true,
           "textposition": "auto",
           "type": "bar",
           "x": {
            "bdata": "FQ==",
            "dtype": "i1"
           },
           "xaxis": "x",
           "y": [
            "Multi-Agent Systems and Negotiation"
           ],
           "yaxis": "y"
          },
          {
           "hovertemplate": "topic=%{y}<br>year=1995<br>count=%{x}<extra></extra>",
           "legendgroup": "Machine Learning and Algorithms",
           "marker": {
            "color": "#FF97FF",
            "pattern": {
             "shape": ""
            }
           },
           "name": "Machine Learning and Algorithms",
           "orientation": "h",
           "showlegend": true,
           "textposition": "auto",
           "type": "bar",
           "x": {
            "bdata": "AQ==",
            "dtype": "i1"
           },
           "xaxis": "x",
           "y": [
            "Machine Learning and Algorithms"
           ],
           "yaxis": "y"
          },
          {
           "hovertemplate": "topic=%{y}<br>year=1995<br>count=%{x}<extra></extra>",
           "legendgroup": "Mobile Agent-Based Network Management",
           "marker": {
            "color": "#636efa",
            "pattern": {
             "shape": ""
            }
           },
           "name": "Mobile Agent-Based Network Management",
           "orientation": "h",
           "showlegend": true,
           "textposition": "auto",
           "type": "bar",
           "x": {
            "bdata": "Ag==",
            "dtype": "i1"
           },
           "xaxis": "x",
           "y": [
            "Mobile Agent-Based Network Management"
           ],
           "yaxis": "y"
          },
          {
           "hovertemplate": "topic=%{y}<br>year=1995<br>count=%{x}<extra></extra>",
           "legendgroup": "Robotic Path Planning Algorithms",
           "marker": {
            "color": "#EF553B",
            "pattern": {
             "shape": ""
            }
           },
           "name": "Robotic Path Planning Algorithms",
           "orientation": "h",
           "showlegend": true,
           "textposition": "auto",
           "type": "bar",
           "x": {
            "bdata": "Ag==",
            "dtype": "i1"
           },
           "xaxis": "x",
           "y": [
            "Robotic Path Planning Algorithms"
           ],
           "yaxis": "y"
          },
          {
           "hovertemplate": "topic=%{y}<br>year=1995<br>count=%{x}<extra></extra>",
           "legendgroup": "Educational Games and Gamification",
           "marker": {
            "color": "#00cc96",
            "pattern": {
             "shape": ""
            }
           },
           "name": "Educational Games and Gamification",
           "orientation": "h",
           "showlegend": true,
           "textposition": "auto",
           "type": "bar",
           "x": {
            "bdata": "AQ==",
            "dtype": "i1"
           },
           "xaxis": "x",
           "y": [
            "Educational Games and Gamification"
           ],
           "yaxis": "y"
          },
          {
           "hovertemplate": "topic=%{y}<br>year=1995<br>count=%{x}<extra></extra>",
           "legendgroup": "Computability, Logic, AI Algorithms",
           "marker": {
            "color": "#ab63fa",
            "pattern": {
             "shape": ""
            }
           },
           "name": "Computability, Logic, AI Algorithms",
           "orientation": "h",
           "showlegend": true,
           "textposition": "auto",
           "type": "bar",
           "x": {
            "bdata": "AQ==",
            "dtype": "i1"
           },
           "xaxis": "x",
           "y": [
            "Computability, Logic, AI Algorithms"
           ],
           "yaxis": "y"
          },
          {
           "hovertemplate": "topic=%{y}<br>year=1995<br>count=%{x}<extra></extra>",
           "legendgroup": "Evolutionary Game Theory and Cooperation",
           "marker": {
            "color": "#FFA15A",
            "pattern": {
             "shape": ""
            }
           },
           "name": "Evolutionary Game Theory and Cooperation",
           "orientation": "h",
           "showlegend": true,
           "textposition": "auto",
           "type": "bar",
           "x": {
            "bdata": "AQ==",
            "dtype": "i1"
           },
           "xaxis": "x",
           "y": [
            "Evolutionary Game Theory and Cooperation"
           ],
           "yaxis": "y"
          }
         ],
         "name": "1995"
        },
        {
         "data": [
          {
           "hovertemplate": "topic=%{y}<br>year=1997<br>count=%{x}<extra></extra>",
           "legendgroup": "Logic, Reasoning, and Knowledge",
           "marker": {
            "color": "#636efa",
            "pattern": {
             "shape": ""
            }
           },
           "name": "Logic, Reasoning, and Knowledge",
           "orientation": "h",
           "showlegend": true,
           "textposition": "auto",
           "type": "bar",
           "x": {
            "bdata": "BQ==",
            "dtype": "i1"
           },
           "xaxis": "x",
           "y": [
            "Logic, Reasoning, and Knowledge"
           ],
           "yaxis": "y"
          },
          {
           "hovertemplate": "topic=%{y}<br>year=1997<br>count=%{x}<extra></extra>",
           "legendgroup": "Multi-Agent Systems and Negotiation",
           "marker": {
            "color": "#B6E880",
            "pattern": {
             "shape": ""
            }
           },
           "name": "Multi-Agent Systems and Negotiation",
           "orientation": "h",
           "showlegend": true,
           "textposition": "auto",
           "type": "bar",
           "x": {
            "bdata": "DQ==",
            "dtype": "i1"
           },
           "xaxis": "x",
           "y": [
            "Multi-Agent Systems and Negotiation"
           ],
           "yaxis": "y"
          },
          {
           "hovertemplate": "topic=%{y}<br>year=1997<br>count=%{x}<extra></extra>",
           "legendgroup": "Natural Language Processing Techniques",
           "marker": {
            "color": "#FECB52",
            "pattern": {
             "shape": ""
            }
           },
           "name": "Natural Language Processing Techniques",
           "orientation": "h",
           "showlegend": true,
           "textposition": "auto",
           "type": "bar",
           "x": {
            "bdata": "Cw==",
            "dtype": "i1"
           },
           "xaxis": "x",
           "y": [
            "Natural Language Processing Techniques"
           ],
           "yaxis": "y"
          },
          {
           "hovertemplate": "topic=%{y}<br>year=1997<br>count=%{x}<extra></extra>",
           "legendgroup": "Robotic Path Planning Algorithms",
           "marker": {
            "color": "#EF553B",
            "pattern": {
             "shape": ""
            }
           },
           "name": "Robotic Path Planning Algorithms",
           "orientation": "h",
           "showlegend": true,
           "textposition": "auto",
           "type": "bar",
           "x": {
            "bdata": "Aw==",
            "dtype": "i1"
           },
           "xaxis": "x",
           "y": [
            "Robotic Path Planning Algorithms"
           ],
           "yaxis": "y"
          },
          {
           "hovertemplate": "topic=%{y}<br>year=1997<br>count=%{x}<extra></extra>",
           "legendgroup": "Evolutionary Game Theory and Cooperation",
           "marker": {
            "color": "#FFA15A",
            "pattern": {
             "shape": ""
            }
           },
           "name": "Evolutionary Game Theory and Cooperation",
           "orientation": "h",
           "showlegend": true,
           "textposition": "auto",
           "type": "bar",
           "x": {
            "bdata": "Ag==",
            "dtype": "i1"
           },
           "xaxis": "x",
           "y": [
            "Evolutionary Game Theory and Cooperation"
           ],
           "yaxis": "y"
          },
          {
           "hovertemplate": "topic=%{y}<br>year=1997<br>count=%{x}<extra></extra>",
           "legendgroup": "Speech and dialogue systems",
           "marker": {
            "color": "#19d3f3",
            "pattern": {
             "shape": ""
            }
           },
           "name": "Speech and dialogue systems",
           "orientation": "h",
           "showlegend": true,
           "textposition": "auto",
           "type": "bar",
           "x": {
            "bdata": "EQ==",
            "dtype": "i1"
           },
           "xaxis": "x",
           "y": [
            "Speech and dialogue systems"
           ],
           "yaxis": "y"
          },
          {
           "hovertemplate": "topic=%{y}<br>year=1997<br>count=%{x}<extra></extra>",
           "legendgroup": "Topic Modeling",
           "marker": {
            "color": "#FF6692",
            "pattern": {
             "shape": ""
            }
           },
           "name": "Topic Modeling",
           "orientation": "h",
           "showlegend": true,
           "textposition": "auto",
           "type": "bar",
           "x": {
            "bdata": "Bw==",
            "dtype": "i1"
           },
           "xaxis": "x",
           "y": [
            "Topic Modeling"
           ],
           "yaxis": "y"
          },
          {
           "hovertemplate": "topic=%{y}<br>year=1997<br>count=%{x}<extra></extra>",
           "legendgroup": "Reinforcement Learning in Robotics",
           "marker": {
            "color": "#B6E880",
            "pattern": {
             "shape": ""
            }
           },
           "name": "Reinforcement Learning in Robotics",
           "orientation": "h",
           "showlegend": true,
           "textposition": "auto",
           "type": "bar",
           "x": {
            "bdata": "BA==",
            "dtype": "i1"
           },
           "xaxis": "x",
           "y": [
            "Reinforcement Learning in Robotics"
           ],
           "yaxis": "y"
          },
          {
           "hovertemplate": "topic=%{y}<br>year=1997<br>count=%{x}<extra></extra>",
           "legendgroup": "Evolutionary Algorithms and Applications",
           "marker": {
            "color": "#FF97FF",
            "pattern": {
             "shape": ""
            }
           },
           "name": "Evolutionary Algorithms and Applications",
           "orientation": "h",
           "showlegend": true,
           "textposition": "auto",
           "type": "bar",
           "x": {
            "bdata": "Aw==",
            "dtype": "i1"
           },
           "xaxis": "x",
           "y": [
            "Evolutionary Algorithms and Applications"
           ],
           "yaxis": "y"
          },
          {
           "hovertemplate": "topic=%{y}<br>year=1997<br>count=%{x}<extra></extra>",
           "legendgroup": "Language and cultural evolution",
           "marker": {
            "color": "#FECB52",
            "pattern": {
             "shape": ""
            }
           },
           "name": "Language and cultural evolution",
           "orientation": "h",
           "showlegend": true,
           "textposition": "auto",
           "type": "bar",
           "x": {
            "bdata": "Ag==",
            "dtype": "i1"
           },
           "xaxis": "x",
           "y": [
            "Language and cultural evolution"
           ],
           "yaxis": "y"
          }
         ],
         "name": "1997"
        },
        {
         "data": [
          {
           "hovertemplate": "topic=%{y}<br>year=2001<br>count=%{x}<extra></extra>",
           "legendgroup": "Logic, Reasoning, and Knowledge",
           "marker": {
            "color": "#636efa",
            "pattern": {
             "shape": ""
            }
           },
           "name": "Logic, Reasoning, and Knowledge",
           "orientation": "h",
           "showlegend": true,
           "textposition": "auto",
           "type": "bar",
           "x": {
            "bdata": "Bg==",
            "dtype": "i1"
           },
           "xaxis": "x",
           "y": [
            "Logic, Reasoning, and Knowledge"
           ],
           "yaxis": "y"
          },
          {
           "hovertemplate": "topic=%{y}<br>year=2001<br>count=%{x}<extra></extra>",
           "legendgroup": "Semantic Web and Ontologies",
           "marker": {
            "color": "#EF553B",
            "pattern": {
             "shape": ""
            }
           },
           "name": "Semantic Web and Ontologies",
           "orientation": "h",
           "showlegend": true,
           "textposition": "auto",
           "type": "bar",
           "x": {
            "bdata": "Ag==",
            "dtype": "i1"
           },
           "xaxis": "x",
           "y": [
            "Semantic Web and Ontologies"
           ],
           "yaxis": "y"
          },
          {
           "hovertemplate": "topic=%{y}<br>year=2001<br>count=%{x}<extra></extra>",
           "legendgroup": "AI-based Problem Solving and Planning",
           "marker": {
            "color": "#00cc96",
            "pattern": {
             "shape": ""
            }
           },
           "name": "AI-based Problem Solving and Planning",
           "orientation": "h",
           "showlegend": true,
           "textposition": "auto",
           "type": "bar",
           "x": {
            "bdata": "Cg==",
            "dtype": "i1"
           },
           "xaxis": "x",
           "y": [
            "AI-based Problem Solving and Planning"
           ],
           "yaxis": "y"
          },
          {
           "hovertemplate": "topic=%{y}<br>year=2001<br>count=%{x}<extra></extra>",
           "legendgroup": "Distributed Constraint Optimization Problems and Algorithms",
           "marker": {
            "color": "#19d3f3",
            "pattern": {
             "shape": ""
            }
           },
           "name": "Distributed Constraint Optimization Problems and Algorithms",
           "orientation": "h",
           "showlegend": true,
           "textposition": "auto",
           "type": "bar",
           "x": {
            "bdata": "Bg==",
            "dtype": "i1"
           },
           "xaxis": "x",
           "y": [
            "Distributed Constraint Optimization Problems and Algorithms"
           ],
           "yaxis": "y"
          },
          {
           "hovertemplate": "topic=%{y}<br>year=2001<br>count=%{x}<extra></extra>",
           "legendgroup": "Multi-Agent Systems and Negotiation",
           "marker": {
            "color": "#B6E880",
            "pattern": {
             "shape": ""
            }
           },
           "name": "Multi-Agent Systems and Negotiation",
           "orientation": "h",
           "showlegend": true,
           "textposition": "auto",
           "type": "bar",
           "x": {
            "bdata": "Bg==",
            "dtype": "i1"
           },
           "xaxis": "x",
           "y": [
            "Multi-Agent Systems and Negotiation"
           ],
           "yaxis": "y"
          },
          {
           "hovertemplate": "topic=%{y}<br>year=2001<br>count=%{x}<extra></extra>",
           "legendgroup": "Robotic Path Planning Algorithms",
           "marker": {
            "color": "#EF553B",
            "pattern": {
             "shape": ""
            }
           },
           "name": "Robotic Path Planning Algorithms",
           "orientation": "h",
           "showlegend": true,
           "textposition": "auto",
           "type": "bar",
           "x": {
            "bdata": "BQ==",
            "dtype": "i1"
           },
           "xaxis": "x",
           "y": [
            "Robotic Path Planning Algorithms"
           ],
           "yaxis": "y"
          },
          {
           "hovertemplate": "topic=%{y}<br>year=2001<br>count=%{x}<extra></extra>",
           "legendgroup": "Reinforcement Learning in Robotics",
           "marker": {
            "color": "#B6E880",
            "pattern": {
             "shape": ""
            }
           },
           "name": "Reinforcement Learning in Robotics",
           "orientation": "h",
           "showlegend": true,
           "textposition": "auto",
           "type": "bar",
           "x": {
            "bdata": "Bg==",
            "dtype": "i1"
           },
           "xaxis": "x",
           "y": [
            "Reinforcement Learning in Robotics"
           ],
           "yaxis": "y"
          },
          {
           "hovertemplate": "topic=%{y}<br>year=2001<br>count=%{x}<extra></extra>",
           "legendgroup": "Vehicle Routing Optimization Methods",
           "marker": {
            "color": "#636efa",
            "pattern": {
             "shape": ""
            }
           },
           "name": "Vehicle Routing Optimization Methods",
           "orientation": "h",
           "showlegend": true,
           "textposition": "auto",
           "type": "bar",
           "x": {
            "bdata": "BA==",
            "dtype": "i1"
           },
           "xaxis": "x",
           "y": [
            "Vehicle Routing Optimization Methods"
           ],
           "yaxis": "y"
          },
          {
           "hovertemplate": "topic=%{y}<br>year=2001<br>count=%{x}<extra></extra>",
           "legendgroup": "Distributed Multi-Agent Coordination and Control",
           "marker": {
            "color": "#EF553B",
            "pattern": {
             "shape": ""
            }
           },
           "name": "Distributed Multi-Agent Coordination and Control",
           "orientation": "h",
           "showlegend": true,
           "textposition": "auto",
           "type": "bar",
           "x": {
            "bdata": "Ag==",
            "dtype": "i1"
           },
           "xaxis": "x",
           "y": [
            "Distributed Multi-Agent Coordination and Control"
           ],
           "yaxis": "y"
          },
          {
           "hovertemplate": "topic=%{y}<br>year=2001<br>count=%{x}<extra></extra>",
           "legendgroup": "Optimization and Search Problems",
           "marker": {
            "color": "#00cc96",
            "pattern": {
             "shape": ""
            }
           },
           "name": "Optimization and Search Problems",
           "orientation": "h",
           "showlegend": true,
           "textposition": "auto",
           "type": "bar",
           "x": {
            "bdata": "Ag==",
            "dtype": "i1"
           },
           "xaxis": "x",
           "y": [
            "Optimization and Search Problems"
           ],
           "yaxis": "y"
          }
         ],
         "name": "2001"
        },
        {
         "data": [
          {
           "hovertemplate": "topic=%{y}<br>year=2007<br>count=%{x}<extra></extra>",
           "legendgroup": "Logic, Reasoning, and Knowledge",
           "marker": {
            "color": "#636efa",
            "pattern": {
             "shape": ""
            }
           },
           "name": "Logic, Reasoning, and Knowledge",
           "orientation": "h",
           "showlegend": true,
           "textposition": "auto",
           "type": "bar",
           "x": {
            "bdata": "DA==",
            "dtype": "i1"
           },
           "xaxis": "x",
           "y": [
            "Logic, Reasoning, and Knowledge"
           ],
           "yaxis": "y"
          },
          {
           "hovertemplate": "topic=%{y}<br>year=2007<br>count=%{x}<extra></extra>",
           "legendgroup": "Semantic Web and Ontologies",
           "marker": {
            "color": "#EF553B",
            "pattern": {
             "shape": ""
            }
           },
           "name": "Semantic Web and Ontologies",
           "orientation": "h",
           "showlegend": true,
           "textposition": "auto",
           "type": "bar",
           "x": {
            "bdata": "BQ==",
            "dtype": "i1"
           },
           "xaxis": "x",
           "y": [
            "Semantic Web and Ontologies"
           ],
           "yaxis": "y"
          },
          {
           "hovertemplate": "topic=%{y}<br>year=2007<br>count=%{x}<extra></extra>",
           "legendgroup": "Multi-Agent Systems and Negotiation",
           "marker": {
            "color": "#B6E880",
            "pattern": {
             "shape": ""
            }
           },
           "name": "Multi-Agent Systems and Negotiation",
           "orientation": "h",
           "showlegend": true,
           "textposition": "auto",
           "type": "bar",
           "x": {
            "bdata": "FA==",
            "dtype": "i1"
           },
           "xaxis": "x",
           "y": [
            "Multi-Agent Systems and Negotiation"
           ],
           "yaxis": "y"
          },
          {
           "hovertemplate": "topic=%{y}<br>year=2007<br>count=%{x}<extra></extra>",
           "legendgroup": "Business Process Modeling and Analysis",
           "marker": {
            "color": "#ab63fa",
            "pattern": {
             "shape": ""
            }
           },
           "name": "Business Process Modeling and Analysis",
           "orientation": "h",
           "showlegend": true,
           "textposition": "auto",
           "type": "bar",
           "x": {
            "bdata": "BQ==",
            "dtype": "i1"
           },
           "xaxis": "x",
           "y": [
            "Business Process Modeling and Analysis"
           ],
           "yaxis": "y"
          },
          {
           "hovertemplate": "topic=%{y}<br>year=2007<br>count=%{x}<extra></extra>",
           "legendgroup": "Auction Theory and Applications",
           "marker": {
            "color": "#FFA15A",
            "pattern": {
             "shape": ""
            }
           },
           "name": "Auction Theory and Applications",
           "orientation": "h",
           "showlegend": true,
           "textposition": "auto",
           "type": "bar",
           "x": {
            "bdata": "BA==",
            "dtype": "i1"
           },
           "xaxis": "x",
           "y": [
            "Auction Theory and Applications"
           ],
           "yaxis": "y"
          },
          {
           "hovertemplate": "topic=%{y}<br>year=2007<br>count=%{x}<extra></extra>",
           "legendgroup": "Access Control and Trust",
           "marker": {
            "color": "#19d3f3",
            "pattern": {
             "shape": ""
            }
           },
           "name": "Access Control and Trust",
           "orientation": "h",
           "showlegend": true,
           "textposition": "auto",
           "type": "bar",
           "x": {
            "bdata": "Aw==",
            "dtype": "i1"
           },
           "xaxis": "x",
           "y": [
            "Access Control and Trust"
           ],
           "yaxis": "y"
          },
          {
           "hovertemplate": "topic=%{y}<br>year=2007<br>count=%{x}<extra></extra>",
           "legendgroup": "Complex Systems and Decision Making",
           "marker": {
            "color": "#FF6692",
            "pattern": {
             "shape": ""
            }
           },
           "name": "Complex Systems and Decision Making",
           "orientation": "h",
           "showlegend": true,
           "textposition": "auto",
           "type": "bar",
           "x": {
            "bdata": "Aw==",
            "dtype": "i1"
           },
           "xaxis": "x",
           "y": [
            "Complex Systems and Decision Making"
           ],
           "yaxis": "y"
          },
          {
           "hovertemplate": "topic=%{y}<br>year=2007<br>count=%{x}<extra></extra>",
           "legendgroup": "Game Theory and Applications",
           "marker": {
            "color": "#B6E880",
            "pattern": {
             "shape": ""
            }
           },
           "name": "Game Theory and Applications",
           "orientation": "h",
           "showlegend": true,
           "textposition": "auto",
           "type": "bar",
           "x": {
            "bdata": "Ag==",
            "dtype": "i1"
           },
           "xaxis": "x",
           "y": [
            "Game Theory and Applications"
           ],
           "yaxis": "y"
          },
          {
           "hovertemplate": "topic=%{y}<br>year=2007<br>count=%{x}<extra></extra>",
           "legendgroup": "Peer-to-Peer Network Technologies",
           "marker": {
            "color": "#FF97FF",
            "pattern": {
             "shape": ""
            }
           },
           "name": "Peer-to-Peer Network Technologies",
           "orientation": "h",
           "showlegend": true,
           "textposition": "auto",
           "type": "bar",
           "x": {
            "bdata": "Ag==",
            "dtype": "i1"
           },
           "xaxis": "x",
           "y": [
            "Peer-to-Peer Network Technologies"
           ],
           "yaxis": "y"
          },
          {
           "hovertemplate": "topic=%{y}<br>year=2007<br>count=%{x}<extra></extra>",
           "legendgroup": "Mental Health Research Topics",
           "marker": {
            "color": "#FECB52",
            "pattern": {
             "shape": ""
            }
           },
           "name": "Mental Health Research Topics",
           "orientation": "h",
           "showlegend": true,
           "textposition": "auto",
           "type": "bar",
           "x": {
            "bdata": "AQ==",
            "dtype": "i1"
           },
           "xaxis": "x",
           "y": [
            "Mental Health Research Topics"
           ],
           "yaxis": "y"
          }
         ],
         "name": "2007"
        },
        {
         "data": [
          {
           "hovertemplate": "topic=%{y}<br>year=2008<br>count=%{x}<extra></extra>",
           "legendgroup": "Logic, Reasoning, and Knowledge",
           "marker": {
            "color": "#636efa",
            "pattern": {
             "shape": ""
            }
           },
           "name": "Logic, Reasoning, and Knowledge",
           "orientation": "h",
           "showlegend": true,
           "textposition": "auto",
           "type": "bar",
           "x": {
            "bdata": "Dw==",
            "dtype": "i1"
           },
           "xaxis": "x",
           "y": [
            "Logic, Reasoning, and Knowledge"
           ],
           "yaxis": "y"
          },
          {
           "hovertemplate": "topic=%{y}<br>year=2008<br>count=%{x}<extra></extra>",
           "legendgroup": "Semantic Web and Ontologies",
           "marker": {
            "color": "#EF553B",
            "pattern": {
             "shape": ""
            }
           },
           "name": "Semantic Web and Ontologies",
           "orientation": "h",
           "showlegend": true,
           "textposition": "auto",
           "type": "bar",
           "x": {
            "bdata": "Cw==",
            "dtype": "i1"
           },
           "xaxis": "x",
           "y": [
            "Semantic Web and Ontologies"
           ],
           "yaxis": "y"
          },
          {
           "hovertemplate": "topic=%{y}<br>year=2008<br>count=%{x}<extra></extra>",
           "legendgroup": "AI-based Problem Solving and Planning",
           "marker": {
            "color": "#00cc96",
            "pattern": {
             "shape": ""
            }
           },
           "name": "AI-based Problem Solving and Planning",
           "orientation": "h",
           "showlegend": true,
           "textposition": "auto",
           "type": "bar",
           "x": {
            "bdata": "Cw==",
            "dtype": "i1"
           },
           "xaxis": "x",
           "y": [
            "AI-based Problem Solving and Planning"
           ],
           "yaxis": "y"
          },
          {
           "hovertemplate": "topic=%{y}<br>year=2008<br>count=%{x}<extra></extra>",
           "legendgroup": "Distributed Constraint Optimization Problems and Algorithms",
           "marker": {
            "color": "#19d3f3",
            "pattern": {
             "shape": ""
            }
           },
           "name": "Distributed Constraint Optimization Problems and Algorithms",
           "orientation": "h",
           "showlegend": true,
           "textposition": "auto",
           "type": "bar",
           "x": {
            "bdata": "Bg==",
            "dtype": "i1"
           },
           "xaxis": "x",
           "y": [
            "Distributed Constraint Optimization Problems and Algorithms"
           ],
           "yaxis": "y"
          },
          {
           "hovertemplate": "topic=%{y}<br>year=2008<br>count=%{x}<extra></extra>",
           "legendgroup": "Multi-Agent Systems and Negotiation",
           "marker": {
            "color": "#B6E880",
            "pattern": {
             "shape": ""
            }
           },
           "name": "Multi-Agent Systems and Negotiation",
           "orientation": "h",
           "showlegend": true,
           "textposition": "auto",
           "type": "bar",
           "x": {
            "bdata": "CA==",
            "dtype": "i1"
           },
           "xaxis": "x",
           "y": [
            "Multi-Agent Systems and Negotiation"
           ],
           "yaxis": "y"
          },
          {
           "hovertemplate": "topic=%{y}<br>year=2008<br>count=%{x}<extra></extra>",
           "legendgroup": "Natural Language Processing Techniques",
           "marker": {
            "color": "#FECB52",
            "pattern": {
             "shape": ""
            }
           },
           "name": "Natural Language Processing Techniques",
           "orientation": "h",
           "showlegend": true,
           "textposition": "auto",
           "type": "bar",
           "x": {
            "bdata": "BA==",
            "dtype": "i1"
           },
           "xaxis": "x",
           "y": [
            "Natural Language Processing Techniques"
           ],
           "yaxis": "y"
          },
          {
           "hovertemplate": "topic=%{y}<br>year=2008<br>count=%{x}<extra></extra>",
           "legendgroup": "Topic Modeling",
           "marker": {
            "color": "#FF6692",
            "pattern": {
             "shape": ""
            }
           },
           "name": "Topic Modeling",
           "orientation": "h",
           "showlegend": true,
           "textposition": "auto",
           "type": "bar",
           "x": {
            "bdata": "BA==",
            "dtype": "i1"
           },
           "xaxis": "x",
           "y": [
            "Topic Modeling"
           ],
           "yaxis": "y"
          },
          {
           "hovertemplate": "topic=%{y}<br>year=2008<br>count=%{x}<extra></extra>",
           "legendgroup": "Auction Theory and Applications",
           "marker": {
            "color": "#FFA15A",
            "pattern": {
             "shape": ""
            }
           },
           "name": "Auction Theory and Applications",
           "orientation": "h",
           "showlegend": true,
           "textposition": "auto",
           "type": "bar",
           "x": {
            "bdata": "BA==",
            "dtype": "i1"
           },
           "xaxis": "x",
           "y": [
            "Auction Theory and Applications"
           ],
           "yaxis": "y"
          },
          {
           "hovertemplate": "topic=%{y}<br>year=2008<br>count=%{x}<extra></extra>",
           "legendgroup": "Formal Methods in Verification",
           "marker": {
            "color": "#636efa",
            "pattern": {
             "shape": ""
            }
           },
           "name": "Formal Methods in Verification",
           "orientation": "h",
           "showlegend": true,
           "textposition": "auto",
           "type": "bar",
           "x": {
            "bdata": "BQ==",
            "dtype": "i1"
           },
           "xaxis": "x",
           "y": [
            "Formal Methods in Verification"
           ],
           "yaxis": "y"
          },
          {
           "hovertemplate": "topic=%{y}<br>year=2008<br>count=%{x}<extra></extra>",
           "legendgroup": "Machine Learning and Data Classification",
           "marker": {
            "color": "#EF553B",
            "pattern": {
             "shape": ""
            }
           },
           "name": "Machine Learning and Data Classification",
           "orientation": "h",
           "showlegend": true,
           "textposition": "auto",
           "type": "bar",
           "x": {
            "bdata": "BA==",
            "dtype": "i1"
           },
           "xaxis": "x",
           "y": [
            "Machine Learning and Data Classification"
           ],
           "yaxis": "y"
          }
         ],
         "name": "2008"
        },
        {
         "data": [
          {
           "hovertemplate": "topic=%{y}<br>year=2009<br>count=%{x}<extra></extra>",
           "legendgroup": "Semantic Web and Ontologies",
           "marker": {
            "color": "#EF553B",
            "pattern": {
             "shape": ""
            }
           },
           "name": "Semantic Web and Ontologies",
           "orientation": "h",
           "showlegend": true,
           "textposition": "auto",
           "type": "bar",
           "x": {
            "bdata": "Bw==",
            "dtype": "i1"
           },
           "xaxis": "x",
           "y": [
            "Semantic Web and Ontologies"
           ],
           "yaxis": "y"
          },
          {
           "hovertemplate": "topic=%{y}<br>year=2009<br>count=%{x}<extra></extra>",
           "legendgroup": "Business Process Modeling and Analysis",
           "marker": {
            "color": "#ab63fa",
            "pattern": {
             "shape": ""
            }
           },
           "name": "Business Process Modeling and Analysis",
           "orientation": "h",
           "showlegend": true,
           "textposition": "auto",
           "type": "bar",
           "x": {
            "bdata": "Ag==",
            "dtype": "i1"
           },
           "xaxis": "x",
           "y": [
            "Business Process Modeling and Analysis"
           ],
           "yaxis": "y"
          },
          {
           "hovertemplate": "topic=%{y}<br>year=2009<br>count=%{x}<extra></extra>",
           "legendgroup": "Biomedical Text Mining and Ontologies",
           "marker": {
            "color": "#00cc96",
            "pattern": {
             "shape": ""
            }
           },
           "name": "Biomedical Text Mining and Ontologies",
           "orientation": "h",
           "showlegend": true,
           "textposition": "auto",
           "type": "bar",
           "x": {
            "bdata": "Bg==",
            "dtype": "i1"
           },
           "xaxis": "x",
           "y": [
            "Biomedical Text Mining and Ontologies"
           ],
           "yaxis": "y"
          },
          {
           "hovertemplate": "topic=%{y}<br>year=2009<br>count=%{x}<extra></extra>",
           "legendgroup": "Electronic Health Records Systems",
           "marker": {
            "color": "#ab63fa",
            "pattern": {
             "shape": ""
            }
           },
           "name": "Electronic Health Records Systems",
           "orientation": "h",
           "showlegend": true,
           "textposition": "auto",
           "type": "bar",
           "x": {
            "bdata": "BQ==",
            "dtype": "i1"
           },
           "xaxis": "x",
           "y": [
            "Electronic Health Records Systems"
           ],
           "yaxis": "y"
          },
          {
           "hovertemplate": "topic=%{y}<br>year=2009<br>count=%{x}<extra></extra>",
           "legendgroup": "Clinical practice guidelines implementation",
           "marker": {
            "color": "#FFA15A",
            "pattern": {
             "shape": ""
            }
           },
           "name": "Clinical practice guidelines implementation",
           "orientation": "h",
           "showlegend": true,
           "textposition": "auto",
           "type": "bar",
           "x": {
            "bdata": "BA==",
            "dtype": "i1"
           },
           "xaxis": "x",
           "y": [
            "Clinical practice guidelines implementation"
           ],
           "yaxis": "y"
          },
          {
           "hovertemplate": "topic=%{y}<br>year=2009<br>count=%{x}<extra></extra>",
           "legendgroup": "Dementia and Cognitive Impairment Research",
           "marker": {
            "color": "#19d3f3",
            "pattern": {
             "shape": ""
            }
           },
           "name": "Dementia and Cognitive Impairment Research",
           "orientation": "h",
           "showlegend": true,
           "textposition": "auto",
           "type": "bar",
           "x": {
            "bdata": "AQ==",
            "dtype": "i1"
           },
           "xaxis": "x",
           "y": [
            "Dementia and Cognitive Impairment Research"
           ],
           "yaxis": "y"
          },
          {
           "hovertemplate": "topic=%{y}<br>year=2009<br>count=%{x}<extra></extra>",
           "legendgroup": "Big Data and Business Intelligence",
           "marker": {
            "color": "#FF6692",
            "pattern": {
             "shape": ""
            }
           },
           "name": "Big Data and Business Intelligence",
           "orientation": "h",
           "showlegend": true,
           "textposition": "auto",
           "type": "bar",
           "x": {
            "bdata": "AQ==",
            "dtype": "i1"
           },
           "xaxis": "x",
           "y": [
            "Big Data and Business Intelligence"
           ],
           "yaxis": "y"
          },
          {
           "hovertemplate": "topic=%{y}<br>year=2009<br>count=%{x}<extra></extra>",
           "legendgroup": "Distributed and Parallel Computing Systems",
           "marker": {
            "color": "#B6E880",
            "pattern": {
             "shape": ""
            }
           },
           "name": "Distributed and Parallel Computing Systems",
           "orientation": "h",
           "showlegend": true,
           "textposition": "auto",
           "type": "bar",
           "x": {
            "bdata": "AQ==",
            "dtype": "i1"
           },
           "xaxis": "x",
           "y": [
            "Distributed and Parallel Computing Systems"
           ],
           "yaxis": "y"
          },
          {
           "hovertemplate": "topic=%{y}<br>year=2009<br>count=%{x}<extra></extra>",
           "legendgroup": "Machine Learning in Healthcare",
           "marker": {
            "color": "#FF97FF",
            "pattern": {
             "shape": ""
            }
           },
           "name": "Machine Learning in Healthcare",
           "orientation": "h",
           "showlegend": true,
           "textposition": "auto",
           "type": "bar",
           "x": {
            "bdata": "AQ==",
            "dtype": "i1"
           },
           "xaxis": "x",
           "y": [
            "Machine Learning in Healthcare"
           ],
           "yaxis": "y"
          },
          {
           "hovertemplate": "topic=%{y}<br>year=2009<br>count=%{x}<extra></extra>",
           "legendgroup": "QoS-Aware Web Services Composition and Semantic Matching",
           "marker": {
            "color": "#FECB52",
            "pattern": {
             "shape": ""
            }
           },
           "name": "QoS-Aware Web Services Composition and Semantic Matching",
           "orientation": "h",
           "showlegend": true,
           "textposition": "auto",
           "type": "bar",
           "x": {
            "bdata": "AQ==",
            "dtype": "i1"
           },
           "xaxis": "x",
           "y": [
            "QoS-Aware Web Services Composition and Semantic Matching"
           ],
           "yaxis": "y"
          }
         ],
         "name": "2009"
        },
        {
         "data": [
          {
           "hovertemplate": "topic=%{y}<br>year=2010<br>count=%{x}<extra></extra>",
           "legendgroup": "Logic, Reasoning, and Knowledge",
           "marker": {
            "color": "#636efa",
            "pattern": {
             "shape": ""
            }
           },
           "name": "Logic, Reasoning, and Knowledge",
           "orientation": "h",
           "showlegend": true,
           "textposition": "auto",
           "type": "bar",
           "x": {
            "bdata": "EA==",
            "dtype": "i1"
           },
           "xaxis": "x",
           "y": [
            "Logic, Reasoning, and Knowledge"
           ],
           "yaxis": "y"
          },
          {
           "hovertemplate": "topic=%{y}<br>year=2010<br>count=%{x}<extra></extra>",
           "legendgroup": "Semantic Web and Ontologies",
           "marker": {
            "color": "#EF553B",
            "pattern": {
             "shape": ""
            }
           },
           "name": "Semantic Web and Ontologies",
           "orientation": "h",
           "showlegend": true,
           "textposition": "auto",
           "type": "bar",
           "x": {
            "bdata": "CQ==",
            "dtype": "i1"
           },
           "xaxis": "x",
           "y": [
            "Semantic Web and Ontologies"
           ],
           "yaxis": "y"
          },
          {
           "hovertemplate": "topic=%{y}<br>year=2010<br>count=%{x}<extra></extra>",
           "legendgroup": "Logic, programming, and type systems",
           "marker": {
            "color": "#ab63fa",
            "pattern": {
             "shape": ""
            }
           },
           "name": "Logic, programming, and type systems",
           "orientation": "h",
           "showlegend": true,
           "textposition": "auto",
           "type": "bar",
           "x": {
            "bdata": "BQ==",
            "dtype": "i1"
           },
           "xaxis": "x",
           "y": [
            "Logic, programming, and type systems"
           ],
           "yaxis": "y"
          },
          {
           "hovertemplate": "topic=%{y}<br>year=2010<br>count=%{x}<extra></extra>",
           "legendgroup": "Distributed Constraint Optimization Problems and Algorithms",
           "marker": {
            "color": "#19d3f3",
            "pattern": {
             "shape": ""
            }
           },
           "name": "Distributed Constraint Optimization Problems and Algorithms",
           "orientation": "h",
           "showlegend": true,
           "textposition": "auto",
           "type": "bar",
           "x": {
            "bdata": "CQ==",
            "dtype": "i1"
           },
           "xaxis": "x",
           "y": [
            "Distributed Constraint Optimization Problems and Algorithms"
           ],
           "yaxis": "y"
          },
          {
           "hovertemplate": "topic=%{y}<br>year=2010<br>count=%{x}<extra></extra>",
           "legendgroup": "Bayesian Modeling and Causal Inference",
           "marker": {
            "color": "#FF6692",
            "pattern": {
             "shape": ""
            }
           },
           "name": "Bayesian Modeling and Causal Inference",
           "orientation": "h",
           "showlegend": true,
           "textposition": "auto",
           "type": "bar",
           "x": {
            "bdata": "BQ==",
            "dtype": "i1"
           },
           "xaxis": "x",
           "y": [
            "Bayesian Modeling and Causal Inference"
           ],
           "yaxis": "y"
          },
          {
           "hovertemplate": "topic=%{y}<br>year=2010<br>count=%{x}<extra></extra>",
           "legendgroup": "Multi-Agent Systems and Negotiation",
           "marker": {
            "color": "#B6E880",
            "pattern": {
             "shape": ""
            }
           },
           "name": "Multi-Agent Systems and Negotiation",
           "orientation": "h",
           "showlegend": true,
           "textposition": "auto",
           "type": "bar",
           "x": {
            "bdata": "Bw==",
            "dtype": "i1"
           },
           "xaxis": "x",
           "y": [
            "Multi-Agent Systems and Negotiation"
           ],
           "yaxis": "y"
          },
          {
           "hovertemplate": "topic=%{y}<br>year=2010<br>count=%{x}<extra></extra>",
           "legendgroup": "Auction Theory and Applications",
           "marker": {
            "color": "#FFA15A",
            "pattern": {
             "shape": ""
            }
           },
           "name": "Auction Theory and Applications",
           "orientation": "h",
           "showlegend": true,
           "textposition": "auto",
           "type": "bar",
           "x": {
            "bdata": "Cg==",
            "dtype": "i1"
           },
           "xaxis": "x",
           "y": [
            "Auction Theory and Applications"
           ],
           "yaxis": "y"
          },
          {
           "hovertemplate": "topic=%{y}<br>year=2010<br>count=%{x}<extra></extra>",
           "legendgroup": "Game Theory and Applications",
           "marker": {
            "color": "#B6E880",
            "pattern": {
             "shape": ""
            }
           },
           "name": "Game Theory and Applications",
           "orientation": "h",
           "showlegend": true,
           "textposition": "auto",
           "type": "bar",
           "x": {
            "bdata": "Bg==",
            "dtype": "i1"
           },
           "xaxis": "x",
           "y": [
            "Game Theory and Applications"
           ],
           "yaxis": "y"
          },
          {
           "hovertemplate": "topic=%{y}<br>year=2010<br>count=%{x}<extra></extra>",
           "legendgroup": "Data Management and Algorithms",
           "marker": {
            "color": "#636efa",
            "pattern": {
             "shape": ""
            }
           },
           "name": "Data Management and Algorithms",
           "orientation": "h",
           "showlegend": true,
           "textposition": "auto",
           "type": "bar",
           "x": {
            "bdata": "Bw==",
            "dtype": "i1"
           },
           "xaxis": "x",
           "y": [
            "Data Management and Algorithms"
           ],
           "yaxis": "y"
          },
          {
           "hovertemplate": "topic=%{y}<br>year=2010<br>count=%{x}<extra></extra>",
           "legendgroup": "Game Theory and Voting Systems",
           "marker": {
            "color": "#EF553B",
            "pattern": {
             "shape": ""
            }
           },
           "name": "Game Theory and Voting Systems",
           "orientation": "h",
           "showlegend": true,
           "textposition": "auto",
           "type": "bar",
           "x": {
            "bdata": "Bg==",
            "dtype": "i1"
           },
           "xaxis": "x",
           "y": [
            "Game Theory and Voting Systems"
           ],
           "yaxis": "y"
          }
         ],
         "name": "2010"
        },
        {
         "data": [
          {
           "hovertemplate": "topic=%{y}<br>year=2011<br>count=%{x}<extra></extra>",
           "legendgroup": "Semantic Web and Ontologies",
           "marker": {
            "color": "#EF553B",
            "pattern": {
             "shape": ""
            }
           },
           "name": "Semantic Web and Ontologies",
           "orientation": "h",
           "showlegend": true,
           "textposition": "auto",
           "type": "bar",
           "x": {
            "bdata": "Bw==",
            "dtype": "i1"
           },
           "xaxis": "x",
           "y": [
            "Semantic Web and Ontologies"
           ],
           "yaxis": "y"
          },
          {
           "hovertemplate": "topic=%{y}<br>year=2011<br>count=%{x}<extra></extra>",
           "legendgroup": "Natural Language Processing Techniques",
           "marker": {
            "color": "#FECB52",
            "pattern": {
             "shape": ""
            }
           },
           "name": "Natural Language Processing Techniques",
           "orientation": "h",
           "showlegend": true,
           "textposition": "auto",
           "type": "bar",
           "x": {
            "bdata": "AQ==",
            "dtype": "i1"
           },
           "xaxis": "x",
           "y": [
            "Natural Language Processing Techniques"
           ],
           "yaxis": "y"
          },
          {
           "hovertemplate": "topic=%{y}<br>year=2011<br>count=%{x}<extra></extra>",
           "legendgroup": "Topic Modeling",
           "marker": {
            "color": "#FF6692",
            "pattern": {
             "shape": ""
            }
           },
           "name": "Topic Modeling",
           "orientation": "h",
           "showlegend": true,
           "textposition": "auto",
           "type": "bar",
           "x": {
            "bdata": "AQ==",
            "dtype": "i1"
           },
           "xaxis": "x",
           "y": [
            "Topic Modeling"
           ],
           "yaxis": "y"
          },
          {
           "hovertemplate": "topic=%{y}<br>year=2011<br>count=%{x}<extra></extra>",
           "legendgroup": "Business Process Modeling and Analysis",
           "marker": {
            "color": "#ab63fa",
            "pattern": {
             "shape": ""
            }
           },
           "name": "Business Process Modeling and Analysis",
           "orientation": "h",
           "showlegend": true,
           "textposition": "auto",
           "type": "bar",
           "x": {
            "bdata": "Ag==",
            "dtype": "i1"
           },
           "xaxis": "x",
           "y": [
            "Business Process Modeling and Analysis"
           ],
           "yaxis": "y"
          },
          {
           "hovertemplate": "topic=%{y}<br>year=2011<br>count=%{x}<extra></extra>",
           "legendgroup": "Biomedical Text Mining and Ontologies",
           "marker": {
            "color": "#00cc96",
            "pattern": {
             "shape": ""
            }
           },
           "name": "Biomedical Text Mining and Ontologies",
           "orientation": "h",
           "showlegend": true,
           "textposition": "auto",
           "type": "bar",
           "x": {
            "bdata": "CQ==",
            "dtype": "i1"
           },
           "xaxis": "x",
           "y": [
            "Biomedical Text Mining and Ontologies"
           ],
           "yaxis": "y"
          },
          {
           "hovertemplate": "topic=%{y}<br>year=2011<br>count=%{x}<extra></extra>",
           "legendgroup": "Electronic Health Records Systems",
           "marker": {
            "color": "#ab63fa",
            "pattern": {
             "shape": ""
            }
           },
           "name": "Electronic Health Records Systems",
           "orientation": "h",
           "showlegend": true,
           "textposition": "auto",
           "type": "bar",
           "x": {
            "bdata": "Aw==",
            "dtype": "i1"
           },
           "xaxis": "x",
           "y": [
            "Electronic Health Records Systems"
           ],
           "yaxis": "y"
          },
          {
           "hovertemplate": "topic=%{y}<br>year=2011<br>count=%{x}<extra></extra>",
           "legendgroup": "Clinical practice guidelines implementation",
           "marker": {
            "color": "#FFA15A",
            "pattern": {
             "shape": ""
            }
           },
           "name": "Clinical practice guidelines implementation",
           "orientation": "h",
           "showlegend": true,
           "textposition": "auto",
           "type": "bar",
           "x": {
            "bdata": "Ag==",
            "dtype": "i1"
           },
           "xaxis": "x",
           "y": [
            "Clinical practice guidelines implementation"
           ],
           "yaxis": "y"
          },
          {
           "hovertemplate": "topic=%{y}<br>year=2011<br>count=%{x}<extra></extra>",
           "legendgroup": "Data Quality and Management",
           "marker": {
            "color": "#00cc96",
            "pattern": {
             "shape": ""
            }
           },
           "name": "Data Quality and Management",
           "orientation": "h",
           "showlegend": true,
           "textposition": "auto",
           "type": "bar",
           "x": {
            "bdata": "Ag==",
            "dtype": "i1"
           },
           "xaxis": "x",
           "y": [
            "Data Quality and Management"
           ],
           "yaxis": "y"
          },
          {
           "hovertemplate": "topic=%{y}<br>year=2011<br>count=%{x}<extra></extra>",
           "legendgroup": "Renal function and acid-base balance",
           "marker": {
            "color": "#ab63fa",
            "pattern": {
             "shape": ""
            }
           },
           "name": "Renal function and acid-base balance",
           "orientation": "h",
           "showlegend": true,
           "textposition": "auto",
           "type": "bar",
           "x": {
            "bdata": "AQ==",
            "dtype": "i1"
           },
           "xaxis": "x",
           "y": [
            "Renal function and acid-base balance"
           ],
           "yaxis": "y"
          },
          {
           "hovertemplate": "topic=%{y}<br>year=2011<br>count=%{x}<extra></extra>",
           "legendgroup": "Data Mining Algorithms and Applications",
           "marker": {
            "color": "#FFA15A",
            "pattern": {
             "shape": ""
            }
           },
           "name": "Data Mining Algorithms and Applications",
           "orientation": "h",
           "showlegend": true,
           "textposition": "auto",
           "type": "bar",
           "x": {
            "bdata": "AQ==",
            "dtype": "i1"
           },
           "xaxis": "x",
           "y": [
            "Data Mining Algorithms and Applications"
           ],
           "yaxis": "y"
          }
         ],
         "name": "2011"
        },
        {
         "data": [
          {
           "hovertemplate": "topic=%{y}<br>year=2012<br>count=%{x}<extra></extra>",
           "legendgroup": "Logic, Reasoning, and Knowledge",
           "marker": {
            "color": "#636efa",
            "pattern": {
             "shape": ""
            }
           },
           "name": "Logic, Reasoning, and Knowledge",
           "orientation": "h",
           "showlegend": true,
           "textposition": "auto",
           "type": "bar",
           "x": {
            "bdata": "MA==",
            "dtype": "i1"
           },
           "xaxis": "x",
           "y": [
            "Logic, Reasoning, and Knowledge"
           ],
           "yaxis": "y"
          },
          {
           "hovertemplate": "topic=%{y}<br>year=2012<br>count=%{x}<extra></extra>",
           "legendgroup": "Semantic Web and Ontologies",
           "marker": {
            "color": "#EF553B",
            "pattern": {
             "shape": ""
            }
           },
           "name": "Semantic Web and Ontologies",
           "orientation": "h",
           "showlegend": true,
           "textposition": "auto",
           "type": "bar",
           "x": {
            "bdata": "Iw==",
            "dtype": "i1"
           },
           "xaxis": "x",
           "y": [
            "Semantic Web and Ontologies"
           ],
           "yaxis": "y"
          },
          {
           "hovertemplate": "topic=%{y}<br>year=2012<br>count=%{x}<extra></extra>",
           "legendgroup": "AI-based Problem Solving and Planning",
           "marker": {
            "color": "#00cc96",
            "pattern": {
             "shape": ""
            }
           },
           "name": "AI-based Problem Solving and Planning",
           "orientation": "h",
           "showlegend": true,
           "textposition": "auto",
           "type": "bar",
           "x": {
            "bdata": "Gw==",
            "dtype": "i1"
           },
           "xaxis": "x",
           "y": [
            "AI-based Problem Solving and Planning"
           ],
           "yaxis": "y"
          },
          {
           "hovertemplate": "topic=%{y}<br>year=2012<br>count=%{x}<extra></extra>",
           "legendgroup": "Distributed Constraint Optimization Problems and Algorithms",
           "marker": {
            "color": "#19d3f3",
            "pattern": {
             "shape": ""
            }
           },
           "name": "Distributed Constraint Optimization Problems and Algorithms",
           "orientation": "h",
           "showlegend": true,
           "textposition": "auto",
           "type": "bar",
           "x": {
            "bdata": "IA==",
            "dtype": "i1"
           },
           "xaxis": "x",
           "y": [
            "Distributed Constraint Optimization Problems and Algorithms"
           ],
           "yaxis": "y"
          },
          {
           "hovertemplate": "topic=%{y}<br>year=2012<br>count=%{x}<extra></extra>",
           "legendgroup": "Multi-Agent Systems and Negotiation",
           "marker": {
            "color": "#B6E880",
            "pattern": {
             "shape": ""
            }
           },
           "name": "Multi-Agent Systems and Negotiation",
           "orientation": "h",
           "showlegend": true,
           "textposition": "auto",
           "type": "bar",
           "x": {
            "bdata": "FQ==",
            "dtype": "i1"
           },
           "xaxis": "x",
           "y": [
            "Multi-Agent Systems and Negotiation"
           ],
           "yaxis": "y"
          },
          {
           "hovertemplate": "topic=%{y}<br>year=2012<br>count=%{x}<extra></extra>",
           "legendgroup": "Natural Language Processing Techniques",
           "marker": {
            "color": "#FECB52",
            "pattern": {
             "shape": ""
            }
           },
           "name": "Natural Language Processing Techniques",
           "orientation": "h",
           "showlegend": true,
           "textposition": "auto",
           "type": "bar",
           "x": {
            "bdata": "Dg==",
            "dtype": "i1"
           },
           "xaxis": "x",
           "y": [
            "Natural Language Processing Techniques"
           ],
           "yaxis": "y"
          },
          {
           "hovertemplate": "topic=%{y}<br>year=2012<br>count=%{x}<extra></extra>",
           "legendgroup": "Auction Theory and Applications",
           "marker": {
            "color": "#FFA15A",
            "pattern": {
             "shape": ""
            }
           },
           "name": "Auction Theory and Applications",
           "orientation": "h",
           "showlegend": true,
           "textposition": "auto",
           "type": "bar",
           "x": {
            "bdata": "FQ==",
            "dtype": "i1"
           },
           "xaxis": "x",
           "y": [
            "Auction Theory and Applications"
           ],
           "yaxis": "y"
          },
          {
           "hovertemplate": "topic=%{y}<br>year=2012<br>count=%{x}<extra></extra>",
           "legendgroup": "Formal Methods in Verification",
           "marker": {
            "color": "#636efa",
            "pattern": {
             "shape": ""
            }
           },
           "name": "Formal Methods in Verification",
           "orientation": "h",
           "showlegend": true,
           "textposition": "auto",
           "type": "bar",
           "x": {
            "bdata": "Dg==",
            "dtype": "i1"
           },
           "xaxis": "x",
           "y": [
            "Formal Methods in Verification"
           ],
           "yaxis": "y"
          },
          {
           "hovertemplate": "topic=%{y}<br>year=2012<br>count=%{x}<extra></extra>",
           "legendgroup": "Data Management and Algorithms",
           "marker": {
            "color": "#636efa",
            "pattern": {
             "shape": ""
            }
           },
           "name": "Data Management and Algorithms",
           "orientation": "h",
           "showlegend": true,
           "textposition": "auto",
           "type": "bar",
           "x": {
            "bdata": "Dg==",
            "dtype": "i1"
           },
           "xaxis": "x",
           "y": [
            "Data Management and Algorithms"
           ],
           "yaxis": "y"
          },
          {
           "hovertemplate": "topic=%{y}<br>year=2012<br>count=%{x}<extra></extra>",
           "legendgroup": "Game Theory and Voting Systems",
           "marker": {
            "color": "#EF553B",
            "pattern": {
             "shape": ""
            }
           },
           "name": "Game Theory and Voting Systems",
           "orientation": "h",
           "showlegend": true,
           "textposition": "auto",
           "type": "bar",
           "x": {
            "bdata": "DQ==",
            "dtype": "i1"
           },
           "xaxis": "x",
           "y": [
            "Game Theory and Voting Systems"
           ],
           "yaxis": "y"
          }
         ],
         "name": "2012"
        },
        {
         "data": [
          {
           "hovertemplate": "topic=%{y}<br>year=2014<br>count=%{x}<extra></extra>",
           "legendgroup": "Logic, Reasoning, and Knowledge",
           "marker": {
            "color": "#636efa",
            "pattern": {
             "shape": ""
            }
           },
           "name": "Logic, Reasoning, and Knowledge",
           "orientation": "h",
           "showlegend": true,
           "textposition": "auto",
           "type": "bar",
           "x": {
            "bdata": "Sg==",
            "dtype": "i1"
           },
           "xaxis": "x",
           "y": [
            "Logic, Reasoning, and Knowledge"
           ],
           "yaxis": "y"
          },
          {
           "hovertemplate": "topic=%{y}<br>year=2014<br>count=%{x}<extra></extra>",
           "legendgroup": "Semantic Web and Ontologies",
           "marker": {
            "color": "#EF553B",
            "pattern": {
             "shape": ""
            }
           },
           "name": "Semantic Web and Ontologies",
           "orientation": "h",
           "showlegend": true,
           "textposition": "auto",
           "type": "bar",
           "x": {
            "bdata": "MQ==",
            "dtype": "i1"
           },
           "xaxis": "x",
           "y": [
            "Semantic Web and Ontologies"
           ],
           "yaxis": "y"
          },
          {
           "hovertemplate": "topic=%{y}<br>year=2014<br>count=%{x}<extra></extra>",
           "legendgroup": "AI-based Problem Solving and Planning",
           "marker": {
            "color": "#00cc96",
            "pattern": {
             "shape": ""
            }
           },
           "name": "AI-based Problem Solving and Planning",
           "orientation": "h",
           "showlegend": true,
           "textposition": "auto",
           "type": "bar",
           "x": {
            "bdata": "IQ==",
            "dtype": "i1"
           },
           "xaxis": "x",
           "y": [
            "AI-based Problem Solving and Planning"
           ],
           "yaxis": "y"
          },
          {
           "hovertemplate": "topic=%{y}<br>year=2014<br>count=%{x}<extra></extra>",
           "legendgroup": "Distributed Constraint Optimization Problems and Algorithms",
           "marker": {
            "color": "#19d3f3",
            "pattern": {
             "shape": ""
            }
           },
           "name": "Distributed Constraint Optimization Problems and Algorithms",
           "orientation": "h",
           "showlegend": true,
           "textposition": "auto",
           "type": "bar",
           "x": {
            "bdata": "HQ==",
            "dtype": "i1"
           },
           "xaxis": "x",
           "y": [
            "Distributed Constraint Optimization Problems and Algorithms"
           ],
           "yaxis": "y"
          },
          {
           "hovertemplate": "topic=%{y}<br>year=2014<br>count=%{x}<extra></extra>",
           "legendgroup": "Bayesian Modeling and Causal Inference",
           "marker": {
            "color": "#FF6692",
            "pattern": {
             "shape": ""
            }
           },
           "name": "Bayesian Modeling and Causal Inference",
           "orientation": "h",
           "showlegend": true,
           "textposition": "auto",
           "type": "bar",
           "x": {
            "bdata": "GQ==",
            "dtype": "i1"
           },
           "xaxis": "x",
           "y": [
            "Bayesian Modeling and Causal Inference"
           ],
           "yaxis": "y"
          },
          {
           "hovertemplate": "topic=%{y}<br>year=2014<br>count=%{x}<extra></extra>",
           "legendgroup": "Multi-Agent Systems and Negotiation",
           "marker": {
            "color": "#B6E880",
            "pattern": {
             "shape": ""
            }
           },
           "name": "Multi-Agent Systems and Negotiation",
           "orientation": "h",
           "showlegend": true,
           "textposition": "auto",
           "type": "bar",
           "x": {
            "bdata": "LQ==",
            "dtype": "i1"
           },
           "xaxis": "x",
           "y": [
            "Multi-Agent Systems and Negotiation"
           ],
           "yaxis": "y"
          },
          {
           "hovertemplate": "topic=%{y}<br>year=2014<br>count=%{x}<extra></extra>",
           "legendgroup": "Auction Theory and Applications",
           "marker": {
            "color": "#FFA15A",
            "pattern": {
             "shape": ""
            }
           },
           "name": "Auction Theory and Applications",
           "orientation": "h",
           "showlegend": true,
           "textposition": "auto",
           "type": "bar",
           "x": {
            "bdata": "FA==",
            "dtype": "i1"
           },
           "xaxis": "x",
           "y": [
            "Auction Theory and Applications"
           ],
           "yaxis": "y"
          },
          {
           "hovertemplate": "topic=%{y}<br>year=2014<br>count=%{x}<extra></extra>",
           "legendgroup": "Game Theory and Applications",
           "marker": {
            "color": "#B6E880",
            "pattern": {
             "shape": ""
            }
           },
           "name": "Game Theory and Applications",
           "orientation": "h",
           "showlegend": true,
           "textposition": "auto",
           "type": "bar",
           "x": {
            "bdata": "Dg==",
            "dtype": "i1"
           },
           "xaxis": "x",
           "y": [
            "Game Theory and Applications"
           ],
           "yaxis": "y"
          },
          {
           "hovertemplate": "topic=%{y}<br>year=2014<br>count=%{x}<extra></extra>",
           "legendgroup": "Data Management and Algorithms",
           "marker": {
            "color": "#636efa",
            "pattern": {
             "shape": ""
            }
           },
           "name": "Data Management and Algorithms",
           "orientation": "h",
           "showlegend": true,
           "textposition": "auto",
           "type": "bar",
           "x": {
            "bdata": "Gw==",
            "dtype": "i1"
           },
           "xaxis": "x",
           "y": [
            "Data Management and Algorithms"
           ],
           "yaxis": "y"
          },
          {
           "hovertemplate": "topic=%{y}<br>year=2014<br>count=%{x}<extra></extra>",
           "legendgroup": "Game Theory and Voting Systems",
           "marker": {
            "color": "#EF553B",
            "pattern": {
             "shape": ""
            }
           },
           "name": "Game Theory and Voting Systems",
           "orientation": "h",
           "showlegend": true,
           "textposition": "auto",
           "type": "bar",
           "x": {
            "bdata": "EA==",
            "dtype": "i1"
           },
           "xaxis": "x",
           "y": [
            "Game Theory and Voting Systems"
           ],
           "yaxis": "y"
          }
         ],
         "name": "2014"
        },
        {
         "data": [
          {
           "hovertemplate": "topic=%{y}<br>year=2016<br>count=%{x}<extra></extra>",
           "legendgroup": "Logic, Reasoning, and Knowledge",
           "marker": {
            "color": "#636efa",
            "pattern": {
             "shape": ""
            }
           },
           "name": "Logic, Reasoning, and Knowledge",
           "orientation": "h",
           "showlegend": true,
           "textposition": "auto",
           "type": "bar",
           "x": {
            "bdata": "Hg==",
            "dtype": "i1"
           },
           "xaxis": "x",
           "y": [
            "Logic, Reasoning, and Knowledge"
           ],
           "yaxis": "y"
          },
          {
           "hovertemplate": "topic=%{y}<br>year=2016<br>count=%{x}<extra></extra>",
           "legendgroup": "Semantic Web and Ontologies",
           "marker": {
            "color": "#EF553B",
            "pattern": {
             "shape": ""
            }
           },
           "name": "Semantic Web and Ontologies",
           "orientation": "h",
           "showlegend": true,
           "textposition": "auto",
           "type": "bar",
           "x": {
            "bdata": "Ew==",
            "dtype": "i1"
           },
           "xaxis": "x",
           "y": [
            "Semantic Web and Ontologies"
           ],
           "yaxis": "y"
          },
          {
           "hovertemplate": "topic=%{y}<br>year=2016<br>count=%{x}<extra></extra>",
           "legendgroup": "AI-based Problem Solving and Planning",
           "marker": {
            "color": "#00cc96",
            "pattern": {
             "shape": ""
            }
           },
           "name": "AI-based Problem Solving and Planning",
           "orientation": "h",
           "showlegend": true,
           "textposition": "auto",
           "type": "bar",
           "x": {
            "bdata": "Eg==",
            "dtype": "i1"
           },
           "xaxis": "x",
           "y": [
            "AI-based Problem Solving and Planning"
           ],
           "yaxis": "y"
          },
          {
           "hovertemplate": "topic=%{y}<br>year=2016<br>count=%{x}<extra></extra>",
           "legendgroup": "Multi-Agent Systems and Negotiation",
           "marker": {
            "color": "#B6E880",
            "pattern": {
             "shape": ""
            }
           },
           "name": "Multi-Agent Systems and Negotiation",
           "orientation": "h",
           "showlegend": true,
           "textposition": "auto",
           "type": "bar",
           "x": {
            "bdata": "FA==",
            "dtype": "i1"
           },
           "xaxis": "x",
           "y": [
            "Multi-Agent Systems and Negotiation"
           ],
           "yaxis": "y"
          },
          {
           "hovertemplate": "topic=%{y}<br>year=2016<br>count=%{x}<extra></extra>",
           "legendgroup": "Topic Modeling",
           "marker": {
            "color": "#FF6692",
            "pattern": {
             "shape": ""
            }
           },
           "name": "Topic Modeling",
           "orientation": "h",
           "showlegend": true,
           "textposition": "auto",
           "type": "bar",
           "x": {
            "bdata": "CA==",
            "dtype": "i1"
           },
           "xaxis": "x",
           "y": [
            "Topic Modeling"
           ],
           "yaxis": "y"
          },
          {
           "hovertemplate": "topic=%{y}<br>year=2016<br>count=%{x}<extra></extra>",
           "legendgroup": "Auction Theory and Applications",
           "marker": {
            "color": "#FFA15A",
            "pattern": {
             "shape": ""
            }
           },
           "name": "Auction Theory and Applications",
           "orientation": "h",
           "showlegend": true,
           "textposition": "auto",
           "type": "bar",
           "x": {
            "bdata": "Dw==",
            "dtype": "i1"
           },
           "xaxis": "x",
           "y": [
            "Auction Theory and Applications"
           ],
           "yaxis": "y"
          },
          {
           "hovertemplate": "topic=%{y}<br>year=2016<br>count=%{x}<extra></extra>",
           "legendgroup": "Game Theory and Applications",
           "marker": {
            "color": "#B6E880",
            "pattern": {
             "shape": ""
            }
           },
           "name": "Game Theory and Applications",
           "orientation": "h",
           "showlegend": true,
           "textposition": "auto",
           "type": "bar",
           "x": {
            "bdata": "Cw==",
            "dtype": "i1"
           },
           "xaxis": "x",
           "y": [
            "Game Theory and Applications"
           ],
           "yaxis": "y"
          },
          {
           "hovertemplate": "topic=%{y}<br>year=2016<br>count=%{x}<extra></extra>",
           "legendgroup": "Formal Methods in Verification",
           "marker": {
            "color": "#636efa",
            "pattern": {
             "shape": ""
            }
           },
           "name": "Formal Methods in Verification",
           "orientation": "h",
           "showlegend": true,
           "textposition": "auto",
           "type": "bar",
           "x": {
            "bdata": "CQ==",
            "dtype": "i1"
           },
           "xaxis": "x",
           "y": [
            "Formal Methods in Verification"
           ],
           "yaxis": "y"
          },
          {
           "hovertemplate": "topic=%{y}<br>year=2016<br>count=%{x}<extra></extra>",
           "legendgroup": "Game Theory and Voting Systems",
           "marker": {
            "color": "#EF553B",
            "pattern": {
             "shape": ""
            }
           },
           "name": "Game Theory and Voting Systems",
           "orientation": "h",
           "showlegend": true,
           "textposition": "auto",
           "type": "bar",
           "x": {
            "bdata": "CA==",
            "dtype": "i1"
           },
           "xaxis": "x",
           "y": [
            "Game Theory and Voting Systems"
           ],
           "yaxis": "y"
          },
          {
           "hovertemplate": "topic=%{y}<br>year=2016<br>count=%{x}<extra></extra>",
           "legendgroup": "Advanced Database Systems and Queries",
           "marker": {
            "color": "#19d3f3",
            "pattern": {
             "shape": ""
            }
           },
           "name": "Advanced Database Systems and Queries",
           "orientation": "h",
           "showlegend": true,
           "textposition": "auto",
           "type": "bar",
           "x": {
            "bdata": "CA==",
            "dtype": "i1"
           },
           "xaxis": "x",
           "y": [
            "Advanced Database Systems and Queries"
           ],
           "yaxis": "y"
          }
         ],
         "name": "2016"
        },
        {
         "data": [
          {
           "hovertemplate": "topic=%{y}<br>year=2017<br>count=%{x}<extra></extra>",
           "legendgroup": "Logic, Reasoning, and Knowledge",
           "marker": {
            "color": "#636efa",
            "pattern": {
             "shape": ""
            }
           },
           "name": "Logic, Reasoning, and Knowledge",
           "orientation": "h",
           "showlegend": true,
           "textposition": "auto",
           "type": "bar",
           "x": {
            "bdata": "Ag==",
            "dtype": "i1"
           },
           "xaxis": "x",
           "y": [
            "Logic, Reasoning, and Knowledge"
           ],
           "yaxis": "y"
          },
          {
           "hovertemplate": "topic=%{y}<br>year=2017<br>count=%{x}<extra></extra>",
           "legendgroup": "Multi-Agent Systems and Negotiation",
           "marker": {
            "color": "#B6E880",
            "pattern": {
             "shape": ""
            }
           },
           "name": "Multi-Agent Systems and Negotiation",
           "orientation": "h",
           "showlegend": true,
           "textposition": "auto",
           "type": "bar",
           "x": {
            "bdata": "Aw==",
            "dtype": "i1"
           },
           "xaxis": "x",
           "y": [
            "Multi-Agent Systems and Negotiation"
           ],
           "yaxis": "y"
          },
          {
           "hovertemplate": "topic=%{y}<br>year=2017<br>count=%{x}<extra></extra>",
           "legendgroup": "Evolutionary Game Theory and Cooperation",
           "marker": {
            "color": "#FFA15A",
            "pattern": {
             "shape": ""
            }
           },
           "name": "Evolutionary Game Theory and Cooperation",
           "orientation": "h",
           "showlegend": true,
           "textposition": "auto",
           "type": "bar",
           "x": {
            "bdata": "AQ==",
            "dtype": "i1"
           },
           "xaxis": "x",
           "y": [
            "Evolutionary Game Theory and Cooperation"
           ],
           "yaxis": "y"
          },
          {
           "hovertemplate": "topic=%{y}<br>year=2017<br>count=%{x}<extra></extra>",
           "legendgroup": "Complex Systems and Decision Making",
           "marker": {
            "color": "#FF6692",
            "pattern": {
             "shape": ""
            }
           },
           "name": "Complex Systems and Decision Making",
           "orientation": "h",
           "showlegend": true,
           "textposition": "auto",
           "type": "bar",
           "x": {
            "bdata": "Ag==",
            "dtype": "i1"
           },
           "xaxis": "x",
           "y": [
            "Complex Systems and Decision Making"
           ],
           "yaxis": "y"
          },
          {
           "hovertemplate": "topic=%{y}<br>year=2017<br>count=%{x}<extra></extra>",
           "legendgroup": "Mental Health Research Topics",
           "marker": {
            "color": "#FECB52",
            "pattern": {
             "shape": ""
            }
           },
           "name": "Mental Health Research Topics",
           "orientation": "h",
           "showlegend": true,
           "textposition": "auto",
           "type": "bar",
           "x": {
            "bdata": "AQ==",
            "dtype": "i1"
           },
           "xaxis": "x",
           "y": [
            "Mental Health Research Topics"
           ],
           "yaxis": "y"
          },
          {
           "hovertemplate": "topic=%{y}<br>year=2017<br>count=%{x}<extra></extra>",
           "legendgroup": "Mobile Crowdsensing and Crowdsourcing",
           "marker": {
            "color": "#FF6692",
            "pattern": {
             "shape": ""
            }
           },
           "name": "Mobile Crowdsensing and Crowdsourcing",
           "orientation": "h",
           "showlegend": true,
           "textposition": "auto",
           "type": "bar",
           "x": {
            "bdata": "AQ==",
            "dtype": "i1"
           },
           "xaxis": "x",
           "y": [
            "Mobile Crowdsensing and Crowdsourcing"
           ],
           "yaxis": "y"
          },
          {
           "hovertemplate": "topic=%{y}<br>year=2017<br>count=%{x}<extra></extra>",
           "legendgroup": "Cultural Differences and Values",
           "marker": {
            "color": "#B6E880",
            "pattern": {
             "shape": ""
            }
           },
           "name": "Cultural Differences and Values",
           "orientation": "h",
           "showlegend": true,
           "textposition": "auto",
           "type": "bar",
           "x": {
            "bdata": "AQ==",
            "dtype": "i1"
           },
           "xaxis": "x",
           "y": [
            "Cultural Differences and Values"
           ],
           "yaxis": "y"
          },
          {
           "hovertemplate": "topic=%{y}<br>year=2017<br>count=%{x}<extra></extra>",
           "legendgroup": "Modular Robots and Swarm Intelligence",
           "marker": {
            "color": "#FF97FF",
            "pattern": {
             "shape": ""
            }
           },
           "name": "Modular Robots and Swarm Intelligence",
           "orientation": "h",
           "showlegend": true,
           "textposition": "auto",
           "type": "bar",
           "x": {
            "bdata": "AQ==",
            "dtype": "i1"
           },
           "xaxis": "x",
           "y": [
            "Modular Robots and Swarm Intelligence"
           ],
           "yaxis": "y"
          },
          {
           "hovertemplate": "topic=%{y}<br>year=2017<br>count=%{x}<extra></extra>",
           "legendgroup": "Internet Traffic Analysis and Secure E-voting",
           "marker": {
            "color": "#FECB52",
            "pattern": {
             "shape": ""
            }
           },
           "name": "Internet Traffic Analysis and Secure E-voting",
           "orientation": "h",
           "showlegend": true,
           "textposition": "auto",
           "type": "bar",
           "x": {
            "bdata": "AQ==",
            "dtype": "i1"
           },
           "xaxis": "x",
           "y": [
            "Internet Traffic Analysis and Secure E-voting"
           ],
           "yaxis": "y"
          },
          {
           "hovertemplate": "topic=%{y}<br>year=2017<br>count=%{x}<extra></extra>",
           "legendgroup": "Systems Engineering Methodologies and Applications",
           "marker": {
            "color": "#636efa",
            "pattern": {
             "shape": ""
            }
           },
           "name": "Systems Engineering Methodologies and Applications",
           "orientation": "h",
           "showlegend": true,
           "textposition": "auto",
           "type": "bar",
           "x": {
            "bdata": "AQ==",
            "dtype": "i1"
           },
           "xaxis": "x",
           "y": [
            "Systems Engineering Methodologies and Applications"
           ],
           "yaxis": "y"
          }
         ],
         "name": "2017"
        },
        {
         "data": [
          {
           "hovertemplate": "topic=%{y}<br>year=2020<br>count=%{x}<extra></extra>",
           "legendgroup": "Mobile Crowdsensing and Crowdsourcing",
           "marker": {
            "color": "#FF6692",
            "pattern": {
             "shape": ""
            }
           },
           "name": "Mobile Crowdsensing and Crowdsourcing",
           "orientation": "h",
           "showlegend": true,
           "textposition": "auto",
           "type": "bar",
           "x": {
            "bdata": "AA==",
            "dtype": "i1"
           },
           "xaxis": "x",
           "y": [
            "Mobile Crowdsensing and Crowdsourcing"
           ],
           "yaxis": "y"
          },
          {
           "hovertemplate": "topic=%{y}<br>year=2020<br>count=%{x}<extra></extra>",
           "legendgroup": "Healthcare Technology and Patient Monitoring",
           "marker": {
            "color": "#EF553B",
            "pattern": {
             "shape": ""
            }
           },
           "name": "Healthcare Technology and Patient Monitoring",
           "orientation": "h",
           "showlegend": true,
           "textposition": "auto",
           "type": "bar",
           "x": {
            "bdata": "AA==",
            "dtype": "i1"
           },
           "xaxis": "x",
           "y": [
            "Healthcare Technology and Patient Monitoring"
           ],
           "yaxis": "y"
          },
          {
           "hovertemplate": "topic=%{y}<br>year=2020<br>count=%{x}<extra></extra>",
           "legendgroup": "Safety Systems Engineering in Autonomy",
           "marker": {
            "color": "#00cc96",
            "pattern": {
             "shape": ""
            }
           },
           "name": "Safety Systems Engineering in Autonomy",
           "orientation": "h",
           "showlegend": true,
           "textposition": "auto",
           "type": "bar",
           "x": {
            "bdata": "AA==",
            "dtype": "i1"
           },
           "xaxis": "x",
           "y": [
            "Safety Systems Engineering in Autonomy"
           ],
           "yaxis": "y"
          },
          {
           "hovertemplate": "topic=%{y}<br>year=2020<br>count=%{x}<extra></extra>",
           "legendgroup": "Real-Time Systems Scheduling",
           "marker": {
            "color": "#ab63fa",
            "pattern": {
             "shape": ""
            }
           },
           "name": "Real-Time Systems Scheduling",
           "orientation": "h",
           "showlegend": true,
           "textposition": "auto",
           "type": "bar",
           "x": {
            "bdata": "AA==",
            "dtype": "i1"
           },
           "xaxis": "x",
           "y": [
            "Real-Time Systems Scheduling"
           ],
           "yaxis": "y"
          },
          {
           "hovertemplate": "topic=%{y}<br>year=2020<br>count=%{x}<extra></extra>",
           "legendgroup": "Product Development and Customization",
           "marker": {
            "color": "#FFA15A",
            "pattern": {
             "shape": ""
            }
           },
           "name": "Product Development and Customization",
           "orientation": "h",
           "showlegend": true,
           "textposition": "auto",
           "type": "bar",
           "x": {
            "bdata": "AA==",
            "dtype": "i1"
           },
           "xaxis": "x",
           "y": [
            "Product Development and Customization"
           ],
           "yaxis": "y"
          },
          {
           "hovertemplate": "topic=%{y}<br>year=2020<br>count=%{x}<extra></extra>",
           "legendgroup": "Teleoperation and Haptic Systems",
           "marker": {
            "color": "#19d3f3",
            "pattern": {
             "shape": ""
            }
           },
           "name": "Teleoperation and Haptic Systems",
           "orientation": "h",
           "showlegend": true,
           "textposition": "auto",
           "type": "bar",
           "x": {
            "bdata": "AA==",
            "dtype": "i1"
           },
           "xaxis": "x",
           "y": [
            "Teleoperation and Haptic Systems"
           ],
           "yaxis": "y"
          },
          {
           "hovertemplate": "topic=%{y}<br>year=2020<br>count=%{x}<extra></extra>",
           "legendgroup": "Gaussian Processes and Bayesian Inference",
           "marker": {
            "color": "#FF6692",
            "pattern": {
             "shape": ""
            }
           },
           "name": "Gaussian Processes and Bayesian Inference",
           "orientation": "h",
           "showlegend": true,
           "textposition": "auto",
           "type": "bar",
           "x": {
            "bdata": "AA==",
            "dtype": "i1"
           },
           "xaxis": "x",
           "y": [
            "Gaussian Processes and Bayesian Inference"
           ],
           "yaxis": "y"
          },
          {
           "hovertemplate": "topic=%{y}<br>year=2020<br>count=%{x}<extra></extra>",
           "legendgroup": "Water Quality Monitoring Technologies",
           "marker": {
            "color": "#B6E880",
            "pattern": {
             "shape": ""
            }
           },
           "name": "Water Quality Monitoring Technologies",
           "orientation": "h",
           "showlegend": true,
           "textposition": "auto",
           "type": "bar",
           "x": {
            "bdata": "AA==",
            "dtype": "i1"
           },
           "xaxis": "x",
           "y": [
            "Water Quality Monitoring Technologies"
           ],
           "yaxis": "y"
          },
          {
           "hovertemplate": "topic=%{y}<br>year=2020<br>count=%{x}<extra></extra>",
           "legendgroup": "Metaheuristic Optimization Algorithms Research",
           "marker": {
            "color": "#FF97FF",
            "pattern": {
             "shape": ""
            }
           },
           "name": "Metaheuristic Optimization Algorithms Research",
           "orientation": "h",
           "showlegend": true,
           "textposition": "auto",
           "type": "bar",
           "x": {
            "bdata": "AA==",
            "dtype": "i1"
           },
           "xaxis": "x",
           "y": [
            "Metaheuristic Optimization Algorithms Research"
           ],
           "yaxis": "y"
          },
          {
           "hovertemplate": "topic=%{y}<br>year=2020<br>count=%{x}<extra></extra>",
           "legendgroup": "Voice and Speech Disorders",
           "marker": {
            "color": "#FECB52",
            "pattern": {
             "shape": ""
            }
           },
           "name": "Voice and Speech Disorders",
           "orientation": "h",
           "showlegend": true,
           "textposition": "auto",
           "type": "bar",
           "x": {
            "bdata": "AA==",
            "dtype": "i1"
           },
           "xaxis": "x",
           "y": [
            "Voice and Speech Disorders"
           ],
           "yaxis": "y"
          }
         ],
         "name": "2020"
        },
        {
         "data": [
          {
           "hovertemplate": "topic=%{y}<br>year=2022<br>count=%{x}<extra></extra>",
           "legendgroup": "Mobile Crowdsensing and Crowdsourcing",
           "marker": {
            "color": "#FF6692",
            "pattern": {
             "shape": ""
            }
           },
           "name": "Mobile Crowdsensing and Crowdsourcing",
           "orientation": "h",
           "showlegend": true,
           "textposition": "auto",
           "type": "bar",
           "x": {
            "bdata": "AA==",
            "dtype": "i1"
           },
           "xaxis": "x",
           "y": [
            "Mobile Crowdsensing and Crowdsourcing"
           ],
           "yaxis": "y"
          },
          {
           "hovertemplate": "topic=%{y}<br>year=2022<br>count=%{x}<extra></extra>",
           "legendgroup": "Healthcare Technology and Patient Monitoring",
           "marker": {
            "color": "#EF553B",
            "pattern": {
             "shape": ""
            }
           },
           "name": "Healthcare Technology and Patient Monitoring",
           "orientation": "h",
           "showlegend": true,
           "textposition": "auto",
           "type": "bar",
           "x": {
            "bdata": "AA==",
            "dtype": "i1"
           },
           "xaxis": "x",
           "y": [
            "Healthcare Technology and Patient Monitoring"
           ],
           "yaxis": "y"
          },
          {
           "hovertemplate": "topic=%{y}<br>year=2022<br>count=%{x}<extra></extra>",
           "legendgroup": "Safety Systems Engineering in Autonomy",
           "marker": {
            "color": "#00cc96",
            "pattern": {
             "shape": ""
            }
           },
           "name": "Safety Systems Engineering in Autonomy",
           "orientation": "h",
           "showlegend": true,
           "textposition": "auto",
           "type": "bar",
           "x": {
            "bdata": "AA==",
            "dtype": "i1"
           },
           "xaxis": "x",
           "y": [
            "Safety Systems Engineering in Autonomy"
           ],
           "yaxis": "y"
          },
          {
           "hovertemplate": "topic=%{y}<br>year=2022<br>count=%{x}<extra></extra>",
           "legendgroup": "Real-Time Systems Scheduling",
           "marker": {
            "color": "#ab63fa",
            "pattern": {
             "shape": ""
            }
           },
           "name": "Real-Time Systems Scheduling",
           "orientation": "h",
           "showlegend": true,
           "textposition": "auto",
           "type": "bar",
           "x": {
            "bdata": "AA==",
            "dtype": "i1"
           },
           "xaxis": "x",
           "y": [
            "Real-Time Systems Scheduling"
           ],
           "yaxis": "y"
          },
          {
           "hovertemplate": "topic=%{y}<br>year=2022<br>count=%{x}<extra></extra>",
           "legendgroup": "Product Development and Customization",
           "marker": {
            "color": "#FFA15A",
            "pattern": {
             "shape": ""
            }
           },
           "name": "Product Development and Customization",
           "orientation": "h",
           "showlegend": true,
           "textposition": "auto",
           "type": "bar",
           "x": {
            "bdata": "AA==",
            "dtype": "i1"
           },
           "xaxis": "x",
           "y": [
            "Product Development and Customization"
           ],
           "yaxis": "y"
          },
          {
           "hovertemplate": "topic=%{y}<br>year=2022<br>count=%{x}<extra></extra>",
           "legendgroup": "Teleoperation and Haptic Systems",
           "marker": {
            "color": "#19d3f3",
            "pattern": {
             "shape": ""
            }
           },
           "name": "Teleoperation and Haptic Systems",
           "orientation": "h",
           "showlegend": true,
           "textposition": "auto",
           "type": "bar",
           "x": {
            "bdata": "AA==",
            "dtype": "i1"
           },
           "xaxis": "x",
           "y": [
            "Teleoperation and Haptic Systems"
           ],
           "yaxis": "y"
          },
          {
           "hovertemplate": "topic=%{y}<br>year=2022<br>count=%{x}<extra></extra>",
           "legendgroup": "Gaussian Processes and Bayesian Inference",
           "marker": {
            "color": "#FF6692",
            "pattern": {
             "shape": ""
            }
           },
           "name": "Gaussian Processes and Bayesian Inference",
           "orientation": "h",
           "showlegend": true,
           "textposition": "auto",
           "type": "bar",
           "x": {
            "bdata": "AA==",
            "dtype": "i1"
           },
           "xaxis": "x",
           "y": [
            "Gaussian Processes and Bayesian Inference"
           ],
           "yaxis": "y"
          },
          {
           "hovertemplate": "topic=%{y}<br>year=2022<br>count=%{x}<extra></extra>",
           "legendgroup": "Water Quality Monitoring Technologies",
           "marker": {
            "color": "#B6E880",
            "pattern": {
             "shape": ""
            }
           },
           "name": "Water Quality Monitoring Technologies",
           "orientation": "h",
           "showlegend": true,
           "textposition": "auto",
           "type": "bar",
           "x": {
            "bdata": "AA==",
            "dtype": "i1"
           },
           "xaxis": "x",
           "y": [
            "Water Quality Monitoring Technologies"
           ],
           "yaxis": "y"
          },
          {
           "hovertemplate": "topic=%{y}<br>year=2022<br>count=%{x}<extra></extra>",
           "legendgroup": "Metaheuristic Optimization Algorithms Research",
           "marker": {
            "color": "#FF97FF",
            "pattern": {
             "shape": ""
            }
           },
           "name": "Metaheuristic Optimization Algorithms Research",
           "orientation": "h",
           "showlegend": true,
           "textposition": "auto",
           "type": "bar",
           "x": {
            "bdata": "AA==",
            "dtype": "i1"
           },
           "xaxis": "x",
           "y": [
            "Metaheuristic Optimization Algorithms Research"
           ],
           "yaxis": "y"
          },
          {
           "hovertemplate": "topic=%{y}<br>year=2022<br>count=%{x}<extra></extra>",
           "legendgroup": "Voice and Speech Disorders",
           "marker": {
            "color": "#FECB52",
            "pattern": {
             "shape": ""
            }
           },
           "name": "Voice and Speech Disorders",
           "orientation": "h",
           "showlegend": true,
           "textposition": "auto",
           "type": "bar",
           "x": {
            "bdata": "AA==",
            "dtype": "i1"
           },
           "xaxis": "x",
           "y": [
            "Voice and Speech Disorders"
           ],
           "yaxis": "y"
          }
         ],
         "name": "2022"
        },
        {
         "data": [
          {
           "hovertemplate": "topic=%{y}<br>year=2023<br>count=%{x}<extra></extra>",
           "legendgroup": "Mobile Crowdsensing and Crowdsourcing",
           "marker": {
            "color": "#FF6692",
            "pattern": {
             "shape": ""
            }
           },
           "name": "Mobile Crowdsensing and Crowdsourcing",
           "orientation": "h",
           "showlegend": true,
           "textposition": "auto",
           "type": "bar",
           "x": {
            "bdata": "AA==",
            "dtype": "i1"
           },
           "xaxis": "x",
           "y": [
            "Mobile Crowdsensing and Crowdsourcing"
           ],
           "yaxis": "y"
          },
          {
           "hovertemplate": "topic=%{y}<br>year=2023<br>count=%{x}<extra></extra>",
           "legendgroup": "Healthcare Technology and Patient Monitoring",
           "marker": {
            "color": "#EF553B",
            "pattern": {
             "shape": ""
            }
           },
           "name": "Healthcare Technology and Patient Monitoring",
           "orientation": "h",
           "showlegend": true,
           "textposition": "auto",
           "type": "bar",
           "x": {
            "bdata": "AA==",
            "dtype": "i1"
           },
           "xaxis": "x",
           "y": [
            "Healthcare Technology and Patient Monitoring"
           ],
           "yaxis": "y"
          },
          {
           "hovertemplate": "topic=%{y}<br>year=2023<br>count=%{x}<extra></extra>",
           "legendgroup": "Safety Systems Engineering in Autonomy",
           "marker": {
            "color": "#00cc96",
            "pattern": {
             "shape": ""
            }
           },
           "name": "Safety Systems Engineering in Autonomy",
           "orientation": "h",
           "showlegend": true,
           "textposition": "auto",
           "type": "bar",
           "x": {
            "bdata": "AA==",
            "dtype": "i1"
           },
           "xaxis": "x",
           "y": [
            "Safety Systems Engineering in Autonomy"
           ],
           "yaxis": "y"
          },
          {
           "hovertemplate": "topic=%{y}<br>year=2023<br>count=%{x}<extra></extra>",
           "legendgroup": "Real-Time Systems Scheduling",
           "marker": {
            "color": "#ab63fa",
            "pattern": {
             "shape": ""
            }
           },
           "name": "Real-Time Systems Scheduling",
           "orientation": "h",
           "showlegend": true,
           "textposition": "auto",
           "type": "bar",
           "x": {
            "bdata": "AA==",
            "dtype": "i1"
           },
           "xaxis": "x",
           "y": [
            "Real-Time Systems Scheduling"
           ],
           "yaxis": "y"
          },
          {
           "hovertemplate": "topic=%{y}<br>year=2023<br>count=%{x}<extra></extra>",
           "legendgroup": "Product Development and Customization",
           "marker": {
            "color": "#FFA15A",
            "pattern": {
             "shape": ""
            }
           },
           "name": "Product Development and Customization",
           "orientation": "h",
           "showlegend": true,
           "textposition": "auto",
           "type": "bar",
           "x": {
            "bdata": "AA==",
            "dtype": "i1"
           },
           "xaxis": "x",
           "y": [
            "Product Development and Customization"
           ],
           "yaxis": "y"
          },
          {
           "hovertemplate": "topic=%{y}<br>year=2023<br>count=%{x}<extra></extra>",
           "legendgroup": "Teleoperation and Haptic Systems",
           "marker": {
            "color": "#19d3f3",
            "pattern": {
             "shape": ""
            }
           },
           "name": "Teleoperation and Haptic Systems",
           "orientation": "h",
           "showlegend": true,
           "textposition": "auto",
           "type": "bar",
           "x": {
            "bdata": "AA==",
            "dtype": "i1"
           },
           "xaxis": "x",
           "y": [
            "Teleoperation and Haptic Systems"
           ],
           "yaxis": "y"
          },
          {
           "hovertemplate": "topic=%{y}<br>year=2023<br>count=%{x}<extra></extra>",
           "legendgroup": "Gaussian Processes and Bayesian Inference",
           "marker": {
            "color": "#FF6692",
            "pattern": {
             "shape": ""
            }
           },
           "name": "Gaussian Processes and Bayesian Inference",
           "orientation": "h",
           "showlegend": true,
           "textposition": "auto",
           "type": "bar",
           "x": {
            "bdata": "AA==",
            "dtype": "i1"
           },
           "xaxis": "x",
           "y": [
            "Gaussian Processes and Bayesian Inference"
           ],
           "yaxis": "y"
          },
          {
           "hovertemplate": "topic=%{y}<br>year=2023<br>count=%{x}<extra></extra>",
           "legendgroup": "Water Quality Monitoring Technologies",
           "marker": {
            "color": "#B6E880",
            "pattern": {
             "shape": ""
            }
           },
           "name": "Water Quality Monitoring Technologies",
           "orientation": "h",
           "showlegend": true,
           "textposition": "auto",
           "type": "bar",
           "x": {
            "bdata": "AA==",
            "dtype": "i1"
           },
           "xaxis": "x",
           "y": [
            "Water Quality Monitoring Technologies"
           ],
           "yaxis": "y"
          },
          {
           "hovertemplate": "topic=%{y}<br>year=2023<br>count=%{x}<extra></extra>",
           "legendgroup": "Metaheuristic Optimization Algorithms Research",
           "marker": {
            "color": "#FF97FF",
            "pattern": {
             "shape": ""
            }
           },
           "name": "Metaheuristic Optimization Algorithms Research",
           "orientation": "h",
           "showlegend": true,
           "textposition": "auto",
           "type": "bar",
           "x": {
            "bdata": "AA==",
            "dtype": "i1"
           },
           "xaxis": "x",
           "y": [
            "Metaheuristic Optimization Algorithms Research"
           ],
           "yaxis": "y"
          },
          {
           "hovertemplate": "topic=%{y}<br>year=2023<br>count=%{x}<extra></extra>",
           "legendgroup": "Voice and Speech Disorders",
           "marker": {
            "color": "#FECB52",
            "pattern": {
             "shape": ""
            }
           },
           "name": "Voice and Speech Disorders",
           "orientation": "h",
           "showlegend": true,
           "textposition": "auto",
           "type": "bar",
           "x": {
            "bdata": "AA==",
            "dtype": "i1"
           },
           "xaxis": "x",
           "y": [
            "Voice and Speech Disorders"
           ],
           "yaxis": "y"
          }
         ],
         "name": "2023"
        },
        {
         "data": [
          {
           "hovertemplate": "topic=%{y}<br>year=2024<br>count=%{x}<extra></extra>",
           "legendgroup": "AI-based Problem Solving and Planning",
           "marker": {
            "color": "#00cc96",
            "pattern": {
             "shape": ""
            }
           },
           "name": "AI-based Problem Solving and Planning",
           "orientation": "h",
           "showlegend": true,
           "textposition": "auto",
           "type": "bar",
           "x": {
            "bdata": "BQ==",
            "dtype": "i1"
           },
           "xaxis": "x",
           "y": [
            "AI-based Problem Solving and Planning"
           ],
           "yaxis": "y"
          },
          {
           "hovertemplate": "topic=%{y}<br>year=2024<br>count=%{x}<extra></extra>",
           "legendgroup": "Bayesian Modeling and Causal Inference",
           "marker": {
            "color": "#FF6692",
            "pattern": {
             "shape": ""
            }
           },
           "name": "Bayesian Modeling and Causal Inference",
           "orientation": "h",
           "showlegend": true,
           "textposition": "auto",
           "type": "bar",
           "x": {
            "bdata": "BQ==",
            "dtype": "i1"
           },
           "xaxis": "x",
           "y": [
            "Bayesian Modeling and Causal Inference"
           ],
           "yaxis": "y"
          },
          {
           "hovertemplate": "topic=%{y}<br>year=2024<br>count=%{x}<extra></extra>",
           "legendgroup": "Topic Modeling",
           "marker": {
            "color": "#FF6692",
            "pattern": {
             "shape": ""
            }
           },
           "name": "Topic Modeling",
           "orientation": "h",
           "showlegend": true,
           "textposition": "auto",
           "type": "bar",
           "x": {
            "bdata": "CQ==",
            "dtype": "i1"
           },
           "xaxis": "x",
           "y": [
            "Topic Modeling"
           ],
           "yaxis": "y"
          },
          {
           "hovertemplate": "topic=%{y}<br>year=2024<br>count=%{x}<extra></extra>",
           "legendgroup": "Machine Learning and Data Classification",
           "marker": {
            "color": "#EF553B",
            "pattern": {
             "shape": ""
            }
           },
           "name": "Machine Learning and Data Classification",
           "orientation": "h",
           "showlegend": true,
           "textposition": "auto",
           "type": "bar",
           "x": {
            "bdata": "Bg==",
            "dtype": "i1"
           },
           "xaxis": "x",
           "y": [
            "Machine Learning and Data Classification"
           ],
           "yaxis": "y"
          },
          {
           "hovertemplate": "topic=%{y}<br>year=2024<br>count=%{x}<extra></extra>",
           "legendgroup": "Machine Learning in Healthcare",
           "marker": {
            "color": "#FF97FF",
            "pattern": {
             "shape": ""
            }
           },
           "name": "Machine Learning in Healthcare",
           "orientation": "h",
           "showlegend": true,
           "textposition": "auto",
           "type": "bar",
           "x": {
            "bdata": "Bg==",
            "dtype": "i1"
           },
           "xaxis": "x",
           "y": [
            "Machine Learning in Healthcare"
           ],
           "yaxis": "y"
          },
          {
           "hovertemplate": "topic=%{y}<br>year=2024<br>count=%{x}<extra></extra>",
           "legendgroup": "Explainable Artificial Intelligence (XAI)",
           "marker": {
            "color": "#636efa",
            "pattern": {
             "shape": ""
            }
           },
           "name": "Explainable Artificial Intelligence (XAI)",
           "orientation": "h",
           "showlegend": true,
           "textposition": "auto",
           "type": "bar",
           "x": {
            "bdata": "Fg==",
            "dtype": "i1"
           },
           "xaxis": "x",
           "y": [
            "Explainable Artificial Intelligence (XAI)"
           ],
           "yaxis": "y"
          },
          {
           "hovertemplate": "topic=%{y}<br>year=2024<br>count=%{x}<extra></extra>",
           "legendgroup": "Smart Grid Energy Management",
           "marker": {
            "color": "#EF553B",
            "pattern": {
             "shape": ""
            }
           },
           "name": "Smart Grid Energy Management",
           "orientation": "h",
           "showlegend": true,
           "textposition": "auto",
           "type": "bar",
           "x": {
            "bdata": "Bw==",
            "dtype": "i1"
           },
           "xaxis": "x",
           "y": [
            "Smart Grid Energy Management"
           ],
           "yaxis": "y"
          },
          {
           "hovertemplate": "topic=%{y}<br>year=2024<br>count=%{x}<extra></extra>",
           "legendgroup": "Ethics and Social Impacts of AI",
           "marker": {
            "color": "#00cc96",
            "pattern": {
             "shape": ""
            }
           },
           "name": "Ethics and Social Impacts of AI",
           "orientation": "h",
           "showlegend": true,
           "textposition": "auto",
           "type": "bar",
           "x": {
            "bdata": "Bg==",
            "dtype": "i1"
           },
           "xaxis": "x",
           "y": [
            "Ethics and Social Impacts of AI"
           ],
           "yaxis": "y"
          },
          {
           "hovertemplate": "topic=%{y}<br>year=2024<br>count=%{x}<extra></extra>",
           "legendgroup": "Artificial Intelligence in Healthcare and Education",
           "marker": {
            "color": "#ab63fa",
            "pattern": {
             "shape": ""
            }
           },
           "name": "Artificial Intelligence in Healthcare and Education",
           "orientation": "h",
           "showlegend": true,
           "textposition": "auto",
           "type": "bar",
           "x": {
            "bdata": "BQ==",
            "dtype": "i1"
           },
           "xaxis": "x",
           "y": [
            "Artificial Intelligence in Healthcare and Education"
           ],
           "yaxis": "y"
          },
          {
           "hovertemplate": "topic=%{y}<br>year=2024<br>count=%{x}<extra></extra>",
           "legendgroup": "Software Engineering Research",
           "marker": {
            "color": "#FFA15A",
            "pattern": {
             "shape": ""
            }
           },
           "name": "Software Engineering Research",
           "orientation": "h",
           "showlegend": true,
           "textposition": "auto",
           "type": "bar",
           "x": {
            "bdata": "BQ==",
            "dtype": "i1"
           },
           "xaxis": "x",
           "y": [
            "Software Engineering Research"
           ],
           "yaxis": "y"
          }
         ],
         "name": "2024"
        }
       ],
       "layout": {
        "barmode": "relative",
        "legend": {
         "title": {
          "text": "topic"
         },
         "tracegroupgap": 0
        },
        "showlegend": false,
        "sliders": [
         {
          "active": 0,
          "currentvalue": {
           "prefix": "year="
          },
          "len": 0.9,
          "pad": {
           "b": 10,
           "t": 60
          },
          "steps": [
           {
            "args": [
             [
              "1994"
             ],
             {
              "frame": {
               "duration": 0,
               "redraw": true
              },
              "fromcurrent": true,
              "mode": "immediate",
              "transition": {
               "duration": 0,
               "easing": "linear"
              }
             }
            ],
            "label": "1994",
            "method": "animate"
           },
           {
            "args": [
             [
              "1995"
             ],
             {
              "frame": {
               "duration": 0,
               "redraw": true
              },
              "fromcurrent": true,
              "mode": "immediate",
              "transition": {
               "duration": 0,
               "easing": "linear"
              }
             }
            ],
            "label": "1995",
            "method": "animate"
           },
           {
            "args": [
             [
              "1997"
             ],
             {
              "frame": {
               "duration": 0,
               "redraw": true
              },
              "fromcurrent": true,
              "mode": "immediate",
              "transition": {
               "duration": 0,
               "easing": "linear"
              }
             }
            ],
            "label": "1997",
            "method": "animate"
           },
           {
            "args": [
             [
              "2001"
             ],
             {
              "frame": {
               "duration": 0,
               "redraw": true
              },
              "fromcurrent": true,
              "mode": "immediate",
              "transition": {
               "duration": 0,
               "easing": "linear"
              }
             }
            ],
            "label": "2001",
            "method": "animate"
           },
           {
            "args": [
             [
              "2007"
             ],
             {
              "frame": {
               "duration": 0,
               "redraw": true
              },
              "fromcurrent": true,
              "mode": "immediate",
              "transition": {
               "duration": 0,
               "easing": "linear"
              }
             }
            ],
            "label": "2007",
            "method": "animate"
           },
           {
            "args": [
             [
              "2008"
             ],
             {
              "frame": {
               "duration": 0,
               "redraw": true
              },
              "fromcurrent": true,
              "mode": "immediate",
              "transition": {
               "duration": 0,
               "easing": "linear"
              }
             }
            ],
            "label": "2008",
            "method": "animate"
           },
           {
            "args": [
             [
              "2009"
             ],
             {
              "frame": {
               "duration": 0,
               "redraw": true
              },
              "fromcurrent": true,
              "mode": "immediate",
              "transition": {
               "duration": 0,
               "easing": "linear"
              }
             }
            ],
            "label": "2009",
            "method": "animate"
           },
           {
            "args": [
             [
              "2010"
             ],
             {
              "frame": {
               "duration": 0,
               "redraw": true
              },
              "fromcurrent": true,
              "mode": "immediate",
              "transition": {
               "duration": 0,
               "easing": "linear"
              }
             }
            ],
            "label": "2010",
            "method": "animate"
           },
           {
            "args": [
             [
              "2011"
             ],
             {
              "frame": {
               "duration": 0,
               "redraw": true
              },
              "fromcurrent": true,
              "mode": "immediate",
              "transition": {
               "duration": 0,
               "easing": "linear"
              }
             }
            ],
            "label": "2011",
            "method": "animate"
           },
           {
            "args": [
             [
              "2012"
             ],
             {
              "frame": {
               "duration": 0,
               "redraw": true
              },
              "fromcurrent": true,
              "mode": "immediate",
              "transition": {
               "duration": 0,
               "easing": "linear"
              }
             }
            ],
            "label": "2012",
            "method": "animate"
           },
           {
            "args": [
             [
              "2014"
             ],
             {
              "frame": {
               "duration": 0,
               "redraw": true
              },
              "fromcurrent": true,
              "mode": "immediate",
              "transition": {
               "duration": 0,
               "easing": "linear"
              }
             }
            ],
            "label": "2014",
            "method": "animate"
           },
           {
            "args": [
             [
              "2016"
             ],
             {
              "frame": {
               "duration": 0,
               "redraw": true
              },
              "fromcurrent": true,
              "mode": "immediate",
              "transition": {
               "duration": 0,
               "easing": "linear"
              }
             }
            ],
            "label": "2016",
            "method": "animate"
           },
           {
            "args": [
             [
              "2017"
             ],
             {
              "frame": {
               "duration": 0,
               "redraw": true
              },
              "fromcurrent": true,
              "mode": "immediate",
              "transition": {
               "duration": 0,
               "easing": "linear"
              }
             }
            ],
            "label": "2017",
            "method": "animate"
           },
           {
            "args": [
             [
              "2020"
             ],
             {
              "frame": {
               "duration": 0,
               "redraw": true
              },
              "fromcurrent": true,
              "mode": "immediate",
              "transition": {
               "duration": 0,
               "easing": "linear"
              }
             }
            ],
            "label": "2020",
            "method": "animate"
           },
           {
            "args": [
             [
              "2022"
             ],
             {
              "frame": {
               "duration": 0,
               "redraw": true
              },
              "fromcurrent": true,
              "mode": "immediate",
              "transition": {
               "duration": 0,
               "easing": "linear"
              }
             }
            ],
            "label": "2022",
            "method": "animate"
           },
           {
            "args": [
             [
              "2023"
             ],
             {
              "frame": {
               "duration": 0,
               "redraw": true
              },
              "fromcurrent": true,
              "mode": "immediate",
              "transition": {
               "duration": 0,
               "easing": "linear"
              }
             }
            ],
            "label": "2023",
            "method": "animate"
           },
           {
            "args": [
             [
              "2024"
             ],
             {
              "frame": {
               "duration": 0,
               "redraw": true
              },
              "fromcurrent": true,
              "mode": "immediate",
              "transition": {
               "duration": 0,
               "easing": "linear"
              }
             }
            ],
            "label": "2024",
            "method": "animate"
           }
          ],
          "x": 0.1,
          "xanchor": "left",
          "y": 0,
          "yanchor": "top"
         }
        ],
        "template": {
         "data": {
          "bar": [
           {
            "error_x": {
             "color": "#2a3f5f"
            },
            "error_y": {
             "color": "#2a3f5f"
            },
            "marker": {
             "line": {
              "color": "#E5ECF6",
              "width": 0.5
             },
             "pattern": {
              "fillmode": "overlay",
              "size": 10,
              "solidity": 0.2
             }
            },
            "type": "bar"
           }
          ],
          "barpolar": [
           {
            "marker": {
             "line": {
              "color": "#E5ECF6",
              "width": 0.5
             },
             "pattern": {
              "fillmode": "overlay",
              "size": 10,
              "solidity": 0.2
             }
            },
            "type": "barpolar"
           }
          ],
          "carpet": [
           {
            "aaxis": {
             "endlinecolor": "#2a3f5f",
             "gridcolor": "white",
             "linecolor": "white",
             "minorgridcolor": "white",
             "startlinecolor": "#2a3f5f"
            },
            "baxis": {
             "endlinecolor": "#2a3f5f",
             "gridcolor": "white",
             "linecolor": "white",
             "minorgridcolor": "white",
             "startlinecolor": "#2a3f5f"
            },
            "type": "carpet"
           }
          ],
          "choropleth": [
           {
            "colorbar": {
             "outlinewidth": 0,
             "ticks": ""
            },
            "type": "choropleth"
           }
          ],
          "contour": [
           {
            "colorbar": {
             "outlinewidth": 0,
             "ticks": ""
            },
            "colorscale": [
             [
              0,
              "#0d0887"
             ],
             [
              0.1111111111111111,
              "#46039f"
             ],
             [
              0.2222222222222222,
              "#7201a8"
             ],
             [
              0.3333333333333333,
              "#9c179e"
             ],
             [
              0.4444444444444444,
              "#bd3786"
             ],
             [
              0.5555555555555556,
              "#d8576b"
             ],
             [
              0.6666666666666666,
              "#ed7953"
             ],
             [
              0.7777777777777778,
              "#fb9f3a"
             ],
             [
              0.8888888888888888,
              "#fdca26"
             ],
             [
              1,
              "#f0f921"
             ]
            ],
            "type": "contour"
           }
          ],
          "contourcarpet": [
           {
            "colorbar": {
             "outlinewidth": 0,
             "ticks": ""
            },
            "type": "contourcarpet"
           }
          ],
          "heatmap": [
           {
            "colorbar": {
             "outlinewidth": 0,
             "ticks": ""
            },
            "colorscale": [
             [
              0,
              "#0d0887"
             ],
             [
              0.1111111111111111,
              "#46039f"
             ],
             [
              0.2222222222222222,
              "#7201a8"
             ],
             [
              0.3333333333333333,
              "#9c179e"
             ],
             [
              0.4444444444444444,
              "#bd3786"
             ],
             [
              0.5555555555555556,
              "#d8576b"
             ],
             [
              0.6666666666666666,
              "#ed7953"
             ],
             [
              0.7777777777777778,
              "#fb9f3a"
             ],
             [
              0.8888888888888888,
              "#fdca26"
             ],
             [
              1,
              "#f0f921"
             ]
            ],
            "type": "heatmap"
           }
          ],
          "histogram": [
           {
            "marker": {
             "pattern": {
              "fillmode": "overlay",
              "size": 10,
              "solidity": 0.2
             }
            },
            "type": "histogram"
           }
          ],
          "histogram2d": [
           {
            "colorbar": {
             "outlinewidth": 0,
             "ticks": ""
            },
            "colorscale": [
             [
              0,
              "#0d0887"
             ],
             [
              0.1111111111111111,
              "#46039f"
             ],
             [
              0.2222222222222222,
              "#7201a8"
             ],
             [
              0.3333333333333333,
              "#9c179e"
             ],
             [
              0.4444444444444444,
              "#bd3786"
             ],
             [
              0.5555555555555556,
              "#d8576b"
             ],
             [
              0.6666666666666666,
              "#ed7953"
             ],
             [
              0.7777777777777778,
              "#fb9f3a"
             ],
             [
              0.8888888888888888,
              "#fdca26"
             ],
             [
              1,
              "#f0f921"
             ]
            ],
            "type": "histogram2d"
           }
          ],
          "histogram2dcontour": [
           {
            "colorbar": {
             "outlinewidth": 0,
             "ticks": ""
            },
            "colorscale": [
             [
              0,
              "#0d0887"
             ],
             [
              0.1111111111111111,
              "#46039f"
             ],
             [
              0.2222222222222222,
              "#7201a8"
             ],
             [
              0.3333333333333333,
              "#9c179e"
             ],
             [
              0.4444444444444444,
              "#bd3786"
             ],
             [
              0.5555555555555556,
              "#d8576b"
             ],
             [
              0.6666666666666666,
              "#ed7953"
             ],
             [
              0.7777777777777778,
              "#fb9f3a"
             ],
             [
              0.8888888888888888,
              "#fdca26"
             ],
             [
              1,
              "#f0f921"
             ]
            ],
            "type": "histogram2dcontour"
           }
          ],
          "mesh3d": [
           {
            "colorbar": {
             "outlinewidth": 0,
             "ticks": ""
            },
            "type": "mesh3d"
           }
          ],
          "parcoords": [
           {
            "line": {
             "colorbar": {
              "outlinewidth": 0,
              "ticks": ""
             }
            },
            "type": "parcoords"
           }
          ],
          "pie": [
           {
            "automargin": true,
            "type": "pie"
           }
          ],
          "scatter": [
           {
            "fillpattern": {
             "fillmode": "overlay",
             "size": 10,
             "solidity": 0.2
            },
            "type": "scatter"
           }
          ],
          "scatter3d": [
           {
            "line": {
             "colorbar": {
              "outlinewidth": 0,
              "ticks": ""
             }
            },
            "marker": {
             "colorbar": {
              "outlinewidth": 0,
              "ticks": ""
             }
            },
            "type": "scatter3d"
           }
          ],
          "scattercarpet": [
           {
            "marker": {
             "colorbar": {
              "outlinewidth": 0,
              "ticks": ""
             }
            },
            "type": "scattercarpet"
           }
          ],
          "scattergeo": [
           {
            "marker": {
             "colorbar": {
              "outlinewidth": 0,
              "ticks": ""
             }
            },
            "type": "scattergeo"
           }
          ],
          "scattergl": [
           {
            "marker": {
             "colorbar": {
              "outlinewidth": 0,
              "ticks": ""
             }
            },
            "type": "scattergl"
           }
          ],
          "scattermap": [
           {
            "marker": {
             "colorbar": {
              "outlinewidth": 0,
              "ticks": ""
             }
            },
            "type": "scattermap"
           }
          ],
          "scattermapbox": [
           {
            "marker": {
             "colorbar": {
              "outlinewidth": 0,
              "ticks": ""
             }
            },
            "type": "scattermapbox"
           }
          ],
          "scatterpolar": [
           {
            "marker": {
             "colorbar": {
              "outlinewidth": 0,
              "ticks": ""
             }
            },
            "type": "scatterpolar"
           }
          ],
          "scatterpolargl": [
           {
            "marker": {
             "colorbar": {
              "outlinewidth": 0,
              "ticks": ""
             }
            },
            "type": "scatterpolargl"
           }
          ],
          "scatterternary": [
           {
            "marker": {
             "colorbar": {
              "outlinewidth": 0,
              "ticks": ""
             }
            },
            "type": "scatterternary"
           }
          ],
          "surface": [
           {
            "colorbar": {
             "outlinewidth": 0,
             "ticks": ""
            },
            "colorscale": [
             [
              0,
              "#0d0887"
             ],
             [
              0.1111111111111111,
              "#46039f"
             ],
             [
              0.2222222222222222,
              "#7201a8"
             ],
             [
              0.3333333333333333,
              "#9c179e"
             ],
             [
              0.4444444444444444,
              "#bd3786"
             ],
             [
              0.5555555555555556,
              "#d8576b"
             ],
             [
              0.6666666666666666,
              "#ed7953"
             ],
             [
              0.7777777777777778,
              "#fb9f3a"
             ],
             [
              0.8888888888888888,
              "#fdca26"
             ],
             [
              1,
              "#f0f921"
             ]
            ],
            "type": "surface"
           }
          ],
          "table": [
           {
            "cells": {
             "fill": {
              "color": "#EBF0F8"
             },
             "line": {
              "color": "white"
             }
            },
            "header": {
             "fill": {
              "color": "#C8D4E3"
             },
             "line": {
              "color": "white"
             }
            },
            "type": "table"
           }
          ]
         },
         "layout": {
          "annotationdefaults": {
           "arrowcolor": "#2a3f5f",
           "arrowhead": 0,
           "arrowwidth": 1
          },
          "autotypenumbers": "strict",
          "coloraxis": {
           "colorbar": {
            "outlinewidth": 0,
            "ticks": ""
           }
          },
          "colorscale": {
           "diverging": [
            [
             0,
             "#8e0152"
            ],
            [
             0.1,
             "#c51b7d"
            ],
            [
             0.2,
             "#de77ae"
            ],
            [
             0.3,
             "#f1b6da"
            ],
            [
             0.4,
             "#fde0ef"
            ],
            [
             0.5,
             "#f7f7f7"
            ],
            [
             0.6,
             "#e6f5d0"
            ],
            [
             0.7,
             "#b8e186"
            ],
            [
             0.8,
             "#7fbc41"
            ],
            [
             0.9,
             "#4d9221"
            ],
            [
             1,
             "#276419"
            ]
           ],
           "sequential": [
            [
             0,
             "#0d0887"
            ],
            [
             0.1111111111111111,
             "#46039f"
            ],
            [
             0.2222222222222222,
             "#7201a8"
            ],
            [
             0.3333333333333333,
             "#9c179e"
            ],
            [
             0.4444444444444444,
             "#bd3786"
            ],
            [
             0.5555555555555556,
             "#d8576b"
            ],
            [
             0.6666666666666666,
             "#ed7953"
            ],
            [
             0.7777777777777778,
             "#fb9f3a"
            ],
            [
             0.8888888888888888,
             "#fdca26"
            ],
            [
             1,
             "#f0f921"
            ]
           ],
           "sequentialminus": [
            [
             0,
             "#0d0887"
            ],
            [
             0.1111111111111111,
             "#46039f"
            ],
            [
             0.2222222222222222,
             "#7201a8"
            ],
            [
             0.3333333333333333,
             "#9c179e"
            ],
            [
             0.4444444444444444,
             "#bd3786"
            ],
            [
             0.5555555555555556,
             "#d8576b"
            ],
            [
             0.6666666666666666,
             "#ed7953"
            ],
            [
             0.7777777777777778,
             "#fb9f3a"
            ],
            [
             0.8888888888888888,
             "#fdca26"
            ],
            [
             1,
             "#f0f921"
            ]
           ]
          },
          "colorway": [
           "#636efa",
           "#EF553B",
           "#00cc96",
           "#ab63fa",
           "#FFA15A",
           "#19d3f3",
           "#FF6692",
           "#B6E880",
           "#FF97FF",
           "#FECB52"
          ],
          "font": {
           "color": "#2a3f5f"
          },
          "geo": {
           "bgcolor": "white",
           "lakecolor": "white",
           "landcolor": "#E5ECF6",
           "showlakes": true,
           "showland": true,
           "subunitcolor": "white"
          },
          "hoverlabel": {
           "align": "left"
          },
          "hovermode": "closest",
          "mapbox": {
           "style": "light"
          },
          "paper_bgcolor": "white",
          "plot_bgcolor": "#E5ECF6",
          "polar": {
           "angularaxis": {
            "gridcolor": "white",
            "linecolor": "white",
            "ticks": ""
           },
           "bgcolor": "#E5ECF6",
           "radialaxis": {
            "gridcolor": "white",
            "linecolor": "white",
            "ticks": ""
           }
          },
          "scene": {
           "xaxis": {
            "backgroundcolor": "#E5ECF6",
            "gridcolor": "white",
            "gridwidth": 2,
            "linecolor": "white",
            "showbackground": true,
            "ticks": "",
            "zerolinecolor": "white"
           },
           "yaxis": {
            "backgroundcolor": "#E5ECF6",
            "gridcolor": "white",
            "gridwidth": 2,
            "linecolor": "white",
            "showbackground": true,
            "ticks": "",
            "zerolinecolor": "white"
           },
           "zaxis": {
            "backgroundcolor": "#E5ECF6",
            "gridcolor": "white",
            "gridwidth": 2,
            "linecolor": "white",
            "showbackground": true,
            "ticks": "",
            "zerolinecolor": "white"
           }
          },
          "shapedefaults": {
           "line": {
            "color": "#2a3f5f"
           }
          },
          "ternary": {
           "aaxis": {
            "gridcolor": "white",
            "linecolor": "white",
            "ticks": ""
           },
           "baxis": {
            "gridcolor": "white",
            "linecolor": "white",
            "ticks": ""
           },
           "bgcolor": "#E5ECF6",
           "caxis": {
            "gridcolor": "white",
            "linecolor": "white",
            "ticks": ""
           }
          },
          "title": {
           "x": 0.05
          },
          "xaxis": {
           "automargin": true,
           "gridcolor": "white",
           "linecolor": "white",
           "ticks": "",
           "title": {
            "standoff": 15
           },
           "zerolinecolor": "white",
           "zerolinewidth": 2
          },
          "yaxis": {
           "automargin": true,
           "gridcolor": "white",
           "linecolor": "white",
           "ticks": "",
           "title": {
            "standoff": 15
           },
           "zerolinecolor": "white",
           "zerolinewidth": 2
          }
         }
        },
        "title": {
         "text": "Top 10 Topic Counts per Year"
        },
        "updatemenus": [
         {
          "buttons": [
           {
            "args": [
             null,
             {
              "frame": {
               "duration": 500,
               "redraw": true
              },
              "fromcurrent": true,
              "mode": "immediate",
              "transition": {
               "duration": 500,
               "easing": "linear"
              }
             }
            ],
            "label": "&#9654;",
            "method": "animate"
           },
           {
            "args": [
             [
              null
             ],
             {
              "frame": {
               "duration": 0,
               "redraw": true
              },
              "fromcurrent": true,
              "mode": "immediate",
              "transition": {
               "duration": 0,
               "easing": "linear"
              }
             }
            ],
            "label": "&#9724;",
            "method": "animate"
           }
          ],
          "direction": "left",
          "pad": {
           "r": 10,
           "t": 70
          },
          "showactive": false,
          "type": "buttons",
          "x": 0.1,
          "xanchor": "right",
          "y": 0,
          "yanchor": "top"
         }
        ],
        "xaxis": {
         "anchor": "y",
         "domain": [
          0,
          1
         ],
         "range": [
          0,
          74
         ],
         "title": {
          "text": "Occurrences"
         }
        },
        "yaxis": {
         "anchor": "x",
         "categoryarray": [
          "Software Engineering Research",
          "Artificial Intelligence in Healthcare and Education",
          "Ethics and Social Impacts of AI",
          "Smart Grid Energy Management",
          "Explainable Artificial Intelligence (XAI)",
          "Voice and Speech Disorders",
          "Metaheuristic Optimization Algorithms Research",
          "Water Quality Monitoring Technologies",
          "Gaussian Processes and Bayesian Inference",
          "Teleoperation and Haptic Systems",
          "Product Development and Customization",
          "Real-Time Systems Scheduling",
          "Safety Systems Engineering in Autonomy",
          "Healthcare Technology and Patient Monitoring",
          "Systems Engineering Methodologies and Applications",
          "Internet Traffic Analysis and Secure E-voting",
          "Modular Robots and Swarm Intelligence",
          "Cultural Differences and Values",
          "Mobile Crowdsensing and Crowdsourcing",
          "Advanced Database Systems and Queries",
          "Data Mining Algorithms and Applications",
          "Renal function and acid-base balance",
          "Data Quality and Management",
          "Game Theory and Voting Systems",
          "Data Management and Algorithms",
          "QoS-Aware Web Services Composition and Semantic Matching",
          "Machine Learning in Healthcare",
          "Distributed and Parallel Computing Systems",
          "Big Data and Business Intelligence",
          "Dementia and Cognitive Impairment Research",
          "Clinical practice guidelines implementation",
          "Electronic Health Records Systems",
          "Biomedical Text Mining and Ontologies",
          "Machine Learning and Data Classification",
          "Formal Methods in Verification",
          "Mental Health Research Topics",
          "Peer-to-Peer Network Technologies",
          "Game Theory and Applications",
          "Complex Systems and Decision Making",
          "Access Control and Trust",
          "Auction Theory and Applications",
          "Business Process Modeling and Analysis",
          "Optimization and Search Problems",
          "Distributed Multi-Agent Coordination and Control",
          "Vehicle Routing Optimization Methods",
          "Language and cultural evolution",
          "Evolutionary Algorithms and Applications",
          "Reinforcement Learning in Robotics",
          "Topic Modeling",
          "Speech and dialogue systems",
          "Evolutionary Game Theory and Cooperation",
          "Computability, Logic, AI Algorithms",
          "Educational Games and Gamification",
          "Robotic Path Planning Algorithms",
          "Mobile Agent-Based Network Management",
          "Natural Language Processing Techniques",
          "Machine Learning and Algorithms",
          "Multi-Agent Systems and Negotiation",
          "Bayesian Modeling and Causal Inference",
          "Distributed Constraint Optimization Problems and Algorithms",
          "Advanced Algebra and Logic",
          "Logic, programming, and type systems",
          "AI-based Problem Solving and Planning",
          "Semantic Web and Ontologies",
          "Logic, Reasoning, and Knowledge"
         ],
         "categoryorder": "total ascending",
         "domain": [
          0,
          1
         ],
         "title": {
          "text": "Topic"
         }
        }
       }
      }
     },
     "metadata": {},
     "output_type": "display_data"
    }
   ],
   "source": [
    "from pathlib import Path\n",
    "from io import BytesIO\n",
    "import json\n",
    "import pandas as pd\n",
    "import plotly.express as px\n",
    "import imageio.v2 as imageio\n",
    "\n",
    "try:\n",
    "    base_dir\n",
    "except NameError:\n",
    "    base_dir = Path.cwd()\n",
    "\n",
    "with open(base_dir / \"Data/topic_year_counts.json\", \"r\", encoding=\"utf-8\") as f:\n",
    "    topic_counts = json.load(f)\n",
    "\n",
    "with open(base_dir / \"Data/topic_label.json\", \"r\", encoding=\"utf-8\") as f:\n",
    "    topic_code_to_name = json.load(f)\n",
    "\n",
    "rows = []\n",
    "for year, topics in topic_counts.items():\n",
    "    sorted_topics = sorted(\n",
    "        (\n",
    "            {\n",
    "                \"year\": int(year),\n",
    "                \"topic\": topic_code_to_name.get(topic, topic),\n",
    "                \"count\": int(count),\n",
    "            }\n",
    "            for topic, count in topics.items()\n",
    "        ),\n",
    "        key=lambda row: row[\"count\"],\n",
    "        reverse=True,\n",
    "    )\n",
    "    rows.extend(sorted_topics[:10])\n",
    "\n",
    "if not rows:\n",
    "    raise ValueError(\"No topic counts were found to plot.\")\n",
    "\n",
    "top_10_df = pd.DataFrame(rows)\n",
    "top_10_df.sort_values([\"year\", \"count\"], ascending=[True, False], inplace=True)\n",
    "\n",
    "fig_top10 = px.bar(\n",
    "    top_10_df,\n",
    "    x=\"count\",\n",
    "    y=\"topic\",\n",
    "    color=\"topic\",\n",
    "    orientation=\"h\",\n",
    "    animation_frame=\"year\",\n",
    "    range_x=[0, top_10_df[\"count\"].max()],\n",
    "    title=\"Top 10 Topic Counts per Year\",\n",
    ")\n",
    "fig_top10.update_layout(\n",
    "    xaxis_title=\"Occurrences\",\n",
    "    yaxis_title=\"Topic\",\n",
    "    showlegend=False,\n",
    ")\n",
    "fig_top10.update_yaxes(categoryorder=\"total ascending\")\n",
    "\n",
    "# if fig_top10.layout.updatemenus and fig_top10.layout.updatemenus[0].buttons:\n",
    "#     play_button = fig_top10.layout.updatemenus[0].buttons[0]\n",
    "#     if len(play_button.args) > 1:\n",
    "#         play_button.args[1].setdefault(\"frame\", {})[\"duration\"] = 2000\n",
    "#         play_button.args[1].setdefault(\"transition\", {})[\"duration\"] = 500\n",
    "#         play_button.args[1][\"mode\"] = \"immediate\"\n",
    "\n",
    "# if fig_top10.layout.sliders:\n",
    "#     slider = fig_top10.layout.sliders[0]\n",
    "#     slider.setdefault(\"transition\", {})[\"duration\"] = 500\n",
    "#     for step in slider.steps:\n",
    "#         if len(step.args) > 1:\n",
    "#             step.args[1].setdefault(\"frame\", {})[\"duration\"] = 2000\n",
    "#             step.args[1].setdefault(\"transition\", {})[\"duration\"] = 500\n",
    "\n",
    "# fig_top10.layout.updatemenus[0].buttons[0].args[1][\"frame\"][\"duration\"] = 2000\n",
    "\n",
    "fig_top10.show()\n"
   ]
  },
  {
   "cell_type": "markdown",
   "id": "a5797666",
   "metadata": {},
   "source": [
    "# Single Year Plots"
   ]
  },
  {
   "cell_type": "code",
   "execution_count": 17,
   "id": "eafc0310",
   "metadata": {},
   "outputs": [
    {
     "data": {
      "application/vnd.plotly.v1+json": {
       "config": {
        "plotlyServerURL": "https://plot.ly"
       },
       "data": [
        {
         "hovertemplate": "Topic=%{y}<br>Occurrences=%{x}<extra></extra>",
         "legendgroup": "Natural Language Processing Techniques",
         "marker": {
          "color": "#AB63FA",
          "pattern": {
           "shape": ""
          }
         },
         "name": "Natural Language Processing Techniques",
         "orientation": "h",
         "showlegend": true,
         "textposition": "auto",
         "type": "bar",
         "x": {
          "bdata": "Ag==",
          "dtype": "i1"
         },
         "xaxis": "x",
         "y": [
          "Natural Language Processing Techniques"
         ],
         "yaxis": "y"
        },
        {
         "hovertemplate": "Topic=%{y}<br>Occurrences=%{x}<extra></extra>",
         "legendgroup": "Data Management and Algorithms",
         "marker": {
          "color": "rgb(248, 156, 116)",
          "pattern": {
           "shape": ""
          }
         },
         "name": "Data Management and Algorithms",
         "orientation": "h",
         "showlegend": true,
         "textposition": "auto",
         "type": "bar",
         "x": {
          "bdata": "Ag==",
          "dtype": "i1"
         },
         "xaxis": "x",
         "y": [
          "Data Management and Algorithms"
         ],
         "yaxis": "y"
        },
        {
         "hovertemplate": "Topic=%{y}<br>Occurrences=%{x}<extra></extra>",
         "legendgroup": "Bayesian Modeling and Causal Inference",
         "marker": {
          "color": "rgb(51, 34, 136)",
          "pattern": {
           "shape": ""
          }
         },
         "name": "Bayesian Modeling and Causal Inference",
         "orientation": "h",
         "showlegend": true,
         "textposition": "auto",
         "type": "bar",
         "x": {
          "bdata": "Aw==",
          "dtype": "i1"
         },
         "xaxis": "x",
         "y": [
          "Bayesian Modeling and Causal Inference"
         ],
         "yaxis": "y"
        },
        {
         "hovertemplate": "Topic=%{y}<br>Occurrences=%{x}<extra></extra>",
         "legendgroup": "Advanced Algebra and Logic",
         "marker": {
          "color": "#FFA15A",
          "pattern": {
           "shape": ""
          }
         },
         "name": "Advanced Algebra and Logic",
         "orientation": "h",
         "showlegend": true,
         "textposition": "auto",
         "type": "bar",
         "x": {
          "bdata": "Aw==",
          "dtype": "i1"
         },
         "xaxis": "x",
         "y": [
          "Advanced Algebra and Logic"
         ],
         "yaxis": "y"
        },
        {
         "hovertemplate": "Topic=%{y}<br>Occurrences=%{x}<extra></extra>",
         "legendgroup": "Distributed Constraint Optimization Problems and Algorithms",
         "marker": {
          "color": "rgb(98, 83, 119)",
          "pattern": {
           "shape": ""
          }
         },
         "name": "Distributed Constraint Optimization Problems and Algorithms",
         "orientation": "h",
         "showlegend": true,
         "textposition": "auto",
         "type": "bar",
         "x": {
          "bdata": "Aw==",
          "dtype": "i1"
         },
         "xaxis": "x",
         "y": [
          "Distributed Constraint Optimization Problems and Algorithms"
         ],
         "yaxis": "y"
        },
        {
         "hovertemplate": "Topic=%{y}<br>Occurrences=%{x}<extra></extra>",
         "legendgroup": "Multi-Agent Systems and Negotiation",
         "marker": {
          "color": "rgb(160, 97, 119)",
          "pattern": {
           "shape": ""
          }
         },
         "name": "Multi-Agent Systems and Negotiation",
         "orientation": "h",
         "showlegend": true,
         "textposition": "auto",
         "type": "bar",
         "x": {
          "bdata": "Aw==",
          "dtype": "i1"
         },
         "xaxis": "x",
         "y": [
          "Multi-Agent Systems and Negotiation"
         ],
         "yaxis": "y"
        },
        {
         "hovertemplate": "Topic=%{y}<br>Occurrences=%{x}<extra></extra>",
         "legendgroup": "Logic, programming, and type systems",
         "marker": {
          "color": "rgb(153, 153, 51)",
          "pattern": {
           "shape": ""
          }
         },
         "name": "Logic, programming, and type systems",
         "orientation": "h",
         "showlegend": true,
         "textposition": "auto",
         "type": "bar",
         "x": {
          "bdata": "BA==",
          "dtype": "i1"
         },
         "xaxis": "x",
         "y": [
          "Logic, programming, and type systems"
         ],
         "yaxis": "y"
        },
        {
         "hovertemplate": "Topic=%{y}<br>Occurrences=%{x}<extra></extra>",
         "legendgroup": "AI-based Problem Solving and Planning",
         "marker": {
          "color": "#636EFA",
          "pattern": {
           "shape": ""
          }
         },
         "name": "AI-based Problem Solving and Planning",
         "orientation": "h",
         "showlegend": true,
         "textposition": "auto",
         "type": "bar",
         "x": {
          "bdata": "BQ==",
          "dtype": "i1"
         },
         "xaxis": "x",
         "y": [
          "AI-based Problem Solving and Planning"
         ],
         "yaxis": "y"
        },
        {
         "hovertemplate": "Topic=%{y}<br>Occurrences=%{x}<extra></extra>",
         "legendgroup": "Semantic Web and Ontologies",
         "marker": {
          "color": "rgb(102, 197, 204)",
          "pattern": {
           "shape": ""
          }
         },
         "name": "Semantic Web and Ontologies",
         "orientation": "h",
         "showlegend": true,
         "textposition": "auto",
         "type": "bar",
         "x": {
          "bdata": "Cw==",
          "dtype": "i1"
         },
         "xaxis": "x",
         "y": [
          "Semantic Web and Ontologies"
         ],
         "yaxis": "y"
        },
        {
         "hovertemplate": "Topic=%{y}<br>Occurrences=%{x}<extra></extra>",
         "legendgroup": "Logic, Reasoning, and Knowledge",
         "marker": {
          "color": "rgb(68, 170, 153)",
          "pattern": {
           "shape": ""
          }
         },
         "name": "Logic, Reasoning, and Knowledge",
         "orientation": "h",
         "showlegend": true,
         "textposition": "auto",
         "type": "bar",
         "x": {
          "bdata": "Eg==",
          "dtype": "i1"
         },
         "xaxis": "x",
         "y": [
          "Logic, Reasoning, and Knowledge"
         ],
         "yaxis": "y"
        }
       ],
       "layout": {
        "barmode": "relative",
        "legend": {
         "title": {
          "text": "Topic"
         },
         "tracegroupgap": 0
        },
        "showlegend": false,
        "template": {
         "data": {
          "bar": [
           {
            "error_x": {
             "color": "#2a3f5f"
            },
            "error_y": {
             "color": "#2a3f5f"
            },
            "marker": {
             "line": {
              "color": "#E5ECF6",
              "width": 0.5
             },
             "pattern": {
              "fillmode": "overlay",
              "size": 10,
              "solidity": 0.2
             }
            },
            "type": "bar"
           }
          ],
          "barpolar": [
           {
            "marker": {
             "line": {
              "color": "#E5ECF6",
              "width": 0.5
             },
             "pattern": {
              "fillmode": "overlay",
              "size": 10,
              "solidity": 0.2
             }
            },
            "type": "barpolar"
           }
          ],
          "carpet": [
           {
            "aaxis": {
             "endlinecolor": "#2a3f5f",
             "gridcolor": "white",
             "linecolor": "white",
             "minorgridcolor": "white",
             "startlinecolor": "#2a3f5f"
            },
            "baxis": {
             "endlinecolor": "#2a3f5f",
             "gridcolor": "white",
             "linecolor": "white",
             "minorgridcolor": "white",
             "startlinecolor": "#2a3f5f"
            },
            "type": "carpet"
           }
          ],
          "choropleth": [
           {
            "colorbar": {
             "outlinewidth": 0,
             "ticks": ""
            },
            "type": "choropleth"
           }
          ],
          "contour": [
           {
            "colorbar": {
             "outlinewidth": 0,
             "ticks": ""
            },
            "colorscale": [
             [
              0,
              "#0d0887"
             ],
             [
              0.1111111111111111,
              "#46039f"
             ],
             [
              0.2222222222222222,
              "#7201a8"
             ],
             [
              0.3333333333333333,
              "#9c179e"
             ],
             [
              0.4444444444444444,
              "#bd3786"
             ],
             [
              0.5555555555555556,
              "#d8576b"
             ],
             [
              0.6666666666666666,
              "#ed7953"
             ],
             [
              0.7777777777777778,
              "#fb9f3a"
             ],
             [
              0.8888888888888888,
              "#fdca26"
             ],
             [
              1,
              "#f0f921"
             ]
            ],
            "type": "contour"
           }
          ],
          "contourcarpet": [
           {
            "colorbar": {
             "outlinewidth": 0,
             "ticks": ""
            },
            "type": "contourcarpet"
           }
          ],
          "heatmap": [
           {
            "colorbar": {
             "outlinewidth": 0,
             "ticks": ""
            },
            "colorscale": [
             [
              0,
              "#0d0887"
             ],
             [
              0.1111111111111111,
              "#46039f"
             ],
             [
              0.2222222222222222,
              "#7201a8"
             ],
             [
              0.3333333333333333,
              "#9c179e"
             ],
             [
              0.4444444444444444,
              "#bd3786"
             ],
             [
              0.5555555555555556,
              "#d8576b"
             ],
             [
              0.6666666666666666,
              "#ed7953"
             ],
             [
              0.7777777777777778,
              "#fb9f3a"
             ],
             [
              0.8888888888888888,
              "#fdca26"
             ],
             [
              1,
              "#f0f921"
             ]
            ],
            "type": "heatmap"
           }
          ],
          "histogram": [
           {
            "marker": {
             "pattern": {
              "fillmode": "overlay",
              "size": 10,
              "solidity": 0.2
             }
            },
            "type": "histogram"
           }
          ],
          "histogram2d": [
           {
            "colorbar": {
             "outlinewidth": 0,
             "ticks": ""
            },
            "colorscale": [
             [
              0,
              "#0d0887"
             ],
             [
              0.1111111111111111,
              "#46039f"
             ],
             [
              0.2222222222222222,
              "#7201a8"
             ],
             [
              0.3333333333333333,
              "#9c179e"
             ],
             [
              0.4444444444444444,
              "#bd3786"
             ],
             [
              0.5555555555555556,
              "#d8576b"
             ],
             [
              0.6666666666666666,
              "#ed7953"
             ],
             [
              0.7777777777777778,
              "#fb9f3a"
             ],
             [
              0.8888888888888888,
              "#fdca26"
             ],
             [
              1,
              "#f0f921"
             ]
            ],
            "type": "histogram2d"
           }
          ],
          "histogram2dcontour": [
           {
            "colorbar": {
             "outlinewidth": 0,
             "ticks": ""
            },
            "colorscale": [
             [
              0,
              "#0d0887"
             ],
             [
              0.1111111111111111,
              "#46039f"
             ],
             [
              0.2222222222222222,
              "#7201a8"
             ],
             [
              0.3333333333333333,
              "#9c179e"
             ],
             [
              0.4444444444444444,
              "#bd3786"
             ],
             [
              0.5555555555555556,
              "#d8576b"
             ],
             [
              0.6666666666666666,
              "#ed7953"
             ],
             [
              0.7777777777777778,
              "#fb9f3a"
             ],
             [
              0.8888888888888888,
              "#fdca26"
             ],
             [
              1,
              "#f0f921"
             ]
            ],
            "type": "histogram2dcontour"
           }
          ],
          "mesh3d": [
           {
            "colorbar": {
             "outlinewidth": 0,
             "ticks": ""
            },
            "type": "mesh3d"
           }
          ],
          "parcoords": [
           {
            "line": {
             "colorbar": {
              "outlinewidth": 0,
              "ticks": ""
             }
            },
            "type": "parcoords"
           }
          ],
          "pie": [
           {
            "automargin": true,
            "type": "pie"
           }
          ],
          "scatter": [
           {
            "fillpattern": {
             "fillmode": "overlay",
             "size": 10,
             "solidity": 0.2
            },
            "type": "scatter"
           }
          ],
          "scatter3d": [
           {
            "line": {
             "colorbar": {
              "outlinewidth": 0,
              "ticks": ""
             }
            },
            "marker": {
             "colorbar": {
              "outlinewidth": 0,
              "ticks": ""
             }
            },
            "type": "scatter3d"
           }
          ],
          "scattercarpet": [
           {
            "marker": {
             "colorbar": {
              "outlinewidth": 0,
              "ticks": ""
             }
            },
            "type": "scattercarpet"
           }
          ],
          "scattergeo": [
           {
            "marker": {
             "colorbar": {
              "outlinewidth": 0,
              "ticks": ""
             }
            },
            "type": "scattergeo"
           }
          ],
          "scattergl": [
           {
            "marker": {
             "colorbar": {
              "outlinewidth": 0,
              "ticks": ""
             }
            },
            "type": "scattergl"
           }
          ],
          "scattermap": [
           {
            "marker": {
             "colorbar": {
              "outlinewidth": 0,
              "ticks": ""
             }
            },
            "type": "scattermap"
           }
          ],
          "scattermapbox": [
           {
            "marker": {
             "colorbar": {
              "outlinewidth": 0,
              "ticks": ""
             }
            },
            "type": "scattermapbox"
           }
          ],
          "scatterpolar": [
           {
            "marker": {
             "colorbar": {
              "outlinewidth": 0,
              "ticks": ""
             }
            },
            "type": "scatterpolar"
           }
          ],
          "scatterpolargl": [
           {
            "marker": {
             "colorbar": {
              "outlinewidth": 0,
              "ticks": ""
             }
            },
            "type": "scatterpolargl"
           }
          ],
          "scatterternary": [
           {
            "marker": {
             "colorbar": {
              "outlinewidth": 0,
              "ticks": ""
             }
            },
            "type": "scatterternary"
           }
          ],
          "surface": [
           {
            "colorbar": {
             "outlinewidth": 0,
             "ticks": ""
            },
            "colorscale": [
             [
              0,
              "#0d0887"
             ],
             [
              0.1111111111111111,
              "#46039f"
             ],
             [
              0.2222222222222222,
              "#7201a8"
             ],
             [
              0.3333333333333333,
              "#9c179e"
             ],
             [
              0.4444444444444444,
              "#bd3786"
             ],
             [
              0.5555555555555556,
              "#d8576b"
             ],
             [
              0.6666666666666666,
              "#ed7953"
             ],
             [
              0.7777777777777778,
              "#fb9f3a"
             ],
             [
              0.8888888888888888,
              "#fdca26"
             ],
             [
              1,
              "#f0f921"
             ]
            ],
            "type": "surface"
           }
          ],
          "table": [
           {
            "cells": {
             "fill": {
              "color": "#EBF0F8"
             },
             "line": {
              "color": "white"
             }
            },
            "header": {
             "fill": {
              "color": "#C8D4E3"
             },
             "line": {
              "color": "white"
             }
            },
            "type": "table"
           }
          ]
         },
         "layout": {
          "annotationdefaults": {
           "arrowcolor": "#2a3f5f",
           "arrowhead": 0,
           "arrowwidth": 1
          },
          "autotypenumbers": "strict",
          "coloraxis": {
           "colorbar": {
            "outlinewidth": 0,
            "ticks": ""
           }
          },
          "colorscale": {
           "diverging": [
            [
             0,
             "#8e0152"
            ],
            [
             0.1,
             "#c51b7d"
            ],
            [
             0.2,
             "#de77ae"
            ],
            [
             0.3,
             "#f1b6da"
            ],
            [
             0.4,
             "#fde0ef"
            ],
            [
             0.5,
             "#f7f7f7"
            ],
            [
             0.6,
             "#e6f5d0"
            ],
            [
             0.7,
             "#b8e186"
            ],
            [
             0.8,
             "#7fbc41"
            ],
            [
             0.9,
             "#4d9221"
            ],
            [
             1,
             "#276419"
            ]
           ],
           "sequential": [
            [
             0,
             "#0d0887"
            ],
            [
             0.1111111111111111,
             "#46039f"
            ],
            [
             0.2222222222222222,
             "#7201a8"
            ],
            [
             0.3333333333333333,
             "#9c179e"
            ],
            [
             0.4444444444444444,
             "#bd3786"
            ],
            [
             0.5555555555555556,
             "#d8576b"
            ],
            [
             0.6666666666666666,
             "#ed7953"
            ],
            [
             0.7777777777777778,
             "#fb9f3a"
            ],
            [
             0.8888888888888888,
             "#fdca26"
            ],
            [
             1,
             "#f0f921"
            ]
           ],
           "sequentialminus": [
            [
             0,
             "#0d0887"
            ],
            [
             0.1111111111111111,
             "#46039f"
            ],
            [
             0.2222222222222222,
             "#7201a8"
            ],
            [
             0.3333333333333333,
             "#9c179e"
            ],
            [
             0.4444444444444444,
             "#bd3786"
            ],
            [
             0.5555555555555556,
             "#d8576b"
            ],
            [
             0.6666666666666666,
             "#ed7953"
            ],
            [
             0.7777777777777778,
             "#fb9f3a"
            ],
            [
             0.8888888888888888,
             "#fdca26"
            ],
            [
             1,
             "#f0f921"
            ]
           ]
          },
          "colorway": [
           "#636efa",
           "#EF553B",
           "#00cc96",
           "#ab63fa",
           "#FFA15A",
           "#19d3f3",
           "#FF6692",
           "#B6E880",
           "#FF97FF",
           "#FECB52"
          ],
          "font": {
           "color": "#2a3f5f"
          },
          "geo": {
           "bgcolor": "white",
           "lakecolor": "white",
           "landcolor": "#E5ECF6",
           "showlakes": true,
           "showland": true,
           "subunitcolor": "white"
          },
          "hoverlabel": {
           "align": "left"
          },
          "hovermode": "closest",
          "mapbox": {
           "style": "light"
          },
          "paper_bgcolor": "white",
          "plot_bgcolor": "#E5ECF6",
          "polar": {
           "angularaxis": {
            "gridcolor": "white",
            "linecolor": "white",
            "ticks": ""
           },
           "bgcolor": "#E5ECF6",
           "radialaxis": {
            "gridcolor": "white",
            "linecolor": "white",
            "ticks": ""
           }
          },
          "scene": {
           "xaxis": {
            "backgroundcolor": "#E5ECF6",
            "gridcolor": "white",
            "gridwidth": 2,
            "linecolor": "white",
            "showbackground": true,
            "ticks": "",
            "zerolinecolor": "white"
           },
           "yaxis": {
            "backgroundcolor": "#E5ECF6",
            "gridcolor": "white",
            "gridwidth": 2,
            "linecolor": "white",
            "showbackground": true,
            "ticks": "",
            "zerolinecolor": "white"
           },
           "zaxis": {
            "backgroundcolor": "#E5ECF6",
            "gridcolor": "white",
            "gridwidth": 2,
            "linecolor": "white",
            "showbackground": true,
            "ticks": "",
            "zerolinecolor": "white"
           }
          },
          "shapedefaults": {
           "line": {
            "color": "#2a3f5f"
           }
          },
          "ternary": {
           "aaxis": {
            "gridcolor": "white",
            "linecolor": "white",
            "ticks": ""
           },
           "baxis": {
            "gridcolor": "white",
            "linecolor": "white",
            "ticks": ""
           },
           "bgcolor": "#E5ECF6",
           "caxis": {
            "gridcolor": "white",
            "linecolor": "white",
            "ticks": ""
           }
          },
          "title": {
           "x": 0.05
          },
          "xaxis": {
           "automargin": true,
           "gridcolor": "white",
           "linecolor": "white",
           "ticks": "",
           "title": {
            "standoff": 15
           },
           "zerolinecolor": "white",
           "zerolinewidth": 2
          },
          "yaxis": {
           "automargin": true,
           "gridcolor": "white",
           "linecolor": "white",
           "ticks": "",
           "title": {
            "standoff": 15
           },
           "zerolinecolor": "white",
           "zerolinewidth": 2
          }
         }
        },
        "title": {
         "text": "Top 10 Topics in 1994"
        },
        "xaxis": {
         "anchor": "y",
         "domain": [
          0,
          1
         ],
         "title": {
          "text": "Occurrences"
         }
        },
        "yaxis": {
         "anchor": "x",
         "categoryarray": [
          "Logic, Reasoning, and Knowledge",
          "Semantic Web and Ontologies",
          "AI-based Problem Solving and Planning",
          "Logic, programming, and type systems",
          "Multi-Agent Systems and Negotiation",
          "Distributed Constraint Optimization Problems and Algorithms",
          "Advanced Algebra and Logic",
          "Bayesian Modeling and Causal Inference",
          "Data Management and Algorithms",
          "Natural Language Processing Techniques"
         ],
         "categoryorder": "array",
         "domain": [
          0,
          1
         ],
         "title": {
          "text": "Topic"
         }
        }
       }
      }
     },
     "metadata": {},
     "output_type": "display_data"
    },
    {
     "data": {
      "application/vnd.plotly.v1+json": {
       "config": {
        "plotlyServerURL": "https://plot.ly"
       },
       "data": [
        {
         "hovertemplate": "Topic=%{y}<br>Occurrences=%{x}<extra></extra>",
         "legendgroup": "Machine Learning and Algorithms",
         "marker": {
          "color": "rgb(102, 17, 0)",
          "pattern": {
           "shape": ""
          }
         },
         "name": "Machine Learning and Algorithms",
         "orientation": "h",
         "showlegend": true,
         "textposition": "auto",
         "type": "bar",
         "x": {
          "bdata": "AQ==",
          "dtype": "i1"
         },
         "xaxis": "x",
         "y": [
          "Machine Learning and Algorithms"
         ],
         "yaxis": "y"
        },
        {
         "hovertemplate": "Topic=%{y}<br>Occurrences=%{x}<extra></extra>",
         "legendgroup": "Epistemology, Ethics, and Metaphysics",
         "marker": {
          "color": "rgb(248, 156, 116)",
          "pattern": {
           "shape": ""
          }
         },
         "name": "Epistemology, Ethics, and Metaphysics",
         "orientation": "h",
         "showlegend": true,
         "textposition": "auto",
         "type": "bar",
         "x": {
          "bdata": "AQ==",
          "dtype": "i1"
         },
         "xaxis": "x",
         "y": [
          "Epistemology, Ethics, and Metaphysics"
         ],
         "yaxis": "y"
        },
        {
         "hovertemplate": "Topic=%{y}<br>Occurrences=%{x}<extra></extra>",
         "legendgroup": "Formal Methods in Verification",
         "marker": {
          "color": "rgb(124, 124, 124)",
          "pattern": {
           "shape": ""
          }
         },
         "name": "Formal Methods in Verification",
         "orientation": "h",
         "showlegend": true,
         "textposition": "auto",
         "type": "bar",
         "x": {
          "bdata": "AQ==",
          "dtype": "i1"
         },
         "xaxis": "x",
         "y": [
          "Formal Methods in Verification"
         ],
         "yaxis": "y"
        },
        {
         "hovertemplate": "Topic=%{y}<br>Occurrences=%{x}<extra></extra>",
         "legendgroup": "Access Control and Trust",
         "marker": {
          "color": "#EF553B",
          "pattern": {
           "shape": ""
          }
         },
         "name": "Access Control and Trust",
         "orientation": "h",
         "showlegend": true,
         "textposition": "auto",
         "type": "bar",
         "x": {
          "bdata": "AQ==",
          "dtype": "i1"
         },
         "xaxis": "x",
         "y": [
          "Access Control and Trust"
         ],
         "yaxis": "y"
        },
        {
         "hovertemplate": "Topic=%{y}<br>Occurrences=%{x}<extra></extra>",
         "legendgroup": "Mobile Agent-Based Network Management",
         "marker": {
          "color": "rgb(115, 111, 76)",
          "pattern": {
           "shape": ""
          }
         },
         "name": "Mobile Agent-Based Network Management",
         "orientation": "h",
         "showlegend": true,
         "textposition": "auto",
         "type": "bar",
         "x": {
          "bdata": "Ag==",
          "dtype": "i1"
         },
         "xaxis": "x",
         "y": [
          "Mobile Agent-Based Network Management"
         ],
         "yaxis": "y"
        },
        {
         "hovertemplate": "Topic=%{y}<br>Occurrences=%{x}<extra></extra>",
         "legendgroup": "Robotic Path Planning Algorithms",
         "marker": {
          "color": "rgb(204, 102, 119)",
          "pattern": {
           "shape": ""
          }
         },
         "name": "Robotic Path Planning Algorithms",
         "orientation": "h",
         "showlegend": true,
         "textposition": "auto",
         "type": "bar",
         "x": {
          "bdata": "Ag==",
          "dtype": "i1"
         },
         "xaxis": "x",
         "y": [
          "Robotic Path Planning Algorithms"
         ],
         "yaxis": "y"
        },
        {
         "hovertemplate": "Topic=%{y}<br>Occurrences=%{x}<extra></extra>",
         "legendgroup": "AI-based Problem Solving and Planning",
         "marker": {
          "color": "#636EFA",
          "pattern": {
           "shape": ""
          }
         },
         "name": "AI-based Problem Solving and Planning",
         "orientation": "h",
         "showlegend": true,
         "textposition": "auto",
         "type": "bar",
         "x": {
          "bdata": "CA==",
          "dtype": "i1"
         },
         "xaxis": "x",
         "y": [
          "AI-based Problem Solving and Planning"
         ],
         "yaxis": "y"
        },
        {
         "hovertemplate": "Topic=%{y}<br>Occurrences=%{x}<extra></extra>",
         "legendgroup": "Semantic Web and Ontologies",
         "marker": {
          "color": "rgb(102, 197, 204)",
          "pattern": {
           "shape": ""
          }
         },
         "name": "Semantic Web and Ontologies",
         "orientation": "h",
         "showlegend": true,
         "textposition": "auto",
         "type": "bar",
         "x": {
          "bdata": "CQ==",
          "dtype": "i1"
         },
         "xaxis": "x",
         "y": [
          "Semantic Web and Ontologies"
         ],
         "yaxis": "y"
        },
        {
         "hovertemplate": "Topic=%{y}<br>Occurrences=%{x}<extra></extra>",
         "legendgroup": "Logic, Reasoning, and Knowledge",
         "marker": {
          "color": "rgb(68, 170, 153)",
          "pattern": {
           "shape": ""
          }
         },
         "name": "Logic, Reasoning, and Knowledge",
         "orientation": "h",
         "showlegend": true,
         "textposition": "auto",
         "type": "bar",
         "x": {
          "bdata": "FQ==",
          "dtype": "i1"
         },
         "xaxis": "x",
         "y": [
          "Logic, Reasoning, and Knowledge"
         ],
         "yaxis": "y"
        },
        {
         "hovertemplate": "Topic=%{y}<br>Occurrences=%{x}<extra></extra>",
         "legendgroup": "Multi-Agent Systems and Negotiation",
         "marker": {
          "color": "rgb(160, 97, 119)",
          "pattern": {
           "shape": ""
          }
         },
         "name": "Multi-Agent Systems and Negotiation",
         "orientation": "h",
         "showlegend": true,
         "textposition": "auto",
         "type": "bar",
         "x": {
          "bdata": "FQ==",
          "dtype": "i1"
         },
         "xaxis": "x",
         "y": [
          "Multi-Agent Systems and Negotiation"
         ],
         "yaxis": "y"
        }
       ],
       "layout": {
        "barmode": "relative",
        "legend": {
         "title": {
          "text": "Topic"
         },
         "tracegroupgap": 0
        },
        "showlegend": false,
        "template": {
         "data": {
          "bar": [
           {
            "error_x": {
             "color": "#2a3f5f"
            },
            "error_y": {
             "color": "#2a3f5f"
            },
            "marker": {
             "line": {
              "color": "#E5ECF6",
              "width": 0.5
             },
             "pattern": {
              "fillmode": "overlay",
              "size": 10,
              "solidity": 0.2
             }
            },
            "type": "bar"
           }
          ],
          "barpolar": [
           {
            "marker": {
             "line": {
              "color": "#E5ECF6",
              "width": 0.5
             },
             "pattern": {
              "fillmode": "overlay",
              "size": 10,
              "solidity": 0.2
             }
            },
            "type": "barpolar"
           }
          ],
          "carpet": [
           {
            "aaxis": {
             "endlinecolor": "#2a3f5f",
             "gridcolor": "white",
             "linecolor": "white",
             "minorgridcolor": "white",
             "startlinecolor": "#2a3f5f"
            },
            "baxis": {
             "endlinecolor": "#2a3f5f",
             "gridcolor": "white",
             "linecolor": "white",
             "minorgridcolor": "white",
             "startlinecolor": "#2a3f5f"
            },
            "type": "carpet"
           }
          ],
          "choropleth": [
           {
            "colorbar": {
             "outlinewidth": 0,
             "ticks": ""
            },
            "type": "choropleth"
           }
          ],
          "contour": [
           {
            "colorbar": {
             "outlinewidth": 0,
             "ticks": ""
            },
            "colorscale": [
             [
              0,
              "#0d0887"
             ],
             [
              0.1111111111111111,
              "#46039f"
             ],
             [
              0.2222222222222222,
              "#7201a8"
             ],
             [
              0.3333333333333333,
              "#9c179e"
             ],
             [
              0.4444444444444444,
              "#bd3786"
             ],
             [
              0.5555555555555556,
              "#d8576b"
             ],
             [
              0.6666666666666666,
              "#ed7953"
             ],
             [
              0.7777777777777778,
              "#fb9f3a"
             ],
             [
              0.8888888888888888,
              "#fdca26"
             ],
             [
              1,
              "#f0f921"
             ]
            ],
            "type": "contour"
           }
          ],
          "contourcarpet": [
           {
            "colorbar": {
             "outlinewidth": 0,
             "ticks": ""
            },
            "type": "contourcarpet"
           }
          ],
          "heatmap": [
           {
            "colorbar": {
             "outlinewidth": 0,
             "ticks": ""
            },
            "colorscale": [
             [
              0,
              "#0d0887"
             ],
             [
              0.1111111111111111,
              "#46039f"
             ],
             [
              0.2222222222222222,
              "#7201a8"
             ],
             [
              0.3333333333333333,
              "#9c179e"
             ],
             [
              0.4444444444444444,
              "#bd3786"
             ],
             [
              0.5555555555555556,
              "#d8576b"
             ],
             [
              0.6666666666666666,
              "#ed7953"
             ],
             [
              0.7777777777777778,
              "#fb9f3a"
             ],
             [
              0.8888888888888888,
              "#fdca26"
             ],
             [
              1,
              "#f0f921"
             ]
            ],
            "type": "heatmap"
           }
          ],
          "histogram": [
           {
            "marker": {
             "pattern": {
              "fillmode": "overlay",
              "size": 10,
              "solidity": 0.2
             }
            },
            "type": "histogram"
           }
          ],
          "histogram2d": [
           {
            "colorbar": {
             "outlinewidth": 0,
             "ticks": ""
            },
            "colorscale": [
             [
              0,
              "#0d0887"
             ],
             [
              0.1111111111111111,
              "#46039f"
             ],
             [
              0.2222222222222222,
              "#7201a8"
             ],
             [
              0.3333333333333333,
              "#9c179e"
             ],
             [
              0.4444444444444444,
              "#bd3786"
             ],
             [
              0.5555555555555556,
              "#d8576b"
             ],
             [
              0.6666666666666666,
              "#ed7953"
             ],
             [
              0.7777777777777778,
              "#fb9f3a"
             ],
             [
              0.8888888888888888,
              "#fdca26"
             ],
             [
              1,
              "#f0f921"
             ]
            ],
            "type": "histogram2d"
           }
          ],
          "histogram2dcontour": [
           {
            "colorbar": {
             "outlinewidth": 0,
             "ticks": ""
            },
            "colorscale": [
             [
              0,
              "#0d0887"
             ],
             [
              0.1111111111111111,
              "#46039f"
             ],
             [
              0.2222222222222222,
              "#7201a8"
             ],
             [
              0.3333333333333333,
              "#9c179e"
             ],
             [
              0.4444444444444444,
              "#bd3786"
             ],
             [
              0.5555555555555556,
              "#d8576b"
             ],
             [
              0.6666666666666666,
              "#ed7953"
             ],
             [
              0.7777777777777778,
              "#fb9f3a"
             ],
             [
              0.8888888888888888,
              "#fdca26"
             ],
             [
              1,
              "#f0f921"
             ]
            ],
            "type": "histogram2dcontour"
           }
          ],
          "mesh3d": [
           {
            "colorbar": {
             "outlinewidth": 0,
             "ticks": ""
            },
            "type": "mesh3d"
           }
          ],
          "parcoords": [
           {
            "line": {
             "colorbar": {
              "outlinewidth": 0,
              "ticks": ""
             }
            },
            "type": "parcoords"
           }
          ],
          "pie": [
           {
            "automargin": true,
            "type": "pie"
           }
          ],
          "scatter": [
           {
            "fillpattern": {
             "fillmode": "overlay",
             "size": 10,
             "solidity": 0.2
            },
            "type": "scatter"
           }
          ],
          "scatter3d": [
           {
            "line": {
             "colorbar": {
              "outlinewidth": 0,
              "ticks": ""
             }
            },
            "marker": {
             "colorbar": {
              "outlinewidth": 0,
              "ticks": ""
             }
            },
            "type": "scatter3d"
           }
          ],
          "scattercarpet": [
           {
            "marker": {
             "colorbar": {
              "outlinewidth": 0,
              "ticks": ""
             }
            },
            "type": "scattercarpet"
           }
          ],
          "scattergeo": [
           {
            "marker": {
             "colorbar": {
              "outlinewidth": 0,
              "ticks": ""
             }
            },
            "type": "scattergeo"
           }
          ],
          "scattergl": [
           {
            "marker": {
             "colorbar": {
              "outlinewidth": 0,
              "ticks": ""
             }
            },
            "type": "scattergl"
           }
          ],
          "scattermap": [
           {
            "marker": {
             "colorbar": {
              "outlinewidth": 0,
              "ticks": ""
             }
            },
            "type": "scattermap"
           }
          ],
          "scattermapbox": [
           {
            "marker": {
             "colorbar": {
              "outlinewidth": 0,
              "ticks": ""
             }
            },
            "type": "scattermapbox"
           }
          ],
          "scatterpolar": [
           {
            "marker": {
             "colorbar": {
              "outlinewidth": 0,
              "ticks": ""
             }
            },
            "type": "scatterpolar"
           }
          ],
          "scatterpolargl": [
           {
            "marker": {
             "colorbar": {
              "outlinewidth": 0,
              "ticks": ""
             }
            },
            "type": "scatterpolargl"
           }
          ],
          "scatterternary": [
           {
            "marker": {
             "colorbar": {
              "outlinewidth": 0,
              "ticks": ""
             }
            },
            "type": "scatterternary"
           }
          ],
          "surface": [
           {
            "colorbar": {
             "outlinewidth": 0,
             "ticks": ""
            },
            "colorscale": [
             [
              0,
              "#0d0887"
             ],
             [
              0.1111111111111111,
              "#46039f"
             ],
             [
              0.2222222222222222,
              "#7201a8"
             ],
             [
              0.3333333333333333,
              "#9c179e"
             ],
             [
              0.4444444444444444,
              "#bd3786"
             ],
             [
              0.5555555555555556,
              "#d8576b"
             ],
             [
              0.6666666666666666,
              "#ed7953"
             ],
             [
              0.7777777777777778,
              "#fb9f3a"
             ],
             [
              0.8888888888888888,
              "#fdca26"
             ],
             [
              1,
              "#f0f921"
             ]
            ],
            "type": "surface"
           }
          ],
          "table": [
           {
            "cells": {
             "fill": {
              "color": "#EBF0F8"
             },
             "line": {
              "color": "white"
             }
            },
            "header": {
             "fill": {
              "color": "#C8D4E3"
             },
             "line": {
              "color": "white"
             }
            },
            "type": "table"
           }
          ]
         },
         "layout": {
          "annotationdefaults": {
           "arrowcolor": "#2a3f5f",
           "arrowhead": 0,
           "arrowwidth": 1
          },
          "autotypenumbers": "strict",
          "coloraxis": {
           "colorbar": {
            "outlinewidth": 0,
            "ticks": ""
           }
          },
          "colorscale": {
           "diverging": [
            [
             0,
             "#8e0152"
            ],
            [
             0.1,
             "#c51b7d"
            ],
            [
             0.2,
             "#de77ae"
            ],
            [
             0.3,
             "#f1b6da"
            ],
            [
             0.4,
             "#fde0ef"
            ],
            [
             0.5,
             "#f7f7f7"
            ],
            [
             0.6,
             "#e6f5d0"
            ],
            [
             0.7,
             "#b8e186"
            ],
            [
             0.8,
             "#7fbc41"
            ],
            [
             0.9,
             "#4d9221"
            ],
            [
             1,
             "#276419"
            ]
           ],
           "sequential": [
            [
             0,
             "#0d0887"
            ],
            [
             0.1111111111111111,
             "#46039f"
            ],
            [
             0.2222222222222222,
             "#7201a8"
            ],
            [
             0.3333333333333333,
             "#9c179e"
            ],
            [
             0.4444444444444444,
             "#bd3786"
            ],
            [
             0.5555555555555556,
             "#d8576b"
            ],
            [
             0.6666666666666666,
             "#ed7953"
            ],
            [
             0.7777777777777778,
             "#fb9f3a"
            ],
            [
             0.8888888888888888,
             "#fdca26"
            ],
            [
             1,
             "#f0f921"
            ]
           ],
           "sequentialminus": [
            [
             0,
             "#0d0887"
            ],
            [
             0.1111111111111111,
             "#46039f"
            ],
            [
             0.2222222222222222,
             "#7201a8"
            ],
            [
             0.3333333333333333,
             "#9c179e"
            ],
            [
             0.4444444444444444,
             "#bd3786"
            ],
            [
             0.5555555555555556,
             "#d8576b"
            ],
            [
             0.6666666666666666,
             "#ed7953"
            ],
            [
             0.7777777777777778,
             "#fb9f3a"
            ],
            [
             0.8888888888888888,
             "#fdca26"
            ],
            [
             1,
             "#f0f921"
            ]
           ]
          },
          "colorway": [
           "#636efa",
           "#EF553B",
           "#00cc96",
           "#ab63fa",
           "#FFA15A",
           "#19d3f3",
           "#FF6692",
           "#B6E880",
           "#FF97FF",
           "#FECB52"
          ],
          "font": {
           "color": "#2a3f5f"
          },
          "geo": {
           "bgcolor": "white",
           "lakecolor": "white",
           "landcolor": "#E5ECF6",
           "showlakes": true,
           "showland": true,
           "subunitcolor": "white"
          },
          "hoverlabel": {
           "align": "left"
          },
          "hovermode": "closest",
          "mapbox": {
           "style": "light"
          },
          "paper_bgcolor": "white",
          "plot_bgcolor": "#E5ECF6",
          "polar": {
           "angularaxis": {
            "gridcolor": "white",
            "linecolor": "white",
            "ticks": ""
           },
           "bgcolor": "#E5ECF6",
           "radialaxis": {
            "gridcolor": "white",
            "linecolor": "white",
            "ticks": ""
           }
          },
          "scene": {
           "xaxis": {
            "backgroundcolor": "#E5ECF6",
            "gridcolor": "white",
            "gridwidth": 2,
            "linecolor": "white",
            "showbackground": true,
            "ticks": "",
            "zerolinecolor": "white"
           },
           "yaxis": {
            "backgroundcolor": "#E5ECF6",
            "gridcolor": "white",
            "gridwidth": 2,
            "linecolor": "white",
            "showbackground": true,
            "ticks": "",
            "zerolinecolor": "white"
           },
           "zaxis": {
            "backgroundcolor": "#E5ECF6",
            "gridcolor": "white",
            "gridwidth": 2,
            "linecolor": "white",
            "showbackground": true,
            "ticks": "",
            "zerolinecolor": "white"
           }
          },
          "shapedefaults": {
           "line": {
            "color": "#2a3f5f"
           }
          },
          "ternary": {
           "aaxis": {
            "gridcolor": "white",
            "linecolor": "white",
            "ticks": ""
           },
           "baxis": {
            "gridcolor": "white",
            "linecolor": "white",
            "ticks": ""
           },
           "bgcolor": "#E5ECF6",
           "caxis": {
            "gridcolor": "white",
            "linecolor": "white",
            "ticks": ""
           }
          },
          "title": {
           "x": 0.05
          },
          "xaxis": {
           "automargin": true,
           "gridcolor": "white",
           "linecolor": "white",
           "ticks": "",
           "title": {
            "standoff": 15
           },
           "zerolinecolor": "white",
           "zerolinewidth": 2
          },
          "yaxis": {
           "automargin": true,
           "gridcolor": "white",
           "linecolor": "white",
           "ticks": "",
           "title": {
            "standoff": 15
           },
           "zerolinecolor": "white",
           "zerolinewidth": 2
          }
         }
        },
        "title": {
         "text": "Top 10 Topics in 1995"
        },
        "xaxis": {
         "anchor": "y",
         "domain": [
          0,
          1
         ],
         "title": {
          "text": "Occurrences"
         }
        },
        "yaxis": {
         "anchor": "x",
         "categoryarray": [
          "Multi-Agent Systems and Negotiation",
          "Logic, Reasoning, and Knowledge",
          "Semantic Web and Ontologies",
          "AI-based Problem Solving and Planning",
          "Robotic Path Planning Algorithms",
          "Mobile Agent-Based Network Management",
          "Access Control and Trust",
          "Formal Methods in Verification",
          "Epistemology, Ethics, and Metaphysics",
          "Machine Learning and Algorithms"
         ],
         "categoryorder": "array",
         "domain": [
          0,
          1
         ],
         "title": {
          "text": "Topic"
         }
        }
       }
      }
     },
     "metadata": {},
     "output_type": "display_data"
    },
    {
     "data": {
      "application/vnd.plotly.v1+json": {
       "config": {
        "plotlyServerURL": "https://plot.ly"
       },
       "data": [
        {
         "hovertemplate": "Topic=%{y}<br>Occurrences=%{x}<extra></extra>",
         "legendgroup": "Distributed Multi-Agent Coordination and Control",
         "marker": {
          "color": "rgb(104, 133, 92)",
          "pattern": {
           "shape": ""
          }
         },
         "name": "Distributed Multi-Agent Coordination and Control",
         "orientation": "h",
         "showlegend": true,
         "textposition": "auto",
         "type": "bar",
         "x": {
          "bdata": "Ag==",
          "dtype": "i1"
         },
         "xaxis": "x",
         "y": [
          "Distributed Multi-Agent Coordination and Control"
         ],
         "yaxis": "y"
        },
        {
         "hovertemplate": "Topic=%{y}<br>Occurrences=%{x}<extra></extra>",
         "legendgroup": "Advanced Database Systems and Queries",
         "marker": {
          "color": "rgb(170, 68, 153)",
          "pattern": {
           "shape": ""
          }
         },
         "name": "Advanced Database Systems and Queries",
         "orientation": "h",
         "showlegend": true,
         "textposition": "auto",
         "type": "bar",
         "x": {
          "bdata": "Ag==",
          "dtype": "i1"
         },
         "xaxis": "x",
         "y": [
          "Advanced Database Systems and Queries"
         ],
         "yaxis": "y"
        },
        {
         "hovertemplate": "Topic=%{y}<br>Occurrences=%{x}<extra></extra>",
         "legendgroup": "Evolutionary Algorithms and Applications",
         "marker": {
          "color": "rgb(254, 136, 177)",
          "pattern": {
           "shape": ""
          }
         },
         "name": "Evolutionary Algorithms and Applications",
         "orientation": "h",
         "showlegend": true,
         "textposition": "auto",
         "type": "bar",
         "x": {
          "bdata": "Aw==",
          "dtype": "i1"
         },
         "xaxis": "x",
         "y": [
          "Evolutionary Algorithms and Applications"
         ],
         "yaxis": "y"
        },
        {
         "hovertemplate": "Topic=%{y}<br>Occurrences=%{x}<extra></extra>",
         "legendgroup": "Robotic Path Planning Algorithms",
         "marker": {
          "color": "rgb(204, 102, 119)",
          "pattern": {
           "shape": ""
          }
         },
         "name": "Robotic Path Planning Algorithms",
         "orientation": "h",
         "showlegend": true,
         "textposition": "auto",
         "type": "bar",
         "x": {
          "bdata": "Aw==",
          "dtype": "i1"
         },
         "xaxis": "x",
         "y": [
          "Robotic Path Planning Algorithms"
         ],
         "yaxis": "y"
        },
        {
         "hovertemplate": "Topic=%{y}<br>Occurrences=%{x}<extra></extra>",
         "legendgroup": "Reinforcement Learning in Robotics",
         "marker": {
          "color": "#FF6692",
          "pattern": {
           "shape": ""
          }
         },
         "name": "Reinforcement Learning in Robotics",
         "orientation": "h",
         "showlegend": true,
         "textposition": "auto",
         "type": "bar",
         "x": {
          "bdata": "BA==",
          "dtype": "i1"
         },
         "xaxis": "x",
         "y": [
          "Reinforcement Learning in Robotics"
         ],
         "yaxis": "y"
        },
        {
         "hovertemplate": "Topic=%{y}<br>Occurrences=%{x}<extra></extra>",
         "legendgroup": "Logic, Reasoning, and Knowledge",
         "marker": {
          "color": "rgb(68, 170, 153)",
          "pattern": {
           "shape": ""
          }
         },
         "name": "Logic, Reasoning, and Knowledge",
         "orientation": "h",
         "showlegend": true,
         "textposition": "auto",
         "type": "bar",
         "x": {
          "bdata": "BQ==",
          "dtype": "i1"
         },
         "xaxis": "x",
         "y": [
          "Logic, Reasoning, and Knowledge"
         ],
         "yaxis": "y"
        },
        {
         "hovertemplate": "Topic=%{y}<br>Occurrences=%{x}<extra></extra>",
         "legendgroup": "Topic Modeling",
         "marker": {
          "color": "rgb(248, 156, 116)",
          "pattern": {
           "shape": ""
          }
         },
         "name": "Topic Modeling",
         "orientation": "h",
         "showlegend": true,
         "textposition": "auto",
         "type": "bar",
         "x": {
          "bdata": "Bw==",
          "dtype": "i1"
         },
         "xaxis": "x",
         "y": [
          "Topic Modeling"
         ],
         "yaxis": "y"
        },
        {
         "hovertemplate": "Topic=%{y}<br>Occurrences=%{x}<extra></extra>",
         "legendgroup": "Natural Language Processing Techniques",
         "marker": {
          "color": "#AB63FA",
          "pattern": {
           "shape": ""
          }
         },
         "name": "Natural Language Processing Techniques",
         "orientation": "h",
         "showlegend": true,
         "textposition": "auto",
         "type": "bar",
         "x": {
          "bdata": "Cw==",
          "dtype": "i1"
         },
         "xaxis": "x",
         "y": [
          "Natural Language Processing Techniques"
         ],
         "yaxis": "y"
        },
        {
         "hovertemplate": "Topic=%{y}<br>Occurrences=%{x}<extra></extra>",
         "legendgroup": "Multi-Agent Systems and Negotiation",
         "marker": {
          "color": "rgb(160, 97, 119)",
          "pattern": {
           "shape": ""
          }
         },
         "name": "Multi-Agent Systems and Negotiation",
         "orientation": "h",
         "showlegend": true,
         "textposition": "auto",
         "type": "bar",
         "x": {
          "bdata": "DQ==",
          "dtype": "i1"
         },
         "xaxis": "x",
         "y": [
          "Multi-Agent Systems and Negotiation"
         ],
         "yaxis": "y"
        },
        {
         "hovertemplate": "Topic=%{y}<br>Occurrences=%{x}<extra></extra>",
         "legendgroup": "Speech and dialogue systems",
         "marker": {
          "color": "#FFA15A",
          "pattern": {
           "shape": ""
          }
         },
         "name": "Speech and dialogue systems",
         "orientation": "h",
         "showlegend": true,
         "textposition": "auto",
         "type": "bar",
         "x": {
          "bdata": "EQ==",
          "dtype": "i1"
         },
         "xaxis": "x",
         "y": [
          "Speech and dialogue systems"
         ],
         "yaxis": "y"
        }
       ],
       "layout": {
        "barmode": "relative",
        "legend": {
         "title": {
          "text": "Topic"
         },
         "tracegroupgap": 0
        },
        "showlegend": false,
        "template": {
         "data": {
          "bar": [
           {
            "error_x": {
             "color": "#2a3f5f"
            },
            "error_y": {
             "color": "#2a3f5f"
            },
            "marker": {
             "line": {
              "color": "#E5ECF6",
              "width": 0.5
             },
             "pattern": {
              "fillmode": "overlay",
              "size": 10,
              "solidity": 0.2
             }
            },
            "type": "bar"
           }
          ],
          "barpolar": [
           {
            "marker": {
             "line": {
              "color": "#E5ECF6",
              "width": 0.5
             },
             "pattern": {
              "fillmode": "overlay",
              "size": 10,
              "solidity": 0.2
             }
            },
            "type": "barpolar"
           }
          ],
          "carpet": [
           {
            "aaxis": {
             "endlinecolor": "#2a3f5f",
             "gridcolor": "white",
             "linecolor": "white",
             "minorgridcolor": "white",
             "startlinecolor": "#2a3f5f"
            },
            "baxis": {
             "endlinecolor": "#2a3f5f",
             "gridcolor": "white",
             "linecolor": "white",
             "minorgridcolor": "white",
             "startlinecolor": "#2a3f5f"
            },
            "type": "carpet"
           }
          ],
          "choropleth": [
           {
            "colorbar": {
             "outlinewidth": 0,
             "ticks": ""
            },
            "type": "choropleth"
           }
          ],
          "contour": [
           {
            "colorbar": {
             "outlinewidth": 0,
             "ticks": ""
            },
            "colorscale": [
             [
              0,
              "#0d0887"
             ],
             [
              0.1111111111111111,
              "#46039f"
             ],
             [
              0.2222222222222222,
              "#7201a8"
             ],
             [
              0.3333333333333333,
              "#9c179e"
             ],
             [
              0.4444444444444444,
              "#bd3786"
             ],
             [
              0.5555555555555556,
              "#d8576b"
             ],
             [
              0.6666666666666666,
              "#ed7953"
             ],
             [
              0.7777777777777778,
              "#fb9f3a"
             ],
             [
              0.8888888888888888,
              "#fdca26"
             ],
             [
              1,
              "#f0f921"
             ]
            ],
            "type": "contour"
           }
          ],
          "contourcarpet": [
           {
            "colorbar": {
             "outlinewidth": 0,
             "ticks": ""
            },
            "type": "contourcarpet"
           }
          ],
          "heatmap": [
           {
            "colorbar": {
             "outlinewidth": 0,
             "ticks": ""
            },
            "colorscale": [
             [
              0,
              "#0d0887"
             ],
             [
              0.1111111111111111,
              "#46039f"
             ],
             [
              0.2222222222222222,
              "#7201a8"
             ],
             [
              0.3333333333333333,
              "#9c179e"
             ],
             [
              0.4444444444444444,
              "#bd3786"
             ],
             [
              0.5555555555555556,
              "#d8576b"
             ],
             [
              0.6666666666666666,
              "#ed7953"
             ],
             [
              0.7777777777777778,
              "#fb9f3a"
             ],
             [
              0.8888888888888888,
              "#fdca26"
             ],
             [
              1,
              "#f0f921"
             ]
            ],
            "type": "heatmap"
           }
          ],
          "histogram": [
           {
            "marker": {
             "pattern": {
              "fillmode": "overlay",
              "size": 10,
              "solidity": 0.2
             }
            },
            "type": "histogram"
           }
          ],
          "histogram2d": [
           {
            "colorbar": {
             "outlinewidth": 0,
             "ticks": ""
            },
            "colorscale": [
             [
              0,
              "#0d0887"
             ],
             [
              0.1111111111111111,
              "#46039f"
             ],
             [
              0.2222222222222222,
              "#7201a8"
             ],
             [
              0.3333333333333333,
              "#9c179e"
             ],
             [
              0.4444444444444444,
              "#bd3786"
             ],
             [
              0.5555555555555556,
              "#d8576b"
             ],
             [
              0.6666666666666666,
              "#ed7953"
             ],
             [
              0.7777777777777778,
              "#fb9f3a"
             ],
             [
              0.8888888888888888,
              "#fdca26"
             ],
             [
              1,
              "#f0f921"
             ]
            ],
            "type": "histogram2d"
           }
          ],
          "histogram2dcontour": [
           {
            "colorbar": {
             "outlinewidth": 0,
             "ticks": ""
            },
            "colorscale": [
             [
              0,
              "#0d0887"
             ],
             [
              0.1111111111111111,
              "#46039f"
             ],
             [
              0.2222222222222222,
              "#7201a8"
             ],
             [
              0.3333333333333333,
              "#9c179e"
             ],
             [
              0.4444444444444444,
              "#bd3786"
             ],
             [
              0.5555555555555556,
              "#d8576b"
             ],
             [
              0.6666666666666666,
              "#ed7953"
             ],
             [
              0.7777777777777778,
              "#fb9f3a"
             ],
             [
              0.8888888888888888,
              "#fdca26"
             ],
             [
              1,
              "#f0f921"
             ]
            ],
            "type": "histogram2dcontour"
           }
          ],
          "mesh3d": [
           {
            "colorbar": {
             "outlinewidth": 0,
             "ticks": ""
            },
            "type": "mesh3d"
           }
          ],
          "parcoords": [
           {
            "line": {
             "colorbar": {
              "outlinewidth": 0,
              "ticks": ""
             }
            },
            "type": "parcoords"
           }
          ],
          "pie": [
           {
            "automargin": true,
            "type": "pie"
           }
          ],
          "scatter": [
           {
            "fillpattern": {
             "fillmode": "overlay",
             "size": 10,
             "solidity": 0.2
            },
            "type": "scatter"
           }
          ],
          "scatter3d": [
           {
            "line": {
             "colorbar": {
              "outlinewidth": 0,
              "ticks": ""
             }
            },
            "marker": {
             "colorbar": {
              "outlinewidth": 0,
              "ticks": ""
             }
            },
            "type": "scatter3d"
           }
          ],
          "scattercarpet": [
           {
            "marker": {
             "colorbar": {
              "outlinewidth": 0,
              "ticks": ""
             }
            },
            "type": "scattercarpet"
           }
          ],
          "scattergeo": [
           {
            "marker": {
             "colorbar": {
              "outlinewidth": 0,
              "ticks": ""
             }
            },
            "type": "scattergeo"
           }
          ],
          "scattergl": [
           {
            "marker": {
             "colorbar": {
              "outlinewidth": 0,
              "ticks": ""
             }
            },
            "type": "scattergl"
           }
          ],
          "scattermap": [
           {
            "marker": {
             "colorbar": {
              "outlinewidth": 0,
              "ticks": ""
             }
            },
            "type": "scattermap"
           }
          ],
          "scattermapbox": [
           {
            "marker": {
             "colorbar": {
              "outlinewidth": 0,
              "ticks": ""
             }
            },
            "type": "scattermapbox"
           }
          ],
          "scatterpolar": [
           {
            "marker": {
             "colorbar": {
              "outlinewidth": 0,
              "ticks": ""
             }
            },
            "type": "scatterpolar"
           }
          ],
          "scatterpolargl": [
           {
            "marker": {
             "colorbar": {
              "outlinewidth": 0,
              "ticks": ""
             }
            },
            "type": "scatterpolargl"
           }
          ],
          "scatterternary": [
           {
            "marker": {
             "colorbar": {
              "outlinewidth": 0,
              "ticks": ""
             }
            },
            "type": "scatterternary"
           }
          ],
          "surface": [
           {
            "colorbar": {
             "outlinewidth": 0,
             "ticks": ""
            },
            "colorscale": [
             [
              0,
              "#0d0887"
             ],
             [
              0.1111111111111111,
              "#46039f"
             ],
             [
              0.2222222222222222,
              "#7201a8"
             ],
             [
              0.3333333333333333,
              "#9c179e"
             ],
             [
              0.4444444444444444,
              "#bd3786"
             ],
             [
              0.5555555555555556,
              "#d8576b"
             ],
             [
              0.6666666666666666,
              "#ed7953"
             ],
             [
              0.7777777777777778,
              "#fb9f3a"
             ],
             [
              0.8888888888888888,
              "#fdca26"
             ],
             [
              1,
              "#f0f921"
             ]
            ],
            "type": "surface"
           }
          ],
          "table": [
           {
            "cells": {
             "fill": {
              "color": "#EBF0F8"
             },
             "line": {
              "color": "white"
             }
            },
            "header": {
             "fill": {
              "color": "#C8D4E3"
             },
             "line": {
              "color": "white"
             }
            },
            "type": "table"
           }
          ]
         },
         "layout": {
          "annotationdefaults": {
           "arrowcolor": "#2a3f5f",
           "arrowhead": 0,
           "arrowwidth": 1
          },
          "autotypenumbers": "strict",
          "coloraxis": {
           "colorbar": {
            "outlinewidth": 0,
            "ticks": ""
           }
          },
          "colorscale": {
           "diverging": [
            [
             0,
             "#8e0152"
            ],
            [
             0.1,
             "#c51b7d"
            ],
            [
             0.2,
             "#de77ae"
            ],
            [
             0.3,
             "#f1b6da"
            ],
            [
             0.4,
             "#fde0ef"
            ],
            [
             0.5,
             "#f7f7f7"
            ],
            [
             0.6,
             "#e6f5d0"
            ],
            [
             0.7,
             "#b8e186"
            ],
            [
             0.8,
             "#7fbc41"
            ],
            [
             0.9,
             "#4d9221"
            ],
            [
             1,
             "#276419"
            ]
           ],
           "sequential": [
            [
             0,
             "#0d0887"
            ],
            [
             0.1111111111111111,
             "#46039f"
            ],
            [
             0.2222222222222222,
             "#7201a8"
            ],
            [
             0.3333333333333333,
             "#9c179e"
            ],
            [
             0.4444444444444444,
             "#bd3786"
            ],
            [
             0.5555555555555556,
             "#d8576b"
            ],
            [
             0.6666666666666666,
             "#ed7953"
            ],
            [
             0.7777777777777778,
             "#fb9f3a"
            ],
            [
             0.8888888888888888,
             "#fdca26"
            ],
            [
             1,
             "#f0f921"
            ]
           ],
           "sequentialminus": [
            [
             0,
             "#0d0887"
            ],
            [
             0.1111111111111111,
             "#46039f"
            ],
            [
             0.2222222222222222,
             "#7201a8"
            ],
            [
             0.3333333333333333,
             "#9c179e"
            ],
            [
             0.4444444444444444,
             "#bd3786"
            ],
            [
             0.5555555555555556,
             "#d8576b"
            ],
            [
             0.6666666666666666,
             "#ed7953"
            ],
            [
             0.7777777777777778,
             "#fb9f3a"
            ],
            [
             0.8888888888888888,
             "#fdca26"
            ],
            [
             1,
             "#f0f921"
            ]
           ]
          },
          "colorway": [
           "#636efa",
           "#EF553B",
           "#00cc96",
           "#ab63fa",
           "#FFA15A",
           "#19d3f3",
           "#FF6692",
           "#B6E880",
           "#FF97FF",
           "#FECB52"
          ],
          "font": {
           "color": "#2a3f5f"
          },
          "geo": {
           "bgcolor": "white",
           "lakecolor": "white",
           "landcolor": "#E5ECF6",
           "showlakes": true,
           "showland": true,
           "subunitcolor": "white"
          },
          "hoverlabel": {
           "align": "left"
          },
          "hovermode": "closest",
          "mapbox": {
           "style": "light"
          },
          "paper_bgcolor": "white",
          "plot_bgcolor": "#E5ECF6",
          "polar": {
           "angularaxis": {
            "gridcolor": "white",
            "linecolor": "white",
            "ticks": ""
           },
           "bgcolor": "#E5ECF6",
           "radialaxis": {
            "gridcolor": "white",
            "linecolor": "white",
            "ticks": ""
           }
          },
          "scene": {
           "xaxis": {
            "backgroundcolor": "#E5ECF6",
            "gridcolor": "white",
            "gridwidth": 2,
            "linecolor": "white",
            "showbackground": true,
            "ticks": "",
            "zerolinecolor": "white"
           },
           "yaxis": {
            "backgroundcolor": "#E5ECF6",
            "gridcolor": "white",
            "gridwidth": 2,
            "linecolor": "white",
            "showbackground": true,
            "ticks": "",
            "zerolinecolor": "white"
           },
           "zaxis": {
            "backgroundcolor": "#E5ECF6",
            "gridcolor": "white",
            "gridwidth": 2,
            "linecolor": "white",
            "showbackground": true,
            "ticks": "",
            "zerolinecolor": "white"
           }
          },
          "shapedefaults": {
           "line": {
            "color": "#2a3f5f"
           }
          },
          "ternary": {
           "aaxis": {
            "gridcolor": "white",
            "linecolor": "white",
            "ticks": ""
           },
           "baxis": {
            "gridcolor": "white",
            "linecolor": "white",
            "ticks": ""
           },
           "bgcolor": "#E5ECF6",
           "caxis": {
            "gridcolor": "white",
            "linecolor": "white",
            "ticks": ""
           }
          },
          "title": {
           "x": 0.05
          },
          "xaxis": {
           "automargin": true,
           "gridcolor": "white",
           "linecolor": "white",
           "ticks": "",
           "title": {
            "standoff": 15
           },
           "zerolinecolor": "white",
           "zerolinewidth": 2
          },
          "yaxis": {
           "automargin": true,
           "gridcolor": "white",
           "linecolor": "white",
           "ticks": "",
           "title": {
            "standoff": 15
           },
           "zerolinecolor": "white",
           "zerolinewidth": 2
          }
         }
        },
        "title": {
         "text": "Top 10 Topics in 1997"
        },
        "xaxis": {
         "anchor": "y",
         "domain": [
          0,
          1
         ],
         "title": {
          "text": "Occurrences"
         }
        },
        "yaxis": {
         "anchor": "x",
         "categoryarray": [
          "Speech and dialogue systems",
          "Multi-Agent Systems and Negotiation",
          "Natural Language Processing Techniques",
          "Topic Modeling",
          "Logic, Reasoning, and Knowledge",
          "Reinforcement Learning in Robotics",
          "Robotic Path Planning Algorithms",
          "Evolutionary Algorithms and Applications",
          "Advanced Database Systems and Queries",
          "Distributed Multi-Agent Coordination and Control"
         ],
         "categoryorder": "array",
         "domain": [
          0,
          1
         ],
         "title": {
          "text": "Topic"
         }
        }
       }
      }
     },
     "metadata": {},
     "output_type": "display_data"
    },
    {
     "data": {
      "application/vnd.plotly.v1+json": {
       "config": {
        "plotlyServerURL": "https://plot.ly"
       },
       "data": [
        {
         "hovertemplate": "Topic=%{y}<br>Occurrences=%{x}<extra></extra>",
         "legendgroup": "Semantic Web and Ontologies",
         "marker": {
          "color": "rgb(102, 197, 204)",
          "pattern": {
           "shape": ""
          }
         },
         "name": "Semantic Web and Ontologies",
         "orientation": "h",
         "showlegend": true,
         "textposition": "auto",
         "type": "bar",
         "x": {
          "bdata": "Ag==",
          "dtype": "i1"
         },
         "xaxis": "x",
         "y": [
          "Semantic Web and Ontologies"
         ],
         "yaxis": "y"
        },
        {
         "hovertemplate": "Topic=%{y}<br>Occurrences=%{x}<extra></extra>",
         "legendgroup": "Distributed Multi-Agent Coordination and Control",
         "marker": {
          "color": "rgb(104, 133, 92)",
          "pattern": {
           "shape": ""
          }
         },
         "name": "Distributed Multi-Agent Coordination and Control",
         "orientation": "h",
         "showlegend": true,
         "textposition": "auto",
         "type": "bar",
         "x": {
          "bdata": "Ag==",
          "dtype": "i1"
         },
         "xaxis": "x",
         "y": [
          "Distributed Multi-Agent Coordination and Control"
         ],
         "yaxis": "y"
        },
        {
         "hovertemplate": "Topic=%{y}<br>Occurrences=%{x}<extra></extra>",
         "legendgroup": "Optimization and Search Problems",
         "marker": {
          "color": "rgb(102, 197, 204)",
          "pattern": {
           "shape": ""
          }
         },
         "name": "Optimization and Search Problems",
         "orientation": "h",
         "showlegend": true,
         "textposition": "auto",
         "type": "bar",
         "x": {
          "bdata": "Ag==",
          "dtype": "i1"
         },
         "xaxis": "x",
         "y": [
          "Optimization and Search Problems"
         ],
         "yaxis": "y"
        },
        {
         "hovertemplate": "Topic=%{y}<br>Occurrences=%{x}<extra></extra>",
         "legendgroup": "Vehicle Routing Optimization Methods",
         "marker": {
          "color": "rgb(175, 100, 88)",
          "pattern": {
           "shape": ""
          }
         },
         "name": "Vehicle Routing Optimization Methods",
         "orientation": "h",
         "showlegend": true,
         "textposition": "auto",
         "type": "bar",
         "x": {
          "bdata": "BA==",
          "dtype": "i1"
         },
         "xaxis": "x",
         "y": [
          "Vehicle Routing Optimization Methods"
         ],
         "yaxis": "y"
        },
        {
         "hovertemplate": "Topic=%{y}<br>Occurrences=%{x}<extra></extra>",
         "legendgroup": "Robotic Path Planning Algorithms",
         "marker": {
          "color": "rgb(204, 102, 119)",
          "pattern": {
           "shape": ""
          }
         },
         "name": "Robotic Path Planning Algorithms",
         "orientation": "h",
         "showlegend": true,
         "textposition": "auto",
         "type": "bar",
         "x": {
          "bdata": "BQ==",
          "dtype": "i1"
         },
         "xaxis": "x",
         "y": [
          "Robotic Path Planning Algorithms"
         ],
         "yaxis": "y"
        },
        {
         "hovertemplate": "Topic=%{y}<br>Occurrences=%{x}<extra></extra>",
         "legendgroup": "Logic, Reasoning, and Knowledge",
         "marker": {
          "color": "rgb(68, 170, 153)",
          "pattern": {
           "shape": ""
          }
         },
         "name": "Logic, Reasoning, and Knowledge",
         "orientation": "h",
         "showlegend": true,
         "textposition": "auto",
         "type": "bar",
         "x": {
          "bdata": "Bg==",
          "dtype": "i1"
         },
         "xaxis": "x",
         "y": [
          "Logic, Reasoning, and Knowledge"
         ],
         "yaxis": "y"
        },
        {
         "hovertemplate": "Topic=%{y}<br>Occurrences=%{x}<extra></extra>",
         "legendgroup": "Reinforcement Learning in Robotics",
         "marker": {
          "color": "#FF6692",
          "pattern": {
           "shape": ""
          }
         },
         "name": "Reinforcement Learning in Robotics",
         "orientation": "h",
         "showlegend": true,
         "textposition": "auto",
         "type": "bar",
         "x": {
          "bdata": "Bg==",
          "dtype": "i1"
         },
         "xaxis": "x",
         "y": [
          "Reinforcement Learning in Robotics"
         ],
         "yaxis": "y"
        },
        {
         "hovertemplate": "Topic=%{y}<br>Occurrences=%{x}<extra></extra>",
         "legendgroup": "Multi-Agent Systems and Negotiation",
         "marker": {
          "color": "rgb(160, 97, 119)",
          "pattern": {
           "shape": ""
          }
         },
         "name": "Multi-Agent Systems and Negotiation",
         "orientation": "h",
         "showlegend": true,
         "textposition": "auto",
         "type": "bar",
         "x": {
          "bdata": "Bg==",
          "dtype": "i1"
         },
         "xaxis": "x",
         "y": [
          "Multi-Agent Systems and Negotiation"
         ],
         "yaxis": "y"
        },
        {
         "hovertemplate": "Topic=%{y}<br>Occurrences=%{x}<extra></extra>",
         "legendgroup": "Distributed Constraint Optimization Problems and Algorithms",
         "marker": {
          "color": "rgb(98, 83, 119)",
          "pattern": {
           "shape": ""
          }
         },
         "name": "Distributed Constraint Optimization Problems and Algorithms",
         "orientation": "h",
         "showlegend": true,
         "textposition": "auto",
         "type": "bar",
         "x": {
          "bdata": "Bg==",
          "dtype": "i1"
         },
         "xaxis": "x",
         "y": [
          "Distributed Constraint Optimization Problems and Algorithms"
         ],
         "yaxis": "y"
        },
        {
         "hovertemplate": "Topic=%{y}<br>Occurrences=%{x}<extra></extra>",
         "legendgroup": "AI-based Problem Solving and Planning",
         "marker": {
          "color": "#636EFA",
          "pattern": {
           "shape": ""
          }
         },
         "name": "AI-based Problem Solving and Planning",
         "orientation": "h",
         "showlegend": true,
         "textposition": "auto",
         "type": "bar",
         "x": {
          "bdata": "Cg==",
          "dtype": "i1"
         },
         "xaxis": "x",
         "y": [
          "AI-based Problem Solving and Planning"
         ],
         "yaxis": "y"
        }
       ],
       "layout": {
        "barmode": "relative",
        "legend": {
         "title": {
          "text": "Topic"
         },
         "tracegroupgap": 0
        },
        "showlegend": false,
        "template": {
         "data": {
          "bar": [
           {
            "error_x": {
             "color": "#2a3f5f"
            },
            "error_y": {
             "color": "#2a3f5f"
            },
            "marker": {
             "line": {
              "color": "#E5ECF6",
              "width": 0.5
             },
             "pattern": {
              "fillmode": "overlay",
              "size": 10,
              "solidity": 0.2
             }
            },
            "type": "bar"
           }
          ],
          "barpolar": [
           {
            "marker": {
             "line": {
              "color": "#E5ECF6",
              "width": 0.5
             },
             "pattern": {
              "fillmode": "overlay",
              "size": 10,
              "solidity": 0.2
             }
            },
            "type": "barpolar"
           }
          ],
          "carpet": [
           {
            "aaxis": {
             "endlinecolor": "#2a3f5f",
             "gridcolor": "white",
             "linecolor": "white",
             "minorgridcolor": "white",
             "startlinecolor": "#2a3f5f"
            },
            "baxis": {
             "endlinecolor": "#2a3f5f",
             "gridcolor": "white",
             "linecolor": "white",
             "minorgridcolor": "white",
             "startlinecolor": "#2a3f5f"
            },
            "type": "carpet"
           }
          ],
          "choropleth": [
           {
            "colorbar": {
             "outlinewidth": 0,
             "ticks": ""
            },
            "type": "choropleth"
           }
          ],
          "contour": [
           {
            "colorbar": {
             "outlinewidth": 0,
             "ticks": ""
            },
            "colorscale": [
             [
              0,
              "#0d0887"
             ],
             [
              0.1111111111111111,
              "#46039f"
             ],
             [
              0.2222222222222222,
              "#7201a8"
             ],
             [
              0.3333333333333333,
              "#9c179e"
             ],
             [
              0.4444444444444444,
              "#bd3786"
             ],
             [
              0.5555555555555556,
              "#d8576b"
             ],
             [
              0.6666666666666666,
              "#ed7953"
             ],
             [
              0.7777777777777778,
              "#fb9f3a"
             ],
             [
              0.8888888888888888,
              "#fdca26"
             ],
             [
              1,
              "#f0f921"
             ]
            ],
            "type": "contour"
           }
          ],
          "contourcarpet": [
           {
            "colorbar": {
             "outlinewidth": 0,
             "ticks": ""
            },
            "type": "contourcarpet"
           }
          ],
          "heatmap": [
           {
            "colorbar": {
             "outlinewidth": 0,
             "ticks": ""
            },
            "colorscale": [
             [
              0,
              "#0d0887"
             ],
             [
              0.1111111111111111,
              "#46039f"
             ],
             [
              0.2222222222222222,
              "#7201a8"
             ],
             [
              0.3333333333333333,
              "#9c179e"
             ],
             [
              0.4444444444444444,
              "#bd3786"
             ],
             [
              0.5555555555555556,
              "#d8576b"
             ],
             [
              0.6666666666666666,
              "#ed7953"
             ],
             [
              0.7777777777777778,
              "#fb9f3a"
             ],
             [
              0.8888888888888888,
              "#fdca26"
             ],
             [
              1,
              "#f0f921"
             ]
            ],
            "type": "heatmap"
           }
          ],
          "histogram": [
           {
            "marker": {
             "pattern": {
              "fillmode": "overlay",
              "size": 10,
              "solidity": 0.2
             }
            },
            "type": "histogram"
           }
          ],
          "histogram2d": [
           {
            "colorbar": {
             "outlinewidth": 0,
             "ticks": ""
            },
            "colorscale": [
             [
              0,
              "#0d0887"
             ],
             [
              0.1111111111111111,
              "#46039f"
             ],
             [
              0.2222222222222222,
              "#7201a8"
             ],
             [
              0.3333333333333333,
              "#9c179e"
             ],
             [
              0.4444444444444444,
              "#bd3786"
             ],
             [
              0.5555555555555556,
              "#d8576b"
             ],
             [
              0.6666666666666666,
              "#ed7953"
             ],
             [
              0.7777777777777778,
              "#fb9f3a"
             ],
             [
              0.8888888888888888,
              "#fdca26"
             ],
             [
              1,
              "#f0f921"
             ]
            ],
            "type": "histogram2d"
           }
          ],
          "histogram2dcontour": [
           {
            "colorbar": {
             "outlinewidth": 0,
             "ticks": ""
            },
            "colorscale": [
             [
              0,
              "#0d0887"
             ],
             [
              0.1111111111111111,
              "#46039f"
             ],
             [
              0.2222222222222222,
              "#7201a8"
             ],
             [
              0.3333333333333333,
              "#9c179e"
             ],
             [
              0.4444444444444444,
              "#bd3786"
             ],
             [
              0.5555555555555556,
              "#d8576b"
             ],
             [
              0.6666666666666666,
              "#ed7953"
             ],
             [
              0.7777777777777778,
              "#fb9f3a"
             ],
             [
              0.8888888888888888,
              "#fdca26"
             ],
             [
              1,
              "#f0f921"
             ]
            ],
            "type": "histogram2dcontour"
           }
          ],
          "mesh3d": [
           {
            "colorbar": {
             "outlinewidth": 0,
             "ticks": ""
            },
            "type": "mesh3d"
           }
          ],
          "parcoords": [
           {
            "line": {
             "colorbar": {
              "outlinewidth": 0,
              "ticks": ""
             }
            },
            "type": "parcoords"
           }
          ],
          "pie": [
           {
            "automargin": true,
            "type": "pie"
           }
          ],
          "scatter": [
           {
            "fillpattern": {
             "fillmode": "overlay",
             "size": 10,
             "solidity": 0.2
            },
            "type": "scatter"
           }
          ],
          "scatter3d": [
           {
            "line": {
             "colorbar": {
              "outlinewidth": 0,
              "ticks": ""
             }
            },
            "marker": {
             "colorbar": {
              "outlinewidth": 0,
              "ticks": ""
             }
            },
            "type": "scatter3d"
           }
          ],
          "scattercarpet": [
           {
            "marker": {
             "colorbar": {
              "outlinewidth": 0,
              "ticks": ""
             }
            },
            "type": "scattercarpet"
           }
          ],
          "scattergeo": [
           {
            "marker": {
             "colorbar": {
              "outlinewidth": 0,
              "ticks": ""
             }
            },
            "type": "scattergeo"
           }
          ],
          "scattergl": [
           {
            "marker": {
             "colorbar": {
              "outlinewidth": 0,
              "ticks": ""
             }
            },
            "type": "scattergl"
           }
          ],
          "scattermap": [
           {
            "marker": {
             "colorbar": {
              "outlinewidth": 0,
              "ticks": ""
             }
            },
            "type": "scattermap"
           }
          ],
          "scattermapbox": [
           {
            "marker": {
             "colorbar": {
              "outlinewidth": 0,
              "ticks": ""
             }
            },
            "type": "scattermapbox"
           }
          ],
          "scatterpolar": [
           {
            "marker": {
             "colorbar": {
              "outlinewidth": 0,
              "ticks": ""
             }
            },
            "type": "scatterpolar"
           }
          ],
          "scatterpolargl": [
           {
            "marker": {
             "colorbar": {
              "outlinewidth": 0,
              "ticks": ""
             }
            },
            "type": "scatterpolargl"
           }
          ],
          "scatterternary": [
           {
            "marker": {
             "colorbar": {
              "outlinewidth": 0,
              "ticks": ""
             }
            },
            "type": "scatterternary"
           }
          ],
          "surface": [
           {
            "colorbar": {
             "outlinewidth": 0,
             "ticks": ""
            },
            "colorscale": [
             [
              0,
              "#0d0887"
             ],
             [
              0.1111111111111111,
              "#46039f"
             ],
             [
              0.2222222222222222,
              "#7201a8"
             ],
             [
              0.3333333333333333,
              "#9c179e"
             ],
             [
              0.4444444444444444,
              "#bd3786"
             ],
             [
              0.5555555555555556,
              "#d8576b"
             ],
             [
              0.6666666666666666,
              "#ed7953"
             ],
             [
              0.7777777777777778,
              "#fb9f3a"
             ],
             [
              0.8888888888888888,
              "#fdca26"
             ],
             [
              1,
              "#f0f921"
             ]
            ],
            "type": "surface"
           }
          ],
          "table": [
           {
            "cells": {
             "fill": {
              "color": "#EBF0F8"
             },
             "line": {
              "color": "white"
             }
            },
            "header": {
             "fill": {
              "color": "#C8D4E3"
             },
             "line": {
              "color": "white"
             }
            },
            "type": "table"
           }
          ]
         },
         "layout": {
          "annotationdefaults": {
           "arrowcolor": "#2a3f5f",
           "arrowhead": 0,
           "arrowwidth": 1
          },
          "autotypenumbers": "strict",
          "coloraxis": {
           "colorbar": {
            "outlinewidth": 0,
            "ticks": ""
           }
          },
          "colorscale": {
           "diverging": [
            [
             0,
             "#8e0152"
            ],
            [
             0.1,
             "#c51b7d"
            ],
            [
             0.2,
             "#de77ae"
            ],
            [
             0.3,
             "#f1b6da"
            ],
            [
             0.4,
             "#fde0ef"
            ],
            [
             0.5,
             "#f7f7f7"
            ],
            [
             0.6,
             "#e6f5d0"
            ],
            [
             0.7,
             "#b8e186"
            ],
            [
             0.8,
             "#7fbc41"
            ],
            [
             0.9,
             "#4d9221"
            ],
            [
             1,
             "#276419"
            ]
           ],
           "sequential": [
            [
             0,
             "#0d0887"
            ],
            [
             0.1111111111111111,
             "#46039f"
            ],
            [
             0.2222222222222222,
             "#7201a8"
            ],
            [
             0.3333333333333333,
             "#9c179e"
            ],
            [
             0.4444444444444444,
             "#bd3786"
            ],
            [
             0.5555555555555556,
             "#d8576b"
            ],
            [
             0.6666666666666666,
             "#ed7953"
            ],
            [
             0.7777777777777778,
             "#fb9f3a"
            ],
            [
             0.8888888888888888,
             "#fdca26"
            ],
            [
             1,
             "#f0f921"
            ]
           ],
           "sequentialminus": [
            [
             0,
             "#0d0887"
            ],
            [
             0.1111111111111111,
             "#46039f"
            ],
            [
             0.2222222222222222,
             "#7201a8"
            ],
            [
             0.3333333333333333,
             "#9c179e"
            ],
            [
             0.4444444444444444,
             "#bd3786"
            ],
            [
             0.5555555555555556,
             "#d8576b"
            ],
            [
             0.6666666666666666,
             "#ed7953"
            ],
            [
             0.7777777777777778,
             "#fb9f3a"
            ],
            [
             0.8888888888888888,
             "#fdca26"
            ],
            [
             1,
             "#f0f921"
            ]
           ]
          },
          "colorway": [
           "#636efa",
           "#EF553B",
           "#00cc96",
           "#ab63fa",
           "#FFA15A",
           "#19d3f3",
           "#FF6692",
           "#B6E880",
           "#FF97FF",
           "#FECB52"
          ],
          "font": {
           "color": "#2a3f5f"
          },
          "geo": {
           "bgcolor": "white",
           "lakecolor": "white",
           "landcolor": "#E5ECF6",
           "showlakes": true,
           "showland": true,
           "subunitcolor": "white"
          },
          "hoverlabel": {
           "align": "left"
          },
          "hovermode": "closest",
          "mapbox": {
           "style": "light"
          },
          "paper_bgcolor": "white",
          "plot_bgcolor": "#E5ECF6",
          "polar": {
           "angularaxis": {
            "gridcolor": "white",
            "linecolor": "white",
            "ticks": ""
           },
           "bgcolor": "#E5ECF6",
           "radialaxis": {
            "gridcolor": "white",
            "linecolor": "white",
            "ticks": ""
           }
          },
          "scene": {
           "xaxis": {
            "backgroundcolor": "#E5ECF6",
            "gridcolor": "white",
            "gridwidth": 2,
            "linecolor": "white",
            "showbackground": true,
            "ticks": "",
            "zerolinecolor": "white"
           },
           "yaxis": {
            "backgroundcolor": "#E5ECF6",
            "gridcolor": "white",
            "gridwidth": 2,
            "linecolor": "white",
            "showbackground": true,
            "ticks": "",
            "zerolinecolor": "white"
           },
           "zaxis": {
            "backgroundcolor": "#E5ECF6",
            "gridcolor": "white",
            "gridwidth": 2,
            "linecolor": "white",
            "showbackground": true,
            "ticks": "",
            "zerolinecolor": "white"
           }
          },
          "shapedefaults": {
           "line": {
            "color": "#2a3f5f"
           }
          },
          "ternary": {
           "aaxis": {
            "gridcolor": "white",
            "linecolor": "white",
            "ticks": ""
           },
           "baxis": {
            "gridcolor": "white",
            "linecolor": "white",
            "ticks": ""
           },
           "bgcolor": "#E5ECF6",
           "caxis": {
            "gridcolor": "white",
            "linecolor": "white",
            "ticks": ""
           }
          },
          "title": {
           "x": 0.05
          },
          "xaxis": {
           "automargin": true,
           "gridcolor": "white",
           "linecolor": "white",
           "ticks": "",
           "title": {
            "standoff": 15
           },
           "zerolinecolor": "white",
           "zerolinewidth": 2
          },
          "yaxis": {
           "automargin": true,
           "gridcolor": "white",
           "linecolor": "white",
           "ticks": "",
           "title": {
            "standoff": 15
           },
           "zerolinecolor": "white",
           "zerolinewidth": 2
          }
         }
        },
        "title": {
         "text": "Top 10 Topics in 2001"
        },
        "xaxis": {
         "anchor": "y",
         "domain": [
          0,
          1
         ],
         "title": {
          "text": "Occurrences"
         }
        },
        "yaxis": {
         "anchor": "x",
         "categoryarray": [
          "AI-based Problem Solving and Planning",
          "Distributed Constraint Optimization Problems and Algorithms",
          "Multi-Agent Systems and Negotiation",
          "Reinforcement Learning in Robotics",
          "Logic, Reasoning, and Knowledge",
          "Robotic Path Planning Algorithms",
          "Vehicle Routing Optimization Methods",
          "Optimization and Search Problems",
          "Distributed Multi-Agent Coordination and Control",
          "Semantic Web and Ontologies"
         ],
         "categoryorder": "array",
         "domain": [
          0,
          1
         ],
         "title": {
          "text": "Topic"
         }
        }
       }
      }
     },
     "metadata": {},
     "output_type": "display_data"
    },
    {
     "data": {
      "application/vnd.plotly.v1+json": {
       "config": {
        "plotlyServerURL": "https://plot.ly"
       },
       "data": [
        {
         "hovertemplate": "Topic=%{y}<br>Occurrences=%{x}<extra></extra>",
         "legendgroup": "Information Systems Theories and Implementation",
         "marker": {
          "color": "rgb(156, 156, 94)",
          "pattern": {
           "shape": ""
          }
         },
         "name": "Information Systems Theories and Implementation",
         "orientation": "h",
         "showlegend": true,
         "textposition": "auto",
         "type": "bar",
         "x": {
          "bdata": "AQ==",
          "dtype": "i1"
         },
         "xaxis": "x",
         "y": [
          "Information Systems Theories and Implementation"
         ],
         "yaxis": "y"
        },
        {
         "hovertemplate": "Topic=%{y}<br>Occurrences=%{x}<extra></extra>",
         "legendgroup": "Peer-to-Peer Network Technologies",
         "marker": {
          "color": "rgb(135, 197, 95)",
          "pattern": {
           "shape": ""
          }
         },
         "name": "Peer-to-Peer Network Technologies",
         "orientation": "h",
         "showlegend": true,
         "textposition": "auto",
         "type": "bar",
         "x": {
          "bdata": "Ag==",
          "dtype": "i1"
         },
         "xaxis": "x",
         "y": [
          "Peer-to-Peer Network Technologies"
         ],
         "yaxis": "y"
        },
        {
         "hovertemplate": "Topic=%{y}<br>Occurrences=%{x}<extra></extra>",
         "legendgroup": "Game Theory and Applications",
         "marker": {
          "color": "#FFA15A",
          "pattern": {
           "shape": ""
          }
         },
         "name": "Game Theory and Applications",
         "orientation": "h",
         "showlegend": true,
         "textposition": "auto",
         "type": "bar",
         "x": {
          "bdata": "Ag==",
          "dtype": "i1"
         },
         "xaxis": "x",
         "y": [
          "Game Theory and Applications"
         ],
         "yaxis": "y"
        },
        {
         "hovertemplate": "Topic=%{y}<br>Occurrences=%{x}<extra></extra>",
         "legendgroup": "Complex Systems and Decision Making",
         "marker": {
          "color": "#EF553B",
          "pattern": {
           "shape": ""
          }
         },
         "name": "Complex Systems and Decision Making",
         "orientation": "h",
         "showlegend": true,
         "textposition": "auto",
         "type": "bar",
         "x": {
          "bdata": "Aw==",
          "dtype": "i1"
         },
         "xaxis": "x",
         "y": [
          "Complex Systems and Decision Making"
         ],
         "yaxis": "y"
        },
        {
         "hovertemplate": "Topic=%{y}<br>Occurrences=%{x}<extra></extra>",
         "legendgroup": "Access Control and Trust",
         "marker": {
          "color": "#EF553B",
          "pattern": {
           "shape": ""
          }
         },
         "name": "Access Control and Trust",
         "orientation": "h",
         "showlegend": true,
         "textposition": "auto",
         "type": "bar",
         "x": {
          "bdata": "Aw==",
          "dtype": "i1"
         },
         "xaxis": "x",
         "y": [
          "Access Control and Trust"
         ],
         "yaxis": "y"
        },
        {
         "hovertemplate": "Topic=%{y}<br>Occurrences=%{x}<extra></extra>",
         "legendgroup": "Auction Theory and Applications",
         "marker": {
          "color": "#FF97FF",
          "pattern": {
           "shape": ""
          }
         },
         "name": "Auction Theory and Applications",
         "orientation": "h",
         "showlegend": true,
         "textposition": "auto",
         "type": "bar",
         "x": {
          "bdata": "BA==",
          "dtype": "i1"
         },
         "xaxis": "x",
         "y": [
          "Auction Theory and Applications"
         ],
         "yaxis": "y"
        },
        {
         "hovertemplate": "Topic=%{y}<br>Occurrences=%{x}<extra></extra>",
         "legendgroup": "Semantic Web and Ontologies",
         "marker": {
          "color": "rgb(102, 197, 204)",
          "pattern": {
           "shape": ""
          }
         },
         "name": "Semantic Web and Ontologies",
         "orientation": "h",
         "showlegend": true,
         "textposition": "auto",
         "type": "bar",
         "x": {
          "bdata": "BQ==",
          "dtype": "i1"
         },
         "xaxis": "x",
         "y": [
          "Semantic Web and Ontologies"
         ],
         "yaxis": "y"
        },
        {
         "hovertemplate": "Topic=%{y}<br>Occurrences=%{x}<extra></extra>",
         "legendgroup": "Business Process Modeling and Analysis",
         "marker": {
          "color": "rgb(102, 197, 204)",
          "pattern": {
           "shape": ""
          }
         },
         "name": "Business Process Modeling and Analysis",
         "orientation": "h",
         "showlegend": true,
         "textposition": "auto",
         "type": "bar",
         "x": {
          "bdata": "BQ==",
          "dtype": "i1"
         },
         "xaxis": "x",
         "y": [
          "Business Process Modeling and Analysis"
         ],
         "yaxis": "y"
        },
        {
         "hovertemplate": "Topic=%{y}<br>Occurrences=%{x}<extra></extra>",
         "legendgroup": "Logic, Reasoning, and Knowledge",
         "marker": {
          "color": "rgb(68, 170, 153)",
          "pattern": {
           "shape": ""
          }
         },
         "name": "Logic, Reasoning, and Knowledge",
         "orientation": "h",
         "showlegend": true,
         "textposition": "auto",
         "type": "bar",
         "x": {
          "bdata": "DA==",
          "dtype": "i1"
         },
         "xaxis": "x",
         "y": [
          "Logic, Reasoning, and Knowledge"
         ],
         "yaxis": "y"
        },
        {
         "hovertemplate": "Topic=%{y}<br>Occurrences=%{x}<extra></extra>",
         "legendgroup": "Multi-Agent Systems and Negotiation",
         "marker": {
          "color": "rgb(160, 97, 119)",
          "pattern": {
           "shape": ""
          }
         },
         "name": "Multi-Agent Systems and Negotiation",
         "orientation": "h",
         "showlegend": true,
         "textposition": "auto",
         "type": "bar",
         "x": {
          "bdata": "FA==",
          "dtype": "i1"
         },
         "xaxis": "x",
         "y": [
          "Multi-Agent Systems and Negotiation"
         ],
         "yaxis": "y"
        }
       ],
       "layout": {
        "barmode": "relative",
        "legend": {
         "title": {
          "text": "Topic"
         },
         "tracegroupgap": 0
        },
        "showlegend": false,
        "template": {
         "data": {
          "bar": [
           {
            "error_x": {
             "color": "#2a3f5f"
            },
            "error_y": {
             "color": "#2a3f5f"
            },
            "marker": {
             "line": {
              "color": "#E5ECF6",
              "width": 0.5
             },
             "pattern": {
              "fillmode": "overlay",
              "size": 10,
              "solidity": 0.2
             }
            },
            "type": "bar"
           }
          ],
          "barpolar": [
           {
            "marker": {
             "line": {
              "color": "#E5ECF6",
              "width": 0.5
             },
             "pattern": {
              "fillmode": "overlay",
              "size": 10,
              "solidity": 0.2
             }
            },
            "type": "barpolar"
           }
          ],
          "carpet": [
           {
            "aaxis": {
             "endlinecolor": "#2a3f5f",
             "gridcolor": "white",
             "linecolor": "white",
             "minorgridcolor": "white",
             "startlinecolor": "#2a3f5f"
            },
            "baxis": {
             "endlinecolor": "#2a3f5f",
             "gridcolor": "white",
             "linecolor": "white",
             "minorgridcolor": "white",
             "startlinecolor": "#2a3f5f"
            },
            "type": "carpet"
           }
          ],
          "choropleth": [
           {
            "colorbar": {
             "outlinewidth": 0,
             "ticks": ""
            },
            "type": "choropleth"
           }
          ],
          "contour": [
           {
            "colorbar": {
             "outlinewidth": 0,
             "ticks": ""
            },
            "colorscale": [
             [
              0,
              "#0d0887"
             ],
             [
              0.1111111111111111,
              "#46039f"
             ],
             [
              0.2222222222222222,
              "#7201a8"
             ],
             [
              0.3333333333333333,
              "#9c179e"
             ],
             [
              0.4444444444444444,
              "#bd3786"
             ],
             [
              0.5555555555555556,
              "#d8576b"
             ],
             [
              0.6666666666666666,
              "#ed7953"
             ],
             [
              0.7777777777777778,
              "#fb9f3a"
             ],
             [
              0.8888888888888888,
              "#fdca26"
             ],
             [
              1,
              "#f0f921"
             ]
            ],
            "type": "contour"
           }
          ],
          "contourcarpet": [
           {
            "colorbar": {
             "outlinewidth": 0,
             "ticks": ""
            },
            "type": "contourcarpet"
           }
          ],
          "heatmap": [
           {
            "colorbar": {
             "outlinewidth": 0,
             "ticks": ""
            },
            "colorscale": [
             [
              0,
              "#0d0887"
             ],
             [
              0.1111111111111111,
              "#46039f"
             ],
             [
              0.2222222222222222,
              "#7201a8"
             ],
             [
              0.3333333333333333,
              "#9c179e"
             ],
             [
              0.4444444444444444,
              "#bd3786"
             ],
             [
              0.5555555555555556,
              "#d8576b"
             ],
             [
              0.6666666666666666,
              "#ed7953"
             ],
             [
              0.7777777777777778,
              "#fb9f3a"
             ],
             [
              0.8888888888888888,
              "#fdca26"
             ],
             [
              1,
              "#f0f921"
             ]
            ],
            "type": "heatmap"
           }
          ],
          "histogram": [
           {
            "marker": {
             "pattern": {
              "fillmode": "overlay",
              "size": 10,
              "solidity": 0.2
             }
            },
            "type": "histogram"
           }
          ],
          "histogram2d": [
           {
            "colorbar": {
             "outlinewidth": 0,
             "ticks": ""
            },
            "colorscale": [
             [
              0,
              "#0d0887"
             ],
             [
              0.1111111111111111,
              "#46039f"
             ],
             [
              0.2222222222222222,
              "#7201a8"
             ],
             [
              0.3333333333333333,
              "#9c179e"
             ],
             [
              0.4444444444444444,
              "#bd3786"
             ],
             [
              0.5555555555555556,
              "#d8576b"
             ],
             [
              0.6666666666666666,
              "#ed7953"
             ],
             [
              0.7777777777777778,
              "#fb9f3a"
             ],
             [
              0.8888888888888888,
              "#fdca26"
             ],
             [
              1,
              "#f0f921"
             ]
            ],
            "type": "histogram2d"
           }
          ],
          "histogram2dcontour": [
           {
            "colorbar": {
             "outlinewidth": 0,
             "ticks": ""
            },
            "colorscale": [
             [
              0,
              "#0d0887"
             ],
             [
              0.1111111111111111,
              "#46039f"
             ],
             [
              0.2222222222222222,
              "#7201a8"
             ],
             [
              0.3333333333333333,
              "#9c179e"
             ],
             [
              0.4444444444444444,
              "#bd3786"
             ],
             [
              0.5555555555555556,
              "#d8576b"
             ],
             [
              0.6666666666666666,
              "#ed7953"
             ],
             [
              0.7777777777777778,
              "#fb9f3a"
             ],
             [
              0.8888888888888888,
              "#fdca26"
             ],
             [
              1,
              "#f0f921"
             ]
            ],
            "type": "histogram2dcontour"
           }
          ],
          "mesh3d": [
           {
            "colorbar": {
             "outlinewidth": 0,
             "ticks": ""
            },
            "type": "mesh3d"
           }
          ],
          "parcoords": [
           {
            "line": {
             "colorbar": {
              "outlinewidth": 0,
              "ticks": ""
             }
            },
            "type": "parcoords"
           }
          ],
          "pie": [
           {
            "automargin": true,
            "type": "pie"
           }
          ],
          "scatter": [
           {
            "fillpattern": {
             "fillmode": "overlay",
             "size": 10,
             "solidity": 0.2
            },
            "type": "scatter"
           }
          ],
          "scatter3d": [
           {
            "line": {
             "colorbar": {
              "outlinewidth": 0,
              "ticks": ""
             }
            },
            "marker": {
             "colorbar": {
              "outlinewidth": 0,
              "ticks": ""
             }
            },
            "type": "scatter3d"
           }
          ],
          "scattercarpet": [
           {
            "marker": {
             "colorbar": {
              "outlinewidth": 0,
              "ticks": ""
             }
            },
            "type": "scattercarpet"
           }
          ],
          "scattergeo": [
           {
            "marker": {
             "colorbar": {
              "outlinewidth": 0,
              "ticks": ""
             }
            },
            "type": "scattergeo"
           }
          ],
          "scattergl": [
           {
            "marker": {
             "colorbar": {
              "outlinewidth": 0,
              "ticks": ""
             }
            },
            "type": "scattergl"
           }
          ],
          "scattermap": [
           {
            "marker": {
             "colorbar": {
              "outlinewidth": 0,
              "ticks": ""
             }
            },
            "type": "scattermap"
           }
          ],
          "scattermapbox": [
           {
            "marker": {
             "colorbar": {
              "outlinewidth": 0,
              "ticks": ""
             }
            },
            "type": "scattermapbox"
           }
          ],
          "scatterpolar": [
           {
            "marker": {
             "colorbar": {
              "outlinewidth": 0,
              "ticks": ""
             }
            },
            "type": "scatterpolar"
           }
          ],
          "scatterpolargl": [
           {
            "marker": {
             "colorbar": {
              "outlinewidth": 0,
              "ticks": ""
             }
            },
            "type": "scatterpolargl"
           }
          ],
          "scatterternary": [
           {
            "marker": {
             "colorbar": {
              "outlinewidth": 0,
              "ticks": ""
             }
            },
            "type": "scatterternary"
           }
          ],
          "surface": [
           {
            "colorbar": {
             "outlinewidth": 0,
             "ticks": ""
            },
            "colorscale": [
             [
              0,
              "#0d0887"
             ],
             [
              0.1111111111111111,
              "#46039f"
             ],
             [
              0.2222222222222222,
              "#7201a8"
             ],
             [
              0.3333333333333333,
              "#9c179e"
             ],
             [
              0.4444444444444444,
              "#bd3786"
             ],
             [
              0.5555555555555556,
              "#d8576b"
             ],
             [
              0.6666666666666666,
              "#ed7953"
             ],
             [
              0.7777777777777778,
              "#fb9f3a"
             ],
             [
              0.8888888888888888,
              "#fdca26"
             ],
             [
              1,
              "#f0f921"
             ]
            ],
            "type": "surface"
           }
          ],
          "table": [
           {
            "cells": {
             "fill": {
              "color": "#EBF0F8"
             },
             "line": {
              "color": "white"
             }
            },
            "header": {
             "fill": {
              "color": "#C8D4E3"
             },
             "line": {
              "color": "white"
             }
            },
            "type": "table"
           }
          ]
         },
         "layout": {
          "annotationdefaults": {
           "arrowcolor": "#2a3f5f",
           "arrowhead": 0,
           "arrowwidth": 1
          },
          "autotypenumbers": "strict",
          "coloraxis": {
           "colorbar": {
            "outlinewidth": 0,
            "ticks": ""
           }
          },
          "colorscale": {
           "diverging": [
            [
             0,
             "#8e0152"
            ],
            [
             0.1,
             "#c51b7d"
            ],
            [
             0.2,
             "#de77ae"
            ],
            [
             0.3,
             "#f1b6da"
            ],
            [
             0.4,
             "#fde0ef"
            ],
            [
             0.5,
             "#f7f7f7"
            ],
            [
             0.6,
             "#e6f5d0"
            ],
            [
             0.7,
             "#b8e186"
            ],
            [
             0.8,
             "#7fbc41"
            ],
            [
             0.9,
             "#4d9221"
            ],
            [
             1,
             "#276419"
            ]
           ],
           "sequential": [
            [
             0,
             "#0d0887"
            ],
            [
             0.1111111111111111,
             "#46039f"
            ],
            [
             0.2222222222222222,
             "#7201a8"
            ],
            [
             0.3333333333333333,
             "#9c179e"
            ],
            [
             0.4444444444444444,
             "#bd3786"
            ],
            [
             0.5555555555555556,
             "#d8576b"
            ],
            [
             0.6666666666666666,
             "#ed7953"
            ],
            [
             0.7777777777777778,
             "#fb9f3a"
            ],
            [
             0.8888888888888888,
             "#fdca26"
            ],
            [
             1,
             "#f0f921"
            ]
           ],
           "sequentialminus": [
            [
             0,
             "#0d0887"
            ],
            [
             0.1111111111111111,
             "#46039f"
            ],
            [
             0.2222222222222222,
             "#7201a8"
            ],
            [
             0.3333333333333333,
             "#9c179e"
            ],
            [
             0.4444444444444444,
             "#bd3786"
            ],
            [
             0.5555555555555556,
             "#d8576b"
            ],
            [
             0.6666666666666666,
             "#ed7953"
            ],
            [
             0.7777777777777778,
             "#fb9f3a"
            ],
            [
             0.8888888888888888,
             "#fdca26"
            ],
            [
             1,
             "#f0f921"
            ]
           ]
          },
          "colorway": [
           "#636efa",
           "#EF553B",
           "#00cc96",
           "#ab63fa",
           "#FFA15A",
           "#19d3f3",
           "#FF6692",
           "#B6E880",
           "#FF97FF",
           "#FECB52"
          ],
          "font": {
           "color": "#2a3f5f"
          },
          "geo": {
           "bgcolor": "white",
           "lakecolor": "white",
           "landcolor": "#E5ECF6",
           "showlakes": true,
           "showland": true,
           "subunitcolor": "white"
          },
          "hoverlabel": {
           "align": "left"
          },
          "hovermode": "closest",
          "mapbox": {
           "style": "light"
          },
          "paper_bgcolor": "white",
          "plot_bgcolor": "#E5ECF6",
          "polar": {
           "angularaxis": {
            "gridcolor": "white",
            "linecolor": "white",
            "ticks": ""
           },
           "bgcolor": "#E5ECF6",
           "radialaxis": {
            "gridcolor": "white",
            "linecolor": "white",
            "ticks": ""
           }
          },
          "scene": {
           "xaxis": {
            "backgroundcolor": "#E5ECF6",
            "gridcolor": "white",
            "gridwidth": 2,
            "linecolor": "white",
            "showbackground": true,
            "ticks": "",
            "zerolinecolor": "white"
           },
           "yaxis": {
            "backgroundcolor": "#E5ECF6",
            "gridcolor": "white",
            "gridwidth": 2,
            "linecolor": "white",
            "showbackground": true,
            "ticks": "",
            "zerolinecolor": "white"
           },
           "zaxis": {
            "backgroundcolor": "#E5ECF6",
            "gridcolor": "white",
            "gridwidth": 2,
            "linecolor": "white",
            "showbackground": true,
            "ticks": "",
            "zerolinecolor": "white"
           }
          },
          "shapedefaults": {
           "line": {
            "color": "#2a3f5f"
           }
          },
          "ternary": {
           "aaxis": {
            "gridcolor": "white",
            "linecolor": "white",
            "ticks": ""
           },
           "baxis": {
            "gridcolor": "white",
            "linecolor": "white",
            "ticks": ""
           },
           "bgcolor": "#E5ECF6",
           "caxis": {
            "gridcolor": "white",
            "linecolor": "white",
            "ticks": ""
           }
          },
          "title": {
           "x": 0.05
          },
          "xaxis": {
           "automargin": true,
           "gridcolor": "white",
           "linecolor": "white",
           "ticks": "",
           "title": {
            "standoff": 15
           },
           "zerolinecolor": "white",
           "zerolinewidth": 2
          },
          "yaxis": {
           "automargin": true,
           "gridcolor": "white",
           "linecolor": "white",
           "ticks": "",
           "title": {
            "standoff": 15
           },
           "zerolinecolor": "white",
           "zerolinewidth": 2
          }
         }
        },
        "title": {
         "text": "Top 10 Topics in 2007"
        },
        "xaxis": {
         "anchor": "y",
         "domain": [
          0,
          1
         ],
         "title": {
          "text": "Occurrences"
         }
        },
        "yaxis": {
         "anchor": "x",
         "categoryarray": [
          "Multi-Agent Systems and Negotiation",
          "Logic, Reasoning, and Knowledge",
          "Business Process Modeling and Analysis",
          "Semantic Web and Ontologies",
          "Auction Theory and Applications",
          "Access Control and Trust",
          "Complex Systems and Decision Making",
          "Game Theory and Applications",
          "Peer-to-Peer Network Technologies",
          "Information Systems Theories and Implementation"
         ],
         "categoryorder": "array",
         "domain": [
          0,
          1
         ],
         "title": {
          "text": "Topic"
         }
        }
       }
      }
     },
     "metadata": {},
     "output_type": "display_data"
    },
    {
     "data": {
      "application/vnd.plotly.v1+json": {
       "config": {
        "plotlyServerURL": "https://plot.ly"
       },
       "data": [
        {
         "hovertemplate": "Topic=%{y}<br>Occurrences=%{x}<extra></extra>",
         "legendgroup": "Auction Theory and Applications",
         "marker": {
          "color": "#FF97FF",
          "pattern": {
           "shape": ""
          }
         },
         "name": "Auction Theory and Applications",
         "orientation": "h",
         "showlegend": true,
         "textposition": "auto",
         "type": "bar",
         "x": {
          "bdata": "BA==",
          "dtype": "i1"
         },
         "xaxis": "x",
         "y": [
          "Auction Theory and Applications"
         ],
         "yaxis": "y"
        },
        {
         "hovertemplate": "Topic=%{y}<br>Occurrences=%{x}<extra></extra>",
         "legendgroup": "Natural Language Processing Techniques",
         "marker": {
          "color": "#AB63FA",
          "pattern": {
           "shape": ""
          }
         },
         "name": "Natural Language Processing Techniques",
         "orientation": "h",
         "showlegend": true,
         "textposition": "auto",
         "type": "bar",
         "x": {
          "bdata": "BA==",
          "dtype": "i1"
         },
         "xaxis": "x",
         "y": [
          "Natural Language Processing Techniques"
         ],
         "yaxis": "y"
        },
        {
         "hovertemplate": "Topic=%{y}<br>Occurrences=%{x}<extra></extra>",
         "legendgroup": "Topic Modeling",
         "marker": {
          "color": "rgb(248, 156, 116)",
          "pattern": {
           "shape": ""
          }
         },
         "name": "Topic Modeling",
         "orientation": "h",
         "showlegend": true,
         "textposition": "auto",
         "type": "bar",
         "x": {
          "bdata": "BA==",
          "dtype": "i1"
         },
         "xaxis": "x",
         "y": [
          "Topic Modeling"
         ],
         "yaxis": "y"
        },
        {
         "hovertemplate": "Topic=%{y}<br>Occurrences=%{x}<extra></extra>",
         "legendgroup": "Machine Learning and Data Classification",
         "marker": {
          "color": "rgb(136, 136, 136)",
          "pattern": {
           "shape": ""
          }
         },
         "name": "Machine Learning and Data Classification",
         "orientation": "h",
         "showlegend": true,
         "textposition": "auto",
         "type": "bar",
         "x": {
          "bdata": "BA==",
          "dtype": "i1"
         },
         "xaxis": "x",
         "y": [
          "Machine Learning and Data Classification"
         ],
         "yaxis": "y"
        },
        {
         "hovertemplate": "Topic=%{y}<br>Occurrences=%{x}<extra></extra>",
         "legendgroup": "Formal Methods in Verification",
         "marker": {
          "color": "rgb(124, 124, 124)",
          "pattern": {
           "shape": ""
          }
         },
         "name": "Formal Methods in Verification",
         "orientation": "h",
         "showlegend": true,
         "textposition": "auto",
         "type": "bar",
         "x": {
          "bdata": "BQ==",
          "dtype": "i1"
         },
         "xaxis": "x",
         "y": [
          "Formal Methods in Verification"
         ],
         "yaxis": "y"
        },
        {
         "hovertemplate": "Topic=%{y}<br>Occurrences=%{x}<extra></extra>",
         "legendgroup": "Distributed Constraint Optimization Problems and Algorithms",
         "marker": {
          "color": "rgb(98, 83, 119)",
          "pattern": {
           "shape": ""
          }
         },
         "name": "Distributed Constraint Optimization Problems and Algorithms",
         "orientation": "h",
         "showlegend": true,
         "textposition": "auto",
         "type": "bar",
         "x": {
          "bdata": "Bg==",
          "dtype": "i1"
         },
         "xaxis": "x",
         "y": [
          "Distributed Constraint Optimization Problems and Algorithms"
         ],
         "yaxis": "y"
        },
        {
         "hovertemplate": "Topic=%{y}<br>Occurrences=%{x}<extra></extra>",
         "legendgroup": "Multi-Agent Systems and Negotiation",
         "marker": {
          "color": "rgb(160, 97, 119)",
          "pattern": {
           "shape": ""
          }
         },
         "name": "Multi-Agent Systems and Negotiation",
         "orientation": "h",
         "showlegend": true,
         "textposition": "auto",
         "type": "bar",
         "x": {
          "bdata": "CA==",
          "dtype": "i1"
         },
         "xaxis": "x",
         "y": [
          "Multi-Agent Systems and Negotiation"
         ],
         "yaxis": "y"
        },
        {
         "hovertemplate": "Topic=%{y}<br>Occurrences=%{x}<extra></extra>",
         "legendgroup": "Semantic Web and Ontologies",
         "marker": {
          "color": "rgb(102, 197, 204)",
          "pattern": {
           "shape": ""
          }
         },
         "name": "Semantic Web and Ontologies",
         "orientation": "h",
         "showlegend": true,
         "textposition": "auto",
         "type": "bar",
         "x": {
          "bdata": "Cw==",
          "dtype": "i1"
         },
         "xaxis": "x",
         "y": [
          "Semantic Web and Ontologies"
         ],
         "yaxis": "y"
        },
        {
         "hovertemplate": "Topic=%{y}<br>Occurrences=%{x}<extra></extra>",
         "legendgroup": "AI-based Problem Solving and Planning",
         "marker": {
          "color": "#636EFA",
          "pattern": {
           "shape": ""
          }
         },
         "name": "AI-based Problem Solving and Planning",
         "orientation": "h",
         "showlegend": true,
         "textposition": "auto",
         "type": "bar",
         "x": {
          "bdata": "Cw==",
          "dtype": "i1"
         },
         "xaxis": "x",
         "y": [
          "AI-based Problem Solving and Planning"
         ],
         "yaxis": "y"
        },
        {
         "hovertemplate": "Topic=%{y}<br>Occurrences=%{x}<extra></extra>",
         "legendgroup": "Logic, Reasoning, and Knowledge",
         "marker": {
          "color": "rgb(68, 170, 153)",
          "pattern": {
           "shape": ""
          }
         },
         "name": "Logic, Reasoning, and Knowledge",
         "orientation": "h",
         "showlegend": true,
         "textposition": "auto",
         "type": "bar",
         "x": {
          "bdata": "Dw==",
          "dtype": "i1"
         },
         "xaxis": "x",
         "y": [
          "Logic, Reasoning, and Knowledge"
         ],
         "yaxis": "y"
        }
       ],
       "layout": {
        "barmode": "relative",
        "legend": {
         "title": {
          "text": "Topic"
         },
         "tracegroupgap": 0
        },
        "showlegend": false,
        "template": {
         "data": {
          "bar": [
           {
            "error_x": {
             "color": "#2a3f5f"
            },
            "error_y": {
             "color": "#2a3f5f"
            },
            "marker": {
             "line": {
              "color": "#E5ECF6",
              "width": 0.5
             },
             "pattern": {
              "fillmode": "overlay",
              "size": 10,
              "solidity": 0.2
             }
            },
            "type": "bar"
           }
          ],
          "barpolar": [
           {
            "marker": {
             "line": {
              "color": "#E5ECF6",
              "width": 0.5
             },
             "pattern": {
              "fillmode": "overlay",
              "size": 10,
              "solidity": 0.2
             }
            },
            "type": "barpolar"
           }
          ],
          "carpet": [
           {
            "aaxis": {
             "endlinecolor": "#2a3f5f",
             "gridcolor": "white",
             "linecolor": "white",
             "minorgridcolor": "white",
             "startlinecolor": "#2a3f5f"
            },
            "baxis": {
             "endlinecolor": "#2a3f5f",
             "gridcolor": "white",
             "linecolor": "white",
             "minorgridcolor": "white",
             "startlinecolor": "#2a3f5f"
            },
            "type": "carpet"
           }
          ],
          "choropleth": [
           {
            "colorbar": {
             "outlinewidth": 0,
             "ticks": ""
            },
            "type": "choropleth"
           }
          ],
          "contour": [
           {
            "colorbar": {
             "outlinewidth": 0,
             "ticks": ""
            },
            "colorscale": [
             [
              0,
              "#0d0887"
             ],
             [
              0.1111111111111111,
              "#46039f"
             ],
             [
              0.2222222222222222,
              "#7201a8"
             ],
             [
              0.3333333333333333,
              "#9c179e"
             ],
             [
              0.4444444444444444,
              "#bd3786"
             ],
             [
              0.5555555555555556,
              "#d8576b"
             ],
             [
              0.6666666666666666,
              "#ed7953"
             ],
             [
              0.7777777777777778,
              "#fb9f3a"
             ],
             [
              0.8888888888888888,
              "#fdca26"
             ],
             [
              1,
              "#f0f921"
             ]
            ],
            "type": "contour"
           }
          ],
          "contourcarpet": [
           {
            "colorbar": {
             "outlinewidth": 0,
             "ticks": ""
            },
            "type": "contourcarpet"
           }
          ],
          "heatmap": [
           {
            "colorbar": {
             "outlinewidth": 0,
             "ticks": ""
            },
            "colorscale": [
             [
              0,
              "#0d0887"
             ],
             [
              0.1111111111111111,
              "#46039f"
             ],
             [
              0.2222222222222222,
              "#7201a8"
             ],
             [
              0.3333333333333333,
              "#9c179e"
             ],
             [
              0.4444444444444444,
              "#bd3786"
             ],
             [
              0.5555555555555556,
              "#d8576b"
             ],
             [
              0.6666666666666666,
              "#ed7953"
             ],
             [
              0.7777777777777778,
              "#fb9f3a"
             ],
             [
              0.8888888888888888,
              "#fdca26"
             ],
             [
              1,
              "#f0f921"
             ]
            ],
            "type": "heatmap"
           }
          ],
          "histogram": [
           {
            "marker": {
             "pattern": {
              "fillmode": "overlay",
              "size": 10,
              "solidity": 0.2
             }
            },
            "type": "histogram"
           }
          ],
          "histogram2d": [
           {
            "colorbar": {
             "outlinewidth": 0,
             "ticks": ""
            },
            "colorscale": [
             [
              0,
              "#0d0887"
             ],
             [
              0.1111111111111111,
              "#46039f"
             ],
             [
              0.2222222222222222,
              "#7201a8"
             ],
             [
              0.3333333333333333,
              "#9c179e"
             ],
             [
              0.4444444444444444,
              "#bd3786"
             ],
             [
              0.5555555555555556,
              "#d8576b"
             ],
             [
              0.6666666666666666,
              "#ed7953"
             ],
             [
              0.7777777777777778,
              "#fb9f3a"
             ],
             [
              0.8888888888888888,
              "#fdca26"
             ],
             [
              1,
              "#f0f921"
             ]
            ],
            "type": "histogram2d"
           }
          ],
          "histogram2dcontour": [
           {
            "colorbar": {
             "outlinewidth": 0,
             "ticks": ""
            },
            "colorscale": [
             [
              0,
              "#0d0887"
             ],
             [
              0.1111111111111111,
              "#46039f"
             ],
             [
              0.2222222222222222,
              "#7201a8"
             ],
             [
              0.3333333333333333,
              "#9c179e"
             ],
             [
              0.4444444444444444,
              "#bd3786"
             ],
             [
              0.5555555555555556,
              "#d8576b"
             ],
             [
              0.6666666666666666,
              "#ed7953"
             ],
             [
              0.7777777777777778,
              "#fb9f3a"
             ],
             [
              0.8888888888888888,
              "#fdca26"
             ],
             [
              1,
              "#f0f921"
             ]
            ],
            "type": "histogram2dcontour"
           }
          ],
          "mesh3d": [
           {
            "colorbar": {
             "outlinewidth": 0,
             "ticks": ""
            },
            "type": "mesh3d"
           }
          ],
          "parcoords": [
           {
            "line": {
             "colorbar": {
              "outlinewidth": 0,
              "ticks": ""
             }
            },
            "type": "parcoords"
           }
          ],
          "pie": [
           {
            "automargin": true,
            "type": "pie"
           }
          ],
          "scatter": [
           {
            "fillpattern": {
             "fillmode": "overlay",
             "size": 10,
             "solidity": 0.2
            },
            "type": "scatter"
           }
          ],
          "scatter3d": [
           {
            "line": {
             "colorbar": {
              "outlinewidth": 0,
              "ticks": ""
             }
            },
            "marker": {
             "colorbar": {
              "outlinewidth": 0,
              "ticks": ""
             }
            },
            "type": "scatter3d"
           }
          ],
          "scattercarpet": [
           {
            "marker": {
             "colorbar": {
              "outlinewidth": 0,
              "ticks": ""
             }
            },
            "type": "scattercarpet"
           }
          ],
          "scattergeo": [
           {
            "marker": {
             "colorbar": {
              "outlinewidth": 0,
              "ticks": ""
             }
            },
            "type": "scattergeo"
           }
          ],
          "scattergl": [
           {
            "marker": {
             "colorbar": {
              "outlinewidth": 0,
              "ticks": ""
             }
            },
            "type": "scattergl"
           }
          ],
          "scattermap": [
           {
            "marker": {
             "colorbar": {
              "outlinewidth": 0,
              "ticks": ""
             }
            },
            "type": "scattermap"
           }
          ],
          "scattermapbox": [
           {
            "marker": {
             "colorbar": {
              "outlinewidth": 0,
              "ticks": ""
             }
            },
            "type": "scattermapbox"
           }
          ],
          "scatterpolar": [
           {
            "marker": {
             "colorbar": {
              "outlinewidth": 0,
              "ticks": ""
             }
            },
            "type": "scatterpolar"
           }
          ],
          "scatterpolargl": [
           {
            "marker": {
             "colorbar": {
              "outlinewidth": 0,
              "ticks": ""
             }
            },
            "type": "scatterpolargl"
           }
          ],
          "scatterternary": [
           {
            "marker": {
             "colorbar": {
              "outlinewidth": 0,
              "ticks": ""
             }
            },
            "type": "scatterternary"
           }
          ],
          "surface": [
           {
            "colorbar": {
             "outlinewidth": 0,
             "ticks": ""
            },
            "colorscale": [
             [
              0,
              "#0d0887"
             ],
             [
              0.1111111111111111,
              "#46039f"
             ],
             [
              0.2222222222222222,
              "#7201a8"
             ],
             [
              0.3333333333333333,
              "#9c179e"
             ],
             [
              0.4444444444444444,
              "#bd3786"
             ],
             [
              0.5555555555555556,
              "#d8576b"
             ],
             [
              0.6666666666666666,
              "#ed7953"
             ],
             [
              0.7777777777777778,
              "#fb9f3a"
             ],
             [
              0.8888888888888888,
              "#fdca26"
             ],
             [
              1,
              "#f0f921"
             ]
            ],
            "type": "surface"
           }
          ],
          "table": [
           {
            "cells": {
             "fill": {
              "color": "#EBF0F8"
             },
             "line": {
              "color": "white"
             }
            },
            "header": {
             "fill": {
              "color": "#C8D4E3"
             },
             "line": {
              "color": "white"
             }
            },
            "type": "table"
           }
          ]
         },
         "layout": {
          "annotationdefaults": {
           "arrowcolor": "#2a3f5f",
           "arrowhead": 0,
           "arrowwidth": 1
          },
          "autotypenumbers": "strict",
          "coloraxis": {
           "colorbar": {
            "outlinewidth": 0,
            "ticks": ""
           }
          },
          "colorscale": {
           "diverging": [
            [
             0,
             "#8e0152"
            ],
            [
             0.1,
             "#c51b7d"
            ],
            [
             0.2,
             "#de77ae"
            ],
            [
             0.3,
             "#f1b6da"
            ],
            [
             0.4,
             "#fde0ef"
            ],
            [
             0.5,
             "#f7f7f7"
            ],
            [
             0.6,
             "#e6f5d0"
            ],
            [
             0.7,
             "#b8e186"
            ],
            [
             0.8,
             "#7fbc41"
            ],
            [
             0.9,
             "#4d9221"
            ],
            [
             1,
             "#276419"
            ]
           ],
           "sequential": [
            [
             0,
             "#0d0887"
            ],
            [
             0.1111111111111111,
             "#46039f"
            ],
            [
             0.2222222222222222,
             "#7201a8"
            ],
            [
             0.3333333333333333,
             "#9c179e"
            ],
            [
             0.4444444444444444,
             "#bd3786"
            ],
            [
             0.5555555555555556,
             "#d8576b"
            ],
            [
             0.6666666666666666,
             "#ed7953"
            ],
            [
             0.7777777777777778,
             "#fb9f3a"
            ],
            [
             0.8888888888888888,
             "#fdca26"
            ],
            [
             1,
             "#f0f921"
            ]
           ],
           "sequentialminus": [
            [
             0,
             "#0d0887"
            ],
            [
             0.1111111111111111,
             "#46039f"
            ],
            [
             0.2222222222222222,
             "#7201a8"
            ],
            [
             0.3333333333333333,
             "#9c179e"
            ],
            [
             0.4444444444444444,
             "#bd3786"
            ],
            [
             0.5555555555555556,
             "#d8576b"
            ],
            [
             0.6666666666666666,
             "#ed7953"
            ],
            [
             0.7777777777777778,
             "#fb9f3a"
            ],
            [
             0.8888888888888888,
             "#fdca26"
            ],
            [
             1,
             "#f0f921"
            ]
           ]
          },
          "colorway": [
           "#636efa",
           "#EF553B",
           "#00cc96",
           "#ab63fa",
           "#FFA15A",
           "#19d3f3",
           "#FF6692",
           "#B6E880",
           "#FF97FF",
           "#FECB52"
          ],
          "font": {
           "color": "#2a3f5f"
          },
          "geo": {
           "bgcolor": "white",
           "lakecolor": "white",
           "landcolor": "#E5ECF6",
           "showlakes": true,
           "showland": true,
           "subunitcolor": "white"
          },
          "hoverlabel": {
           "align": "left"
          },
          "hovermode": "closest",
          "mapbox": {
           "style": "light"
          },
          "paper_bgcolor": "white",
          "plot_bgcolor": "#E5ECF6",
          "polar": {
           "angularaxis": {
            "gridcolor": "white",
            "linecolor": "white",
            "ticks": ""
           },
           "bgcolor": "#E5ECF6",
           "radialaxis": {
            "gridcolor": "white",
            "linecolor": "white",
            "ticks": ""
           }
          },
          "scene": {
           "xaxis": {
            "backgroundcolor": "#E5ECF6",
            "gridcolor": "white",
            "gridwidth": 2,
            "linecolor": "white",
            "showbackground": true,
            "ticks": "",
            "zerolinecolor": "white"
           },
           "yaxis": {
            "backgroundcolor": "#E5ECF6",
            "gridcolor": "white",
            "gridwidth": 2,
            "linecolor": "white",
            "showbackground": true,
            "ticks": "",
            "zerolinecolor": "white"
           },
           "zaxis": {
            "backgroundcolor": "#E5ECF6",
            "gridcolor": "white",
            "gridwidth": 2,
            "linecolor": "white",
            "showbackground": true,
            "ticks": "",
            "zerolinecolor": "white"
           }
          },
          "shapedefaults": {
           "line": {
            "color": "#2a3f5f"
           }
          },
          "ternary": {
           "aaxis": {
            "gridcolor": "white",
            "linecolor": "white",
            "ticks": ""
           },
           "baxis": {
            "gridcolor": "white",
            "linecolor": "white",
            "ticks": ""
           },
           "bgcolor": "#E5ECF6",
           "caxis": {
            "gridcolor": "white",
            "linecolor": "white",
            "ticks": ""
           }
          },
          "title": {
           "x": 0.05
          },
          "xaxis": {
           "automargin": true,
           "gridcolor": "white",
           "linecolor": "white",
           "ticks": "",
           "title": {
            "standoff": 15
           },
           "zerolinecolor": "white",
           "zerolinewidth": 2
          },
          "yaxis": {
           "automargin": true,
           "gridcolor": "white",
           "linecolor": "white",
           "ticks": "",
           "title": {
            "standoff": 15
           },
           "zerolinecolor": "white",
           "zerolinewidth": 2
          }
         }
        },
        "title": {
         "text": "Top 10 Topics in 2008"
        },
        "xaxis": {
         "anchor": "y",
         "domain": [
          0,
          1
         ],
         "title": {
          "text": "Occurrences"
         }
        },
        "yaxis": {
         "anchor": "x",
         "categoryarray": [
          "Logic, Reasoning, and Knowledge",
          "AI-based Problem Solving and Planning",
          "Semantic Web and Ontologies",
          "Multi-Agent Systems and Negotiation",
          "Distributed Constraint Optimization Problems and Algorithms",
          "Formal Methods in Verification",
          "Machine Learning and Data Classification",
          "Topic Modeling",
          "Natural Language Processing Techniques",
          "Auction Theory and Applications"
         ],
         "categoryorder": "array",
         "domain": [
          0,
          1
         ],
         "title": {
          "text": "Topic"
         }
        }
       }
      }
     },
     "metadata": {},
     "output_type": "display_data"
    },
    {
     "data": {
      "application/vnd.plotly.v1+json": {
       "config": {
        "plotlyServerURL": "https://plot.ly"
       },
       "data": [
        {
         "hovertemplate": "Topic=%{y}<br>Occurrences=%{x}<extra></extra>",
         "legendgroup": "AI-based Problem Solving and Planning",
         "marker": {
          "color": "#636EFA",
          "pattern": {
           "shape": ""
          }
         },
         "name": "AI-based Problem Solving and Planning",
         "orientation": "h",
         "showlegend": true,
         "textposition": "auto",
         "type": "bar",
         "x": {
          "bdata": "AQ==",
          "dtype": "i1"
         },
         "xaxis": "x",
         "y": [
          "AI-based Problem Solving and Planning"
         ],
         "yaxis": "y"
        },
        {
         "hovertemplate": "Topic=%{y}<br>Occurrences=%{x}<extra></extra>",
         "legendgroup": "Data Quality and Management",
         "marker": {
          "color": "rgb(135, 197, 95)",
          "pattern": {
           "shape": ""
          }
         },
         "name": "Data Quality and Management",
         "orientation": "h",
         "showlegend": true,
         "textposition": "auto",
         "type": "bar",
         "x": {
          "bdata": "AQ==",
          "dtype": "i1"
         },
         "xaxis": "x",
         "y": [
          "Data Quality and Management"
         ],
         "yaxis": "y"
        },
        {
         "hovertemplate": "Topic=%{y}<br>Occurrences=%{x}<extra></extra>",
         "legendgroup": "Geriatric Care and Nursing Homes",
         "marker": {
          "color": "rgb(153, 153, 51)",
          "pattern": {
           "shape": ""
          }
         },
         "name": "Geriatric Care and Nursing Homes",
         "orientation": "h",
         "showlegend": true,
         "textposition": "auto",
         "type": "bar",
         "x": {
          "bdata": "AQ==",
          "dtype": "i1"
         },
         "xaxis": "x",
         "y": [
          "Geriatric Care and Nursing Homes"
         ],
         "yaxis": "y"
        },
        {
         "hovertemplate": "Topic=%{y}<br>Occurrences=%{x}<extra></extra>",
         "legendgroup": "Big Data and Business Intelligence",
         "marker": {
          "color": "rgb(170, 68, 153)",
          "pattern": {
           "shape": ""
          }
         },
         "name": "Big Data and Business Intelligence",
         "orientation": "h",
         "showlegend": true,
         "textposition": "auto",
         "type": "bar",
         "x": {
          "bdata": "AQ==",
          "dtype": "i1"
         },
         "xaxis": "x",
         "y": [
          "Big Data and Business Intelligence"
         ],
         "yaxis": "y"
        },
        {
         "hovertemplate": "Topic=%{y}<br>Occurrences=%{x}<extra></extra>",
         "legendgroup": "Healthcare Systems and Technology",
         "marker": {
          "color": "rgb(220, 176, 242)",
          "pattern": {
           "shape": ""
          }
         },
         "name": "Healthcare Systems and Technology",
         "orientation": "h",
         "showlegend": true,
         "textposition": "auto",
         "type": "bar",
         "x": {
          "bdata": "AQ==",
          "dtype": "i1"
         },
         "xaxis": "x",
         "y": [
          "Healthcare Systems and Technology"
         ],
         "yaxis": "y"
        },
        {
         "hovertemplate": "Topic=%{y}<br>Occurrences=%{x}<extra></extra>",
         "legendgroup": "Business Process Modeling and Analysis",
         "marker": {
          "color": "rgb(102, 197, 204)",
          "pattern": {
           "shape": ""
          }
         },
         "name": "Business Process Modeling and Analysis",
         "orientation": "h",
         "showlegend": true,
         "textposition": "auto",
         "type": "bar",
         "x": {
          "bdata": "Ag==",
          "dtype": "i1"
         },
         "xaxis": "x",
         "y": [
          "Business Process Modeling and Analysis"
         ],
         "yaxis": "y"
        },
        {
         "hovertemplate": "Topic=%{y}<br>Occurrences=%{x}<extra></extra>",
         "legendgroup": "Clinical practice guidelines implementation",
         "marker": {
          "color": "rgb(179, 179, 179)",
          "pattern": {
           "shape": ""
          }
         },
         "name": "Clinical practice guidelines implementation",
         "orientation": "h",
         "showlegend": true,
         "textposition": "auto",
         "type": "bar",
         "x": {
          "bdata": "BA==",
          "dtype": "i1"
         },
         "xaxis": "x",
         "y": [
          "Clinical practice guidelines implementation"
         ],
         "yaxis": "y"
        },
        {
         "hovertemplate": "Topic=%{y}<br>Occurrences=%{x}<extra></extra>",
         "legendgroup": "Electronic Health Records Systems",
         "marker": {
          "color": "rgb(17, 119, 51)",
          "pattern": {
           "shape": ""
          }
         },
         "name": "Electronic Health Records Systems",
         "orientation": "h",
         "showlegend": true,
         "textposition": "auto",
         "type": "bar",
         "x": {
          "bdata": "BQ==",
          "dtype": "i1"
         },
         "xaxis": "x",
         "y": [
          "Electronic Health Records Systems"
         ],
         "yaxis": "y"
        },
        {
         "hovertemplate": "Topic=%{y}<br>Occurrences=%{x}<extra></extra>",
         "legendgroup": "Biomedical Text Mining and Ontologies",
         "marker": {
          "color": "rgb(153, 153, 51)",
          "pattern": {
           "shape": ""
          }
         },
         "name": "Biomedical Text Mining and Ontologies",
         "orientation": "h",
         "showlegend": true,
         "textposition": "auto",
         "type": "bar",
         "x": {
          "bdata": "Bg==",
          "dtype": "i1"
         },
         "xaxis": "x",
         "y": [
          "Biomedical Text Mining and Ontologies"
         ],
         "yaxis": "y"
        },
        {
         "hovertemplate": "Topic=%{y}<br>Occurrences=%{x}<extra></extra>",
         "legendgroup": "Semantic Web and Ontologies",
         "marker": {
          "color": "rgb(102, 197, 204)",
          "pattern": {
           "shape": ""
          }
         },
         "name": "Semantic Web and Ontologies",
         "orientation": "h",
         "showlegend": true,
         "textposition": "auto",
         "type": "bar",
         "x": {
          "bdata": "Bw==",
          "dtype": "i1"
         },
         "xaxis": "x",
         "y": [
          "Semantic Web and Ontologies"
         ],
         "yaxis": "y"
        }
       ],
       "layout": {
        "barmode": "relative",
        "legend": {
         "title": {
          "text": "Topic"
         },
         "tracegroupgap": 0
        },
        "showlegend": false,
        "template": {
         "data": {
          "bar": [
           {
            "error_x": {
             "color": "#2a3f5f"
            },
            "error_y": {
             "color": "#2a3f5f"
            },
            "marker": {
             "line": {
              "color": "#E5ECF6",
              "width": 0.5
             },
             "pattern": {
              "fillmode": "overlay",
              "size": 10,
              "solidity": 0.2
             }
            },
            "type": "bar"
           }
          ],
          "barpolar": [
           {
            "marker": {
             "line": {
              "color": "#E5ECF6",
              "width": 0.5
             },
             "pattern": {
              "fillmode": "overlay",
              "size": 10,
              "solidity": 0.2
             }
            },
            "type": "barpolar"
           }
          ],
          "carpet": [
           {
            "aaxis": {
             "endlinecolor": "#2a3f5f",
             "gridcolor": "white",
             "linecolor": "white",
             "minorgridcolor": "white",
             "startlinecolor": "#2a3f5f"
            },
            "baxis": {
             "endlinecolor": "#2a3f5f",
             "gridcolor": "white",
             "linecolor": "white",
             "minorgridcolor": "white",
             "startlinecolor": "#2a3f5f"
            },
            "type": "carpet"
           }
          ],
          "choropleth": [
           {
            "colorbar": {
             "outlinewidth": 0,
             "ticks": ""
            },
            "type": "choropleth"
           }
          ],
          "contour": [
           {
            "colorbar": {
             "outlinewidth": 0,
             "ticks": ""
            },
            "colorscale": [
             [
              0,
              "#0d0887"
             ],
             [
              0.1111111111111111,
              "#46039f"
             ],
             [
              0.2222222222222222,
              "#7201a8"
             ],
             [
              0.3333333333333333,
              "#9c179e"
             ],
             [
              0.4444444444444444,
              "#bd3786"
             ],
             [
              0.5555555555555556,
              "#d8576b"
             ],
             [
              0.6666666666666666,
              "#ed7953"
             ],
             [
              0.7777777777777778,
              "#fb9f3a"
             ],
             [
              0.8888888888888888,
              "#fdca26"
             ],
             [
              1,
              "#f0f921"
             ]
            ],
            "type": "contour"
           }
          ],
          "contourcarpet": [
           {
            "colorbar": {
             "outlinewidth": 0,
             "ticks": ""
            },
            "type": "contourcarpet"
           }
          ],
          "heatmap": [
           {
            "colorbar": {
             "outlinewidth": 0,
             "ticks": ""
            },
            "colorscale": [
             [
              0,
              "#0d0887"
             ],
             [
              0.1111111111111111,
              "#46039f"
             ],
             [
              0.2222222222222222,
              "#7201a8"
             ],
             [
              0.3333333333333333,
              "#9c179e"
             ],
             [
              0.4444444444444444,
              "#bd3786"
             ],
             [
              0.5555555555555556,
              "#d8576b"
             ],
             [
              0.6666666666666666,
              "#ed7953"
             ],
             [
              0.7777777777777778,
              "#fb9f3a"
             ],
             [
              0.8888888888888888,
              "#fdca26"
             ],
             [
              1,
              "#f0f921"
             ]
            ],
            "type": "heatmap"
           }
          ],
          "histogram": [
           {
            "marker": {
             "pattern": {
              "fillmode": "overlay",
              "size": 10,
              "solidity": 0.2
             }
            },
            "type": "histogram"
           }
          ],
          "histogram2d": [
           {
            "colorbar": {
             "outlinewidth": 0,
             "ticks": ""
            },
            "colorscale": [
             [
              0,
              "#0d0887"
             ],
             [
              0.1111111111111111,
              "#46039f"
             ],
             [
              0.2222222222222222,
              "#7201a8"
             ],
             [
              0.3333333333333333,
              "#9c179e"
             ],
             [
              0.4444444444444444,
              "#bd3786"
             ],
             [
              0.5555555555555556,
              "#d8576b"
             ],
             [
              0.6666666666666666,
              "#ed7953"
             ],
             [
              0.7777777777777778,
              "#fb9f3a"
             ],
             [
              0.8888888888888888,
              "#fdca26"
             ],
             [
              1,
              "#f0f921"
             ]
            ],
            "type": "histogram2d"
           }
          ],
          "histogram2dcontour": [
           {
            "colorbar": {
             "outlinewidth": 0,
             "ticks": ""
            },
            "colorscale": [
             [
              0,
              "#0d0887"
             ],
             [
              0.1111111111111111,
              "#46039f"
             ],
             [
              0.2222222222222222,
              "#7201a8"
             ],
             [
              0.3333333333333333,
              "#9c179e"
             ],
             [
              0.4444444444444444,
              "#bd3786"
             ],
             [
              0.5555555555555556,
              "#d8576b"
             ],
             [
              0.6666666666666666,
              "#ed7953"
             ],
             [
              0.7777777777777778,
              "#fb9f3a"
             ],
             [
              0.8888888888888888,
              "#fdca26"
             ],
             [
              1,
              "#f0f921"
             ]
            ],
            "type": "histogram2dcontour"
           }
          ],
          "mesh3d": [
           {
            "colorbar": {
             "outlinewidth": 0,
             "ticks": ""
            },
            "type": "mesh3d"
           }
          ],
          "parcoords": [
           {
            "line": {
             "colorbar": {
              "outlinewidth": 0,
              "ticks": ""
             }
            },
            "type": "parcoords"
           }
          ],
          "pie": [
           {
            "automargin": true,
            "type": "pie"
           }
          ],
          "scatter": [
           {
            "fillpattern": {
             "fillmode": "overlay",
             "size": 10,
             "solidity": 0.2
            },
            "type": "scatter"
           }
          ],
          "scatter3d": [
           {
            "line": {
             "colorbar": {
              "outlinewidth": 0,
              "ticks": ""
             }
            },
            "marker": {
             "colorbar": {
              "outlinewidth": 0,
              "ticks": ""
             }
            },
            "type": "scatter3d"
           }
          ],
          "scattercarpet": [
           {
            "marker": {
             "colorbar": {
              "outlinewidth": 0,
              "ticks": ""
             }
            },
            "type": "scattercarpet"
           }
          ],
          "scattergeo": [
           {
            "marker": {
             "colorbar": {
              "outlinewidth": 0,
              "ticks": ""
             }
            },
            "type": "scattergeo"
           }
          ],
          "scattergl": [
           {
            "marker": {
             "colorbar": {
              "outlinewidth": 0,
              "ticks": ""
             }
            },
            "type": "scattergl"
           }
          ],
          "scattermap": [
           {
            "marker": {
             "colorbar": {
              "outlinewidth": 0,
              "ticks": ""
             }
            },
            "type": "scattermap"
           }
          ],
          "scattermapbox": [
           {
            "marker": {
             "colorbar": {
              "outlinewidth": 0,
              "ticks": ""
             }
            },
            "type": "scattermapbox"
           }
          ],
          "scatterpolar": [
           {
            "marker": {
             "colorbar": {
              "outlinewidth": 0,
              "ticks": ""
             }
            },
            "type": "scatterpolar"
           }
          ],
          "scatterpolargl": [
           {
            "marker": {
             "colorbar": {
              "outlinewidth": 0,
              "ticks": ""
             }
            },
            "type": "scatterpolargl"
           }
          ],
          "scatterternary": [
           {
            "marker": {
             "colorbar": {
              "outlinewidth": 0,
              "ticks": ""
             }
            },
            "type": "scatterternary"
           }
          ],
          "surface": [
           {
            "colorbar": {
             "outlinewidth": 0,
             "ticks": ""
            },
            "colorscale": [
             [
              0,
              "#0d0887"
             ],
             [
              0.1111111111111111,
              "#46039f"
             ],
             [
              0.2222222222222222,
              "#7201a8"
             ],
             [
              0.3333333333333333,
              "#9c179e"
             ],
             [
              0.4444444444444444,
              "#bd3786"
             ],
             [
              0.5555555555555556,
              "#d8576b"
             ],
             [
              0.6666666666666666,
              "#ed7953"
             ],
             [
              0.7777777777777778,
              "#fb9f3a"
             ],
             [
              0.8888888888888888,
              "#fdca26"
             ],
             [
              1,
              "#f0f921"
             ]
            ],
            "type": "surface"
           }
          ],
          "table": [
           {
            "cells": {
             "fill": {
              "color": "#EBF0F8"
             },
             "line": {
              "color": "white"
             }
            },
            "header": {
             "fill": {
              "color": "#C8D4E3"
             },
             "line": {
              "color": "white"
             }
            },
            "type": "table"
           }
          ]
         },
         "layout": {
          "annotationdefaults": {
           "arrowcolor": "#2a3f5f",
           "arrowhead": 0,
           "arrowwidth": 1
          },
          "autotypenumbers": "strict",
          "coloraxis": {
           "colorbar": {
            "outlinewidth": 0,
            "ticks": ""
           }
          },
          "colorscale": {
           "diverging": [
            [
             0,
             "#8e0152"
            ],
            [
             0.1,
             "#c51b7d"
            ],
            [
             0.2,
             "#de77ae"
            ],
            [
             0.3,
             "#f1b6da"
            ],
            [
             0.4,
             "#fde0ef"
            ],
            [
             0.5,
             "#f7f7f7"
            ],
            [
             0.6,
             "#e6f5d0"
            ],
            [
             0.7,
             "#b8e186"
            ],
            [
             0.8,
             "#7fbc41"
            ],
            [
             0.9,
             "#4d9221"
            ],
            [
             1,
             "#276419"
            ]
           ],
           "sequential": [
            [
             0,
             "#0d0887"
            ],
            [
             0.1111111111111111,
             "#46039f"
            ],
            [
             0.2222222222222222,
             "#7201a8"
            ],
            [
             0.3333333333333333,
             "#9c179e"
            ],
            [
             0.4444444444444444,
             "#bd3786"
            ],
            [
             0.5555555555555556,
             "#d8576b"
            ],
            [
             0.6666666666666666,
             "#ed7953"
            ],
            [
             0.7777777777777778,
             "#fb9f3a"
            ],
            [
             0.8888888888888888,
             "#fdca26"
            ],
            [
             1,
             "#f0f921"
            ]
           ],
           "sequentialminus": [
            [
             0,
             "#0d0887"
            ],
            [
             0.1111111111111111,
             "#46039f"
            ],
            [
             0.2222222222222222,
             "#7201a8"
            ],
            [
             0.3333333333333333,
             "#9c179e"
            ],
            [
             0.4444444444444444,
             "#bd3786"
            ],
            [
             0.5555555555555556,
             "#d8576b"
            ],
            [
             0.6666666666666666,
             "#ed7953"
            ],
            [
             0.7777777777777778,
             "#fb9f3a"
            ],
            [
             0.8888888888888888,
             "#fdca26"
            ],
            [
             1,
             "#f0f921"
            ]
           ]
          },
          "colorway": [
           "#636efa",
           "#EF553B",
           "#00cc96",
           "#ab63fa",
           "#FFA15A",
           "#19d3f3",
           "#FF6692",
           "#B6E880",
           "#FF97FF",
           "#FECB52"
          ],
          "font": {
           "color": "#2a3f5f"
          },
          "geo": {
           "bgcolor": "white",
           "lakecolor": "white",
           "landcolor": "#E5ECF6",
           "showlakes": true,
           "showland": true,
           "subunitcolor": "white"
          },
          "hoverlabel": {
           "align": "left"
          },
          "hovermode": "closest",
          "mapbox": {
           "style": "light"
          },
          "paper_bgcolor": "white",
          "plot_bgcolor": "#E5ECF6",
          "polar": {
           "angularaxis": {
            "gridcolor": "white",
            "linecolor": "white",
            "ticks": ""
           },
           "bgcolor": "#E5ECF6",
           "radialaxis": {
            "gridcolor": "white",
            "linecolor": "white",
            "ticks": ""
           }
          },
          "scene": {
           "xaxis": {
            "backgroundcolor": "#E5ECF6",
            "gridcolor": "white",
            "gridwidth": 2,
            "linecolor": "white",
            "showbackground": true,
            "ticks": "",
            "zerolinecolor": "white"
           },
           "yaxis": {
            "backgroundcolor": "#E5ECF6",
            "gridcolor": "white",
            "gridwidth": 2,
            "linecolor": "white",
            "showbackground": true,
            "ticks": "",
            "zerolinecolor": "white"
           },
           "zaxis": {
            "backgroundcolor": "#E5ECF6",
            "gridcolor": "white",
            "gridwidth": 2,
            "linecolor": "white",
            "showbackground": true,
            "ticks": "",
            "zerolinecolor": "white"
           }
          },
          "shapedefaults": {
           "line": {
            "color": "#2a3f5f"
           }
          },
          "ternary": {
           "aaxis": {
            "gridcolor": "white",
            "linecolor": "white",
            "ticks": ""
           },
           "baxis": {
            "gridcolor": "white",
            "linecolor": "white",
            "ticks": ""
           },
           "bgcolor": "#E5ECF6",
           "caxis": {
            "gridcolor": "white",
            "linecolor": "white",
            "ticks": ""
           }
          },
          "title": {
           "x": 0.05
          },
          "xaxis": {
           "automargin": true,
           "gridcolor": "white",
           "linecolor": "white",
           "ticks": "",
           "title": {
            "standoff": 15
           },
           "zerolinecolor": "white",
           "zerolinewidth": 2
          },
          "yaxis": {
           "automargin": true,
           "gridcolor": "white",
           "linecolor": "white",
           "ticks": "",
           "title": {
            "standoff": 15
           },
           "zerolinecolor": "white",
           "zerolinewidth": 2
          }
         }
        },
        "title": {
         "text": "Top 10 Topics in 2009"
        },
        "xaxis": {
         "anchor": "y",
         "domain": [
          0,
          1
         ],
         "title": {
          "text": "Occurrences"
         }
        },
        "yaxis": {
         "anchor": "x",
         "categoryarray": [
          "Semantic Web and Ontologies",
          "Biomedical Text Mining and Ontologies",
          "Electronic Health Records Systems",
          "Clinical practice guidelines implementation",
          "Business Process Modeling and Analysis",
          "Healthcare Systems and Technology",
          "Big Data and Business Intelligence",
          "Geriatric Care and Nursing Homes",
          "Data Quality and Management",
          "AI-based Problem Solving and Planning"
         ],
         "categoryorder": "array",
         "domain": [
          0,
          1
         ],
         "title": {
          "text": "Topic"
         }
        }
       }
      }
     },
     "metadata": {},
     "output_type": "display_data"
    },
    {
     "data": {
      "application/vnd.plotly.v1+json": {
       "config": {
        "plotlyServerURL": "https://plot.ly"
       },
       "data": [
        {
         "hovertemplate": "Topic=%{y}<br>Occurrences=%{x}<extra></extra>",
         "legendgroup": "Bayesian Modeling and Causal Inference",
         "marker": {
          "color": "rgb(51, 34, 136)",
          "pattern": {
           "shape": ""
          }
         },
         "name": "Bayesian Modeling and Causal Inference",
         "orientation": "h",
         "showlegend": true,
         "textposition": "auto",
         "type": "bar",
         "x": {
          "bdata": "BQ==",
          "dtype": "i1"
         },
         "xaxis": "x",
         "y": [
          "Bayesian Modeling and Causal Inference"
         ],
         "yaxis": "y"
        },
        {
         "hovertemplate": "Topic=%{y}<br>Occurrences=%{x}<extra></extra>",
         "legendgroup": "Logic, programming, and type systems",
         "marker": {
          "color": "rgb(153, 153, 51)",
          "pattern": {
           "shape": ""
          }
         },
         "name": "Logic, programming, and type systems",
         "orientation": "h",
         "showlegend": true,
         "textposition": "auto",
         "type": "bar",
         "x": {
          "bdata": "BQ==",
          "dtype": "i1"
         },
         "xaxis": "x",
         "y": [
          "Logic, programming, and type systems"
         ],
         "yaxis": "y"
        },
        {
         "hovertemplate": "Topic=%{y}<br>Occurrences=%{x}<extra></extra>",
         "legendgroup": "Game Theory and Applications",
         "marker": {
          "color": "#FFA15A",
          "pattern": {
           "shape": ""
          }
         },
         "name": "Game Theory and Applications",
         "orientation": "h",
         "showlegend": true,
         "textposition": "auto",
         "type": "bar",
         "x": {
          "bdata": "Bg==",
          "dtype": "i1"
         },
         "xaxis": "x",
         "y": [
          "Game Theory and Applications"
         ],
         "yaxis": "y"
        },
        {
         "hovertemplate": "Topic=%{y}<br>Occurrences=%{x}<extra></extra>",
         "legendgroup": "Game Theory and Voting Systems",
         "marker": {
          "color": "#19D3F3",
          "pattern": {
           "shape": ""
          }
         },
         "name": "Game Theory and Voting Systems",
         "orientation": "h",
         "showlegend": true,
         "textposition": "auto",
         "type": "bar",
         "x": {
          "bdata": "Bg==",
          "dtype": "i1"
         },
         "xaxis": "x",
         "y": [
          "Game Theory and Voting Systems"
         ],
         "yaxis": "y"
        },
        {
         "hovertemplate": "Topic=%{y}<br>Occurrences=%{x}<extra></extra>",
         "legendgroup": "Data Management and Algorithms",
         "marker": {
          "color": "rgb(248, 156, 116)",
          "pattern": {
           "shape": ""
          }
         },
         "name": "Data Management and Algorithms",
         "orientation": "h",
         "showlegend": true,
         "textposition": "auto",
         "type": "bar",
         "x": {
          "bdata": "Bw==",
          "dtype": "i1"
         },
         "xaxis": "x",
         "y": [
          "Data Management and Algorithms"
         ],
         "yaxis": "y"
        },
        {
         "hovertemplate": "Topic=%{y}<br>Occurrences=%{x}<extra></extra>",
         "legendgroup": "Multi-Agent Systems and Negotiation",
         "marker": {
          "color": "rgb(160, 97, 119)",
          "pattern": {
           "shape": ""
          }
         },
         "name": "Multi-Agent Systems and Negotiation",
         "orientation": "h",
         "showlegend": true,
         "textposition": "auto",
         "type": "bar",
         "x": {
          "bdata": "Bw==",
          "dtype": "i1"
         },
         "xaxis": "x",
         "y": [
          "Multi-Agent Systems and Negotiation"
         ],
         "yaxis": "y"
        },
        {
         "hovertemplate": "Topic=%{y}<br>Occurrences=%{x}<extra></extra>",
         "legendgroup": "Semantic Web and Ontologies",
         "marker": {
          "color": "rgb(102, 197, 204)",
          "pattern": {
           "shape": ""
          }
         },
         "name": "Semantic Web and Ontologies",
         "orientation": "h",
         "showlegend": true,
         "textposition": "auto",
         "type": "bar",
         "x": {
          "bdata": "CQ==",
          "dtype": "i1"
         },
         "xaxis": "x",
         "y": [
          "Semantic Web and Ontologies"
         ],
         "yaxis": "y"
        },
        {
         "hovertemplate": "Topic=%{y}<br>Occurrences=%{x}<extra></extra>",
         "legendgroup": "Distributed Constraint Optimization Problems and Algorithms",
         "marker": {
          "color": "rgb(98, 83, 119)",
          "pattern": {
           "shape": ""
          }
         },
         "name": "Distributed Constraint Optimization Problems and Algorithms",
         "orientation": "h",
         "showlegend": true,
         "textposition": "auto",
         "type": "bar",
         "x": {
          "bdata": "CQ==",
          "dtype": "i1"
         },
         "xaxis": "x",
         "y": [
          "Distributed Constraint Optimization Problems and Algorithms"
         ],
         "yaxis": "y"
        },
        {
         "hovertemplate": "Topic=%{y}<br>Occurrences=%{x}<extra></extra>",
         "legendgroup": "Auction Theory and Applications",
         "marker": {
          "color": "#FF97FF",
          "pattern": {
           "shape": ""
          }
         },
         "name": "Auction Theory and Applications",
         "orientation": "h",
         "showlegend": true,
         "textposition": "auto",
         "type": "bar",
         "x": {
          "bdata": "Cg==",
          "dtype": "i1"
         },
         "xaxis": "x",
         "y": [
          "Auction Theory and Applications"
         ],
         "yaxis": "y"
        },
        {
         "hovertemplate": "Topic=%{y}<br>Occurrences=%{x}<extra></extra>",
         "legendgroup": "Logic, Reasoning, and Knowledge",
         "marker": {
          "color": "rgb(68, 170, 153)",
          "pattern": {
           "shape": ""
          }
         },
         "name": "Logic, Reasoning, and Knowledge",
         "orientation": "h",
         "showlegend": true,
         "textposition": "auto",
         "type": "bar",
         "x": {
          "bdata": "EA==",
          "dtype": "i1"
         },
         "xaxis": "x",
         "y": [
          "Logic, Reasoning, and Knowledge"
         ],
         "yaxis": "y"
        }
       ],
       "layout": {
        "barmode": "relative",
        "legend": {
         "title": {
          "text": "Topic"
         },
         "tracegroupgap": 0
        },
        "showlegend": false,
        "template": {
         "data": {
          "bar": [
           {
            "error_x": {
             "color": "#2a3f5f"
            },
            "error_y": {
             "color": "#2a3f5f"
            },
            "marker": {
             "line": {
              "color": "#E5ECF6",
              "width": 0.5
             },
             "pattern": {
              "fillmode": "overlay",
              "size": 10,
              "solidity": 0.2
             }
            },
            "type": "bar"
           }
          ],
          "barpolar": [
           {
            "marker": {
             "line": {
              "color": "#E5ECF6",
              "width": 0.5
             },
             "pattern": {
              "fillmode": "overlay",
              "size": 10,
              "solidity": 0.2
             }
            },
            "type": "barpolar"
           }
          ],
          "carpet": [
           {
            "aaxis": {
             "endlinecolor": "#2a3f5f",
             "gridcolor": "white",
             "linecolor": "white",
             "minorgridcolor": "white",
             "startlinecolor": "#2a3f5f"
            },
            "baxis": {
             "endlinecolor": "#2a3f5f",
             "gridcolor": "white",
             "linecolor": "white",
             "minorgridcolor": "white",
             "startlinecolor": "#2a3f5f"
            },
            "type": "carpet"
           }
          ],
          "choropleth": [
           {
            "colorbar": {
             "outlinewidth": 0,
             "ticks": ""
            },
            "type": "choropleth"
           }
          ],
          "contour": [
           {
            "colorbar": {
             "outlinewidth": 0,
             "ticks": ""
            },
            "colorscale": [
             [
              0,
              "#0d0887"
             ],
             [
              0.1111111111111111,
              "#46039f"
             ],
             [
              0.2222222222222222,
              "#7201a8"
             ],
             [
              0.3333333333333333,
              "#9c179e"
             ],
             [
              0.4444444444444444,
              "#bd3786"
             ],
             [
              0.5555555555555556,
              "#d8576b"
             ],
             [
              0.6666666666666666,
              "#ed7953"
             ],
             [
              0.7777777777777778,
              "#fb9f3a"
             ],
             [
              0.8888888888888888,
              "#fdca26"
             ],
             [
              1,
              "#f0f921"
             ]
            ],
            "type": "contour"
           }
          ],
          "contourcarpet": [
           {
            "colorbar": {
             "outlinewidth": 0,
             "ticks": ""
            },
            "type": "contourcarpet"
           }
          ],
          "heatmap": [
           {
            "colorbar": {
             "outlinewidth": 0,
             "ticks": ""
            },
            "colorscale": [
             [
              0,
              "#0d0887"
             ],
             [
              0.1111111111111111,
              "#46039f"
             ],
             [
              0.2222222222222222,
              "#7201a8"
             ],
             [
              0.3333333333333333,
              "#9c179e"
             ],
             [
              0.4444444444444444,
              "#bd3786"
             ],
             [
              0.5555555555555556,
              "#d8576b"
             ],
             [
              0.6666666666666666,
              "#ed7953"
             ],
             [
              0.7777777777777778,
              "#fb9f3a"
             ],
             [
              0.8888888888888888,
              "#fdca26"
             ],
             [
              1,
              "#f0f921"
             ]
            ],
            "type": "heatmap"
           }
          ],
          "histogram": [
           {
            "marker": {
             "pattern": {
              "fillmode": "overlay",
              "size": 10,
              "solidity": 0.2
             }
            },
            "type": "histogram"
           }
          ],
          "histogram2d": [
           {
            "colorbar": {
             "outlinewidth": 0,
             "ticks": ""
            },
            "colorscale": [
             [
              0,
              "#0d0887"
             ],
             [
              0.1111111111111111,
              "#46039f"
             ],
             [
              0.2222222222222222,
              "#7201a8"
             ],
             [
              0.3333333333333333,
              "#9c179e"
             ],
             [
              0.4444444444444444,
              "#bd3786"
             ],
             [
              0.5555555555555556,
              "#d8576b"
             ],
             [
              0.6666666666666666,
              "#ed7953"
             ],
             [
              0.7777777777777778,
              "#fb9f3a"
             ],
             [
              0.8888888888888888,
              "#fdca26"
             ],
             [
              1,
              "#f0f921"
             ]
            ],
            "type": "histogram2d"
           }
          ],
          "histogram2dcontour": [
           {
            "colorbar": {
             "outlinewidth": 0,
             "ticks": ""
            },
            "colorscale": [
             [
              0,
              "#0d0887"
             ],
             [
              0.1111111111111111,
              "#46039f"
             ],
             [
              0.2222222222222222,
              "#7201a8"
             ],
             [
              0.3333333333333333,
              "#9c179e"
             ],
             [
              0.4444444444444444,
              "#bd3786"
             ],
             [
              0.5555555555555556,
              "#d8576b"
             ],
             [
              0.6666666666666666,
              "#ed7953"
             ],
             [
              0.7777777777777778,
              "#fb9f3a"
             ],
             [
              0.8888888888888888,
              "#fdca26"
             ],
             [
              1,
              "#f0f921"
             ]
            ],
            "type": "histogram2dcontour"
           }
          ],
          "mesh3d": [
           {
            "colorbar": {
             "outlinewidth": 0,
             "ticks": ""
            },
            "type": "mesh3d"
           }
          ],
          "parcoords": [
           {
            "line": {
             "colorbar": {
              "outlinewidth": 0,
              "ticks": ""
             }
            },
            "type": "parcoords"
           }
          ],
          "pie": [
           {
            "automargin": true,
            "type": "pie"
           }
          ],
          "scatter": [
           {
            "fillpattern": {
             "fillmode": "overlay",
             "size": 10,
             "solidity": 0.2
            },
            "type": "scatter"
           }
          ],
          "scatter3d": [
           {
            "line": {
             "colorbar": {
              "outlinewidth": 0,
              "ticks": ""
             }
            },
            "marker": {
             "colorbar": {
              "outlinewidth": 0,
              "ticks": ""
             }
            },
            "type": "scatter3d"
           }
          ],
          "scattercarpet": [
           {
            "marker": {
             "colorbar": {
              "outlinewidth": 0,
              "ticks": ""
             }
            },
            "type": "scattercarpet"
           }
          ],
          "scattergeo": [
           {
            "marker": {
             "colorbar": {
              "outlinewidth": 0,
              "ticks": ""
             }
            },
            "type": "scattergeo"
           }
          ],
          "scattergl": [
           {
            "marker": {
             "colorbar": {
              "outlinewidth": 0,
              "ticks": ""
             }
            },
            "type": "scattergl"
           }
          ],
          "scattermap": [
           {
            "marker": {
             "colorbar": {
              "outlinewidth": 0,
              "ticks": ""
             }
            },
            "type": "scattermap"
           }
          ],
          "scattermapbox": [
           {
            "marker": {
             "colorbar": {
              "outlinewidth": 0,
              "ticks": ""
             }
            },
            "type": "scattermapbox"
           }
          ],
          "scatterpolar": [
           {
            "marker": {
             "colorbar": {
              "outlinewidth": 0,
              "ticks": ""
             }
            },
            "type": "scatterpolar"
           }
          ],
          "scatterpolargl": [
           {
            "marker": {
             "colorbar": {
              "outlinewidth": 0,
              "ticks": ""
             }
            },
            "type": "scatterpolargl"
           }
          ],
          "scatterternary": [
           {
            "marker": {
             "colorbar": {
              "outlinewidth": 0,
              "ticks": ""
             }
            },
            "type": "scatterternary"
           }
          ],
          "surface": [
           {
            "colorbar": {
             "outlinewidth": 0,
             "ticks": ""
            },
            "colorscale": [
             [
              0,
              "#0d0887"
             ],
             [
              0.1111111111111111,
              "#46039f"
             ],
             [
              0.2222222222222222,
              "#7201a8"
             ],
             [
              0.3333333333333333,
              "#9c179e"
             ],
             [
              0.4444444444444444,
              "#bd3786"
             ],
             [
              0.5555555555555556,
              "#d8576b"
             ],
             [
              0.6666666666666666,
              "#ed7953"
             ],
             [
              0.7777777777777778,
              "#fb9f3a"
             ],
             [
              0.8888888888888888,
              "#fdca26"
             ],
             [
              1,
              "#f0f921"
             ]
            ],
            "type": "surface"
           }
          ],
          "table": [
           {
            "cells": {
             "fill": {
              "color": "#EBF0F8"
             },
             "line": {
              "color": "white"
             }
            },
            "header": {
             "fill": {
              "color": "#C8D4E3"
             },
             "line": {
              "color": "white"
             }
            },
            "type": "table"
           }
          ]
         },
         "layout": {
          "annotationdefaults": {
           "arrowcolor": "#2a3f5f",
           "arrowhead": 0,
           "arrowwidth": 1
          },
          "autotypenumbers": "strict",
          "coloraxis": {
           "colorbar": {
            "outlinewidth": 0,
            "ticks": ""
           }
          },
          "colorscale": {
           "diverging": [
            [
             0,
             "#8e0152"
            ],
            [
             0.1,
             "#c51b7d"
            ],
            [
             0.2,
             "#de77ae"
            ],
            [
             0.3,
             "#f1b6da"
            ],
            [
             0.4,
             "#fde0ef"
            ],
            [
             0.5,
             "#f7f7f7"
            ],
            [
             0.6,
             "#e6f5d0"
            ],
            [
             0.7,
             "#b8e186"
            ],
            [
             0.8,
             "#7fbc41"
            ],
            [
             0.9,
             "#4d9221"
            ],
            [
             1,
             "#276419"
            ]
           ],
           "sequential": [
            [
             0,
             "#0d0887"
            ],
            [
             0.1111111111111111,
             "#46039f"
            ],
            [
             0.2222222222222222,
             "#7201a8"
            ],
            [
             0.3333333333333333,
             "#9c179e"
            ],
            [
             0.4444444444444444,
             "#bd3786"
            ],
            [
             0.5555555555555556,
             "#d8576b"
            ],
            [
             0.6666666666666666,
             "#ed7953"
            ],
            [
             0.7777777777777778,
             "#fb9f3a"
            ],
            [
             0.8888888888888888,
             "#fdca26"
            ],
            [
             1,
             "#f0f921"
            ]
           ],
           "sequentialminus": [
            [
             0,
             "#0d0887"
            ],
            [
             0.1111111111111111,
             "#46039f"
            ],
            [
             0.2222222222222222,
             "#7201a8"
            ],
            [
             0.3333333333333333,
             "#9c179e"
            ],
            [
             0.4444444444444444,
             "#bd3786"
            ],
            [
             0.5555555555555556,
             "#d8576b"
            ],
            [
             0.6666666666666666,
             "#ed7953"
            ],
            [
             0.7777777777777778,
             "#fb9f3a"
            ],
            [
             0.8888888888888888,
             "#fdca26"
            ],
            [
             1,
             "#f0f921"
            ]
           ]
          },
          "colorway": [
           "#636efa",
           "#EF553B",
           "#00cc96",
           "#ab63fa",
           "#FFA15A",
           "#19d3f3",
           "#FF6692",
           "#B6E880",
           "#FF97FF",
           "#FECB52"
          ],
          "font": {
           "color": "#2a3f5f"
          },
          "geo": {
           "bgcolor": "white",
           "lakecolor": "white",
           "landcolor": "#E5ECF6",
           "showlakes": true,
           "showland": true,
           "subunitcolor": "white"
          },
          "hoverlabel": {
           "align": "left"
          },
          "hovermode": "closest",
          "mapbox": {
           "style": "light"
          },
          "paper_bgcolor": "white",
          "plot_bgcolor": "#E5ECF6",
          "polar": {
           "angularaxis": {
            "gridcolor": "white",
            "linecolor": "white",
            "ticks": ""
           },
           "bgcolor": "#E5ECF6",
           "radialaxis": {
            "gridcolor": "white",
            "linecolor": "white",
            "ticks": ""
           }
          },
          "scene": {
           "xaxis": {
            "backgroundcolor": "#E5ECF6",
            "gridcolor": "white",
            "gridwidth": 2,
            "linecolor": "white",
            "showbackground": true,
            "ticks": "",
            "zerolinecolor": "white"
           },
           "yaxis": {
            "backgroundcolor": "#E5ECF6",
            "gridcolor": "white",
            "gridwidth": 2,
            "linecolor": "white",
            "showbackground": true,
            "ticks": "",
            "zerolinecolor": "white"
           },
           "zaxis": {
            "backgroundcolor": "#E5ECF6",
            "gridcolor": "white",
            "gridwidth": 2,
            "linecolor": "white",
            "showbackground": true,
            "ticks": "",
            "zerolinecolor": "white"
           }
          },
          "shapedefaults": {
           "line": {
            "color": "#2a3f5f"
           }
          },
          "ternary": {
           "aaxis": {
            "gridcolor": "white",
            "linecolor": "white",
            "ticks": ""
           },
           "baxis": {
            "gridcolor": "white",
            "linecolor": "white",
            "ticks": ""
           },
           "bgcolor": "#E5ECF6",
           "caxis": {
            "gridcolor": "white",
            "linecolor": "white",
            "ticks": ""
           }
          },
          "title": {
           "x": 0.05
          },
          "xaxis": {
           "automargin": true,
           "gridcolor": "white",
           "linecolor": "white",
           "ticks": "",
           "title": {
            "standoff": 15
           },
           "zerolinecolor": "white",
           "zerolinewidth": 2
          },
          "yaxis": {
           "automargin": true,
           "gridcolor": "white",
           "linecolor": "white",
           "ticks": "",
           "title": {
            "standoff": 15
           },
           "zerolinecolor": "white",
           "zerolinewidth": 2
          }
         }
        },
        "title": {
         "text": "Top 10 Topics in 2010"
        },
        "xaxis": {
         "anchor": "y",
         "domain": [
          0,
          1
         ],
         "title": {
          "text": "Occurrences"
         }
        },
        "yaxis": {
         "anchor": "x",
         "categoryarray": [
          "Logic, Reasoning, and Knowledge",
          "Auction Theory and Applications",
          "Distributed Constraint Optimization Problems and Algorithms",
          "Semantic Web and Ontologies",
          "Multi-Agent Systems and Negotiation",
          "Data Management and Algorithms",
          "Game Theory and Voting Systems",
          "Game Theory and Applications",
          "Logic, programming, and type systems",
          "Bayesian Modeling and Causal Inference"
         ],
         "categoryorder": "array",
         "domain": [
          0,
          1
         ],
         "title": {
          "text": "Topic"
         }
        }
       }
      }
     },
     "metadata": {},
     "output_type": "display_data"
    },
    {
     "data": {
      "application/vnd.plotly.v1+json": {
       "config": {
        "plotlyServerURL": "https://plot.ly"
       },
       "data": [
        {
         "hovertemplate": "Topic=%{y}<br>Occurrences=%{x}<extra></extra>",
         "legendgroup": "Sepsis Diagnosis and Treatment",
         "marker": {
          "color": "rgb(248, 156, 116)",
          "pattern": {
           "shape": ""
          }
         },
         "name": "Sepsis Diagnosis and Treatment",
         "orientation": "h",
         "showlegend": true,
         "textposition": "auto",
         "type": "bar",
         "x": {
          "bdata": "AQ==",
          "dtype": "i1"
         },
         "xaxis": "x",
         "y": [
          "Sepsis Diagnosis and Treatment"
         ],
         "yaxis": "y"
        },
        {
         "hovertemplate": "Topic=%{y}<br>Occurrences=%{x}<extra></extra>",
         "legendgroup": "Renal function and acid-base balance",
         "marker": {
          "color": "#B6E880",
          "pattern": {
           "shape": ""
          }
         },
         "name": "Renal function and acid-base balance",
         "orientation": "h",
         "showlegend": true,
         "textposition": "auto",
         "type": "bar",
         "x": {
          "bdata": "AQ==",
          "dtype": "i1"
         },
         "xaxis": "x",
         "y": [
          "Renal function and acid-base balance"
         ],
         "yaxis": "y"
        },
        {
         "hovertemplate": "Topic=%{y}<br>Occurrences=%{x}<extra></extra>",
         "legendgroup": "Bioinformatics and Genomic Networks",
         "marker": {
          "color": "rgb(68, 170, 153)",
          "pattern": {
           "shape": ""
          }
         },
         "name": "Bioinformatics and Genomic Networks",
         "orientation": "h",
         "showlegend": true,
         "textposition": "auto",
         "type": "bar",
         "x": {
          "bdata": "AQ==",
          "dtype": "i1"
         },
         "xaxis": "x",
         "y": [
          "Bioinformatics and Genomic Networks"
         ],
         "yaxis": "y"
        },
        {
         "hovertemplate": "Topic=%{y}<br>Occurrences=%{x}<extra></extra>",
         "legendgroup": "Bayesian Modeling and Causal Inference",
         "marker": {
          "color": "rgb(51, 34, 136)",
          "pattern": {
           "shape": ""
          }
         },
         "name": "Bayesian Modeling and Causal Inference",
         "orientation": "h",
         "showlegend": true,
         "textposition": "auto",
         "type": "bar",
         "x": {
          "bdata": "AQ==",
          "dtype": "i1"
         },
         "xaxis": "x",
         "y": [
          "Bayesian Modeling and Causal Inference"
         ],
         "yaxis": "y"
        },
        {
         "hovertemplate": "Topic=%{y}<br>Occurrences=%{x}<extra></extra>",
         "legendgroup": "Data Quality and Management",
         "marker": {
          "color": "rgb(135, 197, 95)",
          "pattern": {
           "shape": ""
          }
         },
         "name": "Data Quality and Management",
         "orientation": "h",
         "showlegend": true,
         "textposition": "auto",
         "type": "bar",
         "x": {
          "bdata": "Ag==",
          "dtype": "i1"
         },
         "xaxis": "x",
         "y": [
          "Data Quality and Management"
         ],
         "yaxis": "y"
        },
        {
         "hovertemplate": "Topic=%{y}<br>Occurrences=%{x}<extra></extra>",
         "legendgroup": "Business Process Modeling and Analysis",
         "marker": {
          "color": "rgb(102, 197, 204)",
          "pattern": {
           "shape": ""
          }
         },
         "name": "Business Process Modeling and Analysis",
         "orientation": "h",
         "showlegend": true,
         "textposition": "auto",
         "type": "bar",
         "x": {
          "bdata": "Ag==",
          "dtype": "i1"
         },
         "xaxis": "x",
         "y": [
          "Business Process Modeling and Analysis"
         ],
         "yaxis": "y"
        },
        {
         "hovertemplate": "Topic=%{y}<br>Occurrences=%{x}<extra></extra>",
         "legendgroup": "Clinical practice guidelines implementation",
         "marker": {
          "color": "rgb(179, 179, 179)",
          "pattern": {
           "shape": ""
          }
         },
         "name": "Clinical practice guidelines implementation",
         "orientation": "h",
         "showlegend": true,
         "textposition": "auto",
         "type": "bar",
         "x": {
          "bdata": "Ag==",
          "dtype": "i1"
         },
         "xaxis": "x",
         "y": [
          "Clinical practice guidelines implementation"
         ],
         "yaxis": "y"
        },
        {
         "hovertemplate": "Topic=%{y}<br>Occurrences=%{x}<extra></extra>",
         "legendgroup": "Electronic Health Records Systems",
         "marker": {
          "color": "rgb(17, 119, 51)",
          "pattern": {
           "shape": ""
          }
         },
         "name": "Electronic Health Records Systems",
         "orientation": "h",
         "showlegend": true,
         "textposition": "auto",
         "type": "bar",
         "x": {
          "bdata": "Aw==",
          "dtype": "i1"
         },
         "xaxis": "x",
         "y": [
          "Electronic Health Records Systems"
         ],
         "yaxis": "y"
        },
        {
         "hovertemplate": "Topic=%{y}<br>Occurrences=%{x}<extra></extra>",
         "legendgroup": "Semantic Web and Ontologies",
         "marker": {
          "color": "rgb(102, 197, 204)",
          "pattern": {
           "shape": ""
          }
         },
         "name": "Semantic Web and Ontologies",
         "orientation": "h",
         "showlegend": true,
         "textposition": "auto",
         "type": "bar",
         "x": {
          "bdata": "Bw==",
          "dtype": "i1"
         },
         "xaxis": "x",
         "y": [
          "Semantic Web and Ontologies"
         ],
         "yaxis": "y"
        },
        {
         "hovertemplate": "Topic=%{y}<br>Occurrences=%{x}<extra></extra>",
         "legendgroup": "Biomedical Text Mining and Ontologies",
         "marker": {
          "color": "rgb(153, 153, 51)",
          "pattern": {
           "shape": ""
          }
         },
         "name": "Biomedical Text Mining and Ontologies",
         "orientation": "h",
         "showlegend": true,
         "textposition": "auto",
         "type": "bar",
         "x": {
          "bdata": "CQ==",
          "dtype": "i1"
         },
         "xaxis": "x",
         "y": [
          "Biomedical Text Mining and Ontologies"
         ],
         "yaxis": "y"
        }
       ],
       "layout": {
        "barmode": "relative",
        "legend": {
         "title": {
          "text": "Topic"
         },
         "tracegroupgap": 0
        },
        "showlegend": false,
        "template": {
         "data": {
          "bar": [
           {
            "error_x": {
             "color": "#2a3f5f"
            },
            "error_y": {
             "color": "#2a3f5f"
            },
            "marker": {
             "line": {
              "color": "#E5ECF6",
              "width": 0.5
             },
             "pattern": {
              "fillmode": "overlay",
              "size": 10,
              "solidity": 0.2
             }
            },
            "type": "bar"
           }
          ],
          "barpolar": [
           {
            "marker": {
             "line": {
              "color": "#E5ECF6",
              "width": 0.5
             },
             "pattern": {
              "fillmode": "overlay",
              "size": 10,
              "solidity": 0.2
             }
            },
            "type": "barpolar"
           }
          ],
          "carpet": [
           {
            "aaxis": {
             "endlinecolor": "#2a3f5f",
             "gridcolor": "white",
             "linecolor": "white",
             "minorgridcolor": "white",
             "startlinecolor": "#2a3f5f"
            },
            "baxis": {
             "endlinecolor": "#2a3f5f",
             "gridcolor": "white",
             "linecolor": "white",
             "minorgridcolor": "white",
             "startlinecolor": "#2a3f5f"
            },
            "type": "carpet"
           }
          ],
          "choropleth": [
           {
            "colorbar": {
             "outlinewidth": 0,
             "ticks": ""
            },
            "type": "choropleth"
           }
          ],
          "contour": [
           {
            "colorbar": {
             "outlinewidth": 0,
             "ticks": ""
            },
            "colorscale": [
             [
              0,
              "#0d0887"
             ],
             [
              0.1111111111111111,
              "#46039f"
             ],
             [
              0.2222222222222222,
              "#7201a8"
             ],
             [
              0.3333333333333333,
              "#9c179e"
             ],
             [
              0.4444444444444444,
              "#bd3786"
             ],
             [
              0.5555555555555556,
              "#d8576b"
             ],
             [
              0.6666666666666666,
              "#ed7953"
             ],
             [
              0.7777777777777778,
              "#fb9f3a"
             ],
             [
              0.8888888888888888,
              "#fdca26"
             ],
             [
              1,
              "#f0f921"
             ]
            ],
            "type": "contour"
           }
          ],
          "contourcarpet": [
           {
            "colorbar": {
             "outlinewidth": 0,
             "ticks": ""
            },
            "type": "contourcarpet"
           }
          ],
          "heatmap": [
           {
            "colorbar": {
             "outlinewidth": 0,
             "ticks": ""
            },
            "colorscale": [
             [
              0,
              "#0d0887"
             ],
             [
              0.1111111111111111,
              "#46039f"
             ],
             [
              0.2222222222222222,
              "#7201a8"
             ],
             [
              0.3333333333333333,
              "#9c179e"
             ],
             [
              0.4444444444444444,
              "#bd3786"
             ],
             [
              0.5555555555555556,
              "#d8576b"
             ],
             [
              0.6666666666666666,
              "#ed7953"
             ],
             [
              0.7777777777777778,
              "#fb9f3a"
             ],
             [
              0.8888888888888888,
              "#fdca26"
             ],
             [
              1,
              "#f0f921"
             ]
            ],
            "type": "heatmap"
           }
          ],
          "histogram": [
           {
            "marker": {
             "pattern": {
              "fillmode": "overlay",
              "size": 10,
              "solidity": 0.2
             }
            },
            "type": "histogram"
           }
          ],
          "histogram2d": [
           {
            "colorbar": {
             "outlinewidth": 0,
             "ticks": ""
            },
            "colorscale": [
             [
              0,
              "#0d0887"
             ],
             [
              0.1111111111111111,
              "#46039f"
             ],
             [
              0.2222222222222222,
              "#7201a8"
             ],
             [
              0.3333333333333333,
              "#9c179e"
             ],
             [
              0.4444444444444444,
              "#bd3786"
             ],
             [
              0.5555555555555556,
              "#d8576b"
             ],
             [
              0.6666666666666666,
              "#ed7953"
             ],
             [
              0.7777777777777778,
              "#fb9f3a"
             ],
             [
              0.8888888888888888,
              "#fdca26"
             ],
             [
              1,
              "#f0f921"
             ]
            ],
            "type": "histogram2d"
           }
          ],
          "histogram2dcontour": [
           {
            "colorbar": {
             "outlinewidth": 0,
             "ticks": ""
            },
            "colorscale": [
             [
              0,
              "#0d0887"
             ],
             [
              0.1111111111111111,
              "#46039f"
             ],
             [
              0.2222222222222222,
              "#7201a8"
             ],
             [
              0.3333333333333333,
              "#9c179e"
             ],
             [
              0.4444444444444444,
              "#bd3786"
             ],
             [
              0.5555555555555556,
              "#d8576b"
             ],
             [
              0.6666666666666666,
              "#ed7953"
             ],
             [
              0.7777777777777778,
              "#fb9f3a"
             ],
             [
              0.8888888888888888,
              "#fdca26"
             ],
             [
              1,
              "#f0f921"
             ]
            ],
            "type": "histogram2dcontour"
           }
          ],
          "mesh3d": [
           {
            "colorbar": {
             "outlinewidth": 0,
             "ticks": ""
            },
            "type": "mesh3d"
           }
          ],
          "parcoords": [
           {
            "line": {
             "colorbar": {
              "outlinewidth": 0,
              "ticks": ""
             }
            },
            "type": "parcoords"
           }
          ],
          "pie": [
           {
            "automargin": true,
            "type": "pie"
           }
          ],
          "scatter": [
           {
            "fillpattern": {
             "fillmode": "overlay",
             "size": 10,
             "solidity": 0.2
            },
            "type": "scatter"
           }
          ],
          "scatter3d": [
           {
            "line": {
             "colorbar": {
              "outlinewidth": 0,
              "ticks": ""
             }
            },
            "marker": {
             "colorbar": {
              "outlinewidth": 0,
              "ticks": ""
             }
            },
            "type": "scatter3d"
           }
          ],
          "scattercarpet": [
           {
            "marker": {
             "colorbar": {
              "outlinewidth": 0,
              "ticks": ""
             }
            },
            "type": "scattercarpet"
           }
          ],
          "scattergeo": [
           {
            "marker": {
             "colorbar": {
              "outlinewidth": 0,
              "ticks": ""
             }
            },
            "type": "scattergeo"
           }
          ],
          "scattergl": [
           {
            "marker": {
             "colorbar": {
              "outlinewidth": 0,
              "ticks": ""
             }
            },
            "type": "scattergl"
           }
          ],
          "scattermap": [
           {
            "marker": {
             "colorbar": {
              "outlinewidth": 0,
              "ticks": ""
             }
            },
            "type": "scattermap"
           }
          ],
          "scattermapbox": [
           {
            "marker": {
             "colorbar": {
              "outlinewidth": 0,
              "ticks": ""
             }
            },
            "type": "scattermapbox"
           }
          ],
          "scatterpolar": [
           {
            "marker": {
             "colorbar": {
              "outlinewidth": 0,
              "ticks": ""
             }
            },
            "type": "scatterpolar"
           }
          ],
          "scatterpolargl": [
           {
            "marker": {
             "colorbar": {
              "outlinewidth": 0,
              "ticks": ""
             }
            },
            "type": "scatterpolargl"
           }
          ],
          "scatterternary": [
           {
            "marker": {
             "colorbar": {
              "outlinewidth": 0,
              "ticks": ""
             }
            },
            "type": "scatterternary"
           }
          ],
          "surface": [
           {
            "colorbar": {
             "outlinewidth": 0,
             "ticks": ""
            },
            "colorscale": [
             [
              0,
              "#0d0887"
             ],
             [
              0.1111111111111111,
              "#46039f"
             ],
             [
              0.2222222222222222,
              "#7201a8"
             ],
             [
              0.3333333333333333,
              "#9c179e"
             ],
             [
              0.4444444444444444,
              "#bd3786"
             ],
             [
              0.5555555555555556,
              "#d8576b"
             ],
             [
              0.6666666666666666,
              "#ed7953"
             ],
             [
              0.7777777777777778,
              "#fb9f3a"
             ],
             [
              0.8888888888888888,
              "#fdca26"
             ],
             [
              1,
              "#f0f921"
             ]
            ],
            "type": "surface"
           }
          ],
          "table": [
           {
            "cells": {
             "fill": {
              "color": "#EBF0F8"
             },
             "line": {
              "color": "white"
             }
            },
            "header": {
             "fill": {
              "color": "#C8D4E3"
             },
             "line": {
              "color": "white"
             }
            },
            "type": "table"
           }
          ]
         },
         "layout": {
          "annotationdefaults": {
           "arrowcolor": "#2a3f5f",
           "arrowhead": 0,
           "arrowwidth": 1
          },
          "autotypenumbers": "strict",
          "coloraxis": {
           "colorbar": {
            "outlinewidth": 0,
            "ticks": ""
           }
          },
          "colorscale": {
           "diverging": [
            [
             0,
             "#8e0152"
            ],
            [
             0.1,
             "#c51b7d"
            ],
            [
             0.2,
             "#de77ae"
            ],
            [
             0.3,
             "#f1b6da"
            ],
            [
             0.4,
             "#fde0ef"
            ],
            [
             0.5,
             "#f7f7f7"
            ],
            [
             0.6,
             "#e6f5d0"
            ],
            [
             0.7,
             "#b8e186"
            ],
            [
             0.8,
             "#7fbc41"
            ],
            [
             0.9,
             "#4d9221"
            ],
            [
             1,
             "#276419"
            ]
           ],
           "sequential": [
            [
             0,
             "#0d0887"
            ],
            [
             0.1111111111111111,
             "#46039f"
            ],
            [
             0.2222222222222222,
             "#7201a8"
            ],
            [
             0.3333333333333333,
             "#9c179e"
            ],
            [
             0.4444444444444444,
             "#bd3786"
            ],
            [
             0.5555555555555556,
             "#d8576b"
            ],
            [
             0.6666666666666666,
             "#ed7953"
            ],
            [
             0.7777777777777778,
             "#fb9f3a"
            ],
            [
             0.8888888888888888,
             "#fdca26"
            ],
            [
             1,
             "#f0f921"
            ]
           ],
           "sequentialminus": [
            [
             0,
             "#0d0887"
            ],
            [
             0.1111111111111111,
             "#46039f"
            ],
            [
             0.2222222222222222,
             "#7201a8"
            ],
            [
             0.3333333333333333,
             "#9c179e"
            ],
            [
             0.4444444444444444,
             "#bd3786"
            ],
            [
             0.5555555555555556,
             "#d8576b"
            ],
            [
             0.6666666666666666,
             "#ed7953"
            ],
            [
             0.7777777777777778,
             "#fb9f3a"
            ],
            [
             0.8888888888888888,
             "#fdca26"
            ],
            [
             1,
             "#f0f921"
            ]
           ]
          },
          "colorway": [
           "#636efa",
           "#EF553B",
           "#00cc96",
           "#ab63fa",
           "#FFA15A",
           "#19d3f3",
           "#FF6692",
           "#B6E880",
           "#FF97FF",
           "#FECB52"
          ],
          "font": {
           "color": "#2a3f5f"
          },
          "geo": {
           "bgcolor": "white",
           "lakecolor": "white",
           "landcolor": "#E5ECF6",
           "showlakes": true,
           "showland": true,
           "subunitcolor": "white"
          },
          "hoverlabel": {
           "align": "left"
          },
          "hovermode": "closest",
          "mapbox": {
           "style": "light"
          },
          "paper_bgcolor": "white",
          "plot_bgcolor": "#E5ECF6",
          "polar": {
           "angularaxis": {
            "gridcolor": "white",
            "linecolor": "white",
            "ticks": ""
           },
           "bgcolor": "#E5ECF6",
           "radialaxis": {
            "gridcolor": "white",
            "linecolor": "white",
            "ticks": ""
           }
          },
          "scene": {
           "xaxis": {
            "backgroundcolor": "#E5ECF6",
            "gridcolor": "white",
            "gridwidth": 2,
            "linecolor": "white",
            "showbackground": true,
            "ticks": "",
            "zerolinecolor": "white"
           },
           "yaxis": {
            "backgroundcolor": "#E5ECF6",
            "gridcolor": "white",
            "gridwidth": 2,
            "linecolor": "white",
            "showbackground": true,
            "ticks": "",
            "zerolinecolor": "white"
           },
           "zaxis": {
            "backgroundcolor": "#E5ECF6",
            "gridcolor": "white",
            "gridwidth": 2,
            "linecolor": "white",
            "showbackground": true,
            "ticks": "",
            "zerolinecolor": "white"
           }
          },
          "shapedefaults": {
           "line": {
            "color": "#2a3f5f"
           }
          },
          "ternary": {
           "aaxis": {
            "gridcolor": "white",
            "linecolor": "white",
            "ticks": ""
           },
           "baxis": {
            "gridcolor": "white",
            "linecolor": "white",
            "ticks": ""
           },
           "bgcolor": "#E5ECF6",
           "caxis": {
            "gridcolor": "white",
            "linecolor": "white",
            "ticks": ""
           }
          },
          "title": {
           "x": 0.05
          },
          "xaxis": {
           "automargin": true,
           "gridcolor": "white",
           "linecolor": "white",
           "ticks": "",
           "title": {
            "standoff": 15
           },
           "zerolinecolor": "white",
           "zerolinewidth": 2
          },
          "yaxis": {
           "automargin": true,
           "gridcolor": "white",
           "linecolor": "white",
           "ticks": "",
           "title": {
            "standoff": 15
           },
           "zerolinecolor": "white",
           "zerolinewidth": 2
          }
         }
        },
        "title": {
         "text": "Top 10 Topics in 2011"
        },
        "xaxis": {
         "anchor": "y",
         "domain": [
          0,
          1
         ],
         "title": {
          "text": "Occurrences"
         }
        },
        "yaxis": {
         "anchor": "x",
         "categoryarray": [
          "Biomedical Text Mining and Ontologies",
          "Semantic Web and Ontologies",
          "Electronic Health Records Systems",
          "Clinical practice guidelines implementation",
          "Business Process Modeling and Analysis",
          "Data Quality and Management",
          "Bayesian Modeling and Causal Inference",
          "Bioinformatics and Genomic Networks",
          "Renal function and acid-base balance",
          "Sepsis Diagnosis and Treatment"
         ],
         "categoryorder": "array",
         "domain": [
          0,
          1
         ],
         "title": {
          "text": "Topic"
         }
        }
       }
      }
     },
     "metadata": {},
     "output_type": "display_data"
    },
    {
     "data": {
      "application/vnd.plotly.v1+json": {
       "config": {
        "plotlyServerURL": "https://plot.ly"
       },
       "data": [
        {
         "hovertemplate": "Topic=%{y}<br>Occurrences=%{x}<extra></extra>",
         "legendgroup": "Game Theory and Voting Systems",
         "marker": {
          "color": "#19D3F3",
          "pattern": {
           "shape": ""
          }
         },
         "name": "Game Theory and Voting Systems",
         "orientation": "h",
         "showlegend": true,
         "textposition": "auto",
         "type": "bar",
         "x": {
          "bdata": "DQ==",
          "dtype": "i1"
         },
         "xaxis": "x",
         "y": [
          "Game Theory and Voting Systems"
         ],
         "yaxis": "y"
        },
        {
         "hovertemplate": "Topic=%{y}<br>Occurrences=%{x}<extra></extra>",
         "legendgroup": "Data Management and Algorithms",
         "marker": {
          "color": "rgb(248, 156, 116)",
          "pattern": {
           "shape": ""
          }
         },
         "name": "Data Management and Algorithms",
         "orientation": "h",
         "showlegend": true,
         "textposition": "auto",
         "type": "bar",
         "x": {
          "bdata": "Dg==",
          "dtype": "i1"
         },
         "xaxis": "x",
         "y": [
          "Data Management and Algorithms"
         ],
         "yaxis": "y"
        },
        {
         "hovertemplate": "Topic=%{y}<br>Occurrences=%{x}<extra></extra>",
         "legendgroup": "Natural Language Processing Techniques",
         "marker": {
          "color": "#AB63FA",
          "pattern": {
           "shape": ""
          }
         },
         "name": "Natural Language Processing Techniques",
         "orientation": "h",
         "showlegend": true,
         "textposition": "auto",
         "type": "bar",
         "x": {
          "bdata": "Dg==",
          "dtype": "i1"
         },
         "xaxis": "x",
         "y": [
          "Natural Language Processing Techniques"
         ],
         "yaxis": "y"
        },
        {
         "hovertemplate": "Topic=%{y}<br>Occurrences=%{x}<extra></extra>",
         "legendgroup": "Formal Methods in Verification",
         "marker": {
          "color": "rgb(124, 124, 124)",
          "pattern": {
           "shape": ""
          }
         },
         "name": "Formal Methods in Verification",
         "orientation": "h",
         "showlegend": true,
         "textposition": "auto",
         "type": "bar",
         "x": {
          "bdata": "Dg==",
          "dtype": "i1"
         },
         "xaxis": "x",
         "y": [
          "Formal Methods in Verification"
         ],
         "yaxis": "y"
        },
        {
         "hovertemplate": "Topic=%{y}<br>Occurrences=%{x}<extra></extra>",
         "legendgroup": "Auction Theory and Applications",
         "marker": {
          "color": "#FF97FF",
          "pattern": {
           "shape": ""
          }
         },
         "name": "Auction Theory and Applications",
         "orientation": "h",
         "showlegend": true,
         "textposition": "auto",
         "type": "bar",
         "x": {
          "bdata": "FQ==",
          "dtype": "i1"
         },
         "xaxis": "x",
         "y": [
          "Auction Theory and Applications"
         ],
         "yaxis": "y"
        },
        {
         "hovertemplate": "Topic=%{y}<br>Occurrences=%{x}<extra></extra>",
         "legendgroup": "Multi-Agent Systems and Negotiation",
         "marker": {
          "color": "rgb(160, 97, 119)",
          "pattern": {
           "shape": ""
          }
         },
         "name": "Multi-Agent Systems and Negotiation",
         "orientation": "h",
         "showlegend": true,
         "textposition": "auto",
         "type": "bar",
         "x": {
          "bdata": "FQ==",
          "dtype": "i1"
         },
         "xaxis": "x",
         "y": [
          "Multi-Agent Systems and Negotiation"
         ],
         "yaxis": "y"
        },
        {
         "hovertemplate": "Topic=%{y}<br>Occurrences=%{x}<extra></extra>",
         "legendgroup": "AI-based Problem Solving and Planning",
         "marker": {
          "color": "#636EFA",
          "pattern": {
           "shape": ""
          }
         },
         "name": "AI-based Problem Solving and Planning",
         "orientation": "h",
         "showlegend": true,
         "textposition": "auto",
         "type": "bar",
         "x": {
          "bdata": "Gw==",
          "dtype": "i1"
         },
         "xaxis": "x",
         "y": [
          "AI-based Problem Solving and Planning"
         ],
         "yaxis": "y"
        },
        {
         "hovertemplate": "Topic=%{y}<br>Occurrences=%{x}<extra></extra>",
         "legendgroup": "Distributed Constraint Optimization Problems and Algorithms",
         "marker": {
          "color": "rgb(98, 83, 119)",
          "pattern": {
           "shape": ""
          }
         },
         "name": "Distributed Constraint Optimization Problems and Algorithms",
         "orientation": "h",
         "showlegend": true,
         "textposition": "auto",
         "type": "bar",
         "x": {
          "bdata": "IA==",
          "dtype": "i1"
         },
         "xaxis": "x",
         "y": [
          "Distributed Constraint Optimization Problems and Algorithms"
         ],
         "yaxis": "y"
        },
        {
         "hovertemplate": "Topic=%{y}<br>Occurrences=%{x}<extra></extra>",
         "legendgroup": "Semantic Web and Ontologies",
         "marker": {
          "color": "rgb(102, 197, 204)",
          "pattern": {
           "shape": ""
          }
         },
         "name": "Semantic Web and Ontologies",
         "orientation": "h",
         "showlegend": true,
         "textposition": "auto",
         "type": "bar",
         "x": {
          "bdata": "Iw==",
          "dtype": "i1"
         },
         "xaxis": "x",
         "y": [
          "Semantic Web and Ontologies"
         ],
         "yaxis": "y"
        },
        {
         "hovertemplate": "Topic=%{y}<br>Occurrences=%{x}<extra></extra>",
         "legendgroup": "Logic, Reasoning, and Knowledge",
         "marker": {
          "color": "rgb(68, 170, 153)",
          "pattern": {
           "shape": ""
          }
         },
         "name": "Logic, Reasoning, and Knowledge",
         "orientation": "h",
         "showlegend": true,
         "textposition": "auto",
         "type": "bar",
         "x": {
          "bdata": "MA==",
          "dtype": "i1"
         },
         "xaxis": "x",
         "y": [
          "Logic, Reasoning, and Knowledge"
         ],
         "yaxis": "y"
        }
       ],
       "layout": {
        "barmode": "relative",
        "legend": {
         "title": {
          "text": "Topic"
         },
         "tracegroupgap": 0
        },
        "showlegend": false,
        "template": {
         "data": {
          "bar": [
           {
            "error_x": {
             "color": "#2a3f5f"
            },
            "error_y": {
             "color": "#2a3f5f"
            },
            "marker": {
             "line": {
              "color": "#E5ECF6",
              "width": 0.5
             },
             "pattern": {
              "fillmode": "overlay",
              "size": 10,
              "solidity": 0.2
             }
            },
            "type": "bar"
           }
          ],
          "barpolar": [
           {
            "marker": {
             "line": {
              "color": "#E5ECF6",
              "width": 0.5
             },
             "pattern": {
              "fillmode": "overlay",
              "size": 10,
              "solidity": 0.2
             }
            },
            "type": "barpolar"
           }
          ],
          "carpet": [
           {
            "aaxis": {
             "endlinecolor": "#2a3f5f",
             "gridcolor": "white",
             "linecolor": "white",
             "minorgridcolor": "white",
             "startlinecolor": "#2a3f5f"
            },
            "baxis": {
             "endlinecolor": "#2a3f5f",
             "gridcolor": "white",
             "linecolor": "white",
             "minorgridcolor": "white",
             "startlinecolor": "#2a3f5f"
            },
            "type": "carpet"
           }
          ],
          "choropleth": [
           {
            "colorbar": {
             "outlinewidth": 0,
             "ticks": ""
            },
            "type": "choropleth"
           }
          ],
          "contour": [
           {
            "colorbar": {
             "outlinewidth": 0,
             "ticks": ""
            },
            "colorscale": [
             [
              0,
              "#0d0887"
             ],
             [
              0.1111111111111111,
              "#46039f"
             ],
             [
              0.2222222222222222,
              "#7201a8"
             ],
             [
              0.3333333333333333,
              "#9c179e"
             ],
             [
              0.4444444444444444,
              "#bd3786"
             ],
             [
              0.5555555555555556,
              "#d8576b"
             ],
             [
              0.6666666666666666,
              "#ed7953"
             ],
             [
              0.7777777777777778,
              "#fb9f3a"
             ],
             [
              0.8888888888888888,
              "#fdca26"
             ],
             [
              1,
              "#f0f921"
             ]
            ],
            "type": "contour"
           }
          ],
          "contourcarpet": [
           {
            "colorbar": {
             "outlinewidth": 0,
             "ticks": ""
            },
            "type": "contourcarpet"
           }
          ],
          "heatmap": [
           {
            "colorbar": {
             "outlinewidth": 0,
             "ticks": ""
            },
            "colorscale": [
             [
              0,
              "#0d0887"
             ],
             [
              0.1111111111111111,
              "#46039f"
             ],
             [
              0.2222222222222222,
              "#7201a8"
             ],
             [
              0.3333333333333333,
              "#9c179e"
             ],
             [
              0.4444444444444444,
              "#bd3786"
             ],
             [
              0.5555555555555556,
              "#d8576b"
             ],
             [
              0.6666666666666666,
              "#ed7953"
             ],
             [
              0.7777777777777778,
              "#fb9f3a"
             ],
             [
              0.8888888888888888,
              "#fdca26"
             ],
             [
              1,
              "#f0f921"
             ]
            ],
            "type": "heatmap"
           }
          ],
          "histogram": [
           {
            "marker": {
             "pattern": {
              "fillmode": "overlay",
              "size": 10,
              "solidity": 0.2
             }
            },
            "type": "histogram"
           }
          ],
          "histogram2d": [
           {
            "colorbar": {
             "outlinewidth": 0,
             "ticks": ""
            },
            "colorscale": [
             [
              0,
              "#0d0887"
             ],
             [
              0.1111111111111111,
              "#46039f"
             ],
             [
              0.2222222222222222,
              "#7201a8"
             ],
             [
              0.3333333333333333,
              "#9c179e"
             ],
             [
              0.4444444444444444,
              "#bd3786"
             ],
             [
              0.5555555555555556,
              "#d8576b"
             ],
             [
              0.6666666666666666,
              "#ed7953"
             ],
             [
              0.7777777777777778,
              "#fb9f3a"
             ],
             [
              0.8888888888888888,
              "#fdca26"
             ],
             [
              1,
              "#f0f921"
             ]
            ],
            "type": "histogram2d"
           }
          ],
          "histogram2dcontour": [
           {
            "colorbar": {
             "outlinewidth": 0,
             "ticks": ""
            },
            "colorscale": [
             [
              0,
              "#0d0887"
             ],
             [
              0.1111111111111111,
              "#46039f"
             ],
             [
              0.2222222222222222,
              "#7201a8"
             ],
             [
              0.3333333333333333,
              "#9c179e"
             ],
             [
              0.4444444444444444,
              "#bd3786"
             ],
             [
              0.5555555555555556,
              "#d8576b"
             ],
             [
              0.6666666666666666,
              "#ed7953"
             ],
             [
              0.7777777777777778,
              "#fb9f3a"
             ],
             [
              0.8888888888888888,
              "#fdca26"
             ],
             [
              1,
              "#f0f921"
             ]
            ],
            "type": "histogram2dcontour"
           }
          ],
          "mesh3d": [
           {
            "colorbar": {
             "outlinewidth": 0,
             "ticks": ""
            },
            "type": "mesh3d"
           }
          ],
          "parcoords": [
           {
            "line": {
             "colorbar": {
              "outlinewidth": 0,
              "ticks": ""
             }
            },
            "type": "parcoords"
           }
          ],
          "pie": [
           {
            "automargin": true,
            "type": "pie"
           }
          ],
          "scatter": [
           {
            "fillpattern": {
             "fillmode": "overlay",
             "size": 10,
             "solidity": 0.2
            },
            "type": "scatter"
           }
          ],
          "scatter3d": [
           {
            "line": {
             "colorbar": {
              "outlinewidth": 0,
              "ticks": ""
             }
            },
            "marker": {
             "colorbar": {
              "outlinewidth": 0,
              "ticks": ""
             }
            },
            "type": "scatter3d"
           }
          ],
          "scattercarpet": [
           {
            "marker": {
             "colorbar": {
              "outlinewidth": 0,
              "ticks": ""
             }
            },
            "type": "scattercarpet"
           }
          ],
          "scattergeo": [
           {
            "marker": {
             "colorbar": {
              "outlinewidth": 0,
              "ticks": ""
             }
            },
            "type": "scattergeo"
           }
          ],
          "scattergl": [
           {
            "marker": {
             "colorbar": {
              "outlinewidth": 0,
              "ticks": ""
             }
            },
            "type": "scattergl"
           }
          ],
          "scattermap": [
           {
            "marker": {
             "colorbar": {
              "outlinewidth": 0,
              "ticks": ""
             }
            },
            "type": "scattermap"
           }
          ],
          "scattermapbox": [
           {
            "marker": {
             "colorbar": {
              "outlinewidth": 0,
              "ticks": ""
             }
            },
            "type": "scattermapbox"
           }
          ],
          "scatterpolar": [
           {
            "marker": {
             "colorbar": {
              "outlinewidth": 0,
              "ticks": ""
             }
            },
            "type": "scatterpolar"
           }
          ],
          "scatterpolargl": [
           {
            "marker": {
             "colorbar": {
              "outlinewidth": 0,
              "ticks": ""
             }
            },
            "type": "scatterpolargl"
           }
          ],
          "scatterternary": [
           {
            "marker": {
             "colorbar": {
              "outlinewidth": 0,
              "ticks": ""
             }
            },
            "type": "scatterternary"
           }
          ],
          "surface": [
           {
            "colorbar": {
             "outlinewidth": 0,
             "ticks": ""
            },
            "colorscale": [
             [
              0,
              "#0d0887"
             ],
             [
              0.1111111111111111,
              "#46039f"
             ],
             [
              0.2222222222222222,
              "#7201a8"
             ],
             [
              0.3333333333333333,
              "#9c179e"
             ],
             [
              0.4444444444444444,
              "#bd3786"
             ],
             [
              0.5555555555555556,
              "#d8576b"
             ],
             [
              0.6666666666666666,
              "#ed7953"
             ],
             [
              0.7777777777777778,
              "#fb9f3a"
             ],
             [
              0.8888888888888888,
              "#fdca26"
             ],
             [
              1,
              "#f0f921"
             ]
            ],
            "type": "surface"
           }
          ],
          "table": [
           {
            "cells": {
             "fill": {
              "color": "#EBF0F8"
             },
             "line": {
              "color": "white"
             }
            },
            "header": {
             "fill": {
              "color": "#C8D4E3"
             },
             "line": {
              "color": "white"
             }
            },
            "type": "table"
           }
          ]
         },
         "layout": {
          "annotationdefaults": {
           "arrowcolor": "#2a3f5f",
           "arrowhead": 0,
           "arrowwidth": 1
          },
          "autotypenumbers": "strict",
          "coloraxis": {
           "colorbar": {
            "outlinewidth": 0,
            "ticks": ""
           }
          },
          "colorscale": {
           "diverging": [
            [
             0,
             "#8e0152"
            ],
            [
             0.1,
             "#c51b7d"
            ],
            [
             0.2,
             "#de77ae"
            ],
            [
             0.3,
             "#f1b6da"
            ],
            [
             0.4,
             "#fde0ef"
            ],
            [
             0.5,
             "#f7f7f7"
            ],
            [
             0.6,
             "#e6f5d0"
            ],
            [
             0.7,
             "#b8e186"
            ],
            [
             0.8,
             "#7fbc41"
            ],
            [
             0.9,
             "#4d9221"
            ],
            [
             1,
             "#276419"
            ]
           ],
           "sequential": [
            [
             0,
             "#0d0887"
            ],
            [
             0.1111111111111111,
             "#46039f"
            ],
            [
             0.2222222222222222,
             "#7201a8"
            ],
            [
             0.3333333333333333,
             "#9c179e"
            ],
            [
             0.4444444444444444,
             "#bd3786"
            ],
            [
             0.5555555555555556,
             "#d8576b"
            ],
            [
             0.6666666666666666,
             "#ed7953"
            ],
            [
             0.7777777777777778,
             "#fb9f3a"
            ],
            [
             0.8888888888888888,
             "#fdca26"
            ],
            [
             1,
             "#f0f921"
            ]
           ],
           "sequentialminus": [
            [
             0,
             "#0d0887"
            ],
            [
             0.1111111111111111,
             "#46039f"
            ],
            [
             0.2222222222222222,
             "#7201a8"
            ],
            [
             0.3333333333333333,
             "#9c179e"
            ],
            [
             0.4444444444444444,
             "#bd3786"
            ],
            [
             0.5555555555555556,
             "#d8576b"
            ],
            [
             0.6666666666666666,
             "#ed7953"
            ],
            [
             0.7777777777777778,
             "#fb9f3a"
            ],
            [
             0.8888888888888888,
             "#fdca26"
            ],
            [
             1,
             "#f0f921"
            ]
           ]
          },
          "colorway": [
           "#636efa",
           "#EF553B",
           "#00cc96",
           "#ab63fa",
           "#FFA15A",
           "#19d3f3",
           "#FF6692",
           "#B6E880",
           "#FF97FF",
           "#FECB52"
          ],
          "font": {
           "color": "#2a3f5f"
          },
          "geo": {
           "bgcolor": "white",
           "lakecolor": "white",
           "landcolor": "#E5ECF6",
           "showlakes": true,
           "showland": true,
           "subunitcolor": "white"
          },
          "hoverlabel": {
           "align": "left"
          },
          "hovermode": "closest",
          "mapbox": {
           "style": "light"
          },
          "paper_bgcolor": "white",
          "plot_bgcolor": "#E5ECF6",
          "polar": {
           "angularaxis": {
            "gridcolor": "white",
            "linecolor": "white",
            "ticks": ""
           },
           "bgcolor": "#E5ECF6",
           "radialaxis": {
            "gridcolor": "white",
            "linecolor": "white",
            "ticks": ""
           }
          },
          "scene": {
           "xaxis": {
            "backgroundcolor": "#E5ECF6",
            "gridcolor": "white",
            "gridwidth": 2,
            "linecolor": "white",
            "showbackground": true,
            "ticks": "",
            "zerolinecolor": "white"
           },
           "yaxis": {
            "backgroundcolor": "#E5ECF6",
            "gridcolor": "white",
            "gridwidth": 2,
            "linecolor": "white",
            "showbackground": true,
            "ticks": "",
            "zerolinecolor": "white"
           },
           "zaxis": {
            "backgroundcolor": "#E5ECF6",
            "gridcolor": "white",
            "gridwidth": 2,
            "linecolor": "white",
            "showbackground": true,
            "ticks": "",
            "zerolinecolor": "white"
           }
          },
          "shapedefaults": {
           "line": {
            "color": "#2a3f5f"
           }
          },
          "ternary": {
           "aaxis": {
            "gridcolor": "white",
            "linecolor": "white",
            "ticks": ""
           },
           "baxis": {
            "gridcolor": "white",
            "linecolor": "white",
            "ticks": ""
           },
           "bgcolor": "#E5ECF6",
           "caxis": {
            "gridcolor": "white",
            "linecolor": "white",
            "ticks": ""
           }
          },
          "title": {
           "x": 0.05
          },
          "xaxis": {
           "automargin": true,
           "gridcolor": "white",
           "linecolor": "white",
           "ticks": "",
           "title": {
            "standoff": 15
           },
           "zerolinecolor": "white",
           "zerolinewidth": 2
          },
          "yaxis": {
           "automargin": true,
           "gridcolor": "white",
           "linecolor": "white",
           "ticks": "",
           "title": {
            "standoff": 15
           },
           "zerolinecolor": "white",
           "zerolinewidth": 2
          }
         }
        },
        "title": {
         "text": "Top 10 Topics in 2012"
        },
        "xaxis": {
         "anchor": "y",
         "domain": [
          0,
          1
         ],
         "title": {
          "text": "Occurrences"
         }
        },
        "yaxis": {
         "anchor": "x",
         "categoryarray": [
          "Logic, Reasoning, and Knowledge",
          "Semantic Web and Ontologies",
          "Distributed Constraint Optimization Problems and Algorithms",
          "AI-based Problem Solving and Planning",
          "Multi-Agent Systems and Negotiation",
          "Auction Theory and Applications",
          "Formal Methods in Verification",
          "Natural Language Processing Techniques",
          "Data Management and Algorithms",
          "Game Theory and Voting Systems"
         ],
         "categoryorder": "array",
         "domain": [
          0,
          1
         ],
         "title": {
          "text": "Topic"
         }
        }
       }
      }
     },
     "metadata": {},
     "output_type": "display_data"
    },
    {
     "data": {
      "application/vnd.plotly.v1+json": {
       "config": {
        "plotlyServerURL": "https://plot.ly"
       },
       "data": [
        {
         "hovertemplate": "Topic=%{y}<br>Occurrences=%{x}<extra></extra>",
         "legendgroup": "Game Theory and Applications",
         "marker": {
          "color": "#FFA15A",
          "pattern": {
           "shape": ""
          }
         },
         "name": "Game Theory and Applications",
         "orientation": "h",
         "showlegend": true,
         "textposition": "auto",
         "type": "bar",
         "x": {
          "bdata": "Dg==",
          "dtype": "i1"
         },
         "xaxis": "x",
         "y": [
          "Game Theory and Applications"
         ],
         "yaxis": "y"
        },
        {
         "hovertemplate": "Topic=%{y}<br>Occurrences=%{x}<extra></extra>",
         "legendgroup": "Game Theory and Voting Systems",
         "marker": {
          "color": "#19D3F3",
          "pattern": {
           "shape": ""
          }
         },
         "name": "Game Theory and Voting Systems",
         "orientation": "h",
         "showlegend": true,
         "textposition": "auto",
         "type": "bar",
         "x": {
          "bdata": "EA==",
          "dtype": "i1"
         },
         "xaxis": "x",
         "y": [
          "Game Theory and Voting Systems"
         ],
         "yaxis": "y"
        },
        {
         "hovertemplate": "Topic=%{y}<br>Occurrences=%{x}<extra></extra>",
         "legendgroup": "Auction Theory and Applications",
         "marker": {
          "color": "#FF97FF",
          "pattern": {
           "shape": ""
          }
         },
         "name": "Auction Theory and Applications",
         "orientation": "h",
         "showlegend": true,
         "textposition": "auto",
         "type": "bar",
         "x": {
          "bdata": "FA==",
          "dtype": "i1"
         },
         "xaxis": "x",
         "y": [
          "Auction Theory and Applications"
         ],
         "yaxis": "y"
        },
        {
         "hovertemplate": "Topic=%{y}<br>Occurrences=%{x}<extra></extra>",
         "legendgroup": "Bayesian Modeling and Causal Inference",
         "marker": {
          "color": "rgb(51, 34, 136)",
          "pattern": {
           "shape": ""
          }
         },
         "name": "Bayesian Modeling and Causal Inference",
         "orientation": "h",
         "showlegend": true,
         "textposition": "auto",
         "type": "bar",
         "x": {
          "bdata": "GQ==",
          "dtype": "i1"
         },
         "xaxis": "x",
         "y": [
          "Bayesian Modeling and Causal Inference"
         ],
         "yaxis": "y"
        },
        {
         "hovertemplate": "Topic=%{y}<br>Occurrences=%{x}<extra></extra>",
         "legendgroup": "Data Management and Algorithms",
         "marker": {
          "color": "rgb(248, 156, 116)",
          "pattern": {
           "shape": ""
          }
         },
         "name": "Data Management and Algorithms",
         "orientation": "h",
         "showlegend": true,
         "textposition": "auto",
         "type": "bar",
         "x": {
          "bdata": "Gw==",
          "dtype": "i1"
         },
         "xaxis": "x",
         "y": [
          "Data Management and Algorithms"
         ],
         "yaxis": "y"
        },
        {
         "hovertemplate": "Topic=%{y}<br>Occurrences=%{x}<extra></extra>",
         "legendgroup": "Distributed Constraint Optimization Problems and Algorithms",
         "marker": {
          "color": "rgb(98, 83, 119)",
          "pattern": {
           "shape": ""
          }
         },
         "name": "Distributed Constraint Optimization Problems and Algorithms",
         "orientation": "h",
         "showlegend": true,
         "textposition": "auto",
         "type": "bar",
         "x": {
          "bdata": "HQ==",
          "dtype": "i1"
         },
         "xaxis": "x",
         "y": [
          "Distributed Constraint Optimization Problems and Algorithms"
         ],
         "yaxis": "y"
        },
        {
         "hovertemplate": "Topic=%{y}<br>Occurrences=%{x}<extra></extra>",
         "legendgroup": "AI-based Problem Solving and Planning",
         "marker": {
          "color": "#636EFA",
          "pattern": {
           "shape": ""
          }
         },
         "name": "AI-based Problem Solving and Planning",
         "orientation": "h",
         "showlegend": true,
         "textposition": "auto",
         "type": "bar",
         "x": {
          "bdata": "IQ==",
          "dtype": "i1"
         },
         "xaxis": "x",
         "y": [
          "AI-based Problem Solving and Planning"
         ],
         "yaxis": "y"
        },
        {
         "hovertemplate": "Topic=%{y}<br>Occurrences=%{x}<extra></extra>",
         "legendgroup": "Multi-Agent Systems and Negotiation",
         "marker": {
          "color": "rgb(160, 97, 119)",
          "pattern": {
           "shape": ""
          }
         },
         "name": "Multi-Agent Systems and Negotiation",
         "orientation": "h",
         "showlegend": true,
         "textposition": "auto",
         "type": "bar",
         "x": {
          "bdata": "LQ==",
          "dtype": "i1"
         },
         "xaxis": "x",
         "y": [
          "Multi-Agent Systems and Negotiation"
         ],
         "yaxis": "y"
        },
        {
         "hovertemplate": "Topic=%{y}<br>Occurrences=%{x}<extra></extra>",
         "legendgroup": "Semantic Web and Ontologies",
         "marker": {
          "color": "rgb(102, 197, 204)",
          "pattern": {
           "shape": ""
          }
         },
         "name": "Semantic Web and Ontologies",
         "orientation": "h",
         "showlegend": true,
         "textposition": "auto",
         "type": "bar",
         "x": {
          "bdata": "MQ==",
          "dtype": "i1"
         },
         "xaxis": "x",
         "y": [
          "Semantic Web and Ontologies"
         ],
         "yaxis": "y"
        },
        {
         "hovertemplate": "Topic=%{y}<br>Occurrences=%{x}<extra></extra>",
         "legendgroup": "Logic, Reasoning, and Knowledge",
         "marker": {
          "color": "rgb(68, 170, 153)",
          "pattern": {
           "shape": ""
          }
         },
         "name": "Logic, Reasoning, and Knowledge",
         "orientation": "h",
         "showlegend": true,
         "textposition": "auto",
         "type": "bar",
         "x": {
          "bdata": "Sg==",
          "dtype": "i1"
         },
         "xaxis": "x",
         "y": [
          "Logic, Reasoning, and Knowledge"
         ],
         "yaxis": "y"
        }
       ],
       "layout": {
        "barmode": "relative",
        "legend": {
         "title": {
          "text": "Topic"
         },
         "tracegroupgap": 0
        },
        "showlegend": false,
        "template": {
         "data": {
          "bar": [
           {
            "error_x": {
             "color": "#2a3f5f"
            },
            "error_y": {
             "color": "#2a3f5f"
            },
            "marker": {
             "line": {
              "color": "#E5ECF6",
              "width": 0.5
             },
             "pattern": {
              "fillmode": "overlay",
              "size": 10,
              "solidity": 0.2
             }
            },
            "type": "bar"
           }
          ],
          "barpolar": [
           {
            "marker": {
             "line": {
              "color": "#E5ECF6",
              "width": 0.5
             },
             "pattern": {
              "fillmode": "overlay",
              "size": 10,
              "solidity": 0.2
             }
            },
            "type": "barpolar"
           }
          ],
          "carpet": [
           {
            "aaxis": {
             "endlinecolor": "#2a3f5f",
             "gridcolor": "white",
             "linecolor": "white",
             "minorgridcolor": "white",
             "startlinecolor": "#2a3f5f"
            },
            "baxis": {
             "endlinecolor": "#2a3f5f",
             "gridcolor": "white",
             "linecolor": "white",
             "minorgridcolor": "white",
             "startlinecolor": "#2a3f5f"
            },
            "type": "carpet"
           }
          ],
          "choropleth": [
           {
            "colorbar": {
             "outlinewidth": 0,
             "ticks": ""
            },
            "type": "choropleth"
           }
          ],
          "contour": [
           {
            "colorbar": {
             "outlinewidth": 0,
             "ticks": ""
            },
            "colorscale": [
             [
              0,
              "#0d0887"
             ],
             [
              0.1111111111111111,
              "#46039f"
             ],
             [
              0.2222222222222222,
              "#7201a8"
             ],
             [
              0.3333333333333333,
              "#9c179e"
             ],
             [
              0.4444444444444444,
              "#bd3786"
             ],
             [
              0.5555555555555556,
              "#d8576b"
             ],
             [
              0.6666666666666666,
              "#ed7953"
             ],
             [
              0.7777777777777778,
              "#fb9f3a"
             ],
             [
              0.8888888888888888,
              "#fdca26"
             ],
             [
              1,
              "#f0f921"
             ]
            ],
            "type": "contour"
           }
          ],
          "contourcarpet": [
           {
            "colorbar": {
             "outlinewidth": 0,
             "ticks": ""
            },
            "type": "contourcarpet"
           }
          ],
          "heatmap": [
           {
            "colorbar": {
             "outlinewidth": 0,
             "ticks": ""
            },
            "colorscale": [
             [
              0,
              "#0d0887"
             ],
             [
              0.1111111111111111,
              "#46039f"
             ],
             [
              0.2222222222222222,
              "#7201a8"
             ],
             [
              0.3333333333333333,
              "#9c179e"
             ],
             [
              0.4444444444444444,
              "#bd3786"
             ],
             [
              0.5555555555555556,
              "#d8576b"
             ],
             [
              0.6666666666666666,
              "#ed7953"
             ],
             [
              0.7777777777777778,
              "#fb9f3a"
             ],
             [
              0.8888888888888888,
              "#fdca26"
             ],
             [
              1,
              "#f0f921"
             ]
            ],
            "type": "heatmap"
           }
          ],
          "histogram": [
           {
            "marker": {
             "pattern": {
              "fillmode": "overlay",
              "size": 10,
              "solidity": 0.2
             }
            },
            "type": "histogram"
           }
          ],
          "histogram2d": [
           {
            "colorbar": {
             "outlinewidth": 0,
             "ticks": ""
            },
            "colorscale": [
             [
              0,
              "#0d0887"
             ],
             [
              0.1111111111111111,
              "#46039f"
             ],
             [
              0.2222222222222222,
              "#7201a8"
             ],
             [
              0.3333333333333333,
              "#9c179e"
             ],
             [
              0.4444444444444444,
              "#bd3786"
             ],
             [
              0.5555555555555556,
              "#d8576b"
             ],
             [
              0.6666666666666666,
              "#ed7953"
             ],
             [
              0.7777777777777778,
              "#fb9f3a"
             ],
             [
              0.8888888888888888,
              "#fdca26"
             ],
             [
              1,
              "#f0f921"
             ]
            ],
            "type": "histogram2d"
           }
          ],
          "histogram2dcontour": [
           {
            "colorbar": {
             "outlinewidth": 0,
             "ticks": ""
            },
            "colorscale": [
             [
              0,
              "#0d0887"
             ],
             [
              0.1111111111111111,
              "#46039f"
             ],
             [
              0.2222222222222222,
              "#7201a8"
             ],
             [
              0.3333333333333333,
              "#9c179e"
             ],
             [
              0.4444444444444444,
              "#bd3786"
             ],
             [
              0.5555555555555556,
              "#d8576b"
             ],
             [
              0.6666666666666666,
              "#ed7953"
             ],
             [
              0.7777777777777778,
              "#fb9f3a"
             ],
             [
              0.8888888888888888,
              "#fdca26"
             ],
             [
              1,
              "#f0f921"
             ]
            ],
            "type": "histogram2dcontour"
           }
          ],
          "mesh3d": [
           {
            "colorbar": {
             "outlinewidth": 0,
             "ticks": ""
            },
            "type": "mesh3d"
           }
          ],
          "parcoords": [
           {
            "line": {
             "colorbar": {
              "outlinewidth": 0,
              "ticks": ""
             }
            },
            "type": "parcoords"
           }
          ],
          "pie": [
           {
            "automargin": true,
            "type": "pie"
           }
          ],
          "scatter": [
           {
            "fillpattern": {
             "fillmode": "overlay",
             "size": 10,
             "solidity": 0.2
            },
            "type": "scatter"
           }
          ],
          "scatter3d": [
           {
            "line": {
             "colorbar": {
              "outlinewidth": 0,
              "ticks": ""
             }
            },
            "marker": {
             "colorbar": {
              "outlinewidth": 0,
              "ticks": ""
             }
            },
            "type": "scatter3d"
           }
          ],
          "scattercarpet": [
           {
            "marker": {
             "colorbar": {
              "outlinewidth": 0,
              "ticks": ""
             }
            },
            "type": "scattercarpet"
           }
          ],
          "scattergeo": [
           {
            "marker": {
             "colorbar": {
              "outlinewidth": 0,
              "ticks": ""
             }
            },
            "type": "scattergeo"
           }
          ],
          "scattergl": [
           {
            "marker": {
             "colorbar": {
              "outlinewidth": 0,
              "ticks": ""
             }
            },
            "type": "scattergl"
           }
          ],
          "scattermap": [
           {
            "marker": {
             "colorbar": {
              "outlinewidth": 0,
              "ticks": ""
             }
            },
            "type": "scattermap"
           }
          ],
          "scattermapbox": [
           {
            "marker": {
             "colorbar": {
              "outlinewidth": 0,
              "ticks": ""
             }
            },
            "type": "scattermapbox"
           }
          ],
          "scatterpolar": [
           {
            "marker": {
             "colorbar": {
              "outlinewidth": 0,
              "ticks": ""
             }
            },
            "type": "scatterpolar"
           }
          ],
          "scatterpolargl": [
           {
            "marker": {
             "colorbar": {
              "outlinewidth": 0,
              "ticks": ""
             }
            },
            "type": "scatterpolargl"
           }
          ],
          "scatterternary": [
           {
            "marker": {
             "colorbar": {
              "outlinewidth": 0,
              "ticks": ""
             }
            },
            "type": "scatterternary"
           }
          ],
          "surface": [
           {
            "colorbar": {
             "outlinewidth": 0,
             "ticks": ""
            },
            "colorscale": [
             [
              0,
              "#0d0887"
             ],
             [
              0.1111111111111111,
              "#46039f"
             ],
             [
              0.2222222222222222,
              "#7201a8"
             ],
             [
              0.3333333333333333,
              "#9c179e"
             ],
             [
              0.4444444444444444,
              "#bd3786"
             ],
             [
              0.5555555555555556,
              "#d8576b"
             ],
             [
              0.6666666666666666,
              "#ed7953"
             ],
             [
              0.7777777777777778,
              "#fb9f3a"
             ],
             [
              0.8888888888888888,
              "#fdca26"
             ],
             [
              1,
              "#f0f921"
             ]
            ],
            "type": "surface"
           }
          ],
          "table": [
           {
            "cells": {
             "fill": {
              "color": "#EBF0F8"
             },
             "line": {
              "color": "white"
             }
            },
            "header": {
             "fill": {
              "color": "#C8D4E3"
             },
             "line": {
              "color": "white"
             }
            },
            "type": "table"
           }
          ]
         },
         "layout": {
          "annotationdefaults": {
           "arrowcolor": "#2a3f5f",
           "arrowhead": 0,
           "arrowwidth": 1
          },
          "autotypenumbers": "strict",
          "coloraxis": {
           "colorbar": {
            "outlinewidth": 0,
            "ticks": ""
           }
          },
          "colorscale": {
           "diverging": [
            [
             0,
             "#8e0152"
            ],
            [
             0.1,
             "#c51b7d"
            ],
            [
             0.2,
             "#de77ae"
            ],
            [
             0.3,
             "#f1b6da"
            ],
            [
             0.4,
             "#fde0ef"
            ],
            [
             0.5,
             "#f7f7f7"
            ],
            [
             0.6,
             "#e6f5d0"
            ],
            [
             0.7,
             "#b8e186"
            ],
            [
             0.8,
             "#7fbc41"
            ],
            [
             0.9,
             "#4d9221"
            ],
            [
             1,
             "#276419"
            ]
           ],
           "sequential": [
            [
             0,
             "#0d0887"
            ],
            [
             0.1111111111111111,
             "#46039f"
            ],
            [
             0.2222222222222222,
             "#7201a8"
            ],
            [
             0.3333333333333333,
             "#9c179e"
            ],
            [
             0.4444444444444444,
             "#bd3786"
            ],
            [
             0.5555555555555556,
             "#d8576b"
            ],
            [
             0.6666666666666666,
             "#ed7953"
            ],
            [
             0.7777777777777778,
             "#fb9f3a"
            ],
            [
             0.8888888888888888,
             "#fdca26"
            ],
            [
             1,
             "#f0f921"
            ]
           ],
           "sequentialminus": [
            [
             0,
             "#0d0887"
            ],
            [
             0.1111111111111111,
             "#46039f"
            ],
            [
             0.2222222222222222,
             "#7201a8"
            ],
            [
             0.3333333333333333,
             "#9c179e"
            ],
            [
             0.4444444444444444,
             "#bd3786"
            ],
            [
             0.5555555555555556,
             "#d8576b"
            ],
            [
             0.6666666666666666,
             "#ed7953"
            ],
            [
             0.7777777777777778,
             "#fb9f3a"
            ],
            [
             0.8888888888888888,
             "#fdca26"
            ],
            [
             1,
             "#f0f921"
            ]
           ]
          },
          "colorway": [
           "#636efa",
           "#EF553B",
           "#00cc96",
           "#ab63fa",
           "#FFA15A",
           "#19d3f3",
           "#FF6692",
           "#B6E880",
           "#FF97FF",
           "#FECB52"
          ],
          "font": {
           "color": "#2a3f5f"
          },
          "geo": {
           "bgcolor": "white",
           "lakecolor": "white",
           "landcolor": "#E5ECF6",
           "showlakes": true,
           "showland": true,
           "subunitcolor": "white"
          },
          "hoverlabel": {
           "align": "left"
          },
          "hovermode": "closest",
          "mapbox": {
           "style": "light"
          },
          "paper_bgcolor": "white",
          "plot_bgcolor": "#E5ECF6",
          "polar": {
           "angularaxis": {
            "gridcolor": "white",
            "linecolor": "white",
            "ticks": ""
           },
           "bgcolor": "#E5ECF6",
           "radialaxis": {
            "gridcolor": "white",
            "linecolor": "white",
            "ticks": ""
           }
          },
          "scene": {
           "xaxis": {
            "backgroundcolor": "#E5ECF6",
            "gridcolor": "white",
            "gridwidth": 2,
            "linecolor": "white",
            "showbackground": true,
            "ticks": "",
            "zerolinecolor": "white"
           },
           "yaxis": {
            "backgroundcolor": "#E5ECF6",
            "gridcolor": "white",
            "gridwidth": 2,
            "linecolor": "white",
            "showbackground": true,
            "ticks": "",
            "zerolinecolor": "white"
           },
           "zaxis": {
            "backgroundcolor": "#E5ECF6",
            "gridcolor": "white",
            "gridwidth": 2,
            "linecolor": "white",
            "showbackground": true,
            "ticks": "",
            "zerolinecolor": "white"
           }
          },
          "shapedefaults": {
           "line": {
            "color": "#2a3f5f"
           }
          },
          "ternary": {
           "aaxis": {
            "gridcolor": "white",
            "linecolor": "white",
            "ticks": ""
           },
           "baxis": {
            "gridcolor": "white",
            "linecolor": "white",
            "ticks": ""
           },
           "bgcolor": "#E5ECF6",
           "caxis": {
            "gridcolor": "white",
            "linecolor": "white",
            "ticks": ""
           }
          },
          "title": {
           "x": 0.05
          },
          "xaxis": {
           "automargin": true,
           "gridcolor": "white",
           "linecolor": "white",
           "ticks": "",
           "title": {
            "standoff": 15
           },
           "zerolinecolor": "white",
           "zerolinewidth": 2
          },
          "yaxis": {
           "automargin": true,
           "gridcolor": "white",
           "linecolor": "white",
           "ticks": "",
           "title": {
            "standoff": 15
           },
           "zerolinecolor": "white",
           "zerolinewidth": 2
          }
         }
        },
        "title": {
         "text": "Top 10 Topics in 2014"
        },
        "xaxis": {
         "anchor": "y",
         "domain": [
          0,
          1
         ],
         "title": {
          "text": "Occurrences"
         }
        },
        "yaxis": {
         "anchor": "x",
         "categoryarray": [
          "Logic, Reasoning, and Knowledge",
          "Semantic Web and Ontologies",
          "Multi-Agent Systems and Negotiation",
          "AI-based Problem Solving and Planning",
          "Distributed Constraint Optimization Problems and Algorithms",
          "Data Management and Algorithms",
          "Bayesian Modeling and Causal Inference",
          "Auction Theory and Applications",
          "Game Theory and Voting Systems",
          "Game Theory and Applications"
         ],
         "categoryorder": "array",
         "domain": [
          0,
          1
         ],
         "title": {
          "text": "Topic"
         }
        }
       }
      }
     },
     "metadata": {},
     "output_type": "display_data"
    },
    {
     "data": {
      "application/vnd.plotly.v1+json": {
       "config": {
        "plotlyServerURL": "https://plot.ly"
       },
       "data": [
        {
         "hovertemplate": "Topic=%{y}<br>Occurrences=%{x}<extra></extra>",
         "legendgroup": "Topic Modeling",
         "marker": {
          "color": "rgb(248, 156, 116)",
          "pattern": {
           "shape": ""
          }
         },
         "name": "Topic Modeling",
         "orientation": "h",
         "showlegend": true,
         "textposition": "auto",
         "type": "bar",
         "x": {
          "bdata": "CA==",
          "dtype": "i1"
         },
         "xaxis": "x",
         "y": [
          "Topic Modeling"
         ],
         "yaxis": "y"
        },
        {
         "hovertemplate": "Topic=%{y}<br>Occurrences=%{x}<extra></extra>",
         "legendgroup": "Advanced Database Systems and Queries",
         "marker": {
          "color": "rgb(170, 68, 153)",
          "pattern": {
           "shape": ""
          }
         },
         "name": "Advanced Database Systems and Queries",
         "orientation": "h",
         "showlegend": true,
         "textposition": "auto",
         "type": "bar",
         "x": {
          "bdata": "CA==",
          "dtype": "i1"
         },
         "xaxis": "x",
         "y": [
          "Advanced Database Systems and Queries"
         ],
         "yaxis": "y"
        },
        {
         "hovertemplate": "Topic=%{y}<br>Occurrences=%{x}<extra></extra>",
         "legendgroup": "Game Theory and Voting Systems",
         "marker": {
          "color": "#19D3F3",
          "pattern": {
           "shape": ""
          }
         },
         "name": "Game Theory and Voting Systems",
         "orientation": "h",
         "showlegend": true,
         "textposition": "auto",
         "type": "bar",
         "x": {
          "bdata": "CA==",
          "dtype": "i1"
         },
         "xaxis": "x",
         "y": [
          "Game Theory and Voting Systems"
         ],
         "yaxis": "y"
        },
        {
         "hovertemplate": "Topic=%{y}<br>Occurrences=%{x}<extra></extra>",
         "legendgroup": "Formal Methods in Verification",
         "marker": {
          "color": "rgb(124, 124, 124)",
          "pattern": {
           "shape": ""
          }
         },
         "name": "Formal Methods in Verification",
         "orientation": "h",
         "showlegend": true,
         "textposition": "auto",
         "type": "bar",
         "x": {
          "bdata": "CQ==",
          "dtype": "i1"
         },
         "xaxis": "x",
         "y": [
          "Formal Methods in Verification"
         ],
         "yaxis": "y"
        },
        {
         "hovertemplate": "Topic=%{y}<br>Occurrences=%{x}<extra></extra>",
         "legendgroup": "Game Theory and Applications",
         "marker": {
          "color": "#FFA15A",
          "pattern": {
           "shape": ""
          }
         },
         "name": "Game Theory and Applications",
         "orientation": "h",
         "showlegend": true,
         "textposition": "auto",
         "type": "bar",
         "x": {
          "bdata": "Cw==",
          "dtype": "i1"
         },
         "xaxis": "x",
         "y": [
          "Game Theory and Applications"
         ],
         "yaxis": "y"
        },
        {
         "hovertemplate": "Topic=%{y}<br>Occurrences=%{x}<extra></extra>",
         "legendgroup": "Auction Theory and Applications",
         "marker": {
          "color": "#FF97FF",
          "pattern": {
           "shape": ""
          }
         },
         "name": "Auction Theory and Applications",
         "orientation": "h",
         "showlegend": true,
         "textposition": "auto",
         "type": "bar",
         "x": {
          "bdata": "Dw==",
          "dtype": "i1"
         },
         "xaxis": "x",
         "y": [
          "Auction Theory and Applications"
         ],
         "yaxis": "y"
        },
        {
         "hovertemplate": "Topic=%{y}<br>Occurrences=%{x}<extra></extra>",
         "legendgroup": "AI-based Problem Solving and Planning",
         "marker": {
          "color": "#636EFA",
          "pattern": {
           "shape": ""
          }
         },
         "name": "AI-based Problem Solving and Planning",
         "orientation": "h",
         "showlegend": true,
         "textposition": "auto",
         "type": "bar",
         "x": {
          "bdata": "Eg==",
          "dtype": "i1"
         },
         "xaxis": "x",
         "y": [
          "AI-based Problem Solving and Planning"
         ],
         "yaxis": "y"
        },
        {
         "hovertemplate": "Topic=%{y}<br>Occurrences=%{x}<extra></extra>",
         "legendgroup": "Semantic Web and Ontologies",
         "marker": {
          "color": "rgb(102, 197, 204)",
          "pattern": {
           "shape": ""
          }
         },
         "name": "Semantic Web and Ontologies",
         "orientation": "h",
         "showlegend": true,
         "textposition": "auto",
         "type": "bar",
         "x": {
          "bdata": "Ew==",
          "dtype": "i1"
         },
         "xaxis": "x",
         "y": [
          "Semantic Web and Ontologies"
         ],
         "yaxis": "y"
        },
        {
         "hovertemplate": "Topic=%{y}<br>Occurrences=%{x}<extra></extra>",
         "legendgroup": "Multi-Agent Systems and Negotiation",
         "marker": {
          "color": "rgb(160, 97, 119)",
          "pattern": {
           "shape": ""
          }
         },
         "name": "Multi-Agent Systems and Negotiation",
         "orientation": "h",
         "showlegend": true,
         "textposition": "auto",
         "type": "bar",
         "x": {
          "bdata": "FA==",
          "dtype": "i1"
         },
         "xaxis": "x",
         "y": [
          "Multi-Agent Systems and Negotiation"
         ],
         "yaxis": "y"
        },
        {
         "hovertemplate": "Topic=%{y}<br>Occurrences=%{x}<extra></extra>",
         "legendgroup": "Logic, Reasoning, and Knowledge",
         "marker": {
          "color": "rgb(68, 170, 153)",
          "pattern": {
           "shape": ""
          }
         },
         "name": "Logic, Reasoning, and Knowledge",
         "orientation": "h",
         "showlegend": true,
         "textposition": "auto",
         "type": "bar",
         "x": {
          "bdata": "Hg==",
          "dtype": "i1"
         },
         "xaxis": "x",
         "y": [
          "Logic, Reasoning, and Knowledge"
         ],
         "yaxis": "y"
        }
       ],
       "layout": {
        "barmode": "relative",
        "legend": {
         "title": {
          "text": "Topic"
         },
         "tracegroupgap": 0
        },
        "showlegend": false,
        "template": {
         "data": {
          "bar": [
           {
            "error_x": {
             "color": "#2a3f5f"
            },
            "error_y": {
             "color": "#2a3f5f"
            },
            "marker": {
             "line": {
              "color": "#E5ECF6",
              "width": 0.5
             },
             "pattern": {
              "fillmode": "overlay",
              "size": 10,
              "solidity": 0.2
             }
            },
            "type": "bar"
           }
          ],
          "barpolar": [
           {
            "marker": {
             "line": {
              "color": "#E5ECF6",
              "width": 0.5
             },
             "pattern": {
              "fillmode": "overlay",
              "size": 10,
              "solidity": 0.2
             }
            },
            "type": "barpolar"
           }
          ],
          "carpet": [
           {
            "aaxis": {
             "endlinecolor": "#2a3f5f",
             "gridcolor": "white",
             "linecolor": "white",
             "minorgridcolor": "white",
             "startlinecolor": "#2a3f5f"
            },
            "baxis": {
             "endlinecolor": "#2a3f5f",
             "gridcolor": "white",
             "linecolor": "white",
             "minorgridcolor": "white",
             "startlinecolor": "#2a3f5f"
            },
            "type": "carpet"
           }
          ],
          "choropleth": [
           {
            "colorbar": {
             "outlinewidth": 0,
             "ticks": ""
            },
            "type": "choropleth"
           }
          ],
          "contour": [
           {
            "colorbar": {
             "outlinewidth": 0,
             "ticks": ""
            },
            "colorscale": [
             [
              0,
              "#0d0887"
             ],
             [
              0.1111111111111111,
              "#46039f"
             ],
             [
              0.2222222222222222,
              "#7201a8"
             ],
             [
              0.3333333333333333,
              "#9c179e"
             ],
             [
              0.4444444444444444,
              "#bd3786"
             ],
             [
              0.5555555555555556,
              "#d8576b"
             ],
             [
              0.6666666666666666,
              "#ed7953"
             ],
             [
              0.7777777777777778,
              "#fb9f3a"
             ],
             [
              0.8888888888888888,
              "#fdca26"
             ],
             [
              1,
              "#f0f921"
             ]
            ],
            "type": "contour"
           }
          ],
          "contourcarpet": [
           {
            "colorbar": {
             "outlinewidth": 0,
             "ticks": ""
            },
            "type": "contourcarpet"
           }
          ],
          "heatmap": [
           {
            "colorbar": {
             "outlinewidth": 0,
             "ticks": ""
            },
            "colorscale": [
             [
              0,
              "#0d0887"
             ],
             [
              0.1111111111111111,
              "#46039f"
             ],
             [
              0.2222222222222222,
              "#7201a8"
             ],
             [
              0.3333333333333333,
              "#9c179e"
             ],
             [
              0.4444444444444444,
              "#bd3786"
             ],
             [
              0.5555555555555556,
              "#d8576b"
             ],
             [
              0.6666666666666666,
              "#ed7953"
             ],
             [
              0.7777777777777778,
              "#fb9f3a"
             ],
             [
              0.8888888888888888,
              "#fdca26"
             ],
             [
              1,
              "#f0f921"
             ]
            ],
            "type": "heatmap"
           }
          ],
          "histogram": [
           {
            "marker": {
             "pattern": {
              "fillmode": "overlay",
              "size": 10,
              "solidity": 0.2
             }
            },
            "type": "histogram"
           }
          ],
          "histogram2d": [
           {
            "colorbar": {
             "outlinewidth": 0,
             "ticks": ""
            },
            "colorscale": [
             [
              0,
              "#0d0887"
             ],
             [
              0.1111111111111111,
              "#46039f"
             ],
             [
              0.2222222222222222,
              "#7201a8"
             ],
             [
              0.3333333333333333,
              "#9c179e"
             ],
             [
              0.4444444444444444,
              "#bd3786"
             ],
             [
              0.5555555555555556,
              "#d8576b"
             ],
             [
              0.6666666666666666,
              "#ed7953"
             ],
             [
              0.7777777777777778,
              "#fb9f3a"
             ],
             [
              0.8888888888888888,
              "#fdca26"
             ],
             [
              1,
              "#f0f921"
             ]
            ],
            "type": "histogram2d"
           }
          ],
          "histogram2dcontour": [
           {
            "colorbar": {
             "outlinewidth": 0,
             "ticks": ""
            },
            "colorscale": [
             [
              0,
              "#0d0887"
             ],
             [
              0.1111111111111111,
              "#46039f"
             ],
             [
              0.2222222222222222,
              "#7201a8"
             ],
             [
              0.3333333333333333,
              "#9c179e"
             ],
             [
              0.4444444444444444,
              "#bd3786"
             ],
             [
              0.5555555555555556,
              "#d8576b"
             ],
             [
              0.6666666666666666,
              "#ed7953"
             ],
             [
              0.7777777777777778,
              "#fb9f3a"
             ],
             [
              0.8888888888888888,
              "#fdca26"
             ],
             [
              1,
              "#f0f921"
             ]
            ],
            "type": "histogram2dcontour"
           }
          ],
          "mesh3d": [
           {
            "colorbar": {
             "outlinewidth": 0,
             "ticks": ""
            },
            "type": "mesh3d"
           }
          ],
          "parcoords": [
           {
            "line": {
             "colorbar": {
              "outlinewidth": 0,
              "ticks": ""
             }
            },
            "type": "parcoords"
           }
          ],
          "pie": [
           {
            "automargin": true,
            "type": "pie"
           }
          ],
          "scatter": [
           {
            "fillpattern": {
             "fillmode": "overlay",
             "size": 10,
             "solidity": 0.2
            },
            "type": "scatter"
           }
          ],
          "scatter3d": [
           {
            "line": {
             "colorbar": {
              "outlinewidth": 0,
              "ticks": ""
             }
            },
            "marker": {
             "colorbar": {
              "outlinewidth": 0,
              "ticks": ""
             }
            },
            "type": "scatter3d"
           }
          ],
          "scattercarpet": [
           {
            "marker": {
             "colorbar": {
              "outlinewidth": 0,
              "ticks": ""
             }
            },
            "type": "scattercarpet"
           }
          ],
          "scattergeo": [
           {
            "marker": {
             "colorbar": {
              "outlinewidth": 0,
              "ticks": ""
             }
            },
            "type": "scattergeo"
           }
          ],
          "scattergl": [
           {
            "marker": {
             "colorbar": {
              "outlinewidth": 0,
              "ticks": ""
             }
            },
            "type": "scattergl"
           }
          ],
          "scattermap": [
           {
            "marker": {
             "colorbar": {
              "outlinewidth": 0,
              "ticks": ""
             }
            },
            "type": "scattermap"
           }
          ],
          "scattermapbox": [
           {
            "marker": {
             "colorbar": {
              "outlinewidth": 0,
              "ticks": ""
             }
            },
            "type": "scattermapbox"
           }
          ],
          "scatterpolar": [
           {
            "marker": {
             "colorbar": {
              "outlinewidth": 0,
              "ticks": ""
             }
            },
            "type": "scatterpolar"
           }
          ],
          "scatterpolargl": [
           {
            "marker": {
             "colorbar": {
              "outlinewidth": 0,
              "ticks": ""
             }
            },
            "type": "scatterpolargl"
           }
          ],
          "scatterternary": [
           {
            "marker": {
             "colorbar": {
              "outlinewidth": 0,
              "ticks": ""
             }
            },
            "type": "scatterternary"
           }
          ],
          "surface": [
           {
            "colorbar": {
             "outlinewidth": 0,
             "ticks": ""
            },
            "colorscale": [
             [
              0,
              "#0d0887"
             ],
             [
              0.1111111111111111,
              "#46039f"
             ],
             [
              0.2222222222222222,
              "#7201a8"
             ],
             [
              0.3333333333333333,
              "#9c179e"
             ],
             [
              0.4444444444444444,
              "#bd3786"
             ],
             [
              0.5555555555555556,
              "#d8576b"
             ],
             [
              0.6666666666666666,
              "#ed7953"
             ],
             [
              0.7777777777777778,
              "#fb9f3a"
             ],
             [
              0.8888888888888888,
              "#fdca26"
             ],
             [
              1,
              "#f0f921"
             ]
            ],
            "type": "surface"
           }
          ],
          "table": [
           {
            "cells": {
             "fill": {
              "color": "#EBF0F8"
             },
             "line": {
              "color": "white"
             }
            },
            "header": {
             "fill": {
              "color": "#C8D4E3"
             },
             "line": {
              "color": "white"
             }
            },
            "type": "table"
           }
          ]
         },
         "layout": {
          "annotationdefaults": {
           "arrowcolor": "#2a3f5f",
           "arrowhead": 0,
           "arrowwidth": 1
          },
          "autotypenumbers": "strict",
          "coloraxis": {
           "colorbar": {
            "outlinewidth": 0,
            "ticks": ""
           }
          },
          "colorscale": {
           "diverging": [
            [
             0,
             "#8e0152"
            ],
            [
             0.1,
             "#c51b7d"
            ],
            [
             0.2,
             "#de77ae"
            ],
            [
             0.3,
             "#f1b6da"
            ],
            [
             0.4,
             "#fde0ef"
            ],
            [
             0.5,
             "#f7f7f7"
            ],
            [
             0.6,
             "#e6f5d0"
            ],
            [
             0.7,
             "#b8e186"
            ],
            [
             0.8,
             "#7fbc41"
            ],
            [
             0.9,
             "#4d9221"
            ],
            [
             1,
             "#276419"
            ]
           ],
           "sequential": [
            [
             0,
             "#0d0887"
            ],
            [
             0.1111111111111111,
             "#46039f"
            ],
            [
             0.2222222222222222,
             "#7201a8"
            ],
            [
             0.3333333333333333,
             "#9c179e"
            ],
            [
             0.4444444444444444,
             "#bd3786"
            ],
            [
             0.5555555555555556,
             "#d8576b"
            ],
            [
             0.6666666666666666,
             "#ed7953"
            ],
            [
             0.7777777777777778,
             "#fb9f3a"
            ],
            [
             0.8888888888888888,
             "#fdca26"
            ],
            [
             1,
             "#f0f921"
            ]
           ],
           "sequentialminus": [
            [
             0,
             "#0d0887"
            ],
            [
             0.1111111111111111,
             "#46039f"
            ],
            [
             0.2222222222222222,
             "#7201a8"
            ],
            [
             0.3333333333333333,
             "#9c179e"
            ],
            [
             0.4444444444444444,
             "#bd3786"
            ],
            [
             0.5555555555555556,
             "#d8576b"
            ],
            [
             0.6666666666666666,
             "#ed7953"
            ],
            [
             0.7777777777777778,
             "#fb9f3a"
            ],
            [
             0.8888888888888888,
             "#fdca26"
            ],
            [
             1,
             "#f0f921"
            ]
           ]
          },
          "colorway": [
           "#636efa",
           "#EF553B",
           "#00cc96",
           "#ab63fa",
           "#FFA15A",
           "#19d3f3",
           "#FF6692",
           "#B6E880",
           "#FF97FF",
           "#FECB52"
          ],
          "font": {
           "color": "#2a3f5f"
          },
          "geo": {
           "bgcolor": "white",
           "lakecolor": "white",
           "landcolor": "#E5ECF6",
           "showlakes": true,
           "showland": true,
           "subunitcolor": "white"
          },
          "hoverlabel": {
           "align": "left"
          },
          "hovermode": "closest",
          "mapbox": {
           "style": "light"
          },
          "paper_bgcolor": "white",
          "plot_bgcolor": "#E5ECF6",
          "polar": {
           "angularaxis": {
            "gridcolor": "white",
            "linecolor": "white",
            "ticks": ""
           },
           "bgcolor": "#E5ECF6",
           "radialaxis": {
            "gridcolor": "white",
            "linecolor": "white",
            "ticks": ""
           }
          },
          "scene": {
           "xaxis": {
            "backgroundcolor": "#E5ECF6",
            "gridcolor": "white",
            "gridwidth": 2,
            "linecolor": "white",
            "showbackground": true,
            "ticks": "",
            "zerolinecolor": "white"
           },
           "yaxis": {
            "backgroundcolor": "#E5ECF6",
            "gridcolor": "white",
            "gridwidth": 2,
            "linecolor": "white",
            "showbackground": true,
            "ticks": "",
            "zerolinecolor": "white"
           },
           "zaxis": {
            "backgroundcolor": "#E5ECF6",
            "gridcolor": "white",
            "gridwidth": 2,
            "linecolor": "white",
            "showbackground": true,
            "ticks": "",
            "zerolinecolor": "white"
           }
          },
          "shapedefaults": {
           "line": {
            "color": "#2a3f5f"
           }
          },
          "ternary": {
           "aaxis": {
            "gridcolor": "white",
            "linecolor": "white",
            "ticks": ""
           },
           "baxis": {
            "gridcolor": "white",
            "linecolor": "white",
            "ticks": ""
           },
           "bgcolor": "#E5ECF6",
           "caxis": {
            "gridcolor": "white",
            "linecolor": "white",
            "ticks": ""
           }
          },
          "title": {
           "x": 0.05
          },
          "xaxis": {
           "automargin": true,
           "gridcolor": "white",
           "linecolor": "white",
           "ticks": "",
           "title": {
            "standoff": 15
           },
           "zerolinecolor": "white",
           "zerolinewidth": 2
          },
          "yaxis": {
           "automargin": true,
           "gridcolor": "white",
           "linecolor": "white",
           "ticks": "",
           "title": {
            "standoff": 15
           },
           "zerolinecolor": "white",
           "zerolinewidth": 2
          }
         }
        },
        "title": {
         "text": "Top 10 Topics in 2016"
        },
        "xaxis": {
         "anchor": "y",
         "domain": [
          0,
          1
         ],
         "title": {
          "text": "Occurrences"
         }
        },
        "yaxis": {
         "anchor": "x",
         "categoryarray": [
          "Logic, Reasoning, and Knowledge",
          "Multi-Agent Systems and Negotiation",
          "Semantic Web and Ontologies",
          "AI-based Problem Solving and Planning",
          "Auction Theory and Applications",
          "Game Theory and Applications",
          "Formal Methods in Verification",
          "Game Theory and Voting Systems",
          "Advanced Database Systems and Queries",
          "Topic Modeling"
         ],
         "categoryorder": "array",
         "domain": [
          0,
          1
         ],
         "title": {
          "text": "Topic"
         }
        }
       }
      }
     },
     "metadata": {},
     "output_type": "display_data"
    },
    {
     "data": {
      "application/vnd.plotly.v1+json": {
       "config": {
        "plotlyServerURL": "https://plot.ly"
       },
       "data": [
        {
         "hovertemplate": "Topic=%{y}<br>Occurrences=%{x}<extra></extra>",
         "legendgroup": "Digital Mental Health Interventions",
         "marker": {
          "color": "rgb(217, 175, 107)",
          "pattern": {
           "shape": ""
          }
         },
         "name": "Digital Mental Health Interventions",
         "orientation": "h",
         "showlegend": true,
         "textposition": "auto",
         "type": "bar",
         "x": {
          "bdata": "AQ==",
          "dtype": "i1"
         },
         "xaxis": "x",
         "y": [
          "Digital Mental Health Interventions"
         ],
         "yaxis": "y"
        },
        {
         "hovertemplate": "Topic=%{y}<br>Occurrences=%{x}<extra></extra>",
         "legendgroup": "Business Strategy and Innovation",
         "marker": {
          "color": "rgb(246, 207, 113)",
          "pattern": {
           "shape": ""
          }
         },
         "name": "Business Strategy and Innovation",
         "orientation": "h",
         "showlegend": true,
         "textposition": "auto",
         "type": "bar",
         "x": {
          "bdata": "AQ==",
          "dtype": "i1"
         },
         "xaxis": "x",
         "y": [
          "Business Strategy and Innovation"
         ],
         "yaxis": "y"
        },
        {
         "hovertemplate": "Topic=%{y}<br>Occurrences=%{x}<extra></extra>",
         "legendgroup": "Systems Engineering Methodologies and Applications",
         "marker": {
          "color": "rgb(68, 170, 153)",
          "pattern": {
           "shape": ""
          }
         },
         "name": "Systems Engineering Methodologies and Applications",
         "orientation": "h",
         "showlegend": true,
         "textposition": "auto",
         "type": "bar",
         "x": {
          "bdata": "AQ==",
          "dtype": "i1"
         },
         "xaxis": "x",
         "y": [
          "Systems Engineering Methodologies and Applications"
         ],
         "yaxis": "y"
        },
        {
         "hovertemplate": "Topic=%{y}<br>Occurrences=%{x}<extra></extra>",
         "legendgroup": "Internet Traffic Analysis and Secure E-voting",
         "marker": {
          "color": "#FF6692",
          "pattern": {
           "shape": ""
          }
         },
         "name": "Internet Traffic Analysis and Secure E-voting",
         "orientation": "h",
         "showlegend": true,
         "textposition": "auto",
         "type": "bar",
         "x": {
          "bdata": "AQ==",
          "dtype": "i1"
         },
         "xaxis": "x",
         "y": [
          "Internet Traffic Analysis and Secure E-voting"
         ],
         "yaxis": "y"
        },
        {
         "hovertemplate": "Topic=%{y}<br>Occurrences=%{x}<extra></extra>",
         "legendgroup": "Experimental Behavioral Economics Studies",
         "marker": {
          "color": "rgb(139, 224, 164)",
          "pattern": {
           "shape": ""
          }
         },
         "name": "Experimental Behavioral Economics Studies",
         "orientation": "h",
         "showlegend": true,
         "textposition": "auto",
         "type": "bar",
         "x": {
          "bdata": "AQ==",
          "dtype": "i1"
         },
         "xaxis": "x",
         "y": [
          "Experimental Behavioral Economics Studies"
         ],
         "yaxis": "y"
        },
        {
         "hovertemplate": "Topic=%{y}<br>Occurrences=%{x}<extra></extra>",
         "legendgroup": "Team Dynamics and Performance",
         "marker": {
          "color": "rgb(102, 17, 0)",
          "pattern": {
           "shape": ""
          }
         },
         "name": "Team Dynamics and Performance",
         "orientation": "h",
         "showlegend": true,
         "textposition": "auto",
         "type": "bar",
         "x": {
          "bdata": "AQ==",
          "dtype": "i1"
         },
         "xaxis": "x",
         "y": [
          "Team Dynamics and Performance"
         ],
         "yaxis": "y"
        },
        {
         "hovertemplate": "Topic=%{y}<br>Occurrences=%{x}<extra></extra>",
         "legendgroup": "Ethics and Social Impacts of AI",
         "marker": {
          "color": "rgb(220, 176, 242)",
          "pattern": {
           "shape": ""
          }
         },
         "name": "Ethics and Social Impacts of AI",
         "orientation": "h",
         "showlegend": true,
         "textposition": "auto",
         "type": "bar",
         "x": {
          "bdata": "AQ==",
          "dtype": "i1"
         },
         "xaxis": "x",
         "y": [
          "Ethics and Social Impacts of AI"
         ],
         "yaxis": "y"
        },
        {
         "hovertemplate": "Topic=%{y}<br>Occurrences=%{x}<extra></extra>",
         "legendgroup": "Complex Systems and Decision Making",
         "marker": {
          "color": "#EF553B",
          "pattern": {
           "shape": ""
          }
         },
         "name": "Complex Systems and Decision Making",
         "orientation": "h",
         "showlegend": true,
         "textposition": "auto",
         "type": "bar",
         "x": {
          "bdata": "Ag==",
          "dtype": "i1"
         },
         "xaxis": "x",
         "y": [
          "Complex Systems and Decision Making"
         ],
         "yaxis": "y"
        },
        {
         "hovertemplate": "Topic=%{y}<br>Occurrences=%{x}<extra></extra>",
         "legendgroup": "Logic, Reasoning, and Knowledge",
         "marker": {
          "color": "rgb(68, 170, 153)",
          "pattern": {
           "shape": ""
          }
         },
         "name": "Logic, Reasoning, and Knowledge",
         "orientation": "h",
         "showlegend": true,
         "textposition": "auto",
         "type": "bar",
         "x": {
          "bdata": "Ag==",
          "dtype": "i1"
         },
         "xaxis": "x",
         "y": [
          "Logic, Reasoning, and Knowledge"
         ],
         "yaxis": "y"
        },
        {
         "hovertemplate": "Topic=%{y}<br>Occurrences=%{x}<extra></extra>",
         "legendgroup": "Multi-Agent Systems and Negotiation",
         "marker": {
          "color": "rgb(160, 97, 119)",
          "pattern": {
           "shape": ""
          }
         },
         "name": "Multi-Agent Systems and Negotiation",
         "orientation": "h",
         "showlegend": true,
         "textposition": "auto",
         "type": "bar",
         "x": {
          "bdata": "Aw==",
          "dtype": "i1"
         },
         "xaxis": "x",
         "y": [
          "Multi-Agent Systems and Negotiation"
         ],
         "yaxis": "y"
        }
       ],
       "layout": {
        "barmode": "relative",
        "legend": {
         "title": {
          "text": "Topic"
         },
         "tracegroupgap": 0
        },
        "showlegend": false,
        "template": {
         "data": {
          "bar": [
           {
            "error_x": {
             "color": "#2a3f5f"
            },
            "error_y": {
             "color": "#2a3f5f"
            },
            "marker": {
             "line": {
              "color": "#E5ECF6",
              "width": 0.5
             },
             "pattern": {
              "fillmode": "overlay",
              "size": 10,
              "solidity": 0.2
             }
            },
            "type": "bar"
           }
          ],
          "barpolar": [
           {
            "marker": {
             "line": {
              "color": "#E5ECF6",
              "width": 0.5
             },
             "pattern": {
              "fillmode": "overlay",
              "size": 10,
              "solidity": 0.2
             }
            },
            "type": "barpolar"
           }
          ],
          "carpet": [
           {
            "aaxis": {
             "endlinecolor": "#2a3f5f",
             "gridcolor": "white",
             "linecolor": "white",
             "minorgridcolor": "white",
             "startlinecolor": "#2a3f5f"
            },
            "baxis": {
             "endlinecolor": "#2a3f5f",
             "gridcolor": "white",
             "linecolor": "white",
             "minorgridcolor": "white",
             "startlinecolor": "#2a3f5f"
            },
            "type": "carpet"
           }
          ],
          "choropleth": [
           {
            "colorbar": {
             "outlinewidth": 0,
             "ticks": ""
            },
            "type": "choropleth"
           }
          ],
          "contour": [
           {
            "colorbar": {
             "outlinewidth": 0,
             "ticks": ""
            },
            "colorscale": [
             [
              0,
              "#0d0887"
             ],
             [
              0.1111111111111111,
              "#46039f"
             ],
             [
              0.2222222222222222,
              "#7201a8"
             ],
             [
              0.3333333333333333,
              "#9c179e"
             ],
             [
              0.4444444444444444,
              "#bd3786"
             ],
             [
              0.5555555555555556,
              "#d8576b"
             ],
             [
              0.6666666666666666,
              "#ed7953"
             ],
             [
              0.7777777777777778,
              "#fb9f3a"
             ],
             [
              0.8888888888888888,
              "#fdca26"
             ],
             [
              1,
              "#f0f921"
             ]
            ],
            "type": "contour"
           }
          ],
          "contourcarpet": [
           {
            "colorbar": {
             "outlinewidth": 0,
             "ticks": ""
            },
            "type": "contourcarpet"
           }
          ],
          "heatmap": [
           {
            "colorbar": {
             "outlinewidth": 0,
             "ticks": ""
            },
            "colorscale": [
             [
              0,
              "#0d0887"
             ],
             [
              0.1111111111111111,
              "#46039f"
             ],
             [
              0.2222222222222222,
              "#7201a8"
             ],
             [
              0.3333333333333333,
              "#9c179e"
             ],
             [
              0.4444444444444444,
              "#bd3786"
             ],
             [
              0.5555555555555556,
              "#d8576b"
             ],
             [
              0.6666666666666666,
              "#ed7953"
             ],
             [
              0.7777777777777778,
              "#fb9f3a"
             ],
             [
              0.8888888888888888,
              "#fdca26"
             ],
             [
              1,
              "#f0f921"
             ]
            ],
            "type": "heatmap"
           }
          ],
          "histogram": [
           {
            "marker": {
             "pattern": {
              "fillmode": "overlay",
              "size": 10,
              "solidity": 0.2
             }
            },
            "type": "histogram"
           }
          ],
          "histogram2d": [
           {
            "colorbar": {
             "outlinewidth": 0,
             "ticks": ""
            },
            "colorscale": [
             [
              0,
              "#0d0887"
             ],
             [
              0.1111111111111111,
              "#46039f"
             ],
             [
              0.2222222222222222,
              "#7201a8"
             ],
             [
              0.3333333333333333,
              "#9c179e"
             ],
             [
              0.4444444444444444,
              "#bd3786"
             ],
             [
              0.5555555555555556,
              "#d8576b"
             ],
             [
              0.6666666666666666,
              "#ed7953"
             ],
             [
              0.7777777777777778,
              "#fb9f3a"
             ],
             [
              0.8888888888888888,
              "#fdca26"
             ],
             [
              1,
              "#f0f921"
             ]
            ],
            "type": "histogram2d"
           }
          ],
          "histogram2dcontour": [
           {
            "colorbar": {
             "outlinewidth": 0,
             "ticks": ""
            },
            "colorscale": [
             [
              0,
              "#0d0887"
             ],
             [
              0.1111111111111111,
              "#46039f"
             ],
             [
              0.2222222222222222,
              "#7201a8"
             ],
             [
              0.3333333333333333,
              "#9c179e"
             ],
             [
              0.4444444444444444,
              "#bd3786"
             ],
             [
              0.5555555555555556,
              "#d8576b"
             ],
             [
              0.6666666666666666,
              "#ed7953"
             ],
             [
              0.7777777777777778,
              "#fb9f3a"
             ],
             [
              0.8888888888888888,
              "#fdca26"
             ],
             [
              1,
              "#f0f921"
             ]
            ],
            "type": "histogram2dcontour"
           }
          ],
          "mesh3d": [
           {
            "colorbar": {
             "outlinewidth": 0,
             "ticks": ""
            },
            "type": "mesh3d"
           }
          ],
          "parcoords": [
           {
            "line": {
             "colorbar": {
              "outlinewidth": 0,
              "ticks": ""
             }
            },
            "type": "parcoords"
           }
          ],
          "pie": [
           {
            "automargin": true,
            "type": "pie"
           }
          ],
          "scatter": [
           {
            "fillpattern": {
             "fillmode": "overlay",
             "size": 10,
             "solidity": 0.2
            },
            "type": "scatter"
           }
          ],
          "scatter3d": [
           {
            "line": {
             "colorbar": {
              "outlinewidth": 0,
              "ticks": ""
             }
            },
            "marker": {
             "colorbar": {
              "outlinewidth": 0,
              "ticks": ""
             }
            },
            "type": "scatter3d"
           }
          ],
          "scattercarpet": [
           {
            "marker": {
             "colorbar": {
              "outlinewidth": 0,
              "ticks": ""
             }
            },
            "type": "scattercarpet"
           }
          ],
          "scattergeo": [
           {
            "marker": {
             "colorbar": {
              "outlinewidth": 0,
              "ticks": ""
             }
            },
            "type": "scattergeo"
           }
          ],
          "scattergl": [
           {
            "marker": {
             "colorbar": {
              "outlinewidth": 0,
              "ticks": ""
             }
            },
            "type": "scattergl"
           }
          ],
          "scattermap": [
           {
            "marker": {
             "colorbar": {
              "outlinewidth": 0,
              "ticks": ""
             }
            },
            "type": "scattermap"
           }
          ],
          "scattermapbox": [
           {
            "marker": {
             "colorbar": {
              "outlinewidth": 0,
              "ticks": ""
             }
            },
            "type": "scattermapbox"
           }
          ],
          "scatterpolar": [
           {
            "marker": {
             "colorbar": {
              "outlinewidth": 0,
              "ticks": ""
             }
            },
            "type": "scatterpolar"
           }
          ],
          "scatterpolargl": [
           {
            "marker": {
             "colorbar": {
              "outlinewidth": 0,
              "ticks": ""
             }
            },
            "type": "scatterpolargl"
           }
          ],
          "scatterternary": [
           {
            "marker": {
             "colorbar": {
              "outlinewidth": 0,
              "ticks": ""
             }
            },
            "type": "scatterternary"
           }
          ],
          "surface": [
           {
            "colorbar": {
             "outlinewidth": 0,
             "ticks": ""
            },
            "colorscale": [
             [
              0,
              "#0d0887"
             ],
             [
              0.1111111111111111,
              "#46039f"
             ],
             [
              0.2222222222222222,
              "#7201a8"
             ],
             [
              0.3333333333333333,
              "#9c179e"
             ],
             [
              0.4444444444444444,
              "#bd3786"
             ],
             [
              0.5555555555555556,
              "#d8576b"
             ],
             [
              0.6666666666666666,
              "#ed7953"
             ],
             [
              0.7777777777777778,
              "#fb9f3a"
             ],
             [
              0.8888888888888888,
              "#fdca26"
             ],
             [
              1,
              "#f0f921"
             ]
            ],
            "type": "surface"
           }
          ],
          "table": [
           {
            "cells": {
             "fill": {
              "color": "#EBF0F8"
             },
             "line": {
              "color": "white"
             }
            },
            "header": {
             "fill": {
              "color": "#C8D4E3"
             },
             "line": {
              "color": "white"
             }
            },
            "type": "table"
           }
          ]
         },
         "layout": {
          "annotationdefaults": {
           "arrowcolor": "#2a3f5f",
           "arrowhead": 0,
           "arrowwidth": 1
          },
          "autotypenumbers": "strict",
          "coloraxis": {
           "colorbar": {
            "outlinewidth": 0,
            "ticks": ""
           }
          },
          "colorscale": {
           "diverging": [
            [
             0,
             "#8e0152"
            ],
            [
             0.1,
             "#c51b7d"
            ],
            [
             0.2,
             "#de77ae"
            ],
            [
             0.3,
             "#f1b6da"
            ],
            [
             0.4,
             "#fde0ef"
            ],
            [
             0.5,
             "#f7f7f7"
            ],
            [
             0.6,
             "#e6f5d0"
            ],
            [
             0.7,
             "#b8e186"
            ],
            [
             0.8,
             "#7fbc41"
            ],
            [
             0.9,
             "#4d9221"
            ],
            [
             1,
             "#276419"
            ]
           ],
           "sequential": [
            [
             0,
             "#0d0887"
            ],
            [
             0.1111111111111111,
             "#46039f"
            ],
            [
             0.2222222222222222,
             "#7201a8"
            ],
            [
             0.3333333333333333,
             "#9c179e"
            ],
            [
             0.4444444444444444,
             "#bd3786"
            ],
            [
             0.5555555555555556,
             "#d8576b"
            ],
            [
             0.6666666666666666,
             "#ed7953"
            ],
            [
             0.7777777777777778,
             "#fb9f3a"
            ],
            [
             0.8888888888888888,
             "#fdca26"
            ],
            [
             1,
             "#f0f921"
            ]
           ],
           "sequentialminus": [
            [
             0,
             "#0d0887"
            ],
            [
             0.1111111111111111,
             "#46039f"
            ],
            [
             0.2222222222222222,
             "#7201a8"
            ],
            [
             0.3333333333333333,
             "#9c179e"
            ],
            [
             0.4444444444444444,
             "#bd3786"
            ],
            [
             0.5555555555555556,
             "#d8576b"
            ],
            [
             0.6666666666666666,
             "#ed7953"
            ],
            [
             0.7777777777777778,
             "#fb9f3a"
            ],
            [
             0.8888888888888888,
             "#fdca26"
            ],
            [
             1,
             "#f0f921"
            ]
           ]
          },
          "colorway": [
           "#636efa",
           "#EF553B",
           "#00cc96",
           "#ab63fa",
           "#FFA15A",
           "#19d3f3",
           "#FF6692",
           "#B6E880",
           "#FF97FF",
           "#FECB52"
          ],
          "font": {
           "color": "#2a3f5f"
          },
          "geo": {
           "bgcolor": "white",
           "lakecolor": "white",
           "landcolor": "#E5ECF6",
           "showlakes": true,
           "showland": true,
           "subunitcolor": "white"
          },
          "hoverlabel": {
           "align": "left"
          },
          "hovermode": "closest",
          "mapbox": {
           "style": "light"
          },
          "paper_bgcolor": "white",
          "plot_bgcolor": "#E5ECF6",
          "polar": {
           "angularaxis": {
            "gridcolor": "white",
            "linecolor": "white",
            "ticks": ""
           },
           "bgcolor": "#E5ECF6",
           "radialaxis": {
            "gridcolor": "white",
            "linecolor": "white",
            "ticks": ""
           }
          },
          "scene": {
           "xaxis": {
            "backgroundcolor": "#E5ECF6",
            "gridcolor": "white",
            "gridwidth": 2,
            "linecolor": "white",
            "showbackground": true,
            "ticks": "",
            "zerolinecolor": "white"
           },
           "yaxis": {
            "backgroundcolor": "#E5ECF6",
            "gridcolor": "white",
            "gridwidth": 2,
            "linecolor": "white",
            "showbackground": true,
            "ticks": "",
            "zerolinecolor": "white"
           },
           "zaxis": {
            "backgroundcolor": "#E5ECF6",
            "gridcolor": "white",
            "gridwidth": 2,
            "linecolor": "white",
            "showbackground": true,
            "ticks": "",
            "zerolinecolor": "white"
           }
          },
          "shapedefaults": {
           "line": {
            "color": "#2a3f5f"
           }
          },
          "ternary": {
           "aaxis": {
            "gridcolor": "white",
            "linecolor": "white",
            "ticks": ""
           },
           "baxis": {
            "gridcolor": "white",
            "linecolor": "white",
            "ticks": ""
           },
           "bgcolor": "#E5ECF6",
           "caxis": {
            "gridcolor": "white",
            "linecolor": "white",
            "ticks": ""
           }
          },
          "title": {
           "x": 0.05
          },
          "xaxis": {
           "automargin": true,
           "gridcolor": "white",
           "linecolor": "white",
           "ticks": "",
           "title": {
            "standoff": 15
           },
           "zerolinecolor": "white",
           "zerolinewidth": 2
          },
          "yaxis": {
           "automargin": true,
           "gridcolor": "white",
           "linecolor": "white",
           "ticks": "",
           "title": {
            "standoff": 15
           },
           "zerolinecolor": "white",
           "zerolinewidth": 2
          }
         }
        },
        "title": {
         "text": "Top 10 Topics in 2017"
        },
        "xaxis": {
         "anchor": "y",
         "domain": [
          0,
          1
         ],
         "title": {
          "text": "Occurrences"
         }
        },
        "yaxis": {
         "anchor": "x",
         "categoryarray": [
          "Multi-Agent Systems and Negotiation",
          "Logic, Reasoning, and Knowledge",
          "Complex Systems and Decision Making",
          "Ethics and Social Impacts of AI",
          "Team Dynamics and Performance",
          "Experimental Behavioral Economics Studies",
          "Internet Traffic Analysis and Secure E-voting",
          "Systems Engineering Methodologies and Applications",
          "Business Strategy and Innovation",
          "Digital Mental Health Interventions"
         ],
         "categoryorder": "array",
         "domain": [
          0,
          1
         ],
         "title": {
          "text": "Topic"
         }
        }
       }
      }
     },
     "metadata": {},
     "output_type": "display_data"
    },
    {
     "data": {
      "application/vnd.plotly.v1+json": {
       "config": {
        "plotlyServerURL": "https://plot.ly"
       },
       "data": [
        {
         "hovertemplate": "Topic=%{y}<br>Occurrences=%{x}<extra></extra>",
         "legendgroup": "Synthetic Organic Chemistry Methods",
         "marker": {
          "color": "rgb(170, 68, 153)",
          "pattern": {
           "shape": ""
          }
         },
         "name": "Synthetic Organic Chemistry Methods",
         "orientation": "h",
         "showlegend": true,
         "textposition": "auto",
         "type": "bar",
         "x": {
          "bdata": "AA==",
          "dtype": "i1"
         },
         "xaxis": "x",
         "y": [
          "Synthetic Organic Chemistry Methods"
         ],
         "yaxis": "y"
        },
        {
         "hovertemplate": "Topic=%{y}<br>Occurrences=%{x}<extra></extra>",
         "legendgroup": "Healthcare Technology and Patient Monitoring",
         "marker": {
          "color": "rgb(135, 197, 95)",
          "pattern": {
           "shape": ""
          }
         },
         "name": "Healthcare Technology and Patient Monitoring",
         "orientation": "h",
         "showlegend": true,
         "textposition": "auto",
         "type": "bar",
         "x": {
          "bdata": "AA==",
          "dtype": "i1"
         },
         "xaxis": "x",
         "y": [
          "Healthcare Technology and Patient Monitoring"
         ],
         "yaxis": "y"
        },
        {
         "hovertemplate": "Topic=%{y}<br>Occurrences=%{x}<extra></extra>",
         "legendgroup": "Safety Systems Engineering in Autonomy",
         "marker": {
          "color": "rgb(51, 34, 136)",
          "pattern": {
           "shape": ""
          }
         },
         "name": "Safety Systems Engineering in Autonomy",
         "orientation": "h",
         "showlegend": true,
         "textposition": "auto",
         "type": "bar",
         "x": {
          "bdata": "AA==",
          "dtype": "i1"
         },
         "xaxis": "x",
         "y": [
          "Safety Systems Engineering in Autonomy"
         ],
         "yaxis": "y"
        },
        {
         "hovertemplate": "Topic=%{y}<br>Occurrences=%{x}<extra></extra>",
         "legendgroup": "Real-Time Systems Scheduling",
         "marker": {
          "color": "#FFA15A",
          "pattern": {
           "shape": ""
          }
         },
         "name": "Real-Time Systems Scheduling",
         "orientation": "h",
         "showlegend": true,
         "textposition": "auto",
         "type": "bar",
         "x": {
          "bdata": "AA==",
          "dtype": "i1"
         },
         "xaxis": "x",
         "y": [
          "Real-Time Systems Scheduling"
         ],
         "yaxis": "y"
        },
        {
         "hovertemplate": "Topic=%{y}<br>Occurrences=%{x}<extra></extra>",
         "legendgroup": "Product Development and Customization",
         "marker": {
          "color": "rgb(98, 83, 119)",
          "pattern": {
           "shape": ""
          }
         },
         "name": "Product Development and Customization",
         "orientation": "h",
         "showlegend": true,
         "textposition": "auto",
         "type": "bar",
         "x": {
          "bdata": "AA==",
          "dtype": "i1"
         },
         "xaxis": "x",
         "y": [
          "Product Development and Customization"
         ],
         "yaxis": "y"
        },
        {
         "hovertemplate": "Topic=%{y}<br>Occurrences=%{x}<extra></extra>",
         "legendgroup": "Teleoperation and Haptic Systems",
         "marker": {
          "color": "rgb(136, 136, 136)",
          "pattern": {
           "shape": ""
          }
         },
         "name": "Teleoperation and Haptic Systems",
         "orientation": "h",
         "showlegend": true,
         "textposition": "auto",
         "type": "bar",
         "x": {
          "bdata": "AA==",
          "dtype": "i1"
         },
         "xaxis": "x",
         "y": [
          "Teleoperation and Haptic Systems"
         ],
         "yaxis": "y"
        },
        {
         "hovertemplate": "Topic=%{y}<br>Occurrences=%{x}<extra></extra>",
         "legendgroup": "Gaussian Processes and Bayesian Inference",
         "marker": {
          "color": "#B6E880",
          "pattern": {
           "shape": ""
          }
         },
         "name": "Gaussian Processes and Bayesian Inference",
         "orientation": "h",
         "showlegend": true,
         "textposition": "auto",
         "type": "bar",
         "x": {
          "bdata": "AA==",
          "dtype": "i1"
         },
         "xaxis": "x",
         "y": [
          "Gaussian Processes and Bayesian Inference"
         ],
         "yaxis": "y"
        },
        {
         "hovertemplate": "Topic=%{y}<br>Occurrences=%{x}<extra></extra>",
         "legendgroup": "Water Quality Monitoring Technologies",
         "marker": {
          "color": "rgb(124, 124, 124)",
          "pattern": {
           "shape": ""
          }
         },
         "name": "Water Quality Monitoring Technologies",
         "orientation": "h",
         "showlegend": true,
         "textposition": "auto",
         "type": "bar",
         "x": {
          "bdata": "AA==",
          "dtype": "i1"
         },
         "xaxis": "x",
         "y": [
          "Water Quality Monitoring Technologies"
         ],
         "yaxis": "y"
        },
        {
         "hovertemplate": "Topic=%{y}<br>Occurrences=%{x}<extra></extra>",
         "legendgroup": "Metaheuristic Optimization Algorithms Research",
         "marker": {
          "color": "rgb(139, 224, 164)",
          "pattern": {
           "shape": ""
          }
         },
         "name": "Metaheuristic Optimization Algorithms Research",
         "orientation": "h",
         "showlegend": true,
         "textposition": "auto",
         "type": "bar",
         "x": {
          "bdata": "AA==",
          "dtype": "i1"
         },
         "xaxis": "x",
         "y": [
          "Metaheuristic Optimization Algorithms Research"
         ],
         "yaxis": "y"
        },
        {
         "hovertemplate": "Topic=%{y}<br>Occurrences=%{x}<extra></extra>",
         "legendgroup": "Voice and Speech Disorders",
         "marker": {
          "color": "rgb(140, 120, 93)",
          "pattern": {
           "shape": ""
          }
         },
         "name": "Voice and Speech Disorders",
         "orientation": "h",
         "showlegend": true,
         "textposition": "auto",
         "type": "bar",
         "x": {
          "bdata": "AA==",
          "dtype": "i1"
         },
         "xaxis": "x",
         "y": [
          "Voice and Speech Disorders"
         ],
         "yaxis": "y"
        }
       ],
       "layout": {
        "barmode": "relative",
        "legend": {
         "title": {
          "text": "Topic"
         },
         "tracegroupgap": 0
        },
        "showlegend": false,
        "template": {
         "data": {
          "bar": [
           {
            "error_x": {
             "color": "#2a3f5f"
            },
            "error_y": {
             "color": "#2a3f5f"
            },
            "marker": {
             "line": {
              "color": "#E5ECF6",
              "width": 0.5
             },
             "pattern": {
              "fillmode": "overlay",
              "size": 10,
              "solidity": 0.2
             }
            },
            "type": "bar"
           }
          ],
          "barpolar": [
           {
            "marker": {
             "line": {
              "color": "#E5ECF6",
              "width": 0.5
             },
             "pattern": {
              "fillmode": "overlay",
              "size": 10,
              "solidity": 0.2
             }
            },
            "type": "barpolar"
           }
          ],
          "carpet": [
           {
            "aaxis": {
             "endlinecolor": "#2a3f5f",
             "gridcolor": "white",
             "linecolor": "white",
             "minorgridcolor": "white",
             "startlinecolor": "#2a3f5f"
            },
            "baxis": {
             "endlinecolor": "#2a3f5f",
             "gridcolor": "white",
             "linecolor": "white",
             "minorgridcolor": "white",
             "startlinecolor": "#2a3f5f"
            },
            "type": "carpet"
           }
          ],
          "choropleth": [
           {
            "colorbar": {
             "outlinewidth": 0,
             "ticks": ""
            },
            "type": "choropleth"
           }
          ],
          "contour": [
           {
            "colorbar": {
             "outlinewidth": 0,
             "ticks": ""
            },
            "colorscale": [
             [
              0,
              "#0d0887"
             ],
             [
              0.1111111111111111,
              "#46039f"
             ],
             [
              0.2222222222222222,
              "#7201a8"
             ],
             [
              0.3333333333333333,
              "#9c179e"
             ],
             [
              0.4444444444444444,
              "#bd3786"
             ],
             [
              0.5555555555555556,
              "#d8576b"
             ],
             [
              0.6666666666666666,
              "#ed7953"
             ],
             [
              0.7777777777777778,
              "#fb9f3a"
             ],
             [
              0.8888888888888888,
              "#fdca26"
             ],
             [
              1,
              "#f0f921"
             ]
            ],
            "type": "contour"
           }
          ],
          "contourcarpet": [
           {
            "colorbar": {
             "outlinewidth": 0,
             "ticks": ""
            },
            "type": "contourcarpet"
           }
          ],
          "heatmap": [
           {
            "colorbar": {
             "outlinewidth": 0,
             "ticks": ""
            },
            "colorscale": [
             [
              0,
              "#0d0887"
             ],
             [
              0.1111111111111111,
              "#46039f"
             ],
             [
              0.2222222222222222,
              "#7201a8"
             ],
             [
              0.3333333333333333,
              "#9c179e"
             ],
             [
              0.4444444444444444,
              "#bd3786"
             ],
             [
              0.5555555555555556,
              "#d8576b"
             ],
             [
              0.6666666666666666,
              "#ed7953"
             ],
             [
              0.7777777777777778,
              "#fb9f3a"
             ],
             [
              0.8888888888888888,
              "#fdca26"
             ],
             [
              1,
              "#f0f921"
             ]
            ],
            "type": "heatmap"
           }
          ],
          "histogram": [
           {
            "marker": {
             "pattern": {
              "fillmode": "overlay",
              "size": 10,
              "solidity": 0.2
             }
            },
            "type": "histogram"
           }
          ],
          "histogram2d": [
           {
            "colorbar": {
             "outlinewidth": 0,
             "ticks": ""
            },
            "colorscale": [
             [
              0,
              "#0d0887"
             ],
             [
              0.1111111111111111,
              "#46039f"
             ],
             [
              0.2222222222222222,
              "#7201a8"
             ],
             [
              0.3333333333333333,
              "#9c179e"
             ],
             [
              0.4444444444444444,
              "#bd3786"
             ],
             [
              0.5555555555555556,
              "#d8576b"
             ],
             [
              0.6666666666666666,
              "#ed7953"
             ],
             [
              0.7777777777777778,
              "#fb9f3a"
             ],
             [
              0.8888888888888888,
              "#fdca26"
             ],
             [
              1,
              "#f0f921"
             ]
            ],
            "type": "histogram2d"
           }
          ],
          "histogram2dcontour": [
           {
            "colorbar": {
             "outlinewidth": 0,
             "ticks": ""
            },
            "colorscale": [
             [
              0,
              "#0d0887"
             ],
             [
              0.1111111111111111,
              "#46039f"
             ],
             [
              0.2222222222222222,
              "#7201a8"
             ],
             [
              0.3333333333333333,
              "#9c179e"
             ],
             [
              0.4444444444444444,
              "#bd3786"
             ],
             [
              0.5555555555555556,
              "#d8576b"
             ],
             [
              0.6666666666666666,
              "#ed7953"
             ],
             [
              0.7777777777777778,
              "#fb9f3a"
             ],
             [
              0.8888888888888888,
              "#fdca26"
             ],
             [
              1,
              "#f0f921"
             ]
            ],
            "type": "histogram2dcontour"
           }
          ],
          "mesh3d": [
           {
            "colorbar": {
             "outlinewidth": 0,
             "ticks": ""
            },
            "type": "mesh3d"
           }
          ],
          "parcoords": [
           {
            "line": {
             "colorbar": {
              "outlinewidth": 0,
              "ticks": ""
             }
            },
            "type": "parcoords"
           }
          ],
          "pie": [
           {
            "automargin": true,
            "type": "pie"
           }
          ],
          "scatter": [
           {
            "fillpattern": {
             "fillmode": "overlay",
             "size": 10,
             "solidity": 0.2
            },
            "type": "scatter"
           }
          ],
          "scatter3d": [
           {
            "line": {
             "colorbar": {
              "outlinewidth": 0,
              "ticks": ""
             }
            },
            "marker": {
             "colorbar": {
              "outlinewidth": 0,
              "ticks": ""
             }
            },
            "type": "scatter3d"
           }
          ],
          "scattercarpet": [
           {
            "marker": {
             "colorbar": {
              "outlinewidth": 0,
              "ticks": ""
             }
            },
            "type": "scattercarpet"
           }
          ],
          "scattergeo": [
           {
            "marker": {
             "colorbar": {
              "outlinewidth": 0,
              "ticks": ""
             }
            },
            "type": "scattergeo"
           }
          ],
          "scattergl": [
           {
            "marker": {
             "colorbar": {
              "outlinewidth": 0,
              "ticks": ""
             }
            },
            "type": "scattergl"
           }
          ],
          "scattermap": [
           {
            "marker": {
             "colorbar": {
              "outlinewidth": 0,
              "ticks": ""
             }
            },
            "type": "scattermap"
           }
          ],
          "scattermapbox": [
           {
            "marker": {
             "colorbar": {
              "outlinewidth": 0,
              "ticks": ""
             }
            },
            "type": "scattermapbox"
           }
          ],
          "scatterpolar": [
           {
            "marker": {
             "colorbar": {
              "outlinewidth": 0,
              "ticks": ""
             }
            },
            "type": "scatterpolar"
           }
          ],
          "scatterpolargl": [
           {
            "marker": {
             "colorbar": {
              "outlinewidth": 0,
              "ticks": ""
             }
            },
            "type": "scatterpolargl"
           }
          ],
          "scatterternary": [
           {
            "marker": {
             "colorbar": {
              "outlinewidth": 0,
              "ticks": ""
             }
            },
            "type": "scatterternary"
           }
          ],
          "surface": [
           {
            "colorbar": {
             "outlinewidth": 0,
             "ticks": ""
            },
            "colorscale": [
             [
              0,
              "#0d0887"
             ],
             [
              0.1111111111111111,
              "#46039f"
             ],
             [
              0.2222222222222222,
              "#7201a8"
             ],
             [
              0.3333333333333333,
              "#9c179e"
             ],
             [
              0.4444444444444444,
              "#bd3786"
             ],
             [
              0.5555555555555556,
              "#d8576b"
             ],
             [
              0.6666666666666666,
              "#ed7953"
             ],
             [
              0.7777777777777778,
              "#fb9f3a"
             ],
             [
              0.8888888888888888,
              "#fdca26"
             ],
             [
              1,
              "#f0f921"
             ]
            ],
            "type": "surface"
           }
          ],
          "table": [
           {
            "cells": {
             "fill": {
              "color": "#EBF0F8"
             },
             "line": {
              "color": "white"
             }
            },
            "header": {
             "fill": {
              "color": "#C8D4E3"
             },
             "line": {
              "color": "white"
             }
            },
            "type": "table"
           }
          ]
         },
         "layout": {
          "annotationdefaults": {
           "arrowcolor": "#2a3f5f",
           "arrowhead": 0,
           "arrowwidth": 1
          },
          "autotypenumbers": "strict",
          "coloraxis": {
           "colorbar": {
            "outlinewidth": 0,
            "ticks": ""
           }
          },
          "colorscale": {
           "diverging": [
            [
             0,
             "#8e0152"
            ],
            [
             0.1,
             "#c51b7d"
            ],
            [
             0.2,
             "#de77ae"
            ],
            [
             0.3,
             "#f1b6da"
            ],
            [
             0.4,
             "#fde0ef"
            ],
            [
             0.5,
             "#f7f7f7"
            ],
            [
             0.6,
             "#e6f5d0"
            ],
            [
             0.7,
             "#b8e186"
            ],
            [
             0.8,
             "#7fbc41"
            ],
            [
             0.9,
             "#4d9221"
            ],
            [
             1,
             "#276419"
            ]
           ],
           "sequential": [
            [
             0,
             "#0d0887"
            ],
            [
             0.1111111111111111,
             "#46039f"
            ],
            [
             0.2222222222222222,
             "#7201a8"
            ],
            [
             0.3333333333333333,
             "#9c179e"
            ],
            [
             0.4444444444444444,
             "#bd3786"
            ],
            [
             0.5555555555555556,
             "#d8576b"
            ],
            [
             0.6666666666666666,
             "#ed7953"
            ],
            [
             0.7777777777777778,
             "#fb9f3a"
            ],
            [
             0.8888888888888888,
             "#fdca26"
            ],
            [
             1,
             "#f0f921"
            ]
           ],
           "sequentialminus": [
            [
             0,
             "#0d0887"
            ],
            [
             0.1111111111111111,
             "#46039f"
            ],
            [
             0.2222222222222222,
             "#7201a8"
            ],
            [
             0.3333333333333333,
             "#9c179e"
            ],
            [
             0.4444444444444444,
             "#bd3786"
            ],
            [
             0.5555555555555556,
             "#d8576b"
            ],
            [
             0.6666666666666666,
             "#ed7953"
            ],
            [
             0.7777777777777778,
             "#fb9f3a"
            ],
            [
             0.8888888888888888,
             "#fdca26"
            ],
            [
             1,
             "#f0f921"
            ]
           ]
          },
          "colorway": [
           "#636efa",
           "#EF553B",
           "#00cc96",
           "#ab63fa",
           "#FFA15A",
           "#19d3f3",
           "#FF6692",
           "#B6E880",
           "#FF97FF",
           "#FECB52"
          ],
          "font": {
           "color": "#2a3f5f"
          },
          "geo": {
           "bgcolor": "white",
           "lakecolor": "white",
           "landcolor": "#E5ECF6",
           "showlakes": true,
           "showland": true,
           "subunitcolor": "white"
          },
          "hoverlabel": {
           "align": "left"
          },
          "hovermode": "closest",
          "mapbox": {
           "style": "light"
          },
          "paper_bgcolor": "white",
          "plot_bgcolor": "#E5ECF6",
          "polar": {
           "angularaxis": {
            "gridcolor": "white",
            "linecolor": "white",
            "ticks": ""
           },
           "bgcolor": "#E5ECF6",
           "radialaxis": {
            "gridcolor": "white",
            "linecolor": "white",
            "ticks": ""
           }
          },
          "scene": {
           "xaxis": {
            "backgroundcolor": "#E5ECF6",
            "gridcolor": "white",
            "gridwidth": 2,
            "linecolor": "white",
            "showbackground": true,
            "ticks": "",
            "zerolinecolor": "white"
           },
           "yaxis": {
            "backgroundcolor": "#E5ECF6",
            "gridcolor": "white",
            "gridwidth": 2,
            "linecolor": "white",
            "showbackground": true,
            "ticks": "",
            "zerolinecolor": "white"
           },
           "zaxis": {
            "backgroundcolor": "#E5ECF6",
            "gridcolor": "white",
            "gridwidth": 2,
            "linecolor": "white",
            "showbackground": true,
            "ticks": "",
            "zerolinecolor": "white"
           }
          },
          "shapedefaults": {
           "line": {
            "color": "#2a3f5f"
           }
          },
          "ternary": {
           "aaxis": {
            "gridcolor": "white",
            "linecolor": "white",
            "ticks": ""
           },
           "baxis": {
            "gridcolor": "white",
            "linecolor": "white",
            "ticks": ""
           },
           "bgcolor": "#E5ECF6",
           "caxis": {
            "gridcolor": "white",
            "linecolor": "white",
            "ticks": ""
           }
          },
          "title": {
           "x": 0.05
          },
          "xaxis": {
           "automargin": true,
           "gridcolor": "white",
           "linecolor": "white",
           "ticks": "",
           "title": {
            "standoff": 15
           },
           "zerolinecolor": "white",
           "zerolinewidth": 2
          },
          "yaxis": {
           "automargin": true,
           "gridcolor": "white",
           "linecolor": "white",
           "ticks": "",
           "title": {
            "standoff": 15
           },
           "zerolinecolor": "white",
           "zerolinewidth": 2
          }
         }
        },
        "title": {
         "text": "Top 10 Topics in 2020"
        },
        "xaxis": {
         "anchor": "y",
         "domain": [
          0,
          1
         ],
         "title": {
          "text": "Occurrences"
         }
        },
        "yaxis": {
         "anchor": "x",
         "categoryarray": [
          "Voice and Speech Disorders",
          "Metaheuristic Optimization Algorithms Research",
          "Water Quality Monitoring Technologies",
          "Gaussian Processes and Bayesian Inference",
          "Teleoperation and Haptic Systems",
          "Product Development and Customization",
          "Real-Time Systems Scheduling",
          "Safety Systems Engineering in Autonomy",
          "Healthcare Technology and Patient Monitoring",
          "Synthetic Organic Chemistry Methods"
         ],
         "categoryorder": "array",
         "domain": [
          0,
          1
         ],
         "title": {
          "text": "Topic"
         }
        }
       }
      }
     },
     "metadata": {},
     "output_type": "display_data"
    },
    {
     "data": {
      "application/vnd.plotly.v1+json": {
       "config": {
        "plotlyServerURL": "https://plot.ly"
       },
       "data": [
        {
         "hovertemplate": "Topic=%{y}<br>Occurrences=%{x}<extra></extra>",
         "legendgroup": "Synthetic Organic Chemistry Methods",
         "marker": {
          "color": "rgb(170, 68, 153)",
          "pattern": {
           "shape": ""
          }
         },
         "name": "Synthetic Organic Chemistry Methods",
         "orientation": "h",
         "showlegend": true,
         "textposition": "auto",
         "type": "bar",
         "x": {
          "bdata": "AA==",
          "dtype": "i1"
         },
         "xaxis": "x",
         "y": [
          "Synthetic Organic Chemistry Methods"
         ],
         "yaxis": "y"
        },
        {
         "hovertemplate": "Topic=%{y}<br>Occurrences=%{x}<extra></extra>",
         "legendgroup": "Healthcare Technology and Patient Monitoring",
         "marker": {
          "color": "rgb(135, 197, 95)",
          "pattern": {
           "shape": ""
          }
         },
         "name": "Healthcare Technology and Patient Monitoring",
         "orientation": "h",
         "showlegend": true,
         "textposition": "auto",
         "type": "bar",
         "x": {
          "bdata": "AA==",
          "dtype": "i1"
         },
         "xaxis": "x",
         "y": [
          "Healthcare Technology and Patient Monitoring"
         ],
         "yaxis": "y"
        },
        {
         "hovertemplate": "Topic=%{y}<br>Occurrences=%{x}<extra></extra>",
         "legendgroup": "Safety Systems Engineering in Autonomy",
         "marker": {
          "color": "rgb(51, 34, 136)",
          "pattern": {
           "shape": ""
          }
         },
         "name": "Safety Systems Engineering in Autonomy",
         "orientation": "h",
         "showlegend": true,
         "textposition": "auto",
         "type": "bar",
         "x": {
          "bdata": "AA==",
          "dtype": "i1"
         },
         "xaxis": "x",
         "y": [
          "Safety Systems Engineering in Autonomy"
         ],
         "yaxis": "y"
        },
        {
         "hovertemplate": "Topic=%{y}<br>Occurrences=%{x}<extra></extra>",
         "legendgroup": "Real-Time Systems Scheduling",
         "marker": {
          "color": "#FFA15A",
          "pattern": {
           "shape": ""
          }
         },
         "name": "Real-Time Systems Scheduling",
         "orientation": "h",
         "showlegend": true,
         "textposition": "auto",
         "type": "bar",
         "x": {
          "bdata": "AA==",
          "dtype": "i1"
         },
         "xaxis": "x",
         "y": [
          "Real-Time Systems Scheduling"
         ],
         "yaxis": "y"
        },
        {
         "hovertemplate": "Topic=%{y}<br>Occurrences=%{x}<extra></extra>",
         "legendgroup": "Product Development and Customization",
         "marker": {
          "color": "rgb(98, 83, 119)",
          "pattern": {
           "shape": ""
          }
         },
         "name": "Product Development and Customization",
         "orientation": "h",
         "showlegend": true,
         "textposition": "auto",
         "type": "bar",
         "x": {
          "bdata": "AA==",
          "dtype": "i1"
         },
         "xaxis": "x",
         "y": [
          "Product Development and Customization"
         ],
         "yaxis": "y"
        },
        {
         "hovertemplate": "Topic=%{y}<br>Occurrences=%{x}<extra></extra>",
         "legendgroup": "Teleoperation and Haptic Systems",
         "marker": {
          "color": "rgb(136, 136, 136)",
          "pattern": {
           "shape": ""
          }
         },
         "name": "Teleoperation and Haptic Systems",
         "orientation": "h",
         "showlegend": true,
         "textposition": "auto",
         "type": "bar",
         "x": {
          "bdata": "AA==",
          "dtype": "i1"
         },
         "xaxis": "x",
         "y": [
          "Teleoperation and Haptic Systems"
         ],
         "yaxis": "y"
        },
        {
         "hovertemplate": "Topic=%{y}<br>Occurrences=%{x}<extra></extra>",
         "legendgroup": "Gaussian Processes and Bayesian Inference",
         "marker": {
          "color": "#B6E880",
          "pattern": {
           "shape": ""
          }
         },
         "name": "Gaussian Processes and Bayesian Inference",
         "orientation": "h",
         "showlegend": true,
         "textposition": "auto",
         "type": "bar",
         "x": {
          "bdata": "AA==",
          "dtype": "i1"
         },
         "xaxis": "x",
         "y": [
          "Gaussian Processes and Bayesian Inference"
         ],
         "yaxis": "y"
        },
        {
         "hovertemplate": "Topic=%{y}<br>Occurrences=%{x}<extra></extra>",
         "legendgroup": "Water Quality Monitoring Technologies",
         "marker": {
          "color": "rgb(124, 124, 124)",
          "pattern": {
           "shape": ""
          }
         },
         "name": "Water Quality Monitoring Technologies",
         "orientation": "h",
         "showlegend": true,
         "textposition": "auto",
         "type": "bar",
         "x": {
          "bdata": "AA==",
          "dtype": "i1"
         },
         "xaxis": "x",
         "y": [
          "Water Quality Monitoring Technologies"
         ],
         "yaxis": "y"
        },
        {
         "hovertemplate": "Topic=%{y}<br>Occurrences=%{x}<extra></extra>",
         "legendgroup": "Metaheuristic Optimization Algorithms Research",
         "marker": {
          "color": "rgb(139, 224, 164)",
          "pattern": {
           "shape": ""
          }
         },
         "name": "Metaheuristic Optimization Algorithms Research",
         "orientation": "h",
         "showlegend": true,
         "textposition": "auto",
         "type": "bar",
         "x": {
          "bdata": "AA==",
          "dtype": "i1"
         },
         "xaxis": "x",
         "y": [
          "Metaheuristic Optimization Algorithms Research"
         ],
         "yaxis": "y"
        },
        {
         "hovertemplate": "Topic=%{y}<br>Occurrences=%{x}<extra></extra>",
         "legendgroup": "Voice and Speech Disorders",
         "marker": {
          "color": "rgb(140, 120, 93)",
          "pattern": {
           "shape": ""
          }
         },
         "name": "Voice and Speech Disorders",
         "orientation": "h",
         "showlegend": true,
         "textposition": "auto",
         "type": "bar",
         "x": {
          "bdata": "AA==",
          "dtype": "i1"
         },
         "xaxis": "x",
         "y": [
          "Voice and Speech Disorders"
         ],
         "yaxis": "y"
        }
       ],
       "layout": {
        "barmode": "relative",
        "legend": {
         "title": {
          "text": "Topic"
         },
         "tracegroupgap": 0
        },
        "showlegend": false,
        "template": {
         "data": {
          "bar": [
           {
            "error_x": {
             "color": "#2a3f5f"
            },
            "error_y": {
             "color": "#2a3f5f"
            },
            "marker": {
             "line": {
              "color": "#E5ECF6",
              "width": 0.5
             },
             "pattern": {
              "fillmode": "overlay",
              "size": 10,
              "solidity": 0.2
             }
            },
            "type": "bar"
           }
          ],
          "barpolar": [
           {
            "marker": {
             "line": {
              "color": "#E5ECF6",
              "width": 0.5
             },
             "pattern": {
              "fillmode": "overlay",
              "size": 10,
              "solidity": 0.2
             }
            },
            "type": "barpolar"
           }
          ],
          "carpet": [
           {
            "aaxis": {
             "endlinecolor": "#2a3f5f",
             "gridcolor": "white",
             "linecolor": "white",
             "minorgridcolor": "white",
             "startlinecolor": "#2a3f5f"
            },
            "baxis": {
             "endlinecolor": "#2a3f5f",
             "gridcolor": "white",
             "linecolor": "white",
             "minorgridcolor": "white",
             "startlinecolor": "#2a3f5f"
            },
            "type": "carpet"
           }
          ],
          "choropleth": [
           {
            "colorbar": {
             "outlinewidth": 0,
             "ticks": ""
            },
            "type": "choropleth"
           }
          ],
          "contour": [
           {
            "colorbar": {
             "outlinewidth": 0,
             "ticks": ""
            },
            "colorscale": [
             [
              0,
              "#0d0887"
             ],
             [
              0.1111111111111111,
              "#46039f"
             ],
             [
              0.2222222222222222,
              "#7201a8"
             ],
             [
              0.3333333333333333,
              "#9c179e"
             ],
             [
              0.4444444444444444,
              "#bd3786"
             ],
             [
              0.5555555555555556,
              "#d8576b"
             ],
             [
              0.6666666666666666,
              "#ed7953"
             ],
             [
              0.7777777777777778,
              "#fb9f3a"
             ],
             [
              0.8888888888888888,
              "#fdca26"
             ],
             [
              1,
              "#f0f921"
             ]
            ],
            "type": "contour"
           }
          ],
          "contourcarpet": [
           {
            "colorbar": {
             "outlinewidth": 0,
             "ticks": ""
            },
            "type": "contourcarpet"
           }
          ],
          "heatmap": [
           {
            "colorbar": {
             "outlinewidth": 0,
             "ticks": ""
            },
            "colorscale": [
             [
              0,
              "#0d0887"
             ],
             [
              0.1111111111111111,
              "#46039f"
             ],
             [
              0.2222222222222222,
              "#7201a8"
             ],
             [
              0.3333333333333333,
              "#9c179e"
             ],
             [
              0.4444444444444444,
              "#bd3786"
             ],
             [
              0.5555555555555556,
              "#d8576b"
             ],
             [
              0.6666666666666666,
              "#ed7953"
             ],
             [
              0.7777777777777778,
              "#fb9f3a"
             ],
             [
              0.8888888888888888,
              "#fdca26"
             ],
             [
              1,
              "#f0f921"
             ]
            ],
            "type": "heatmap"
           }
          ],
          "histogram": [
           {
            "marker": {
             "pattern": {
              "fillmode": "overlay",
              "size": 10,
              "solidity": 0.2
             }
            },
            "type": "histogram"
           }
          ],
          "histogram2d": [
           {
            "colorbar": {
             "outlinewidth": 0,
             "ticks": ""
            },
            "colorscale": [
             [
              0,
              "#0d0887"
             ],
             [
              0.1111111111111111,
              "#46039f"
             ],
             [
              0.2222222222222222,
              "#7201a8"
             ],
             [
              0.3333333333333333,
              "#9c179e"
             ],
             [
              0.4444444444444444,
              "#bd3786"
             ],
             [
              0.5555555555555556,
              "#d8576b"
             ],
             [
              0.6666666666666666,
              "#ed7953"
             ],
             [
              0.7777777777777778,
              "#fb9f3a"
             ],
             [
              0.8888888888888888,
              "#fdca26"
             ],
             [
              1,
              "#f0f921"
             ]
            ],
            "type": "histogram2d"
           }
          ],
          "histogram2dcontour": [
           {
            "colorbar": {
             "outlinewidth": 0,
             "ticks": ""
            },
            "colorscale": [
             [
              0,
              "#0d0887"
             ],
             [
              0.1111111111111111,
              "#46039f"
             ],
             [
              0.2222222222222222,
              "#7201a8"
             ],
             [
              0.3333333333333333,
              "#9c179e"
             ],
             [
              0.4444444444444444,
              "#bd3786"
             ],
             [
              0.5555555555555556,
              "#d8576b"
             ],
             [
              0.6666666666666666,
              "#ed7953"
             ],
             [
              0.7777777777777778,
              "#fb9f3a"
             ],
             [
              0.8888888888888888,
              "#fdca26"
             ],
             [
              1,
              "#f0f921"
             ]
            ],
            "type": "histogram2dcontour"
           }
          ],
          "mesh3d": [
           {
            "colorbar": {
             "outlinewidth": 0,
             "ticks": ""
            },
            "type": "mesh3d"
           }
          ],
          "parcoords": [
           {
            "line": {
             "colorbar": {
              "outlinewidth": 0,
              "ticks": ""
             }
            },
            "type": "parcoords"
           }
          ],
          "pie": [
           {
            "automargin": true,
            "type": "pie"
           }
          ],
          "scatter": [
           {
            "fillpattern": {
             "fillmode": "overlay",
             "size": 10,
             "solidity": 0.2
            },
            "type": "scatter"
           }
          ],
          "scatter3d": [
           {
            "line": {
             "colorbar": {
              "outlinewidth": 0,
              "ticks": ""
             }
            },
            "marker": {
             "colorbar": {
              "outlinewidth": 0,
              "ticks": ""
             }
            },
            "type": "scatter3d"
           }
          ],
          "scattercarpet": [
           {
            "marker": {
             "colorbar": {
              "outlinewidth": 0,
              "ticks": ""
             }
            },
            "type": "scattercarpet"
           }
          ],
          "scattergeo": [
           {
            "marker": {
             "colorbar": {
              "outlinewidth": 0,
              "ticks": ""
             }
            },
            "type": "scattergeo"
           }
          ],
          "scattergl": [
           {
            "marker": {
             "colorbar": {
              "outlinewidth": 0,
              "ticks": ""
             }
            },
            "type": "scattergl"
           }
          ],
          "scattermap": [
           {
            "marker": {
             "colorbar": {
              "outlinewidth": 0,
              "ticks": ""
             }
            },
            "type": "scattermap"
           }
          ],
          "scattermapbox": [
           {
            "marker": {
             "colorbar": {
              "outlinewidth": 0,
              "ticks": ""
             }
            },
            "type": "scattermapbox"
           }
          ],
          "scatterpolar": [
           {
            "marker": {
             "colorbar": {
              "outlinewidth": 0,
              "ticks": ""
             }
            },
            "type": "scatterpolar"
           }
          ],
          "scatterpolargl": [
           {
            "marker": {
             "colorbar": {
              "outlinewidth": 0,
              "ticks": ""
             }
            },
            "type": "scatterpolargl"
           }
          ],
          "scatterternary": [
           {
            "marker": {
             "colorbar": {
              "outlinewidth": 0,
              "ticks": ""
             }
            },
            "type": "scatterternary"
           }
          ],
          "surface": [
           {
            "colorbar": {
             "outlinewidth": 0,
             "ticks": ""
            },
            "colorscale": [
             [
              0,
              "#0d0887"
             ],
             [
              0.1111111111111111,
              "#46039f"
             ],
             [
              0.2222222222222222,
              "#7201a8"
             ],
             [
              0.3333333333333333,
              "#9c179e"
             ],
             [
              0.4444444444444444,
              "#bd3786"
             ],
             [
              0.5555555555555556,
              "#d8576b"
             ],
             [
              0.6666666666666666,
              "#ed7953"
             ],
             [
              0.7777777777777778,
              "#fb9f3a"
             ],
             [
              0.8888888888888888,
              "#fdca26"
             ],
             [
              1,
              "#f0f921"
             ]
            ],
            "type": "surface"
           }
          ],
          "table": [
           {
            "cells": {
             "fill": {
              "color": "#EBF0F8"
             },
             "line": {
              "color": "white"
             }
            },
            "header": {
             "fill": {
              "color": "#C8D4E3"
             },
             "line": {
              "color": "white"
             }
            },
            "type": "table"
           }
          ]
         },
         "layout": {
          "annotationdefaults": {
           "arrowcolor": "#2a3f5f",
           "arrowhead": 0,
           "arrowwidth": 1
          },
          "autotypenumbers": "strict",
          "coloraxis": {
           "colorbar": {
            "outlinewidth": 0,
            "ticks": ""
           }
          },
          "colorscale": {
           "diverging": [
            [
             0,
             "#8e0152"
            ],
            [
             0.1,
             "#c51b7d"
            ],
            [
             0.2,
             "#de77ae"
            ],
            [
             0.3,
             "#f1b6da"
            ],
            [
             0.4,
             "#fde0ef"
            ],
            [
             0.5,
             "#f7f7f7"
            ],
            [
             0.6,
             "#e6f5d0"
            ],
            [
             0.7,
             "#b8e186"
            ],
            [
             0.8,
             "#7fbc41"
            ],
            [
             0.9,
             "#4d9221"
            ],
            [
             1,
             "#276419"
            ]
           ],
           "sequential": [
            [
             0,
             "#0d0887"
            ],
            [
             0.1111111111111111,
             "#46039f"
            ],
            [
             0.2222222222222222,
             "#7201a8"
            ],
            [
             0.3333333333333333,
             "#9c179e"
            ],
            [
             0.4444444444444444,
             "#bd3786"
            ],
            [
             0.5555555555555556,
             "#d8576b"
            ],
            [
             0.6666666666666666,
             "#ed7953"
            ],
            [
             0.7777777777777778,
             "#fb9f3a"
            ],
            [
             0.8888888888888888,
             "#fdca26"
            ],
            [
             1,
             "#f0f921"
            ]
           ],
           "sequentialminus": [
            [
             0,
             "#0d0887"
            ],
            [
             0.1111111111111111,
             "#46039f"
            ],
            [
             0.2222222222222222,
             "#7201a8"
            ],
            [
             0.3333333333333333,
             "#9c179e"
            ],
            [
             0.4444444444444444,
             "#bd3786"
            ],
            [
             0.5555555555555556,
             "#d8576b"
            ],
            [
             0.6666666666666666,
             "#ed7953"
            ],
            [
             0.7777777777777778,
             "#fb9f3a"
            ],
            [
             0.8888888888888888,
             "#fdca26"
            ],
            [
             1,
             "#f0f921"
            ]
           ]
          },
          "colorway": [
           "#636efa",
           "#EF553B",
           "#00cc96",
           "#ab63fa",
           "#FFA15A",
           "#19d3f3",
           "#FF6692",
           "#B6E880",
           "#FF97FF",
           "#FECB52"
          ],
          "font": {
           "color": "#2a3f5f"
          },
          "geo": {
           "bgcolor": "white",
           "lakecolor": "white",
           "landcolor": "#E5ECF6",
           "showlakes": true,
           "showland": true,
           "subunitcolor": "white"
          },
          "hoverlabel": {
           "align": "left"
          },
          "hovermode": "closest",
          "mapbox": {
           "style": "light"
          },
          "paper_bgcolor": "white",
          "plot_bgcolor": "#E5ECF6",
          "polar": {
           "angularaxis": {
            "gridcolor": "white",
            "linecolor": "white",
            "ticks": ""
           },
           "bgcolor": "#E5ECF6",
           "radialaxis": {
            "gridcolor": "white",
            "linecolor": "white",
            "ticks": ""
           }
          },
          "scene": {
           "xaxis": {
            "backgroundcolor": "#E5ECF6",
            "gridcolor": "white",
            "gridwidth": 2,
            "linecolor": "white",
            "showbackground": true,
            "ticks": "",
            "zerolinecolor": "white"
           },
           "yaxis": {
            "backgroundcolor": "#E5ECF6",
            "gridcolor": "white",
            "gridwidth": 2,
            "linecolor": "white",
            "showbackground": true,
            "ticks": "",
            "zerolinecolor": "white"
           },
           "zaxis": {
            "backgroundcolor": "#E5ECF6",
            "gridcolor": "white",
            "gridwidth": 2,
            "linecolor": "white",
            "showbackground": true,
            "ticks": "",
            "zerolinecolor": "white"
           }
          },
          "shapedefaults": {
           "line": {
            "color": "#2a3f5f"
           }
          },
          "ternary": {
           "aaxis": {
            "gridcolor": "white",
            "linecolor": "white",
            "ticks": ""
           },
           "baxis": {
            "gridcolor": "white",
            "linecolor": "white",
            "ticks": ""
           },
           "bgcolor": "#E5ECF6",
           "caxis": {
            "gridcolor": "white",
            "linecolor": "white",
            "ticks": ""
           }
          },
          "title": {
           "x": 0.05
          },
          "xaxis": {
           "automargin": true,
           "gridcolor": "white",
           "linecolor": "white",
           "ticks": "",
           "title": {
            "standoff": 15
           },
           "zerolinecolor": "white",
           "zerolinewidth": 2
          },
          "yaxis": {
           "automargin": true,
           "gridcolor": "white",
           "linecolor": "white",
           "ticks": "",
           "title": {
            "standoff": 15
           },
           "zerolinecolor": "white",
           "zerolinewidth": 2
          }
         }
        },
        "title": {
         "text": "Top 10 Topics in 2022"
        },
        "xaxis": {
         "anchor": "y",
         "domain": [
          0,
          1
         ],
         "title": {
          "text": "Occurrences"
         }
        },
        "yaxis": {
         "anchor": "x",
         "categoryarray": [
          "Voice and Speech Disorders",
          "Metaheuristic Optimization Algorithms Research",
          "Water Quality Monitoring Technologies",
          "Gaussian Processes and Bayesian Inference",
          "Teleoperation and Haptic Systems",
          "Product Development and Customization",
          "Real-Time Systems Scheduling",
          "Safety Systems Engineering in Autonomy",
          "Healthcare Technology and Patient Monitoring",
          "Synthetic Organic Chemistry Methods"
         ],
         "categoryorder": "array",
         "domain": [
          0,
          1
         ],
         "title": {
          "text": "Topic"
         }
        }
       }
      }
     },
     "metadata": {},
     "output_type": "display_data"
    },
    {
     "data": {
      "application/vnd.plotly.v1+json": {
       "config": {
        "plotlyServerURL": "https://plot.ly"
       },
       "data": [
        {
         "hovertemplate": "Topic=%{y}<br>Occurrences=%{x}<extra></extra>",
         "legendgroup": "Synthetic Organic Chemistry Methods",
         "marker": {
          "color": "rgb(170, 68, 153)",
          "pattern": {
           "shape": ""
          }
         },
         "name": "Synthetic Organic Chemistry Methods",
         "orientation": "h",
         "showlegend": true,
         "textposition": "auto",
         "type": "bar",
         "x": {
          "bdata": "AA==",
          "dtype": "i1"
         },
         "xaxis": "x",
         "y": [
          "Synthetic Organic Chemistry Methods"
         ],
         "yaxis": "y"
        },
        {
         "hovertemplate": "Topic=%{y}<br>Occurrences=%{x}<extra></extra>",
         "legendgroup": "Healthcare Technology and Patient Monitoring",
         "marker": {
          "color": "rgb(135, 197, 95)",
          "pattern": {
           "shape": ""
          }
         },
         "name": "Healthcare Technology and Patient Monitoring",
         "orientation": "h",
         "showlegend": true,
         "textposition": "auto",
         "type": "bar",
         "x": {
          "bdata": "AA==",
          "dtype": "i1"
         },
         "xaxis": "x",
         "y": [
          "Healthcare Technology and Patient Monitoring"
         ],
         "yaxis": "y"
        },
        {
         "hovertemplate": "Topic=%{y}<br>Occurrences=%{x}<extra></extra>",
         "legendgroup": "Safety Systems Engineering in Autonomy",
         "marker": {
          "color": "rgb(51, 34, 136)",
          "pattern": {
           "shape": ""
          }
         },
         "name": "Safety Systems Engineering in Autonomy",
         "orientation": "h",
         "showlegend": true,
         "textposition": "auto",
         "type": "bar",
         "x": {
          "bdata": "AA==",
          "dtype": "i1"
         },
         "xaxis": "x",
         "y": [
          "Safety Systems Engineering in Autonomy"
         ],
         "yaxis": "y"
        },
        {
         "hovertemplate": "Topic=%{y}<br>Occurrences=%{x}<extra></extra>",
         "legendgroup": "Real-Time Systems Scheduling",
         "marker": {
          "color": "#FFA15A",
          "pattern": {
           "shape": ""
          }
         },
         "name": "Real-Time Systems Scheduling",
         "orientation": "h",
         "showlegend": true,
         "textposition": "auto",
         "type": "bar",
         "x": {
          "bdata": "AA==",
          "dtype": "i1"
         },
         "xaxis": "x",
         "y": [
          "Real-Time Systems Scheduling"
         ],
         "yaxis": "y"
        },
        {
         "hovertemplate": "Topic=%{y}<br>Occurrences=%{x}<extra></extra>",
         "legendgroup": "Product Development and Customization",
         "marker": {
          "color": "rgb(98, 83, 119)",
          "pattern": {
           "shape": ""
          }
         },
         "name": "Product Development and Customization",
         "orientation": "h",
         "showlegend": true,
         "textposition": "auto",
         "type": "bar",
         "x": {
          "bdata": "AA==",
          "dtype": "i1"
         },
         "xaxis": "x",
         "y": [
          "Product Development and Customization"
         ],
         "yaxis": "y"
        },
        {
         "hovertemplate": "Topic=%{y}<br>Occurrences=%{x}<extra></extra>",
         "legendgroup": "Teleoperation and Haptic Systems",
         "marker": {
          "color": "rgb(136, 136, 136)",
          "pattern": {
           "shape": ""
          }
         },
         "name": "Teleoperation and Haptic Systems",
         "orientation": "h",
         "showlegend": true,
         "textposition": "auto",
         "type": "bar",
         "x": {
          "bdata": "AA==",
          "dtype": "i1"
         },
         "xaxis": "x",
         "y": [
          "Teleoperation and Haptic Systems"
         ],
         "yaxis": "y"
        },
        {
         "hovertemplate": "Topic=%{y}<br>Occurrences=%{x}<extra></extra>",
         "legendgroup": "Gaussian Processes and Bayesian Inference",
         "marker": {
          "color": "#B6E880",
          "pattern": {
           "shape": ""
          }
         },
         "name": "Gaussian Processes and Bayesian Inference",
         "orientation": "h",
         "showlegend": true,
         "textposition": "auto",
         "type": "bar",
         "x": {
          "bdata": "AA==",
          "dtype": "i1"
         },
         "xaxis": "x",
         "y": [
          "Gaussian Processes and Bayesian Inference"
         ],
         "yaxis": "y"
        },
        {
         "hovertemplate": "Topic=%{y}<br>Occurrences=%{x}<extra></extra>",
         "legendgroup": "Water Quality Monitoring Technologies",
         "marker": {
          "color": "rgb(124, 124, 124)",
          "pattern": {
           "shape": ""
          }
         },
         "name": "Water Quality Monitoring Technologies",
         "orientation": "h",
         "showlegend": true,
         "textposition": "auto",
         "type": "bar",
         "x": {
          "bdata": "AA==",
          "dtype": "i1"
         },
         "xaxis": "x",
         "y": [
          "Water Quality Monitoring Technologies"
         ],
         "yaxis": "y"
        },
        {
         "hovertemplate": "Topic=%{y}<br>Occurrences=%{x}<extra></extra>",
         "legendgroup": "Metaheuristic Optimization Algorithms Research",
         "marker": {
          "color": "rgb(139, 224, 164)",
          "pattern": {
           "shape": ""
          }
         },
         "name": "Metaheuristic Optimization Algorithms Research",
         "orientation": "h",
         "showlegend": true,
         "textposition": "auto",
         "type": "bar",
         "x": {
          "bdata": "AA==",
          "dtype": "i1"
         },
         "xaxis": "x",
         "y": [
          "Metaheuristic Optimization Algorithms Research"
         ],
         "yaxis": "y"
        },
        {
         "hovertemplate": "Topic=%{y}<br>Occurrences=%{x}<extra></extra>",
         "legendgroup": "Voice and Speech Disorders",
         "marker": {
          "color": "rgb(140, 120, 93)",
          "pattern": {
           "shape": ""
          }
         },
         "name": "Voice and Speech Disorders",
         "orientation": "h",
         "showlegend": true,
         "textposition": "auto",
         "type": "bar",
         "x": {
          "bdata": "AA==",
          "dtype": "i1"
         },
         "xaxis": "x",
         "y": [
          "Voice and Speech Disorders"
         ],
         "yaxis": "y"
        }
       ],
       "layout": {
        "barmode": "relative",
        "legend": {
         "title": {
          "text": "Topic"
         },
         "tracegroupgap": 0
        },
        "showlegend": false,
        "template": {
         "data": {
          "bar": [
           {
            "error_x": {
             "color": "#2a3f5f"
            },
            "error_y": {
             "color": "#2a3f5f"
            },
            "marker": {
             "line": {
              "color": "#E5ECF6",
              "width": 0.5
             },
             "pattern": {
              "fillmode": "overlay",
              "size": 10,
              "solidity": 0.2
             }
            },
            "type": "bar"
           }
          ],
          "barpolar": [
           {
            "marker": {
             "line": {
              "color": "#E5ECF6",
              "width": 0.5
             },
             "pattern": {
              "fillmode": "overlay",
              "size": 10,
              "solidity": 0.2
             }
            },
            "type": "barpolar"
           }
          ],
          "carpet": [
           {
            "aaxis": {
             "endlinecolor": "#2a3f5f",
             "gridcolor": "white",
             "linecolor": "white",
             "minorgridcolor": "white",
             "startlinecolor": "#2a3f5f"
            },
            "baxis": {
             "endlinecolor": "#2a3f5f",
             "gridcolor": "white",
             "linecolor": "white",
             "minorgridcolor": "white",
             "startlinecolor": "#2a3f5f"
            },
            "type": "carpet"
           }
          ],
          "choropleth": [
           {
            "colorbar": {
             "outlinewidth": 0,
             "ticks": ""
            },
            "type": "choropleth"
           }
          ],
          "contour": [
           {
            "colorbar": {
             "outlinewidth": 0,
             "ticks": ""
            },
            "colorscale": [
             [
              0,
              "#0d0887"
             ],
             [
              0.1111111111111111,
              "#46039f"
             ],
             [
              0.2222222222222222,
              "#7201a8"
             ],
             [
              0.3333333333333333,
              "#9c179e"
             ],
             [
              0.4444444444444444,
              "#bd3786"
             ],
             [
              0.5555555555555556,
              "#d8576b"
             ],
             [
              0.6666666666666666,
              "#ed7953"
             ],
             [
              0.7777777777777778,
              "#fb9f3a"
             ],
             [
              0.8888888888888888,
              "#fdca26"
             ],
             [
              1,
              "#f0f921"
             ]
            ],
            "type": "contour"
           }
          ],
          "contourcarpet": [
           {
            "colorbar": {
             "outlinewidth": 0,
             "ticks": ""
            },
            "type": "contourcarpet"
           }
          ],
          "heatmap": [
           {
            "colorbar": {
             "outlinewidth": 0,
             "ticks": ""
            },
            "colorscale": [
             [
              0,
              "#0d0887"
             ],
             [
              0.1111111111111111,
              "#46039f"
             ],
             [
              0.2222222222222222,
              "#7201a8"
             ],
             [
              0.3333333333333333,
              "#9c179e"
             ],
             [
              0.4444444444444444,
              "#bd3786"
             ],
             [
              0.5555555555555556,
              "#d8576b"
             ],
             [
              0.6666666666666666,
              "#ed7953"
             ],
             [
              0.7777777777777778,
              "#fb9f3a"
             ],
             [
              0.8888888888888888,
              "#fdca26"
             ],
             [
              1,
              "#f0f921"
             ]
            ],
            "type": "heatmap"
           }
          ],
          "histogram": [
           {
            "marker": {
             "pattern": {
              "fillmode": "overlay",
              "size": 10,
              "solidity": 0.2
             }
            },
            "type": "histogram"
           }
          ],
          "histogram2d": [
           {
            "colorbar": {
             "outlinewidth": 0,
             "ticks": ""
            },
            "colorscale": [
             [
              0,
              "#0d0887"
             ],
             [
              0.1111111111111111,
              "#46039f"
             ],
             [
              0.2222222222222222,
              "#7201a8"
             ],
             [
              0.3333333333333333,
              "#9c179e"
             ],
             [
              0.4444444444444444,
              "#bd3786"
             ],
             [
              0.5555555555555556,
              "#d8576b"
             ],
             [
              0.6666666666666666,
              "#ed7953"
             ],
             [
              0.7777777777777778,
              "#fb9f3a"
             ],
             [
              0.8888888888888888,
              "#fdca26"
             ],
             [
              1,
              "#f0f921"
             ]
            ],
            "type": "histogram2d"
           }
          ],
          "histogram2dcontour": [
           {
            "colorbar": {
             "outlinewidth": 0,
             "ticks": ""
            },
            "colorscale": [
             [
              0,
              "#0d0887"
             ],
             [
              0.1111111111111111,
              "#46039f"
             ],
             [
              0.2222222222222222,
              "#7201a8"
             ],
             [
              0.3333333333333333,
              "#9c179e"
             ],
             [
              0.4444444444444444,
              "#bd3786"
             ],
             [
              0.5555555555555556,
              "#d8576b"
             ],
             [
              0.6666666666666666,
              "#ed7953"
             ],
             [
              0.7777777777777778,
              "#fb9f3a"
             ],
             [
              0.8888888888888888,
              "#fdca26"
             ],
             [
              1,
              "#f0f921"
             ]
            ],
            "type": "histogram2dcontour"
           }
          ],
          "mesh3d": [
           {
            "colorbar": {
             "outlinewidth": 0,
             "ticks": ""
            },
            "type": "mesh3d"
           }
          ],
          "parcoords": [
           {
            "line": {
             "colorbar": {
              "outlinewidth": 0,
              "ticks": ""
             }
            },
            "type": "parcoords"
           }
          ],
          "pie": [
           {
            "automargin": true,
            "type": "pie"
           }
          ],
          "scatter": [
           {
            "fillpattern": {
             "fillmode": "overlay",
             "size": 10,
             "solidity": 0.2
            },
            "type": "scatter"
           }
          ],
          "scatter3d": [
           {
            "line": {
             "colorbar": {
              "outlinewidth": 0,
              "ticks": ""
             }
            },
            "marker": {
             "colorbar": {
              "outlinewidth": 0,
              "ticks": ""
             }
            },
            "type": "scatter3d"
           }
          ],
          "scattercarpet": [
           {
            "marker": {
             "colorbar": {
              "outlinewidth": 0,
              "ticks": ""
             }
            },
            "type": "scattercarpet"
           }
          ],
          "scattergeo": [
           {
            "marker": {
             "colorbar": {
              "outlinewidth": 0,
              "ticks": ""
             }
            },
            "type": "scattergeo"
           }
          ],
          "scattergl": [
           {
            "marker": {
             "colorbar": {
              "outlinewidth": 0,
              "ticks": ""
             }
            },
            "type": "scattergl"
           }
          ],
          "scattermap": [
           {
            "marker": {
             "colorbar": {
              "outlinewidth": 0,
              "ticks": ""
             }
            },
            "type": "scattermap"
           }
          ],
          "scattermapbox": [
           {
            "marker": {
             "colorbar": {
              "outlinewidth": 0,
              "ticks": ""
             }
            },
            "type": "scattermapbox"
           }
          ],
          "scatterpolar": [
           {
            "marker": {
             "colorbar": {
              "outlinewidth": 0,
              "ticks": ""
             }
            },
            "type": "scatterpolar"
           }
          ],
          "scatterpolargl": [
           {
            "marker": {
             "colorbar": {
              "outlinewidth": 0,
              "ticks": ""
             }
            },
            "type": "scatterpolargl"
           }
          ],
          "scatterternary": [
           {
            "marker": {
             "colorbar": {
              "outlinewidth": 0,
              "ticks": ""
             }
            },
            "type": "scatterternary"
           }
          ],
          "surface": [
           {
            "colorbar": {
             "outlinewidth": 0,
             "ticks": ""
            },
            "colorscale": [
             [
              0,
              "#0d0887"
             ],
             [
              0.1111111111111111,
              "#46039f"
             ],
             [
              0.2222222222222222,
              "#7201a8"
             ],
             [
              0.3333333333333333,
              "#9c179e"
             ],
             [
              0.4444444444444444,
              "#bd3786"
             ],
             [
              0.5555555555555556,
              "#d8576b"
             ],
             [
              0.6666666666666666,
              "#ed7953"
             ],
             [
              0.7777777777777778,
              "#fb9f3a"
             ],
             [
              0.8888888888888888,
              "#fdca26"
             ],
             [
              1,
              "#f0f921"
             ]
            ],
            "type": "surface"
           }
          ],
          "table": [
           {
            "cells": {
             "fill": {
              "color": "#EBF0F8"
             },
             "line": {
              "color": "white"
             }
            },
            "header": {
             "fill": {
              "color": "#C8D4E3"
             },
             "line": {
              "color": "white"
             }
            },
            "type": "table"
           }
          ]
         },
         "layout": {
          "annotationdefaults": {
           "arrowcolor": "#2a3f5f",
           "arrowhead": 0,
           "arrowwidth": 1
          },
          "autotypenumbers": "strict",
          "coloraxis": {
           "colorbar": {
            "outlinewidth": 0,
            "ticks": ""
           }
          },
          "colorscale": {
           "diverging": [
            [
             0,
             "#8e0152"
            ],
            [
             0.1,
             "#c51b7d"
            ],
            [
             0.2,
             "#de77ae"
            ],
            [
             0.3,
             "#f1b6da"
            ],
            [
             0.4,
             "#fde0ef"
            ],
            [
             0.5,
             "#f7f7f7"
            ],
            [
             0.6,
             "#e6f5d0"
            ],
            [
             0.7,
             "#b8e186"
            ],
            [
             0.8,
             "#7fbc41"
            ],
            [
             0.9,
             "#4d9221"
            ],
            [
             1,
             "#276419"
            ]
           ],
           "sequential": [
            [
             0,
             "#0d0887"
            ],
            [
             0.1111111111111111,
             "#46039f"
            ],
            [
             0.2222222222222222,
             "#7201a8"
            ],
            [
             0.3333333333333333,
             "#9c179e"
            ],
            [
             0.4444444444444444,
             "#bd3786"
            ],
            [
             0.5555555555555556,
             "#d8576b"
            ],
            [
             0.6666666666666666,
             "#ed7953"
            ],
            [
             0.7777777777777778,
             "#fb9f3a"
            ],
            [
             0.8888888888888888,
             "#fdca26"
            ],
            [
             1,
             "#f0f921"
            ]
           ],
           "sequentialminus": [
            [
             0,
             "#0d0887"
            ],
            [
             0.1111111111111111,
             "#46039f"
            ],
            [
             0.2222222222222222,
             "#7201a8"
            ],
            [
             0.3333333333333333,
             "#9c179e"
            ],
            [
             0.4444444444444444,
             "#bd3786"
            ],
            [
             0.5555555555555556,
             "#d8576b"
            ],
            [
             0.6666666666666666,
             "#ed7953"
            ],
            [
             0.7777777777777778,
             "#fb9f3a"
            ],
            [
             0.8888888888888888,
             "#fdca26"
            ],
            [
             1,
             "#f0f921"
            ]
           ]
          },
          "colorway": [
           "#636efa",
           "#EF553B",
           "#00cc96",
           "#ab63fa",
           "#FFA15A",
           "#19d3f3",
           "#FF6692",
           "#B6E880",
           "#FF97FF",
           "#FECB52"
          ],
          "font": {
           "color": "#2a3f5f"
          },
          "geo": {
           "bgcolor": "white",
           "lakecolor": "white",
           "landcolor": "#E5ECF6",
           "showlakes": true,
           "showland": true,
           "subunitcolor": "white"
          },
          "hoverlabel": {
           "align": "left"
          },
          "hovermode": "closest",
          "mapbox": {
           "style": "light"
          },
          "paper_bgcolor": "white",
          "plot_bgcolor": "#E5ECF6",
          "polar": {
           "angularaxis": {
            "gridcolor": "white",
            "linecolor": "white",
            "ticks": ""
           },
           "bgcolor": "#E5ECF6",
           "radialaxis": {
            "gridcolor": "white",
            "linecolor": "white",
            "ticks": ""
           }
          },
          "scene": {
           "xaxis": {
            "backgroundcolor": "#E5ECF6",
            "gridcolor": "white",
            "gridwidth": 2,
            "linecolor": "white",
            "showbackground": true,
            "ticks": "",
            "zerolinecolor": "white"
           },
           "yaxis": {
            "backgroundcolor": "#E5ECF6",
            "gridcolor": "white",
            "gridwidth": 2,
            "linecolor": "white",
            "showbackground": true,
            "ticks": "",
            "zerolinecolor": "white"
           },
           "zaxis": {
            "backgroundcolor": "#E5ECF6",
            "gridcolor": "white",
            "gridwidth": 2,
            "linecolor": "white",
            "showbackground": true,
            "ticks": "",
            "zerolinecolor": "white"
           }
          },
          "shapedefaults": {
           "line": {
            "color": "#2a3f5f"
           }
          },
          "ternary": {
           "aaxis": {
            "gridcolor": "white",
            "linecolor": "white",
            "ticks": ""
           },
           "baxis": {
            "gridcolor": "white",
            "linecolor": "white",
            "ticks": ""
           },
           "bgcolor": "#E5ECF6",
           "caxis": {
            "gridcolor": "white",
            "linecolor": "white",
            "ticks": ""
           }
          },
          "title": {
           "x": 0.05
          },
          "xaxis": {
           "automargin": true,
           "gridcolor": "white",
           "linecolor": "white",
           "ticks": "",
           "title": {
            "standoff": 15
           },
           "zerolinecolor": "white",
           "zerolinewidth": 2
          },
          "yaxis": {
           "automargin": true,
           "gridcolor": "white",
           "linecolor": "white",
           "ticks": "",
           "title": {
            "standoff": 15
           },
           "zerolinecolor": "white",
           "zerolinewidth": 2
          }
         }
        },
        "title": {
         "text": "Top 10 Topics in 2023"
        },
        "xaxis": {
         "anchor": "y",
         "domain": [
          0,
          1
         ],
         "title": {
          "text": "Occurrences"
         }
        },
        "yaxis": {
         "anchor": "x",
         "categoryarray": [
          "Voice and Speech Disorders",
          "Metaheuristic Optimization Algorithms Research",
          "Water Quality Monitoring Technologies",
          "Gaussian Processes and Bayesian Inference",
          "Teleoperation and Haptic Systems",
          "Product Development and Customization",
          "Real-Time Systems Scheduling",
          "Safety Systems Engineering in Autonomy",
          "Healthcare Technology and Patient Monitoring",
          "Synthetic Organic Chemistry Methods"
         ],
         "categoryorder": "array",
         "domain": [
          0,
          1
         ],
         "title": {
          "text": "Topic"
         }
        }
       }
      }
     },
     "metadata": {},
     "output_type": "display_data"
    },
    {
     "data": {
      "application/vnd.plotly.v1+json": {
       "config": {
        "plotlyServerURL": "https://plot.ly"
       },
       "data": [
        {
         "hovertemplate": "Topic=%{y}<br>Occurrences=%{x}<extra></extra>",
         "legendgroup": "Artificial Intelligence in Healthcare and Education",
         "marker": {
          "color": "#19D3F3",
          "pattern": {
           "shape": ""
          }
         },
         "name": "Artificial Intelligence in Healthcare and Education",
         "orientation": "h",
         "showlegend": true,
         "textposition": "auto",
         "type": "bar",
         "x": {
          "bdata": "BQ==",
          "dtype": "i1"
         },
         "xaxis": "x",
         "y": [
          "Artificial Intelligence in Healthcare and Education"
         ],
         "yaxis": "y"
        },
        {
         "hovertemplate": "Topic=%{y}<br>Occurrences=%{x}<extra></extra>",
         "legendgroup": "Bayesian Modeling and Causal Inference",
         "marker": {
          "color": "rgb(51, 34, 136)",
          "pattern": {
           "shape": ""
          }
         },
         "name": "Bayesian Modeling and Causal Inference",
         "orientation": "h",
         "showlegend": true,
         "textposition": "auto",
         "type": "bar",
         "x": {
          "bdata": "BQ==",
          "dtype": "i1"
         },
         "xaxis": "x",
         "y": [
          "Bayesian Modeling and Causal Inference"
         ],
         "yaxis": "y"
        },
        {
         "hovertemplate": "Topic=%{y}<br>Occurrences=%{x}<extra></extra>",
         "legendgroup": "AI-based Problem Solving and Planning",
         "marker": {
          "color": "#636EFA",
          "pattern": {
           "shape": ""
          }
         },
         "name": "AI-based Problem Solving and Planning",
         "orientation": "h",
         "showlegend": true,
         "textposition": "auto",
         "type": "bar",
         "x": {
          "bdata": "BQ==",
          "dtype": "i1"
         },
         "xaxis": "x",
         "y": [
          "AI-based Problem Solving and Planning"
         ],
         "yaxis": "y"
        },
        {
         "hovertemplate": "Topic=%{y}<br>Occurrences=%{x}<extra></extra>",
         "legendgroup": "Software Engineering Research",
         "marker": {
          "color": "rgb(82, 106, 131)",
          "pattern": {
           "shape": ""
          }
         },
         "name": "Software Engineering Research",
         "orientation": "h",
         "showlegend": true,
         "textposition": "auto",
         "type": "bar",
         "x": {
          "bdata": "BQ==",
          "dtype": "i1"
         },
         "xaxis": "x",
         "y": [
          "Software Engineering Research"
         ],
         "yaxis": "y"
        },
        {
         "hovertemplate": "Topic=%{y}<br>Occurrences=%{x}<extra></extra>",
         "legendgroup": "Machine Learning and Data Classification",
         "marker": {
          "color": "rgb(136, 136, 136)",
          "pattern": {
           "shape": ""
          }
         },
         "name": "Machine Learning and Data Classification",
         "orientation": "h",
         "showlegend": true,
         "textposition": "auto",
         "type": "bar",
         "x": {
          "bdata": "Bg==",
          "dtype": "i1"
         },
         "xaxis": "x",
         "y": [
          "Machine Learning and Data Classification"
         ],
         "yaxis": "y"
        },
        {
         "hovertemplate": "Topic=%{y}<br>Occurrences=%{x}<extra></extra>",
         "legendgroup": "Machine Learning in Healthcare",
         "marker": {
          "color": "rgb(246, 207, 113)",
          "pattern": {
           "shape": ""
          }
         },
         "name": "Machine Learning in Healthcare",
         "orientation": "h",
         "showlegend": true,
         "textposition": "auto",
         "type": "bar",
         "x": {
          "bdata": "Bg==",
          "dtype": "i1"
         },
         "xaxis": "x",
         "y": [
          "Machine Learning in Healthcare"
         ],
         "yaxis": "y"
        },
        {
         "hovertemplate": "Topic=%{y}<br>Occurrences=%{x}<extra></extra>",
         "legendgroup": "Ethics and Social Impacts of AI",
         "marker": {
          "color": "rgb(220, 176, 242)",
          "pattern": {
           "shape": ""
          }
         },
         "name": "Ethics and Social Impacts of AI",
         "orientation": "h",
         "showlegend": true,
         "textposition": "auto",
         "type": "bar",
         "x": {
          "bdata": "Bg==",
          "dtype": "i1"
         },
         "xaxis": "x",
         "y": [
          "Ethics and Social Impacts of AI"
         ],
         "yaxis": "y"
        },
        {
         "hovertemplate": "Topic=%{y}<br>Occurrences=%{x}<extra></extra>",
         "legendgroup": "Smart Grid Energy Management",
         "marker": {
          "color": "rgb(180, 151, 231)",
          "pattern": {
           "shape": ""
          }
         },
         "name": "Smart Grid Energy Management",
         "orientation": "h",
         "showlegend": true,
         "textposition": "auto",
         "type": "bar",
         "x": {
          "bdata": "Bw==",
          "dtype": "i1"
         },
         "xaxis": "x",
         "y": [
          "Smart Grid Energy Management"
         ],
         "yaxis": "y"
        },
        {
         "hovertemplate": "Topic=%{y}<br>Occurrences=%{x}<extra></extra>",
         "legendgroup": "Topic Modeling",
         "marker": {
          "color": "rgb(248, 156, 116)",
          "pattern": {
           "shape": ""
          }
         },
         "name": "Topic Modeling",
         "orientation": "h",
         "showlegend": true,
         "textposition": "auto",
         "type": "bar",
         "x": {
          "bdata": "CQ==",
          "dtype": "i1"
         },
         "xaxis": "x",
         "y": [
          "Topic Modeling"
         ],
         "yaxis": "y"
        },
        {
         "hovertemplate": "Topic=%{y}<br>Occurrences=%{x}<extra></extra>",
         "legendgroup": "Explainable Artificial Intelligence (XAI)",
         "marker": {
          "color": "rgb(179, 179, 179)",
          "pattern": {
           "shape": ""
          }
         },
         "name": "Explainable Artificial Intelligence (XAI)",
         "orientation": "h",
         "showlegend": true,
         "textposition": "auto",
         "type": "bar",
         "x": {
          "bdata": "Fg==",
          "dtype": "i1"
         },
         "xaxis": "x",
         "y": [
          "Explainable Artificial Intelligence (XAI)"
         ],
         "yaxis": "y"
        }
       ],
       "layout": {
        "barmode": "relative",
        "legend": {
         "title": {
          "text": "Topic"
         },
         "tracegroupgap": 0
        },
        "showlegend": false,
        "template": {
         "data": {
          "bar": [
           {
            "error_x": {
             "color": "#2a3f5f"
            },
            "error_y": {
             "color": "#2a3f5f"
            },
            "marker": {
             "line": {
              "color": "#E5ECF6",
              "width": 0.5
             },
             "pattern": {
              "fillmode": "overlay",
              "size": 10,
              "solidity": 0.2
             }
            },
            "type": "bar"
           }
          ],
          "barpolar": [
           {
            "marker": {
             "line": {
              "color": "#E5ECF6",
              "width": 0.5
             },
             "pattern": {
              "fillmode": "overlay",
              "size": 10,
              "solidity": 0.2
             }
            },
            "type": "barpolar"
           }
          ],
          "carpet": [
           {
            "aaxis": {
             "endlinecolor": "#2a3f5f",
             "gridcolor": "white",
             "linecolor": "white",
             "minorgridcolor": "white",
             "startlinecolor": "#2a3f5f"
            },
            "baxis": {
             "endlinecolor": "#2a3f5f",
             "gridcolor": "white",
             "linecolor": "white",
             "minorgridcolor": "white",
             "startlinecolor": "#2a3f5f"
            },
            "type": "carpet"
           }
          ],
          "choropleth": [
           {
            "colorbar": {
             "outlinewidth": 0,
             "ticks": ""
            },
            "type": "choropleth"
           }
          ],
          "contour": [
           {
            "colorbar": {
             "outlinewidth": 0,
             "ticks": ""
            },
            "colorscale": [
             [
              0,
              "#0d0887"
             ],
             [
              0.1111111111111111,
              "#46039f"
             ],
             [
              0.2222222222222222,
              "#7201a8"
             ],
             [
              0.3333333333333333,
              "#9c179e"
             ],
             [
              0.4444444444444444,
              "#bd3786"
             ],
             [
              0.5555555555555556,
              "#d8576b"
             ],
             [
              0.6666666666666666,
              "#ed7953"
             ],
             [
              0.7777777777777778,
              "#fb9f3a"
             ],
             [
              0.8888888888888888,
              "#fdca26"
             ],
             [
              1,
              "#f0f921"
             ]
            ],
            "type": "contour"
           }
          ],
          "contourcarpet": [
           {
            "colorbar": {
             "outlinewidth": 0,
             "ticks": ""
            },
            "type": "contourcarpet"
           }
          ],
          "heatmap": [
           {
            "colorbar": {
             "outlinewidth": 0,
             "ticks": ""
            },
            "colorscale": [
             [
              0,
              "#0d0887"
             ],
             [
              0.1111111111111111,
              "#46039f"
             ],
             [
              0.2222222222222222,
              "#7201a8"
             ],
             [
              0.3333333333333333,
              "#9c179e"
             ],
             [
              0.4444444444444444,
              "#bd3786"
             ],
             [
              0.5555555555555556,
              "#d8576b"
             ],
             [
              0.6666666666666666,
              "#ed7953"
             ],
             [
              0.7777777777777778,
              "#fb9f3a"
             ],
             [
              0.8888888888888888,
              "#fdca26"
             ],
             [
              1,
              "#f0f921"
             ]
            ],
            "type": "heatmap"
           }
          ],
          "histogram": [
           {
            "marker": {
             "pattern": {
              "fillmode": "overlay",
              "size": 10,
              "solidity": 0.2
             }
            },
            "type": "histogram"
           }
          ],
          "histogram2d": [
           {
            "colorbar": {
             "outlinewidth": 0,
             "ticks": ""
            },
            "colorscale": [
             [
              0,
              "#0d0887"
             ],
             [
              0.1111111111111111,
              "#46039f"
             ],
             [
              0.2222222222222222,
              "#7201a8"
             ],
             [
              0.3333333333333333,
              "#9c179e"
             ],
             [
              0.4444444444444444,
              "#bd3786"
             ],
             [
              0.5555555555555556,
              "#d8576b"
             ],
             [
              0.6666666666666666,
              "#ed7953"
             ],
             [
              0.7777777777777778,
              "#fb9f3a"
             ],
             [
              0.8888888888888888,
              "#fdca26"
             ],
             [
              1,
              "#f0f921"
             ]
            ],
            "type": "histogram2d"
           }
          ],
          "histogram2dcontour": [
           {
            "colorbar": {
             "outlinewidth": 0,
             "ticks": ""
            },
            "colorscale": [
             [
              0,
              "#0d0887"
             ],
             [
              0.1111111111111111,
              "#46039f"
             ],
             [
              0.2222222222222222,
              "#7201a8"
             ],
             [
              0.3333333333333333,
              "#9c179e"
             ],
             [
              0.4444444444444444,
              "#bd3786"
             ],
             [
              0.5555555555555556,
              "#d8576b"
             ],
             [
              0.6666666666666666,
              "#ed7953"
             ],
             [
              0.7777777777777778,
              "#fb9f3a"
             ],
             [
              0.8888888888888888,
              "#fdca26"
             ],
             [
              1,
              "#f0f921"
             ]
            ],
            "type": "histogram2dcontour"
           }
          ],
          "mesh3d": [
           {
            "colorbar": {
             "outlinewidth": 0,
             "ticks": ""
            },
            "type": "mesh3d"
           }
          ],
          "parcoords": [
           {
            "line": {
             "colorbar": {
              "outlinewidth": 0,
              "ticks": ""
             }
            },
            "type": "parcoords"
           }
          ],
          "pie": [
           {
            "automargin": true,
            "type": "pie"
           }
          ],
          "scatter": [
           {
            "fillpattern": {
             "fillmode": "overlay",
             "size": 10,
             "solidity": 0.2
            },
            "type": "scatter"
           }
          ],
          "scatter3d": [
           {
            "line": {
             "colorbar": {
              "outlinewidth": 0,
              "ticks": ""
             }
            },
            "marker": {
             "colorbar": {
              "outlinewidth": 0,
              "ticks": ""
             }
            },
            "type": "scatter3d"
           }
          ],
          "scattercarpet": [
           {
            "marker": {
             "colorbar": {
              "outlinewidth": 0,
              "ticks": ""
             }
            },
            "type": "scattercarpet"
           }
          ],
          "scattergeo": [
           {
            "marker": {
             "colorbar": {
              "outlinewidth": 0,
              "ticks": ""
             }
            },
            "type": "scattergeo"
           }
          ],
          "scattergl": [
           {
            "marker": {
             "colorbar": {
              "outlinewidth": 0,
              "ticks": ""
             }
            },
            "type": "scattergl"
           }
          ],
          "scattermap": [
           {
            "marker": {
             "colorbar": {
              "outlinewidth": 0,
              "ticks": ""
             }
            },
            "type": "scattermap"
           }
          ],
          "scattermapbox": [
           {
            "marker": {
             "colorbar": {
              "outlinewidth": 0,
              "ticks": ""
             }
            },
            "type": "scattermapbox"
           }
          ],
          "scatterpolar": [
           {
            "marker": {
             "colorbar": {
              "outlinewidth": 0,
              "ticks": ""
             }
            },
            "type": "scatterpolar"
           }
          ],
          "scatterpolargl": [
           {
            "marker": {
             "colorbar": {
              "outlinewidth": 0,
              "ticks": ""
             }
            },
            "type": "scatterpolargl"
           }
          ],
          "scatterternary": [
           {
            "marker": {
             "colorbar": {
              "outlinewidth": 0,
              "ticks": ""
             }
            },
            "type": "scatterternary"
           }
          ],
          "surface": [
           {
            "colorbar": {
             "outlinewidth": 0,
             "ticks": ""
            },
            "colorscale": [
             [
              0,
              "#0d0887"
             ],
             [
              0.1111111111111111,
              "#46039f"
             ],
             [
              0.2222222222222222,
              "#7201a8"
             ],
             [
              0.3333333333333333,
              "#9c179e"
             ],
             [
              0.4444444444444444,
              "#bd3786"
             ],
             [
              0.5555555555555556,
              "#d8576b"
             ],
             [
              0.6666666666666666,
              "#ed7953"
             ],
             [
              0.7777777777777778,
              "#fb9f3a"
             ],
             [
              0.8888888888888888,
              "#fdca26"
             ],
             [
              1,
              "#f0f921"
             ]
            ],
            "type": "surface"
           }
          ],
          "table": [
           {
            "cells": {
             "fill": {
              "color": "#EBF0F8"
             },
             "line": {
              "color": "white"
             }
            },
            "header": {
             "fill": {
              "color": "#C8D4E3"
             },
             "line": {
              "color": "white"
             }
            },
            "type": "table"
           }
          ]
         },
         "layout": {
          "annotationdefaults": {
           "arrowcolor": "#2a3f5f",
           "arrowhead": 0,
           "arrowwidth": 1
          },
          "autotypenumbers": "strict",
          "coloraxis": {
           "colorbar": {
            "outlinewidth": 0,
            "ticks": ""
           }
          },
          "colorscale": {
           "diverging": [
            [
             0,
             "#8e0152"
            ],
            [
             0.1,
             "#c51b7d"
            ],
            [
             0.2,
             "#de77ae"
            ],
            [
             0.3,
             "#f1b6da"
            ],
            [
             0.4,
             "#fde0ef"
            ],
            [
             0.5,
             "#f7f7f7"
            ],
            [
             0.6,
             "#e6f5d0"
            ],
            [
             0.7,
             "#b8e186"
            ],
            [
             0.8,
             "#7fbc41"
            ],
            [
             0.9,
             "#4d9221"
            ],
            [
             1,
             "#276419"
            ]
           ],
           "sequential": [
            [
             0,
             "#0d0887"
            ],
            [
             0.1111111111111111,
             "#46039f"
            ],
            [
             0.2222222222222222,
             "#7201a8"
            ],
            [
             0.3333333333333333,
             "#9c179e"
            ],
            [
             0.4444444444444444,
             "#bd3786"
            ],
            [
             0.5555555555555556,
             "#d8576b"
            ],
            [
             0.6666666666666666,
             "#ed7953"
            ],
            [
             0.7777777777777778,
             "#fb9f3a"
            ],
            [
             0.8888888888888888,
             "#fdca26"
            ],
            [
             1,
             "#f0f921"
            ]
           ],
           "sequentialminus": [
            [
             0,
             "#0d0887"
            ],
            [
             0.1111111111111111,
             "#46039f"
            ],
            [
             0.2222222222222222,
             "#7201a8"
            ],
            [
             0.3333333333333333,
             "#9c179e"
            ],
            [
             0.4444444444444444,
             "#bd3786"
            ],
            [
             0.5555555555555556,
             "#d8576b"
            ],
            [
             0.6666666666666666,
             "#ed7953"
            ],
            [
             0.7777777777777778,
             "#fb9f3a"
            ],
            [
             0.8888888888888888,
             "#fdca26"
            ],
            [
             1,
             "#f0f921"
            ]
           ]
          },
          "colorway": [
           "#636efa",
           "#EF553B",
           "#00cc96",
           "#ab63fa",
           "#FFA15A",
           "#19d3f3",
           "#FF6692",
           "#B6E880",
           "#FF97FF",
           "#FECB52"
          ],
          "font": {
           "color": "#2a3f5f"
          },
          "geo": {
           "bgcolor": "white",
           "lakecolor": "white",
           "landcolor": "#E5ECF6",
           "showlakes": true,
           "showland": true,
           "subunitcolor": "white"
          },
          "hoverlabel": {
           "align": "left"
          },
          "hovermode": "closest",
          "mapbox": {
           "style": "light"
          },
          "paper_bgcolor": "white",
          "plot_bgcolor": "#E5ECF6",
          "polar": {
           "angularaxis": {
            "gridcolor": "white",
            "linecolor": "white",
            "ticks": ""
           },
           "bgcolor": "#E5ECF6",
           "radialaxis": {
            "gridcolor": "white",
            "linecolor": "white",
            "ticks": ""
           }
          },
          "scene": {
           "xaxis": {
            "backgroundcolor": "#E5ECF6",
            "gridcolor": "white",
            "gridwidth": 2,
            "linecolor": "white",
            "showbackground": true,
            "ticks": "",
            "zerolinecolor": "white"
           },
           "yaxis": {
            "backgroundcolor": "#E5ECF6",
            "gridcolor": "white",
            "gridwidth": 2,
            "linecolor": "white",
            "showbackground": true,
            "ticks": "",
            "zerolinecolor": "white"
           },
           "zaxis": {
            "backgroundcolor": "#E5ECF6",
            "gridcolor": "white",
            "gridwidth": 2,
            "linecolor": "white",
            "showbackground": true,
            "ticks": "",
            "zerolinecolor": "white"
           }
          },
          "shapedefaults": {
           "line": {
            "color": "#2a3f5f"
           }
          },
          "ternary": {
           "aaxis": {
            "gridcolor": "white",
            "linecolor": "white",
            "ticks": ""
           },
           "baxis": {
            "gridcolor": "white",
            "linecolor": "white",
            "ticks": ""
           },
           "bgcolor": "#E5ECF6",
           "caxis": {
            "gridcolor": "white",
            "linecolor": "white",
            "ticks": ""
           }
          },
          "title": {
           "x": 0.05
          },
          "xaxis": {
           "automargin": true,
           "gridcolor": "white",
           "linecolor": "white",
           "ticks": "",
           "title": {
            "standoff": 15
           },
           "zerolinecolor": "white",
           "zerolinewidth": 2
          },
          "yaxis": {
           "automargin": true,
           "gridcolor": "white",
           "linecolor": "white",
           "ticks": "",
           "title": {
            "standoff": 15
           },
           "zerolinecolor": "white",
           "zerolinewidth": 2
          }
         }
        },
        "title": {
         "text": "Top 10 Topics in 2024"
        },
        "xaxis": {
         "anchor": "y",
         "domain": [
          0,
          1
         ],
         "title": {
          "text": "Occurrences"
         }
        },
        "yaxis": {
         "anchor": "x",
         "categoryarray": [
          "Explainable Artificial Intelligence (XAI)",
          "Topic Modeling",
          "Smart Grid Energy Management",
          "Ethics and Social Impacts of AI",
          "Machine Learning in Healthcare",
          "Machine Learning and Data Classification",
          "Software Engineering Research",
          "AI-based Problem Solving and Planning",
          "Bayesian Modeling and Causal Inference",
          "Artificial Intelligence in Healthcare and Education"
         ],
         "categoryorder": "array",
         "domain": [
          0,
          1
         ],
         "title": {
          "text": "Topic"
         }
        }
       }
      }
     },
     "metadata": {},
     "output_type": "display_data"
    }
   ],
   "source": [
    "from pathlib import Path\n",
    "import json\n",
    "import pandas as pd\n",
    "import plotly.express as px\n",
    "\n",
    "try:\n",
    "    base_dir\n",
    "except NameError:\n",
    "    base_dir = Path.cwd()\n",
    "\n",
    "with open(base_dir / \"Data/topic_year_counts.json\", \"r\", encoding=\"utf-8\") as f:\n",
    "    topic_counts = json.load(f)\n",
    "\n",
    "with open(base_dir / \"Data/topic_label.json\", \"r\", encoding=\"utf-8\") as f:\n",
    "    topic_code_to_name = json.load(f)\n",
    "\n",
    "all_topics = sorted(\n",
    "    {\n",
    "        topic_code_to_name.get(topic_code, topic_code)\n",
    "        for topics in topic_counts.values()\n",
    "        for topic_code in topics\n",
    "    }\n",
    ")\n",
    "palette = (\n",
    "    px.colors.qualitative.Plotly\n",
    "    + px.colors.qualitative.Safe\n",
    "    + px.colors.qualitative.Pastel\n",
    "    + px.colors.qualitative.Antique\n",
    ")\n",
    "color_map = {topic: palette[index % len(palette)] for index, topic in enumerate(all_topics)}\n",
    "\n",
    "output_dir = base_dir / \"Visualisations\"\n",
    "output_dir.mkdir(parents=True, exist_ok=True)\n",
    "\n",
    "for year, topics in sorted(topic_counts.items(), key=lambda item: int(item[0])):\n",
    "    df_year = (\n",
    "        pd.DataFrame(\n",
    "            [\n",
    "                {\n",
    "                    \"topic\": topic_code_to_name.get(topic_code, topic_code),\n",
    "                    \"count\": int(count),\n",
    "                }\n",
    "                for topic_code, count in topics.items()\n",
    "            ]\n",
    "        )\n",
    "        .sort_values(\"count\", ascending=False)\n",
    "        .head(10)\n",
    "    )\n",
    "    if df_year.empty:\n",
    "        continue\n",
    "    fig_year = px.bar(\n",
    "        df_year.sort_values(\"count\"),\n",
    "        x=\"count\",\n",
    "        y=\"topic\",\n",
    "        orientation=\"h\",\n",
    "        color=\"topic\",\n",
    "        color_discrete_map=color_map,\n",
    "        title=f\"Top 10 Topics in {year}\",\n",
    "        labels={\"count\": \"Occurrences\", \"topic\": \"Topic\"},\n",
    "    )\n",
    "    fig_year.update_layout(yaxis_title=\"Topic\", xaxis_title=\"Occurrences\", showlegend=False)\n",
    "    fig_year.show()"
   ]
  }
 ],
 "metadata": {
  "kernelspec": {
   "display_name": "lens",
   "language": "python",
   "name": "lens"
  },
  "language_info": {
   "codemirror_mode": {
    "name": "ipython",
    "version": 3
   },
   "file_extension": ".py",
   "mimetype": "text/x-python",
   "name": "python",
   "nbconvert_exporter": "python",
   "pygments_lexer": "ipython3",
   "version": "3.10.12"
  }
 },
 "nbformat": 4,
 "nbformat_minor": 5
}
