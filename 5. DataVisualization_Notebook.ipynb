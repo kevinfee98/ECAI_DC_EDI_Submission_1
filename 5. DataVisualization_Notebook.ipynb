{
 "cells": [
  {
   "cell_type": "markdown",
   "id": "d908ba84",
   "metadata": {},
   "source": [
    "# Data Visualization Notebook\n"
   ]
  },
  {
   "cell_type": "markdown",
   "id": "675f316d",
   "metadata": {},
   "source": [
    "Version with all the topics"
   ]
  },
  {
   "cell_type": "code",
   "execution_count": null,
   "id": "ce274136",
   "metadata": {},
   "outputs": [],
   "source": [
    "%pip install pandas plotly kaleido imageio"
   ]
  },
  {
   "cell_type": "code",
   "execution_count": 33,
   "id": "479ab00c",
   "metadata": {},
   "outputs": [
    {
     "data": {
      "application/vnd.plotly.v1+json": {
       "config": {
        "plotlyServerURL": "https://plot.ly"
       },
       "data": [
        {
         "base": [
          "1994-01-01T00:00:00.000000000",
          "1995-01-01T00:00:00.000000000",
          "1997-01-01T00:00:00.000000000",
          "2001-01-01T00:00:00.000000000",
          "2007-01-01T00:00:00.000000000",
          "2008-01-01T00:00:00.000000000",
          "2010-01-01T00:00:00.000000000",
          "2012-01-01T00:00:00.000000000",
          "2014-01-01T00:00:00.000000000",
          "2016-01-01T00:00:00.000000000",
          "2017-01-01T00:00:00.000000000",
          "2024-01-01T00:00:00.000000000"
         ],
         "hovertemplate": "topic=Logic, Reasoning, and Knowledge<br>start=%{base}<br>finish=%{x}<br>count=%{y}<extra></extra>",
         "legendgroup": "Logic, Reasoning, and Knowledge",
         "marker": {
          "color": "#636EFA",
          "pattern": {
           "shape": ""
          }
         },
         "name": "Logic, Reasoning, and Knowledge",
         "orientation": "h",
         "showlegend": true,
         "textposition": "auto",
         "type": "bar",
         "x": [
          31536000000,
          31536000000,
          31536000000,
          31536000000,
          31536000000,
          31622400000,
          31536000000,
          31622400000,
          31536000000,
          31622400000,
          31536000000,
          31622400000
         ],
         "xaxis": "x",
         "y": {
          "bdata": "EhUFBgwPEDBKHgIC",
          "dtype": "i1"
         },
         "yaxis": "y"
        },
        {
         "base": [
          "1994-01-01T00:00:00.000000000",
          "2008-01-01T00:00:00.000000000",
          "2010-01-01T00:00:00.000000000",
          "2012-01-01T00:00:00.000000000",
          "2014-01-01T00:00:00.000000000",
          "2016-01-01T00:00:00.000000000",
          "2024-01-01T00:00:00.000000000"
         ],
         "hovertemplate": "topic=Machine Learning and Algorithms<br>start=%{base}<br>finish=%{x}<br>count=%{y}<extra></extra>",
         "legendgroup": "Machine Learning and Algorithms",
         "marker": {
          "color": "#EF553B",
          "pattern": {
           "shape": ""
          }
         },
         "name": "Machine Learning and Algorithms",
         "orientation": "h",
         "showlegend": true,
         "textposition": "auto",
         "type": "bar",
         "x": [
          31536000000,
          31622400000,
          31536000000,
          31622400000,
          31536000000,
          31622400000,
          31622400000
         ],
         "xaxis": "x",
         "y": {
          "bdata": "AgMEAwoDAg==",
          "dtype": "i1"
         },
         "yaxis": "y"
        },
        {
         "base": [
          "1994-01-01T00:00:00.000000000",
          "1995-01-01T00:00:00.000000000",
          "1997-01-01T00:00:00.000000000",
          "2001-01-01T00:00:00.000000000",
          "2007-01-01T00:00:00.000000000",
          "2008-01-01T00:00:00.000000000",
          "2009-01-01T00:00:00.000000000",
          "2010-01-01T00:00:00.000000000",
          "2011-01-01T00:00:00.000000000",
          "2012-01-01T00:00:00.000000000",
          "2014-01-01T00:00:00.000000000",
          "2016-01-01T00:00:00.000000000"
         ],
         "hovertemplate": "topic=Semantic Web and Ontologies<br>start=%{base}<br>finish=%{x}<br>count=%{y}<extra></extra>",
         "legendgroup": "Semantic Web and Ontologies",
         "marker": {
          "color": "#00CC96",
          "pattern": {
           "shape": ""
          }
         },
         "name": "Semantic Web and Ontologies",
         "orientation": "h",
         "showlegend": true,
         "textposition": "auto",
         "type": "bar",
         "x": [
          31536000000,
          31536000000,
          31536000000,
          31536000000,
          31536000000,
          31622400000,
          31536000000,
          31536000000,
          31536000000,
          31622400000,
          31536000000,
          31622400000
         ],
         "xaxis": "x",
         "y": {
          "bdata": "CwkCAgULBwkHIzET",
          "dtype": "i1"
         },
         "yaxis": "y"
        },
        {
         "base": [
          "1994-01-01T00:00:00.000000000",
          "1997-01-01T00:00:00.000000000",
          "2008-01-01T00:00:00.000000000",
          "2010-01-01T00:00:00.000000000",
          "2012-01-01T00:00:00.000000000",
          "2014-01-01T00:00:00.000000000",
          "2016-01-01T00:00:00.000000000",
          "2024-01-01T00:00:00.000000000"
         ],
         "hovertemplate": "topic=Natural Language Processing Techniques<br>start=%{base}<br>finish=%{x}<br>count=%{y}<extra></extra>",
         "legendgroup": "Natural Language Processing Techniques",
         "marker": {
          "color": "#AB63FA",
          "pattern": {
           "shape": ""
          }
         },
         "name": "Natural Language Processing Techniques",
         "orientation": "h",
         "showlegend": true,
         "textposition": "auto",
         "type": "bar",
         "x": [
          31536000000,
          31536000000,
          31622400000,
          31536000000,
          31622400000,
          31536000000,
          31622400000,
          31622400000
         ],
         "xaxis": "x",
         "y": {
          "bdata": "AgsEBA4IAwM=",
          "dtype": "i1"
         },
         "yaxis": "y"
        },
        {
         "base": [
          "1994-01-01T00:00:00.000000000",
          "2008-01-01T00:00:00.000000000",
          "2010-01-01T00:00:00.000000000",
          "2012-01-01T00:00:00.000000000",
          "2014-01-01T00:00:00.000000000"
         ],
         "hovertemplate": "topic=Advanced Algebra and Logic<br>start=%{base}<br>finish=%{x}<br>count=%{y}<extra></extra>",
         "legendgroup": "Advanced Algebra and Logic",
         "marker": {
          "color": "#FFA15A",
          "pattern": {
           "shape": ""
          }
         },
         "name": "Advanced Algebra and Logic",
         "orientation": "h",
         "showlegend": true,
         "textposition": "auto",
         "type": "bar",
         "x": [
          31536000000,
          31622400000,
          31536000000,
          31622400000,
          31536000000
         ],
         "xaxis": "x",
         "y": {
          "bdata": "AwICAwI=",
          "dtype": "i1"
         },
         "yaxis": "y"
        },
        {
         "base": [
          "1994-01-01T00:00:00.000000000",
          "2001-01-01T00:00:00.000000000",
          "2008-01-01T00:00:00.000000000",
          "2010-01-01T00:00:00.000000000",
          "2012-01-01T00:00:00.000000000",
          "2014-01-01T00:00:00.000000000",
          "2016-01-01T00:00:00.000000000"
         ],
         "hovertemplate": "topic=Distributed Constraint Optimization Problems and Algorithms<br>start=%{base}<br>finish=%{x}<br>count=%{y}<extra></extra>",
         "legendgroup": "Distributed Constraint Optimization Problems and Algorithms",
         "marker": {
          "color": "#19D3F3",
          "pattern": {
           "shape": ""
          }
         },
         "name": "Distributed Constraint Optimization Problems and Algorithms",
         "orientation": "h",
         "showlegend": true,
         "textposition": "auto",
         "type": "bar",
         "x": [
          31536000000,
          31536000000,
          31622400000,
          31536000000,
          31622400000,
          31536000000,
          31622400000
         ],
         "xaxis": "x",
         "y": {
          "bdata": "AwYGCSAdBw==",
          "dtype": "i1"
         },
         "yaxis": "y"
        },
        {
         "base": [
          "1994-01-01T00:00:00.000000000",
          "2008-01-01T00:00:00.000000000",
          "2010-01-01T00:00:00.000000000",
          "2012-01-01T00:00:00.000000000",
          "2014-01-01T00:00:00.000000000",
          "2016-01-01T00:00:00.000000000"
         ],
         "hovertemplate": "topic=Logic, programming, and type systems<br>start=%{base}<br>finish=%{x}<br>count=%{y}<extra></extra>",
         "legendgroup": "Logic, programming, and type systems",
         "marker": {
          "color": "#FF6692",
          "pattern": {
           "shape": ""
          }
         },
         "name": "Logic, programming, and type systems",
         "orientation": "h",
         "showlegend": true,
         "textposition": "auto",
         "type": "bar",
         "x": [
          31536000000,
          31622400000,
          31536000000,
          31622400000,
          31536000000,
          31622400000
         ],
         "xaxis": "x",
         "y": {
          "bdata": "BAIFBg0G",
          "dtype": "i1"
         },
         "yaxis": "y"
        },
        {
         "base": [
          "1994-01-01T00:00:00.000000000",
          "2008-01-01T00:00:00.000000000",
          "2010-01-01T00:00:00.000000000",
          "2012-01-01T00:00:00.000000000",
          "2014-01-01T00:00:00.000000000",
          "2016-01-01T00:00:00.000000000",
          "2024-01-01T00:00:00.000000000"
         ],
         "hovertemplate": "topic=Bayesian Modeling and Causal Inference<br>start=%{base}<br>finish=%{x}<br>count=%{y}<extra></extra>",
         "legendgroup": "Bayesian Modeling and Causal Inference",
         "marker": {
          "color": "#B6E880",
          "pattern": {
           "shape": ""
          }
         },
         "name": "Bayesian Modeling and Causal Inference",
         "orientation": "h",
         "showlegend": true,
         "textposition": "auto",
         "type": "bar",
         "x": [
          31536000000,
          31622400000,
          31536000000,
          31622400000,
          31536000000,
          31622400000,
          31622400000
         ],
         "xaxis": "x",
         "y": {
          "bdata": "AwMFCBkFBQ==",
          "dtype": "i1"
         },
         "yaxis": "y"
        },
        {
         "base": [
          "1994-01-01T00:00:00.000000000",
          "2008-01-01T00:00:00.000000000",
          "2010-01-01T00:00:00.000000000",
          "2012-01-01T00:00:00.000000000",
          "2014-01-01T00:00:00.000000000",
          "2016-01-01T00:00:00.000000000"
         ],
         "hovertemplate": "topic=Data Management and Algorithms<br>start=%{base}<br>finish=%{x}<br>count=%{y}<extra></extra>",
         "legendgroup": "Data Management and Algorithms",
         "marker": {
          "color": "#FF97FF",
          "pattern": {
           "shape": ""
          }
         },
         "name": "Data Management and Algorithms",
         "orientation": "h",
         "showlegend": true,
         "textposition": "auto",
         "type": "bar",
         "x": [
          31536000000,
          31622400000,
          31536000000,
          31622400000,
          31536000000,
          31622400000
         ],
         "xaxis": "x",
         "y": {
          "bdata": "AgMHDhsG",
          "dtype": "i1"
         },
         "yaxis": "y"
        },
        {
         "base": [
          "1994-01-01T00:00:00.000000000",
          "1995-01-01T00:00:00.000000000",
          "1997-01-01T00:00:00.000000000",
          "2001-01-01T00:00:00.000000000",
          "2008-01-01T00:00:00.000000000",
          "2012-01-01T00:00:00.000000000",
          "2014-01-01T00:00:00.000000000",
          "2016-01-01T00:00:00.000000000",
          "2024-01-01T00:00:00.000000000"
         ],
         "hovertemplate": "topic=AI-based Problem Solving and Planning<br>start=%{base}<br>finish=%{x}<br>count=%{y}<extra></extra>",
         "legendgroup": "AI-based Problem Solving and Planning",
         "marker": {
          "color": "#FECB52",
          "pattern": {
           "shape": ""
          }
         },
         "name": "AI-based Problem Solving and Planning",
         "orientation": "h",
         "showlegend": true,
         "textposition": "auto",
         "type": "bar",
         "x": [
          31536000000,
          31536000000,
          31536000000,
          31536000000,
          31622400000,
          31622400000,
          31536000000,
          31622400000,
          31622400000
         ],
         "xaxis": "x",
         "y": {
          "bdata": "BQgCCgsbIRIF",
          "dtype": "i1"
         },
         "yaxis": "y"
        },
        {
         "base": [
          "1994-01-01T00:00:00.000000000",
          "1995-01-01T00:00:00.000000000",
          "1997-01-01T00:00:00.000000000",
          "2001-01-01T00:00:00.000000000",
          "2007-01-01T00:00:00.000000000",
          "2008-01-01T00:00:00.000000000",
          "2010-01-01T00:00:00.000000000",
          "2012-01-01T00:00:00.000000000",
          "2014-01-01T00:00:00.000000000",
          "2016-01-01T00:00:00.000000000",
          "2017-01-01T00:00:00.000000000"
         ],
         "hovertemplate": "topic=Multi-Agent Systems and Negotiation<br>start=%{base}<br>finish=%{x}<br>count=%{y}<extra></extra>",
         "legendgroup": "Multi-Agent Systems and Negotiation",
         "marker": {
          "color": "#636EFA",
          "pattern": {
           "shape": ""
          }
         },
         "name": "Multi-Agent Systems and Negotiation",
         "orientation": "h",
         "showlegend": true,
         "textposition": "auto",
         "type": "bar",
         "x": [
          31536000000,
          31536000000,
          31536000000,
          31536000000,
          31536000000,
          31622400000,
          31536000000,
          31622400000,
          31536000000,
          31622400000,
          31536000000
         ],
         "xaxis": "x",
         "y": {
          "bdata": "AxUNBhQIBxUtFAM=",
          "dtype": "i1"
         },
         "yaxis": "y"
        },
        {
         "base": [
          "1995-01-01T00:00:00.000000000"
         ],
         "hovertemplate": "topic=Mobile Agent-Based Network Management<br>start=%{base}<br>finish=%{x}<br>count=%{y}<extra></extra>",
         "legendgroup": "Mobile Agent-Based Network Management",
         "marker": {
          "color": "#EF553B",
          "pattern": {
           "shape": ""
          }
         },
         "name": "Mobile Agent-Based Network Management",
         "orientation": "h",
         "showlegend": true,
         "textposition": "auto",
         "type": "bar",
         "x": [
          31536000000
         ],
         "xaxis": "x",
         "y": {
          "bdata": "Ag==",
          "dtype": "i1"
         },
         "yaxis": "y"
        },
        {
         "base": [
          "1995-01-01T00:00:00.000000000",
          "1997-01-01T00:00:00.000000000",
          "2001-01-01T00:00:00.000000000",
          "2008-01-01T00:00:00.000000000",
          "2010-01-01T00:00:00.000000000",
          "2012-01-01T00:00:00.000000000",
          "2014-01-01T00:00:00.000000000",
          "2016-01-01T00:00:00.000000000"
         ],
         "hovertemplate": "topic=Robotic Path Planning Algorithms<br>start=%{base}<br>finish=%{x}<br>count=%{y}<extra></extra>",
         "legendgroup": "Robotic Path Planning Algorithms",
         "marker": {
          "color": "#00CC96",
          "pattern": {
           "shape": ""
          }
         },
         "name": "Robotic Path Planning Algorithms",
         "orientation": "h",
         "showlegend": true,
         "textposition": "auto",
         "type": "bar",
         "x": [
          31536000000,
          31536000000,
          31536000000,
          31622400000,
          31536000000,
          31622400000,
          31536000000,
          31622400000
         ],
         "xaxis": "x",
         "y": {
          "bdata": "AgMFAgICAwY=",
          "dtype": "i1"
         },
         "yaxis": "y"
        },
        {
         "base": [
          "1997-01-01T00:00:00.000000000"
         ],
         "hovertemplate": "topic=Language and cultural evolution<br>start=%{base}<br>finish=%{x}<br>count=%{y}<extra></extra>",
         "legendgroup": "Language and cultural evolution",
         "marker": {
          "color": "#AB63FA",
          "pattern": {
           "shape": ""
          }
         },
         "name": "Language and cultural evolution",
         "orientation": "h",
         "showlegend": true,
         "textposition": "auto",
         "type": "bar",
         "x": [
          31536000000
         ],
         "xaxis": "x",
         "y": {
          "bdata": "Ag==",
          "dtype": "i1"
         },
         "yaxis": "y"
        },
        {
         "base": [
          "1997-01-01T00:00:00.000000000",
          "2014-01-01T00:00:00.000000000",
          "2016-01-01T00:00:00.000000000"
         ],
         "hovertemplate": "topic=Evolutionary Game Theory and Cooperation<br>start=%{base}<br>finish=%{x}<br>count=%{y}<extra></extra>",
         "legendgroup": "Evolutionary Game Theory and Cooperation",
         "marker": {
          "color": "#FFA15A",
          "pattern": {
           "shape": ""
          }
         },
         "name": "Evolutionary Game Theory and Cooperation",
         "orientation": "h",
         "showlegend": true,
         "textposition": "auto",
         "type": "bar",
         "x": [
          31536000000,
          31536000000,
          31622400000
         ],
         "xaxis": "x",
         "y": {
          "bdata": "AgQD",
          "dtype": "i1"
         },
         "yaxis": "y"
        },
        {
         "base": [
          "1997-01-01T00:00:00.000000000",
          "2008-01-01T00:00:00.000000000",
          "2012-01-01T00:00:00.000000000",
          "2014-01-01T00:00:00.000000000",
          "2016-01-01T00:00:00.000000000"
         ],
         "hovertemplate": "topic=Advanced Database Systems and Queries<br>start=%{base}<br>finish=%{x}<br>count=%{y}<extra></extra>",
         "legendgroup": "Advanced Database Systems and Queries",
         "marker": {
          "color": "#19D3F3",
          "pattern": {
           "shape": ""
          }
         },
         "name": "Advanced Database Systems and Queries",
         "orientation": "h",
         "showlegend": true,
         "textposition": "auto",
         "type": "bar",
         "x": [
          31536000000,
          31622400000,
          31622400000,
          31536000000,
          31622400000
         ],
         "xaxis": "x",
         "y": {
          "bdata": "AgIJDQg=",
          "dtype": "i1"
         },
         "yaxis": "y"
        },
        {
         "base": [
          "1997-01-01T00:00:00.000000000",
          "2008-01-01T00:00:00.000000000",
          "2010-01-01T00:00:00.000000000",
          "2012-01-01T00:00:00.000000000",
          "2014-01-01T00:00:00.000000000",
          "2016-01-01T00:00:00.000000000",
          "2024-01-01T00:00:00.000000000"
         ],
         "hovertemplate": "topic=Topic Modeling<br>start=%{base}<br>finish=%{x}<br>count=%{y}<extra></extra>",
         "legendgroup": "Topic Modeling",
         "marker": {
          "color": "#FF6692",
          "pattern": {
           "shape": ""
          }
         },
         "name": "Topic Modeling",
         "orientation": "h",
         "showlegend": true,
         "textposition": "auto",
         "type": "bar",
         "x": [
          31536000000,
          31622400000,
          31536000000,
          31622400000,
          31536000000,
          31622400000,
          31622400000
         ],
         "xaxis": "x",
         "y": {
          "bdata": "BwQDCgkICQ==",
          "dtype": "i1"
         },
         "yaxis": "y"
        },
        {
         "base": [
          "1997-01-01T00:00:00.000000000",
          "2007-01-01T00:00:00.000000000",
          "2008-01-01T00:00:00.000000000",
          "2010-01-01T00:00:00.000000000",
          "2012-01-01T00:00:00.000000000",
          "2014-01-01T00:00:00.000000000",
          "2016-01-01T00:00:00.000000000"
         ],
         "hovertemplate": "topic=Auction Theory and Applications<br>start=%{base}<br>finish=%{x}<br>count=%{y}<extra></extra>",
         "legendgroup": "Auction Theory and Applications",
         "marker": {
          "color": "#B6E880",
          "pattern": {
           "shape": ""
          }
         },
         "name": "Auction Theory and Applications",
         "orientation": "h",
         "showlegend": true,
         "textposition": "auto",
         "type": "bar",
         "x": [
          31536000000,
          31536000000,
          31622400000,
          31536000000,
          31622400000,
          31536000000,
          31622400000
         ],
         "xaxis": "x",
         "y": {
          "bdata": "AgQEChUUDw==",
          "dtype": "i1"
         },
         "yaxis": "y"
        },
        {
         "base": [
          "1997-01-01T00:00:00.000000000",
          "2001-01-01T00:00:00.000000000"
         ],
         "hovertemplate": "topic=Distributed Multi-Agent Coordination and Control<br>start=%{base}<br>finish=%{x}<br>count=%{y}<extra></extra>",
         "legendgroup": "Distributed Multi-Agent Coordination and Control",
         "marker": {
          "color": "#FF97FF",
          "pattern": {
           "shape": ""
          }
         },
         "name": "Distributed Multi-Agent Coordination and Control",
         "orientation": "h",
         "showlegend": true,
         "textposition": "auto",
         "type": "bar",
         "x": [
          31536000000,
          31536000000
         ],
         "xaxis": "x",
         "y": {
          "bdata": "AgI=",
          "dtype": "i1"
         },
         "yaxis": "y"
        },
        {
         "base": [
          "1997-01-01T00:00:00.000000000",
          "2001-01-01T00:00:00.000000000",
          "2012-01-01T00:00:00.000000000",
          "2014-01-01T00:00:00.000000000",
          "2016-01-01T00:00:00.000000000"
         ],
         "hovertemplate": "topic=Evolutionary Algorithms and Applications<br>start=%{base}<br>finish=%{x}<br>count=%{y}<extra></extra>",
         "legendgroup": "Evolutionary Algorithms and Applications",
         "marker": {
          "color": "#FECB52",
          "pattern": {
           "shape": ""
          }
         },
         "name": "Evolutionary Algorithms and Applications",
         "orientation": "h",
         "showlegend": true,
         "textposition": "auto",
         "type": "bar",
         "x": [
          31536000000,
          31536000000,
          31622400000,
          31536000000,
          31622400000
         ],
         "xaxis": "x",
         "y": {
          "bdata": "AwIEAwM=",
          "dtype": "i1"
         },
         "yaxis": "y"
        },
        {
         "base": [
          "1997-01-01T00:00:00.000000000"
         ],
         "hovertemplate": "topic=Language, Discourse, Communication Strategies<br>start=%{base}<br>finish=%{x}<br>count=%{y}<extra></extra>",
         "legendgroup": "Language, Discourse, Communication Strategies",
         "marker": {
          "color": "#636EFA",
          "pattern": {
           "shape": ""
          }
         },
         "name": "Language, Discourse, Communication Strategies",
         "orientation": "h",
         "showlegend": true,
         "textposition": "auto",
         "type": "bar",
         "x": [
          31536000000
         ],
         "xaxis": "x",
         "y": {
          "bdata": "Ag==",
          "dtype": "i1"
         },
         "yaxis": "y"
        },
        {
         "base": [
          "1997-01-01T00:00:00.000000000",
          "2012-01-01T00:00:00.000000000",
          "2014-01-01T00:00:00.000000000"
         ],
         "hovertemplate": "topic=Speech and dialogue systems<br>start=%{base}<br>finish=%{x}<br>count=%{y}<extra></extra>",
         "legendgroup": "Speech and dialogue systems",
         "marker": {
          "color": "#EF553B",
          "pattern": {
           "shape": ""
          }
         },
         "name": "Speech and dialogue systems",
         "orientation": "h",
         "showlegend": true,
         "textposition": "auto",
         "type": "bar",
         "x": [
          31536000000,
          31622400000,
          31536000000
         ],
         "xaxis": "x",
         "y": {
          "bdata": "EQUF",
          "dtype": "i1"
         },
         "yaxis": "y"
        },
        {
         "base": [
          "1997-01-01T00:00:00.000000000"
         ],
         "hovertemplate": "topic=Syntax, Semantics, Linguistic Variation<br>start=%{base}<br>finish=%{x}<br>count=%{y}<extra></extra>",
         "legendgroup": "Syntax, Semantics, Linguistic Variation",
         "marker": {
          "color": "#00CC96",
          "pattern": {
           "shape": ""
          }
         },
         "name": "Syntax, Semantics, Linguistic Variation",
         "orientation": "h",
         "showlegend": true,
         "textposition": "auto",
         "type": "bar",
         "x": [
          31536000000
         ],
         "xaxis": "x",
         "y": {
          "bdata": "Ag==",
          "dtype": "i1"
         },
         "yaxis": "y"
        },
        {
         "base": [
          "1997-01-01T00:00:00.000000000",
          "2012-01-01T00:00:00.000000000",
          "2014-01-01T00:00:00.000000000",
          "2016-01-01T00:00:00.000000000"
         ],
         "hovertemplate": "topic=Artificial Intelligence in Games<br>start=%{base}<br>finish=%{x}<br>count=%{y}<extra></extra>",
         "legendgroup": "Artificial Intelligence in Games",
         "marker": {
          "color": "#AB63FA",
          "pattern": {
           "shape": ""
          }
         },
         "name": "Artificial Intelligence in Games",
         "orientation": "h",
         "showlegend": true,
         "textposition": "auto",
         "type": "bar",
         "x": [
          31536000000,
          31622400000,
          31536000000,
          31622400000
         ],
         "xaxis": "x",
         "y": {
          "bdata": "Ag0IBA==",
          "dtype": "i1"
         },
         "yaxis": "y"
        },
        {
         "base": [
          "1997-01-01T00:00:00.000000000",
          "2001-01-01T00:00:00.000000000",
          "2012-01-01T00:00:00.000000000",
          "2014-01-01T00:00:00.000000000",
          "2016-01-01T00:00:00.000000000",
          "2024-01-01T00:00:00.000000000"
         ],
         "hovertemplate": "topic=Reinforcement Learning in Robotics<br>start=%{base}<br>finish=%{x}<br>count=%{y}<extra></extra>",
         "legendgroup": "Reinforcement Learning in Robotics",
         "marker": {
          "color": "#FFA15A",
          "pattern": {
           "shape": ""
          }
         },
         "name": "Reinforcement Learning in Robotics",
         "orientation": "h",
         "showlegend": true,
         "textposition": "auto",
         "type": "bar",
         "x": [
          31536000000,
          31536000000,
          31622400000,
          31536000000,
          31622400000,
          31622400000
         ],
         "xaxis": "x",
         "y": {
          "bdata": "BAYMCwYC",
          "dtype": "i1"
         },
         "yaxis": "y"
        },
        {
         "base": [
          "2001-01-01T00:00:00.000000000",
          "2012-01-01T00:00:00.000000000",
          "2014-01-01T00:00:00.000000000"
         ],
         "hovertemplate": "topic=Vehicle Routing Optimization Methods<br>start=%{base}<br>finish=%{x}<br>count=%{y}<extra></extra>",
         "legendgroup": "Vehicle Routing Optimization Methods",
         "marker": {
          "color": "#19D3F3",
          "pattern": {
           "shape": ""
          }
         },
         "name": "Vehicle Routing Optimization Methods",
         "orientation": "h",
         "showlegend": true,
         "textposition": "auto",
         "type": "bar",
         "x": [
          31536000000,
          31622400000,
          31536000000
         ],
         "xaxis": "x",
         "y": {
          "bdata": "BAIC",
          "dtype": "i1"
         },
         "yaxis": "y"
        },
        {
         "base": [
          "2001-01-01T00:00:00.000000000",
          "2008-01-01T00:00:00.000000000",
          "2012-01-01T00:00:00.000000000",
          "2014-01-01T00:00:00.000000000",
          "2016-01-01T00:00:00.000000000"
         ],
         "hovertemplate": "topic=Optimization and Search Problems<br>start=%{base}<br>finish=%{x}<br>count=%{y}<extra></extra>",
         "legendgroup": "Optimization and Search Problems",
         "marker": {
          "color": "#FF6692",
          "pattern": {
           "shape": ""
          }
         },
         "name": "Optimization and Search Problems",
         "orientation": "h",
         "showlegend": true,
         "textposition": "auto",
         "type": "bar",
         "x": [
          31536000000,
          31622400000,
          31622400000,
          31536000000,
          31622400000
         ],
         "xaxis": "x",
         "y": {
          "bdata": "AgIGBAU=",
          "dtype": "i1"
         },
         "yaxis": "y"
        },
        {
         "base": [
          "2001-01-01T00:00:00.000000000",
          "2010-01-01T00:00:00.000000000",
          "2012-01-01T00:00:00.000000000",
          "2014-01-01T00:00:00.000000000",
          "2016-01-01T00:00:00.000000000"
         ],
         "hovertemplate": "topic=Model-Driven Software Engineering Techniques<br>start=%{base}<br>finish=%{x}<br>count=%{y}<extra></extra>",
         "legendgroup": "Model-Driven Software Engineering Techniques",
         "marker": {
          "color": "#B6E880",
          "pattern": {
           "shape": ""
          }
         },
         "name": "Model-Driven Software Engineering Techniques",
         "orientation": "h",
         "showlegend": true,
         "textposition": "auto",
         "type": "bar",
         "x": [
          31536000000,
          31536000000,
          31622400000,
          31536000000,
          31622400000
         ],
         "xaxis": "x",
         "y": {
          "bdata": "AgIFAwM=",
          "dtype": "i1"
         },
         "yaxis": "y"
        },
        {
         "base": [
          "2007-01-01T00:00:00.000000000",
          "2010-01-01T00:00:00.000000000",
          "2012-01-01T00:00:00.000000000",
          "2014-01-01T00:00:00.000000000",
          "2016-01-01T00:00:00.000000000"
         ],
         "hovertemplate": "topic=Game Theory and Applications<br>start=%{base}<br>finish=%{x}<br>count=%{y}<extra></extra>",
         "legendgroup": "Game Theory and Applications",
         "marker": {
          "color": "#FF97FF",
          "pattern": {
           "shape": ""
          }
         },
         "name": "Game Theory and Applications",
         "orientation": "h",
         "showlegend": true,
         "textposition": "auto",
         "type": "bar",
         "x": [
          31536000000,
          31536000000,
          31622400000,
          31536000000,
          31622400000
         ],
         "xaxis": "x",
         "y": {
          "bdata": "AgYKDgs=",
          "dtype": "i1"
         },
         "yaxis": "y"
        },
        {
         "base": [
          "2007-01-01T00:00:00.000000000",
          "2009-01-01T00:00:00.000000000",
          "2011-01-01T00:00:00.000000000",
          "2012-01-01T00:00:00.000000000",
          "2014-01-01T00:00:00.000000000",
          "2016-01-01T00:00:00.000000000"
         ],
         "hovertemplate": "topic=Business Process Modeling and Analysis<br>start=%{base}<br>finish=%{x}<br>count=%{y}<extra></extra>",
         "legendgroup": "Business Process Modeling and Analysis",
         "marker": {
          "color": "#FECB52",
          "pattern": {
           "shape": ""
          }
         },
         "name": "Business Process Modeling and Analysis",
         "orientation": "h",
         "showlegend": true,
         "textposition": "auto",
         "type": "bar",
         "x": [
          31536000000,
          31536000000,
          31536000000,
          31622400000,
          31536000000,
          31622400000
         ],
         "xaxis": "x",
         "y": {
          "bdata": "BQICBQUE",
          "dtype": "i1"
         },
         "yaxis": "y"
        },
        {
         "base": [
          "2007-01-01T00:00:00.000000000",
          "2008-01-01T00:00:00.000000000",
          "2010-01-01T00:00:00.000000000",
          "2014-01-01T00:00:00.000000000"
         ],
         "hovertemplate": "topic=Access Control and Trust<br>start=%{base}<br>finish=%{x}<br>count=%{y}<extra></extra>",
         "legendgroup": "Access Control and Trust",
         "marker": {
          "color": "#636EFA",
          "pattern": {
           "shape": ""
          }
         },
         "name": "Access Control and Trust",
         "orientation": "h",
         "showlegend": true,
         "textposition": "auto",
         "type": "bar",
         "x": [
          31536000000,
          31622400000,
          31536000000,
          31536000000
         ],
         "xaxis": "x",
         "y": {
          "bdata": "AwIDBQ==",
          "dtype": "i1"
         },
         "yaxis": "y"
        },
        {
         "base": [
          "2007-01-01T00:00:00.000000000",
          "2014-01-01T00:00:00.000000000"
         ],
         "hovertemplate": "topic=Peer-to-Peer Network Technologies<br>start=%{base}<br>finish=%{x}<br>count=%{y}<extra></extra>",
         "legendgroup": "Peer-to-Peer Network Technologies",
         "marker": {
          "color": "#EF553B",
          "pattern": {
           "shape": ""
          }
         },
         "name": "Peer-to-Peer Network Technologies",
         "orientation": "h",
         "showlegend": true,
         "textposition": "auto",
         "type": "bar",
         "x": [
          31536000000,
          31536000000
         ],
         "xaxis": "x",
         "y": {
          "bdata": "AgI=",
          "dtype": "i1"
         },
         "yaxis": "y"
        },
        {
         "base": [
          "2007-01-01T00:00:00.000000000",
          "2017-01-01T00:00:00.000000000"
         ],
         "hovertemplate": "topic=Complex Systems and Decision Making<br>start=%{base}<br>finish=%{x}<br>count=%{y}<extra></extra>",
         "legendgroup": "Complex Systems and Decision Making",
         "marker": {
          "color": "#00CC96",
          "pattern": {
           "shape": ""
          }
         },
         "name": "Complex Systems and Decision Making",
         "orientation": "h",
         "showlegend": true,
         "textposition": "auto",
         "type": "bar",
         "x": [
          31536000000,
          31536000000
         ],
         "xaxis": "x",
         "y": {
          "bdata": "AwI=",
          "dtype": "i1"
         },
         "yaxis": "y"
        },
        {
         "base": [
          "2008-01-01T00:00:00.000000000",
          "2012-01-01T00:00:00.000000000"
         ],
         "hovertemplate": "topic=Metaheuristic Optimization Algorithms Research<br>start=%{base}<br>finish=%{x}<br>count=%{y}<extra></extra>",
         "legendgroup": "Metaheuristic Optimization Algorithms Research",
         "marker": {
          "color": "#AB63FA",
          "pattern": {
           "shape": ""
          }
         },
         "name": "Metaheuristic Optimization Algorithms Research",
         "orientation": "h",
         "showlegend": true,
         "textposition": "auto",
         "type": "bar",
         "x": [
          31622400000,
          31622400000
         ],
         "xaxis": "x",
         "y": {
          "bdata": "AgM=",
          "dtype": "i1"
         },
         "yaxis": "y"
        },
        {
         "base": [
          "2008-01-01T00:00:00.000000000"
         ],
         "hovertemplate": "topic=Petri Nets in System Modeling<br>start=%{base}<br>finish=%{x}<br>count=%{y}<extra></extra>",
         "legendgroup": "Petri Nets in System Modeling",
         "marker": {
          "color": "#FFA15A",
          "pattern": {
           "shape": ""
          }
         },
         "name": "Petri Nets in System Modeling",
         "orientation": "h",
         "showlegend": true,
         "textposition": "auto",
         "type": "bar",
         "x": [
          31622400000
         ],
         "xaxis": "x",
         "y": {
          "bdata": "Ag==",
          "dtype": "i1"
         },
         "yaxis": "y"
        },
        {
         "base": [
          "2008-01-01T00:00:00.000000000",
          "2010-01-01T00:00:00.000000000",
          "2012-01-01T00:00:00.000000000",
          "2014-01-01T00:00:00.000000000",
          "2016-01-01T00:00:00.000000000"
         ],
         "hovertemplate": "topic=Game Theory and Voting Systems<br>start=%{base}<br>finish=%{x}<br>count=%{y}<extra></extra>",
         "legendgroup": "Game Theory and Voting Systems",
         "marker": {
          "color": "#19D3F3",
          "pattern": {
           "shape": ""
          }
         },
         "name": "Game Theory and Voting Systems",
         "orientation": "h",
         "showlegend": true,
         "textposition": "auto",
         "type": "bar",
         "x": [
          31622400000,
          31536000000,
          31622400000,
          31536000000,
          31622400000
         ],
         "xaxis": "x",
         "y": {
          "bdata": "AwYNEAg=",
          "dtype": "i1"
         },
         "yaxis": "y"
        },
        {
         "base": [
          "2008-01-01T00:00:00.000000000",
          "2012-01-01T00:00:00.000000000",
          "2014-01-01T00:00:00.000000000",
          "2016-01-01T00:00:00.000000000",
          "2024-01-01T00:00:00.000000000"
         ],
         "hovertemplate": "topic=Anomaly Detection Techniques and Applications<br>start=%{base}<br>finish=%{x}<br>count=%{y}<extra></extra>",
         "legendgroup": "Anomaly Detection Techniques and Applications",
         "marker": {
          "color": "#FF6692",
          "pattern": {
           "shape": ""
          }
         },
         "name": "Anomaly Detection Techniques and Applications",
         "orientation": "h",
         "showlegend": true,
         "textposition": "auto",
         "type": "bar",
         "x": [
          31622400000,
          31622400000,
          31536000000,
          31622400000,
          31622400000
         ],
         "xaxis": "x",
         "y": {
          "bdata": "AwMFBAM=",
          "dtype": "i1"
         },
         "yaxis": "y"
        },
        {
         "base": [
          "2008-01-01T00:00:00.000000000",
          "2012-01-01T00:00:00.000000000",
          "2014-01-01T00:00:00.000000000",
          "2016-01-01T00:00:00.000000000",
          "2024-01-01T00:00:00.000000000"
         ],
         "hovertemplate": "topic=Data Mining Algorithms and Applications<br>start=%{base}<br>finish=%{x}<br>count=%{y}<extra></extra>",
         "legendgroup": "Data Mining Algorithms and Applications",
         "marker": {
          "color": "#B6E880",
          "pattern": {
           "shape": ""
          }
         },
         "name": "Data Mining Algorithms and Applications",
         "orientation": "h",
         "showlegend": true,
         "textposition": "auto",
         "type": "bar",
         "x": [
          31622400000,
          31622400000,
          31536000000,
          31622400000,
          31622400000
         ],
         "xaxis": "x",
         "y": {
          "bdata": "AgMGAwI=",
          "dtype": "i1"
         },
         "yaxis": "y"
        },
        {
         "base": [
          "2008-01-01T00:00:00.000000000",
          "2010-01-01T00:00:00.000000000",
          "2012-01-01T00:00:00.000000000",
          "2014-01-01T00:00:00.000000000",
          "2016-01-01T00:00:00.000000000"
         ],
         "hovertemplate": "topic=Formal Methods in Verification<br>start=%{base}<br>finish=%{x}<br>count=%{y}<extra></extra>",
         "legendgroup": "Formal Methods in Verification",
         "marker": {
          "color": "#FF97FF",
          "pattern": {
           "shape": ""
          }
         },
         "name": "Formal Methods in Verification",
         "orientation": "h",
         "showlegend": true,
         "textposition": "auto",
         "type": "bar",
         "x": [
          31622400000,
          31536000000,
          31622400000,
          31536000000,
          31622400000
         ],
         "xaxis": "x",
         "y": {
          "bdata": "BQQOCwk=",
          "dtype": "i1"
         },
         "yaxis": "y"
        },
        {
         "base": [
          "2008-01-01T00:00:00.000000000",
          "2012-01-01T00:00:00.000000000",
          "2014-01-01T00:00:00.000000000",
          "2016-01-01T00:00:00.000000000"
         ],
         "hovertemplate": "topic=Rough Sets and Fuzzy Logic<br>start=%{base}<br>finish=%{x}<br>count=%{y}<extra></extra>",
         "legendgroup": "Rough Sets and Fuzzy Logic",
         "marker": {
          "color": "#FECB52",
          "pattern": {
           "shape": ""
          }
         },
         "name": "Rough Sets and Fuzzy Logic",
         "orientation": "h",
         "showlegend": true,
         "textposition": "auto",
         "type": "bar",
         "x": [
          31622400000,
          31622400000,
          31536000000,
          31622400000
         ],
         "xaxis": "x",
         "y": {
          "bdata": "AgYIAg==",
          "dtype": "i1"
         },
         "yaxis": "y"
        },
        {
         "base": [
          "2008-01-01T00:00:00.000000000",
          "2010-01-01T00:00:00.000000000",
          "2012-01-01T00:00:00.000000000",
          "2014-01-01T00:00:00.000000000",
          "2016-01-01T00:00:00.000000000",
          "2024-01-01T00:00:00.000000000"
         ],
         "hovertemplate": "topic=Machine Learning and Data Classification<br>start=%{base}<br>finish=%{x}<br>count=%{y}<extra></extra>",
         "legendgroup": "Machine Learning and Data Classification",
         "marker": {
          "color": "#636EFA",
          "pattern": {
           "shape": ""
          }
         },
         "name": "Machine Learning and Data Classification",
         "orientation": "h",
         "showlegend": true,
         "textposition": "auto",
         "type": "bar",
         "x": [
          31622400000,
          31536000000,
          31622400000,
          31536000000,
          31622400000,
          31622400000
         ],
         "xaxis": "x",
         "y": {
          "bdata": "BAMDBgMG",
          "dtype": "i1"
         },
         "yaxis": "y"
        },
        {
         "base": [
          "2009-01-01T00:00:00.000000000",
          "2011-01-01T00:00:00.000000000"
         ],
         "hovertemplate": "topic=Electronic Health Records Systems<br>start=%{base}<br>finish=%{x}<br>count=%{y}<extra></extra>",
         "legendgroup": "Electronic Health Records Systems",
         "marker": {
          "color": "#EF553B",
          "pattern": {
           "shape": ""
          }
         },
         "name": "Electronic Health Records Systems",
         "orientation": "h",
         "showlegend": true,
         "textposition": "auto",
         "type": "bar",
         "x": [
          31536000000,
          31536000000
         ],
         "xaxis": "x",
         "y": {
          "bdata": "BQM=",
          "dtype": "i1"
         },
         "yaxis": "y"
        },
        {
         "base": [
          "2009-01-01T00:00:00.000000000",
          "2010-01-01T00:00:00.000000000",
          "2011-01-01T00:00:00.000000000",
          "2012-01-01T00:00:00.000000000",
          "2014-01-01T00:00:00.000000000"
         ],
         "hovertemplate": "topic=Biomedical Text Mining and Ontologies<br>start=%{base}<br>finish=%{x}<br>count=%{y}<extra></extra>",
         "legendgroup": "Biomedical Text Mining and Ontologies",
         "marker": {
          "color": "#00CC96",
          "pattern": {
           "shape": ""
          }
         },
         "name": "Biomedical Text Mining and Ontologies",
         "orientation": "h",
         "showlegend": true,
         "textposition": "auto",
         "type": "bar",
         "x": [
          31536000000,
          31536000000,
          31536000000,
          31622400000,
          31536000000
         ],
         "xaxis": "x",
         "y": {
          "bdata": "BgIJBAM=",
          "dtype": "i1"
         },
         "yaxis": "y"
        },
        {
         "base": [
          "2009-01-01T00:00:00.000000000",
          "2011-01-01T00:00:00.000000000"
         ],
         "hovertemplate": "topic=Clinical practice guidelines implementation<br>start=%{base}<br>finish=%{x}<br>count=%{y}<extra></extra>",
         "legendgroup": "Clinical practice guidelines implementation",
         "marker": {
          "color": "#AB63FA",
          "pattern": {
           "shape": ""
          }
         },
         "name": "Clinical practice guidelines implementation",
         "orientation": "h",
         "showlegend": true,
         "textposition": "auto",
         "type": "bar",
         "x": [
          31536000000,
          31536000000
         ],
         "xaxis": "x",
         "y": {
          "bdata": "BAI=",
          "dtype": "i1"
         },
         "yaxis": "y"
        },
        {
         "base": [
          "2010-01-01T00:00:00.000000000",
          "2014-01-01T00:00:00.000000000"
         ],
         "hovertemplate": "topic=Gaussian Processes and Bayesian Inference<br>start=%{base}<br>finish=%{x}<br>count=%{y}<extra></extra>",
         "legendgroup": "Gaussian Processes and Bayesian Inference",
         "marker": {
          "color": "#FFA15A",
          "pattern": {
           "shape": ""
          }
         },
         "name": "Gaussian Processes and Bayesian Inference",
         "orientation": "h",
         "showlegend": true,
         "textposition": "auto",
         "type": "bar",
         "x": [
          31536000000,
          31536000000
         ],
         "xaxis": "x",
         "y": {
          "bdata": "AgI=",
          "dtype": "i1"
         },
         "yaxis": "y"
        },
        {
         "base": [
          "2010-01-01T00:00:00.000000000",
          "2012-01-01T00:00:00.000000000"
         ],
         "hovertemplate": "topic=Geographic Information Systems Studies<br>start=%{base}<br>finish=%{x}<br>count=%{y}<extra></extra>",
         "legendgroup": "Geographic Information Systems Studies",
         "marker": {
          "color": "#19D3F3",
          "pattern": {
           "shape": ""
          }
         },
         "name": "Geographic Information Systems Studies",
         "orientation": "h",
         "showlegend": true,
         "textposition": "auto",
         "type": "bar",
         "x": [
          31536000000,
          31622400000
         ],
         "xaxis": "x",
         "y": {
          "bdata": "AgM=",
          "dtype": "i1"
         },
         "yaxis": "y"
        },
        {
         "base": [
          "2010-01-01T00:00:00.000000000",
          "2014-01-01T00:00:00.000000000",
          "2016-01-01T00:00:00.000000000",
          "2024-01-01T00:00:00.000000000"
         ],
         "hovertemplate": "topic=Adaptation to Concept Drift in Data Streams<br>start=%{base}<br>finish=%{x}<br>count=%{y}<extra></extra>",
         "legendgroup": "Adaptation to Concept Drift in Data Streams",
         "marker": {
          "color": "#FF6692",
          "pattern": {
           "shape": ""
          }
         },
         "name": "Adaptation to Concept Drift in Data Streams",
         "orientation": "h",
         "showlegend": true,
         "textposition": "auto",
         "type": "bar",
         "x": [
          31536000000,
          31536000000,
          31622400000,
          31622400000
         ],
         "xaxis": "x",
         "y": {
          "bdata": "AgUFAw==",
          "dtype": "i1"
         },
         "yaxis": "y"
        },
        {
         "base": [
          "2010-01-01T00:00:00.000000000",
          "2014-01-01T00:00:00.000000000",
          "2016-01-01T00:00:00.000000000"
         ],
         "hovertemplate": "topic=Advanced Text Analysis Techniques<br>start=%{base}<br>finish=%{x}<br>count=%{y}<extra></extra>",
         "legendgroup": "Advanced Text Analysis Techniques",
         "marker": {
          "color": "#B6E880",
          "pattern": {
           "shape": ""
          }
         },
         "name": "Advanced Text Analysis Techniques",
         "orientation": "h",
         "showlegend": true,
         "textposition": "auto",
         "type": "bar",
         "x": [
          31536000000,
          31536000000,
          31622400000
         ],
         "xaxis": "x",
         "y": {
          "bdata": "AwMF",
          "dtype": "i1"
         },
         "yaxis": "y"
        },
        {
         "base": [
          "2010-01-01T00:00:00.000000000",
          "2016-01-01T00:00:00.000000000"
         ],
         "hovertemplate": "topic=Neural Networks and Applications<br>start=%{base}<br>finish=%{x}<br>count=%{y}<extra></extra>",
         "legendgroup": "Neural Networks and Applications",
         "marker": {
          "color": "#FF97FF",
          "pattern": {
           "shape": ""
          }
         },
         "name": "Neural Networks and Applications",
         "orientation": "h",
         "showlegend": true,
         "textposition": "auto",
         "type": "bar",
         "x": [
          31536000000,
          31622400000
         ],
         "xaxis": "x",
         "y": {
          "bdata": "BAU=",
          "dtype": "i1"
         },
         "yaxis": "y"
        },
        {
         "base": [
          "2010-01-01T00:00:00.000000000",
          "2012-01-01T00:00:00.000000000",
          "2014-01-01T00:00:00.000000000",
          "2016-01-01T00:00:00.000000000"
         ],
         "hovertemplate": "topic=QoS-Aware Web Services Composition and Semantic Matching<br>start=%{base}<br>finish=%{x}<br>count=%{y}<extra></extra>",
         "legendgroup": "QoS-Aware Web Services Composition and Semantic Matching",
         "marker": {
          "color": "#FECB52",
          "pattern": {
           "shape": ""
          }
         },
         "name": "QoS-Aware Web Services Composition and Semantic Matching",
         "orientation": "h",
         "showlegend": true,
         "textposition": "auto",
         "type": "bar",
         "x": [
          31536000000,
          31622400000,
          31536000000,
          31622400000
         ],
         "xaxis": "x",
         "y": {
          "bdata": "AgQJAw==",
          "dtype": "i1"
         },
         "yaxis": "y"
        },
        {
         "base": [
          "2010-01-01T00:00:00.000000000"
         ],
         "hovertemplate": "topic=Software System Performance and Reliability<br>start=%{base}<br>finish=%{x}<br>count=%{y}<extra></extra>",
         "legendgroup": "Software System Performance and Reliability",
         "marker": {
          "color": "#636EFA",
          "pattern": {
           "shape": ""
          }
         },
         "name": "Software System Performance and Reliability",
         "orientation": "h",
         "showlegend": true,
         "textposition": "auto",
         "type": "bar",
         "x": [
          31536000000
         ],
         "xaxis": "x",
         "y": {
          "bdata": "Ag==",
          "dtype": "i1"
         },
         "yaxis": "y"
        },
        {
         "base": [
          "2010-01-01T00:00:00.000000000",
          "2014-01-01T00:00:00.000000000",
          "2024-01-01T00:00:00.000000000"
         ],
         "hovertemplate": "topic=Time Series Analysis and Forecasting<br>start=%{base}<br>finish=%{x}<br>count=%{y}<extra></extra>",
         "legendgroup": "Time Series Analysis and Forecasting",
         "marker": {
          "color": "#EF553B",
          "pattern": {
           "shape": ""
          }
         },
         "name": "Time Series Analysis and Forecasting",
         "orientation": "h",
         "showlegend": true,
         "textposition": "auto",
         "type": "bar",
         "x": [
          31536000000,
          31536000000,
          31622400000
         ],
         "xaxis": "x",
         "y": {
          "bdata": "AgcD",
          "dtype": "i1"
         },
         "yaxis": "y"
        },
        {
         "base": [
          "2010-01-01T00:00:00.000000000",
          "2012-01-01T00:00:00.000000000"
         ],
         "hovertemplate": "topic=Human-Automation Interaction and Safety<br>start=%{base}<br>finish=%{x}<br>count=%{y}<extra></extra>",
         "legendgroup": "Human-Automation Interaction and Safety",
         "marker": {
          "color": "#00CC96",
          "pattern": {
           "shape": ""
          }
         },
         "name": "Human-Automation Interaction and Safety",
         "orientation": "h",
         "showlegend": true,
         "textposition": "auto",
         "type": "bar",
         "x": [
          31536000000,
          31622400000
         ],
         "xaxis": "x",
         "y": {
          "bdata": "AgI=",
          "dtype": "i1"
         },
         "yaxis": "y"
        },
        {
         "base": [
          "2010-01-01T00:00:00.000000000",
          "2014-01-01T00:00:00.000000000",
          "2016-01-01T00:00:00.000000000"
         ],
         "hovertemplate": "topic=Complex Network Analysis Techniques<br>start=%{base}<br>finish=%{x}<br>count=%{y}<extra></extra>",
         "legendgroup": "Complex Network Analysis Techniques",
         "marker": {
          "color": "#AB63FA",
          "pattern": {
           "shape": ""
          }
         },
         "name": "Complex Network Analysis Techniques",
         "orientation": "h",
         "showlegend": true,
         "textposition": "auto",
         "type": "bar",
         "x": [
          31536000000,
          31536000000,
          31622400000
         ],
         "xaxis": "x",
         "y": {
          "bdata": "AgcG",
          "dtype": "i1"
         },
         "yaxis": "y"
        },
        {
         "base": [
          "2010-01-01T00:00:00.000000000"
         ],
         "hovertemplate": "topic=Supply Chain and Inventory Management<br>start=%{base}<br>finish=%{x}<br>count=%{y}<extra></extra>",
         "legendgroup": "Supply Chain and Inventory Management",
         "marker": {
          "color": "#FFA15A",
          "pattern": {
           "shape": ""
          }
         },
         "name": "Supply Chain and Inventory Management",
         "orientation": "h",
         "showlegend": true,
         "textposition": "auto",
         "type": "bar",
         "x": [
          31536000000
         ],
         "xaxis": "x",
         "y": {
          "bdata": "Ag==",
          "dtype": "i1"
         },
         "yaxis": "y"
        },
        {
         "base": [
          "2010-01-01T00:00:00.000000000"
         ],
         "hovertemplate": "topic=Caching and Content Delivery<br>start=%{base}<br>finish=%{x}<br>count=%{y}<extra></extra>",
         "legendgroup": "Caching and Content Delivery",
         "marker": {
          "color": "#19D3F3",
          "pattern": {
           "shape": ""
          }
         },
         "name": "Caching and Content Delivery",
         "orientation": "h",
         "showlegend": true,
         "textposition": "auto",
         "type": "bar",
         "x": [
          31536000000
         ],
         "xaxis": "x",
         "y": {
          "bdata": "Ag==",
          "dtype": "i1"
         },
         "yaxis": "y"
        },
        {
         "base": [
          "2011-01-01T00:00:00.000000000",
          "2014-01-01T00:00:00.000000000",
          "2016-01-01T00:00:00.000000000"
         ],
         "hovertemplate": "topic=Data Quality and Management<br>start=%{base}<br>finish=%{x}<br>count=%{y}<extra></extra>",
         "legendgroup": "Data Quality and Management",
         "marker": {
          "color": "#FF6692",
          "pattern": {
           "shape": ""
          }
         },
         "name": "Data Quality and Management",
         "orientation": "h",
         "showlegend": true,
         "textposition": "auto",
         "type": "bar",
         "x": [
          31536000000,
          31536000000,
          31622400000
         ],
         "xaxis": "x",
         "y": {
          "bdata": "AgQC",
          "dtype": "i1"
         },
         "yaxis": "y"
        },
        {
         "base": [
          "2012-01-01T00:00:00.000000000",
          "2014-01-01T00:00:00.000000000"
         ],
         "hovertemplate": "topic=Sports Analytics and Performance<br>start=%{base}<br>finish=%{x}<br>count=%{y}<extra></extra>",
         "legendgroup": "Sports Analytics and Performance",
         "marker": {
          "color": "#B6E880",
          "pattern": {
           "shape": ""
          }
         },
         "name": "Sports Analytics and Performance",
         "orientation": "h",
         "showlegend": true,
         "textposition": "auto",
         "type": "bar",
         "x": [
          31622400000,
          31536000000
         ],
         "xaxis": "x",
         "y": {
          "bdata": "AgM=",
          "dtype": "i1"
         },
         "yaxis": "y"
        },
        {
         "base": [
          "2012-01-01T00:00:00.000000000"
         ],
         "hovertemplate": "topic=Infrastructure Resilience and Vulnerability Analysis<br>start=%{base}<br>finish=%{x}<br>count=%{y}<extra></extra>",
         "legendgroup": "Infrastructure Resilience and Vulnerability Analysis",
         "marker": {
          "color": "#FF97FF",
          "pattern": {
           "shape": ""
          }
         },
         "name": "Infrastructure Resilience and Vulnerability Analysis",
         "orientation": "h",
         "showlegend": true,
         "textposition": "auto",
         "type": "bar",
         "x": [
          31622400000
         ],
         "xaxis": "x",
         "y": {
          "bdata": "Ag==",
          "dtype": "i1"
         },
         "yaxis": "y"
        },
        {
         "base": [
          "2012-01-01T00:00:00.000000000",
          "2016-01-01T00:00:00.000000000"
         ],
         "hovertemplate": "topic=Video Analysis and Summarization<br>start=%{base}<br>finish=%{x}<br>count=%{y}<extra></extra>",
         "legendgroup": "Video Analysis and Summarization",
         "marker": {
          "color": "#FECB52",
          "pattern": {
           "shape": ""
          }
         },
         "name": "Video Analysis and Summarization",
         "orientation": "h",
         "showlegend": true,
         "textposition": "auto",
         "type": "bar",
         "x": [
          31622400000,
          31622400000
         ],
         "xaxis": "x",
         "y": {
          "bdata": "AgM=",
          "dtype": "i1"
         },
         "yaxis": "y"
        },
        {
         "base": [
          "2012-01-01T00:00:00.000000000",
          "2024-01-01T00:00:00.000000000"
         ],
         "hovertemplate": "topic=Energy Load and Power Forecasting<br>start=%{base}<br>finish=%{x}<br>count=%{y}<extra></extra>",
         "legendgroup": "Energy Load and Power Forecasting",
         "marker": {
          "color": "#636EFA",
          "pattern": {
           "shape": ""
          }
         },
         "name": "Energy Load and Power Forecasting",
         "orientation": "h",
         "showlegend": true,
         "textposition": "auto",
         "type": "bar",
         "x": [
          31622400000,
          31622400000
         ],
         "xaxis": "x",
         "y": {
          "bdata": "AgI=",
          "dtype": "i1"
         },
         "yaxis": "y"
        },
        {
         "base": [
          "2012-01-01T00:00:00.000000000",
          "2014-01-01T00:00:00.000000000",
          "2016-01-01T00:00:00.000000000"
         ],
         "hovertemplate": "topic=Web Data Mining and Analysis<br>start=%{base}<br>finish=%{x}<br>count=%{y}<extra></extra>",
         "legendgroup": "Web Data Mining and Analysis",
         "marker": {
          "color": "#EF553B",
          "pattern": {
           "shape": ""
          }
         },
         "name": "Web Data Mining and Analysis",
         "orientation": "h",
         "showlegend": true,
         "textposition": "auto",
         "type": "bar",
         "x": [
          31622400000,
          31536000000,
          31622400000
         ],
         "xaxis": "x",
         "y": {
          "bdata": "AgID",
          "dtype": "i1"
         },
         "yaxis": "y"
        },
        {
         "base": [
          "2012-01-01T00:00:00.000000000"
         ],
         "hovertemplate": "topic=Advanced Graph Theory Research<br>start=%{base}<br>finish=%{x}<br>count=%{y}<extra></extra>",
         "legendgroup": "Advanced Graph Theory Research",
         "marker": {
          "color": "#00CC96",
          "pattern": {
           "shape": ""
          }
         },
         "name": "Advanced Graph Theory Research",
         "orientation": "h",
         "showlegend": true,
         "textposition": "auto",
         "type": "bar",
         "x": [
          31622400000
         ],
         "xaxis": "x",
         "y": {
          "bdata": "Ag==",
          "dtype": "i1"
         },
         "yaxis": "y"
        },
        {
         "base": [
          "2012-01-01T00:00:00.000000000",
          "2014-01-01T00:00:00.000000000",
          "2016-01-01T00:00:00.000000000"
         ],
         "hovertemplate": "topic=Internet Traffic Analysis and Secure E-voting<br>start=%{base}<br>finish=%{x}<br>count=%{y}<extra></extra>",
         "legendgroup": "Internet Traffic Analysis and Secure E-voting",
         "marker": {
          "color": "#AB63FA",
          "pattern": {
           "shape": ""
          }
         },
         "name": "Internet Traffic Analysis and Secure E-voting",
         "orientation": "h",
         "showlegend": true,
         "textposition": "auto",
         "type": "bar",
         "x": [
          31622400000,
          31536000000,
          31622400000
         ],
         "xaxis": "x",
         "y": {
          "bdata": "AgIC",
          "dtype": "i1"
         },
         "yaxis": "y"
        },
        {
         "base": [
          "2012-01-01T00:00:00.000000000"
         ],
         "hovertemplate": "topic=Scheduling and Optimization Algorithms<br>start=%{base}<br>finish=%{x}<br>count=%{y}<extra></extra>",
         "legendgroup": "Scheduling and Optimization Algorithms",
         "marker": {
          "color": "#FFA15A",
          "pattern": {
           "shape": ""
          }
         },
         "name": "Scheduling and Optimization Algorithms",
         "orientation": "h",
         "showlegend": true,
         "textposition": "auto",
         "type": "bar",
         "x": [
          31622400000
         ],
         "xaxis": "x",
         "y": {
          "bdata": "Aw==",
          "dtype": "i1"
         },
         "yaxis": "y"
        },
        {
         "base": [
          "2012-01-01T00:00:00.000000000",
          "2014-01-01T00:00:00.000000000"
         ],
         "hovertemplate": "topic=Algorithms and Data Compression<br>start=%{base}<br>finish=%{x}<br>count=%{y}<extra></extra>",
         "legendgroup": "Algorithms and Data Compression",
         "marker": {
          "color": "#19D3F3",
          "pattern": {
           "shape": ""
          }
         },
         "name": "Algorithms and Data Compression",
         "orientation": "h",
         "showlegend": true,
         "textposition": "auto",
         "type": "bar",
         "x": [
          31622400000,
          31536000000
         ],
         "xaxis": "x",
         "y": {
          "bdata": "AwM=",
          "dtype": "i1"
         },
         "yaxis": "y"
        },
        {
         "base": [
          "2012-01-01T00:00:00.000000000",
          "2014-01-01T00:00:00.000000000",
          "2016-01-01T00:00:00.000000000"
         ],
         "hovertemplate": "topic=Advanced Bandit Algorithms Research<br>start=%{base}<br>finish=%{x}<br>count=%{y}<extra></extra>",
         "legendgroup": "Advanced Bandit Algorithms Research",
         "marker": {
          "color": "#FF6692",
          "pattern": {
           "shape": ""
          }
         },
         "name": "Advanced Bandit Algorithms Research",
         "orientation": "h",
         "showlegend": true,
         "textposition": "auto",
         "type": "bar",
         "x": [
          31622400000,
          31536000000,
          31622400000
         ],
         "xaxis": "x",
         "y": {
          "bdata": "BAUE",
          "dtype": "i1"
         },
         "yaxis": "y"
        },
        {
         "base": [
          "2012-01-01T00:00:00.000000000",
          "2016-01-01T00:00:00.000000000"
         ],
         "hovertemplate": "topic=Text and Document Classification Technologies<br>start=%{base}<br>finish=%{x}<br>count=%{y}<extra></extra>",
         "legendgroup": "Text and Document Classification Technologies",
         "marker": {
          "color": "#B6E880",
          "pattern": {
           "shape": ""
          }
         },
         "name": "Text and Document Classification Technologies",
         "orientation": "h",
         "showlegend": true,
         "textposition": "auto",
         "type": "bar",
         "x": [
          31622400000,
          31622400000
         ],
         "xaxis": "x",
         "y": {
          "bdata": "AgM=",
          "dtype": "i1"
         },
         "yaxis": "y"
        },
        {
         "base": [
          "2012-01-01T00:00:00.000000000",
          "2016-01-01T00:00:00.000000000"
         ],
         "hovertemplate": "topic=Gait Recognition and Analysis<br>start=%{base}<br>finish=%{x}<br>count=%{y}<extra></extra>",
         "legendgroup": "Gait Recognition and Analysis",
         "marker": {
          "color": "#FF97FF",
          "pattern": {
           "shape": ""
          }
         },
         "name": "Gait Recognition and Analysis",
         "orientation": "h",
         "showlegend": true,
         "textposition": "auto",
         "type": "bar",
         "x": [
          31622400000,
          31622400000
         ],
         "xaxis": "x",
         "y": {
          "bdata": "AgI=",
          "dtype": "i1"
         },
         "yaxis": "y"
        },
        {
         "base": [
          "2012-01-01T00:00:00.000000000",
          "2014-01-01T00:00:00.000000000"
         ],
         "hovertemplate": "topic=Software Reliability and Analysis Research<br>start=%{base}<br>finish=%{x}<br>count=%{y}<extra></extra>",
         "legendgroup": "Software Reliability and Analysis Research",
         "marker": {
          "color": "#FECB52",
          "pattern": {
           "shape": ""
          }
         },
         "name": "Software Reliability and Analysis Research",
         "orientation": "h",
         "showlegend": true,
         "textposition": "auto",
         "type": "bar",
         "x": [
          31622400000,
          31536000000
         ],
         "xaxis": "x",
         "y": {
          "bdata": "AwM=",
          "dtype": "i1"
         },
         "yaxis": "y"
        },
        {
         "base": [
          "2012-01-01T00:00:00.000000000"
         ],
         "hovertemplate": "topic=Electric Power System Optimization<br>start=%{base}<br>finish=%{x}<br>count=%{y}<extra></extra>",
         "legendgroup": "Electric Power System Optimization",
         "marker": {
          "color": "#636EFA",
          "pattern": {
           "shape": ""
          }
         },
         "name": "Electric Power System Optimization",
         "orientation": "h",
         "showlegend": true,
         "textposition": "auto",
         "type": "bar",
         "x": [
          31622400000
         ],
         "xaxis": "x",
         "y": {
          "bdata": "Ag==",
          "dtype": "i1"
         },
         "yaxis": "y"
        },
        {
         "base": [
          "2012-01-01T00:00:00.000000000"
         ],
         "hovertemplate": "topic=Combinatorial Optimization and Complexity Theory<br>start=%{base}<br>finish=%{x}<br>count=%{y}<extra></extra>",
         "legendgroup": "Combinatorial Optimization and Complexity Theory",
         "marker": {
          "color": "#EF553B",
          "pattern": {
           "shape": ""
          }
         },
         "name": "Combinatorial Optimization and Complexity Theory",
         "orientation": "h",
         "showlegend": true,
         "textposition": "auto",
         "type": "bar",
         "x": [
          31622400000
         ],
         "xaxis": "x",
         "y": {
          "bdata": "Aw==",
          "dtype": "i1"
         },
         "yaxis": "y"
        },
        {
         "base": [
          "2012-01-01T00:00:00.000000000",
          "2014-01-01T00:00:00.000000000",
          "2024-01-01T00:00:00.000000000"
         ],
         "hovertemplate": "topic=Software Engineering Research<br>start=%{base}<br>finish=%{x}<br>count=%{y}<extra></extra>",
         "legendgroup": "Software Engineering Research",
         "marker": {
          "color": "#00CC96",
          "pattern": {
           "shape": ""
          }
         },
         "name": "Software Engineering Research",
         "orientation": "h",
         "showlegend": true,
         "textposition": "auto",
         "type": "bar",
         "x": [
          31622400000,
          31536000000,
          31622400000
         ],
         "xaxis": "x",
         "y": {
          "bdata": "AgMF",
          "dtype": "i1"
         },
         "yaxis": "y"
        },
        {
         "base": [
          "2012-01-01T00:00:00.000000000"
         ],
         "hovertemplate": "topic=Cognitive Science and Mapping<br>start=%{base}<br>finish=%{x}<br>count=%{y}<extra></extra>",
         "legendgroup": "Cognitive Science and Mapping",
         "marker": {
          "color": "#AB63FA",
          "pattern": {
           "shape": ""
          }
         },
         "name": "Cognitive Science and Mapping",
         "orientation": "h",
         "showlegend": true,
         "textposition": "auto",
         "type": "bar",
         "x": [
          31622400000
         ],
         "xaxis": "x",
         "y": {
          "bdata": "Ag==",
          "dtype": "i1"
         },
         "yaxis": "y"
        },
        {
         "base": [
          "2012-01-01T00:00:00.000000000",
          "2014-01-01T00:00:00.000000000"
         ],
         "hovertemplate": "topic=Digital Games and Media<br>start=%{base}<br>finish=%{x}<br>count=%{y}<extra></extra>",
         "legendgroup": "Digital Games and Media",
         "marker": {
          "color": "#FFA15A",
          "pattern": {
           "shape": ""
          }
         },
         "name": "Digital Games and Media",
         "orientation": "h",
         "showlegend": true,
         "textposition": "auto",
         "type": "bar",
         "x": [
          31622400000,
          31536000000
         ],
         "xaxis": "x",
         "y": {
          "bdata": "BAI=",
          "dtype": "i1"
         },
         "yaxis": "y"
        },
        {
         "base": [
          "2012-01-01T00:00:00.000000000",
          "2014-01-01T00:00:00.000000000"
         ],
         "hovertemplate": "topic=Multi-Criteria Decision Making<br>start=%{base}<br>finish=%{x}<br>count=%{y}<extra></extra>",
         "legendgroup": "Multi-Criteria Decision Making",
         "marker": {
          "color": "#19D3F3",
          "pattern": {
           "shape": ""
          }
         },
         "name": "Multi-Criteria Decision Making",
         "orientation": "h",
         "showlegend": true,
         "textposition": "auto",
         "type": "bar",
         "x": [
          31622400000,
          31536000000
         ],
         "xaxis": "x",
         "y": {
          "bdata": "BAI=",
          "dtype": "i1"
         },
         "yaxis": "y"
        },
        {
         "base": [
          "2012-01-01T00:00:00.000000000",
          "2014-01-01T00:00:00.000000000"
         ],
         "hovertemplate": "topic=Advanced Software Engineering Methodologies<br>start=%{base}<br>finish=%{x}<br>count=%{y}<extra></extra>",
         "legendgroup": "Advanced Software Engineering Methodologies",
         "marker": {
          "color": "#FF6692",
          "pattern": {
           "shape": ""
          }
         },
         "name": "Advanced Software Engineering Methodologies",
         "orientation": "h",
         "showlegend": true,
         "textposition": "auto",
         "type": "bar",
         "x": [
          31622400000,
          31536000000
         ],
         "xaxis": "x",
         "y": {
          "bdata": "BAQ=",
          "dtype": "i1"
         },
         "yaxis": "y"
        },
        {
         "base": [
          "2012-01-01T00:00:00.000000000",
          "2016-01-01T00:00:00.000000000"
         ],
         "hovertemplate": "topic=Human Pose and Action Recognition<br>start=%{base}<br>finish=%{x}<br>count=%{y}<extra></extra>",
         "legendgroup": "Human Pose and Action Recognition",
         "marker": {
          "color": "#B6E880",
          "pattern": {
           "shape": ""
          }
         },
         "name": "Human Pose and Action Recognition",
         "orientation": "h",
         "showlegend": true,
         "textposition": "auto",
         "type": "bar",
         "x": [
          31622400000,
          31622400000
         ],
         "xaxis": "x",
         "y": {
          "bdata": "AgM=",
          "dtype": "i1"
         },
         "yaxis": "y"
        },
        {
         "base": [
          "2012-01-01T00:00:00.000000000",
          "2024-01-01T00:00:00.000000000"
         ],
         "hovertemplate": "topic=Software Testing and Debugging Techniques<br>start=%{base}<br>finish=%{x}<br>count=%{y}<extra></extra>",
         "legendgroup": "Software Testing and Debugging Techniques",
         "marker": {
          "color": "#FF97FF",
          "pattern": {
           "shape": ""
          }
         },
         "name": "Software Testing and Debugging Techniques",
         "orientation": "h",
         "showlegend": true,
         "textposition": "auto",
         "type": "bar",
         "x": [
          31622400000,
          31622400000
         ],
         "xaxis": "x",
         "y": {
          "bdata": "BAM=",
          "dtype": "i1"
         },
         "yaxis": "y"
        },
        {
         "base": [
          "2012-01-01T00:00:00.000000000",
          "2024-01-01T00:00:00.000000000"
         ],
         "hovertemplate": "topic=Adversarial Robustness in Machine Learning<br>start=%{base}<br>finish=%{x}<br>count=%{y}<extra></extra>",
         "legendgroup": "Adversarial Robustness in Machine Learning",
         "marker": {
          "color": "#FECB52",
          "pattern": {
           "shape": ""
          }
         },
         "name": "Adversarial Robustness in Machine Learning",
         "orientation": "h",
         "showlegend": true,
         "textposition": "auto",
         "type": "bar",
         "x": [
          31622400000,
          31622400000
         ],
         "xaxis": "x",
         "y": {
          "bdata": "AgM=",
          "dtype": "i1"
         },
         "yaxis": "y"
        },
        {
         "base": [
          "2014-01-01T00:00:00.000000000",
          "2016-01-01T00:00:00.000000000"
         ],
         "hovertemplate": "topic=Face and Expression Recognition<br>start=%{base}<br>finish=%{x}<br>count=%{y}<extra></extra>",
         "legendgroup": "Face and Expression Recognition",
         "marker": {
          "color": "#636EFA",
          "pattern": {
           "shape": ""
          }
         },
         "name": "Face and Expression Recognition",
         "orientation": "h",
         "showlegend": true,
         "textposition": "auto",
         "type": "bar",
         "x": [
          31536000000,
          31622400000
         ],
         "xaxis": "x",
         "y": {
          "bdata": "AgY=",
          "dtype": "i1"
         },
         "yaxis": "y"
        },
        {
         "base": [
          "2014-01-01T00:00:00.000000000",
          "2016-01-01T00:00:00.000000000"
         ],
         "hovertemplate": "topic=Video Surveillance and Tracking Methods<br>start=%{base}<br>finish=%{x}<br>count=%{y}<extra></extra>",
         "legendgroup": "Video Surveillance and Tracking Methods",
         "marker": {
          "color": "#EF553B",
          "pattern": {
           "shape": ""
          }
         },
         "name": "Video Surveillance and Tracking Methods",
         "orientation": "h",
         "showlegend": true,
         "textposition": "auto",
         "type": "bar",
         "x": [
          31536000000,
          31622400000
         ],
         "xaxis": "x",
         "y": {
          "bdata": "AgI=",
          "dtype": "i1"
         },
         "yaxis": "y"
        },
        {
         "base": [
          "2014-01-01T00:00:00.000000000"
         ],
         "hovertemplate": "topic=Advanced Multi-Objective Optimization Algorithms<br>start=%{base}<br>finish=%{x}<br>count=%{y}<extra></extra>",
         "legendgroup": "Advanced Multi-Objective Optimization Algorithms",
         "marker": {
          "color": "#00CC96",
          "pattern": {
           "shape": ""
          }
         },
         "name": "Advanced Multi-Objective Optimization Algorithms",
         "orientation": "h",
         "showlegend": true,
         "textposition": "auto",
         "type": "bar",
         "x": [
          31536000000
         ],
         "xaxis": "x",
         "y": {
          "bdata": "Ag==",
          "dtype": "i1"
         },
         "yaxis": "y"
        },
        {
         "base": [
          "2014-01-01T00:00:00.000000000"
         ],
         "hovertemplate": "topic=Modeling, Simulation, and Optimization<br>start=%{base}<br>finish=%{x}<br>count=%{y}<extra></extra>",
         "legendgroup": "Modeling, Simulation, and Optimization",
         "marker": {
          "color": "#AB63FA",
          "pattern": {
           "shape": ""
          }
         },
         "name": "Modeling, Simulation, and Optimization",
         "orientation": "h",
         "showlegend": true,
         "textposition": "auto",
         "type": "bar",
         "x": [
          31536000000
         ],
         "xaxis": "x",
         "y": {
          "bdata": "Ag==",
          "dtype": "i1"
         },
         "yaxis": "y"
        },
        {
         "base": [
          "2014-01-01T00:00:00.000000000",
          "2016-01-01T00:00:00.000000000"
         ],
         "hovertemplate": "topic=Computability, Logic, AI Algorithms<br>start=%{base}<br>finish=%{x}<br>count=%{y}<extra></extra>",
         "legendgroup": "Computability, Logic, AI Algorithms",
         "marker": {
          "color": "#FFA15A",
          "pattern": {
           "shape": ""
          }
         },
         "name": "Computability, Logic, AI Algorithms",
         "orientation": "h",
         "showlegend": true,
         "textposition": "auto",
         "type": "bar",
         "x": [
          31536000000,
          31622400000
         ],
         "xaxis": "x",
         "y": {
          "bdata": "AgM=",
          "dtype": "i1"
         },
         "yaxis": "y"
        },
        {
         "base": [
          "2014-01-01T00:00:00.000000000"
         ],
         "hovertemplate": "topic=Evolution and Genetic Dynamics<br>start=%{base}<br>finish=%{x}<br>count=%{y}<extra></extra>",
         "legendgroup": "Evolution and Genetic Dynamics",
         "marker": {
          "color": "#19D3F3",
          "pattern": {
           "shape": ""
          }
         },
         "name": "Evolution and Genetic Dynamics",
         "orientation": "h",
         "showlegend": true,
         "textposition": "auto",
         "type": "bar",
         "x": [
          31536000000
         ],
         "xaxis": "x",
         "y": {
          "bdata": "Ag==",
          "dtype": "i1"
         },
         "yaxis": "y"
        },
        {
         "base": [
          "2014-01-01T00:00:00.000000000",
          "2016-01-01T00:00:00.000000000"
         ],
         "hovertemplate": "topic=Opinion Dynamics and Social Influence<br>start=%{base}<br>finish=%{x}<br>count=%{y}<extra></extra>",
         "legendgroup": "Opinion Dynamics and Social Influence",
         "marker": {
          "color": "#FF6692",
          "pattern": {
           "shape": ""
          }
         },
         "name": "Opinion Dynamics and Social Influence",
         "orientation": "h",
         "showlegend": true,
         "textposition": "auto",
         "type": "bar",
         "x": [
          31536000000,
          31622400000
         ],
         "xaxis": "x",
         "y": {
          "bdata": "CAU=",
          "dtype": "i1"
         },
         "yaxis": "y"
        },
        {
         "base": [
          "2014-01-01T00:00:00.000000000"
         ],
         "hovertemplate": "topic=Urban Transport and Accessibility<br>start=%{base}<br>finish=%{x}<br>count=%{y}<extra></extra>",
         "legendgroup": "Urban Transport and Accessibility",
         "marker": {
          "color": "#B6E880",
          "pattern": {
           "shape": ""
          }
         },
         "name": "Urban Transport and Accessibility",
         "orientation": "h",
         "showlegend": true,
         "textposition": "auto",
         "type": "bar",
         "x": [
          31536000000
         ],
         "xaxis": "x",
         "y": {
          "bdata": "Ag==",
          "dtype": "i1"
         },
         "yaxis": "y"
        },
        {
         "base": [
          "2014-01-01T00:00:00.000000000"
         ],
         "hovertemplate": "topic=Evacuation and Crowd Dynamics<br>start=%{base}<br>finish=%{x}<br>count=%{y}<extra></extra>",
         "legendgroup": "Evacuation and Crowd Dynamics",
         "marker": {
          "color": "#FF97FF",
          "pattern": {
           "shape": ""
          }
         },
         "name": "Evacuation and Crowd Dynamics",
         "orientation": "h",
         "showlegend": true,
         "textposition": "auto",
         "type": "bar",
         "x": [
          31536000000
         ],
         "xaxis": "x",
         "y": {
          "bdata": "Ag==",
          "dtype": "i1"
         },
         "yaxis": "y"
        },
        {
         "base": [
          "2014-01-01T00:00:00.000000000"
         ],
         "hovertemplate": "topic=Traffic control and management<br>start=%{base}<br>finish=%{x}<br>count=%{y}<extra></extra>",
         "legendgroup": "Traffic control and management",
         "marker": {
          "color": "#FECB52",
          "pattern": {
           "shape": ""
          }
         },
         "name": "Traffic control and management",
         "orientation": "h",
         "showlegend": true,
         "textposition": "auto",
         "type": "bar",
         "x": [
          31536000000
         ],
         "xaxis": "x",
         "y": {
          "bdata": "Ag==",
          "dtype": "i1"
         },
         "yaxis": "y"
        },
        {
         "base": [
          "2014-01-01T00:00:00.000000000"
         ],
         "hovertemplate": "topic=Economic theories and models<br>start=%{base}<br>finish=%{x}<br>count=%{y}<extra></extra>",
         "legendgroup": "Economic theories and models",
         "marker": {
          "color": "#636EFA",
          "pattern": {
           "shape": ""
          }
         },
         "name": "Economic theories and models",
         "orientation": "h",
         "showlegend": true,
         "textposition": "auto",
         "type": "bar",
         "x": [
          31536000000
         ],
         "xaxis": "x",
         "y": {
          "bdata": "Aw==",
          "dtype": "i1"
         },
         "yaxis": "y"
        },
        {
         "base": [
          "2014-01-01T00:00:00.000000000",
          "2016-01-01T00:00:00.000000000"
         ],
         "hovertemplate": "topic=Image Retrieval and Classification Techniques<br>start=%{base}<br>finish=%{x}<br>count=%{y}<extra></extra>",
         "legendgroup": "Image Retrieval and Classification Techniques",
         "marker": {
          "color": "#EF553B",
          "pattern": {
           "shape": ""
          }
         },
         "name": "Image Retrieval and Classification Techniques",
         "orientation": "h",
         "showlegend": true,
         "textposition": "auto",
         "type": "bar",
         "x": [
          31536000000,
          31622400000
         ],
         "xaxis": "x",
         "y": {
          "bdata": "AgM=",
          "dtype": "i1"
         },
         "yaxis": "y"
        },
        {
         "base": [
          "2014-01-01T00:00:00.000000000"
         ],
         "hovertemplate": "topic=Network Security and Intrusion Detection<br>start=%{base}<br>finish=%{x}<br>count=%{y}<extra></extra>",
         "legendgroup": "Network Security and Intrusion Detection",
         "marker": {
          "color": "#00CC96",
          "pattern": {
           "shape": ""
          }
         },
         "name": "Network Security and Intrusion Detection",
         "orientation": "h",
         "showlegend": true,
         "textposition": "auto",
         "type": "bar",
         "x": [
          31536000000
         ],
         "xaxis": "x",
         "y": {
          "bdata": "Aw==",
          "dtype": "i1"
         },
         "yaxis": "y"
        },
        {
         "base": [
          "2014-01-01T00:00:00.000000000",
          "2024-01-01T00:00:00.000000000"
         ],
         "hovertemplate": "topic=Transportation Planning and Optimization<br>start=%{base}<br>finish=%{x}<br>count=%{y}<extra></extra>",
         "legendgroup": "Transportation Planning and Optimization",
         "marker": {
          "color": "#AB63FA",
          "pattern": {
           "shape": ""
          }
         },
         "name": "Transportation Planning and Optimization",
         "orientation": "h",
         "showlegend": true,
         "textposition": "auto",
         "type": "bar",
         "x": [
          31536000000,
          31622400000
         ],
         "xaxis": "x",
         "y": {
          "bdata": "BwM=",
          "dtype": "i1"
         },
         "yaxis": "y"
        },
        {
         "base": [
          "2014-01-01T00:00:00.000000000",
          "2016-01-01T00:00:00.000000000"
         ],
         "hovertemplate": "topic=Experimental Behavioral Economics Studies<br>start=%{base}<br>finish=%{x}<br>count=%{y}<extra></extra>",
         "legendgroup": "Experimental Behavioral Economics Studies",
         "marker": {
          "color": "#FFA15A",
          "pattern": {
           "shape": ""
          }
         },
         "name": "Experimental Behavioral Economics Studies",
         "orientation": "h",
         "showlegend": true,
         "textposition": "auto",
         "type": "bar",
         "x": [
          31536000000,
          31622400000
         ],
         "xaxis": "x",
         "y": {
          "bdata": "BQI=",
          "dtype": "i1"
         },
         "yaxis": "y"
        },
        {
         "base": [
          "2014-01-01T00:00:00.000000000"
         ],
         "hovertemplate": "topic=Music and Audio Processing<br>start=%{base}<br>finish=%{x}<br>count=%{y}<extra></extra>",
         "legendgroup": "Music and Audio Processing",
         "marker": {
          "color": "#19D3F3",
          "pattern": {
           "shape": ""
          }
         },
         "name": "Music and Audio Processing",
         "orientation": "h",
         "showlegend": true,
         "textposition": "auto",
         "type": "bar",
         "x": [
          31536000000
         ],
         "xaxis": "x",
         "y": {
          "bdata": "Ag==",
          "dtype": "i1"
         },
         "yaxis": "y"
        },
        {
         "base": [
          "2014-01-01T00:00:00.000000000"
         ],
         "hovertemplate": "topic=Data Visualization and Analytics<br>start=%{base}<br>finish=%{x}<br>count=%{y}<extra></extra>",
         "legendgroup": "Data Visualization and Analytics",
         "marker": {
          "color": "#FF6692",
          "pattern": {
           "shape": ""
          }
         },
         "name": "Data Visualization and Analytics",
         "orientation": "h",
         "showlegend": true,
         "textposition": "auto",
         "type": "bar",
         "x": [
          31536000000
         ],
         "xaxis": "x",
         "y": {
          "bdata": "BA==",
          "dtype": "i1"
         },
         "yaxis": "y"
        },
        {
         "base": [
          "2014-01-01T00:00:00.000000000",
          "2016-01-01T00:00:00.000000000"
         ],
         "hovertemplate": "topic=Recommender Systems and Techniques<br>start=%{base}<br>finish=%{x}<br>count=%{y}<extra></extra>",
         "legendgroup": "Recommender Systems and Techniques",
         "marker": {
          "color": "#B6E880",
          "pattern": {
           "shape": ""
          }
         },
         "name": "Recommender Systems and Techniques",
         "orientation": "h",
         "showlegend": true,
         "textposition": "auto",
         "type": "bar",
         "x": [
          31536000000,
          31622400000
         ],
         "xaxis": "x",
         "y": {
          "bdata": "AwI=",
          "dtype": "i1"
         },
         "yaxis": "y"
        },
        {
         "base": [
          "2014-01-01T00:00:00.000000000"
         ],
         "hovertemplate": "topic=Music Technology and Sound Studies<br>start=%{base}<br>finish=%{x}<br>count=%{y}<extra></extra>",
         "legendgroup": "Music Technology and Sound Studies",
         "marker": {
          "color": "#FF97FF",
          "pattern": {
           "shape": ""
          }
         },
         "name": "Music Technology and Sound Studies",
         "orientation": "h",
         "showlegend": true,
         "textposition": "auto",
         "type": "bar",
         "x": [
          31536000000
         ],
         "xaxis": "x",
         "y": {
          "bdata": "Ag==",
          "dtype": "i1"
         },
         "yaxis": "y"
        },
        {
         "base": [
          "2014-01-01T00:00:00.000000000",
          "2016-01-01T00:00:00.000000000"
         ],
         "hovertemplate": "topic=Advanced Image and Video Retrieval Techniques<br>start=%{base}<br>finish=%{x}<br>count=%{y}<extra></extra>",
         "legendgroup": "Advanced Image and Video Retrieval Techniques",
         "marker": {
          "color": "#FECB52",
          "pattern": {
           "shape": ""
          }
         },
         "name": "Advanced Image and Video Retrieval Techniques",
         "orientation": "h",
         "showlegend": true,
         "textposition": "auto",
         "type": "bar",
         "x": [
          31536000000,
          31622400000
         ],
         "xaxis": "x",
         "y": {
          "bdata": "AwU=",
          "dtype": "i1"
         },
         "yaxis": "y"
        },
        {
         "base": [
          "2014-01-01T00:00:00.000000000",
          "2016-01-01T00:00:00.000000000"
         ],
         "hovertemplate": "topic=Imbalanced Data Classification Techniques<br>start=%{base}<br>finish=%{x}<br>count=%{y}<extra></extra>",
         "legendgroup": "Imbalanced Data Classification Techniques",
         "marker": {
          "color": "#636EFA",
          "pattern": {
           "shape": ""
          }
         },
         "name": "Imbalanced Data Classification Techniques",
         "orientation": "h",
         "showlegend": true,
         "textposition": "auto",
         "type": "bar",
         "x": [
          31536000000,
          31622400000
         ],
         "xaxis": "x",
         "y": {
          "bdata": "AgI=",
          "dtype": "i1"
         },
         "yaxis": "y"
        },
        {
         "base": [
          "2014-01-01T00:00:00.000000000"
         ],
         "hovertemplate": "topic=Complex Systems and Time Series Analysis<br>start=%{base}<br>finish=%{x}<br>count=%{y}<extra></extra>",
         "legendgroup": "Complex Systems and Time Series Analysis",
         "marker": {
          "color": "#EF553B",
          "pattern": {
           "shape": ""
          }
         },
         "name": "Complex Systems and Time Series Analysis",
         "orientation": "h",
         "showlegend": true,
         "textposition": "auto",
         "type": "bar",
         "x": [
          31536000000
         ],
         "xaxis": "x",
         "y": {
          "bdata": "Ag==",
          "dtype": "i1"
         },
         "yaxis": "y"
        },
        {
         "base": [
          "2014-01-01T00:00:00.000000000"
         ],
         "hovertemplate": "topic=Distributed systems and fault tolerance<br>start=%{base}<br>finish=%{x}<br>count=%{y}<extra></extra>",
         "legendgroup": "Distributed systems and fault tolerance",
         "marker": {
          "color": "#00CC96",
          "pattern": {
           "shape": ""
          }
         },
         "name": "Distributed systems and fault tolerance",
         "orientation": "h",
         "showlegend": true,
         "textposition": "auto",
         "type": "bar",
         "x": [
          31536000000
         ],
         "xaxis": "x",
         "y": {
          "bdata": "Aw==",
          "dtype": "i1"
         },
         "yaxis": "y"
        },
        {
         "base": [
          "2014-01-01T00:00:00.000000000"
         ],
         "hovertemplate": "topic=Target Tracking and Data Fusion in Sensor Networks<br>start=%{base}<br>finish=%{x}<br>count=%{y}<extra></extra>",
         "legendgroup": "Target Tracking and Data Fusion in Sensor Networks",
         "marker": {
          "color": "#AB63FA",
          "pattern": {
           "shape": ""
          }
         },
         "name": "Target Tracking and Data Fusion in Sensor Networks",
         "orientation": "h",
         "showlegend": true,
         "textposition": "auto",
         "type": "bar",
         "x": [
          31536000000
         ],
         "xaxis": "x",
         "y": {
          "bdata": "Ag==",
          "dtype": "i1"
         },
         "yaxis": "y"
        },
        {
         "base": [
          "2014-01-01T00:00:00.000000000",
          "2024-01-01T00:00:00.000000000"
         ],
         "hovertemplate": "topic=Scientific Computing and Data Management<br>start=%{base}<br>finish=%{x}<br>count=%{y}<extra></extra>",
         "legendgroup": "Scientific Computing and Data Management",
         "marker": {
          "color": "#FFA15A",
          "pattern": {
           "shape": ""
          }
         },
         "name": "Scientific Computing and Data Management",
         "orientation": "h",
         "showlegend": true,
         "textposition": "auto",
         "type": "bar",
         "x": [
          31536000000,
          31622400000
         ],
         "xaxis": "x",
         "y": {
          "bdata": "AgI=",
          "dtype": "i1"
         },
         "yaxis": "y"
        },
        {
         "base": [
          "2014-01-01T00:00:00.000000000"
         ],
         "hovertemplate": "topic=Spreadsheets and End-User Computing<br>start=%{base}<br>finish=%{x}<br>count=%{y}<extra></extra>",
         "legendgroup": "Spreadsheets and End-User Computing",
         "marker": {
          "color": "#19D3F3",
          "pattern": {
           "shape": ""
          }
         },
         "name": "Spreadsheets and End-User Computing",
         "orientation": "h",
         "showlegend": true,
         "textposition": "auto",
         "type": "bar",
         "x": [
          31536000000
         ],
         "xaxis": "x",
         "y": {
          "bdata": "Aw==",
          "dtype": "i1"
         },
         "yaxis": "y"
        },
        {
         "base": [
          "2014-01-01T00:00:00.000000000",
          "2016-01-01T00:00:00.000000000"
         ],
         "hovertemplate": "topic=Consumer Market Behavior and Pricing<br>start=%{base}<br>finish=%{x}<br>count=%{y}<extra></extra>",
         "legendgroup": "Consumer Market Behavior and Pricing",
         "marker": {
          "color": "#FF6692",
          "pattern": {
           "shape": ""
          }
         },
         "name": "Consumer Market Behavior and Pricing",
         "orientation": "h",
         "showlegend": true,
         "textposition": "auto",
         "type": "bar",
         "x": [
          31536000000,
          31622400000
         ],
         "xaxis": "x",
         "y": {
          "bdata": "AgQ=",
          "dtype": "i1"
         },
         "yaxis": "y"
        },
        {
         "base": [
          "2014-01-01T00:00:00.000000000"
         ],
         "hovertemplate": "topic=Human Mobility and Location-Based Analysis<br>start=%{base}<br>finish=%{x}<br>count=%{y}<extra></extra>",
         "legendgroup": "Human Mobility and Location-Based Analysis",
         "marker": {
          "color": "#B6E880",
          "pattern": {
           "shape": ""
          }
         },
         "name": "Human Mobility and Location-Based Analysis",
         "orientation": "h",
         "showlegend": true,
         "textposition": "auto",
         "type": "bar",
         "x": [
          31536000000
         ],
         "xaxis": "x",
         "y": {
          "bdata": "Ag==",
          "dtype": "i1"
         },
         "yaxis": "y"
        },
        {
         "base": [
          "2014-01-01T00:00:00.000000000"
         ],
         "hovertemplate": "topic=Risk and Portfolio Optimization<br>start=%{base}<br>finish=%{x}<br>count=%{y}<extra></extra>",
         "legendgroup": "Risk and Portfolio Optimization",
         "marker": {
          "color": "#FF97FF",
          "pattern": {
           "shape": ""
          }
         },
         "name": "Risk and Portfolio Optimization",
         "orientation": "h",
         "showlegend": true,
         "textposition": "auto",
         "type": "bar",
         "x": [
          31536000000
         ],
         "xaxis": "x",
         "y": {
          "bdata": "Ag==",
          "dtype": "i1"
         },
         "yaxis": "y"
        },
        {
         "base": [
          "2014-01-01T00:00:00.000000000",
          "2016-01-01T00:00:00.000000000",
          "2024-01-01T00:00:00.000000000"
         ],
         "hovertemplate": "topic=Transportation and Mobility Innovations<br>start=%{base}<br>finish=%{x}<br>count=%{y}<extra></extra>",
         "legendgroup": "Transportation and Mobility Innovations",
         "marker": {
          "color": "#FECB52",
          "pattern": {
           "shape": ""
          }
         },
         "name": "Transportation and Mobility Innovations",
         "orientation": "h",
         "showlegend": true,
         "textposition": "auto",
         "type": "bar",
         "x": [
          31536000000,
          31622400000,
          31622400000
         ],
         "xaxis": "x",
         "y": {
          "bdata": "BAQC",
          "dtype": "i1"
         },
         "yaxis": "y"
        },
        {
         "base": [
          "2014-01-01T00:00:00.000000000",
          "2016-01-01T00:00:00.000000000"
         ],
         "hovertemplate": "topic=Fault Detection and Control Systems<br>start=%{base}<br>finish=%{x}<br>count=%{y}<extra></extra>",
         "legendgroup": "Fault Detection and Control Systems",
         "marker": {
          "color": "#636EFA",
          "pattern": {
           "shape": ""
          }
         },
         "name": "Fault Detection and Control Systems",
         "orientation": "h",
         "showlegend": true,
         "textposition": "auto",
         "type": "bar",
         "x": [
          31536000000,
          31622400000
         ],
         "xaxis": "x",
         "y": {
          "bdata": "AgY=",
          "dtype": "i1"
         },
         "yaxis": "y"
        },
        {
         "base": [
          "2014-01-01T00:00:00.000000000"
         ],
         "hovertemplate": "topic=Mathematical and Theoretical Epidemiology and Ecology Models<br>start=%{base}<br>finish=%{x}<br>count=%{y}<extra></extra>",
         "legendgroup": "Mathematical and Theoretical Epidemiology and Ecology Models",
         "marker": {
          "color": "#EF553B",
          "pattern": {
           "shape": ""
          }
         },
         "name": "Mathematical and Theoretical Epidemiology and Ecology Models",
         "orientation": "h",
         "showlegend": true,
         "textposition": "auto",
         "type": "bar",
         "x": [
          31536000000
         ],
         "xaxis": "x",
         "y": {
          "bdata": "Aw==",
          "dtype": "i1"
         },
         "yaxis": "y"
        },
        {
         "base": [
          "2014-01-01T00:00:00.000000000",
          "2016-01-01T00:00:00.000000000"
         ],
         "hovertemplate": "topic=Sentiment Analysis and Opinion Mining<br>start=%{base}<br>finish=%{x}<br>count=%{y}<extra></extra>",
         "legendgroup": "Sentiment Analysis and Opinion Mining",
         "marker": {
          "color": "#00CC96",
          "pattern": {
           "shape": ""
          }
         },
         "name": "Sentiment Analysis and Opinion Mining",
         "orientation": "h",
         "showlegend": true,
         "textposition": "auto",
         "type": "bar",
         "x": [
          31536000000,
          31622400000
         ],
         "xaxis": "x",
         "y": {
          "bdata": "AgQ=",
          "dtype": "i1"
         },
         "yaxis": "y"
        },
        {
         "base": [
          "2016-01-01T00:00:00.000000000"
         ],
         "hovertemplate": "topic=Mobile Crowdsensing and Crowdsourcing<br>start=%{base}<br>finish=%{x}<br>count=%{y}<extra></extra>",
         "legendgroup": "Mobile Crowdsensing and Crowdsourcing",
         "marker": {
          "color": "#AB63FA",
          "pattern": {
           "shape": ""
          }
         },
         "name": "Mobile Crowdsensing and Crowdsourcing",
         "orientation": "h",
         "showlegend": true,
         "textposition": "auto",
         "type": "bar",
         "x": [
          31622400000
         ],
         "xaxis": "x",
         "y": {
          "bdata": "Ag==",
          "dtype": "i1"
         },
         "yaxis": "y"
        },
        {
         "base": [
          "2016-01-01T00:00:00.000000000"
         ],
         "hovertemplate": "topic=Multimodal Machine Learning Applications<br>start=%{base}<br>finish=%{x}<br>count=%{y}<extra></extra>",
         "legendgroup": "Multimodal Machine Learning Applications",
         "marker": {
          "color": "#FFA15A",
          "pattern": {
           "shape": ""
          }
         },
         "name": "Multimodal Machine Learning Applications",
         "orientation": "h",
         "showlegend": true,
         "textposition": "auto",
         "type": "bar",
         "x": [
          31622400000
         ],
         "xaxis": "x",
         "y": {
          "bdata": "Aw==",
          "dtype": "i1"
         },
         "yaxis": "y"
        },
        {
         "base": [
          "2016-01-01T00:00:00.000000000"
         ],
         "hovertemplate": "topic=Advanced Computational Techniques and Applications<br>start=%{base}<br>finish=%{x}<br>count=%{y}<extra></extra>",
         "legendgroup": "Advanced Computational Techniques and Applications",
         "marker": {
          "color": "#19D3F3",
          "pattern": {
           "shape": ""
          }
         },
         "name": "Advanced Computational Techniques and Applications",
         "orientation": "h",
         "showlegend": true,
         "textposition": "auto",
         "type": "bar",
         "x": [
          31622400000
         ],
         "xaxis": "x",
         "y": {
          "bdata": "Ag==",
          "dtype": "i1"
         },
         "yaxis": "y"
        },
        {
         "base": [
          "2016-01-01T00:00:00.000000000",
          "2024-01-01T00:00:00.000000000"
         ],
         "hovertemplate": "topic=Electric Vehicles and Infrastructure<br>start=%{base}<br>finish=%{x}<br>count=%{y}<extra></extra>",
         "legendgroup": "Electric Vehicles and Infrastructure",
         "marker": {
          "color": "#FF6692",
          "pattern": {
           "shape": ""
          }
         },
         "name": "Electric Vehicles and Infrastructure",
         "orientation": "h",
         "showlegend": true,
         "textposition": "auto",
         "type": "bar",
         "x": [
          31622400000,
          31622400000
         ],
         "xaxis": "x",
         "y": {
          "bdata": "AgI=",
          "dtype": "i1"
         },
         "yaxis": "y"
        },
        {
         "base": [
          "2016-01-01T00:00:00.000000000"
         ],
         "hovertemplate": "topic=Robotics and Sensor-Based Localization<br>start=%{base}<br>finish=%{x}<br>count=%{y}<extra></extra>",
         "legendgroup": "Robotics and Sensor-Based Localization",
         "marker": {
          "color": "#B6E880",
          "pattern": {
           "shape": ""
          }
         },
         "name": "Robotics and Sensor-Based Localization",
         "orientation": "h",
         "showlegend": true,
         "textposition": "auto",
         "type": "bar",
         "x": [
          31622400000
         ],
         "xaxis": "x",
         "y": {
          "bdata": "Ag==",
          "dtype": "i1"
         },
         "yaxis": "y"
        },
        {
         "base": [
          "2016-01-01T00:00:00.000000000"
         ],
         "hovertemplate": "topic=Military Defense Systems Analysis<br>start=%{base}<br>finish=%{x}<br>count=%{y}<extra></extra>",
         "legendgroup": "Military Defense Systems Analysis",
         "marker": {
          "color": "#FF97FF",
          "pattern": {
           "shape": ""
          }
         },
         "name": "Military Defense Systems Analysis",
         "orientation": "h",
         "showlegend": true,
         "textposition": "auto",
         "type": "bar",
         "x": [
          31622400000
         ],
         "xaxis": "x",
         "y": {
          "bdata": "Ag==",
          "dtype": "i1"
         },
         "yaxis": "y"
        },
        {
         "base": [
          "2016-01-01T00:00:00.000000000"
         ],
         "hovertemplate": "topic=Advanced Clustering Algorithms Research<br>start=%{base}<br>finish=%{x}<br>count=%{y}<extra></extra>",
         "legendgroup": "Advanced Clustering Algorithms Research",
         "marker": {
          "color": "#FECB52",
          "pattern": {
           "shape": ""
          }
         },
         "name": "Advanced Clustering Algorithms Research",
         "orientation": "h",
         "showlegend": true,
         "textposition": "auto",
         "type": "bar",
         "x": [
          31622400000
         ],
         "xaxis": "x",
         "y": {
          "bdata": "Ag==",
          "dtype": "i1"
         },
         "yaxis": "y"
        },
        {
         "base": [
          "2016-01-01T00:00:00.000000000"
         ],
         "hovertemplate": "topic=Social Media and Politics<br>start=%{base}<br>finish=%{x}<br>count=%{y}<extra></extra>",
         "legendgroup": "Social Media and Politics",
         "marker": {
          "color": "#636EFA",
          "pattern": {
           "shape": ""
          }
         },
         "name": "Social Media and Politics",
         "orientation": "h",
         "showlegend": true,
         "textposition": "auto",
         "type": "bar",
         "x": [
          31622400000
         ],
         "xaxis": "x",
         "y": {
          "bdata": "Ag==",
          "dtype": "i1"
         },
         "yaxis": "y"
        },
        {
         "base": [
          "2016-01-01T00:00:00.000000000"
         ],
         "hovertemplate": "topic=Manufacturing Process and Optimization<br>start=%{base}<br>finish=%{x}<br>count=%{y}<extra></extra>",
         "legendgroup": "Manufacturing Process and Optimization",
         "marker": {
          "color": "#EF553B",
          "pattern": {
           "shape": ""
          }
         },
         "name": "Manufacturing Process and Optimization",
         "orientation": "h",
         "showlegend": true,
         "textposition": "auto",
         "type": "bar",
         "x": [
          31622400000
         ],
         "xaxis": "x",
         "y": {
          "bdata": "Aw==",
          "dtype": "i1"
         },
         "yaxis": "y"
        },
        {
         "base": [
          "2016-01-01T00:00:00.000000000"
         ],
         "hovertemplate": "topic=Digital Platforms and Economics<br>start=%{base}<br>finish=%{x}<br>count=%{y}<extra></extra>",
         "legendgroup": "Digital Platforms and Economics",
         "marker": {
          "color": "#00CC96",
          "pattern": {
           "shape": ""
          }
         },
         "name": "Digital Platforms and Economics",
         "orientation": "h",
         "showlegend": true,
         "textposition": "auto",
         "type": "bar",
         "x": [
          31622400000
         ],
         "xaxis": "x",
         "y": {
          "bdata": "Ag==",
          "dtype": "i1"
         },
         "yaxis": "y"
        },
        {
         "base": [
          "2016-01-01T00:00:00.000000000",
          "2024-01-01T00:00:00.000000000"
         ],
         "hovertemplate": "topic=Smart Grid Energy Management<br>start=%{base}<br>finish=%{x}<br>count=%{y}<extra></extra>",
         "legendgroup": "Smart Grid Energy Management",
         "marker": {
          "color": "#AB63FA",
          "pattern": {
           "shape": ""
          }
         },
         "name": "Smart Grid Energy Management",
         "orientation": "h",
         "showlegend": true,
         "textposition": "auto",
         "type": "bar",
         "x": [
          31622400000,
          31622400000
         ],
         "xaxis": "x",
         "y": {
          "bdata": "Agc=",
          "dtype": "i1"
         },
         "yaxis": "y"
        },
        {
         "base": [
          "2016-01-01T00:00:00.000000000"
         ],
         "hovertemplate": "topic=Domain Adaptation and Few-Shot Learning<br>start=%{base}<br>finish=%{x}<br>count=%{y}<extra></extra>",
         "legendgroup": "Domain Adaptation and Few-Shot Learning",
         "marker": {
          "color": "#FFA15A",
          "pattern": {
           "shape": ""
          }
         },
         "name": "Domain Adaptation and Few-Shot Learning",
         "orientation": "h",
         "showlegend": true,
         "textposition": "auto",
         "type": "bar",
         "x": [
          31622400000
         ],
         "xaxis": "x",
         "y": {
          "bdata": "Aw==",
          "dtype": "i1"
         },
         "yaxis": "y"
        },
        {
         "base": [
          "2016-01-01T00:00:00.000000000"
         ],
         "hovertemplate": "topic=Guidance and Control Systems<br>start=%{base}<br>finish=%{x}<br>count=%{y}<extra></extra>",
         "legendgroup": "Guidance and Control Systems",
         "marker": {
          "color": "#19D3F3",
          "pattern": {
           "shape": ""
          }
         },
         "name": "Guidance and Control Systems",
         "orientation": "h",
         "showlegend": true,
         "textposition": "auto",
         "type": "bar",
         "x": [
          31622400000
         ],
         "xaxis": "x",
         "y": {
          "bdata": "Ag==",
          "dtype": "i1"
         },
         "yaxis": "y"
        },
        {
         "base": [
          "2016-01-01T00:00:00.000000000"
         ],
         "hovertemplate": "topic=Context-Aware Activity Recognition Systems<br>start=%{base}<br>finish=%{x}<br>count=%{y}<extra></extra>",
         "legendgroup": "Context-Aware Activity Recognition Systems",
         "marker": {
          "color": "#FF6692",
          "pattern": {
           "shape": ""
          }
         },
         "name": "Context-Aware Activity Recognition Systems",
         "orientation": "h",
         "showlegend": true,
         "textposition": "auto",
         "type": "bar",
         "x": [
          31622400000
         ],
         "xaxis": "x",
         "y": {
          "bdata": "Ag==",
          "dtype": "i1"
         },
         "yaxis": "y"
        },
        {
         "base": [
          "2016-01-01T00:00:00.000000000"
         ],
         "hovertemplate": "topic=Economic Analysis of Law and Legal Systems<br>start=%{base}<br>finish=%{x}<br>count=%{y}<extra></extra>",
         "legendgroup": "Economic Analysis of Law and Legal Systems",
         "marker": {
          "color": "#B6E880",
          "pattern": {
           "shape": ""
          }
         },
         "name": "Economic Analysis of Law and Legal Systems",
         "orientation": "h",
         "showlegend": true,
         "textposition": "auto",
         "type": "bar",
         "x": [
          31622400000
         ],
         "xaxis": "x",
         "y": {
          "bdata": "Ag==",
          "dtype": "i1"
         },
         "yaxis": "y"
        },
        {
         "base": [
          "2024-01-01T00:00:00.000000000"
         ],
         "hovertemplate": "topic=Forecasting Techniques and Applications<br>start=%{base}<br>finish=%{x}<br>count=%{y}<extra></extra>",
         "legendgroup": "Forecasting Techniques and Applications",
         "marker": {
          "color": "#FF97FF",
          "pattern": {
           "shape": ""
          }
         },
         "name": "Forecasting Techniques and Applications",
         "orientation": "h",
         "showlegend": true,
         "textposition": "auto",
         "type": "bar",
         "x": [
          31622400000
         ],
         "xaxis": "x",
         "y": {
          "bdata": "Ag==",
          "dtype": "i1"
         },
         "yaxis": "y"
        },
        {
         "base": [
          "2024-01-01T00:00:00.000000000"
         ],
         "hovertemplate": "topic=Stock Market Forecasting Methods<br>start=%{base}<br>finish=%{x}<br>count=%{y}<extra></extra>",
         "legendgroup": "Stock Market Forecasting Methods",
         "marker": {
          "color": "#FECB52",
          "pattern": {
           "shape": ""
          }
         },
         "name": "Stock Market Forecasting Methods",
         "orientation": "h",
         "showlegend": true,
         "textposition": "auto",
         "type": "bar",
         "x": [
          31622400000
         ],
         "xaxis": "x",
         "y": {
          "bdata": "Ag==",
          "dtype": "i1"
         },
         "yaxis": "y"
        },
        {
         "base": [
          "2024-01-01T00:00:00.000000000"
         ],
         "hovertemplate": "topic=Explainable Artificial Intelligence (XAI)<br>start=%{base}<br>finish=%{x}<br>count=%{y}<extra></extra>",
         "legendgroup": "Explainable Artificial Intelligence (XAI)",
         "marker": {
          "color": "#636EFA",
          "pattern": {
           "shape": ""
          }
         },
         "name": "Explainable Artificial Intelligence (XAI)",
         "orientation": "h",
         "showlegend": true,
         "textposition": "auto",
         "type": "bar",
         "x": [
          31622400000
         ],
         "xaxis": "x",
         "y": {
          "bdata": "Fg==",
          "dtype": "i1"
         },
         "yaxis": "y"
        },
        {
         "base": [
          "2024-01-01T00:00:00.000000000"
         ],
         "hovertemplate": "topic=Artificial Intelligence in Healthcare and Education<br>start=%{base}<br>finish=%{x}<br>count=%{y}<extra></extra>",
         "legendgroup": "Artificial Intelligence in Healthcare and Education",
         "marker": {
          "color": "#EF553B",
          "pattern": {
           "shape": ""
          }
         },
         "name": "Artificial Intelligence in Healthcare and Education",
         "orientation": "h",
         "showlegend": true,
         "textposition": "auto",
         "type": "bar",
         "x": [
          31622400000
         ],
         "xaxis": "x",
         "y": {
          "bdata": "BQ==",
          "dtype": "i1"
         },
         "yaxis": "y"
        },
        {
         "base": [
          "2024-01-01T00:00:00.000000000"
         ],
         "hovertemplate": "topic=Machine Learning in Healthcare<br>start=%{base}<br>finish=%{x}<br>count=%{y}<extra></extra>",
         "legendgroup": "Machine Learning in Healthcare",
         "marker": {
          "color": "#00CC96",
          "pattern": {
           "shape": ""
          }
         },
         "name": "Machine Learning in Healthcare",
         "orientation": "h",
         "showlegend": true,
         "textposition": "auto",
         "type": "bar",
         "x": [
          31622400000
         ],
         "xaxis": "x",
         "y": {
          "bdata": "Bg==",
          "dtype": "i1"
         },
         "yaxis": "y"
        },
        {
         "base": [
          "2024-01-01T00:00:00.000000000"
         ],
         "hovertemplate": "topic=Flexible and Reconfigurable Manufacturing Systems<br>start=%{base}<br>finish=%{x}<br>count=%{y}<extra></extra>",
         "legendgroup": "Flexible and Reconfigurable Manufacturing Systems",
         "marker": {
          "color": "#AB63FA",
          "pattern": {
           "shape": ""
          }
         },
         "name": "Flexible and Reconfigurable Manufacturing Systems",
         "orientation": "h",
         "showlegend": true,
         "textposition": "auto",
         "type": "bar",
         "x": [
          31622400000
         ],
         "xaxis": "x",
         "y": {
          "bdata": "Ag==",
          "dtype": "i1"
         },
         "yaxis": "y"
        },
        {
         "base": [
          "2024-01-01T00:00:00.000000000"
         ],
         "hovertemplate": "topic=Privacy, Security, and Data Protection<br>start=%{base}<br>finish=%{x}<br>count=%{y}<extra></extra>",
         "legendgroup": "Privacy, Security, and Data Protection",
         "marker": {
          "color": "#FFA15A",
          "pattern": {
           "shape": ""
          }
         },
         "name": "Privacy, Security, and Data Protection",
         "orientation": "h",
         "showlegend": true,
         "textposition": "auto",
         "type": "bar",
         "x": [
          31622400000
         ],
         "xaxis": "x",
         "y": {
          "bdata": "Ag==",
          "dtype": "i1"
         },
         "yaxis": "y"
        },
        {
         "base": [
          "2024-01-01T00:00:00.000000000"
         ],
         "hovertemplate": "topic=Ethics and Social Impacts of AI<br>start=%{base}<br>finish=%{x}<br>count=%{y}<extra></extra>",
         "legendgroup": "Ethics and Social Impacts of AI",
         "marker": {
          "color": "#19D3F3",
          "pattern": {
           "shape": ""
          }
         },
         "name": "Ethics and Social Impacts of AI",
         "orientation": "h",
         "showlegend": true,
         "textposition": "auto",
         "type": "bar",
         "x": [
          31622400000
         ],
         "xaxis": "x",
         "y": {
          "bdata": "Bg==",
          "dtype": "i1"
         },
         "yaxis": "y"
        }
       ],
       "layout": {
        "bargap": 0.2,
        "barmode": "overlay",
        "legend": {
         "title": {
          "text": "topic"
         },
         "tracegroupgap": 0
        },
        "template": {
         "data": {
          "bar": [
           {
            "error_x": {
             "color": "#2a3f5f"
            },
            "error_y": {
             "color": "#2a3f5f"
            },
            "marker": {
             "line": {
              "color": "#E5ECF6",
              "width": 0.5
             },
             "pattern": {
              "fillmode": "overlay",
              "size": 10,
              "solidity": 0.2
             }
            },
            "type": "bar"
           }
          ],
          "barpolar": [
           {
            "marker": {
             "line": {
              "color": "#E5ECF6",
              "width": 0.5
             },
             "pattern": {
              "fillmode": "overlay",
              "size": 10,
              "solidity": 0.2
             }
            },
            "type": "barpolar"
           }
          ],
          "carpet": [
           {
            "aaxis": {
             "endlinecolor": "#2a3f5f",
             "gridcolor": "white",
             "linecolor": "white",
             "minorgridcolor": "white",
             "startlinecolor": "#2a3f5f"
            },
            "baxis": {
             "endlinecolor": "#2a3f5f",
             "gridcolor": "white",
             "linecolor": "white",
             "minorgridcolor": "white",
             "startlinecolor": "#2a3f5f"
            },
            "type": "carpet"
           }
          ],
          "choropleth": [
           {
            "colorbar": {
             "outlinewidth": 0,
             "ticks": ""
            },
            "type": "choropleth"
           }
          ],
          "contour": [
           {
            "colorbar": {
             "outlinewidth": 0,
             "ticks": ""
            },
            "colorscale": [
             [
              0,
              "#0d0887"
             ],
             [
              0.1111111111111111,
              "#46039f"
             ],
             [
              0.2222222222222222,
              "#7201a8"
             ],
             [
              0.3333333333333333,
              "#9c179e"
             ],
             [
              0.4444444444444444,
              "#bd3786"
             ],
             [
              0.5555555555555556,
              "#d8576b"
             ],
             [
              0.6666666666666666,
              "#ed7953"
             ],
             [
              0.7777777777777778,
              "#fb9f3a"
             ],
             [
              0.8888888888888888,
              "#fdca26"
             ],
             [
              1,
              "#f0f921"
             ]
            ],
            "type": "contour"
           }
          ],
          "contourcarpet": [
           {
            "colorbar": {
             "outlinewidth": 0,
             "ticks": ""
            },
            "type": "contourcarpet"
           }
          ],
          "heatmap": [
           {
            "colorbar": {
             "outlinewidth": 0,
             "ticks": ""
            },
            "colorscale": [
             [
              0,
              "#0d0887"
             ],
             [
              0.1111111111111111,
              "#46039f"
             ],
             [
              0.2222222222222222,
              "#7201a8"
             ],
             [
              0.3333333333333333,
              "#9c179e"
             ],
             [
              0.4444444444444444,
              "#bd3786"
             ],
             [
              0.5555555555555556,
              "#d8576b"
             ],
             [
              0.6666666666666666,
              "#ed7953"
             ],
             [
              0.7777777777777778,
              "#fb9f3a"
             ],
             [
              0.8888888888888888,
              "#fdca26"
             ],
             [
              1,
              "#f0f921"
             ]
            ],
            "type": "heatmap"
           }
          ],
          "histogram": [
           {
            "marker": {
             "pattern": {
              "fillmode": "overlay",
              "size": 10,
              "solidity": 0.2
             }
            },
            "type": "histogram"
           }
          ],
          "histogram2d": [
           {
            "colorbar": {
             "outlinewidth": 0,
             "ticks": ""
            },
            "colorscale": [
             [
              0,
              "#0d0887"
             ],
             [
              0.1111111111111111,
              "#46039f"
             ],
             [
              0.2222222222222222,
              "#7201a8"
             ],
             [
              0.3333333333333333,
              "#9c179e"
             ],
             [
              0.4444444444444444,
              "#bd3786"
             ],
             [
              0.5555555555555556,
              "#d8576b"
             ],
             [
              0.6666666666666666,
              "#ed7953"
             ],
             [
              0.7777777777777778,
              "#fb9f3a"
             ],
             [
              0.8888888888888888,
              "#fdca26"
             ],
             [
              1,
              "#f0f921"
             ]
            ],
            "type": "histogram2d"
           }
          ],
          "histogram2dcontour": [
           {
            "colorbar": {
             "outlinewidth": 0,
             "ticks": ""
            },
            "colorscale": [
             [
              0,
              "#0d0887"
             ],
             [
              0.1111111111111111,
              "#46039f"
             ],
             [
              0.2222222222222222,
              "#7201a8"
             ],
             [
              0.3333333333333333,
              "#9c179e"
             ],
             [
              0.4444444444444444,
              "#bd3786"
             ],
             [
              0.5555555555555556,
              "#d8576b"
             ],
             [
              0.6666666666666666,
              "#ed7953"
             ],
             [
              0.7777777777777778,
              "#fb9f3a"
             ],
             [
              0.8888888888888888,
              "#fdca26"
             ],
             [
              1,
              "#f0f921"
             ]
            ],
            "type": "histogram2dcontour"
           }
          ],
          "mesh3d": [
           {
            "colorbar": {
             "outlinewidth": 0,
             "ticks": ""
            },
            "type": "mesh3d"
           }
          ],
          "parcoords": [
           {
            "line": {
             "colorbar": {
              "outlinewidth": 0,
              "ticks": ""
             }
            },
            "type": "parcoords"
           }
          ],
          "pie": [
           {
            "automargin": true,
            "type": "pie"
           }
          ],
          "scatter": [
           {
            "fillpattern": {
             "fillmode": "overlay",
             "size": 10,
             "solidity": 0.2
            },
            "type": "scatter"
           }
          ],
          "scatter3d": [
           {
            "line": {
             "colorbar": {
              "outlinewidth": 0,
              "ticks": ""
             }
            },
            "marker": {
             "colorbar": {
              "outlinewidth": 0,
              "ticks": ""
             }
            },
            "type": "scatter3d"
           }
          ],
          "scattercarpet": [
           {
            "marker": {
             "colorbar": {
              "outlinewidth": 0,
              "ticks": ""
             }
            },
            "type": "scattercarpet"
           }
          ],
          "scattergeo": [
           {
            "marker": {
             "colorbar": {
              "outlinewidth": 0,
              "ticks": ""
             }
            },
            "type": "scattergeo"
           }
          ],
          "scattergl": [
           {
            "marker": {
             "colorbar": {
              "outlinewidth": 0,
              "ticks": ""
             }
            },
            "type": "scattergl"
           }
          ],
          "scattermap": [
           {
            "marker": {
             "colorbar": {
              "outlinewidth": 0,
              "ticks": ""
             }
            },
            "type": "scattermap"
           }
          ],
          "scattermapbox": [
           {
            "marker": {
             "colorbar": {
              "outlinewidth": 0,
              "ticks": ""
             }
            },
            "type": "scattermapbox"
           }
          ],
          "scatterpolar": [
           {
            "marker": {
             "colorbar": {
              "outlinewidth": 0,
              "ticks": ""
             }
            },
            "type": "scatterpolar"
           }
          ],
          "scatterpolargl": [
           {
            "marker": {
             "colorbar": {
              "outlinewidth": 0,
              "ticks": ""
             }
            },
            "type": "scatterpolargl"
           }
          ],
          "scatterternary": [
           {
            "marker": {
             "colorbar": {
              "outlinewidth": 0,
              "ticks": ""
             }
            },
            "type": "scatterternary"
           }
          ],
          "surface": [
           {
            "colorbar": {
             "outlinewidth": 0,
             "ticks": ""
            },
            "colorscale": [
             [
              0,
              "#0d0887"
             ],
             [
              0.1111111111111111,
              "#46039f"
             ],
             [
              0.2222222222222222,
              "#7201a8"
             ],
             [
              0.3333333333333333,
              "#9c179e"
             ],
             [
              0.4444444444444444,
              "#bd3786"
             ],
             [
              0.5555555555555556,
              "#d8576b"
             ],
             [
              0.6666666666666666,
              "#ed7953"
             ],
             [
              0.7777777777777778,
              "#fb9f3a"
             ],
             [
              0.8888888888888888,
              "#fdca26"
             ],
             [
              1,
              "#f0f921"
             ]
            ],
            "type": "surface"
           }
          ],
          "table": [
           {
            "cells": {
             "fill": {
              "color": "#EBF0F8"
             },
             "line": {
              "color": "white"
             }
            },
            "header": {
             "fill": {
              "color": "#C8D4E3"
             },
             "line": {
              "color": "white"
             }
            },
            "type": "table"
           }
          ]
         },
         "layout": {
          "annotationdefaults": {
           "arrowcolor": "#2a3f5f",
           "arrowhead": 0,
           "arrowwidth": 1
          },
          "autotypenumbers": "strict",
          "coloraxis": {
           "colorbar": {
            "outlinewidth": 0,
            "ticks": ""
           }
          },
          "colorscale": {
           "diverging": [
            [
             0,
             "#8e0152"
            ],
            [
             0.1,
             "#c51b7d"
            ],
            [
             0.2,
             "#de77ae"
            ],
            [
             0.3,
             "#f1b6da"
            ],
            [
             0.4,
             "#fde0ef"
            ],
            [
             0.5,
             "#f7f7f7"
            ],
            [
             0.6,
             "#e6f5d0"
            ],
            [
             0.7,
             "#b8e186"
            ],
            [
             0.8,
             "#7fbc41"
            ],
            [
             0.9,
             "#4d9221"
            ],
            [
             1,
             "#276419"
            ]
           ],
           "sequential": [
            [
             0,
             "#0d0887"
            ],
            [
             0.1111111111111111,
             "#46039f"
            ],
            [
             0.2222222222222222,
             "#7201a8"
            ],
            [
             0.3333333333333333,
             "#9c179e"
            ],
            [
             0.4444444444444444,
             "#bd3786"
            ],
            [
             0.5555555555555556,
             "#d8576b"
            ],
            [
             0.6666666666666666,
             "#ed7953"
            ],
            [
             0.7777777777777778,
             "#fb9f3a"
            ],
            [
             0.8888888888888888,
             "#fdca26"
            ],
            [
             1,
             "#f0f921"
            ]
           ],
           "sequentialminus": [
            [
             0,
             "#0d0887"
            ],
            [
             0.1111111111111111,
             "#46039f"
            ],
            [
             0.2222222222222222,
             "#7201a8"
            ],
            [
             0.3333333333333333,
             "#9c179e"
            ],
            [
             0.4444444444444444,
             "#bd3786"
            ],
            [
             0.5555555555555556,
             "#d8576b"
            ],
            [
             0.6666666666666666,
             "#ed7953"
            ],
            [
             0.7777777777777778,
             "#fb9f3a"
            ],
            [
             0.8888888888888888,
             "#fdca26"
            ],
            [
             1,
             "#f0f921"
            ]
           ]
          },
          "colorway": [
           "#636efa",
           "#EF553B",
           "#00cc96",
           "#ab63fa",
           "#FFA15A",
           "#19d3f3",
           "#FF6692",
           "#B6E880",
           "#FF97FF",
           "#FECB52"
          ],
          "font": {
           "color": "#2a3f5f"
          },
          "geo": {
           "bgcolor": "white",
           "lakecolor": "white",
           "landcolor": "#E5ECF6",
           "showlakes": true,
           "showland": true,
           "subunitcolor": "white"
          },
          "hoverlabel": {
           "align": "left"
          },
          "hovermode": "closest",
          "mapbox": {
           "style": "light"
          },
          "paper_bgcolor": "white",
          "plot_bgcolor": "#E5ECF6",
          "polar": {
           "angularaxis": {
            "gridcolor": "white",
            "linecolor": "white",
            "ticks": ""
           },
           "bgcolor": "#E5ECF6",
           "radialaxis": {
            "gridcolor": "white",
            "linecolor": "white",
            "ticks": ""
           }
          },
          "scene": {
           "xaxis": {
            "backgroundcolor": "#E5ECF6",
            "gridcolor": "white",
            "gridwidth": 2,
            "linecolor": "white",
            "showbackground": true,
            "ticks": "",
            "zerolinecolor": "white"
           },
           "yaxis": {
            "backgroundcolor": "#E5ECF6",
            "gridcolor": "white",
            "gridwidth": 2,
            "linecolor": "white",
            "showbackground": true,
            "ticks": "",
            "zerolinecolor": "white"
           },
           "zaxis": {
            "backgroundcolor": "#E5ECF6",
            "gridcolor": "white",
            "gridwidth": 2,
            "linecolor": "white",
            "showbackground": true,
            "ticks": "",
            "zerolinecolor": "white"
           }
          },
          "shapedefaults": {
           "line": {
            "color": "#2a3f5f"
           }
          },
          "ternary": {
           "aaxis": {
            "gridcolor": "white",
            "linecolor": "white",
            "ticks": ""
           },
           "baxis": {
            "gridcolor": "white",
            "linecolor": "white",
            "ticks": ""
           },
           "bgcolor": "#E5ECF6",
           "caxis": {
            "gridcolor": "white",
            "linecolor": "white",
            "ticks": ""
           }
          },
          "title": {
           "x": 0.05
          },
          "xaxis": {
           "automargin": true,
           "gridcolor": "white",
           "linecolor": "white",
           "ticks": "",
           "title": {
            "standoff": 15
           },
           "zerolinecolor": "white",
           "zerolinewidth": 2
          },
          "yaxis": {
           "automargin": true,
           "gridcolor": "white",
           "linecolor": "white",
           "ticks": "",
           "title": {
            "standoff": 15
           },
           "zerolinecolor": "white",
           "zerolinewidth": 2
          }
         }
        },
        "title": {
         "text": "ECAI Topic Count Evolution by Year"
        },
        "xaxis": {
         "anchor": "y",
         "domain": [
          0,
          1
         ],
         "title": {
          "text": "Year"
         },
         "type": "date"
        },
        "yaxis": {
         "anchor": "x",
         "domain": [
          0,
          1
         ],
         "title": {
          "text": "N. of Occurrences by Topic"
         }
        }
       }
      }
     },
     "metadata": {},
     "output_type": "display_data"
    }
   ],
   "source": [
    "import json\n",
    "from pathlib import Path\n",
    "import pandas as pd\n",
    "import plotly.express as px\n",
    "\n",
    "base_dir = Path(\"/app/repos/ECAI_DC_EDI_Submission_1\").resolve() # TODO remove the hardcoded path\n",
    "topic_year_count_path = base_dir / \"Data/topic_year_counts.json\"\n",
    "with open(topic_year_count_path, 'r', encoding='utf-8') as f:\n",
    "    topic_counts = json.load(f)\n",
    "\n",
    "rows = []\n",
    "for year, topics in topic_counts.items():\n",
    "    year_int = int(year)\n",
    "    for topic, count in topics.items():\n",
    "        count_int = int(count)\n",
    "        if count_int > 1:\n",
    "            rows.append({\n",
    "                \"topic\": topic,\n",
    "                \"start\": pd.Timestamp(year_int, 1, 1),\n",
    "                \"finish\": pd.Timestamp(year_int + 1, 1, 1),\n",
    "                \"count\": count_int,\n",
    "            })\n",
    "\n",
    "df = pd.DataFrame(rows) #.sort_values(['topic', 'start'])\n",
    "\n",
    "topic_code_to_name = json.load(open(base_dir / \"Data/topic_label.json\", 'r', encoding='utf-8'))\n",
    "df['topic'] = df['topic'].map(topic_code_to_name)\n",
    "\n",
    "fig = px.timeline(\n",
    "    df,\n",
    "    x_start='start',\n",
    "    x_end='finish',\n",
    "    y='count',\n",
    "    color='topic',\n",
    "    color_discrete_sequence=px.colors.qualitative.Plotly,\n",
    "    title='ECAI Topic Count Evolution by Year'\n",
    ")\n",
    "fig.update_layout(xaxis_title='Year', yaxis_title='N. of Occurrences by Topic', bargap=0.2)\n",
    "fig.show()"
   ]
  },
  {
   "cell_type": "markdown",
   "id": "944f091c",
   "metadata": {},
   "source": [
    "There are some gaps, due to data avalability."
   ]
  },
  {
   "cell_type": "markdown",
   "id": "8edb3b8c",
   "metadata": {},
   "source": [
    "# Gif evolution"
   ]
  },
  {
   "cell_type": "code",
   "execution_count": 6,
   "id": "af340120",
   "metadata": {},
   "outputs": [
    {
     "data": {
      "application/vnd.plotly.v1+json": {
       "config": {
        "plotlyServerURL": "https://plot.ly"
       },
       "data": [
        {
         "hovertemplate": "topic=%{y}<br>year=1994<br>count=%{x}<extra></extra>",
         "legendgroup": "Logic, Reasoning, and Knowledge",
         "marker": {
          "color": "#636efa",
          "pattern": {
           "shape": ""
          }
         },
         "name": "Logic, Reasoning, and Knowledge",
         "orientation": "h",
         "showlegend": true,
         "textposition": "auto",
         "type": "bar",
         "x": {
          "bdata": "Eg==",
          "dtype": "i1"
         },
         "xaxis": "x",
         "y": [
          "Logic, Reasoning, and Knowledge"
         ],
         "yaxis": "y"
        },
        {
         "hovertemplate": "topic=%{y}<br>year=1994<br>count=%{x}<extra></extra>",
         "legendgroup": "Semantic Web and Ontologies",
         "marker": {
          "color": "#EF553B",
          "pattern": {
           "shape": ""
          }
         },
         "name": "Semantic Web and Ontologies",
         "orientation": "h",
         "showlegend": true,
         "textposition": "auto",
         "type": "bar",
         "x": {
          "bdata": "Cw==",
          "dtype": "i1"
         },
         "xaxis": "x",
         "y": [
          "Semantic Web and Ontologies"
         ],
         "yaxis": "y"
        },
        {
         "hovertemplate": "topic=%{y}<br>year=1994<br>count=%{x}<extra></extra>",
         "legendgroup": "AI-based Problem Solving and Planning",
         "marker": {
          "color": "#00cc96",
          "pattern": {
           "shape": ""
          }
         },
         "name": "AI-based Problem Solving and Planning",
         "orientation": "h",
         "showlegend": true,
         "textposition": "auto",
         "type": "bar",
         "x": {
          "bdata": "BQ==",
          "dtype": "i1"
         },
         "xaxis": "x",
         "y": [
          "AI-based Problem Solving and Planning"
         ],
         "yaxis": "y"
        },
        {
         "hovertemplate": "topic=%{y}<br>year=1994<br>count=%{x}<extra></extra>",
         "legendgroup": "Logic, programming, and type systems",
         "marker": {
          "color": "#ab63fa",
          "pattern": {
           "shape": ""
          }
         },
         "name": "Logic, programming, and type systems",
         "orientation": "h",
         "showlegend": true,
         "textposition": "auto",
         "type": "bar",
         "x": {
          "bdata": "BA==",
          "dtype": "i1"
         },
         "xaxis": "x",
         "y": [
          "Logic, programming, and type systems"
         ],
         "yaxis": "y"
        },
        {
         "hovertemplate": "topic=%{y}<br>year=1994<br>count=%{x}<extra></extra>",
         "legendgroup": "Advanced Algebra and Logic",
         "marker": {
          "color": "#FFA15A",
          "pattern": {
           "shape": ""
          }
         },
         "name": "Advanced Algebra and Logic",
         "orientation": "h",
         "showlegend": true,
         "textposition": "auto",
         "type": "bar",
         "x": {
          "bdata": "Aw==",
          "dtype": "i1"
         },
         "xaxis": "x",
         "y": [
          "Advanced Algebra and Logic"
         ],
         "yaxis": "y"
        },
        {
         "hovertemplate": "topic=%{y}<br>year=1994<br>count=%{x}<extra></extra>",
         "legendgroup": "Distributed Constraint Optimization Problems and Algorithms",
         "marker": {
          "color": "#19d3f3",
          "pattern": {
           "shape": ""
          }
         },
         "name": "Distributed Constraint Optimization Problems and Algorithms",
         "orientation": "h",
         "showlegend": true,
         "textposition": "auto",
         "type": "bar",
         "x": {
          "bdata": "Aw==",
          "dtype": "i1"
         },
         "xaxis": "x",
         "y": [
          "Distributed Constraint Optimization Problems and Algorithms"
         ],
         "yaxis": "y"
        },
        {
         "hovertemplate": "topic=%{y}<br>year=1994<br>count=%{x}<extra></extra>",
         "legendgroup": "Bayesian Modeling and Causal Inference",
         "marker": {
          "color": "#FF6692",
          "pattern": {
           "shape": ""
          }
         },
         "name": "Bayesian Modeling and Causal Inference",
         "orientation": "h",
         "showlegend": true,
         "textposition": "auto",
         "type": "bar",
         "x": {
          "bdata": "Aw==",
          "dtype": "i1"
         },
         "xaxis": "x",
         "y": [
          "Bayesian Modeling and Causal Inference"
         ],
         "yaxis": "y"
        },
        {
         "hovertemplate": "topic=%{y}<br>year=1994<br>count=%{x}<extra></extra>",
         "legendgroup": "Multi-Agent Systems and Negotiation",
         "marker": {
          "color": "#B6E880",
          "pattern": {
           "shape": ""
          }
         },
         "name": "Multi-Agent Systems and Negotiation",
         "orientation": "h",
         "showlegend": true,
         "textposition": "auto",
         "type": "bar",
         "x": {
          "bdata": "Aw==",
          "dtype": "i1"
         },
         "xaxis": "x",
         "y": [
          "Multi-Agent Systems and Negotiation"
         ],
         "yaxis": "y"
        },
        {
         "hovertemplate": "topic=%{y}<br>year=1994<br>count=%{x}<extra></extra>",
         "legendgroup": "Machine Learning and Algorithms",
         "marker": {
          "color": "#FF97FF",
          "pattern": {
           "shape": ""
          }
         },
         "name": "Machine Learning and Algorithms",
         "orientation": "h",
         "showlegend": true,
         "textposition": "auto",
         "type": "bar",
         "x": {
          "bdata": "Ag==",
          "dtype": "i1"
         },
         "xaxis": "x",
         "y": [
          "Machine Learning and Algorithms"
         ],
         "yaxis": "y"
        },
        {
         "hovertemplate": "topic=%{y}<br>year=1994<br>count=%{x}<extra></extra>",
         "legendgroup": "Natural Language Processing Techniques",
         "marker": {
          "color": "#FECB52",
          "pattern": {
           "shape": ""
          }
         },
         "name": "Natural Language Processing Techniques",
         "orientation": "h",
         "showlegend": true,
         "textposition": "auto",
         "type": "bar",
         "x": {
          "bdata": "Ag==",
          "dtype": "i1"
         },
         "xaxis": "x",
         "y": [
          "Natural Language Processing Techniques"
         ],
         "yaxis": "y"
        }
       ],
       "frames": [
        {
         "data": [
          {
           "hovertemplate": "topic=%{y}<br>year=1994<br>count=%{x}<extra></extra>",
           "legendgroup": "Logic, Reasoning, and Knowledge",
           "marker": {
            "color": "#636efa",
            "pattern": {
             "shape": ""
            }
           },
           "name": "Logic, Reasoning, and Knowledge",
           "orientation": "h",
           "showlegend": true,
           "textposition": "auto",
           "type": "bar",
           "x": {
            "bdata": "Eg==",
            "dtype": "i1"
           },
           "xaxis": "x",
           "y": [
            "Logic, Reasoning, and Knowledge"
           ],
           "yaxis": "y"
          },
          {
           "hovertemplate": "topic=%{y}<br>year=1994<br>count=%{x}<extra></extra>",
           "legendgroup": "Semantic Web and Ontologies",
           "marker": {
            "color": "#EF553B",
            "pattern": {
             "shape": ""
            }
           },
           "name": "Semantic Web and Ontologies",
           "orientation": "h",
           "showlegend": true,
           "textposition": "auto",
           "type": "bar",
           "x": {
            "bdata": "Cw==",
            "dtype": "i1"
           },
           "xaxis": "x",
           "y": [
            "Semantic Web and Ontologies"
           ],
           "yaxis": "y"
          },
          {
           "hovertemplate": "topic=%{y}<br>year=1994<br>count=%{x}<extra></extra>",
           "legendgroup": "AI-based Problem Solving and Planning",
           "marker": {
            "color": "#00cc96",
            "pattern": {
             "shape": ""
            }
           },
           "name": "AI-based Problem Solving and Planning",
           "orientation": "h",
           "showlegend": true,
           "textposition": "auto",
           "type": "bar",
           "x": {
            "bdata": "BQ==",
            "dtype": "i1"
           },
           "xaxis": "x",
           "y": [
            "AI-based Problem Solving and Planning"
           ],
           "yaxis": "y"
          },
          {
           "hovertemplate": "topic=%{y}<br>year=1994<br>count=%{x}<extra></extra>",
           "legendgroup": "Logic, programming, and type systems",
           "marker": {
            "color": "#ab63fa",
            "pattern": {
             "shape": ""
            }
           },
           "name": "Logic, programming, and type systems",
           "orientation": "h",
           "showlegend": true,
           "textposition": "auto",
           "type": "bar",
           "x": {
            "bdata": "BA==",
            "dtype": "i1"
           },
           "xaxis": "x",
           "y": [
            "Logic, programming, and type systems"
           ],
           "yaxis": "y"
          },
          {
           "hovertemplate": "topic=%{y}<br>year=1994<br>count=%{x}<extra></extra>",
           "legendgroup": "Advanced Algebra and Logic",
           "marker": {
            "color": "#FFA15A",
            "pattern": {
             "shape": ""
            }
           },
           "name": "Advanced Algebra and Logic",
           "orientation": "h",
           "showlegend": true,
           "textposition": "auto",
           "type": "bar",
           "x": {
            "bdata": "Aw==",
            "dtype": "i1"
           },
           "xaxis": "x",
           "y": [
            "Advanced Algebra and Logic"
           ],
           "yaxis": "y"
          },
          {
           "hovertemplate": "topic=%{y}<br>year=1994<br>count=%{x}<extra></extra>",
           "legendgroup": "Distributed Constraint Optimization Problems and Algorithms",
           "marker": {
            "color": "#19d3f3",
            "pattern": {
             "shape": ""
            }
           },
           "name": "Distributed Constraint Optimization Problems and Algorithms",
           "orientation": "h",
           "showlegend": true,
           "textposition": "auto",
           "type": "bar",
           "x": {
            "bdata": "Aw==",
            "dtype": "i1"
           },
           "xaxis": "x",
           "y": [
            "Distributed Constraint Optimization Problems and Algorithms"
           ],
           "yaxis": "y"
          },
          {
           "hovertemplate": "topic=%{y}<br>year=1994<br>count=%{x}<extra></extra>",
           "legendgroup": "Bayesian Modeling and Causal Inference",
           "marker": {
            "color": "#FF6692",
            "pattern": {
             "shape": ""
            }
           },
           "name": "Bayesian Modeling and Causal Inference",
           "orientation": "h",
           "showlegend": true,
           "textposition": "auto",
           "type": "bar",
           "x": {
            "bdata": "Aw==",
            "dtype": "i1"
           },
           "xaxis": "x",
           "y": [
            "Bayesian Modeling and Causal Inference"
           ],
           "yaxis": "y"
          },
          {
           "hovertemplate": "topic=%{y}<br>year=1994<br>count=%{x}<extra></extra>",
           "legendgroup": "Multi-Agent Systems and Negotiation",
           "marker": {
            "color": "#B6E880",
            "pattern": {
             "shape": ""
            }
           },
           "name": "Multi-Agent Systems and Negotiation",
           "orientation": "h",
           "showlegend": true,
           "textposition": "auto",
           "type": "bar",
           "x": {
            "bdata": "Aw==",
            "dtype": "i1"
           },
           "xaxis": "x",
           "y": [
            "Multi-Agent Systems and Negotiation"
           ],
           "yaxis": "y"
          },
          {
           "hovertemplate": "topic=%{y}<br>year=1994<br>count=%{x}<extra></extra>",
           "legendgroup": "Machine Learning and Algorithms",
           "marker": {
            "color": "#FF97FF",
            "pattern": {
             "shape": ""
            }
           },
           "name": "Machine Learning and Algorithms",
           "orientation": "h",
           "showlegend": true,
           "textposition": "auto",
           "type": "bar",
           "x": {
            "bdata": "Ag==",
            "dtype": "i1"
           },
           "xaxis": "x",
           "y": [
            "Machine Learning and Algorithms"
           ],
           "yaxis": "y"
          },
          {
           "hovertemplate": "topic=%{y}<br>year=1994<br>count=%{x}<extra></extra>",
           "legendgroup": "Natural Language Processing Techniques",
           "marker": {
            "color": "#FECB52",
            "pattern": {
             "shape": ""
            }
           },
           "name": "Natural Language Processing Techniques",
           "orientation": "h",
           "showlegend": true,
           "textposition": "auto",
           "type": "bar",
           "x": {
            "bdata": "Ag==",
            "dtype": "i1"
           },
           "xaxis": "x",
           "y": [
            "Natural Language Processing Techniques"
           ],
           "yaxis": "y"
          }
         ],
         "name": "1994"
        },
        {
         "data": [
          {
           "hovertemplate": "topic=%{y}<br>year=1995<br>count=%{x}<extra></extra>",
           "legendgroup": "Logic, Reasoning, and Knowledge",
           "marker": {
            "color": "#636efa",
            "pattern": {
             "shape": ""
            }
           },
           "name": "Logic, Reasoning, and Knowledge",
           "orientation": "h",
           "showlegend": true,
           "textposition": "auto",
           "type": "bar",
           "x": {
            "bdata": "FQ==",
            "dtype": "i1"
           },
           "xaxis": "x",
           "y": [
            "Logic, Reasoning, and Knowledge"
           ],
           "yaxis": "y"
          },
          {
           "hovertemplate": "topic=%{y}<br>year=1995<br>count=%{x}<extra></extra>",
           "legendgroup": "Semantic Web and Ontologies",
           "marker": {
            "color": "#EF553B",
            "pattern": {
             "shape": ""
            }
           },
           "name": "Semantic Web and Ontologies",
           "orientation": "h",
           "showlegend": true,
           "textposition": "auto",
           "type": "bar",
           "x": {
            "bdata": "CQ==",
            "dtype": "i1"
           },
           "xaxis": "x",
           "y": [
            "Semantic Web and Ontologies"
           ],
           "yaxis": "y"
          },
          {
           "hovertemplate": "topic=%{y}<br>year=1995<br>count=%{x}<extra></extra>",
           "legendgroup": "AI-based Problem Solving and Planning",
           "marker": {
            "color": "#00cc96",
            "pattern": {
             "shape": ""
            }
           },
           "name": "AI-based Problem Solving and Planning",
           "orientation": "h",
           "showlegend": true,
           "textposition": "auto",
           "type": "bar",
           "x": {
            "bdata": "CA==",
            "dtype": "i1"
           },
           "xaxis": "x",
           "y": [
            "AI-based Problem Solving and Planning"
           ],
           "yaxis": "y"
          },
          {
           "hovertemplate": "topic=%{y}<br>year=1995<br>count=%{x}<extra></extra>",
           "legendgroup": "Multi-Agent Systems and Negotiation",
           "marker": {
            "color": "#B6E880",
            "pattern": {
             "shape": ""
            }
           },
           "name": "Multi-Agent Systems and Negotiation",
           "orientation": "h",
           "showlegend": true,
           "textposition": "auto",
           "type": "bar",
           "x": {
            "bdata": "FQ==",
            "dtype": "i1"
           },
           "xaxis": "x",
           "y": [
            "Multi-Agent Systems and Negotiation"
           ],
           "yaxis": "y"
          },
          {
           "hovertemplate": "topic=%{y}<br>year=1995<br>count=%{x}<extra></extra>",
           "legendgroup": "Machine Learning and Algorithms",
           "marker": {
            "color": "#FF97FF",
            "pattern": {
             "shape": ""
            }
           },
           "name": "Machine Learning and Algorithms",
           "orientation": "h",
           "showlegend": true,
           "textposition": "auto",
           "type": "bar",
           "x": {
            "bdata": "AQ==",
            "dtype": "i1"
           },
           "xaxis": "x",
           "y": [
            "Machine Learning and Algorithms"
           ],
           "yaxis": "y"
          },
          {
           "hovertemplate": "topic=%{y}<br>year=1995<br>count=%{x}<extra></extra>",
           "legendgroup": "Mobile Agent-Based Network Management",
           "marker": {
            "color": "#636efa",
            "pattern": {
             "shape": ""
            }
           },
           "name": "Mobile Agent-Based Network Management",
           "orientation": "h",
           "showlegend": true,
           "textposition": "auto",
           "type": "bar",
           "x": {
            "bdata": "Ag==",
            "dtype": "i1"
           },
           "xaxis": "x",
           "y": [
            "Mobile Agent-Based Network Management"
           ],
           "yaxis": "y"
          },
          {
           "hovertemplate": "topic=%{y}<br>year=1995<br>count=%{x}<extra></extra>",
           "legendgroup": "Robotic Path Planning Algorithms",
           "marker": {
            "color": "#EF553B",
            "pattern": {
             "shape": ""
            }
           },
           "name": "Robotic Path Planning Algorithms",
           "orientation": "h",
           "showlegend": true,
           "textposition": "auto",
           "type": "bar",
           "x": {
            "bdata": "Ag==",
            "dtype": "i1"
           },
           "xaxis": "x",
           "y": [
            "Robotic Path Planning Algorithms"
           ],
           "yaxis": "y"
          },
          {
           "hovertemplate": "topic=%{y}<br>year=1995<br>count=%{x}<extra></extra>",
           "legendgroup": "Educational Games and Gamification",
           "marker": {
            "color": "#00cc96",
            "pattern": {
             "shape": ""
            }
           },
           "name": "Educational Games and Gamification",
           "orientation": "h",
           "showlegend": true,
           "textposition": "auto",
           "type": "bar",
           "x": {
            "bdata": "AQ==",
            "dtype": "i1"
           },
           "xaxis": "x",
           "y": [
            "Educational Games and Gamification"
           ],
           "yaxis": "y"
          },
          {
           "hovertemplate": "topic=%{y}<br>year=1995<br>count=%{x}<extra></extra>",
           "legendgroup": "Computability, Logic, AI Algorithms",
           "marker": {
            "color": "#ab63fa",
            "pattern": {
             "shape": ""
            }
           },
           "name": "Computability, Logic, AI Algorithms",
           "orientation": "h",
           "showlegend": true,
           "textposition": "auto",
           "type": "bar",
           "x": {
            "bdata": "AQ==",
            "dtype": "i1"
           },
           "xaxis": "x",
           "y": [
            "Computability, Logic, AI Algorithms"
           ],
           "yaxis": "y"
          },
          {
           "hovertemplate": "topic=%{y}<br>year=1995<br>count=%{x}<extra></extra>",
           "legendgroup": "Evolutionary Game Theory and Cooperation",
           "marker": {
            "color": "#FFA15A",
            "pattern": {
             "shape": ""
            }
           },
           "name": "Evolutionary Game Theory and Cooperation",
           "orientation": "h",
           "showlegend": true,
           "textposition": "auto",
           "type": "bar",
           "x": {
            "bdata": "AQ==",
            "dtype": "i1"
           },
           "xaxis": "x",
           "y": [
            "Evolutionary Game Theory and Cooperation"
           ],
           "yaxis": "y"
          }
         ],
         "name": "1995"
        },
        {
         "data": [
          {
           "hovertemplate": "topic=%{y}<br>year=1997<br>count=%{x}<extra></extra>",
           "legendgroup": "Logic, Reasoning, and Knowledge",
           "marker": {
            "color": "#636efa",
            "pattern": {
             "shape": ""
            }
           },
           "name": "Logic, Reasoning, and Knowledge",
           "orientation": "h",
           "showlegend": true,
           "textposition": "auto",
           "type": "bar",
           "x": {
            "bdata": "BQ==",
            "dtype": "i1"
           },
           "xaxis": "x",
           "y": [
            "Logic, Reasoning, and Knowledge"
           ],
           "yaxis": "y"
          },
          {
           "hovertemplate": "topic=%{y}<br>year=1997<br>count=%{x}<extra></extra>",
           "legendgroup": "Multi-Agent Systems and Negotiation",
           "marker": {
            "color": "#B6E880",
            "pattern": {
             "shape": ""
            }
           },
           "name": "Multi-Agent Systems and Negotiation",
           "orientation": "h",
           "showlegend": true,
           "textposition": "auto",
           "type": "bar",
           "x": {
            "bdata": "DQ==",
            "dtype": "i1"
           },
           "xaxis": "x",
           "y": [
            "Multi-Agent Systems and Negotiation"
           ],
           "yaxis": "y"
          },
          {
           "hovertemplate": "topic=%{y}<br>year=1997<br>count=%{x}<extra></extra>",
           "legendgroup": "Natural Language Processing Techniques",
           "marker": {
            "color": "#FECB52",
            "pattern": {
             "shape": ""
            }
           },
           "name": "Natural Language Processing Techniques",
           "orientation": "h",
           "showlegend": true,
           "textposition": "auto",
           "type": "bar",
           "x": {
            "bdata": "Cw==",
            "dtype": "i1"
           },
           "xaxis": "x",
           "y": [
            "Natural Language Processing Techniques"
           ],
           "yaxis": "y"
          },
          {
           "hovertemplate": "topic=%{y}<br>year=1997<br>count=%{x}<extra></extra>",
           "legendgroup": "Robotic Path Planning Algorithms",
           "marker": {
            "color": "#EF553B",
            "pattern": {
             "shape": ""
            }
           },
           "name": "Robotic Path Planning Algorithms",
           "orientation": "h",
           "showlegend": true,
           "textposition": "auto",
           "type": "bar",
           "x": {
            "bdata": "Aw==",
            "dtype": "i1"
           },
           "xaxis": "x",
           "y": [
            "Robotic Path Planning Algorithms"
           ],
           "yaxis": "y"
          },
          {
           "hovertemplate": "topic=%{y}<br>year=1997<br>count=%{x}<extra></extra>",
           "legendgroup": "Evolutionary Game Theory and Cooperation",
           "marker": {
            "color": "#FFA15A",
            "pattern": {
             "shape": ""
            }
           },
           "name": "Evolutionary Game Theory and Cooperation",
           "orientation": "h",
           "showlegend": true,
           "textposition": "auto",
           "type": "bar",
           "x": {
            "bdata": "Ag==",
            "dtype": "i1"
           },
           "xaxis": "x",
           "y": [
            "Evolutionary Game Theory and Cooperation"
           ],
           "yaxis": "y"
          },
          {
           "hovertemplate": "topic=%{y}<br>year=1997<br>count=%{x}<extra></extra>",
           "legendgroup": "Speech and dialogue systems",
           "marker": {
            "color": "#19d3f3",
            "pattern": {
             "shape": ""
            }
           },
           "name": "Speech and dialogue systems",
           "orientation": "h",
           "showlegend": true,
           "textposition": "auto",
           "type": "bar",
           "x": {
            "bdata": "EQ==",
            "dtype": "i1"
           },
           "xaxis": "x",
           "y": [
            "Speech and dialogue systems"
           ],
           "yaxis": "y"
          },
          {
           "hovertemplate": "topic=%{y}<br>year=1997<br>count=%{x}<extra></extra>",
           "legendgroup": "Topic Modeling",
           "marker": {
            "color": "#FF6692",
            "pattern": {
             "shape": ""
            }
           },
           "name": "Topic Modeling",
           "orientation": "h",
           "showlegend": true,
           "textposition": "auto",
           "type": "bar",
           "x": {
            "bdata": "Bw==",
            "dtype": "i1"
           },
           "xaxis": "x",
           "y": [
            "Topic Modeling"
           ],
           "yaxis": "y"
          },
          {
           "hovertemplate": "topic=%{y}<br>year=1997<br>count=%{x}<extra></extra>",
           "legendgroup": "Reinforcement Learning in Robotics",
           "marker": {
            "color": "#B6E880",
            "pattern": {
             "shape": ""
            }
           },
           "name": "Reinforcement Learning in Robotics",
           "orientation": "h",
           "showlegend": true,
           "textposition": "auto",
           "type": "bar",
           "x": {
            "bdata": "BA==",
            "dtype": "i1"
           },
           "xaxis": "x",
           "y": [
            "Reinforcement Learning in Robotics"
           ],
           "yaxis": "y"
          },
          {
           "hovertemplate": "topic=%{y}<br>year=1997<br>count=%{x}<extra></extra>",
           "legendgroup": "Evolutionary Algorithms and Applications",
           "marker": {
            "color": "#FF97FF",
            "pattern": {
             "shape": ""
            }
           },
           "name": "Evolutionary Algorithms and Applications",
           "orientation": "h",
           "showlegend": true,
           "textposition": "auto",
           "type": "bar",
           "x": {
            "bdata": "Aw==",
            "dtype": "i1"
           },
           "xaxis": "x",
           "y": [
            "Evolutionary Algorithms and Applications"
           ],
           "yaxis": "y"
          },
          {
           "hovertemplate": "topic=%{y}<br>year=1997<br>count=%{x}<extra></extra>",
           "legendgroup": "Language and cultural evolution",
           "marker": {
            "color": "#FECB52",
            "pattern": {
             "shape": ""
            }
           },
           "name": "Language and cultural evolution",
           "orientation": "h",
           "showlegend": true,
           "textposition": "auto",
           "type": "bar",
           "x": {
            "bdata": "Ag==",
            "dtype": "i1"
           },
           "xaxis": "x",
           "y": [
            "Language and cultural evolution"
           ],
           "yaxis": "y"
          }
         ],
         "name": "1997"
        },
        {
         "data": [
          {
           "hovertemplate": "topic=%{y}<br>year=2001<br>count=%{x}<extra></extra>",
           "legendgroup": "Logic, Reasoning, and Knowledge",
           "marker": {
            "color": "#636efa",
            "pattern": {
             "shape": ""
            }
           },
           "name": "Logic, Reasoning, and Knowledge",
           "orientation": "h",
           "showlegend": true,
           "textposition": "auto",
           "type": "bar",
           "x": {
            "bdata": "Bg==",
            "dtype": "i1"
           },
           "xaxis": "x",
           "y": [
            "Logic, Reasoning, and Knowledge"
           ],
           "yaxis": "y"
          },
          {
           "hovertemplate": "topic=%{y}<br>year=2001<br>count=%{x}<extra></extra>",
           "legendgroup": "Semantic Web and Ontologies",
           "marker": {
            "color": "#EF553B",
            "pattern": {
             "shape": ""
            }
           },
           "name": "Semantic Web and Ontologies",
           "orientation": "h",
           "showlegend": true,
           "textposition": "auto",
           "type": "bar",
           "x": {
            "bdata": "Ag==",
            "dtype": "i1"
           },
           "xaxis": "x",
           "y": [
            "Semantic Web and Ontologies"
           ],
           "yaxis": "y"
          },
          {
           "hovertemplate": "topic=%{y}<br>year=2001<br>count=%{x}<extra></extra>",
           "legendgroup": "AI-based Problem Solving and Planning",
           "marker": {
            "color": "#00cc96",
            "pattern": {
             "shape": ""
            }
           },
           "name": "AI-based Problem Solving and Planning",
           "orientation": "h",
           "showlegend": true,
           "textposition": "auto",
           "type": "bar",
           "x": {
            "bdata": "Cg==",
            "dtype": "i1"
           },
           "xaxis": "x",
           "y": [
            "AI-based Problem Solving and Planning"
           ],
           "yaxis": "y"
          },
          {
           "hovertemplate": "topic=%{y}<br>year=2001<br>count=%{x}<extra></extra>",
           "legendgroup": "Distributed Constraint Optimization Problems and Algorithms",
           "marker": {
            "color": "#19d3f3",
            "pattern": {
             "shape": ""
            }
           },
           "name": "Distributed Constraint Optimization Problems and Algorithms",
           "orientation": "h",
           "showlegend": true,
           "textposition": "auto",
           "type": "bar",
           "x": {
            "bdata": "Bg==",
            "dtype": "i1"
           },
           "xaxis": "x",
           "y": [
            "Distributed Constraint Optimization Problems and Algorithms"
           ],
           "yaxis": "y"
          },
          {
           "hovertemplate": "topic=%{y}<br>year=2001<br>count=%{x}<extra></extra>",
           "legendgroup": "Multi-Agent Systems and Negotiation",
           "marker": {
            "color": "#B6E880",
            "pattern": {
             "shape": ""
            }
           },
           "name": "Multi-Agent Systems and Negotiation",
           "orientation": "h",
           "showlegend": true,
           "textposition": "auto",
           "type": "bar",
           "x": {
            "bdata": "Bg==",
            "dtype": "i1"
           },
           "xaxis": "x",
           "y": [
            "Multi-Agent Systems and Negotiation"
           ],
           "yaxis": "y"
          },
          {
           "hovertemplate": "topic=%{y}<br>year=2001<br>count=%{x}<extra></extra>",
           "legendgroup": "Robotic Path Planning Algorithms",
           "marker": {
            "color": "#EF553B",
            "pattern": {
             "shape": ""
            }
           },
           "name": "Robotic Path Planning Algorithms",
           "orientation": "h",
           "showlegend": true,
           "textposition": "auto",
           "type": "bar",
           "x": {
            "bdata": "BQ==",
            "dtype": "i1"
           },
           "xaxis": "x",
           "y": [
            "Robotic Path Planning Algorithms"
           ],
           "yaxis": "y"
          },
          {
           "hovertemplate": "topic=%{y}<br>year=2001<br>count=%{x}<extra></extra>",
           "legendgroup": "Reinforcement Learning in Robotics",
           "marker": {
            "color": "#B6E880",
            "pattern": {
             "shape": ""
            }
           },
           "name": "Reinforcement Learning in Robotics",
           "orientation": "h",
           "showlegend": true,
           "textposition": "auto",
           "type": "bar",
           "x": {
            "bdata": "Bg==",
            "dtype": "i1"
           },
           "xaxis": "x",
           "y": [
            "Reinforcement Learning in Robotics"
           ],
           "yaxis": "y"
          },
          {
           "hovertemplate": "topic=%{y}<br>year=2001<br>count=%{x}<extra></extra>",
           "legendgroup": "Vehicle Routing Optimization Methods",
           "marker": {
            "color": "#636efa",
            "pattern": {
             "shape": ""
            }
           },
           "name": "Vehicle Routing Optimization Methods",
           "orientation": "h",
           "showlegend": true,
           "textposition": "auto",
           "type": "bar",
           "x": {
            "bdata": "BA==",
            "dtype": "i1"
           },
           "xaxis": "x",
           "y": [
            "Vehicle Routing Optimization Methods"
           ],
           "yaxis": "y"
          },
          {
           "hovertemplate": "topic=%{y}<br>year=2001<br>count=%{x}<extra></extra>",
           "legendgroup": "Distributed Multi-Agent Coordination and Control",
           "marker": {
            "color": "#EF553B",
            "pattern": {
             "shape": ""
            }
           },
           "name": "Distributed Multi-Agent Coordination and Control",
           "orientation": "h",
           "showlegend": true,
           "textposition": "auto",
           "type": "bar",
           "x": {
            "bdata": "Ag==",
            "dtype": "i1"
           },
           "xaxis": "x",
           "y": [
            "Distributed Multi-Agent Coordination and Control"
           ],
           "yaxis": "y"
          },
          {
           "hovertemplate": "topic=%{y}<br>year=2001<br>count=%{x}<extra></extra>",
           "legendgroup": "Optimization and Search Problems",
           "marker": {
            "color": "#00cc96",
            "pattern": {
             "shape": ""
            }
           },
           "name": "Optimization and Search Problems",
           "orientation": "h",
           "showlegend": true,
           "textposition": "auto",
           "type": "bar",
           "x": {
            "bdata": "Ag==",
            "dtype": "i1"
           },
           "xaxis": "x",
           "y": [
            "Optimization and Search Problems"
           ],
           "yaxis": "y"
          }
         ],
         "name": "2001"
        },
        {
         "data": [
          {
           "hovertemplate": "topic=%{y}<br>year=2007<br>count=%{x}<extra></extra>",
           "legendgroup": "Logic, Reasoning, and Knowledge",
           "marker": {
            "color": "#636efa",
            "pattern": {
             "shape": ""
            }
           },
           "name": "Logic, Reasoning, and Knowledge",
           "orientation": "h",
           "showlegend": true,
           "textposition": "auto",
           "type": "bar",
           "x": {
            "bdata": "DA==",
            "dtype": "i1"
           },
           "xaxis": "x",
           "y": [
            "Logic, Reasoning, and Knowledge"
           ],
           "yaxis": "y"
          },
          {
           "hovertemplate": "topic=%{y}<br>year=2007<br>count=%{x}<extra></extra>",
           "legendgroup": "Semantic Web and Ontologies",
           "marker": {
            "color": "#EF553B",
            "pattern": {
             "shape": ""
            }
           },
           "name": "Semantic Web and Ontologies",
           "orientation": "h",
           "showlegend": true,
           "textposition": "auto",
           "type": "bar",
           "x": {
            "bdata": "BQ==",
            "dtype": "i1"
           },
           "xaxis": "x",
           "y": [
            "Semantic Web and Ontologies"
           ],
           "yaxis": "y"
          },
          {
           "hovertemplate": "topic=%{y}<br>year=2007<br>count=%{x}<extra></extra>",
           "legendgroup": "Multi-Agent Systems and Negotiation",
           "marker": {
            "color": "#B6E880",
            "pattern": {
             "shape": ""
            }
           },
           "name": "Multi-Agent Systems and Negotiation",
           "orientation": "h",
           "showlegend": true,
           "textposition": "auto",
           "type": "bar",
           "x": {
            "bdata": "FA==",
            "dtype": "i1"
           },
           "xaxis": "x",
           "y": [
            "Multi-Agent Systems and Negotiation"
           ],
           "yaxis": "y"
          },
          {
           "hovertemplate": "topic=%{y}<br>year=2007<br>count=%{x}<extra></extra>",
           "legendgroup": "Business Process Modeling and Analysis",
           "marker": {
            "color": "#ab63fa",
            "pattern": {
             "shape": ""
            }
           },
           "name": "Business Process Modeling and Analysis",
           "orientation": "h",
           "showlegend": true,
           "textposition": "auto",
           "type": "bar",
           "x": {
            "bdata": "BQ==",
            "dtype": "i1"
           },
           "xaxis": "x",
           "y": [
            "Business Process Modeling and Analysis"
           ],
           "yaxis": "y"
          },
          {
           "hovertemplate": "topic=%{y}<br>year=2007<br>count=%{x}<extra></extra>",
           "legendgroup": "Auction Theory and Applications",
           "marker": {
            "color": "#FFA15A",
            "pattern": {
             "shape": ""
            }
           },
           "name": "Auction Theory and Applications",
           "orientation": "h",
           "showlegend": true,
           "textposition": "auto",
           "type": "bar",
           "x": {
            "bdata": "BA==",
            "dtype": "i1"
           },
           "xaxis": "x",
           "y": [
            "Auction Theory and Applications"
           ],
           "yaxis": "y"
          },
          {
           "hovertemplate": "topic=%{y}<br>year=2007<br>count=%{x}<extra></extra>",
           "legendgroup": "Access Control and Trust",
           "marker": {
            "color": "#19d3f3",
            "pattern": {
             "shape": ""
            }
           },
           "name": "Access Control and Trust",
           "orientation": "h",
           "showlegend": true,
           "textposition": "auto",
           "type": "bar",
           "x": {
            "bdata": "Aw==",
            "dtype": "i1"
           },
           "xaxis": "x",
           "y": [
            "Access Control and Trust"
           ],
           "yaxis": "y"
          },
          {
           "hovertemplate": "topic=%{y}<br>year=2007<br>count=%{x}<extra></extra>",
           "legendgroup": "Complex Systems and Decision Making",
           "marker": {
            "color": "#FF6692",
            "pattern": {
             "shape": ""
            }
           },
           "name": "Complex Systems and Decision Making",
           "orientation": "h",
           "showlegend": true,
           "textposition": "auto",
           "type": "bar",
           "x": {
            "bdata": "Aw==",
            "dtype": "i1"
           },
           "xaxis": "x",
           "y": [
            "Complex Systems and Decision Making"
           ],
           "yaxis": "y"
          },
          {
           "hovertemplate": "topic=%{y}<br>year=2007<br>count=%{x}<extra></extra>",
           "legendgroup": "Game Theory and Applications",
           "marker": {
            "color": "#B6E880",
            "pattern": {
             "shape": ""
            }
           },
           "name": "Game Theory and Applications",
           "orientation": "h",
           "showlegend": true,
           "textposition": "auto",
           "type": "bar",
           "x": {
            "bdata": "Ag==",
            "dtype": "i1"
           },
           "xaxis": "x",
           "y": [
            "Game Theory and Applications"
           ],
           "yaxis": "y"
          },
          {
           "hovertemplate": "topic=%{y}<br>year=2007<br>count=%{x}<extra></extra>",
           "legendgroup": "Peer-to-Peer Network Technologies",
           "marker": {
            "color": "#FF97FF",
            "pattern": {
             "shape": ""
            }
           },
           "name": "Peer-to-Peer Network Technologies",
           "orientation": "h",
           "showlegend": true,
           "textposition": "auto",
           "type": "bar",
           "x": {
            "bdata": "Ag==",
            "dtype": "i1"
           },
           "xaxis": "x",
           "y": [
            "Peer-to-Peer Network Technologies"
           ],
           "yaxis": "y"
          },
          {
           "hovertemplate": "topic=%{y}<br>year=2007<br>count=%{x}<extra></extra>",
           "legendgroup": "Mental Health Research Topics",
           "marker": {
            "color": "#FECB52",
            "pattern": {
             "shape": ""
            }
           },
           "name": "Mental Health Research Topics",
           "orientation": "h",
           "showlegend": true,
           "textposition": "auto",
           "type": "bar",
           "x": {
            "bdata": "AQ==",
            "dtype": "i1"
           },
           "xaxis": "x",
           "y": [
            "Mental Health Research Topics"
           ],
           "yaxis": "y"
          }
         ],
         "name": "2007"
        },
        {
         "data": [
          {
           "hovertemplate": "topic=%{y}<br>year=2008<br>count=%{x}<extra></extra>",
           "legendgroup": "Logic, Reasoning, and Knowledge",
           "marker": {
            "color": "#636efa",
            "pattern": {
             "shape": ""
            }
           },
           "name": "Logic, Reasoning, and Knowledge",
           "orientation": "h",
           "showlegend": true,
           "textposition": "auto",
           "type": "bar",
           "x": {
            "bdata": "Dw==",
            "dtype": "i1"
           },
           "xaxis": "x",
           "y": [
            "Logic, Reasoning, and Knowledge"
           ],
           "yaxis": "y"
          },
          {
           "hovertemplate": "topic=%{y}<br>year=2008<br>count=%{x}<extra></extra>",
           "legendgroup": "Semantic Web and Ontologies",
           "marker": {
            "color": "#EF553B",
            "pattern": {
             "shape": ""
            }
           },
           "name": "Semantic Web and Ontologies",
           "orientation": "h",
           "showlegend": true,
           "textposition": "auto",
           "type": "bar",
           "x": {
            "bdata": "Cw==",
            "dtype": "i1"
           },
           "xaxis": "x",
           "y": [
            "Semantic Web and Ontologies"
           ],
           "yaxis": "y"
          },
          {
           "hovertemplate": "topic=%{y}<br>year=2008<br>count=%{x}<extra></extra>",
           "legendgroup": "AI-based Problem Solving and Planning",
           "marker": {
            "color": "#00cc96",
            "pattern": {
             "shape": ""
            }
           },
           "name": "AI-based Problem Solving and Planning",
           "orientation": "h",
           "showlegend": true,
           "textposition": "auto",
           "type": "bar",
           "x": {
            "bdata": "Cw==",
            "dtype": "i1"
           },
           "xaxis": "x",
           "y": [
            "AI-based Problem Solving and Planning"
           ],
           "yaxis": "y"
          },
          {
           "hovertemplate": "topic=%{y}<br>year=2008<br>count=%{x}<extra></extra>",
           "legendgroup": "Distributed Constraint Optimization Problems and Algorithms",
           "marker": {
            "color": "#19d3f3",
            "pattern": {
             "shape": ""
            }
           },
           "name": "Distributed Constraint Optimization Problems and Algorithms",
           "orientation": "h",
           "showlegend": true,
           "textposition": "auto",
           "type": "bar",
           "x": {
            "bdata": "Bg==",
            "dtype": "i1"
           },
           "xaxis": "x",
           "y": [
            "Distributed Constraint Optimization Problems and Algorithms"
           ],
           "yaxis": "y"
          },
          {
           "hovertemplate": "topic=%{y}<br>year=2008<br>count=%{x}<extra></extra>",
           "legendgroup": "Multi-Agent Systems and Negotiation",
           "marker": {
            "color": "#B6E880",
            "pattern": {
             "shape": ""
            }
           },
           "name": "Multi-Agent Systems and Negotiation",
           "orientation": "h",
           "showlegend": true,
           "textposition": "auto",
           "type": "bar",
           "x": {
            "bdata": "CA==",
            "dtype": "i1"
           },
           "xaxis": "x",
           "y": [
            "Multi-Agent Systems and Negotiation"
           ],
           "yaxis": "y"
          },
          {
           "hovertemplate": "topic=%{y}<br>year=2008<br>count=%{x}<extra></extra>",
           "legendgroup": "Natural Language Processing Techniques",
           "marker": {
            "color": "#FECB52",
            "pattern": {
             "shape": ""
            }
           },
           "name": "Natural Language Processing Techniques",
           "orientation": "h",
           "showlegend": true,
           "textposition": "auto",
           "type": "bar",
           "x": {
            "bdata": "BA==",
            "dtype": "i1"
           },
           "xaxis": "x",
           "y": [
            "Natural Language Processing Techniques"
           ],
           "yaxis": "y"
          },
          {
           "hovertemplate": "topic=%{y}<br>year=2008<br>count=%{x}<extra></extra>",
           "legendgroup": "Topic Modeling",
           "marker": {
            "color": "#FF6692",
            "pattern": {
             "shape": ""
            }
           },
           "name": "Topic Modeling",
           "orientation": "h",
           "showlegend": true,
           "textposition": "auto",
           "type": "bar",
           "x": {
            "bdata": "BA==",
            "dtype": "i1"
           },
           "xaxis": "x",
           "y": [
            "Topic Modeling"
           ],
           "yaxis": "y"
          },
          {
           "hovertemplate": "topic=%{y}<br>year=2008<br>count=%{x}<extra></extra>",
           "legendgroup": "Auction Theory and Applications",
           "marker": {
            "color": "#FFA15A",
            "pattern": {
             "shape": ""
            }
           },
           "name": "Auction Theory and Applications",
           "orientation": "h",
           "showlegend": true,
           "textposition": "auto",
           "type": "bar",
           "x": {
            "bdata": "BA==",
            "dtype": "i1"
           },
           "xaxis": "x",
           "y": [
            "Auction Theory and Applications"
           ],
           "yaxis": "y"
          },
          {
           "hovertemplate": "topic=%{y}<br>year=2008<br>count=%{x}<extra></extra>",
           "legendgroup": "Formal Methods in Verification",
           "marker": {
            "color": "#636efa",
            "pattern": {
             "shape": ""
            }
           },
           "name": "Formal Methods in Verification",
           "orientation": "h",
           "showlegend": true,
           "textposition": "auto",
           "type": "bar",
           "x": {
            "bdata": "BQ==",
            "dtype": "i1"
           },
           "xaxis": "x",
           "y": [
            "Formal Methods in Verification"
           ],
           "yaxis": "y"
          },
          {
           "hovertemplate": "topic=%{y}<br>year=2008<br>count=%{x}<extra></extra>",
           "legendgroup": "Machine Learning and Data Classification",
           "marker": {
            "color": "#EF553B",
            "pattern": {
             "shape": ""
            }
           },
           "name": "Machine Learning and Data Classification",
           "orientation": "h",
           "showlegend": true,
           "textposition": "auto",
           "type": "bar",
           "x": {
            "bdata": "BA==",
            "dtype": "i1"
           },
           "xaxis": "x",
           "y": [
            "Machine Learning and Data Classification"
           ],
           "yaxis": "y"
          }
         ],
         "name": "2008"
        },
        {
         "data": [
          {
           "hovertemplate": "topic=%{y}<br>year=2009<br>count=%{x}<extra></extra>",
           "legendgroup": "Semantic Web and Ontologies",
           "marker": {
            "color": "#EF553B",
            "pattern": {
             "shape": ""
            }
           },
           "name": "Semantic Web and Ontologies",
           "orientation": "h",
           "showlegend": true,
           "textposition": "auto",
           "type": "bar",
           "x": {
            "bdata": "Bw==",
            "dtype": "i1"
           },
           "xaxis": "x",
           "y": [
            "Semantic Web and Ontologies"
           ],
           "yaxis": "y"
          },
          {
           "hovertemplate": "topic=%{y}<br>year=2009<br>count=%{x}<extra></extra>",
           "legendgroup": "Business Process Modeling and Analysis",
           "marker": {
            "color": "#ab63fa",
            "pattern": {
             "shape": ""
            }
           },
           "name": "Business Process Modeling and Analysis",
           "orientation": "h",
           "showlegend": true,
           "textposition": "auto",
           "type": "bar",
           "x": {
            "bdata": "Ag==",
            "dtype": "i1"
           },
           "xaxis": "x",
           "y": [
            "Business Process Modeling and Analysis"
           ],
           "yaxis": "y"
          },
          {
           "hovertemplate": "topic=%{y}<br>year=2009<br>count=%{x}<extra></extra>",
           "legendgroup": "Biomedical Text Mining and Ontologies",
           "marker": {
            "color": "#00cc96",
            "pattern": {
             "shape": ""
            }
           },
           "name": "Biomedical Text Mining and Ontologies",
           "orientation": "h",
           "showlegend": true,
           "textposition": "auto",
           "type": "bar",
           "x": {
            "bdata": "Bg==",
            "dtype": "i1"
           },
           "xaxis": "x",
           "y": [
            "Biomedical Text Mining and Ontologies"
           ],
           "yaxis": "y"
          },
          {
           "hovertemplate": "topic=%{y}<br>year=2009<br>count=%{x}<extra></extra>",
           "legendgroup": "Electronic Health Records Systems",
           "marker": {
            "color": "#ab63fa",
            "pattern": {
             "shape": ""
            }
           },
           "name": "Electronic Health Records Systems",
           "orientation": "h",
           "showlegend": true,
           "textposition": "auto",
           "type": "bar",
           "x": {
            "bdata": "BQ==",
            "dtype": "i1"
           },
           "xaxis": "x",
           "y": [
            "Electronic Health Records Systems"
           ],
           "yaxis": "y"
          },
          {
           "hovertemplate": "topic=%{y}<br>year=2009<br>count=%{x}<extra></extra>",
           "legendgroup": "Clinical practice guidelines implementation",
           "marker": {
            "color": "#FFA15A",
            "pattern": {
             "shape": ""
            }
           },
           "name": "Clinical practice guidelines implementation",
           "orientation": "h",
           "showlegend": true,
           "textposition": "auto",
           "type": "bar",
           "x": {
            "bdata": "BA==",
            "dtype": "i1"
           },
           "xaxis": "x",
           "y": [
            "Clinical practice guidelines implementation"
           ],
           "yaxis": "y"
          },
          {
           "hovertemplate": "topic=%{y}<br>year=2009<br>count=%{x}<extra></extra>",
           "legendgroup": "Dementia and Cognitive Impairment Research",
           "marker": {
            "color": "#19d3f3",
            "pattern": {
             "shape": ""
            }
           },
           "name": "Dementia and Cognitive Impairment Research",
           "orientation": "h",
           "showlegend": true,
           "textposition": "auto",
           "type": "bar",
           "x": {
            "bdata": "AQ==",
            "dtype": "i1"
           },
           "xaxis": "x",
           "y": [
            "Dementia and Cognitive Impairment Research"
           ],
           "yaxis": "y"
          },
          {
           "hovertemplate": "topic=%{y}<br>year=2009<br>count=%{x}<extra></extra>",
           "legendgroup": "Big Data and Business Intelligence",
           "marker": {
            "color": "#FF6692",
            "pattern": {
             "shape": ""
            }
           },
           "name": "Big Data and Business Intelligence",
           "orientation": "h",
           "showlegend": true,
           "textposition": "auto",
           "type": "bar",
           "x": {
            "bdata": "AQ==",
            "dtype": "i1"
           },
           "xaxis": "x",
           "y": [
            "Big Data and Business Intelligence"
           ],
           "yaxis": "y"
          },
          {
           "hovertemplate": "topic=%{y}<br>year=2009<br>count=%{x}<extra></extra>",
           "legendgroup": "Distributed and Parallel Computing Systems",
           "marker": {
            "color": "#B6E880",
            "pattern": {
             "shape": ""
            }
           },
           "name": "Distributed and Parallel Computing Systems",
           "orientation": "h",
           "showlegend": true,
           "textposition": "auto",
           "type": "bar",
           "x": {
            "bdata": "AQ==",
            "dtype": "i1"
           },
           "xaxis": "x",
           "y": [
            "Distributed and Parallel Computing Systems"
           ],
           "yaxis": "y"
          },
          {
           "hovertemplate": "topic=%{y}<br>year=2009<br>count=%{x}<extra></extra>",
           "legendgroup": "Machine Learning in Healthcare",
           "marker": {
            "color": "#FF97FF",
            "pattern": {
             "shape": ""
            }
           },
           "name": "Machine Learning in Healthcare",
           "orientation": "h",
           "showlegend": true,
           "textposition": "auto",
           "type": "bar",
           "x": {
            "bdata": "AQ==",
            "dtype": "i1"
           },
           "xaxis": "x",
           "y": [
            "Machine Learning in Healthcare"
           ],
           "yaxis": "y"
          },
          {
           "hovertemplate": "topic=%{y}<br>year=2009<br>count=%{x}<extra></extra>",
           "legendgroup": "QoS-Aware Web Services Composition and Semantic Matching",
           "marker": {
            "color": "#FECB52",
            "pattern": {
             "shape": ""
            }
           },
           "name": "QoS-Aware Web Services Composition and Semantic Matching",
           "orientation": "h",
           "showlegend": true,
           "textposition": "auto",
           "type": "bar",
           "x": {
            "bdata": "AQ==",
            "dtype": "i1"
           },
           "xaxis": "x",
           "y": [
            "QoS-Aware Web Services Composition and Semantic Matching"
           ],
           "yaxis": "y"
          }
         ],
         "name": "2009"
        },
        {
         "data": [
          {
           "hovertemplate": "topic=%{y}<br>year=2010<br>count=%{x}<extra></extra>",
           "legendgroup": "Logic, Reasoning, and Knowledge",
           "marker": {
            "color": "#636efa",
            "pattern": {
             "shape": ""
            }
           },
           "name": "Logic, Reasoning, and Knowledge",
           "orientation": "h",
           "showlegend": true,
           "textposition": "auto",
           "type": "bar",
           "x": {
            "bdata": "EA==",
            "dtype": "i1"
           },
           "xaxis": "x",
           "y": [
            "Logic, Reasoning, and Knowledge"
           ],
           "yaxis": "y"
          },
          {
           "hovertemplate": "topic=%{y}<br>year=2010<br>count=%{x}<extra></extra>",
           "legendgroup": "Semantic Web and Ontologies",
           "marker": {
            "color": "#EF553B",
            "pattern": {
             "shape": ""
            }
           },
           "name": "Semantic Web and Ontologies",
           "orientation": "h",
           "showlegend": true,
           "textposition": "auto",
           "type": "bar",
           "x": {
            "bdata": "CQ==",
            "dtype": "i1"
           },
           "xaxis": "x",
           "y": [
            "Semantic Web and Ontologies"
           ],
           "yaxis": "y"
          },
          {
           "hovertemplate": "topic=%{y}<br>year=2010<br>count=%{x}<extra></extra>",
           "legendgroup": "Logic, programming, and type systems",
           "marker": {
            "color": "#ab63fa",
            "pattern": {
             "shape": ""
            }
           },
           "name": "Logic, programming, and type systems",
           "orientation": "h",
           "showlegend": true,
           "textposition": "auto",
           "type": "bar",
           "x": {
            "bdata": "BQ==",
            "dtype": "i1"
           },
           "xaxis": "x",
           "y": [
            "Logic, programming, and type systems"
           ],
           "yaxis": "y"
          },
          {
           "hovertemplate": "topic=%{y}<br>year=2010<br>count=%{x}<extra></extra>",
           "legendgroup": "Distributed Constraint Optimization Problems and Algorithms",
           "marker": {
            "color": "#19d3f3",
            "pattern": {
             "shape": ""
            }
           },
           "name": "Distributed Constraint Optimization Problems and Algorithms",
           "orientation": "h",
           "showlegend": true,
           "textposition": "auto",
           "type": "bar",
           "x": {
            "bdata": "CQ==",
            "dtype": "i1"
           },
           "xaxis": "x",
           "y": [
            "Distributed Constraint Optimization Problems and Algorithms"
           ],
           "yaxis": "y"
          },
          {
           "hovertemplate": "topic=%{y}<br>year=2010<br>count=%{x}<extra></extra>",
           "legendgroup": "Bayesian Modeling and Causal Inference",
           "marker": {
            "color": "#FF6692",
            "pattern": {
             "shape": ""
            }
           },
           "name": "Bayesian Modeling and Causal Inference",
           "orientation": "h",
           "showlegend": true,
           "textposition": "auto",
           "type": "bar",
           "x": {
            "bdata": "BQ==",
            "dtype": "i1"
           },
           "xaxis": "x",
           "y": [
            "Bayesian Modeling and Causal Inference"
           ],
           "yaxis": "y"
          },
          {
           "hovertemplate": "topic=%{y}<br>year=2010<br>count=%{x}<extra></extra>",
           "legendgroup": "Multi-Agent Systems and Negotiation",
           "marker": {
            "color": "#B6E880",
            "pattern": {
             "shape": ""
            }
           },
           "name": "Multi-Agent Systems and Negotiation",
           "orientation": "h",
           "showlegend": true,
           "textposition": "auto",
           "type": "bar",
           "x": {
            "bdata": "Bw==",
            "dtype": "i1"
           },
           "xaxis": "x",
           "y": [
            "Multi-Agent Systems and Negotiation"
           ],
           "yaxis": "y"
          },
          {
           "hovertemplate": "topic=%{y}<br>year=2010<br>count=%{x}<extra></extra>",
           "legendgroup": "Auction Theory and Applications",
           "marker": {
            "color": "#FFA15A",
            "pattern": {
             "shape": ""
            }
           },
           "name": "Auction Theory and Applications",
           "orientation": "h",
           "showlegend": true,
           "textposition": "auto",
           "type": "bar",
           "x": {
            "bdata": "Cg==",
            "dtype": "i1"
           },
           "xaxis": "x",
           "y": [
            "Auction Theory and Applications"
           ],
           "yaxis": "y"
          },
          {
           "hovertemplate": "topic=%{y}<br>year=2010<br>count=%{x}<extra></extra>",
           "legendgroup": "Game Theory and Applications",
           "marker": {
            "color": "#B6E880",
            "pattern": {
             "shape": ""
            }
           },
           "name": "Game Theory and Applications",
           "orientation": "h",
           "showlegend": true,
           "textposition": "auto",
           "type": "bar",
           "x": {
            "bdata": "Bg==",
            "dtype": "i1"
           },
           "xaxis": "x",
           "y": [
            "Game Theory and Applications"
           ],
           "yaxis": "y"
          },
          {
           "hovertemplate": "topic=%{y}<br>year=2010<br>count=%{x}<extra></extra>",
           "legendgroup": "Data Management and Algorithms",
           "marker": {
            "color": "#636efa",
            "pattern": {
             "shape": ""
            }
           },
           "name": "Data Management and Algorithms",
           "orientation": "h",
           "showlegend": true,
           "textposition": "auto",
           "type": "bar",
           "x": {
            "bdata": "Bw==",
            "dtype": "i1"
           },
           "xaxis": "x",
           "y": [
            "Data Management and Algorithms"
           ],
           "yaxis": "y"
          },
          {
           "hovertemplate": "topic=%{y}<br>year=2010<br>count=%{x}<extra></extra>",
           "legendgroup": "Game Theory and Voting Systems",
           "marker": {
            "color": "#EF553B",
            "pattern": {
             "shape": ""
            }
           },
           "name": "Game Theory and Voting Systems",
           "orientation": "h",
           "showlegend": true,
           "textposition": "auto",
           "type": "bar",
           "x": {
            "bdata": "Bg==",
            "dtype": "i1"
           },
           "xaxis": "x",
           "y": [
            "Game Theory and Voting Systems"
           ],
           "yaxis": "y"
          }
         ],
         "name": "2010"
        },
        {
         "data": [
          {
           "hovertemplate": "topic=%{y}<br>year=2011<br>count=%{x}<extra></extra>",
           "legendgroup": "Semantic Web and Ontologies",
           "marker": {
            "color": "#EF553B",
            "pattern": {
             "shape": ""
            }
           },
           "name": "Semantic Web and Ontologies",
           "orientation": "h",
           "showlegend": true,
           "textposition": "auto",
           "type": "bar",
           "x": {
            "bdata": "Bw==",
            "dtype": "i1"
           },
           "xaxis": "x",
           "y": [
            "Semantic Web and Ontologies"
           ],
           "yaxis": "y"
          },
          {
           "hovertemplate": "topic=%{y}<br>year=2011<br>count=%{x}<extra></extra>",
           "legendgroup": "Natural Language Processing Techniques",
           "marker": {
            "color": "#FECB52",
            "pattern": {
             "shape": ""
            }
           },
           "name": "Natural Language Processing Techniques",
           "orientation": "h",
           "showlegend": true,
           "textposition": "auto",
           "type": "bar",
           "x": {
            "bdata": "AQ==",
            "dtype": "i1"
           },
           "xaxis": "x",
           "y": [
            "Natural Language Processing Techniques"
           ],
           "yaxis": "y"
          },
          {
           "hovertemplate": "topic=%{y}<br>year=2011<br>count=%{x}<extra></extra>",
           "legendgroup": "Topic Modeling",
           "marker": {
            "color": "#FF6692",
            "pattern": {
             "shape": ""
            }
           },
           "name": "Topic Modeling",
           "orientation": "h",
           "showlegend": true,
           "textposition": "auto",
           "type": "bar",
           "x": {
            "bdata": "AQ==",
            "dtype": "i1"
           },
           "xaxis": "x",
           "y": [
            "Topic Modeling"
           ],
           "yaxis": "y"
          },
          {
           "hovertemplate": "topic=%{y}<br>year=2011<br>count=%{x}<extra></extra>",
           "legendgroup": "Business Process Modeling and Analysis",
           "marker": {
            "color": "#ab63fa",
            "pattern": {
             "shape": ""
            }
           },
           "name": "Business Process Modeling and Analysis",
           "orientation": "h",
           "showlegend": true,
           "textposition": "auto",
           "type": "bar",
           "x": {
            "bdata": "Ag==",
            "dtype": "i1"
           },
           "xaxis": "x",
           "y": [
            "Business Process Modeling and Analysis"
           ],
           "yaxis": "y"
          },
          {
           "hovertemplate": "topic=%{y}<br>year=2011<br>count=%{x}<extra></extra>",
           "legendgroup": "Biomedical Text Mining and Ontologies",
           "marker": {
            "color": "#00cc96",
            "pattern": {
             "shape": ""
            }
           },
           "name": "Biomedical Text Mining and Ontologies",
           "orientation": "h",
           "showlegend": true,
           "textposition": "auto",
           "type": "bar",
           "x": {
            "bdata": "CQ==",
            "dtype": "i1"
           },
           "xaxis": "x",
           "y": [
            "Biomedical Text Mining and Ontologies"
           ],
           "yaxis": "y"
          },
          {
           "hovertemplate": "topic=%{y}<br>year=2011<br>count=%{x}<extra></extra>",
           "legendgroup": "Electronic Health Records Systems",
           "marker": {
            "color": "#ab63fa",
            "pattern": {
             "shape": ""
            }
           },
           "name": "Electronic Health Records Systems",
           "orientation": "h",
           "showlegend": true,
           "textposition": "auto",
           "type": "bar",
           "x": {
            "bdata": "Aw==",
            "dtype": "i1"
           },
           "xaxis": "x",
           "y": [
            "Electronic Health Records Systems"
           ],
           "yaxis": "y"
          },
          {
           "hovertemplate": "topic=%{y}<br>year=2011<br>count=%{x}<extra></extra>",
           "legendgroup": "Clinical practice guidelines implementation",
           "marker": {
            "color": "#FFA15A",
            "pattern": {
             "shape": ""
            }
           },
           "name": "Clinical practice guidelines implementation",
           "orientation": "h",
           "showlegend": true,
           "textposition": "auto",
           "type": "bar",
           "x": {
            "bdata": "Ag==",
            "dtype": "i1"
           },
           "xaxis": "x",
           "y": [
            "Clinical practice guidelines implementation"
           ],
           "yaxis": "y"
          },
          {
           "hovertemplate": "topic=%{y}<br>year=2011<br>count=%{x}<extra></extra>",
           "legendgroup": "Data Quality and Management",
           "marker": {
            "color": "#00cc96",
            "pattern": {
             "shape": ""
            }
           },
           "name": "Data Quality and Management",
           "orientation": "h",
           "showlegend": true,
           "textposition": "auto",
           "type": "bar",
           "x": {
            "bdata": "Ag==",
            "dtype": "i1"
           },
           "xaxis": "x",
           "y": [
            "Data Quality and Management"
           ],
           "yaxis": "y"
          },
          {
           "hovertemplate": "topic=%{y}<br>year=2011<br>count=%{x}<extra></extra>",
           "legendgroup": "Renal function and acid-base balance",
           "marker": {
            "color": "#ab63fa",
            "pattern": {
             "shape": ""
            }
           },
           "name": "Renal function and acid-base balance",
           "orientation": "h",
           "showlegend": true,
           "textposition": "auto",
           "type": "bar",
           "x": {
            "bdata": "AQ==",
            "dtype": "i1"
           },
           "xaxis": "x",
           "y": [
            "Renal function and acid-base balance"
           ],
           "yaxis": "y"
          },
          {
           "hovertemplate": "topic=%{y}<br>year=2011<br>count=%{x}<extra></extra>",
           "legendgroup": "Data Mining Algorithms and Applications",
           "marker": {
            "color": "#FFA15A",
            "pattern": {
             "shape": ""
            }
           },
           "name": "Data Mining Algorithms and Applications",
           "orientation": "h",
           "showlegend": true,
           "textposition": "auto",
           "type": "bar",
           "x": {
            "bdata": "AQ==",
            "dtype": "i1"
           },
           "xaxis": "x",
           "y": [
            "Data Mining Algorithms and Applications"
           ],
           "yaxis": "y"
          }
         ],
         "name": "2011"
        },
        {
         "data": [
          {
           "hovertemplate": "topic=%{y}<br>year=2012<br>count=%{x}<extra></extra>",
           "legendgroup": "Logic, Reasoning, and Knowledge",
           "marker": {
            "color": "#636efa",
            "pattern": {
             "shape": ""
            }
           },
           "name": "Logic, Reasoning, and Knowledge",
           "orientation": "h",
           "showlegend": true,
           "textposition": "auto",
           "type": "bar",
           "x": {
            "bdata": "MA==",
            "dtype": "i1"
           },
           "xaxis": "x",
           "y": [
            "Logic, Reasoning, and Knowledge"
           ],
           "yaxis": "y"
          },
          {
           "hovertemplate": "topic=%{y}<br>year=2012<br>count=%{x}<extra></extra>",
           "legendgroup": "Semantic Web and Ontologies",
           "marker": {
            "color": "#EF553B",
            "pattern": {
             "shape": ""
            }
           },
           "name": "Semantic Web and Ontologies",
           "orientation": "h",
           "showlegend": true,
           "textposition": "auto",
           "type": "bar",
           "x": {
            "bdata": "Iw==",
            "dtype": "i1"
           },
           "xaxis": "x",
           "y": [
            "Semantic Web and Ontologies"
           ],
           "yaxis": "y"
          },
          {
           "hovertemplate": "topic=%{y}<br>year=2012<br>count=%{x}<extra></extra>",
           "legendgroup": "AI-based Problem Solving and Planning",
           "marker": {
            "color": "#00cc96",
            "pattern": {
             "shape": ""
            }
           },
           "name": "AI-based Problem Solving and Planning",
           "orientation": "h",
           "showlegend": true,
           "textposition": "auto",
           "type": "bar",
           "x": {
            "bdata": "Gw==",
            "dtype": "i1"
           },
           "xaxis": "x",
           "y": [
            "AI-based Problem Solving and Planning"
           ],
           "yaxis": "y"
          },
          {
           "hovertemplate": "topic=%{y}<br>year=2012<br>count=%{x}<extra></extra>",
           "legendgroup": "Distributed Constraint Optimization Problems and Algorithms",
           "marker": {
            "color": "#19d3f3",
            "pattern": {
             "shape": ""
            }
           },
           "name": "Distributed Constraint Optimization Problems and Algorithms",
           "orientation": "h",
           "showlegend": true,
           "textposition": "auto",
           "type": "bar",
           "x": {
            "bdata": "IA==",
            "dtype": "i1"
           },
           "xaxis": "x",
           "y": [
            "Distributed Constraint Optimization Problems and Algorithms"
           ],
           "yaxis": "y"
          },
          {
           "hovertemplate": "topic=%{y}<br>year=2012<br>count=%{x}<extra></extra>",
           "legendgroup": "Multi-Agent Systems and Negotiation",
           "marker": {
            "color": "#B6E880",
            "pattern": {
             "shape": ""
            }
           },
           "name": "Multi-Agent Systems and Negotiation",
           "orientation": "h",
           "showlegend": true,
           "textposition": "auto",
           "type": "bar",
           "x": {
            "bdata": "FQ==",
            "dtype": "i1"
           },
           "xaxis": "x",
           "y": [
            "Multi-Agent Systems and Negotiation"
           ],
           "yaxis": "y"
          },
          {
           "hovertemplate": "topic=%{y}<br>year=2012<br>count=%{x}<extra></extra>",
           "legendgroup": "Natural Language Processing Techniques",
           "marker": {
            "color": "#FECB52",
            "pattern": {
             "shape": ""
            }
           },
           "name": "Natural Language Processing Techniques",
           "orientation": "h",
           "showlegend": true,
           "textposition": "auto",
           "type": "bar",
           "x": {
            "bdata": "Dg==",
            "dtype": "i1"
           },
           "xaxis": "x",
           "y": [
            "Natural Language Processing Techniques"
           ],
           "yaxis": "y"
          },
          {
           "hovertemplate": "topic=%{y}<br>year=2012<br>count=%{x}<extra></extra>",
           "legendgroup": "Auction Theory and Applications",
           "marker": {
            "color": "#FFA15A",
            "pattern": {
             "shape": ""
            }
           },
           "name": "Auction Theory and Applications",
           "orientation": "h",
           "showlegend": true,
           "textposition": "auto",
           "type": "bar",
           "x": {
            "bdata": "FQ==",
            "dtype": "i1"
           },
           "xaxis": "x",
           "y": [
            "Auction Theory and Applications"
           ],
           "yaxis": "y"
          },
          {
           "hovertemplate": "topic=%{y}<br>year=2012<br>count=%{x}<extra></extra>",
           "legendgroup": "Formal Methods in Verification",
           "marker": {
            "color": "#636efa",
            "pattern": {
             "shape": ""
            }
           },
           "name": "Formal Methods in Verification",
           "orientation": "h",
           "showlegend": true,
           "textposition": "auto",
           "type": "bar",
           "x": {
            "bdata": "Dg==",
            "dtype": "i1"
           },
           "xaxis": "x",
           "y": [
            "Formal Methods in Verification"
           ],
           "yaxis": "y"
          },
          {
           "hovertemplate": "topic=%{y}<br>year=2012<br>count=%{x}<extra></extra>",
           "legendgroup": "Data Management and Algorithms",
           "marker": {
            "color": "#636efa",
            "pattern": {
             "shape": ""
            }
           },
           "name": "Data Management and Algorithms",
           "orientation": "h",
           "showlegend": true,
           "textposition": "auto",
           "type": "bar",
           "x": {
            "bdata": "Dg==",
            "dtype": "i1"
           },
           "xaxis": "x",
           "y": [
            "Data Management and Algorithms"
           ],
           "yaxis": "y"
          },
          {
           "hovertemplate": "topic=%{y}<br>year=2012<br>count=%{x}<extra></extra>",
           "legendgroup": "Game Theory and Voting Systems",
           "marker": {
            "color": "#EF553B",
            "pattern": {
             "shape": ""
            }
           },
           "name": "Game Theory and Voting Systems",
           "orientation": "h",
           "showlegend": true,
           "textposition": "auto",
           "type": "bar",
           "x": {
            "bdata": "DQ==",
            "dtype": "i1"
           },
           "xaxis": "x",
           "y": [
            "Game Theory and Voting Systems"
           ],
           "yaxis": "y"
          }
         ],
         "name": "2012"
        },
        {
         "data": [
          {
           "hovertemplate": "topic=%{y}<br>year=2014<br>count=%{x}<extra></extra>",
           "legendgroup": "Logic, Reasoning, and Knowledge",
           "marker": {
            "color": "#636efa",
            "pattern": {
             "shape": ""
            }
           },
           "name": "Logic, Reasoning, and Knowledge",
           "orientation": "h",
           "showlegend": true,
           "textposition": "auto",
           "type": "bar",
           "x": {
            "bdata": "Sg==",
            "dtype": "i1"
           },
           "xaxis": "x",
           "y": [
            "Logic, Reasoning, and Knowledge"
           ],
           "yaxis": "y"
          },
          {
           "hovertemplate": "topic=%{y}<br>year=2014<br>count=%{x}<extra></extra>",
           "legendgroup": "Semantic Web and Ontologies",
           "marker": {
            "color": "#EF553B",
            "pattern": {
             "shape": ""
            }
           },
           "name": "Semantic Web and Ontologies",
           "orientation": "h",
           "showlegend": true,
           "textposition": "auto",
           "type": "bar",
           "x": {
            "bdata": "MQ==",
            "dtype": "i1"
           },
           "xaxis": "x",
           "y": [
            "Semantic Web and Ontologies"
           ],
           "yaxis": "y"
          },
          {
           "hovertemplate": "topic=%{y}<br>year=2014<br>count=%{x}<extra></extra>",
           "legendgroup": "AI-based Problem Solving and Planning",
           "marker": {
            "color": "#00cc96",
            "pattern": {
             "shape": ""
            }
           },
           "name": "AI-based Problem Solving and Planning",
           "orientation": "h",
           "showlegend": true,
           "textposition": "auto",
           "type": "bar",
           "x": {
            "bdata": "IQ==",
            "dtype": "i1"
           },
           "xaxis": "x",
           "y": [
            "AI-based Problem Solving and Planning"
           ],
           "yaxis": "y"
          },
          {
           "hovertemplate": "topic=%{y}<br>year=2014<br>count=%{x}<extra></extra>",
           "legendgroup": "Distributed Constraint Optimization Problems and Algorithms",
           "marker": {
            "color": "#19d3f3",
            "pattern": {
             "shape": ""
            }
           },
           "name": "Distributed Constraint Optimization Problems and Algorithms",
           "orientation": "h",
           "showlegend": true,
           "textposition": "auto",
           "type": "bar",
           "x": {
            "bdata": "HQ==",
            "dtype": "i1"
           },
           "xaxis": "x",
           "y": [
            "Distributed Constraint Optimization Problems and Algorithms"
           ],
           "yaxis": "y"
          },
          {
           "hovertemplate": "topic=%{y}<br>year=2014<br>count=%{x}<extra></extra>",
           "legendgroup": "Bayesian Modeling and Causal Inference",
           "marker": {
            "color": "#FF6692",
            "pattern": {
             "shape": ""
            }
           },
           "name": "Bayesian Modeling and Causal Inference",
           "orientation": "h",
           "showlegend": true,
           "textposition": "auto",
           "type": "bar",
           "x": {
            "bdata": "GQ==",
            "dtype": "i1"
           },
           "xaxis": "x",
           "y": [
            "Bayesian Modeling and Causal Inference"
           ],
           "yaxis": "y"
          },
          {
           "hovertemplate": "topic=%{y}<br>year=2014<br>count=%{x}<extra></extra>",
           "legendgroup": "Multi-Agent Systems and Negotiation",
           "marker": {
            "color": "#B6E880",
            "pattern": {
             "shape": ""
            }
           },
           "name": "Multi-Agent Systems and Negotiation",
           "orientation": "h",
           "showlegend": true,
           "textposition": "auto",
           "type": "bar",
           "x": {
            "bdata": "LQ==",
            "dtype": "i1"
           },
           "xaxis": "x",
           "y": [
            "Multi-Agent Systems and Negotiation"
           ],
           "yaxis": "y"
          },
          {
           "hovertemplate": "topic=%{y}<br>year=2014<br>count=%{x}<extra></extra>",
           "legendgroup": "Auction Theory and Applications",
           "marker": {
            "color": "#FFA15A",
            "pattern": {
             "shape": ""
            }
           },
           "name": "Auction Theory and Applications",
           "orientation": "h",
           "showlegend": true,
           "textposition": "auto",
           "type": "bar",
           "x": {
            "bdata": "FA==",
            "dtype": "i1"
           },
           "xaxis": "x",
           "y": [
            "Auction Theory and Applications"
           ],
           "yaxis": "y"
          },
          {
           "hovertemplate": "topic=%{y}<br>year=2014<br>count=%{x}<extra></extra>",
           "legendgroup": "Game Theory and Applications",
           "marker": {
            "color": "#B6E880",
            "pattern": {
             "shape": ""
            }
           },
           "name": "Game Theory and Applications",
           "orientation": "h",
           "showlegend": true,
           "textposition": "auto",
           "type": "bar",
           "x": {
            "bdata": "Dg==",
            "dtype": "i1"
           },
           "xaxis": "x",
           "y": [
            "Game Theory and Applications"
           ],
           "yaxis": "y"
          },
          {
           "hovertemplate": "topic=%{y}<br>year=2014<br>count=%{x}<extra></extra>",
           "legendgroup": "Data Management and Algorithms",
           "marker": {
            "color": "#636efa",
            "pattern": {
             "shape": ""
            }
           },
           "name": "Data Management and Algorithms",
           "orientation": "h",
           "showlegend": true,
           "textposition": "auto",
           "type": "bar",
           "x": {
            "bdata": "Gw==",
            "dtype": "i1"
           },
           "xaxis": "x",
           "y": [
            "Data Management and Algorithms"
           ],
           "yaxis": "y"
          },
          {
           "hovertemplate": "topic=%{y}<br>year=2014<br>count=%{x}<extra></extra>",
           "legendgroup": "Game Theory and Voting Systems",
           "marker": {
            "color": "#EF553B",
            "pattern": {
             "shape": ""
            }
           },
           "name": "Game Theory and Voting Systems",
           "orientation": "h",
           "showlegend": true,
           "textposition": "auto",
           "type": "bar",
           "x": {
            "bdata": "EA==",
            "dtype": "i1"
           },
           "xaxis": "x",
           "y": [
            "Game Theory and Voting Systems"
           ],
           "yaxis": "y"
          }
         ],
         "name": "2014"
        },
        {
         "data": [
          {
           "hovertemplate": "topic=%{y}<br>year=2016<br>count=%{x}<extra></extra>",
           "legendgroup": "Logic, Reasoning, and Knowledge",
           "marker": {
            "color": "#636efa",
            "pattern": {
             "shape": ""
            }
           },
           "name": "Logic, Reasoning, and Knowledge",
           "orientation": "h",
           "showlegend": true,
           "textposition": "auto",
           "type": "bar",
           "x": {
            "bdata": "Hg==",
            "dtype": "i1"
           },
           "xaxis": "x",
           "y": [
            "Logic, Reasoning, and Knowledge"
           ],
           "yaxis": "y"
          },
          {
           "hovertemplate": "topic=%{y}<br>year=2016<br>count=%{x}<extra></extra>",
           "legendgroup": "Semantic Web and Ontologies",
           "marker": {
            "color": "#EF553B",
            "pattern": {
             "shape": ""
            }
           },
           "name": "Semantic Web and Ontologies",
           "orientation": "h",
           "showlegend": true,
           "textposition": "auto",
           "type": "bar",
           "x": {
            "bdata": "Ew==",
            "dtype": "i1"
           },
           "xaxis": "x",
           "y": [
            "Semantic Web and Ontologies"
           ],
           "yaxis": "y"
          },
          {
           "hovertemplate": "topic=%{y}<br>year=2016<br>count=%{x}<extra></extra>",
           "legendgroup": "AI-based Problem Solving and Planning",
           "marker": {
            "color": "#00cc96",
            "pattern": {
             "shape": ""
            }
           },
           "name": "AI-based Problem Solving and Planning",
           "orientation": "h",
           "showlegend": true,
           "textposition": "auto",
           "type": "bar",
           "x": {
            "bdata": "Eg==",
            "dtype": "i1"
           },
           "xaxis": "x",
           "y": [
            "AI-based Problem Solving and Planning"
           ],
           "yaxis": "y"
          },
          {
           "hovertemplate": "topic=%{y}<br>year=2016<br>count=%{x}<extra></extra>",
           "legendgroup": "Multi-Agent Systems and Negotiation",
           "marker": {
            "color": "#B6E880",
            "pattern": {
             "shape": ""
            }
           },
           "name": "Multi-Agent Systems and Negotiation",
           "orientation": "h",
           "showlegend": true,
           "textposition": "auto",
           "type": "bar",
           "x": {
            "bdata": "FA==",
            "dtype": "i1"
           },
           "xaxis": "x",
           "y": [
            "Multi-Agent Systems and Negotiation"
           ],
           "yaxis": "y"
          },
          {
           "hovertemplate": "topic=%{y}<br>year=2016<br>count=%{x}<extra></extra>",
           "legendgroup": "Topic Modeling",
           "marker": {
            "color": "#FF6692",
            "pattern": {
             "shape": ""
            }
           },
           "name": "Topic Modeling",
           "orientation": "h",
           "showlegend": true,
           "textposition": "auto",
           "type": "bar",
           "x": {
            "bdata": "CA==",
            "dtype": "i1"
           },
           "xaxis": "x",
           "y": [
            "Topic Modeling"
           ],
           "yaxis": "y"
          },
          {
           "hovertemplate": "topic=%{y}<br>year=2016<br>count=%{x}<extra></extra>",
           "legendgroup": "Auction Theory and Applications",
           "marker": {
            "color": "#FFA15A",
            "pattern": {
             "shape": ""
            }
           },
           "name": "Auction Theory and Applications",
           "orientation": "h",
           "showlegend": true,
           "textposition": "auto",
           "type": "bar",
           "x": {
            "bdata": "Dw==",
            "dtype": "i1"
           },
           "xaxis": "x",
           "y": [
            "Auction Theory and Applications"
           ],
           "yaxis": "y"
          },
          {
           "hovertemplate": "topic=%{y}<br>year=2016<br>count=%{x}<extra></extra>",
           "legendgroup": "Game Theory and Applications",
           "marker": {
            "color": "#B6E880",
            "pattern": {
             "shape": ""
            }
           },
           "name": "Game Theory and Applications",
           "orientation": "h",
           "showlegend": true,
           "textposition": "auto",
           "type": "bar",
           "x": {
            "bdata": "Cw==",
            "dtype": "i1"
           },
           "xaxis": "x",
           "y": [
            "Game Theory and Applications"
           ],
           "yaxis": "y"
          },
          {
           "hovertemplate": "topic=%{y}<br>year=2016<br>count=%{x}<extra></extra>",
           "legendgroup": "Formal Methods in Verification",
           "marker": {
            "color": "#636efa",
            "pattern": {
             "shape": ""
            }
           },
           "name": "Formal Methods in Verification",
           "orientation": "h",
           "showlegend": true,
           "textposition": "auto",
           "type": "bar",
           "x": {
            "bdata": "CQ==",
            "dtype": "i1"
           },
           "xaxis": "x",
           "y": [
            "Formal Methods in Verification"
           ],
           "yaxis": "y"
          },
          {
           "hovertemplate": "topic=%{y}<br>year=2016<br>count=%{x}<extra></extra>",
           "legendgroup": "Game Theory and Voting Systems",
           "marker": {
            "color": "#EF553B",
            "pattern": {
             "shape": ""
            }
           },
           "name": "Game Theory and Voting Systems",
           "orientation": "h",
           "showlegend": true,
           "textposition": "auto",
           "type": "bar",
           "x": {
            "bdata": "CA==",
            "dtype": "i1"
           },
           "xaxis": "x",
           "y": [
            "Game Theory and Voting Systems"
           ],
           "yaxis": "y"
          },
          {
           "hovertemplate": "topic=%{y}<br>year=2016<br>count=%{x}<extra></extra>",
           "legendgroup": "Advanced Database Systems and Queries",
           "marker": {
            "color": "#19d3f3",
            "pattern": {
             "shape": ""
            }
           },
           "name": "Advanced Database Systems and Queries",
           "orientation": "h",
           "showlegend": true,
           "textposition": "auto",
           "type": "bar",
           "x": {
            "bdata": "CA==",
            "dtype": "i1"
           },
           "xaxis": "x",
           "y": [
            "Advanced Database Systems and Queries"
           ],
           "yaxis": "y"
          }
         ],
         "name": "2016"
        },
        {
         "data": [
          {
           "hovertemplate": "topic=%{y}<br>year=2017<br>count=%{x}<extra></extra>",
           "legendgroup": "Logic, Reasoning, and Knowledge",
           "marker": {
            "color": "#636efa",
            "pattern": {
             "shape": ""
            }
           },
           "name": "Logic, Reasoning, and Knowledge",
           "orientation": "h",
           "showlegend": true,
           "textposition": "auto",
           "type": "bar",
           "x": {
            "bdata": "Ag==",
            "dtype": "i1"
           },
           "xaxis": "x",
           "y": [
            "Logic, Reasoning, and Knowledge"
           ],
           "yaxis": "y"
          },
          {
           "hovertemplate": "topic=%{y}<br>year=2017<br>count=%{x}<extra></extra>",
           "legendgroup": "Multi-Agent Systems and Negotiation",
           "marker": {
            "color": "#B6E880",
            "pattern": {
             "shape": ""
            }
           },
           "name": "Multi-Agent Systems and Negotiation",
           "orientation": "h",
           "showlegend": true,
           "textposition": "auto",
           "type": "bar",
           "x": {
            "bdata": "Aw==",
            "dtype": "i1"
           },
           "xaxis": "x",
           "y": [
            "Multi-Agent Systems and Negotiation"
           ],
           "yaxis": "y"
          },
          {
           "hovertemplate": "topic=%{y}<br>year=2017<br>count=%{x}<extra></extra>",
           "legendgroup": "Evolutionary Game Theory and Cooperation",
           "marker": {
            "color": "#FFA15A",
            "pattern": {
             "shape": ""
            }
           },
           "name": "Evolutionary Game Theory and Cooperation",
           "orientation": "h",
           "showlegend": true,
           "textposition": "auto",
           "type": "bar",
           "x": {
            "bdata": "AQ==",
            "dtype": "i1"
           },
           "xaxis": "x",
           "y": [
            "Evolutionary Game Theory and Cooperation"
           ],
           "yaxis": "y"
          },
          {
           "hovertemplate": "topic=%{y}<br>year=2017<br>count=%{x}<extra></extra>",
           "legendgroup": "Complex Systems and Decision Making",
           "marker": {
            "color": "#FF6692",
            "pattern": {
             "shape": ""
            }
           },
           "name": "Complex Systems and Decision Making",
           "orientation": "h",
           "showlegend": true,
           "textposition": "auto",
           "type": "bar",
           "x": {
            "bdata": "Ag==",
            "dtype": "i1"
           },
           "xaxis": "x",
           "y": [
            "Complex Systems and Decision Making"
           ],
           "yaxis": "y"
          },
          {
           "hovertemplate": "topic=%{y}<br>year=2017<br>count=%{x}<extra></extra>",
           "legendgroup": "Mental Health Research Topics",
           "marker": {
            "color": "#FECB52",
            "pattern": {
             "shape": ""
            }
           },
           "name": "Mental Health Research Topics",
           "orientation": "h",
           "showlegend": true,
           "textposition": "auto",
           "type": "bar",
           "x": {
            "bdata": "AQ==",
            "dtype": "i1"
           },
           "xaxis": "x",
           "y": [
            "Mental Health Research Topics"
           ],
           "yaxis": "y"
          },
          {
           "hovertemplate": "topic=%{y}<br>year=2017<br>count=%{x}<extra></extra>",
           "legendgroup": "Mobile Crowdsensing and Crowdsourcing",
           "marker": {
            "color": "#FF6692",
            "pattern": {
             "shape": ""
            }
           },
           "name": "Mobile Crowdsensing and Crowdsourcing",
           "orientation": "h",
           "showlegend": true,
           "textposition": "auto",
           "type": "bar",
           "x": {
            "bdata": "AQ==",
            "dtype": "i1"
           },
           "xaxis": "x",
           "y": [
            "Mobile Crowdsensing and Crowdsourcing"
           ],
           "yaxis": "y"
          },
          {
           "hovertemplate": "topic=%{y}<br>year=2017<br>count=%{x}<extra></extra>",
           "legendgroup": "Cultural Differences and Values",
           "marker": {
            "color": "#B6E880",
            "pattern": {
             "shape": ""
            }
           },
           "name": "Cultural Differences and Values",
           "orientation": "h",
           "showlegend": true,
           "textposition": "auto",
           "type": "bar",
           "x": {
            "bdata": "AQ==",
            "dtype": "i1"
           },
           "xaxis": "x",
           "y": [
            "Cultural Differences and Values"
           ],
           "yaxis": "y"
          },
          {
           "hovertemplate": "topic=%{y}<br>year=2017<br>count=%{x}<extra></extra>",
           "legendgroup": "Modular Robots and Swarm Intelligence",
           "marker": {
            "color": "#FF97FF",
            "pattern": {
             "shape": ""
            }
           },
           "name": "Modular Robots and Swarm Intelligence",
           "orientation": "h",
           "showlegend": true,
           "textposition": "auto",
           "type": "bar",
           "x": {
            "bdata": "AQ==",
            "dtype": "i1"
           },
           "xaxis": "x",
           "y": [
            "Modular Robots and Swarm Intelligence"
           ],
           "yaxis": "y"
          },
          {
           "hovertemplate": "topic=%{y}<br>year=2017<br>count=%{x}<extra></extra>",
           "legendgroup": "Internet Traffic Analysis and Secure E-voting",
           "marker": {
            "color": "#FECB52",
            "pattern": {
             "shape": ""
            }
           },
           "name": "Internet Traffic Analysis and Secure E-voting",
           "orientation": "h",
           "showlegend": true,
           "textposition": "auto",
           "type": "bar",
           "x": {
            "bdata": "AQ==",
            "dtype": "i1"
           },
           "xaxis": "x",
           "y": [
            "Internet Traffic Analysis and Secure E-voting"
           ],
           "yaxis": "y"
          },
          {
           "hovertemplate": "topic=%{y}<br>year=2017<br>count=%{x}<extra></extra>",
           "legendgroup": "Systems Engineering Methodologies and Applications",
           "marker": {
            "color": "#636efa",
            "pattern": {
             "shape": ""
            }
           },
           "name": "Systems Engineering Methodologies and Applications",
           "orientation": "h",
           "showlegend": true,
           "textposition": "auto",
           "type": "bar",
           "x": {
            "bdata": "AQ==",
            "dtype": "i1"
           },
           "xaxis": "x",
           "y": [
            "Systems Engineering Methodologies and Applications"
           ],
           "yaxis": "y"
          }
         ],
         "name": "2017"
        },
        {
         "data": [
          {
           "hovertemplate": "topic=%{y}<br>year=2020<br>count=%{x}<extra></extra>",
           "legendgroup": "Mobile Crowdsensing and Crowdsourcing",
           "marker": {
            "color": "#FF6692",
            "pattern": {
             "shape": ""
            }
           },
           "name": "Mobile Crowdsensing and Crowdsourcing",
           "orientation": "h",
           "showlegend": true,
           "textposition": "auto",
           "type": "bar",
           "x": {
            "bdata": "AA==",
            "dtype": "i1"
           },
           "xaxis": "x",
           "y": [
            "Mobile Crowdsensing and Crowdsourcing"
           ],
           "yaxis": "y"
          },
          {
           "hovertemplate": "topic=%{y}<br>year=2020<br>count=%{x}<extra></extra>",
           "legendgroup": "Healthcare Technology and Patient Monitoring",
           "marker": {
            "color": "#EF553B",
            "pattern": {
             "shape": ""
            }
           },
           "name": "Healthcare Technology and Patient Monitoring",
           "orientation": "h",
           "showlegend": true,
           "textposition": "auto",
           "type": "bar",
           "x": {
            "bdata": "AA==",
            "dtype": "i1"
           },
           "xaxis": "x",
           "y": [
            "Healthcare Technology and Patient Monitoring"
           ],
           "yaxis": "y"
          },
          {
           "hovertemplate": "topic=%{y}<br>year=2020<br>count=%{x}<extra></extra>",
           "legendgroup": "Safety Systems Engineering in Autonomy",
           "marker": {
            "color": "#00cc96",
            "pattern": {
             "shape": ""
            }
           },
           "name": "Safety Systems Engineering in Autonomy",
           "orientation": "h",
           "showlegend": true,
           "textposition": "auto",
           "type": "bar",
           "x": {
            "bdata": "AA==",
            "dtype": "i1"
           },
           "xaxis": "x",
           "y": [
            "Safety Systems Engineering in Autonomy"
           ],
           "yaxis": "y"
          },
          {
           "hovertemplate": "topic=%{y}<br>year=2020<br>count=%{x}<extra></extra>",
           "legendgroup": "Real-Time Systems Scheduling",
           "marker": {
            "color": "#ab63fa",
            "pattern": {
             "shape": ""
            }
           },
           "name": "Real-Time Systems Scheduling",
           "orientation": "h",
           "showlegend": true,
           "textposition": "auto",
           "type": "bar",
           "x": {
            "bdata": "AA==",
            "dtype": "i1"
           },
           "xaxis": "x",
           "y": [
            "Real-Time Systems Scheduling"
           ],
           "yaxis": "y"
          },
          {
           "hovertemplate": "topic=%{y}<br>year=2020<br>count=%{x}<extra></extra>",
           "legendgroup": "Product Development and Customization",
           "marker": {
            "color": "#FFA15A",
            "pattern": {
             "shape": ""
            }
           },
           "name": "Product Development and Customization",
           "orientation": "h",
           "showlegend": true,
           "textposition": "auto",
           "type": "bar",
           "x": {
            "bdata": "AA==",
            "dtype": "i1"
           },
           "xaxis": "x",
           "y": [
            "Product Development and Customization"
           ],
           "yaxis": "y"
          },
          {
           "hovertemplate": "topic=%{y}<br>year=2020<br>count=%{x}<extra></extra>",
           "legendgroup": "Teleoperation and Haptic Systems",
           "marker": {
            "color": "#19d3f3",
            "pattern": {
             "shape": ""
            }
           },
           "name": "Teleoperation and Haptic Systems",
           "orientation": "h",
           "showlegend": true,
           "textposition": "auto",
           "type": "bar",
           "x": {
            "bdata": "AA==",
            "dtype": "i1"
           },
           "xaxis": "x",
           "y": [
            "Teleoperation and Haptic Systems"
           ],
           "yaxis": "y"
          },
          {
           "hovertemplate": "topic=%{y}<br>year=2020<br>count=%{x}<extra></extra>",
           "legendgroup": "Gaussian Processes and Bayesian Inference",
           "marker": {
            "color": "#FF6692",
            "pattern": {
             "shape": ""
            }
           },
           "name": "Gaussian Processes and Bayesian Inference",
           "orientation": "h",
           "showlegend": true,
           "textposition": "auto",
           "type": "bar",
           "x": {
            "bdata": "AA==",
            "dtype": "i1"
           },
           "xaxis": "x",
           "y": [
            "Gaussian Processes and Bayesian Inference"
           ],
           "yaxis": "y"
          },
          {
           "hovertemplate": "topic=%{y}<br>year=2020<br>count=%{x}<extra></extra>",
           "legendgroup": "Water Quality Monitoring Technologies",
           "marker": {
            "color": "#B6E880",
            "pattern": {
             "shape": ""
            }
           },
           "name": "Water Quality Monitoring Technologies",
           "orientation": "h",
           "showlegend": true,
           "textposition": "auto",
           "type": "bar",
           "x": {
            "bdata": "AA==",
            "dtype": "i1"
           },
           "xaxis": "x",
           "y": [
            "Water Quality Monitoring Technologies"
           ],
           "yaxis": "y"
          },
          {
           "hovertemplate": "topic=%{y}<br>year=2020<br>count=%{x}<extra></extra>",
           "legendgroup": "Metaheuristic Optimization Algorithms Research",
           "marker": {
            "color": "#FF97FF",
            "pattern": {
             "shape": ""
            }
           },
           "name": "Metaheuristic Optimization Algorithms Research",
           "orientation": "h",
           "showlegend": true,
           "textposition": "auto",
           "type": "bar",
           "x": {
            "bdata": "AA==",
            "dtype": "i1"
           },
           "xaxis": "x",
           "y": [
            "Metaheuristic Optimization Algorithms Research"
           ],
           "yaxis": "y"
          },
          {
           "hovertemplate": "topic=%{y}<br>year=2020<br>count=%{x}<extra></extra>",
           "legendgroup": "Voice and Speech Disorders",
           "marker": {
            "color": "#FECB52",
            "pattern": {
             "shape": ""
            }
           },
           "name": "Voice and Speech Disorders",
           "orientation": "h",
           "showlegend": true,
           "textposition": "auto",
           "type": "bar",
           "x": {
            "bdata": "AA==",
            "dtype": "i1"
           },
           "xaxis": "x",
           "y": [
            "Voice and Speech Disorders"
           ],
           "yaxis": "y"
          }
         ],
         "name": "2020"
        },
        {
         "data": [
          {
           "hovertemplate": "topic=%{y}<br>year=2022<br>count=%{x}<extra></extra>",
           "legendgroup": "Mobile Crowdsensing and Crowdsourcing",
           "marker": {
            "color": "#FF6692",
            "pattern": {
             "shape": ""
            }
           },
           "name": "Mobile Crowdsensing and Crowdsourcing",
           "orientation": "h",
           "showlegend": true,
           "textposition": "auto",
           "type": "bar",
           "x": {
            "bdata": "AA==",
            "dtype": "i1"
           },
           "xaxis": "x",
           "y": [
            "Mobile Crowdsensing and Crowdsourcing"
           ],
           "yaxis": "y"
          },
          {
           "hovertemplate": "topic=%{y}<br>year=2022<br>count=%{x}<extra></extra>",
           "legendgroup": "Healthcare Technology and Patient Monitoring",
           "marker": {
            "color": "#EF553B",
            "pattern": {
             "shape": ""
            }
           },
           "name": "Healthcare Technology and Patient Monitoring",
           "orientation": "h",
           "showlegend": true,
           "textposition": "auto",
           "type": "bar",
           "x": {
            "bdata": "AA==",
            "dtype": "i1"
           },
           "xaxis": "x",
           "y": [
            "Healthcare Technology and Patient Monitoring"
           ],
           "yaxis": "y"
          },
          {
           "hovertemplate": "topic=%{y}<br>year=2022<br>count=%{x}<extra></extra>",
           "legendgroup": "Safety Systems Engineering in Autonomy",
           "marker": {
            "color": "#00cc96",
            "pattern": {
             "shape": ""
            }
           },
           "name": "Safety Systems Engineering in Autonomy",
           "orientation": "h",
           "showlegend": true,
           "textposition": "auto",
           "type": "bar",
           "x": {
            "bdata": "AA==",
            "dtype": "i1"
           },
           "xaxis": "x",
           "y": [
            "Safety Systems Engineering in Autonomy"
           ],
           "yaxis": "y"
          },
          {
           "hovertemplate": "topic=%{y}<br>year=2022<br>count=%{x}<extra></extra>",
           "legendgroup": "Real-Time Systems Scheduling",
           "marker": {
            "color": "#ab63fa",
            "pattern": {
             "shape": ""
            }
           },
           "name": "Real-Time Systems Scheduling",
           "orientation": "h",
           "showlegend": true,
           "textposition": "auto",
           "type": "bar",
           "x": {
            "bdata": "AA==",
            "dtype": "i1"
           },
           "xaxis": "x",
           "y": [
            "Real-Time Systems Scheduling"
           ],
           "yaxis": "y"
          },
          {
           "hovertemplate": "topic=%{y}<br>year=2022<br>count=%{x}<extra></extra>",
           "legendgroup": "Product Development and Customization",
           "marker": {
            "color": "#FFA15A",
            "pattern": {
             "shape": ""
            }
           },
           "name": "Product Development and Customization",
           "orientation": "h",
           "showlegend": true,
           "textposition": "auto",
           "type": "bar",
           "x": {
            "bdata": "AA==",
            "dtype": "i1"
           },
           "xaxis": "x",
           "y": [
            "Product Development and Customization"
           ],
           "yaxis": "y"
          },
          {
           "hovertemplate": "topic=%{y}<br>year=2022<br>count=%{x}<extra></extra>",
           "legendgroup": "Teleoperation and Haptic Systems",
           "marker": {
            "color": "#19d3f3",
            "pattern": {
             "shape": ""
            }
           },
           "name": "Teleoperation and Haptic Systems",
           "orientation": "h",
           "showlegend": true,
           "textposition": "auto",
           "type": "bar",
           "x": {
            "bdata": "AA==",
            "dtype": "i1"
           },
           "xaxis": "x",
           "y": [
            "Teleoperation and Haptic Systems"
           ],
           "yaxis": "y"
          },
          {
           "hovertemplate": "topic=%{y}<br>year=2022<br>count=%{x}<extra></extra>",
           "legendgroup": "Gaussian Processes and Bayesian Inference",
           "marker": {
            "color": "#FF6692",
            "pattern": {
             "shape": ""
            }
           },
           "name": "Gaussian Processes and Bayesian Inference",
           "orientation": "h",
           "showlegend": true,
           "textposition": "auto",
           "type": "bar",
           "x": {
            "bdata": "AA==",
            "dtype": "i1"
           },
           "xaxis": "x",
           "y": [
            "Gaussian Processes and Bayesian Inference"
           ],
           "yaxis": "y"
          },
          {
           "hovertemplate": "topic=%{y}<br>year=2022<br>count=%{x}<extra></extra>",
           "legendgroup": "Water Quality Monitoring Technologies",
           "marker": {
            "color": "#B6E880",
            "pattern": {
             "shape": ""
            }
           },
           "name": "Water Quality Monitoring Technologies",
           "orientation": "h",
           "showlegend": true,
           "textposition": "auto",
           "type": "bar",
           "x": {
            "bdata": "AA==",
            "dtype": "i1"
           },
           "xaxis": "x",
           "y": [
            "Water Quality Monitoring Technologies"
           ],
           "yaxis": "y"
          },
          {
           "hovertemplate": "topic=%{y}<br>year=2022<br>count=%{x}<extra></extra>",
           "legendgroup": "Metaheuristic Optimization Algorithms Research",
           "marker": {
            "color": "#FF97FF",
            "pattern": {
             "shape": ""
            }
           },
           "name": "Metaheuristic Optimization Algorithms Research",
           "orientation": "h",
           "showlegend": true,
           "textposition": "auto",
           "type": "bar",
           "x": {
            "bdata": "AA==",
            "dtype": "i1"
           },
           "xaxis": "x",
           "y": [
            "Metaheuristic Optimization Algorithms Research"
           ],
           "yaxis": "y"
          },
          {
           "hovertemplate": "topic=%{y}<br>year=2022<br>count=%{x}<extra></extra>",
           "legendgroup": "Voice and Speech Disorders",
           "marker": {
            "color": "#FECB52",
            "pattern": {
             "shape": ""
            }
           },
           "name": "Voice and Speech Disorders",
           "orientation": "h",
           "showlegend": true,
           "textposition": "auto",
           "type": "bar",
           "x": {
            "bdata": "AA==",
            "dtype": "i1"
           },
           "xaxis": "x",
           "y": [
            "Voice and Speech Disorders"
           ],
           "yaxis": "y"
          }
         ],
         "name": "2022"
        },
        {
         "data": [
          {
           "hovertemplate": "topic=%{y}<br>year=2023<br>count=%{x}<extra></extra>",
           "legendgroup": "Mobile Crowdsensing and Crowdsourcing",
           "marker": {
            "color": "#FF6692",
            "pattern": {
             "shape": ""
            }
           },
           "name": "Mobile Crowdsensing and Crowdsourcing",
           "orientation": "h",
           "showlegend": true,
           "textposition": "auto",
           "type": "bar",
           "x": {
            "bdata": "AA==",
            "dtype": "i1"
           },
           "xaxis": "x",
           "y": [
            "Mobile Crowdsensing and Crowdsourcing"
           ],
           "yaxis": "y"
          },
          {
           "hovertemplate": "topic=%{y}<br>year=2023<br>count=%{x}<extra></extra>",
           "legendgroup": "Healthcare Technology and Patient Monitoring",
           "marker": {
            "color": "#EF553B",
            "pattern": {
             "shape": ""
            }
           },
           "name": "Healthcare Technology and Patient Monitoring",
           "orientation": "h",
           "showlegend": true,
           "textposition": "auto",
           "type": "bar",
           "x": {
            "bdata": "AA==",
            "dtype": "i1"
           },
           "xaxis": "x",
           "y": [
            "Healthcare Technology and Patient Monitoring"
           ],
           "yaxis": "y"
          },
          {
           "hovertemplate": "topic=%{y}<br>year=2023<br>count=%{x}<extra></extra>",
           "legendgroup": "Safety Systems Engineering in Autonomy",
           "marker": {
            "color": "#00cc96",
            "pattern": {
             "shape": ""
            }
           },
           "name": "Safety Systems Engineering in Autonomy",
           "orientation": "h",
           "showlegend": true,
           "textposition": "auto",
           "type": "bar",
           "x": {
            "bdata": "AA==",
            "dtype": "i1"
           },
           "xaxis": "x",
           "y": [
            "Safety Systems Engineering in Autonomy"
           ],
           "yaxis": "y"
          },
          {
           "hovertemplate": "topic=%{y}<br>year=2023<br>count=%{x}<extra></extra>",
           "legendgroup": "Real-Time Systems Scheduling",
           "marker": {
            "color": "#ab63fa",
            "pattern": {
             "shape": ""
            }
           },
           "name": "Real-Time Systems Scheduling",
           "orientation": "h",
           "showlegend": true,
           "textposition": "auto",
           "type": "bar",
           "x": {
            "bdata": "AA==",
            "dtype": "i1"
           },
           "xaxis": "x",
           "y": [
            "Real-Time Systems Scheduling"
           ],
           "yaxis": "y"
          },
          {
           "hovertemplate": "topic=%{y}<br>year=2023<br>count=%{x}<extra></extra>",
           "legendgroup": "Product Development and Customization",
           "marker": {
            "color": "#FFA15A",
            "pattern": {
             "shape": ""
            }
           },
           "name": "Product Development and Customization",
           "orientation": "h",
           "showlegend": true,
           "textposition": "auto",
           "type": "bar",
           "x": {
            "bdata": "AA==",
            "dtype": "i1"
           },
           "xaxis": "x",
           "y": [
            "Product Development and Customization"
           ],
           "yaxis": "y"
          },
          {
           "hovertemplate": "topic=%{y}<br>year=2023<br>count=%{x}<extra></extra>",
           "legendgroup": "Teleoperation and Haptic Systems",
           "marker": {
            "color": "#19d3f3",
            "pattern": {
             "shape": ""
            }
           },
           "name": "Teleoperation and Haptic Systems",
           "orientation": "h",
           "showlegend": true,
           "textposition": "auto",
           "type": "bar",
           "x": {
            "bdata": "AA==",
            "dtype": "i1"
           },
           "xaxis": "x",
           "y": [
            "Teleoperation and Haptic Systems"
           ],
           "yaxis": "y"
          },
          {
           "hovertemplate": "topic=%{y}<br>year=2023<br>count=%{x}<extra></extra>",
           "legendgroup": "Gaussian Processes and Bayesian Inference",
           "marker": {
            "color": "#FF6692",
            "pattern": {
             "shape": ""
            }
           },
           "name": "Gaussian Processes and Bayesian Inference",
           "orientation": "h",
           "showlegend": true,
           "textposition": "auto",
           "type": "bar",
           "x": {
            "bdata": "AA==",
            "dtype": "i1"
           },
           "xaxis": "x",
           "y": [
            "Gaussian Processes and Bayesian Inference"
           ],
           "yaxis": "y"
          },
          {
           "hovertemplate": "topic=%{y}<br>year=2023<br>count=%{x}<extra></extra>",
           "legendgroup": "Water Quality Monitoring Technologies",
           "marker": {
            "color": "#B6E880",
            "pattern": {
             "shape": ""
            }
           },
           "name": "Water Quality Monitoring Technologies",
           "orientation": "h",
           "showlegend": true,
           "textposition": "auto",
           "type": "bar",
           "x": {
            "bdata": "AA==",
            "dtype": "i1"
           },
           "xaxis": "x",
           "y": [
            "Water Quality Monitoring Technologies"
           ],
           "yaxis": "y"
          },
          {
           "hovertemplate": "topic=%{y}<br>year=2023<br>count=%{x}<extra></extra>",
           "legendgroup": "Metaheuristic Optimization Algorithms Research",
           "marker": {
            "color": "#FF97FF",
            "pattern": {
             "shape": ""
            }
           },
           "name": "Metaheuristic Optimization Algorithms Research",
           "orientation": "h",
           "showlegend": true,
           "textposition": "auto",
           "type": "bar",
           "x": {
            "bdata": "AA==",
            "dtype": "i1"
           },
           "xaxis": "x",
           "y": [
            "Metaheuristic Optimization Algorithms Research"
           ],
           "yaxis": "y"
          },
          {
           "hovertemplate": "topic=%{y}<br>year=2023<br>count=%{x}<extra></extra>",
           "legendgroup": "Voice and Speech Disorders",
           "marker": {
            "color": "#FECB52",
            "pattern": {
             "shape": ""
            }
           },
           "name": "Voice and Speech Disorders",
           "orientation": "h",
           "showlegend": true,
           "textposition": "auto",
           "type": "bar",
           "x": {
            "bdata": "AA==",
            "dtype": "i1"
           },
           "xaxis": "x",
           "y": [
            "Voice and Speech Disorders"
           ],
           "yaxis": "y"
          }
         ],
         "name": "2023"
        },
        {
         "data": [
          {
           "hovertemplate": "topic=%{y}<br>year=2024<br>count=%{x}<extra></extra>",
           "legendgroup": "AI-based Problem Solving and Planning",
           "marker": {
            "color": "#00cc96",
            "pattern": {
             "shape": ""
            }
           },
           "name": "AI-based Problem Solving and Planning",
           "orientation": "h",
           "showlegend": true,
           "textposition": "auto",
           "type": "bar",
           "x": {
            "bdata": "BQ==",
            "dtype": "i1"
           },
           "xaxis": "x",
           "y": [
            "AI-based Problem Solving and Planning"
           ],
           "yaxis": "y"
          },
          {
           "hovertemplate": "topic=%{y}<br>year=2024<br>count=%{x}<extra></extra>",
           "legendgroup": "Bayesian Modeling and Causal Inference",
           "marker": {
            "color": "#FF6692",
            "pattern": {
             "shape": ""
            }
           },
           "name": "Bayesian Modeling and Causal Inference",
           "orientation": "h",
           "showlegend": true,
           "textposition": "auto",
           "type": "bar",
           "x": {
            "bdata": "BQ==",
            "dtype": "i1"
           },
           "xaxis": "x",
           "y": [
            "Bayesian Modeling and Causal Inference"
           ],
           "yaxis": "y"
          },
          {
           "hovertemplate": "topic=%{y}<br>year=2024<br>count=%{x}<extra></extra>",
           "legendgroup": "Topic Modeling",
           "marker": {
            "color": "#FF6692",
            "pattern": {
             "shape": ""
            }
           },
           "name": "Topic Modeling",
           "orientation": "h",
           "showlegend": true,
           "textposition": "auto",
           "type": "bar",
           "x": {
            "bdata": "CQ==",
            "dtype": "i1"
           },
           "xaxis": "x",
           "y": [
            "Topic Modeling"
           ],
           "yaxis": "y"
          },
          {
           "hovertemplate": "topic=%{y}<br>year=2024<br>count=%{x}<extra></extra>",
           "legendgroup": "Machine Learning and Data Classification",
           "marker": {
            "color": "#EF553B",
            "pattern": {
             "shape": ""
            }
           },
           "name": "Machine Learning and Data Classification",
           "orientation": "h",
           "showlegend": true,
           "textposition": "auto",
           "type": "bar",
           "x": {
            "bdata": "Bg==",
            "dtype": "i1"
           },
           "xaxis": "x",
           "y": [
            "Machine Learning and Data Classification"
           ],
           "yaxis": "y"
          },
          {
           "hovertemplate": "topic=%{y}<br>year=2024<br>count=%{x}<extra></extra>",
           "legendgroup": "Machine Learning in Healthcare",
           "marker": {
            "color": "#FF97FF",
            "pattern": {
             "shape": ""
            }
           },
           "name": "Machine Learning in Healthcare",
           "orientation": "h",
           "showlegend": true,
           "textposition": "auto",
           "type": "bar",
           "x": {
            "bdata": "Bg==",
            "dtype": "i1"
           },
           "xaxis": "x",
           "y": [
            "Machine Learning in Healthcare"
           ],
           "yaxis": "y"
          },
          {
           "hovertemplate": "topic=%{y}<br>year=2024<br>count=%{x}<extra></extra>",
           "legendgroup": "Explainable Artificial Intelligence (XAI)",
           "marker": {
            "color": "#636efa",
            "pattern": {
             "shape": ""
            }
           },
           "name": "Explainable Artificial Intelligence (XAI)",
           "orientation": "h",
           "showlegend": true,
           "textposition": "auto",
           "type": "bar",
           "x": {
            "bdata": "Fg==",
            "dtype": "i1"
           },
           "xaxis": "x",
           "y": [
            "Explainable Artificial Intelligence (XAI)"
           ],
           "yaxis": "y"
          },
          {
           "hovertemplate": "topic=%{y}<br>year=2024<br>count=%{x}<extra></extra>",
           "legendgroup": "Smart Grid Energy Management",
           "marker": {
            "color": "#EF553B",
            "pattern": {
             "shape": ""
            }
           },
           "name": "Smart Grid Energy Management",
           "orientation": "h",
           "showlegend": true,
           "textposition": "auto",
           "type": "bar",
           "x": {
            "bdata": "Bw==",
            "dtype": "i1"
           },
           "xaxis": "x",
           "y": [
            "Smart Grid Energy Management"
           ],
           "yaxis": "y"
          },
          {
           "hovertemplate": "topic=%{y}<br>year=2024<br>count=%{x}<extra></extra>",
           "legendgroup": "Ethics and Social Impacts of AI",
           "marker": {
            "color": "#00cc96",
            "pattern": {
             "shape": ""
            }
           },
           "name": "Ethics and Social Impacts of AI",
           "orientation": "h",
           "showlegend": true,
           "textposition": "auto",
           "type": "bar",
           "x": {
            "bdata": "Bg==",
            "dtype": "i1"
           },
           "xaxis": "x",
           "y": [
            "Ethics and Social Impacts of AI"
           ],
           "yaxis": "y"
          },
          {
           "hovertemplate": "topic=%{y}<br>year=2024<br>count=%{x}<extra></extra>",
           "legendgroup": "Artificial Intelligence in Healthcare and Education",
           "marker": {
            "color": "#ab63fa",
            "pattern": {
             "shape": ""
            }
           },
           "name": "Artificial Intelligence in Healthcare and Education",
           "orientation": "h",
           "showlegend": true,
           "textposition": "auto",
           "type": "bar",
           "x": {
            "bdata": "BQ==",
            "dtype": "i1"
           },
           "xaxis": "x",
           "y": [
            "Artificial Intelligence in Healthcare and Education"
           ],
           "yaxis": "y"
          },
          {
           "hovertemplate": "topic=%{y}<br>year=2024<br>count=%{x}<extra></extra>",
           "legendgroup": "Software Engineering Research",
           "marker": {
            "color": "#FFA15A",
            "pattern": {
             "shape": ""
            }
           },
           "name": "Software Engineering Research",
           "orientation": "h",
           "showlegend": true,
           "textposition": "auto",
           "type": "bar",
           "x": {
            "bdata": "BQ==",
            "dtype": "i1"
           },
           "xaxis": "x",
           "y": [
            "Software Engineering Research"
           ],
           "yaxis": "y"
          }
         ],
         "name": "2024"
        }
       ],
       "layout": {
        "barmode": "relative",
        "legend": {
         "title": {
          "text": "topic"
         },
         "tracegroupgap": 0
        },
        "showlegend": false,
        "sliders": [
         {
          "active": 0,
          "currentvalue": {
           "prefix": "year="
          },
          "len": 0.9,
          "pad": {
           "b": 10,
           "t": 60
          },
          "steps": [
           {
            "args": [
             [
              "1994"
             ],
             {
              "frame": {
               "duration": 0,
               "redraw": true
              },
              "fromcurrent": true,
              "mode": "immediate",
              "transition": {
               "duration": 0,
               "easing": "linear"
              }
             }
            ],
            "label": "1994",
            "method": "animate"
           },
           {
            "args": [
             [
              "1995"
             ],
             {
              "frame": {
               "duration": 0,
               "redraw": true
              },
              "fromcurrent": true,
              "mode": "immediate",
              "transition": {
               "duration": 0,
               "easing": "linear"
              }
             }
            ],
            "label": "1995",
            "method": "animate"
           },
           {
            "args": [
             [
              "1997"
             ],
             {
              "frame": {
               "duration": 0,
               "redraw": true
              },
              "fromcurrent": true,
              "mode": "immediate",
              "transition": {
               "duration": 0,
               "easing": "linear"
              }
             }
            ],
            "label": "1997",
            "method": "animate"
           },
           {
            "args": [
             [
              "2001"
             ],
             {
              "frame": {
               "duration": 0,
               "redraw": true
              },
              "fromcurrent": true,
              "mode": "immediate",
              "transition": {
               "duration": 0,
               "easing": "linear"
              }
             }
            ],
            "label": "2001",
            "method": "animate"
           },
           {
            "args": [
             [
              "2007"
             ],
             {
              "frame": {
               "duration": 0,
               "redraw": true
              },
              "fromcurrent": true,
              "mode": "immediate",
              "transition": {
               "duration": 0,
               "easing": "linear"
              }
             }
            ],
            "label": "2007",
            "method": "animate"
           },
           {
            "args": [
             [
              "2008"
             ],
             {
              "frame": {
               "duration": 0,
               "redraw": true
              },
              "fromcurrent": true,
              "mode": "immediate",
              "transition": {
               "duration": 0,
               "easing": "linear"
              }
             }
            ],
            "label": "2008",
            "method": "animate"
           },
           {
            "args": [
             [
              "2009"
             ],
             {
              "frame": {
               "duration": 0,
               "redraw": true
              },
              "fromcurrent": true,
              "mode": "immediate",
              "transition": {
               "duration": 0,
               "easing": "linear"
              }
             }
            ],
            "label": "2009",
            "method": "animate"
           },
           {
            "args": [
             [
              "2010"
             ],
             {
              "frame": {
               "duration": 0,
               "redraw": true
              },
              "fromcurrent": true,
              "mode": "immediate",
              "transition": {
               "duration": 0,
               "easing": "linear"
              }
             }
            ],
            "label": "2010",
            "method": "animate"
           },
           {
            "args": [
             [
              "2011"
             ],
             {
              "frame": {
               "duration": 0,
               "redraw": true
              },
              "fromcurrent": true,
              "mode": "immediate",
              "transition": {
               "duration": 0,
               "easing": "linear"
              }
             }
            ],
            "label": "2011",
            "method": "animate"
           },
           {
            "args": [
             [
              "2012"
             ],
             {
              "frame": {
               "duration": 0,
               "redraw": true
              },
              "fromcurrent": true,
              "mode": "immediate",
              "transition": {
               "duration": 0,
               "easing": "linear"
              }
             }
            ],
            "label": "2012",
            "method": "animate"
           },
           {
            "args": [
             [
              "2014"
             ],
             {
              "frame": {
               "duration": 0,
               "redraw": true
              },
              "fromcurrent": true,
              "mode": "immediate",
              "transition": {
               "duration": 0,
               "easing": "linear"
              }
             }
            ],
            "label": "2014",
            "method": "animate"
           },
           {
            "args": [
             [
              "2016"
             ],
             {
              "frame": {
               "duration": 0,
               "redraw": true
              },
              "fromcurrent": true,
              "mode": "immediate",
              "transition": {
               "duration": 0,
               "easing": "linear"
              }
             }
            ],
            "label": "2016",
            "method": "animate"
           },
           {
            "args": [
             [
              "2017"
             ],
             {
              "frame": {
               "duration": 0,
               "redraw": true
              },
              "fromcurrent": true,
              "mode": "immediate",
              "transition": {
               "duration": 0,
               "easing": "linear"
              }
             }
            ],
            "label": "2017",
            "method": "animate"
           },
           {
            "args": [
             [
              "2020"
             ],
             {
              "frame": {
               "duration": 0,
               "redraw": true
              },
              "fromcurrent": true,
              "mode": "immediate",
              "transition": {
               "duration": 0,
               "easing": "linear"
              }
             }
            ],
            "label": "2020",
            "method": "animate"
           },
           {
            "args": [
             [
              "2022"
             ],
             {
              "frame": {
               "duration": 0,
               "redraw": true
              },
              "fromcurrent": true,
              "mode": "immediate",
              "transition": {
               "duration": 0,
               "easing": "linear"
              }
             }
            ],
            "label": "2022",
            "method": "animate"
           },
           {
            "args": [
             [
              "2023"
             ],
             {
              "frame": {
               "duration": 0,
               "redraw": true
              },
              "fromcurrent": true,
              "mode": "immediate",
              "transition": {
               "duration": 0,
               "easing": "linear"
              }
             }
            ],
            "label": "2023",
            "method": "animate"
           },
           {
            "args": [
             [
              "2024"
             ],
             {
              "frame": {
               "duration": 0,
               "redraw": true
              },
              "fromcurrent": true,
              "mode": "immediate",
              "transition": {
               "duration": 0,
               "easing": "linear"
              }
             }
            ],
            "label": "2024",
            "method": "animate"
           }
          ],
          "x": 0.1,
          "xanchor": "left",
          "y": 0,
          "yanchor": "top"
         }
        ],
        "template": {
         "data": {
          "bar": [
           {
            "error_x": {
             "color": "#2a3f5f"
            },
            "error_y": {
             "color": "#2a3f5f"
            },
            "marker": {
             "line": {
              "color": "#E5ECF6",
              "width": 0.5
             },
             "pattern": {
              "fillmode": "overlay",
              "size": 10,
              "solidity": 0.2
             }
            },
            "type": "bar"
           }
          ],
          "barpolar": [
           {
            "marker": {
             "line": {
              "color": "#E5ECF6",
              "width": 0.5
             },
             "pattern": {
              "fillmode": "overlay",
              "size": 10,
              "solidity": 0.2
             }
            },
            "type": "barpolar"
           }
          ],
          "carpet": [
           {
            "aaxis": {
             "endlinecolor": "#2a3f5f",
             "gridcolor": "white",
             "linecolor": "white",
             "minorgridcolor": "white",
             "startlinecolor": "#2a3f5f"
            },
            "baxis": {
             "endlinecolor": "#2a3f5f",
             "gridcolor": "white",
             "linecolor": "white",
             "minorgridcolor": "white",
             "startlinecolor": "#2a3f5f"
            },
            "type": "carpet"
           }
          ],
          "choropleth": [
           {
            "colorbar": {
             "outlinewidth": 0,
             "ticks": ""
            },
            "type": "choropleth"
           }
          ],
          "contour": [
           {
            "colorbar": {
             "outlinewidth": 0,
             "ticks": ""
            },
            "colorscale": [
             [
              0,
              "#0d0887"
             ],
             [
              0.1111111111111111,
              "#46039f"
             ],
             [
              0.2222222222222222,
              "#7201a8"
             ],
             [
              0.3333333333333333,
              "#9c179e"
             ],
             [
              0.4444444444444444,
              "#bd3786"
             ],
             [
              0.5555555555555556,
              "#d8576b"
             ],
             [
              0.6666666666666666,
              "#ed7953"
             ],
             [
              0.7777777777777778,
              "#fb9f3a"
             ],
             [
              0.8888888888888888,
              "#fdca26"
             ],
             [
              1,
              "#f0f921"
             ]
            ],
            "type": "contour"
           }
          ],
          "contourcarpet": [
           {
            "colorbar": {
             "outlinewidth": 0,
             "ticks": ""
            },
            "type": "contourcarpet"
           }
          ],
          "heatmap": [
           {
            "colorbar": {
             "outlinewidth": 0,
             "ticks": ""
            },
            "colorscale": [
             [
              0,
              "#0d0887"
             ],
             [
              0.1111111111111111,
              "#46039f"
             ],
             [
              0.2222222222222222,
              "#7201a8"
             ],
             [
              0.3333333333333333,
              "#9c179e"
             ],
             [
              0.4444444444444444,
              "#bd3786"
             ],
             [
              0.5555555555555556,
              "#d8576b"
             ],
             [
              0.6666666666666666,
              "#ed7953"
             ],
             [
              0.7777777777777778,
              "#fb9f3a"
             ],
             [
              0.8888888888888888,
              "#fdca26"
             ],
             [
              1,
              "#f0f921"
             ]
            ],
            "type": "heatmap"
           }
          ],
          "histogram": [
           {
            "marker": {
             "pattern": {
              "fillmode": "overlay",
              "size": 10,
              "solidity": 0.2
             }
            },
            "type": "histogram"
           }
          ],
          "histogram2d": [
           {
            "colorbar": {
             "outlinewidth": 0,
             "ticks": ""
            },
            "colorscale": [
             [
              0,
              "#0d0887"
             ],
             [
              0.1111111111111111,
              "#46039f"
             ],
             [
              0.2222222222222222,
              "#7201a8"
             ],
             [
              0.3333333333333333,
              "#9c179e"
             ],
             [
              0.4444444444444444,
              "#bd3786"
             ],
             [
              0.5555555555555556,
              "#d8576b"
             ],
             [
              0.6666666666666666,
              "#ed7953"
             ],
             [
              0.7777777777777778,
              "#fb9f3a"
             ],
             [
              0.8888888888888888,
              "#fdca26"
             ],
             [
              1,
              "#f0f921"
             ]
            ],
            "type": "histogram2d"
           }
          ],
          "histogram2dcontour": [
           {
            "colorbar": {
             "outlinewidth": 0,
             "ticks": ""
            },
            "colorscale": [
             [
              0,
              "#0d0887"
             ],
             [
              0.1111111111111111,
              "#46039f"
             ],
             [
              0.2222222222222222,
              "#7201a8"
             ],
             [
              0.3333333333333333,
              "#9c179e"
             ],
             [
              0.4444444444444444,
              "#bd3786"
             ],
             [
              0.5555555555555556,
              "#d8576b"
             ],
             [
              0.6666666666666666,
              "#ed7953"
             ],
             [
              0.7777777777777778,
              "#fb9f3a"
             ],
             [
              0.8888888888888888,
              "#fdca26"
             ],
             [
              1,
              "#f0f921"
             ]
            ],
            "type": "histogram2dcontour"
           }
          ],
          "mesh3d": [
           {
            "colorbar": {
             "outlinewidth": 0,
             "ticks": ""
            },
            "type": "mesh3d"
           }
          ],
          "parcoords": [
           {
            "line": {
             "colorbar": {
              "outlinewidth": 0,
              "ticks": ""
             }
            },
            "type": "parcoords"
           }
          ],
          "pie": [
           {
            "automargin": true,
            "type": "pie"
           }
          ],
          "scatter": [
           {
            "fillpattern": {
             "fillmode": "overlay",
             "size": 10,
             "solidity": 0.2
            },
            "type": "scatter"
           }
          ],
          "scatter3d": [
           {
            "line": {
             "colorbar": {
              "outlinewidth": 0,
              "ticks": ""
             }
            },
            "marker": {
             "colorbar": {
              "outlinewidth": 0,
              "ticks": ""
             }
            },
            "type": "scatter3d"
           }
          ],
          "scattercarpet": [
           {
            "marker": {
             "colorbar": {
              "outlinewidth": 0,
              "ticks": ""
             }
            },
            "type": "scattercarpet"
           }
          ],
          "scattergeo": [
           {
            "marker": {
             "colorbar": {
              "outlinewidth": 0,
              "ticks": ""
             }
            },
            "type": "scattergeo"
           }
          ],
          "scattergl": [
           {
            "marker": {
             "colorbar": {
              "outlinewidth": 0,
              "ticks": ""
             }
            },
            "type": "scattergl"
           }
          ],
          "scattermap": [
           {
            "marker": {
             "colorbar": {
              "outlinewidth": 0,
              "ticks": ""
             }
            },
            "type": "scattermap"
           }
          ],
          "scattermapbox": [
           {
            "marker": {
             "colorbar": {
              "outlinewidth": 0,
              "ticks": ""
             }
            },
            "type": "scattermapbox"
           }
          ],
          "scatterpolar": [
           {
            "marker": {
             "colorbar": {
              "outlinewidth": 0,
              "ticks": ""
             }
            },
            "type": "scatterpolar"
           }
          ],
          "scatterpolargl": [
           {
            "marker": {
             "colorbar": {
              "outlinewidth": 0,
              "ticks": ""
             }
            },
            "type": "scatterpolargl"
           }
          ],
          "scatterternary": [
           {
            "marker": {
             "colorbar": {
              "outlinewidth": 0,
              "ticks": ""
             }
            },
            "type": "scatterternary"
           }
          ],
          "surface": [
           {
            "colorbar": {
             "outlinewidth": 0,
             "ticks": ""
            },
            "colorscale": [
             [
              0,
              "#0d0887"
             ],
             [
              0.1111111111111111,
              "#46039f"
             ],
             [
              0.2222222222222222,
              "#7201a8"
             ],
             [
              0.3333333333333333,
              "#9c179e"
             ],
             [
              0.4444444444444444,
              "#bd3786"
             ],
             [
              0.5555555555555556,
              "#d8576b"
             ],
             [
              0.6666666666666666,
              "#ed7953"
             ],
             [
              0.7777777777777778,
              "#fb9f3a"
             ],
             [
              0.8888888888888888,
              "#fdca26"
             ],
             [
              1,
              "#f0f921"
             ]
            ],
            "type": "surface"
           }
          ],
          "table": [
           {
            "cells": {
             "fill": {
              "color": "#EBF0F8"
             },
             "line": {
              "color": "white"
             }
            },
            "header": {
             "fill": {
              "color": "#C8D4E3"
             },
             "line": {
              "color": "white"
             }
            },
            "type": "table"
           }
          ]
         },
         "layout": {
          "annotationdefaults": {
           "arrowcolor": "#2a3f5f",
           "arrowhead": 0,
           "arrowwidth": 1
          },
          "autotypenumbers": "strict",
          "coloraxis": {
           "colorbar": {
            "outlinewidth": 0,
            "ticks": ""
           }
          },
          "colorscale": {
           "diverging": [
            [
             0,
             "#8e0152"
            ],
            [
             0.1,
             "#c51b7d"
            ],
            [
             0.2,
             "#de77ae"
            ],
            [
             0.3,
             "#f1b6da"
            ],
            [
             0.4,
             "#fde0ef"
            ],
            [
             0.5,
             "#f7f7f7"
            ],
            [
             0.6,
             "#e6f5d0"
            ],
            [
             0.7,
             "#b8e186"
            ],
            [
             0.8,
             "#7fbc41"
            ],
            [
             0.9,
             "#4d9221"
            ],
            [
             1,
             "#276419"
            ]
           ],
           "sequential": [
            [
             0,
             "#0d0887"
            ],
            [
             0.1111111111111111,
             "#46039f"
            ],
            [
             0.2222222222222222,
             "#7201a8"
            ],
            [
             0.3333333333333333,
             "#9c179e"
            ],
            [
             0.4444444444444444,
             "#bd3786"
            ],
            [
             0.5555555555555556,
             "#d8576b"
            ],
            [
             0.6666666666666666,
             "#ed7953"
            ],
            [
             0.7777777777777778,
             "#fb9f3a"
            ],
            [
             0.8888888888888888,
             "#fdca26"
            ],
            [
             1,
             "#f0f921"
            ]
           ],
           "sequentialminus": [
            [
             0,
             "#0d0887"
            ],
            [
             0.1111111111111111,
             "#46039f"
            ],
            [
             0.2222222222222222,
             "#7201a8"
            ],
            [
             0.3333333333333333,
             "#9c179e"
            ],
            [
             0.4444444444444444,
             "#bd3786"
            ],
            [
             0.5555555555555556,
             "#d8576b"
            ],
            [
             0.6666666666666666,
             "#ed7953"
            ],
            [
             0.7777777777777778,
             "#fb9f3a"
            ],
            [
             0.8888888888888888,
             "#fdca26"
            ],
            [
             1,
             "#f0f921"
            ]
           ]
          },
          "colorway": [
           "#636efa",
           "#EF553B",
           "#00cc96",
           "#ab63fa",
           "#FFA15A",
           "#19d3f3",
           "#FF6692",
           "#B6E880",
           "#FF97FF",
           "#FECB52"
          ],
          "font": {
           "color": "#2a3f5f"
          },
          "geo": {
           "bgcolor": "white",
           "lakecolor": "white",
           "landcolor": "#E5ECF6",
           "showlakes": true,
           "showland": true,
           "subunitcolor": "white"
          },
          "hoverlabel": {
           "align": "left"
          },
          "hovermode": "closest",
          "mapbox": {
           "style": "light"
          },
          "paper_bgcolor": "white",
          "plot_bgcolor": "#E5ECF6",
          "polar": {
           "angularaxis": {
            "gridcolor": "white",
            "linecolor": "white",
            "ticks": ""
           },
           "bgcolor": "#E5ECF6",
           "radialaxis": {
            "gridcolor": "white",
            "linecolor": "white",
            "ticks": ""
           }
          },
          "scene": {
           "xaxis": {
            "backgroundcolor": "#E5ECF6",
            "gridcolor": "white",
            "gridwidth": 2,
            "linecolor": "white",
            "showbackground": true,
            "ticks": "",
            "zerolinecolor": "white"
           },
           "yaxis": {
            "backgroundcolor": "#E5ECF6",
            "gridcolor": "white",
            "gridwidth": 2,
            "linecolor": "white",
            "showbackground": true,
            "ticks": "",
            "zerolinecolor": "white"
           },
           "zaxis": {
            "backgroundcolor": "#E5ECF6",
            "gridcolor": "white",
            "gridwidth": 2,
            "linecolor": "white",
            "showbackground": true,
            "ticks": "",
            "zerolinecolor": "white"
           }
          },
          "shapedefaults": {
           "line": {
            "color": "#2a3f5f"
           }
          },
          "ternary": {
           "aaxis": {
            "gridcolor": "white",
            "linecolor": "white",
            "ticks": ""
           },
           "baxis": {
            "gridcolor": "white",
            "linecolor": "white",
            "ticks": ""
           },
           "bgcolor": "#E5ECF6",
           "caxis": {
            "gridcolor": "white",
            "linecolor": "white",
            "ticks": ""
           }
          },
          "title": {
           "x": 0.05
          },
          "xaxis": {
           "automargin": true,
           "gridcolor": "white",
           "linecolor": "white",
           "ticks": "",
           "title": {
            "standoff": 15
           },
           "zerolinecolor": "white",
           "zerolinewidth": 2
          },
          "yaxis": {
           "automargin": true,
           "gridcolor": "white",
           "linecolor": "white",
           "ticks": "",
           "title": {
            "standoff": 15
           },
           "zerolinecolor": "white",
           "zerolinewidth": 2
          }
         }
        },
        "title": {
         "text": "Top 10 Topic Counts per Year"
        },
        "updatemenus": [
         {
          "buttons": [
           {
            "args": [
             null,
             {
              "frame": {
               "duration": 500,
               "redraw": true
              },
              "fromcurrent": true,
              "mode": "immediate",
              "transition": {
               "duration": 500,
               "easing": "linear"
              }
             }
            ],
            "label": "&#9654;",
            "method": "animate"
           },
           {
            "args": [
             [
              null
             ],
             {
              "frame": {
               "duration": 0,
               "redraw": true
              },
              "fromcurrent": true,
              "mode": "immediate",
              "transition": {
               "duration": 0,
               "easing": "linear"
              }
             }
            ],
            "label": "&#9724;",
            "method": "animate"
           }
          ],
          "direction": "left",
          "pad": {
           "r": 10,
           "t": 70
          },
          "showactive": false,
          "type": "buttons",
          "x": 0.1,
          "xanchor": "right",
          "y": 0,
          "yanchor": "top"
         }
        ],
        "xaxis": {
         "anchor": "y",
         "domain": [
          0,
          1
         ],
         "range": [
          0,
          74
         ],
         "title": {
          "text": "Occurrences"
         }
        },
        "yaxis": {
         "anchor": "x",
         "categoryarray": [
          "Software Engineering Research",
          "Artificial Intelligence in Healthcare and Education",
          "Ethics and Social Impacts of AI",
          "Smart Grid Energy Management",
          "Explainable Artificial Intelligence (XAI)",
          "Voice and Speech Disorders",
          "Metaheuristic Optimization Algorithms Research",
          "Water Quality Monitoring Technologies",
          "Gaussian Processes and Bayesian Inference",
          "Teleoperation and Haptic Systems",
          "Product Development and Customization",
          "Real-Time Systems Scheduling",
          "Safety Systems Engineering in Autonomy",
          "Healthcare Technology and Patient Monitoring",
          "Systems Engineering Methodologies and Applications",
          "Internet Traffic Analysis and Secure E-voting",
          "Modular Robots and Swarm Intelligence",
          "Cultural Differences and Values",
          "Mobile Crowdsensing and Crowdsourcing",
          "Advanced Database Systems and Queries",
          "Data Mining Algorithms and Applications",
          "Renal function and acid-base balance",
          "Data Quality and Management",
          "Game Theory and Voting Systems",
          "Data Management and Algorithms",
          "QoS-Aware Web Services Composition and Semantic Matching",
          "Machine Learning in Healthcare",
          "Distributed and Parallel Computing Systems",
          "Big Data and Business Intelligence",
          "Dementia and Cognitive Impairment Research",
          "Clinical practice guidelines implementation",
          "Electronic Health Records Systems",
          "Biomedical Text Mining and Ontologies",
          "Machine Learning and Data Classification",
          "Formal Methods in Verification",
          "Mental Health Research Topics",
          "Peer-to-Peer Network Technologies",
          "Game Theory and Applications",
          "Complex Systems and Decision Making",
          "Access Control and Trust",
          "Auction Theory and Applications",
          "Business Process Modeling and Analysis",
          "Optimization and Search Problems",
          "Distributed Multi-Agent Coordination and Control",
          "Vehicle Routing Optimization Methods",
          "Language and cultural evolution",
          "Evolutionary Algorithms and Applications",
          "Reinforcement Learning in Robotics",
          "Topic Modeling",
          "Speech and dialogue systems",
          "Evolutionary Game Theory and Cooperation",
          "Computability, Logic, AI Algorithms",
          "Educational Games and Gamification",
          "Robotic Path Planning Algorithms",
          "Mobile Agent-Based Network Management",
          "Natural Language Processing Techniques",
          "Machine Learning and Algorithms",
          "Multi-Agent Systems and Negotiation",
          "Bayesian Modeling and Causal Inference",
          "Distributed Constraint Optimization Problems and Algorithms",
          "Advanced Algebra and Logic",
          "Logic, programming, and type systems",
          "AI-based Problem Solving and Planning",
          "Semantic Web and Ontologies",
          "Logic, Reasoning, and Knowledge"
         ],
         "categoryorder": "total ascending",
         "domain": [
          0,
          1
         ],
         "title": {
          "text": "Topic"
         }
        }
       }
      }
     },
     "metadata": {},
     "output_type": "display_data"
    }
   ],
   "source": [
    "from pathlib import Path\n",
    "from io import BytesIO\n",
    "import json\n",
    "import pandas as pd\n",
    "import plotly.express as px\n",
    "import imageio.v2 as imageio\n",
    "\n",
    "try:\n",
    "    base_dir\n",
    "except NameError:\n",
    "    base_dir = Path.cwd()\n",
    "\n",
    "with open(base_dir / \"Data/topic_year_counts.json\", \"r\", encoding=\"utf-8\") as f:\n",
    "    topic_counts = json.load(f)\n",
    "\n",
    "with open(base_dir / \"Data/topic_label.json\", \"r\", encoding=\"utf-8\") as f:\n",
    "    topic_code_to_name = json.load(f)\n",
    "\n",
    "rows = []\n",
    "for year, topics in topic_counts.items():\n",
    "    sorted_topics = sorted(\n",
    "        (\n",
    "            {\n",
    "                \"year\": int(year),\n",
    "                \"topic\": topic_code_to_name.get(topic, topic),\n",
    "                \"count\": int(count),\n",
    "            }\n",
    "            for topic, count in topics.items()\n",
    "        ),\n",
    "        key=lambda row: row[\"count\"],\n",
    "        reverse=True,\n",
    "    )\n",
    "    rows.extend(sorted_topics[:10])\n",
    "\n",
    "if not rows:\n",
    "    raise ValueError(\"No topic counts were found to plot.\")\n",
    "\n",
    "top_10_df = pd.DataFrame(rows)\n",
    "top_10_df.sort_values([\"year\", \"count\"], ascending=[True, False], inplace=True)\n",
    "\n",
    "fig_top10 = px.bar(\n",
    "    top_10_df,\n",
    "    x=\"count\",\n",
    "    y=\"topic\",\n",
    "    color=\"topic\",\n",
    "    orientation=\"h\",\n",
    "    animation_frame=\"year\",\n",
    "    range_x=[0, top_10_df[\"count\"].max()],\n",
    "    title=\"Top 10 Topic Counts per Year\",\n",
    ")\n",
    "fig_top10.update_layout(\n",
    "    xaxis_title=\"Occurrences\",\n",
    "    yaxis_title=\"Topic\",\n",
    "    showlegend=False,\n",
    ")\n",
    "fig_top10.update_yaxes(categoryorder=\"total ascending\")\n",
    "\n",
    "# if fig_top10.layout.updatemenus and fig_top10.layout.updatemenus[0].buttons:\n",
    "#     play_button = fig_top10.layout.updatemenus[0].buttons[0]\n",
    "#     if len(play_button.args) > 1:\n",
    "#         play_button.args[1].setdefault(\"frame\", {})[\"duration\"] = 2000\n",
    "#         play_button.args[1].setdefault(\"transition\", {})[\"duration\"] = 500\n",
    "#         play_button.args[1][\"mode\"] = \"immediate\"\n",
    "\n",
    "# if fig_top10.layout.sliders:\n",
    "#     slider = fig_top10.layout.sliders[0]\n",
    "#     slider.setdefault(\"transition\", {})[\"duration\"] = 500\n",
    "#     for step in slider.steps:\n",
    "#         if len(step.args) > 1:\n",
    "#             step.args[1].setdefault(\"frame\", {})[\"duration\"] = 2000\n",
    "#             step.args[1].setdefault(\"transition\", {})[\"duration\"] = 500\n",
    "\n",
    "# fig_top10.layout.updatemenus[0].buttons[0].args[1][\"frame\"][\"duration\"] = 2000\n",
    "\n",
    "fig_top10.show()\n"
   ]
  },
  {
   "cell_type": "code",
   "execution_count": 9,
   "id": "b61fa0aa",
   "metadata": {},
   "outputs": [
    {
     "ename": "RuntimeError",
     "evalue": "\n\nKaleido requires Google Chrome to be installed.\n\nEither download and install Chrome yourself following Google's instructions for your operating system,\nor install it from your terminal by running:\n\n    $ plotly_get_chrome\n\n",
     "output_type": "error",
     "traceback": [
      "\u001b[0;31m---------------------------------------------------------------------------\u001b[0m",
      "\u001b[0;31mChromeNotFoundError\u001b[0m                       Traceback (most recent call last)",
      "\u001b[0;31mChromeNotFoundError\u001b[0m: ",
      "\nThe above exception was the direct cause of the following exception:\n",
      "\u001b[0;31mChromeNotFoundError\u001b[0m                       Traceback (most recent call last)",
      "File \u001b[0;32m/app/venvs/lens/lib/python3.10/site-packages/plotly/io/_kaleido.py:398\u001b[0m, in \u001b[0;36mto_image\u001b[0;34m(fig, format, width, height, scale, validate, engine)\u001b[0m\n\u001b[1;32m    388\u001b[0m     height \u001b[38;5;241m=\u001b[39m (\n\u001b[1;32m    389\u001b[0m         height\n\u001b[1;32m    390\u001b[0m         \u001b[38;5;129;01mor\u001b[39;00m fig_dict\u001b[38;5;241m.\u001b[39mget(\u001b[38;5;124m\"\u001b[39m\u001b[38;5;124mlayout\u001b[39m\u001b[38;5;124m\"\u001b[39m, {})\u001b[38;5;241m.\u001b[39mget(\u001b[38;5;124m\"\u001b[39m\u001b[38;5;124mheight\u001b[39m\u001b[38;5;124m\"\u001b[39m)\n\u001b[0;32m   (...)\u001b[0m\n\u001b[1;32m    395\u001b[0m         \u001b[38;5;129;01mor\u001b[39;00m defaults\u001b[38;5;241m.\u001b[39mdefault_height\n\u001b[1;32m    396\u001b[0m     )\n\u001b[0;32m--> 398\u001b[0m     img_bytes \u001b[38;5;241m=\u001b[39m \u001b[43mkaleido\u001b[49m\u001b[38;5;241;43m.\u001b[39;49m\u001b[43mcalc_fig_sync\u001b[49m\u001b[43m(\u001b[49m\n\u001b[1;32m    399\u001b[0m \u001b[43m        \u001b[49m\u001b[43mfig_dict\u001b[49m\u001b[43m,\u001b[49m\n\u001b[1;32m    400\u001b[0m \u001b[43m        \u001b[49m\u001b[43mopts\u001b[49m\u001b[38;5;241;43m=\u001b[39;49m\u001b[38;5;28;43mdict\u001b[39;49m\u001b[43m(\u001b[49m\n\u001b[1;32m    401\u001b[0m \u001b[43m            \u001b[49m\u001b[38;5;28;43mformat\u001b[39;49m\u001b[38;5;241;43m=\u001b[39;49m\u001b[38;5;28;43mformat\u001b[39;49m\u001b[43m \u001b[49m\u001b[38;5;129;43;01mor\u001b[39;49;00m\u001b[43m \u001b[49m\u001b[43mdefaults\u001b[49m\u001b[38;5;241;43m.\u001b[39;49m\u001b[43mdefault_format\u001b[49m\u001b[43m,\u001b[49m\n\u001b[1;32m    402\u001b[0m \u001b[43m            \u001b[49m\u001b[43mwidth\u001b[49m\u001b[38;5;241;43m=\u001b[39;49m\u001b[43mwidth\u001b[49m\u001b[43m,\u001b[49m\n\u001b[1;32m    403\u001b[0m \u001b[43m            \u001b[49m\u001b[43mheight\u001b[49m\u001b[38;5;241;43m=\u001b[39;49m\u001b[43mheight\u001b[49m\u001b[43m,\u001b[49m\n\u001b[1;32m    404\u001b[0m \u001b[43m            \u001b[49m\u001b[43mscale\u001b[49m\u001b[38;5;241;43m=\u001b[39;49m\u001b[43mscale\u001b[49m\u001b[43m \u001b[49m\u001b[38;5;129;43;01mor\u001b[39;49;00m\u001b[43m \u001b[49m\u001b[43mdefaults\u001b[49m\u001b[38;5;241;43m.\u001b[39;49m\u001b[43mdefault_scale\u001b[49m\u001b[43m,\u001b[49m\n\u001b[1;32m    405\u001b[0m \u001b[43m        \u001b[49m\u001b[43m)\u001b[49m\u001b[43m,\u001b[49m\n\u001b[1;32m    406\u001b[0m \u001b[43m        \u001b[49m\u001b[43mtopojson\u001b[49m\u001b[38;5;241;43m=\u001b[39;49m\u001b[43mdefaults\u001b[49m\u001b[38;5;241;43m.\u001b[39;49m\u001b[43mtopojson\u001b[49m\u001b[43m,\u001b[49m\n\u001b[1;32m    407\u001b[0m \u001b[43m        \u001b[49m\u001b[43mkopts\u001b[49m\u001b[38;5;241;43m=\u001b[39;49m\u001b[43mkopts\u001b[49m\u001b[43m,\u001b[49m\n\u001b[1;32m    408\u001b[0m \u001b[43m    \u001b[49m\u001b[43m)\u001b[49m\n\u001b[1;32m    409\u001b[0m \u001b[38;5;28;01mexcept\u001b[39;00m ChromeNotFoundError:\n",
      "File \u001b[0;32m/app/venvs/lens/lib/python3.10/site-packages/kaleido/__init__.py:171\u001b[0m, in \u001b[0;36mcalc_fig_sync\u001b[0;34m(*args, **kwargs)\u001b[0m\n\u001b[1;32m    170\u001b[0m \u001b[38;5;28;01melse\u001b[39;00m:\n\u001b[0;32m--> 171\u001b[0m     \u001b[38;5;28;01mreturn\u001b[39;00m \u001b[43m_sync_server\u001b[49m\u001b[38;5;241;43m.\u001b[39;49m\u001b[43moneshot_async_run\u001b[49m\u001b[43m(\u001b[49m\u001b[43mcalc_fig\u001b[49m\u001b[43m,\u001b[49m\u001b[43m \u001b[49m\u001b[43margs\u001b[49m\u001b[38;5;241;43m=\u001b[39;49m\u001b[43margs\u001b[49m\u001b[43m,\u001b[49m\u001b[43m \u001b[49m\u001b[43mkwargs\u001b[49m\u001b[38;5;241;43m=\u001b[39;49m\u001b[43mkwargs\u001b[49m\u001b[43m)\u001b[49m\n",
      "File \u001b[0;32m/app/venvs/lens/lib/python3.10/site-packages/kaleido/_sync_server.py:131\u001b[0m, in \u001b[0;36moneshot_async_run\u001b[0;34m(func, args, kwargs)\u001b[0m\n\u001b[1;32m    130\u001b[0m \u001b[38;5;28;01mif\u001b[39;00m \u001b[38;5;28misinstance\u001b[39m(res, \u001b[38;5;167;01mBaseException\u001b[39;00m):\n\u001b[0;32m--> 131\u001b[0m     \u001b[38;5;28;01mraise\u001b[39;00m res\n\u001b[1;32m    132\u001b[0m \u001b[38;5;28;01melse\u001b[39;00m:\n",
      "File \u001b[0;32m/app/venvs/lens/lib/python3.10/site-packages/kaleido/_sync_server.py:122\u001b[0m, in \u001b[0;36moneshot_async_run.<locals>.run\u001b[0;34m(func, q, *args, **kwargs)\u001b[0m\n\u001b[1;32m    121\u001b[0m \u001b[38;5;28;01mtry\u001b[39;00m:\n\u001b[0;32m--> 122\u001b[0m     q\u001b[38;5;241m.\u001b[39mput(\u001b[43masyncio\u001b[49m\u001b[38;5;241;43m.\u001b[39;49m\u001b[43mrun\u001b[49m\u001b[43m(\u001b[49m\u001b[43mfunc\u001b[49m\u001b[43m(\u001b[49m\u001b[38;5;241;43m*\u001b[39;49m\u001b[43margs\u001b[49m\u001b[43m,\u001b[49m\u001b[43m \u001b[49m\u001b[38;5;241;43m*\u001b[39;49m\u001b[38;5;241;43m*\u001b[39;49m\u001b[43mkwargs\u001b[49m\u001b[43m)\u001b[49m\u001b[43m)\u001b[49m)\n\u001b[1;32m    123\u001b[0m \u001b[38;5;28;01mexcept\u001b[39;00m \u001b[38;5;167;01mBaseException\u001b[39;00m \u001b[38;5;28;01mas\u001b[39;00m e:  \u001b[38;5;66;03m# noqa: BLE001\u001b[39;00m\n",
      "File \u001b[0;32m/usr/lib/python3.10/asyncio/runners.py:44\u001b[0m, in \u001b[0;36mrun\u001b[0;34m(main, debug)\u001b[0m\n\u001b[1;32m     43\u001b[0m         loop\u001b[38;5;241m.\u001b[39mset_debug(debug)\n\u001b[0;32m---> 44\u001b[0m     \u001b[38;5;28;01mreturn\u001b[39;00m \u001b[43mloop\u001b[49m\u001b[38;5;241;43m.\u001b[39;49m\u001b[43mrun_until_complete\u001b[49m\u001b[43m(\u001b[49m\u001b[43mmain\u001b[49m\u001b[43m)\u001b[49m\n\u001b[1;32m     45\u001b[0m \u001b[38;5;28;01mfinally\u001b[39;00m:\n",
      "File \u001b[0;32m/usr/lib/python3.10/asyncio/base_events.py:649\u001b[0m, in \u001b[0;36mBaseEventLoop.run_until_complete\u001b[0;34m(self, future)\u001b[0m\n\u001b[1;32m    647\u001b[0m     \u001b[38;5;28;01mraise\u001b[39;00m \u001b[38;5;167;01mRuntimeError\u001b[39;00m(\u001b[38;5;124m'\u001b[39m\u001b[38;5;124mEvent loop stopped before Future completed.\u001b[39m\u001b[38;5;124m'\u001b[39m)\n\u001b[0;32m--> 649\u001b[0m \u001b[38;5;28;01mreturn\u001b[39;00m \u001b[43mfuture\u001b[49m\u001b[38;5;241;43m.\u001b[39;49m\u001b[43mresult\u001b[49m\u001b[43m(\u001b[49m\u001b[43m)\u001b[49m\n",
      "File \u001b[0;32m/app/venvs/lens/lib/python3.10/site-packages/kaleido/__init__.py:101\u001b[0m, in \u001b[0;36mcalc_fig\u001b[0;34m(fig, path, opts, topojson, kopts)\u001b[0m\n\u001b[1;32m    100\u001b[0m kopts[\u001b[38;5;124m\"\u001b[39m\u001b[38;5;124mn\u001b[39m\u001b[38;5;124m\"\u001b[39m] \u001b[38;5;241m=\u001b[39m \u001b[38;5;241m1\u001b[39m  \u001b[38;5;66;03m# should we force this?\u001b[39;00m\n\u001b[0;32m--> 101\u001b[0m \u001b[38;5;28;01masync\u001b[39;00m \u001b[38;5;28;01mwith\u001b[39;00m \u001b[43mKaleido\u001b[49m\u001b[43m(\u001b[49m\u001b[38;5;241;43m*\u001b[39;49m\u001b[38;5;241;43m*\u001b[39;49m\u001b[43mkopts\u001b[49m\u001b[43m)\u001b[49m \u001b[38;5;28;01mas\u001b[39;00m k:\n\u001b[1;32m    102\u001b[0m     \u001b[38;5;28;01mreturn\u001b[39;00m \u001b[38;5;28;01mawait\u001b[39;00m k\u001b[38;5;241m.\u001b[39mcalc_fig(\n\u001b[1;32m    103\u001b[0m         fig,\n\u001b[1;32m    104\u001b[0m         path\u001b[38;5;241m=\u001b[39mpath,\n\u001b[1;32m    105\u001b[0m         opts\u001b[38;5;241m=\u001b[39mopts,\n\u001b[1;32m    106\u001b[0m         topojson\u001b[38;5;241m=\u001b[39mtopojson,\n\u001b[1;32m    107\u001b[0m     )\n",
      "File \u001b[0;32m/app/venvs/lens/lib/python3.10/site-packages/kaleido/kaleido.py:155\u001b[0m, in \u001b[0;36mKaleido.__init__\u001b[0;34m(self, page_generator, n, timeout, width, height, stepper, plotlyjs, mathjax, *args, **kwargs)\u001b[0m\n\u001b[1;32m    154\u001b[0m \u001b[38;5;28;01mexcept\u001b[39;00m ChromeNotFoundError:\n\u001b[0;32m--> 155\u001b[0m     \u001b[38;5;28;01mraise\u001b[39;00m ChromeNotFoundError(\n\u001b[1;32m    156\u001b[0m         \u001b[38;5;124m\"\u001b[39m\u001b[38;5;124mKaleido v1 and later requires Chrome to be installed. \u001b[39m\u001b[38;5;124m\"\u001b[39m\n\u001b[1;32m    157\u001b[0m         \u001b[38;5;124m\"\u001b[39m\u001b[38;5;124mTo install Chrome, use the CLI command `kaleido_get_chrome`, \u001b[39m\u001b[38;5;124m\"\u001b[39m\n\u001b[1;32m    158\u001b[0m         \u001b[38;5;124m\"\u001b[39m\u001b[38;5;124mor from Python, use either `kaleido.get_chrome()` \u001b[39m\u001b[38;5;124m\"\u001b[39m\n\u001b[1;32m    159\u001b[0m         \u001b[38;5;124m\"\u001b[39m\u001b[38;5;124mor `kaleido.get_chrome_sync()`.\u001b[39m\u001b[38;5;124m\"\u001b[39m,\n\u001b[1;32m    160\u001b[0m     ) \u001b[38;5;28;01mfrom\u001b[39;00m\u001b[38;5;250m \u001b[39m\u001b[38;5;21;01mChromeNotFoundError\u001b[39;00m\n\u001b[1;32m    162\u001b[0m \u001b[38;5;66;03m# do this during open because it requires close\u001b[39;00m\n",
      "\u001b[0;31mChromeNotFoundError\u001b[0m: Kaleido v1 and later requires Chrome to be installed. To install Chrome, use the CLI command `kaleido_get_chrome`, or from Python, use either `kaleido.get_chrome()` or `kaleido.get_chrome_sync()`.",
      "\nDuring handling of the above exception, another exception occurred:\n",
      "\u001b[0;31mRuntimeError\u001b[0m                              Traceback (most recent call last)",
      "Cell \u001b[0;32mIn[9], line 4\u001b[0m\n\u001b[1;32m      1\u001b[0m export_path \u001b[38;5;241m=\u001b[39m base_dir \u001b[38;5;241m/\u001b[39m \u001b[38;5;124m\"\u001b[39m\u001b[38;5;124mVisualisations/top_10_topic_counts.gif\u001b[39m\u001b[38;5;124m\"\u001b[39m\n\u001b[1;32m      2\u001b[0m export_path\u001b[38;5;241m.\u001b[39mparent\u001b[38;5;241m.\u001b[39mmkdir(parents\u001b[38;5;241m=\u001b[39m\u001b[38;5;28;01mTrue\u001b[39;00m, exist_ok\u001b[38;5;241m=\u001b[39m\u001b[38;5;28;01mTrue\u001b[39;00m)\n\u001b[0;32m----> 4\u001b[0m initial_bytes \u001b[38;5;241m=\u001b[39m \u001b[43mfig_top10\u001b[49m\u001b[38;5;241;43m.\u001b[39;49m\u001b[43mto_image\u001b[49m\u001b[43m(\u001b[49m\u001b[38;5;28;43mformat\u001b[39;49m\u001b[38;5;241;43m=\u001b[39;49m\u001b[38;5;124;43m\"\u001b[39;49m\u001b[38;5;124;43mpng\u001b[39;49m\u001b[38;5;124;43m\"\u001b[39;49m\u001b[43m,\u001b[49m\u001b[43m \u001b[49m\u001b[43mscale\u001b[49m\u001b[38;5;241;43m=\u001b[39;49m\u001b[38;5;241;43m2\u001b[39;49m\u001b[43m)\u001b[49m\n\u001b[1;32m      5\u001b[0m gif_frames \u001b[38;5;241m=\u001b[39m [imageio\u001b[38;5;241m.\u001b[39mimread(BytesIO(initial_bytes))]\n\u001b[1;32m      7\u001b[0m \u001b[38;5;28;01mfor\u001b[39;00m frame \u001b[38;5;129;01min\u001b[39;00m fig_top10\u001b[38;5;241m.\u001b[39mframes:\n",
      "File \u001b[0;32m/app/venvs/lens/lib/python3.10/site-packages/plotly/basedatatypes.py:3801\u001b[0m, in \u001b[0;36mBaseFigure.to_image\u001b[0;34m(self, *args, **kwargs)\u001b[0m\n\u001b[1;32m   3796\u001b[0m     \u001b[38;5;28;01mif\u001b[39;00m kwargs\u001b[38;5;241m.\u001b[39mget(\u001b[38;5;124m\"\u001b[39m\u001b[38;5;124mengine\u001b[39m\u001b[38;5;124m\"\u001b[39m, \u001b[38;5;28;01mNone\u001b[39;00m):\n\u001b[1;32m   3797\u001b[0m         warnings\u001b[38;5;241m.\u001b[39mwarn(\n\u001b[1;32m   3798\u001b[0m             ENGINE_PARAM_DEPRECATION_MSG, \u001b[38;5;167;01mDeprecationWarning\u001b[39;00m, stacklevel\u001b[38;5;241m=\u001b[39m\u001b[38;5;241m2\u001b[39m\n\u001b[1;32m   3799\u001b[0m         )\n\u001b[0;32m-> 3801\u001b[0m \u001b[38;5;28;01mreturn\u001b[39;00m \u001b[43mpio\u001b[49m\u001b[38;5;241;43m.\u001b[39;49m\u001b[43mto_image\u001b[49m\u001b[43m(\u001b[49m\u001b[38;5;28;43mself\u001b[39;49m\u001b[43m,\u001b[49m\u001b[43m \u001b[49m\u001b[38;5;241;43m*\u001b[39;49m\u001b[43margs\u001b[49m\u001b[43m,\u001b[49m\u001b[43m \u001b[49m\u001b[38;5;241;43m*\u001b[39;49m\u001b[38;5;241;43m*\u001b[39;49m\u001b[43mkwargs\u001b[49m\u001b[43m)\u001b[49m\n",
      "File \u001b[0;32m/app/venvs/lens/lib/python3.10/site-packages/plotly/io/_kaleido.py:410\u001b[0m, in \u001b[0;36mto_image\u001b[0;34m(fig, format, width, height, scale, validate, engine)\u001b[0m\n\u001b[1;32m    398\u001b[0m         img_bytes \u001b[38;5;241m=\u001b[39m kaleido\u001b[38;5;241m.\u001b[39mcalc_fig_sync(\n\u001b[1;32m    399\u001b[0m             fig_dict,\n\u001b[1;32m    400\u001b[0m             opts\u001b[38;5;241m=\u001b[39m\u001b[38;5;28mdict\u001b[39m(\n\u001b[0;32m   (...)\u001b[0m\n\u001b[1;32m    407\u001b[0m             kopts\u001b[38;5;241m=\u001b[39mkopts,\n\u001b[1;32m    408\u001b[0m         )\n\u001b[1;32m    409\u001b[0m     \u001b[38;5;28;01mexcept\u001b[39;00m ChromeNotFoundError:\n\u001b[0;32m--> 410\u001b[0m         \u001b[38;5;28;01mraise\u001b[39;00m \u001b[38;5;167;01mRuntimeError\u001b[39;00m(PLOTLY_GET_CHROME_ERROR_MSG)\n\u001b[1;32m    412\u001b[0m \u001b[38;5;28;01melse\u001b[39;00m:\n\u001b[1;32m    413\u001b[0m     \u001b[38;5;66;03m# Kaleido v0\u001b[39;00m\n\u001b[1;32m    414\u001b[0m     \u001b[38;5;28;01mif\u001b[39;00m ENABLE_KALEIDO_V0_DEPRECATION_WARNINGS:\n",
      "\u001b[0;31mRuntimeError\u001b[0m: \n\nKaleido requires Google Chrome to be installed.\n\nEither download and install Chrome yourself following Google's instructions for your operating system,\nor install it from your terminal by running:\n\n    $ plotly_get_chrome\n\n"
     ]
    }
   ],
   "source": [
    "export_path = base_dir / \"Visualisations/top_10_topic_counts.gif\"\n",
    "export_path.parent.mkdir(parents=True, exist_ok=True)\n",
    "\n",
    "initial_bytes = fig_top10.to_image(format=\"png\", scale=2)\n",
    "gif_frames = [imageio.imread(BytesIO(initial_bytes))]\n",
    "\n",
    "for frame in fig_top10.frames:\n",
    "    fig_top10.update(data=frame.data, layout=frame.layout)\n",
    "    frame_bytes = fig_top10.to_image(format=\"png\", scale=2)\n",
    "    gif_frames.append(imageio.imread(BytesIO(frame_bytes)))\n",
    "\n",
    "imageio.mimsave(export_path, gif_frames, duration=2.0)"
   ]
  }
 ],
 "metadata": {
  "kernelspec": {
   "display_name": "lens",
   "language": "python",
   "name": "lens"
  }
 },
 "nbformat": 4,
 "nbformat_minor": 5
}
